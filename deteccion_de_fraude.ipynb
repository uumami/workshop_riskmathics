{
  "nbformat": 4,
  "nbformat_minor": 0,
  "metadata": {
    "colab": {
      "name": "deteccion_de_fraude.ipynb",
      "provenance": [],
      "collapsed_sections": [],
      "authorship_tag": "ABX9TyNksYoUxCw256FobfyJVCeD",
      "include_colab_link": true
    },
    "kernelspec": {
      "name": "python3",
      "display_name": "Python 3"
    },
    "language_info": {
      "name": "python"
    }
  },
  "cells": [
    {
      "cell_type": "markdown",
      "metadata": {
        "id": "view-in-github",
        "colab_type": "text"
      },
      "source": [
        "<a href=\"https://colab.research.google.com/github/uumami/workshop_riskmathics/blob/main/deteccion_de_fraude.ipynb\" target=\"_parent\"><img src=\"https://colab.research.google.com/assets/colab-badge.svg\" alt=\"Open In Colab\"/></a>"
      ]
    },
    {
      "cell_type": "markdown",
      "metadata": {
        "id": "c6_kljyhoaTB"
      },
      "source": [
        "# Deteccion de Fraude"
      ]
    },
    {
      "cell_type": "markdown",
      "metadata": {
        "id": "dJ3kn03tohI7"
      },
      "source": [
        "El objetivo de este proyecto es comparar varios modelos de clasificacion en la deteccion de fraude en transacciones."
      ]
    },
    {
      "cell_type": "markdown",
      "metadata": {
        "id": "HJCNic_6pQwu"
      },
      "source": [
        "# Definicion del Problema"
      ]
    },
    {
      "cell_type": "markdown",
      "metadata": {
        "id": "WQhfRVhTpSOs"
      },
      "source": [
        "Utilizaremos los datos de Kaggle: https://www.kaggle.com/mlg-ulb/creditcardfraud"
      ]
    },
    {
      "cell_type": "markdown",
      "metadata": {
        "id": "TelgQ-aFpdZv"
      },
      "source": [
        "Para nuestro proyecto definiremos con valor 1 ($y=1$) cuando la traduccion fue fraudulenta, y 0 ($y=0$) en otro caso.  \n",
        "\n",
        "LOs datos contienen transacciones de tarjetas de credito de Septiembre 2013, todas de peronas que viven en Europa. En total tenemos acceso a 2 dias de transacciones, donde hubo un total de 284k transacciones con 492 fraudes. Los fraudes solo representan el **.172%** del total de transacciones.  \n",
        "\n",
        "El task es predecir el fraude. La variable `Class` es nuestro target ($y$). Las variables ya han sido preprocesadas con PCA para mantener anonimato, por lo que es algo dificil de interpretarlas directamnte."
      ]
    },
    {
      "cell_type": "markdown",
      "metadata": {
        "id": "4evb8BTFtMQR"
      },
      "source": [
        "# Librerias"
      ]
    },
    {
      "cell_type": "code",
      "metadata": {
        "id": "3sfFNgLztOuW"
      },
      "source": [
        "# Load libraries\n",
        "import numpy as np\n",
        "import pandas as pd\n",
        "from matplotlib import pyplot\n",
        "from pandas import read_csv, set_option\n",
        "from pandas.plotting import scatter_matrix\n",
        "import seaborn as sns\n",
        "from sklearn.model_selection import train_test_split, KFold, cross_val_score, GridSearchCV\n",
        "from sklearn.linear_model import LogisticRegression\n",
        "from sklearn.linear_model import ElasticNet\n",
        "from sklearn.tree import DecisionTreeClassifier\n",
        "from sklearn.neighbors import KNeighborsClassifier\n",
        "from sklearn.discriminant_analysis import LinearDiscriminantAnalysis\n",
        "from sklearn.naive_bayes import GaussianNB\n",
        "from sklearn.svm import SVC\n",
        "from sklearn.neural_network import MLPClassifier\n",
        "from sklearn.pipeline import Pipeline\n",
        "from sklearn.ensemble import AdaBoostClassifier, GradientBoostingClassifier, RandomForestClassifier, ExtraTreesClassifier\n",
        "from sklearn.metrics import classification_report, confusion_matrix, accuracy_score\n",
        "\n",
        "#Libraries for Deep Learning Models\n",
        "from keras.models import Sequential\n",
        "from keras.layers import Dense\n",
        "from keras.wrappers.scikit_learn import KerasClassifier\n",
        "from keras.optimizers import SGD\n",
        "\n",
        "#Libraries for Saving the Model\n",
        "from pickle import dump\n",
        "from pickle import load"
      ],
      "execution_count": 1,
      "outputs": []
    },
    {
      "cell_type": "code",
      "metadata": {
        "id": "2fUNPhaTHGCM"
      },
      "source": [
        "import warnings\n",
        "warnings.filterwarnings('ignore')"
      ],
      "execution_count": 2,
      "outputs": []
    },
    {
      "cell_type": "markdown",
      "metadata": {
        "id": "xqcGrvWOtPKl"
      },
      "source": [
        "# ETL"
      ]
    },
    {
      "cell_type": "markdown",
      "metadata": {
        "id": "F1cirjritpsj"
      },
      "source": [
        "Carguemos la funcion de pandas\n",
        "[pd.read_csv](https://pandas.pydata.org/pandas-docs/stable/reference/api/pandas.read_csv.html)"
      ]
    },
    {
      "cell_type": "code",
      "metadata": {
        "id": "_NRoMs6HtQQy"
      },
      "source": [
        "df= read_csv('https://github.com/uumami/workshop_riskmathics/blob/main/creditcard.csv.zip?raw=true',\n",
        "              compression='zip')\n"
      ],
      "execution_count": 3,
      "outputs": []
    },
    {
      "cell_type": "markdown",
      "metadata": {
        "id": "_sFRI2uJtx6o"
      },
      "source": [
        " Veamos su dimension"
      ]
    },
    {
      "cell_type": "code",
      "metadata": {
        "colab": {
          "base_uri": "https://localhost:8080/"
        },
        "id": "3fKU5JnjtkXb",
        "outputId": "afa0a08c-3ce2-4cf7-f6b0-4c693b11b8ed"
      },
      "source": [
        "df.shape"
      ],
      "execution_count": 4,
      "outputs": [
        {
          "output_type": "execute_result",
          "data": {
            "text/plain": [
              "(284807, 31)"
            ]
          },
          "metadata": {
            "tags": []
          },
          "execution_count": 4
        }
      ]
    },
    {
      "cell_type": "markdown",
      "metadata": {
        "id": "w_0bZw2qt0Im"
      },
      "source": [
        "Veamos su informacion general"
      ]
    },
    {
      "cell_type": "code",
      "metadata": {
        "colab": {
          "base_uri": "https://localhost:8080/"
        },
        "id": "q7NIs1TIt4Zp",
        "outputId": "c10eb057-3fda-4316-9312-0d93e1c00bfd"
      },
      "source": [
        "df.info()"
      ],
      "execution_count": 5,
      "outputs": [
        {
          "output_type": "stream",
          "text": [
            "<class 'pandas.core.frame.DataFrame'>\n",
            "RangeIndex: 284807 entries, 0 to 284806\n",
            "Data columns (total 31 columns):\n",
            " #   Column  Non-Null Count   Dtype  \n",
            "---  ------  --------------   -----  \n",
            " 0   Time    284807 non-null  float64\n",
            " 1   V1      284807 non-null  float64\n",
            " 2   V2      284807 non-null  float64\n",
            " 3   V3      284807 non-null  float64\n",
            " 4   V4      284807 non-null  float64\n",
            " 5   V5      284807 non-null  float64\n",
            " 6   V6      284807 non-null  float64\n",
            " 7   V7      284807 non-null  float64\n",
            " 8   V8      284807 non-null  float64\n",
            " 9   V9      284807 non-null  float64\n",
            " 10  V10     284807 non-null  float64\n",
            " 11  V11     284807 non-null  float64\n",
            " 12  V12     284807 non-null  float64\n",
            " 13  V13     284807 non-null  float64\n",
            " 14  V14     284807 non-null  float64\n",
            " 15  V15     284807 non-null  float64\n",
            " 16  V16     284807 non-null  float64\n",
            " 17  V17     284807 non-null  float64\n",
            " 18  V18     284807 non-null  float64\n",
            " 19  V19     284807 non-null  float64\n",
            " 20  V20     284807 non-null  float64\n",
            " 21  V21     284807 non-null  float64\n",
            " 22  V22     284807 non-null  float64\n",
            " 23  V23     284807 non-null  float64\n",
            " 24  V24     284807 non-null  float64\n",
            " 25  V25     284807 non-null  float64\n",
            " 26  V26     284807 non-null  float64\n",
            " 27  V27     284807 non-null  float64\n",
            " 28  V28     284807 non-null  float64\n",
            " 29  Amount  284807 non-null  float64\n",
            " 30  Class   284807 non-null  int64  \n",
            "dtypes: float64(30), int64(1)\n",
            "memory usage: 67.4 MB\n"
          ],
          "name": "stdout"
        }
      ]
    },
    {
      "cell_type": "markdown",
      "metadata": {
        "id": "yYKl0IeluA9u"
      },
      "source": [
        "En este caso no tuvimos muchos problemas, pues la informacion ha sido pre-procesada previamente con PCA que es una tecnica de reduccion de dimensionalidad."
      ]
    },
    {
      "cell_type": "markdown",
      "metadata": {
        "id": "Y0EyF1LDuS3R"
      },
      "source": [
        "# Exploratory Data Analysis"
      ]
    },
    {
      "cell_type": "code",
      "metadata": {
        "colab": {
          "base_uri": "https://localhost:8080/",
          "height": 226
        },
        "id": "kPPCZps7vFxR",
        "outputId": "3ee84c01-3a2d-42c4-92cd-c7c532b28834"
      },
      "source": [
        "df.head()"
      ],
      "execution_count": 6,
      "outputs": [
        {
          "output_type": "execute_result",
          "data": {
            "text/html": [
              "<div>\n",
              "<style scoped>\n",
              "    .dataframe tbody tr th:only-of-type {\n",
              "        vertical-align: middle;\n",
              "    }\n",
              "\n",
              "    .dataframe tbody tr th {\n",
              "        vertical-align: top;\n",
              "    }\n",
              "\n",
              "    .dataframe thead th {\n",
              "        text-align: right;\n",
              "    }\n",
              "</style>\n",
              "<table border=\"1\" class=\"dataframe\">\n",
              "  <thead>\n",
              "    <tr style=\"text-align: right;\">\n",
              "      <th></th>\n",
              "      <th>Time</th>\n",
              "      <th>V1</th>\n",
              "      <th>V2</th>\n",
              "      <th>V3</th>\n",
              "      <th>V4</th>\n",
              "      <th>V5</th>\n",
              "      <th>V6</th>\n",
              "      <th>V7</th>\n",
              "      <th>V8</th>\n",
              "      <th>V9</th>\n",
              "      <th>V10</th>\n",
              "      <th>V11</th>\n",
              "      <th>V12</th>\n",
              "      <th>V13</th>\n",
              "      <th>V14</th>\n",
              "      <th>V15</th>\n",
              "      <th>V16</th>\n",
              "      <th>V17</th>\n",
              "      <th>V18</th>\n",
              "      <th>V19</th>\n",
              "      <th>V20</th>\n",
              "      <th>V21</th>\n",
              "      <th>V22</th>\n",
              "      <th>V23</th>\n",
              "      <th>V24</th>\n",
              "      <th>V25</th>\n",
              "      <th>V26</th>\n",
              "      <th>V27</th>\n",
              "      <th>V28</th>\n",
              "      <th>Amount</th>\n",
              "      <th>Class</th>\n",
              "    </tr>\n",
              "  </thead>\n",
              "  <tbody>\n",
              "    <tr>\n",
              "      <th>0</th>\n",
              "      <td>0.0</td>\n",
              "      <td>-1.359807</td>\n",
              "      <td>-0.072781</td>\n",
              "      <td>2.536347</td>\n",
              "      <td>1.378155</td>\n",
              "      <td>-0.338321</td>\n",
              "      <td>0.462388</td>\n",
              "      <td>0.239599</td>\n",
              "      <td>0.098698</td>\n",
              "      <td>0.363787</td>\n",
              "      <td>0.090794</td>\n",
              "      <td>-0.551600</td>\n",
              "      <td>-0.617801</td>\n",
              "      <td>-0.991390</td>\n",
              "      <td>-0.311169</td>\n",
              "      <td>1.468177</td>\n",
              "      <td>-0.470401</td>\n",
              "      <td>0.207971</td>\n",
              "      <td>0.025791</td>\n",
              "      <td>0.403993</td>\n",
              "      <td>0.251412</td>\n",
              "      <td>-0.018307</td>\n",
              "      <td>0.277838</td>\n",
              "      <td>-0.110474</td>\n",
              "      <td>0.066928</td>\n",
              "      <td>0.128539</td>\n",
              "      <td>-0.189115</td>\n",
              "      <td>0.133558</td>\n",
              "      <td>-0.021053</td>\n",
              "      <td>149.62</td>\n",
              "      <td>0</td>\n",
              "    </tr>\n",
              "    <tr>\n",
              "      <th>1</th>\n",
              "      <td>0.0</td>\n",
              "      <td>1.191857</td>\n",
              "      <td>0.266151</td>\n",
              "      <td>0.166480</td>\n",
              "      <td>0.448154</td>\n",
              "      <td>0.060018</td>\n",
              "      <td>-0.082361</td>\n",
              "      <td>-0.078803</td>\n",
              "      <td>0.085102</td>\n",
              "      <td>-0.255425</td>\n",
              "      <td>-0.166974</td>\n",
              "      <td>1.612727</td>\n",
              "      <td>1.065235</td>\n",
              "      <td>0.489095</td>\n",
              "      <td>-0.143772</td>\n",
              "      <td>0.635558</td>\n",
              "      <td>0.463917</td>\n",
              "      <td>-0.114805</td>\n",
              "      <td>-0.183361</td>\n",
              "      <td>-0.145783</td>\n",
              "      <td>-0.069083</td>\n",
              "      <td>-0.225775</td>\n",
              "      <td>-0.638672</td>\n",
              "      <td>0.101288</td>\n",
              "      <td>-0.339846</td>\n",
              "      <td>0.167170</td>\n",
              "      <td>0.125895</td>\n",
              "      <td>-0.008983</td>\n",
              "      <td>0.014724</td>\n",
              "      <td>2.69</td>\n",
              "      <td>0</td>\n",
              "    </tr>\n",
              "    <tr>\n",
              "      <th>2</th>\n",
              "      <td>1.0</td>\n",
              "      <td>-1.358354</td>\n",
              "      <td>-1.340163</td>\n",
              "      <td>1.773209</td>\n",
              "      <td>0.379780</td>\n",
              "      <td>-0.503198</td>\n",
              "      <td>1.800499</td>\n",
              "      <td>0.791461</td>\n",
              "      <td>0.247676</td>\n",
              "      <td>-1.514654</td>\n",
              "      <td>0.207643</td>\n",
              "      <td>0.624501</td>\n",
              "      <td>0.066084</td>\n",
              "      <td>0.717293</td>\n",
              "      <td>-0.165946</td>\n",
              "      <td>2.345865</td>\n",
              "      <td>-2.890083</td>\n",
              "      <td>1.109969</td>\n",
              "      <td>-0.121359</td>\n",
              "      <td>-2.261857</td>\n",
              "      <td>0.524980</td>\n",
              "      <td>0.247998</td>\n",
              "      <td>0.771679</td>\n",
              "      <td>0.909412</td>\n",
              "      <td>-0.689281</td>\n",
              "      <td>-0.327642</td>\n",
              "      <td>-0.139097</td>\n",
              "      <td>-0.055353</td>\n",
              "      <td>-0.059752</td>\n",
              "      <td>378.66</td>\n",
              "      <td>0</td>\n",
              "    </tr>\n",
              "    <tr>\n",
              "      <th>3</th>\n",
              "      <td>1.0</td>\n",
              "      <td>-0.966272</td>\n",
              "      <td>-0.185226</td>\n",
              "      <td>1.792993</td>\n",
              "      <td>-0.863291</td>\n",
              "      <td>-0.010309</td>\n",
              "      <td>1.247203</td>\n",
              "      <td>0.237609</td>\n",
              "      <td>0.377436</td>\n",
              "      <td>-1.387024</td>\n",
              "      <td>-0.054952</td>\n",
              "      <td>-0.226487</td>\n",
              "      <td>0.178228</td>\n",
              "      <td>0.507757</td>\n",
              "      <td>-0.287924</td>\n",
              "      <td>-0.631418</td>\n",
              "      <td>-1.059647</td>\n",
              "      <td>-0.684093</td>\n",
              "      <td>1.965775</td>\n",
              "      <td>-1.232622</td>\n",
              "      <td>-0.208038</td>\n",
              "      <td>-0.108300</td>\n",
              "      <td>0.005274</td>\n",
              "      <td>-0.190321</td>\n",
              "      <td>-1.175575</td>\n",
              "      <td>0.647376</td>\n",
              "      <td>-0.221929</td>\n",
              "      <td>0.062723</td>\n",
              "      <td>0.061458</td>\n",
              "      <td>123.50</td>\n",
              "      <td>0</td>\n",
              "    </tr>\n",
              "    <tr>\n",
              "      <th>4</th>\n",
              "      <td>2.0</td>\n",
              "      <td>-1.158233</td>\n",
              "      <td>0.877737</td>\n",
              "      <td>1.548718</td>\n",
              "      <td>0.403034</td>\n",
              "      <td>-0.407193</td>\n",
              "      <td>0.095921</td>\n",
              "      <td>0.592941</td>\n",
              "      <td>-0.270533</td>\n",
              "      <td>0.817739</td>\n",
              "      <td>0.753074</td>\n",
              "      <td>-0.822843</td>\n",
              "      <td>0.538196</td>\n",
              "      <td>1.345852</td>\n",
              "      <td>-1.119670</td>\n",
              "      <td>0.175121</td>\n",
              "      <td>-0.451449</td>\n",
              "      <td>-0.237033</td>\n",
              "      <td>-0.038195</td>\n",
              "      <td>0.803487</td>\n",
              "      <td>0.408542</td>\n",
              "      <td>-0.009431</td>\n",
              "      <td>0.798278</td>\n",
              "      <td>-0.137458</td>\n",
              "      <td>0.141267</td>\n",
              "      <td>-0.206010</td>\n",
              "      <td>0.502292</td>\n",
              "      <td>0.219422</td>\n",
              "      <td>0.215153</td>\n",
              "      <td>69.99</td>\n",
              "      <td>0</td>\n",
              "    </tr>\n",
              "  </tbody>\n",
              "</table>\n",
              "</div>"
            ],
            "text/plain": [
              "   Time        V1        V2        V3  ...       V27       V28  Amount  Class\n",
              "0   0.0 -1.359807 -0.072781  2.536347  ...  0.133558 -0.021053  149.62      0\n",
              "1   0.0  1.191857  0.266151  0.166480  ... -0.008983  0.014724    2.69      0\n",
              "2   1.0 -1.358354 -1.340163  1.773209  ... -0.055353 -0.059752  378.66      0\n",
              "3   1.0 -0.966272 -0.185226  1.792993  ...  0.062723  0.061458  123.50      0\n",
              "4   2.0 -1.158233  0.877737  1.548718  ...  0.219422  0.215153   69.99      0\n",
              "\n",
              "[5 rows x 31 columns]"
            ]
          },
          "metadata": {
            "tags": []
          },
          "execution_count": 6
        }
      ]
    },
    {
      "cell_type": "code",
      "metadata": {
        "colab": {
          "base_uri": "https://localhost:8080/",
          "height": 320
        },
        "id": "HvaRODHPuTo4",
        "outputId": "70547a3e-609e-4151-e7f7-9910746b0f78"
      },
      "source": [
        "df.describe()"
      ],
      "execution_count": 7,
      "outputs": [
        {
          "output_type": "execute_result",
          "data": {
            "text/html": [
              "<div>\n",
              "<style scoped>\n",
              "    .dataframe tbody tr th:only-of-type {\n",
              "        vertical-align: middle;\n",
              "    }\n",
              "\n",
              "    .dataframe tbody tr th {\n",
              "        vertical-align: top;\n",
              "    }\n",
              "\n",
              "    .dataframe thead th {\n",
              "        text-align: right;\n",
              "    }\n",
              "</style>\n",
              "<table border=\"1\" class=\"dataframe\">\n",
              "  <thead>\n",
              "    <tr style=\"text-align: right;\">\n",
              "      <th></th>\n",
              "      <th>Time</th>\n",
              "      <th>V1</th>\n",
              "      <th>V2</th>\n",
              "      <th>V3</th>\n",
              "      <th>V4</th>\n",
              "      <th>V5</th>\n",
              "      <th>V6</th>\n",
              "      <th>V7</th>\n",
              "      <th>V8</th>\n",
              "      <th>V9</th>\n",
              "      <th>V10</th>\n",
              "      <th>V11</th>\n",
              "      <th>V12</th>\n",
              "      <th>V13</th>\n",
              "      <th>V14</th>\n",
              "      <th>V15</th>\n",
              "      <th>V16</th>\n",
              "      <th>V17</th>\n",
              "      <th>V18</th>\n",
              "      <th>V19</th>\n",
              "      <th>V20</th>\n",
              "      <th>V21</th>\n",
              "      <th>V22</th>\n",
              "      <th>V23</th>\n",
              "      <th>V24</th>\n",
              "      <th>V25</th>\n",
              "      <th>V26</th>\n",
              "      <th>V27</th>\n",
              "      <th>V28</th>\n",
              "      <th>Amount</th>\n",
              "      <th>Class</th>\n",
              "    </tr>\n",
              "  </thead>\n",
              "  <tbody>\n",
              "    <tr>\n",
              "      <th>count</th>\n",
              "      <td>284807.000000</td>\n",
              "      <td>2.848070e+05</td>\n",
              "      <td>2.848070e+05</td>\n",
              "      <td>2.848070e+05</td>\n",
              "      <td>2.848070e+05</td>\n",
              "      <td>2.848070e+05</td>\n",
              "      <td>2.848070e+05</td>\n",
              "      <td>2.848070e+05</td>\n",
              "      <td>2.848070e+05</td>\n",
              "      <td>2.848070e+05</td>\n",
              "      <td>2.848070e+05</td>\n",
              "      <td>2.848070e+05</td>\n",
              "      <td>2.848070e+05</td>\n",
              "      <td>2.848070e+05</td>\n",
              "      <td>2.848070e+05</td>\n",
              "      <td>2.848070e+05</td>\n",
              "      <td>2.848070e+05</td>\n",
              "      <td>2.848070e+05</td>\n",
              "      <td>2.848070e+05</td>\n",
              "      <td>2.848070e+05</td>\n",
              "      <td>2.848070e+05</td>\n",
              "      <td>2.848070e+05</td>\n",
              "      <td>2.848070e+05</td>\n",
              "      <td>2.848070e+05</td>\n",
              "      <td>2.848070e+05</td>\n",
              "      <td>2.848070e+05</td>\n",
              "      <td>2.848070e+05</td>\n",
              "      <td>2.848070e+05</td>\n",
              "      <td>2.848070e+05</td>\n",
              "      <td>284807.000000</td>\n",
              "      <td>284807.000000</td>\n",
              "    </tr>\n",
              "    <tr>\n",
              "      <th>mean</th>\n",
              "      <td>94813.859575</td>\n",
              "      <td>3.919560e-15</td>\n",
              "      <td>5.688174e-16</td>\n",
              "      <td>-8.769071e-15</td>\n",
              "      <td>2.782312e-15</td>\n",
              "      <td>-1.552563e-15</td>\n",
              "      <td>2.010663e-15</td>\n",
              "      <td>-1.694249e-15</td>\n",
              "      <td>-1.927028e-16</td>\n",
              "      <td>-3.137024e-15</td>\n",
              "      <td>1.768627e-15</td>\n",
              "      <td>9.170318e-16</td>\n",
              "      <td>-1.810658e-15</td>\n",
              "      <td>1.693438e-15</td>\n",
              "      <td>1.479045e-15</td>\n",
              "      <td>3.482336e-15</td>\n",
              "      <td>1.392007e-15</td>\n",
              "      <td>-7.528491e-16</td>\n",
              "      <td>4.328772e-16</td>\n",
              "      <td>9.049732e-16</td>\n",
              "      <td>5.085503e-16</td>\n",
              "      <td>1.537294e-16</td>\n",
              "      <td>7.959909e-16</td>\n",
              "      <td>5.367590e-16</td>\n",
              "      <td>4.458112e-15</td>\n",
              "      <td>1.453003e-15</td>\n",
              "      <td>1.699104e-15</td>\n",
              "      <td>-3.660161e-16</td>\n",
              "      <td>-1.206049e-16</td>\n",
              "      <td>88.349619</td>\n",
              "      <td>0.001727</td>\n",
              "    </tr>\n",
              "    <tr>\n",
              "      <th>std</th>\n",
              "      <td>47488.145955</td>\n",
              "      <td>1.958696e+00</td>\n",
              "      <td>1.651309e+00</td>\n",
              "      <td>1.516255e+00</td>\n",
              "      <td>1.415869e+00</td>\n",
              "      <td>1.380247e+00</td>\n",
              "      <td>1.332271e+00</td>\n",
              "      <td>1.237094e+00</td>\n",
              "      <td>1.194353e+00</td>\n",
              "      <td>1.098632e+00</td>\n",
              "      <td>1.088850e+00</td>\n",
              "      <td>1.020713e+00</td>\n",
              "      <td>9.992014e-01</td>\n",
              "      <td>9.952742e-01</td>\n",
              "      <td>9.585956e-01</td>\n",
              "      <td>9.153160e-01</td>\n",
              "      <td>8.762529e-01</td>\n",
              "      <td>8.493371e-01</td>\n",
              "      <td>8.381762e-01</td>\n",
              "      <td>8.140405e-01</td>\n",
              "      <td>7.709250e-01</td>\n",
              "      <td>7.345240e-01</td>\n",
              "      <td>7.257016e-01</td>\n",
              "      <td>6.244603e-01</td>\n",
              "      <td>6.056471e-01</td>\n",
              "      <td>5.212781e-01</td>\n",
              "      <td>4.822270e-01</td>\n",
              "      <td>4.036325e-01</td>\n",
              "      <td>3.300833e-01</td>\n",
              "      <td>250.120109</td>\n",
              "      <td>0.041527</td>\n",
              "    </tr>\n",
              "    <tr>\n",
              "      <th>min</th>\n",
              "      <td>0.000000</td>\n",
              "      <td>-5.640751e+01</td>\n",
              "      <td>-7.271573e+01</td>\n",
              "      <td>-4.832559e+01</td>\n",
              "      <td>-5.683171e+00</td>\n",
              "      <td>-1.137433e+02</td>\n",
              "      <td>-2.616051e+01</td>\n",
              "      <td>-4.355724e+01</td>\n",
              "      <td>-7.321672e+01</td>\n",
              "      <td>-1.343407e+01</td>\n",
              "      <td>-2.458826e+01</td>\n",
              "      <td>-4.797473e+00</td>\n",
              "      <td>-1.868371e+01</td>\n",
              "      <td>-5.791881e+00</td>\n",
              "      <td>-1.921433e+01</td>\n",
              "      <td>-4.498945e+00</td>\n",
              "      <td>-1.412985e+01</td>\n",
              "      <td>-2.516280e+01</td>\n",
              "      <td>-9.498746e+00</td>\n",
              "      <td>-7.213527e+00</td>\n",
              "      <td>-5.449772e+01</td>\n",
              "      <td>-3.483038e+01</td>\n",
              "      <td>-1.093314e+01</td>\n",
              "      <td>-4.480774e+01</td>\n",
              "      <td>-2.836627e+00</td>\n",
              "      <td>-1.029540e+01</td>\n",
              "      <td>-2.604551e+00</td>\n",
              "      <td>-2.256568e+01</td>\n",
              "      <td>-1.543008e+01</td>\n",
              "      <td>0.000000</td>\n",
              "      <td>0.000000</td>\n",
              "    </tr>\n",
              "    <tr>\n",
              "      <th>25%</th>\n",
              "      <td>54201.500000</td>\n",
              "      <td>-9.203734e-01</td>\n",
              "      <td>-5.985499e-01</td>\n",
              "      <td>-8.903648e-01</td>\n",
              "      <td>-8.486401e-01</td>\n",
              "      <td>-6.915971e-01</td>\n",
              "      <td>-7.682956e-01</td>\n",
              "      <td>-5.540759e-01</td>\n",
              "      <td>-2.086297e-01</td>\n",
              "      <td>-6.430976e-01</td>\n",
              "      <td>-5.354257e-01</td>\n",
              "      <td>-7.624942e-01</td>\n",
              "      <td>-4.055715e-01</td>\n",
              "      <td>-6.485393e-01</td>\n",
              "      <td>-4.255740e-01</td>\n",
              "      <td>-5.828843e-01</td>\n",
              "      <td>-4.680368e-01</td>\n",
              "      <td>-4.837483e-01</td>\n",
              "      <td>-4.988498e-01</td>\n",
              "      <td>-4.562989e-01</td>\n",
              "      <td>-2.117214e-01</td>\n",
              "      <td>-2.283949e-01</td>\n",
              "      <td>-5.423504e-01</td>\n",
              "      <td>-1.618463e-01</td>\n",
              "      <td>-3.545861e-01</td>\n",
              "      <td>-3.171451e-01</td>\n",
              "      <td>-3.269839e-01</td>\n",
              "      <td>-7.083953e-02</td>\n",
              "      <td>-5.295979e-02</td>\n",
              "      <td>5.600000</td>\n",
              "      <td>0.000000</td>\n",
              "    </tr>\n",
              "    <tr>\n",
              "      <th>50%</th>\n",
              "      <td>84692.000000</td>\n",
              "      <td>1.810880e-02</td>\n",
              "      <td>6.548556e-02</td>\n",
              "      <td>1.798463e-01</td>\n",
              "      <td>-1.984653e-02</td>\n",
              "      <td>-5.433583e-02</td>\n",
              "      <td>-2.741871e-01</td>\n",
              "      <td>4.010308e-02</td>\n",
              "      <td>2.235804e-02</td>\n",
              "      <td>-5.142873e-02</td>\n",
              "      <td>-9.291738e-02</td>\n",
              "      <td>-3.275735e-02</td>\n",
              "      <td>1.400326e-01</td>\n",
              "      <td>-1.356806e-02</td>\n",
              "      <td>5.060132e-02</td>\n",
              "      <td>4.807155e-02</td>\n",
              "      <td>6.641332e-02</td>\n",
              "      <td>-6.567575e-02</td>\n",
              "      <td>-3.636312e-03</td>\n",
              "      <td>3.734823e-03</td>\n",
              "      <td>-6.248109e-02</td>\n",
              "      <td>-2.945017e-02</td>\n",
              "      <td>6.781943e-03</td>\n",
              "      <td>-1.119293e-02</td>\n",
              "      <td>4.097606e-02</td>\n",
              "      <td>1.659350e-02</td>\n",
              "      <td>-5.213911e-02</td>\n",
              "      <td>1.342146e-03</td>\n",
              "      <td>1.124383e-02</td>\n",
              "      <td>22.000000</td>\n",
              "      <td>0.000000</td>\n",
              "    </tr>\n",
              "    <tr>\n",
              "      <th>75%</th>\n",
              "      <td>139320.500000</td>\n",
              "      <td>1.315642e+00</td>\n",
              "      <td>8.037239e-01</td>\n",
              "      <td>1.027196e+00</td>\n",
              "      <td>7.433413e-01</td>\n",
              "      <td>6.119264e-01</td>\n",
              "      <td>3.985649e-01</td>\n",
              "      <td>5.704361e-01</td>\n",
              "      <td>3.273459e-01</td>\n",
              "      <td>5.971390e-01</td>\n",
              "      <td>4.539234e-01</td>\n",
              "      <td>7.395934e-01</td>\n",
              "      <td>6.182380e-01</td>\n",
              "      <td>6.625050e-01</td>\n",
              "      <td>4.931498e-01</td>\n",
              "      <td>6.488208e-01</td>\n",
              "      <td>5.232963e-01</td>\n",
              "      <td>3.996750e-01</td>\n",
              "      <td>5.008067e-01</td>\n",
              "      <td>4.589494e-01</td>\n",
              "      <td>1.330408e-01</td>\n",
              "      <td>1.863772e-01</td>\n",
              "      <td>5.285536e-01</td>\n",
              "      <td>1.476421e-01</td>\n",
              "      <td>4.395266e-01</td>\n",
              "      <td>3.507156e-01</td>\n",
              "      <td>2.409522e-01</td>\n",
              "      <td>9.104512e-02</td>\n",
              "      <td>7.827995e-02</td>\n",
              "      <td>77.165000</td>\n",
              "      <td>0.000000</td>\n",
              "    </tr>\n",
              "    <tr>\n",
              "      <th>max</th>\n",
              "      <td>172792.000000</td>\n",
              "      <td>2.454930e+00</td>\n",
              "      <td>2.205773e+01</td>\n",
              "      <td>9.382558e+00</td>\n",
              "      <td>1.687534e+01</td>\n",
              "      <td>3.480167e+01</td>\n",
              "      <td>7.330163e+01</td>\n",
              "      <td>1.205895e+02</td>\n",
              "      <td>2.000721e+01</td>\n",
              "      <td>1.559499e+01</td>\n",
              "      <td>2.374514e+01</td>\n",
              "      <td>1.201891e+01</td>\n",
              "      <td>7.848392e+00</td>\n",
              "      <td>7.126883e+00</td>\n",
              "      <td>1.052677e+01</td>\n",
              "      <td>8.877742e+00</td>\n",
              "      <td>1.731511e+01</td>\n",
              "      <td>9.253526e+00</td>\n",
              "      <td>5.041069e+00</td>\n",
              "      <td>5.591971e+00</td>\n",
              "      <td>3.942090e+01</td>\n",
              "      <td>2.720284e+01</td>\n",
              "      <td>1.050309e+01</td>\n",
              "      <td>2.252841e+01</td>\n",
              "      <td>4.584549e+00</td>\n",
              "      <td>7.519589e+00</td>\n",
              "      <td>3.517346e+00</td>\n",
              "      <td>3.161220e+01</td>\n",
              "      <td>3.384781e+01</td>\n",
              "      <td>25691.160000</td>\n",
              "      <td>1.000000</td>\n",
              "    </tr>\n",
              "  </tbody>\n",
              "</table>\n",
              "</div>"
            ],
            "text/plain": [
              "                Time            V1  ...         Amount          Class\n",
              "count  284807.000000  2.848070e+05  ...  284807.000000  284807.000000\n",
              "mean    94813.859575  3.919560e-15  ...      88.349619       0.001727\n",
              "std     47488.145955  1.958696e+00  ...     250.120109       0.041527\n",
              "min         0.000000 -5.640751e+01  ...       0.000000       0.000000\n",
              "25%     54201.500000 -9.203734e-01  ...       5.600000       0.000000\n",
              "50%     84692.000000  1.810880e-02  ...      22.000000       0.000000\n",
              "75%    139320.500000  1.315642e+00  ...      77.165000       0.000000\n",
              "max    172792.000000  2.454930e+00  ...   25691.160000       1.000000\n",
              "\n",
              "[8 rows x 31 columns]"
            ]
          },
          "metadata": {
            "tags": []
          },
          "execution_count": 7
        }
      ]
    },
    {
      "cell_type": "markdown",
      "metadata": {
        "id": "Y4PEjw6Euh2-"
      },
      "source": [
        "**Balanceo de Y**"
      ]
    },
    {
      "cell_type": "code",
      "metadata": {
        "colab": {
          "base_uri": "https://localhost:8080/"
        },
        "id": "IlBzUaTvunHg",
        "outputId": "1a0fb960-ed38-40e1-fa21-37e1e640e683"
      },
      "source": [
        "class_names = {0:'Not Fraud', 1:'Fraud'}\n",
        "print(df.Class.value_counts().rename(index = class_names))"
      ],
      "execution_count": 8,
      "outputs": [
        {
          "output_type": "stream",
          "text": [
            "Not Fraud    284315\n",
            "Fraud           492\n",
            "Name: Class, dtype: int64\n"
          ],
          "name": "stdout"
        }
      ]
    },
    {
      "cell_type": "markdown",
      "metadata": {
        "id": "BUSDGddRuwI6"
      },
      "source": [
        "Podemos observar como nuestras clases estan extremadamente desbalanceadas, la mayoria no son fraude."
      ]
    },
    {
      "cell_type": "markdown",
      "metadata": {
        "id": "XlcjeWPju2vV"
      },
      "source": [
        "## Descripciones Visuales y Graficas"
      ]
    },
    {
      "cell_type": "code",
      "metadata": {
        "colab": {
          "base_uri": "https://localhost:8080/",
          "height": 707
        },
        "id": "rVzrsrB7u7d3",
        "outputId": "035a1a34-9280-4b0b-bd5b-ecb036a70474"
      },
      "source": [
        "# histograms\n",
        "df.hist(sharex=False, sharey=False, xlabelsize=1, ylabelsize=1, figsize=(12,12))\n",
        "pyplot.show()"
      ],
      "execution_count": 9,
      "outputs": [
        {
          "output_type": "display_data",
          "data": {
            "image/png": "[encoded data removed]",
            "text/plain": [
              "<Figure size 864x864 with 36 Axes>"
            ]
          },
          "metadata": {
            "tags": [],
            "needs_background": "light"
          }
        }
      ]
    },
    {
      "cell_type": "markdown",
      "metadata": {
        "id": "eMninTipvK5Q"
      },
      "source": [
        "Podemos observar que la distribucion de los datos esta sesgada. Pero, dado que no conocemos el significado de cada variable, es dificil tener una interpretacion."
      ]
    },
    {
      "cell_type": "code",
      "metadata": {
        "colab": {
          "base_uri": "https://localhost:8080/",
          "height": 300
        },
        "id": "uYc93CEavXom",
        "outputId": "cc4a5954-f0bc-4016-ae18-98384d9cd402"
      },
      "source": [
        "df[['Time', 'Amount']].describe()"
      ],
      "execution_count": 10,
      "outputs": [
        {
          "output_type": "execute_result",
          "data": {
            "text/html": [
              "<div>\n",
              "<style scoped>\n",
              "    .dataframe tbody tr th:only-of-type {\n",
              "        vertical-align: middle;\n",
              "    }\n",
              "\n",
              "    .dataframe tbody tr th {\n",
              "        vertical-align: top;\n",
              "    }\n",
              "\n",
              "    .dataframe thead th {\n",
              "        text-align: right;\n",
              "    }\n",
              "</style>\n",
              "<table border=\"1\" class=\"dataframe\">\n",
              "  <thead>\n",
              "    <tr style=\"text-align: right;\">\n",
              "      <th></th>\n",
              "      <th>Time</th>\n",
              "      <th>Amount</th>\n",
              "    </tr>\n",
              "  </thead>\n",
              "  <tbody>\n",
              "    <tr>\n",
              "      <th>count</th>\n",
              "      <td>284807.000000</td>\n",
              "      <td>284807.000000</td>\n",
              "    </tr>\n",
              "    <tr>\n",
              "      <th>mean</th>\n",
              "      <td>94813.859575</td>\n",
              "      <td>88.349619</td>\n",
              "    </tr>\n",
              "    <tr>\n",
              "      <th>std</th>\n",
              "      <td>47488.145955</td>\n",
              "      <td>250.120109</td>\n",
              "    </tr>\n",
              "    <tr>\n",
              "      <th>min</th>\n",
              "      <td>0.000000</td>\n",
              "      <td>0.000000</td>\n",
              "    </tr>\n",
              "    <tr>\n",
              "      <th>25%</th>\n",
              "      <td>54201.500000</td>\n",
              "      <td>5.600000</td>\n",
              "    </tr>\n",
              "    <tr>\n",
              "      <th>50%</th>\n",
              "      <td>84692.000000</td>\n",
              "      <td>22.000000</td>\n",
              "    </tr>\n",
              "    <tr>\n",
              "      <th>75%</th>\n",
              "      <td>139320.500000</td>\n",
              "      <td>77.165000</td>\n",
              "    </tr>\n",
              "    <tr>\n",
              "      <th>max</th>\n",
              "      <td>172792.000000</td>\n",
              "      <td>25691.160000</td>\n",
              "    </tr>\n",
              "  </tbody>\n",
              "</table>\n",
              "</div>"
            ],
            "text/plain": [
              "                Time         Amount\n",
              "count  284807.000000  284807.000000\n",
              "mean    94813.859575      88.349619\n",
              "std     47488.145955     250.120109\n",
              "min         0.000000       0.000000\n",
              "25%     54201.500000       5.600000\n",
              "50%     84692.000000      22.000000\n",
              "75%    139320.500000      77.165000\n",
              "max    172792.000000   25691.160000"
            ]
          },
          "metadata": {
            "tags": []
          },
          "execution_count": 10
        }
      ]
    },
    {
      "cell_type": "markdown",
      "metadata": {
        "id": "NMqxRyWawzGS"
      },
      "source": [
        "La variable de `Time` parece ser altamente variable y tomar valores muy grandes.  \n",
        "La variable `Amount` parece comportarse mejor y no variar tanto, aunque parece tener valores extremos. Observemos el percentil 75 y el max."
      ]
    },
    {
      "cell_type": "code",
      "metadata": {
        "colab": {
          "base_uri": "https://localhost:8080/",
          "height": 298
        },
        "id": "WWmdxhKkvp9G",
        "outputId": "1b6d8256-7221-4d14-e807-f11b71923f8c"
      },
      "source": [
        "sns.histplot(x=df['Time'])"
      ],
      "execution_count": 11,
      "outputs": [
        {
          "output_type": "execute_result",
          "data": {
            "text/plain": [
              "<matplotlib.axes._subplots.AxesSubplot at 0x7f43e2fc3e50>"
            ]
          },
          "metadata": {
            "tags": []
          },
          "execution_count": 11
        },
        {
          "output_type": "display_data",
          "data": {
            "image/png": "[encoded data removed]",
            "text/plain": [
              "<Figure size 432x288 with 1 Axes>"
            ]
          },
          "metadata": {
            "tags": [],
            "needs_background": "light"
          }
        }
      ]
    },
    {
      "cell_type": "code",
      "metadata": {
        "colab": {
          "base_uri": "https://localhost:8080/"
        },
        "id": "Zi39YAOhxmFr",
        "outputId": "687db8f1-b5fc-441e-e815-94ef3c8fd40d"
      },
      "source": [
        "df['Time'].unique().shape"
      ],
      "execution_count": 12,
      "outputs": [
        {
          "output_type": "execute_result",
          "data": {
            "text/plain": [
              "(124592,)"
            ]
          },
          "metadata": {
            "tags": []
          },
          "execution_count": 12
        }
      ]
    },
    {
      "cell_type": "markdown",
      "metadata": {
        "id": "8OiLMis8wOZv"
      },
      "source": [
        "La variable `Time` contiene los segundos que pasaron entre la transaccion actual, y la primera transaccion del set de datos."
      ]
    },
    {
      "cell_type": "code",
      "metadata": {
        "colab": {
          "base_uri": "https://localhost:8080/",
          "height": 386
        },
        "id": "HnlUJsCkwkQi",
        "outputId": "5d73869a-189e-4bde-8960-f97162b9c393"
      },
      "source": [
        "sns.displot(x=(np.power(df['Amount'], .25)))"
      ],
      "execution_count": 13,
      "outputs": [
        {
          "output_type": "execute_result",
          "data": {
            "text/plain": [
              "<seaborn.axisgrid.FacetGrid at 0x7f43e15900d0>"
            ]
          },
          "metadata": {
            "tags": []
          },
          "execution_count": 13
        },
        {
          "output_type": "display_data",
          "data": {
            "image/png": "[encoded data removed]",
            "text/plain": [
              "<Figure size 360x360 with 1 Axes>"
            ]
          },
          "metadata": {
            "tags": [],
            "needs_background": "light"
          }
        }
      ]
    },
    {
      "cell_type": "markdown",
      "metadata": {
        "id": "Zm4U5IxOx7bv"
      },
      "source": [
        "## Preparacion de Datos"
      ]
    },
    {
      "cell_type": "code",
      "metadata": {
        "colab": {
          "base_uri": "https://localhost:8080/"
        },
        "id": "dwzDQhucx9kf",
        "outputId": "6ce08751-67c9-4578-dc0a-1e467136e7c0"
      },
      "source": [
        "print('Null Values =',df.isnull().values.any())"
      ],
      "execution_count": 14,
      "outputs": [
        {
          "output_type": "stream",
          "text": [
            "Null Values = False\n"
          ],
          "name": "stdout"
        }
      ]
    },
    {
      "cell_type": "markdown",
      "metadata": {
        "id": "7rqHt7dGyCnu"
      },
      "source": [
        "Por suerte no hay valores nulos en los datos!"
      ]
    },
    {
      "cell_type": "markdown",
      "metadata": {
        "id": "A4RIducO0wxg"
      },
      "source": [
        "# Split de datos"
      ]
    },
    {
      "cell_type": "code",
      "metadata": {
        "colab": {
          "base_uri": "https://localhost:8080/"
        },
        "id": "cyRIcH2s0yNn",
        "outputId": "87d93639-70a2-4ef3-f9bf-73b32791dbb6"
      },
      "source": [
        "Y= df[\"Class\"]\n",
        "X = df.loc[:, df.columns != 'Class']\n",
        "test_size = 0.25\n",
        "seed = 7\n",
        "X_train, X_test, Y_train, Y_test = train_test_split(\n",
        "    X, Y, test_size=test_size, random_state=seed)\n",
        "\n",
        "print(f'Numero de fraudes en test: {Y_test.value_counts()}')\n",
        "print(f'Numero de fraudes en train: {Y_train.value_counts()}')"
      ],
      "execution_count": 15,
      "outputs": [
        {
          "output_type": "stream",
          "text": [
            "Numero de fraudes en test: 0    71076\n",
            "1      126\n",
            "Name: Class, dtype: int64\n",
            "Numero de fraudes en train: 0    213239\n",
            "1       366\n",
            "Name: Class, dtype: int64\n"
          ],
          "name": "stdout"
        }
      ]
    },
    {
      "cell_type": "markdown",
      "metadata": {
        "id": "LAzjrt1O1sgP"
      },
      "source": [
        "Parece que los datos de fraude $y=1$ estan balanceados entre train y test.   \n",
        "Sin embargo el total de datos esta desbalanceado. Por ahora, ignoraremos esto, y probaremos varios modelos. Despues ataqueremos este problema directamente, y compararemos resultados."
      ]
    },
    {
      "cell_type": "markdown",
      "metadata": {
        "id": "rrv0tLhwyFxY"
      },
      "source": [
        "# Seleccion de Variables"
      ]
    },
    {
      "cell_type": "markdown",
      "metadata": {
        "id": "BCZMY2Ct77u7"
      },
      "source": [
        "Notebook de seleccion de variables: https://github.com/IEXE-Tec/aprendizaje-maquina-2/blob/master/01_seleccion_de_variables.ipynb \n"
      ]
    },
    {
      "cell_type": "markdown",
      "metadata": {
        "id": "y1OewEuO7HBZ"
      },
      "source": [
        "Existen muchas tecnicas de estadistica clasica para Feature Selection ya sea tablas ANOVA, ANCOVA o diferentes tipos de correlacion para diferentes tipos de datos."
      ]
    },
    {
      "cell_type": "markdown",
      "metadata": {
        "id": "QTwHeGpsyrSM"
      },
      "source": [
        "Post de [Feature Selection](https://machinelearningmastery.com/feature-selection-with-real-and-categorical-data/)"
      ]
    },
    {
      "cell_type": "markdown",
      "metadata": {
        "id": "eFS48kCl2qD9"
      },
      "source": [
        "![image.png](data:image/png;base64,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)"
      ]
    },
    {
      "cell_type": "markdown",
      "metadata": {
        "id": "IhyBYIo5AaeQ"
      },
      "source": [
        "En nuestro caso nos saltaremos el **Feature Selection** para concentrarnos en los algoritmos y regularizacion."
      ]
    },
    {
      "cell_type": "markdown",
      "metadata": {
        "id": "aPORoYpDDNCk"
      },
      "source": [
        "El siguiente snippet contiene codigo de Kaggle para feature selection, utilizando Chi2. Aunque, esto no es del todo correcto, pues nuestras variables no son categoricas. Sin embargo, nos da una idea de la flexibilidad del ML."
      ]
    },
    {
      "cell_type": "code",
      "metadata": {
        "id": "IiTKm5h4Ah0v"
      },
      "source": [
        "# ## No ejecutar\n",
        "# from sklearn.feature_selection import SelectKBest\n",
        "# from sklearn.feature_selection import chi2\n",
        "\n",
        "# bestfeatures = SelectKBest( k=10)\n",
        "# bestfeatures\n",
        "# Y= df[\"Class\"]\n",
        "# X = df.loc[:, df.columns != 'Class']\n",
        "# fit = bestfeatures.fit(X,Y)\n",
        "# dfscores = pd.DataFrame(fit.scores_)\n",
        "# dfcolumns = pd.DataFrame(X.columns)\n",
        "# #concat two dataframes for better visualization \n",
        "# featureScores = pd.concat([dfcolumns,dfscores],axis=1)\n",
        "# featureScores.columns = ['Specs','Score']  #naming the dataframe columns\n",
        "# print(featureScores.nlargest(10,'Score'))  #print 10 best features"
      ],
      "execution_count": 18,
      "outputs": []
    },
    {
      "cell_type": "markdown",
      "metadata": {
        "id": "tuGL3SO8DjEg"
      },
      "source": [
        "#Feature engineering"
      ]
    },
    {
      "cell_type": "markdown",
      "metadata": {
        "id": "eiS1EkzFDtrP"
      },
      "source": [
        "Escalemos las variables numericas. Las otras variables no necesitan escalamiento, pues dado que fueron sometidas a PCA fueron escaladas previamente."
      ]
    },
    {
      "cell_type": "markdown",
      "metadata": {
        "id": "kwb6IpQWD4ka"
      },
      "source": [
        "**Nota**: En estricto sentido el escalamiento o normalizacion deberia hacerse en sobre el train set, y despues aplicarse al test set. Sin embargo, es muy comun aplicar el escalamiento a todo el data set, pensando que no producira **data leakage**."
      ]
    },
    {
      "cell_type": "markdown",
      "metadata": {
        "id": "EHoB4kSFEK7V"
      },
      "source": [
        "+ Para la variable **time** utilizaremos [MinMaxScaler](https://scikit-learn.org/stable/modules/generated/sklearn.preprocessing.MinMaxScaler.html). Ahora la variable se encuentrara entre 0 y 1. Dado que **no parece tener outliers**, y distribuirse mas o menos uniforme.\n",
        "+ Para **Amount** utilizaremos [RobustScaler](https://scikit-learn.org/stable/modules/generated/sklearn.preprocessing.RobustScaler.html). La variable es escalda con los rangos intercuantiles. Lo elegimos por el tipo de distribucion que que **tiene outliers**."
      ]
    },
    {
      "cell_type": "markdown",
      "metadata": {
        "id": "37EJdzQyEr8J"
      },
      "source": [
        "![image.png](data:image/png;base64,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)"
      ]
    },
    {
      "cell_type": "code",
      "metadata": {
        "colab": {
          "base_uri": "https://localhost:8080/"
        },
        "id": "drbpVTkXGN07",
        "outputId": "3e7c5261-7c79-44c7-c779-725355be8bb8"
      },
      "source": [
        "X_train['Time'].values.reshape(-1,1)"
      ],
      "execution_count": 19,
      "outputs": [
        {
          "output_type": "execute_result",
          "data": {
            "text/plain": [
              "array([[140363.],\n",
              "       [ 47351.],\n",
              "       [123988.],\n",
              "       ...,\n",
              "       [ 44164.],\n",
              "       [128493.],\n",
              "       [ 49912.]])"
            ]
          },
          "metadata": {
            "tags": []
          },
          "execution_count": 19
        }
      ]
    },
    {
      "cell_type": "code",
      "metadata": {
        "id": "DTI8XkKMFcZr"
      },
      "source": [
        "from sklearn.preprocessing import MinMaxScaler\n",
        "from sklearn.preprocessing import RobustScaler\n",
        "\n",
        "# ##Time\n",
        "time_scaler = MinMaxScaler().fit(X_train['Time'].values.reshape(-1,1))\n",
        "# Entrenamos con train\n",
        "X_train['time_scaled'] = time_scaler.transform(X_train['Time'].values.reshape(-1,1))\n",
        "# Escalamos el test\n",
        "X_test['time_scaled'] = time_scaler.transform(X_test['Time'].values.reshape(-1,1))\n",
        "\n",
        "# ##Amount\n",
        "amount_scaler = RobustScaler().fit(X_train['Amount'].values.reshape(-1,1))\n",
        "# Entrenamos con train\n",
        "X_train['amount_scaled'] = amount_scaler.transform(X_train['Amount'].values.reshape(-1,1))\n",
        "# Escalamos el test\n",
        "X_test['amount_scaled'] = amount_scaler.transform(X_test['Amount'].values.reshape(-1,1))"
      ],
      "execution_count": 20,
      "outputs": []
    },
    {
      "cell_type": "code",
      "metadata": {
        "colab": {
          "base_uri": "https://localhost:8080/",
          "height": 300
        },
        "id": "W6Eqac4hHJXu",
        "outputId": "00afa396-6b7b-4032-aec4-eeab1326d7a1"
      },
      "source": [
        "X_train[['time_scaled', 'amount_scaled']].describe()"
      ],
      "execution_count": 21,
      "outputs": [
        {
          "output_type": "execute_result",
          "data": {
            "text/html": [
              "<div>\n",
              "<style scoped>\n",
              "    .dataframe tbody tr th:only-of-type {\n",
              "        vertical-align: middle;\n",
              "    }\n",
              "\n",
              "    .dataframe tbody tr th {\n",
              "        vertical-align: top;\n",
              "    }\n",
              "\n",
              "    .dataframe thead th {\n",
              "        text-align: right;\n",
              "    }\n",
              "</style>\n",
              "<table border=\"1\" class=\"dataframe\">\n",
              "  <thead>\n",
              "    <tr style=\"text-align: right;\">\n",
              "      <th></th>\n",
              "      <th>time_scaled</th>\n",
              "      <th>amount_scaled</th>\n",
              "    </tr>\n",
              "  </thead>\n",
              "  <tbody>\n",
              "    <tr>\n",
              "      <th>count</th>\n",
              "      <td>213605.000000</td>\n",
              "      <td>213605.000000</td>\n",
              "    </tr>\n",
              "    <tr>\n",
              "      <th>mean</th>\n",
              "      <td>0.548390</td>\n",
              "      <td>0.923225</td>\n",
              "    </tr>\n",
              "    <tr>\n",
              "      <th>std</th>\n",
              "      <td>0.274779</td>\n",
              "      <td>3.343631</td>\n",
              "    </tr>\n",
              "    <tr>\n",
              "      <th>min</th>\n",
              "      <td>0.000000</td>\n",
              "      <td>-0.307091</td>\n",
              "    </tr>\n",
              "    <tr>\n",
              "      <th>25%</th>\n",
              "      <td>0.313001</td>\n",
              "      <td>-0.228643</td>\n",
              "    </tr>\n",
              "    <tr>\n",
              "      <th>50%</th>\n",
              "      <td>0.489490</td>\n",
              "      <td>0.000000</td>\n",
              "    </tr>\n",
              "    <tr>\n",
              "      <th>75%</th>\n",
              "      <td>0.806195</td>\n",
              "      <td>0.771357</td>\n",
              "    </tr>\n",
              "    <tr>\n",
              "      <th>max</th>\n",
              "      <td>1.000000</td>\n",
              "      <td>179.912479</td>\n",
              "    </tr>\n",
              "  </tbody>\n",
              "</table>\n",
              "</div>"
            ],
            "text/plain": [
              "         time_scaled  amount_scaled\n",
              "count  213605.000000  213605.000000\n",
              "mean        0.548390       0.923225\n",
              "std         0.274779       3.343631\n",
              "min         0.000000      -0.307091\n",
              "25%         0.313001      -0.228643\n",
              "50%         0.489490       0.000000\n",
              "75%         0.806195       0.771357\n",
              "max         1.000000     179.912479"
            ]
          },
          "metadata": {
            "tags": []
          },
          "execution_count": 21
        }
      ]
    },
    {
      "cell_type": "code",
      "metadata": {
        "colab": {
          "base_uri": "https://localhost:8080/",
          "height": 300
        },
        "id": "ASFjDcjjHQ98",
        "outputId": "cd5154d1-db85-4a64-f444-c43bca27e09c"
      },
      "source": [
        "X_test[['time_scaled', 'amount_scaled']].describe()"
      ],
      "execution_count": 22,
      "outputs": [
        {
          "output_type": "execute_result",
          "data": {
            "text/html": [
              "<div>\n",
              "<style scoped>\n",
              "    .dataframe tbody tr th:only-of-type {\n",
              "        vertical-align: middle;\n",
              "    }\n",
              "\n",
              "    .dataframe tbody tr th {\n",
              "        vertical-align: top;\n",
              "    }\n",
              "\n",
              "    .dataframe thead th {\n",
              "        text-align: right;\n",
              "    }\n",
              "</style>\n",
              "<table border=\"1\" class=\"dataframe\">\n",
              "  <thead>\n",
              "    <tr style=\"text-align: right;\">\n",
              "      <th></th>\n",
              "      <th>time_scaled</th>\n",
              "      <th>amount_scaled</th>\n",
              "    </tr>\n",
              "  </thead>\n",
              "  <tbody>\n",
              "    <tr>\n",
              "      <th>count</th>\n",
              "      <td>71202.000000</td>\n",
              "      <td>71202.000000</td>\n",
              "    </tr>\n",
              "    <tr>\n",
              "      <th>mean</th>\n",
              "      <td>0.549696</td>\n",
              "      <td>0.934937</td>\n",
              "    </tr>\n",
              "    <tr>\n",
              "      <th>std</th>\n",
              "      <td>0.274975</td>\n",
              "      <td>3.901089</td>\n",
              "    </tr>\n",
              "    <tr>\n",
              "      <th>min</th>\n",
              "      <td>0.000000</td>\n",
              "      <td>-0.307091</td>\n",
              "    </tr>\n",
              "    <tr>\n",
              "      <th>25%</th>\n",
              "      <td>0.315479</td>\n",
              "      <td>-0.230039</td>\n",
              "    </tr>\n",
              "    <tr>\n",
              "      <th>50%</th>\n",
              "      <td>0.493463</td>\n",
              "      <td>-0.000140</td>\n",
              "    </tr>\n",
              "    <tr>\n",
              "      <th>75%</th>\n",
              "      <td>0.806554</td>\n",
              "      <td>0.767867</td>\n",
              "    </tr>\n",
              "    <tr>\n",
              "      <th>max</th>\n",
              "      <td>0.999977</td>\n",
              "      <td>358.307649</td>\n",
              "    </tr>\n",
              "  </tbody>\n",
              "</table>\n",
              "</div>"
            ],
            "text/plain": [
              "        time_scaled  amount_scaled\n",
              "count  71202.000000   71202.000000\n",
              "mean       0.549696       0.934937\n",
              "std        0.274975       3.901089\n",
              "min        0.000000      -0.307091\n",
              "25%        0.315479      -0.230039\n",
              "50%        0.493463      -0.000140\n",
              "75%        0.806554       0.767867\n",
              "max        0.999977     358.307649"
            ]
          },
          "metadata": {
            "tags": []
          },
          "execution_count": 22
        }
      ]
    },
    {
      "cell_type": "code",
      "metadata": {
        "id": "0iyz3jshIkka"
      },
      "source": [
        "X_train.drop(['Time', 'Amount'], axis=1, inplace=True)\n",
        "X_test.drop(['Time', 'Amount'], axis=1, inplace=True)"
      ],
      "execution_count": 23,
      "outputs": []
    },
    {
      "cell_type": "markdown",
      "metadata": {
        "id": "p9iDzGSxHjG5"
      },
      "source": [
        "# Modelaje"
      ]
    },
    {
      "cell_type": "markdown",
      "metadata": {
        "id": "uyu4Dr9ONpGo"
      },
      "source": [
        "## Evaluacion de Modelos"
      ]
    },
    {
      "cell_type": "markdown",
      "metadata": {
        "id": "BTtVHU66V3Ot"
      },
      "source": [
        "Usaremos Cross Validation para elegir modelos. Una vez elegidos los modelos, utilizaremos CV de nuevo para tuneo de hiperparametros del modelo que elegimos."
      ]
    },
    {
      "cell_type": "markdown",
      "metadata": {
        "id": "Noh7-PpuIOHp"
      },
      "source": [
        "Elijamos los Folds y los Modelos a utilizar"
      ]
    },
    {
      "cell_type": "code",
      "metadata": {
        "id": "EGIF9idBHj6j"
      },
      "source": [
        "# Opciones de Evaluacion de Modelos\n",
        "num_folds = 5\n",
        "seed = 7\n",
        "# scoring ='f1'\n",
        "scoring = 'accuracy'\n",
        "\n",
        "# Modelos\n",
        "models = []\n",
        "models.append(('LR', LogisticRegression()))\n",
        "#models.append(('ELN', LogisticRegression(penalty = 'elasticnet')))\n",
        "models.append(('RF', RandomForestClassifier()))\n",
        "models.append(('LDA', LinearDiscriminantAnalysis()))\n",
        "models.append(('KNN', KNeighborsClassifier()))\n",
        "models.append(('CART', DecisionTreeClassifier()))"
      ],
      "execution_count": 26,
      "outputs": []
    },
    {
      "cell_type": "markdown",
      "metadata": {
        "id": "Fj7NRVFIN3-R"
      },
      "source": [
        "Ejecucion cercana a los 20 minutos! Con Accuracy!"
      ]
    },
    {
      "cell_type": "markdown",
      "metadata": {
        "id": "mvwv2bDQSymj"
      },
      "source": [
        "![image.png](data:image/png;base64,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)"
      ]
    },
    {
      "cell_type": "code",
      "metadata": {
        "colab": {
          "base_uri": "https://localhost:8080/"
        },
        "id": "arlH4ndzIRTj",
        "outputId": "115bb3ab-79d9-4b5a-fb57-0408329a0e2f"
      },
      "source": [
        "results = []\n",
        "names = []\n",
        "for name, model in models:\n",
        "    kfold = KFold(n_splits=num_folds, random_state=seed)\n",
        "    cv_results = cross_val_score(model, X_train, Y_train, cv=kfold, scoring=scoring,\n",
        "                                 n_jobs=-1)\n",
        "    results.append(cv_results)\n",
        "    names.append(name)\n",
        "    msg = \"%s: %f (%f)\" % (name, cv_results.mean(), cv_results.std())\n",
        "    print(msg)"
      ],
      "execution_count": 27,
      "outputs": [
        {
          "output_type": "stream",
          "text": [
            "LR: 0.999171 (0.000196)\n",
            "RF: 0.999541 (0.000123)\n",
            "LDA: 0.999354 (0.000113)\n",
            "KNN: 0.999448 (0.000176)\n",
            "CART: 0.999148 (0.000180)\n"
          ],
          "name": "stdout"
        }
      ]
    },
    {
      "cell_type": "markdown",
      "metadata": {
        "id": "KD7kzP_pjbQa"
      },
      "source": [
        "## Tuneo de LDA"
      ]
    },
    {
      "cell_type": "code",
      "metadata": {
        "colab": {
          "base_uri": "https://localhost:8080/"
        },
        "id": "1jUssiZtajCV",
        "outputId": "bde9d648-9f39-4b3c-8fe0-70eeff229419"
      },
      "source": [
        "# Llamar al Modelo\n",
        "model = LinearDiscriminantAnalysis()\n",
        "model.fit(X_train, Y_train)"
      ],
      "execution_count": 77,
      "outputs": [
        {
          "output_type": "execute_result",
          "data": {
            "text/plain": [
              "LinearDiscriminantAnalysis(n_components=None, priors=None, shrinkage=None,\n",
              "                           solver='svd', store_covariance=False, tol=0.0001)"
            ]
          },
          "metadata": {
            "tags": []
          },
          "execution_count": 77
        }
      ]
    },
    {
      "cell_type": "code",
      "metadata": {
        "colab": {
          "base_uri": "https://localhost:8080/"
        },
        "id": "6nz5tmWgji2c",
        "outputId": "9026cdf2-80c3-4c50-ab4f-a0a55676f86f"
      },
      "source": [
        "rescaledValidationX = X_test\n",
        "predictions = model.predict(rescaledValidationX)\n",
        "print(accuracy_score(Y_test, predictions))\n",
        "print(confusion_matrix(Y_test, predictions))\n",
        "print(classification_report(Y_test, predictions))"
      ],
      "execution_count": 78,
      "outputs": [
        {
          "output_type": "stream",
          "text": [
            "0.9995084407741356\n",
            "[[71064    12]\n",
            " [   23   103]]\n",
            "              precision    recall  f1-score   support\n",
            "\n",
            "           0       1.00      1.00      1.00     71076\n",
            "           1       0.90      0.82      0.85       126\n",
            "\n",
            "    accuracy                           1.00     71202\n",
            "   macro avg       0.95      0.91      0.93     71202\n",
            "weighted avg       1.00      1.00      1.00     71202\n",
            "\n"
          ],
          "name": "stdout"
        }
      ]
    },
    {
      "cell_type": "markdown",
      "metadata": {
        "id": "Kgem3qPYjv_X"
      },
      "source": [
        "## LDA Test"
      ]
    },
    {
      "cell_type": "code",
      "metadata": {
        "colab": {
          "base_uri": "https://localhost:8080/",
          "height": 297
        },
        "id": "bp7356G-j0QI",
        "outputId": "68dc3528-ac4e-4860-9623-67b8f3907247"
      },
      "source": [
        "df_cm = pd.DataFrame(confusion_matrix(Y_test, predictions), \n",
        "                     columns=np.unique(Y_test), index = np.unique(Y_test))\n",
        "df_cm.index.name = 'Actual'\n",
        "df_cm.columns.name = 'Predicted'\n",
        "sns.heatmap(df_cm, cmap=\"Blues\", annot=True,annot_kws={\"size\": 16})# font size"
      ],
      "execution_count": 80,
      "outputs": [
        {
          "output_type": "execute_result",
          "data": {
            "text/plain": [
              "<matplotlib.axes._subplots.AxesSubplot at 0x7f43cd4d56d0>"
            ]
          },
          "metadata": {
            "tags": []
          },
          "execution_count": 80
        },
        {
          "output_type": "display_data",
          "data": {
            "image/png": "[encoded data removed]",
            "text/plain": [
              "<Figure size 432x288 with 2 Axes>"
            ]
          },
          "metadata": {
            "tags": [],
            "needs_background": "light"
          }
        }
      ]
    },
    {
      "cell_type": "markdown",
      "metadata": {
        "id": "RDRRr8m4jPmY"
      },
      "source": [
        "# Modelaje con Undersampling"
      ]
    },
    {
      "cell_type": "markdown",
      "metadata": {
        "id": "Q-l41Et2PIs2"
      },
      "source": [
        "## Balanceo con Undersampling"
      ]
    },
    {
      "cell_type": "markdown",
      "metadata": {
        "id": "5DTeiu0xPP5u"
      },
      "source": [
        "Ahora entrenaremos modelos usando el metodo de **Random Under Sampling**. Consiste en remover datos aleatoriamente de la clase que tiene mas valores. De esta manera, nuestros modelos no van a sobreajustar a la clase dominante. Pasos:\n",
        "1. Determinar que tan imbalaceada estan nuestras clases (usar value counts)\n",
        "2. Despues balancemos las clases sampleando de manera aleatoria la que tiene mas numeros. Normalmente se busca tener algo cercano al 50/50.\n",
        "3. Entrenar y Evaluar con las clases balanceadas.  \n",
        "El principal riesgo de esta tecnica es que podemos perder muchos datos, lo cual puede afectar el desempeño de nuestros modelos. Por ejemplo, pasamos de 280,315 datos de no fraude a 492."
      ]
    },
    {
      "cell_type": "markdown",
      "metadata": {
        "id": "vMCz8-QlRdnP"
      },
      "source": [
        "Rebalanceo en el train"
      ]
    },
    {
      "cell_type": "code",
      "metadata": {
        "colab": {
          "base_uri": "https://localhost:8080/",
          "height": 365
        },
        "id": "4avh9AYyRNO1",
        "outputId": "24b50e92-0e76-46d1-c7b3-8304a99f28bb"
      },
      "source": [
        "df_train = pd.concat([X_train, Y_train], axis=1)\n",
        "fraud_df = df_train.loc[df_train['Class'] == 1]\n",
        "non_fraud_df = df_train.loc[df_train['Class'] == 0][:400]\n",
        "\n",
        "normal_distributed_df = pd.concat([fraud_df, non_fraud_df])\n",
        "\n",
        "# Shuffle de datos de nuevo\n",
        "df_new = normal_distributed_df.sample(frac=1, random_state=42)\n",
        "# split out validation dataset for the end\n",
        "Y_train_new= df_new[\"Class\"]\n",
        "X_train_new = df_new.loc[:, df.columns != 'Class']\n",
        "\n",
        "\n",
        "print('Distribution of the Classes in the subsample dataset')\n",
        "print(df_new['Class'].value_counts()/len(df_new))\n",
        "sns.countplot('Class', data=df_new)\n",
        "pyplot.title('Equally Distributed Classes', fontsize=14)\n",
        "pyplot.show()"
      ],
      "execution_count": 32,
      "outputs": [
        {
          "output_type": "stream",
          "text": [
            "Distribution of the Classes in the subsample dataset\n",
            "0    0.522193\n",
            "1    0.477807\n",
            "Name: Class, dtype: float64\n"
          ],
          "name": "stdout"
        },
        {
          "output_type": "display_data",
          "data": {
            "image/png": "[encoded data removed]",
            "text/plain": [
              "<Figure size 432x288 with 1 Axes>"
            ]
          },
          "metadata": {
            "tags": [],
            "needs_background": "light"
          }
        }
      ]
    },
    {
      "cell_type": "code",
      "metadata": {
        "colab": {
          "base_uri": "https://localhost:8080/"
        },
        "id": "xHd133_CTGmo",
        "outputId": "340e47a9-b33e-434f-887c-e0f921b3f9cf"
      },
      "source": [
        "class_names = {0:'Not Fraud', 1:'Fraud'}\n",
        "print(df_new.Class.value_counts().rename(index = class_names))"
      ],
      "execution_count": 33,
      "outputs": [
        {
          "output_type": "stream",
          "text": [
            "Not Fraud    400\n",
            "Fraud        366\n",
            "Name: Class, dtype: int64\n"
          ],
          "name": "stdout"
        }
      ]
    },
    {
      "cell_type": "markdown",
      "metadata": {
        "id": "h8PLmJUUTw4f"
      },
      "source": [
        "## Evaluacion de modelos Undersampling"
      ]
    },
    {
      "cell_type": "code",
      "metadata": {
        "id": "TH53TZF4TudK"
      },
      "source": [
        "# Opciones de Evaluacion de Modelos\n",
        "num_folds = 10\n",
        "seed = 7\n",
        "# scoring ='f1'\n",
        "scoring = 'accuracy'\n",
        "\n",
        "# ### Modelos\n",
        "models = []\n",
        "models.append(('LR', LogisticRegression()))\n",
        "models.append(('LDA', LinearDiscriminantAnalysis()))\n",
        "models.append(('KNN', KNeighborsClassifier()))\n",
        "models.append(('CART', DecisionTreeClassifier()))\n",
        "models.append(('NB', GaussianNB()))\n",
        "models.append(('SVM', SVC()))\n",
        "#Neural Network\n",
        "models.append(('NN', MLPClassifier()))\n",
        "# #Ensable Models \n",
        "# Boosting methods\n",
        "models.append(('AB', AdaBoostClassifier()))\n",
        "models.append(('GBM', GradientBoostingClassifier()))\n",
        "# Bagging methods\n",
        "models.append(('RF', RandomForestClassifier()))\n",
        "models.append(('ET', ExtraTreesClassifier()))"
      ],
      "execution_count": 38,
      "outputs": []
    },
    {
      "cell_type": "markdown",
      "metadata": {
        "id": "bgYZFjIJUAQX"
      },
      "source": [
        "**Red Neuronal Profunda con Keras**"
      ]
    },
    {
      "cell_type": "code",
      "metadata": {
        "id": "dWyACWlyUCJw"
      },
      "source": [
        "# Modelo de red Neuronal\n",
        "# Si deseas entrenarlo pon el flag=1\n",
        "EnableDLModelsFlag = 1\n",
        "if EnableDLModelsFlag == 1 :   \n",
        "    # Creacion del modelo con Keras\n",
        "    def create_model(neurons=12, activation='relu', learn_rate = 0.01, momentum=0):\n",
        "        # create model\n",
        "        model = Sequential()\n",
        "        model.add(Dense(X_train.shape[1], input_dim=X_train.shape[1], activation=activation))\n",
        "        model.add(Dense(32, activation=activation))\n",
        "        model.add(Dense(1, activation='sigmoid'))\n",
        "        # Compilar Modelo\n",
        "        optimizer = SGD(lr=learn_rate, momentum=momentum)\n",
        "        model.compile(loss='binary_crossentropy', optimizer='adam', metrics=['accuracy'])\n",
        "        return model    \n",
        "    models.append(('DNN', KerasClassifier(build_fn=create_model, epochs=50, batch_size=10, verbose=0)))"
      ],
      "execution_count": 39,
      "outputs": []
    },
    {
      "cell_type": "code",
      "metadata": {
        "colab": {
          "base_uri": "https://localhost:8080/"
        },
        "id": "3sTUuf2KUNJ9",
        "outputId": "9cfabb4d-5711-4fc6-837b-988743024436"
      },
      "source": [
        "results = []\n",
        "names = []\n",
        "for name, model in models:\n",
        "    kfold = KFold(n_splits=num_folds, random_state=seed)\n",
        "    cv_results = cross_val_score(model, X_train_new, Y_train_new, cv=kfold,\n",
        "                                 scoring=scoring, n_jobs=-1)\n",
        "    results.append(cv_results)\n",
        "    names.append(name)\n",
        "    msg = \"%s: %f (%f)\" % (name, cv_results.mean(), cv_results.std())\n",
        "    print(msg)"
      ],
      "execution_count": 40,
      "outputs": [
        {
          "output_type": "stream",
          "text": [
            "LR: 0.954255 (0.019750)\n",
            "LDA: 0.915106 (0.022215)\n",
            "KNN: 0.938636 (0.024038)\n",
            "CART: 0.899436 (0.032760)\n",
            "NB: 0.921685 (0.018385)\n",
            "SVM: 0.939952 (0.025515)\n",
            "NN: 0.949077 (0.027063)\n",
            "AB: 0.949129 (0.021306)\n",
            "GBM: 0.947761 (0.025451)\n",
            "RF: 0.947744 (0.026131)\n",
            "ET: 0.939952 (0.028035)\n",
            "DNN: 0.945130 (0.022518)\n"
          ],
          "name": "stdout"
        }
      ]
    },
    {
      "cell_type": "code",
      "metadata": {
        "colab": {
          "base_uri": "https://localhost:8080/",
          "height": 294
        },
        "id": "PaA5iYJ7Uo_0",
        "outputId": "5a8d38bc-afed-4ce3-ae97-fa6e2693e739"
      },
      "source": [
        "# compare algorithms\n",
        "fig = pyplot.figure()\n",
        "fig.suptitle('Comparar Algoritmos')\n",
        "ax = fig.add_subplot(111)\n",
        "pyplot.boxplot(results)\n",
        "ax.set_xticklabels(names)\n",
        "fig.set_size_inches(8,4)\n",
        "pyplot.show()"
      ],
      "execution_count": 37,
      "outputs": [
        {
          "output_type": "display_data",
          "data": {
            "image/png": "[encoded data removed]",
            "text/plain": [
              "<Figure size 576x288 with 1 Axes>"
            ]
          },
          "metadata": {
            "tags": [],
            "needs_background": "light"
          }
        }
      ]
    },
    {
      "cell_type": "markdown",
      "metadata": {
        "id": "0SVMglNxotZR"
      },
      "source": [
        "## Logistic Regression"
      ]
    },
    {
      "cell_type": "markdown",
      "metadata": {
        "id": "2GfUG4XBp12E"
      },
      "source": [
        "Documentacion [LogisticRegression](https://scikit-learn.org/stable/modules/generated/sklearn.linear_model.LogisticRegression.html)"
      ]
    },
    {
      "cell_type": "markdown",
      "metadata": {
        "id": "VELvL_Y_pTw7"
      },
      "source": [
        "### Logistic Regression Training"
      ]
    },
    {
      "cell_type": "code",
      "metadata": {
        "colab": {
          "base_uri": "https://localhost:8080/"
        },
        "id": "CC-fhJ9dp1QW",
        "outputId": "a7ac2664-92c0-4359-bd16-1df4e3b4fb69"
      },
      "source": [
        "# Numero de Arboles en el Bosque\n",
        "penalty = ['l1', 'l2', 'elasticnet', 'none']\n",
        "# Inverso de la Regularizacion\n",
        "C = np.logspace(-4, 4, 20)\n",
        "# Crea el grid de busqueda\n",
        "random_grid = {'penalty': penalty,\n",
        "               'C': C}\n",
        "pprint(random_grid)"
      ],
      "execution_count": 95,
      "outputs": [
        {
          "output_type": "stream",
          "text": [
            "{'C': array([1.00000000e-04, 2.63665090e-04, 6.95192796e-04, 1.83298071e-03,\n",
            "       4.83293024e-03, 1.27427499e-02, 3.35981829e-02, 8.85866790e-02,\n",
            "       2.33572147e-01, 6.15848211e-01, 1.62377674e+00, 4.28133240e+00,\n",
            "       1.12883789e+01, 2.97635144e+01, 7.84759970e+01, 2.06913808e+02,\n",
            "       5.45559478e+02, 1.43844989e+03, 3.79269019e+03, 1.00000000e+04]),\n",
            " 'penalty': ['l1', 'l2', 'elasticnet', 'none']}\n"
          ],
          "name": "stdout"
        }
      ]
    },
    {
      "cell_type": "code",
      "metadata": {
        "colab": {
          "base_uri": "https://localhost:8080/"
        },
        "id": "dmWAwLZLplLT",
        "outputId": "4533dc06-1816-4982-ffe9-ae535a196c24"
      },
      "source": [
        "# Construyamos el algoritmo\n",
        "lr = LogisticRegression()\n",
        "# Tuneo de Hyperparametros con CV\n",
        "lr_random = GridSearchCV(estimator = lr, param_grid = random_grid, \n",
        "                                scoring = 'accuracy',\n",
        "                               cv = 3, verbose=2, n_jobs = -1)\n",
        "# Entrenar\n",
        "lr_random.fit(X_train_new, Y_train_new)"
      ],
      "execution_count": 97,
      "outputs": [
        {
          "output_type": "stream",
          "text": [
            "Fitting 3 folds for each of 80 candidates, totalling 240 fits\n"
          ],
          "name": "stdout"
        },
        {
          "output_type": "stream",
          "text": [
            "[Parallel(n_jobs=-1)]: Using backend LokyBackend with 2 concurrent workers.\n",
            "[Parallel(n_jobs=-1)]: Done 186 tasks      | elapsed:    3.7s\n",
            "[Parallel(n_jobs=-1)]: Done 240 out of 240 | elapsed:    4.3s finished\n"
          ],
          "name": "stderr"
        },
        {
          "output_type": "execute_result",
          "data": {
            "text/plain": [
              "GridSearchCV(cv=3, error_score=nan,\n",
              "             estimator=LogisticRegression(C=1.0, class_weight=None, dual=False,\n",
              "                                          fit_intercept=True,\n",
              "                                          intercept_scaling=1, l1_ratio=None,\n",
              "                                          max_iter=100, multi_class='auto',\n",
              "                                          n_jobs=None, penalty='l2',\n",
              "                                          random_state=None, solver='lbfgs',\n",
              "                                          tol=0.0001, verbose=0,\n",
              "                                          warm_start=False),\n",
              "             iid='deprecated', n_jobs=-1,\n",
              "             param_grid={'C': array([1.00000000e-04, 2.636...\n",
              "       4.83293024e-03, 1.27427499e-02, 3.35981829e-02, 8.85866790e-02,\n",
              "       2.33572147e-01, 6.15848211e-01, 1.62377674e+00, 4.28133240e+00,\n",
              "       1.12883789e+01, 2.97635144e+01, 7.84759970e+01, 2.06913808e+02,\n",
              "       5.45559478e+02, 1.43844989e+03, 3.79269019e+03, 1.00000000e+04]),\n",
              "                         'penalty': ['l1', 'l2', 'elasticnet', 'none']},\n",
              "             pre_dispatch='2*n_jobs', refit=True, return_train_score=False,\n",
              "             scoring='accuracy', verbose=2)"
            ]
          },
          "metadata": {
            "tags": []
          },
          "execution_count": 97
        }
      ]
    },
    {
      "cell_type": "code",
      "metadata": {
        "colab": {
          "base_uri": "https://localhost:8080/"
        },
        "id": "ziGyOaTFrliu",
        "outputId": "084cdeb9-ee77-4028-e9ac-b631c6d4cee7"
      },
      "source": [
        "print(f'Mejores parametros: {lr_random.best_params_}')\n",
        "print(f'Mejor Desempeño: {lr_random.best_score_}')"
      ],
      "execution_count": 98,
      "outputs": [
        {
          "output_type": "stream",
          "text": [
            "Mejores parametros: {'C': 0.23357214690901212, 'penalty': 'l2'}\n",
            "Mejor Desempeño: 0.9529820261437908\n"
          ],
          "name": "stdout"
        }
      ]
    },
    {
      "cell_type": "markdown",
      "metadata": {
        "id": "cP5YNuUKoxnV"
      },
      "source": [
        "### Logistic Regression Test"
      ]
    },
    {
      "cell_type": "code",
      "metadata": {
        "colab": {
          "base_uri": "https://localhost:8080/",
          "height": 505
        },
        "id": "mg-df6t-o0qf",
        "outputId": "e3d61e23-d0bc-4d39-de06-39d589d20784"
      },
      "source": [
        "lr_opt = LogisticRegression(**lr_random.best_params_)\n",
        "lr_opt.fit(X_train_new, Y_train_new)\n",
        "\n",
        "# Estimar Test\n",
        "predictions = lr_opt.predict(X_test)\n",
        "print(accuracy_score(Y_test, predictions))\n",
        "print(confusion_matrix(Y_test, predictions))\n",
        "print(classification_report(Y_test, predictions))\n",
        "\n",
        "df_cm = pd.DataFrame(confusion_matrix(Y_test, predictions), \n",
        "                     columns=np.unique(Y_test), index = np.unique(Y_test))\n",
        "df_cm.index.name = 'Actual'\n",
        "df_cm.columns.name = 'Predicted'\n",
        "sns.heatmap(df_cm, cmap=\"Blues\", annot=True,annot_kws={\"size\": 16})"
      ],
      "execution_count": 99,
      "outputs": [
        {
          "output_type": "stream",
          "text": [
            "0.956504030785652\n",
            "[[67988  3088]\n",
            " [    9   117]]\n",
            "              precision    recall  f1-score   support\n",
            "\n",
            "           0       1.00      0.96      0.98     71076\n",
            "           1       0.04      0.93      0.07       126\n",
            "\n",
            "    accuracy                           0.96     71202\n",
            "   macro avg       0.52      0.94      0.52     71202\n",
            "weighted avg       1.00      0.96      0.98     71202\n",
            "\n"
          ],
          "name": "stdout"
        },
        {
          "output_type": "execute_result",
          "data": {
            "text/plain": [
              "<matplotlib.axes._subplots.AxesSubplot at 0x7f43cc21d710>"
            ]
          },
          "metadata": {
            "tags": []
          },
          "execution_count": 99
        },
        {
          "output_type": "display_data",
          "data": {
            "image/png": "[encoded data removed]",
            "text/plain": [
              "<Figure size 432x288 with 2 Axes>"
            ]
          },
          "metadata": {
            "tags": [],
            "needs_background": "light"
          }
        }
      ]
    },
    {
      "cell_type": "markdown",
      "metadata": {
        "id": "Eyw2ta43nefU"
      },
      "source": [
        "## Random Forest"
      ]
    },
    {
      "cell_type": "markdown",
      "metadata": {
        "id": "aBIlm7UIWqs9"
      },
      "source": [
        "### Tuneo de Random Forest"
      ]
    },
    {
      "cell_type": "markdown",
      "metadata": {
        "id": "DuyUJOZHXLRT"
      },
      "source": [
        "Documentacion a [RandomForestClassifer](https://scikit-learn.org/stable/modules/generated/sklearn.ensemble.RandomForestClassifier.html)"
      ]
    },
    {
      "cell_type": "code",
      "metadata": {
        "colab": {
          "base_uri": "https://localhost:8080/"
        },
        "id": "txRU-kaEWtc6",
        "outputId": "d2386058-3060-4a45-e37e-aedb4450d550"
      },
      "source": [
        "from pprint import pprint\n",
        "rf = RandomForestClassifier(random_state = 42)\n",
        "print('Parameters currently in use:\\n')\n",
        "pprint(rf.get_params())"
      ],
      "execution_count": 43,
      "outputs": [
        {
          "output_type": "stream",
          "text": [
            "Parameters currently in use:\n",
            "\n",
            "{'bootstrap': True,\n",
            " 'ccp_alpha': 0.0,\n",
            " 'class_weight': None,\n",
            " 'criterion': 'gini',\n",
            " 'max_depth': None,\n",
            " 'max_features': 'auto',\n",
            " 'max_leaf_nodes': None,\n",
            " 'max_samples': None,\n",
            " 'min_impurity_decrease': 0.0,\n",
            " 'min_impurity_split': None,\n",
            " 'min_samples_leaf': 1,\n",
            " 'min_samples_split': 2,\n",
            " 'min_weight_fraction_leaf': 0.0,\n",
            " 'n_estimators': 100,\n",
            " 'n_jobs': None,\n",
            " 'oob_score': False,\n",
            " 'random_state': 42,\n",
            " 'verbose': 0,\n",
            " 'warm_start': False}\n"
          ],
          "name": "stdout"
        }
      ]
    },
    {
      "cell_type": "markdown",
      "metadata": {
        "id": "VBo15uJDXB1w"
      },
      "source": [
        "Son muchos parametros, concentremonos en los mas importantes:"
      ]
    },
    {
      "cell_type": "markdown",
      "metadata": {
        "id": "hIrfkTdSXFf0"
      },
      "source": [
        "![image.png](data:image/png;base64,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)"
      ]
    },
    {
      "cell_type": "markdown",
      "metadata": {
        "id": "XCpxO4DTXZVL"
      },
      "source": [
        "Parametros a buscar con Random Forest"
      ]
    },
    {
      "cell_type": "code",
      "metadata": {
        "colab": {
          "base_uri": "https://localhost:8080/"
        },
        "id": "CX0bVWaQXZ5i",
        "outputId": "ebc756e7-60a8-4479-9d9f-88e535d7069b"
      },
      "source": [
        "# Numero de Arboles en el Bosque\n",
        "n_estimators = [int(x) for x in np.linspace(start = 100, stop = 1000, num = 5)]\n",
        "# Numero de Variables por split, tecnica\n",
        "max_features = ['auto']\n",
        "# Profundidad del Arbol\n",
        "max_depth = [int(x) for x in np.linspace(10, 110, num = 5)]\n",
        "max_depth.append(None)\n",
        "# Numero minimo de observaciones para hacer el Split\n",
        "min_samples_split = [2, 5, 10]\n",
        "# Minimo numero de observaciones en las hojas\n",
        "min_samples_leaf = [1, 2, 4]\n",
        "# Metodo para elegir las observaciones en cada paso\n",
        "bootstrap = [True]\n",
        "# Crea el grid de busqueda\n",
        "random_grid = {'n_estimators': n_estimators,\n",
        "               'max_features': max_features,\n",
        "               'max_depth': max_depth,\n",
        "               'min_samples_split': min_samples_split,\n",
        "               'min_samples_leaf': min_samples_leaf,\n",
        "               'bootstrap': bootstrap}\n",
        "pprint(random_grid)"
      ],
      "execution_count": 56,
      "outputs": [
        {
          "output_type": "stream",
          "text": [
            "{'bootstrap': [True],\n",
            " 'max_depth': [10, 35, 60, 85, 110, None],\n",
            " 'max_features': ['auto'],\n",
            " 'min_samples_leaf': [1, 2, 4],\n",
            " 'min_samples_split': [2, 5, 10],\n",
            " 'n_estimators': [100, 325, 550, 775, 1000]}\n"
          ],
          "name": "stdout"
        }
      ]
    },
    {
      "cell_type": "markdown",
      "metadata": {
        "id": "hv8EqiqwgMSr"
      },
      "source": [
        "#### Accuracy"
      ]
    },
    {
      "cell_type": "markdown",
      "metadata": {
        "id": "UAzglQVzeJ93"
      },
      "source": [
        "Tiempo 14 mins"
      ]
    },
    {
      "cell_type": "markdown",
      "metadata": {
        "id": "EpAj4ZkleQ_q"
      },
      "source": [
        "![image.png](data:image/png;base64,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)"
      ]
    },
    {
      "cell_type": "code",
      "metadata": {
        "colab": {
          "base_uri": "https://localhost:8080/"
        },
        "id": "0SmiqL3PX5Mn",
        "outputId": "18084638-c42f-4fba-b92d-55bf644928d0"
      },
      "source": [
        "# Construyamos el algoritmo\n",
        "rf = RandomForestClassifier()\n",
        "# Tuneo de Hyperparametros con CV\n",
        "rf_random = GridSearchCV(estimator = rf, param_grid = random_grid, \n",
        "                                scoring = 'accuracy',\n",
        "                               cv = 3, verbose=2, n_jobs = -1)\n",
        "# Entrenar\n",
        "rf_random.fit(X_train_new, Y_train_new)"
      ],
      "execution_count": 57,
      "outputs": [
        {
          "output_type": "stream",
          "text": [
            "Fitting 3 folds for each of 270 candidates, totalling 810 fits\n"
          ],
          "name": "stdout"
        },
        {
          "output_type": "stream",
          "text": [
            "[Parallel(n_jobs=-1)]: Using backend LokyBackend with 2 concurrent workers.\n",
            "[Parallel(n_jobs=-1)]: Done  37 tasks      | elapsed:   38.0s\n",
            "[Parallel(n_jobs=-1)]: Done 158 tasks      | elapsed:  2.7min\n",
            "[Parallel(n_jobs=-1)]: Done 361 tasks      | elapsed:  6.4min\n",
            "[Parallel(n_jobs=-1)]: Done 644 tasks      | elapsed: 11.4min\n",
            "[Parallel(n_jobs=-1)]: Done 810 out of 810 | elapsed: 14.3min finished\n"
          ],
          "name": "stderr"
        },
        {
          "output_type": "execute_result",
          "data": {
            "text/plain": [
              "GridSearchCV(cv=3, error_score=nan,\n",
              "             estimator=RandomForestClassifier(bootstrap=True, ccp_alpha=0.0,\n",
              "                                              class_weight=None,\n",
              "                                              criterion='gini', max_depth=None,\n",
              "                                              max_features='auto',\n",
              "                                              max_leaf_nodes=None,\n",
              "                                              max_samples=None,\n",
              "                                              min_impurity_decrease=0.0,\n",
              "                                              min_impurity_split=None,\n",
              "                                              min_samples_leaf=1,\n",
              "                                              min_samples_split=2,\n",
              "                                              min_weight_fraction_leaf=0.0,\n",
              "                                              n_estimators=100, n_jobs=-1,\n",
              "                                              oo...re=False,\n",
              "                                              random_state=None, verbose=0,\n",
              "                                              warm_start=False),\n",
              "             iid='deprecated', n_jobs=-1,\n",
              "             param_grid={'bootstrap': [True],\n",
              "                         'max_depth': [10, 35, 60, 85, 110, None],\n",
              "                         'max_features': ['auto'],\n",
              "                         'min_samples_leaf': [1, 2, 4],\n",
              "                         'min_samples_split': [2, 5, 10],\n",
              "                         'n_estimators': [100, 325, 550, 775, 1000]},\n",
              "             pre_dispatch='2*n_jobs', refit=True, return_train_score=False,\n",
              "             scoring=None, verbose=2)"
            ]
          },
          "metadata": {
            "tags": []
          },
          "execution_count": 57
        }
      ]
    },
    {
      "cell_type": "markdown",
      "metadata": {
        "id": "gP2pT9WUeXcp"
      },
      "source": [
        "Mejores Parametros"
      ]
    },
    {
      "cell_type": "code",
      "metadata": {
        "colab": {
          "base_uri": "https://localhost:8080/"
        },
        "id": "yt2ypDjoeWAC",
        "outputId": "cebcd119-a212-4e87-b3f7-073ae0950d35"
      },
      "source": [
        "print(f'Mejores parametros: {rf_random.best_params_}')\n",
        "print(f'Mejor Desempeño: {rf_random.best_score_}')"
      ],
      "execution_count": 58,
      "outputs": [
        {
          "output_type": "execute_result",
          "data": {
            "text/plain": [
              "{'bootstrap': True,\n",
              " 'max_depth': 10,\n",
              " 'max_features': 'auto',\n",
              " 'min_samples_leaf': 1,\n",
              " 'min_samples_split': 10,\n",
              " 'n_estimators': 1000}"
            ]
          },
          "metadata": {
            "tags": []
          },
          "execution_count": 58
        }
      ]
    },
    {
      "cell_type": "markdown",
      "metadata": {
        "id": "q8pJDnh6gPNp"
      },
      "source": [
        "#### F1 Score"
      ]
    },
    {
      "cell_type": "code",
      "metadata": {
        "colab": {
          "base_uri": "https://localhost:8080/"
        },
        "id": "v9weib6lgYP4",
        "outputId": "2d6f67c2-dd03-4cee-b340-19d50230bd9e"
      },
      "source": [
        "# Numero de Arboles en el Bosque\n",
        "n_estimators = [int(x) for x in np.linspace(start = 800, stop = 1200, num = 3)]\n",
        "# Numero de Variables por split, tecnica\n",
        "max_features = ['auto']\n",
        "# Profundidad del Arbol\n",
        "max_depth = [int(x) for x in np.linspace(5, 15, num = 3)]\n",
        "max_depth.append(None)\n",
        "# Numero minimo de observaciones para hacer el Split\n",
        "min_samples_split = [ 5, 10, 13]\n",
        "# Minimo numero de observaciones en las hojas\n",
        "min_samples_leaf = [1, 2, 4]\n",
        "# Metodo para elegir las observaciones en cada paso\n",
        "bootstrap = [True]\n",
        "# Crea el grid de busqueda\n",
        "random_grid = {'n_estimators': n_estimators,\n",
        "               'max_features': max_features,\n",
        "               'max_depth': max_depth,\n",
        "               'min_samples_split': min_samples_split,\n",
        "               'min_samples_leaf': min_samples_leaf,\n",
        "               'bootstrap': bootstrap}\n",
        "pprint(random_grid)"
      ],
      "execution_count": 67,
      "outputs": [
        {
          "output_type": "stream",
          "text": [
            "{'bootstrap': [True],\n",
            " 'max_depth': [5, 10, 15, None],\n",
            " 'max_features': ['auto'],\n",
            " 'min_samples_leaf': [1, 2, 4],\n",
            " 'min_samples_split': [5, 10, 13],\n",
            " 'n_estimators': [800, 1000, 1200]}\n"
          ],
          "name": "stdout"
        }
      ]
    },
    {
      "cell_type": "markdown",
      "metadata": {
        "id": "JVRu0mQBleVC"
      },
      "source": [
        "![image.png](data:image/png;base64,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)"
      ]
    },
    {
      "cell_type": "code",
      "metadata": {
        "colab": {
          "base_uri": "https://localhost:8080/"
        },
        "id": "DuzfFAZ1gUaK",
        "outputId": "eacca402-df20-499c-d349-a2557b1075da"
      },
      "source": [
        "# Construyamos el algoritmo\n",
        "rf = RandomForestClassifier()\n",
        "# Tuneo de Hyperparametros con CV\n",
        "rf_random_f1 = GridSearchCV(estimator = rf, param_grid = random_grid, \n",
        "                                scoring = 'f1',\n",
        "                               cv = 3, verbose=2, n_jobs = -1)\n",
        "# Entrenar\n",
        "rf_random_f1.fit(X_train_new, Y_train_new)"
      ],
      "execution_count": 70,
      "outputs": [
        {
          "output_type": "stream",
          "text": [
            "Fitting 3 folds for each of 108 candidates, totalling 324 fits\n"
          ],
          "name": "stdout"
        },
        {
          "output_type": "stream",
          "text": [
            "[Parallel(n_jobs=-1)]: Using backend LokyBackend with 2 concurrent workers.\n",
            "[Parallel(n_jobs=-1)]: Done  37 tasks      | elapsed:  1.0min\n",
            "[Parallel(n_jobs=-1)]: Done 158 tasks      | elapsed:  4.4min\n",
            "[Parallel(n_jobs=-1)]: Done 324 out of 324 | elapsed:  9.4min finished\n"
          ],
          "name": "stderr"
        },
        {
          "output_type": "execute_result",
          "data": {
            "text/plain": [
              "GridSearchCV(cv=3, error_score=nan,\n",
              "             estimator=RandomForestClassifier(bootstrap=True, ccp_alpha=0.0,\n",
              "                                              class_weight=None,\n",
              "                                              criterion='gini', max_depth=None,\n",
              "                                              max_features='auto',\n",
              "                                              max_leaf_nodes=None,\n",
              "                                              max_samples=None,\n",
              "                                              min_impurity_decrease=0.0,\n",
              "                                              min_impurity_split=None,\n",
              "                                              min_samples_leaf=1,\n",
              "                                              min_samples_split=2,\n",
              "                                              min_weight_fraction_leaf=0.0,\n",
              "                                              n_estimators=100, n_jobs=None,\n",
              "                                              oob_score=False,\n",
              "                                              random_state=None, verbose=0,\n",
              "                                              warm_start=False),\n",
              "             iid='deprecated', n_jobs=-1,\n",
              "             param_grid={'bootstrap': [True], 'max_depth': [5, 10, 15, None],\n",
              "                         'max_features': ['auto'],\n",
              "                         'min_samples_leaf': [1, 2, 4],\n",
              "                         'min_samples_split': [5, 10, 13],\n",
              "                         'n_estimators': [800, 1000, 1200]},\n",
              "             pre_dispatch='2*n_jobs', refit=True, return_train_score=False,\n",
              "             scoring='f1', verbose=2)"
            ]
          },
          "metadata": {
            "tags": []
          },
          "execution_count": 70
        }
      ]
    },
    {
      "cell_type": "code",
      "metadata": {
        "colab": {
          "base_uri": "https://localhost:8080/"
        },
        "id": "CxBJUJ85ljhi",
        "outputId": "27ef8c6d-4663-4a00-d911-4d4666e02d2c"
      },
      "source": [
        "print(f'Mejores parametros: {rf_random.best_params_}')\n",
        "print(f'Mejor Desempeño: {rf_random.best_score_}')\n",
        "print(f'Mejores parametros f1: {rf_random_f1.best_params_}')\n",
        "print(f'Mejor Desempeño f1: {rf_random_f1.best_score_}')"
      ],
      "execution_count": 72,
      "outputs": [
        {
          "output_type": "stream",
          "text": [
            "Mejores parametros: {'bootstrap': True, 'max_depth': 10, 'max_features': 'auto', 'min_samples_leaf': 1, 'min_samples_split': 10, 'n_estimators': 1000}\n",
            "Mejor Desempeño: 0.950388071895425\n",
            "Mejores parametros f1: {'bootstrap': True, 'max_depth': 10, 'max_features': 'auto', 'min_samples_leaf': 1, 'min_samples_split': 5, 'n_estimators': 1200}\n",
            "Mejor Desempeño f1: 0.9441986275659948\n"
          ],
          "name": "stdout"
        }
      ]
    },
    {
      "cell_type": "markdown",
      "metadata": {
        "id": "I-tpDXi2mjiJ"
      },
      "source": [
        "En ambos casos parece que mas estimadores `n_estimators` mejora la prediccion. Tuneomos un poco mas este hyperparametro."
      ]
    },
    {
      "cell_type": "markdown",
      "metadata": {
        "id": "Kqikd76ql3JQ"
      },
      "source": [
        "#### Random Search RF V2"
      ]
    },
    {
      "cell_type": "code",
      "metadata": {
        "colab": {
          "base_uri": "https://localhost:8080/"
        },
        "id": "Y3d9GA6fl52F",
        "outputId": "c9629d5b-d18e-467e-a06a-f1adc19c69be"
      },
      "source": [
        "# Numero de Arboles en el Bosque\n",
        "n_estimators = [int(x) for x in np.linspace(start = 1000, stop = 1500, num = 5)]\n",
        "# Numero de Variables por split, tecnica\n",
        "max_features = ['auto']\n",
        "# Profundidad del Arbol\n",
        "max_depth = [10]\n",
        "max_depth.append(None)\n",
        "# Numero minimo de observaciones para hacer el Split\n",
        "min_samples_split = [ 10]\n",
        "# Minimo numero de observaciones en las hojas\n",
        "min_samples_leaf = [1]\n",
        "# Metodo para elegir las observaciones en cada paso\n",
        "bootstrap = [True]\n",
        "# Crea el grid de busqueda\n",
        "random_grid = {'n_estimators': n_estimators,\n",
        "               'max_features': max_features,\n",
        "               'max_depth': max_depth,\n",
        "               'min_samples_split': min_samples_split,\n",
        "               'min_samples_leaf': min_samples_leaf,\n",
        "               'bootstrap': bootstrap}\n",
        "pprint(random_grid)"
      ],
      "execution_count": 73,
      "outputs": [
        {
          "output_type": "stream",
          "text": [
            "{'bootstrap': [True],\n",
            " 'max_depth': [10, None],\n",
            " 'max_features': ['auto'],\n",
            " 'min_samples_leaf': [1],\n",
            " 'min_samples_split': [10],\n",
            " 'n_estimators': [1000, 1125, 1250, 1375, 1500]}\n"
          ],
          "name": "stdout"
        }
      ]
    },
    {
      "cell_type": "code",
      "metadata": {
        "colab": {
          "base_uri": "https://localhost:8080/"
        },
        "id": "BzVRn1AvmU0O",
        "outputId": "c558035e-a420-4628-9899-8bc49daf1e38"
      },
      "source": [
        "# Construyamos el algoritmo\n",
        "rf = RandomForestClassifier()\n",
        "# Tuneo de Hyperparametros con CV\n",
        "rf_random2 = GridSearchCV(estimator = rf, param_grid = random_grid, \n",
        "                                scoring = 'accuracy',\n",
        "                               cv = 3, verbose=2, n_jobs = -1)\n",
        "# Entrenar\n",
        "rf_random2.fit(X_train_new, Y_train_new)"
      ],
      "execution_count": 74,
      "outputs": [
        {
          "output_type": "stream",
          "text": [
            "Fitting 3 folds for each of 10 candidates, totalling 30 fits\n"
          ],
          "name": "stdout"
        },
        {
          "output_type": "stream",
          "text": [
            "[Parallel(n_jobs=-1)]: Using backend LokyBackend with 2 concurrent workers.\n",
            "[Parallel(n_jobs=-1)]: Done  30 out of  30 | elapsed:  1.2min finished\n"
          ],
          "name": "stderr"
        },
        {
          "output_type": "execute_result",
          "data": {
            "text/plain": [
              "GridSearchCV(cv=3, error_score=nan,\n",
              "             estimator=RandomForestClassifier(bootstrap=True, ccp_alpha=0.0,\n",
              "                                              class_weight=None,\n",
              "                                              criterion='gini', max_depth=None,\n",
              "                                              max_features='auto',\n",
              "                                              max_leaf_nodes=None,\n",
              "                                              max_samples=None,\n",
              "                                              min_impurity_decrease=0.0,\n",
              "                                              min_impurity_split=None,\n",
              "                                              min_samples_leaf=1,\n",
              "                                              min_samples_split=2,\n",
              "                                              min_weight_fraction_leaf=0.0,\n",
              "                                              n_estimators=100, n_jobs=None,\n",
              "                                              oob_score=False,\n",
              "                                              random_state=None, verbose=0,\n",
              "                                              warm_start=False),\n",
              "             iid='deprecated', n_jobs=-1,\n",
              "             param_grid={'bootstrap': [True], 'max_depth': [10, None],\n",
              "                         'max_features': ['auto'], 'min_samples_leaf': [1],\n",
              "                         'min_samples_split': [10],\n",
              "                         'n_estimators': [1000, 1125, 1250, 1375, 1500]},\n",
              "             pre_dispatch='2*n_jobs', refit=True, return_train_score=False,\n",
              "             scoring='accuracy', verbose=2)"
            ]
          },
          "metadata": {
            "tags": []
          },
          "execution_count": 74
        }
      ]
    },
    {
      "cell_type": "code",
      "metadata": {
        "colab": {
          "base_uri": "https://localhost:8080/"
        },
        "id": "id16Ojh5mw4_",
        "outputId": "a6657c5f-2a97-48b3-87db-39a46cae1135"
      },
      "source": [
        "print(f'Mejores parametros: {rf_random2.best_params_}')\n",
        "print(f'Mejor Desempeño 2: {rf_random2.best_score_}')\n",
        "print(f'Mejor Desempeño: {rf_random.best_score_}')"
      ],
      "execution_count": 76,
      "outputs": [
        {
          "output_type": "stream",
          "text": [
            "Mejores parametros: {'bootstrap': True, 'max_depth': 10, 'max_features': 'auto', 'min_samples_leaf': 1, 'min_samples_split': 10, 'n_estimators': 1250}\n",
            "Mejor Desempeño 2: 0.950388071895425\n",
            "Mejor Desempeño: 0.950388071895425\n"
          ],
          "name": "stdout"
        }
      ]
    },
    {
      "cell_type": "markdown",
      "metadata": {
        "id": "YAN8dglznBnh"
      },
      "source": [
        "Parece que el desempeño es marginalmente mejor con mas estimadores, sin embargo, usemos el modelo parsimonioso."
      ]
    },
    {
      "cell_type": "markdown",
      "metadata": {
        "id": "MD4zdn9vf8tb"
      },
      "source": [
        "## Random Forest Test"
      ]
    },
    {
      "cell_type": "code",
      "metadata": {
        "colab": {
          "base_uri": "https://localhost:8080/",
          "height": 505
        },
        "id": "qPDDrbmVfCwV",
        "outputId": "5726a0af-e4bf-4908-9695-fe3a72ae5afe"
      },
      "source": [
        "rf_opt = RandomForestClassifier(**rf_random.best_params_)\n",
        "rf_opt.fit(X_train_new, Y_train_new)\n",
        "\n",
        "# Estimar Test\n",
        "predictions = rf_opt.predict(X_test)\n",
        "print(accuracy_score(Y_test, predictions))\n",
        "print(confusion_matrix(Y_test, predictions))\n",
        "print(classification_report(Y_test, predictions))\n",
        "\n",
        "df_cm = pd.DataFrame(confusion_matrix(Y_test, predictions), \n",
        "                     columns=np.unique(Y_test), index = np.unique(Y_test))\n",
        "df_cm.index.name = 'Actual'\n",
        "df_cm.columns.name = 'Predicted'\n",
        "sns.heatmap(df_cm, cmap=\"Blues\", annot=True,annot_kws={\"size\": 16})"
      ],
      "execution_count": 90,
      "outputs": [
        {
          "output_type": "stream",
          "text": [
            "0.9667565517822533\n",
            "[[68720  2356]\n",
            " [   11   115]]\n",
            "              precision    recall  f1-score   support\n",
            "\n",
            "           0       1.00      0.97      0.98     71076\n",
            "           1       0.05      0.91      0.09       126\n",
            "\n",
            "    accuracy                           0.97     71202\n",
            "   macro avg       0.52      0.94      0.54     71202\n",
            "weighted avg       1.00      0.97      0.98     71202\n",
            "\n"
          ],
          "name": "stdout"
        },
        {
          "output_type": "execute_result",
          "data": {
            "text/plain": [
              "<matplotlib.axes._subplots.AxesSubplot at 0x7f43cd0bc810>"
            ]
          },
          "metadata": {
            "tags": []
          },
          "execution_count": 90
        },
        {
          "output_type": "display_data",
          "data": {
            "image/png": "[encoded data removed]",
            "text/plain": [
              "<Figure size 432x288 with 2 Axes>"
            ]
          },
          "metadata": {
            "tags": [],
            "needs_background": "light"
          }
        }
      ]
    }
  ]
}