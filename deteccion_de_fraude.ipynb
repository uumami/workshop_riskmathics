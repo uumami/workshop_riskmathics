{
  "nbformat": 4,
  "nbformat_minor": 0,
  "metadata": {
    "colab": {
      "name": "deteccion_de_fraude.ipynb",
      "provenance": [],
      "collapsed_sections": [],
      "authorship_tag": "ABX9TyOVj6NLdWkcGwU58ru0FEw5",
      "include_colab_link": true
    },
    "kernelspec": {
      "name": "python3",
      "display_name": "Python 3"
    },
    "language_info": {
      "name": "python"
    }
  },
  "cells": [
    {
      "cell_type": "markdown",
      "metadata": {
        "id": "view-in-github",
        "colab_type": "text"
      },
      "source": [
        "<a href=\"https://colab.research.google.com/github/uumami/workshop_riskmathics/blob/main/deteccion_de_fraude.ipynb\" target=\"_parent\"><img src=\"https://colab.research.google.com/assets/colab-badge.svg\" alt=\"Open In Colab\"/></a>"
      ]
    },
    {
      "cell_type": "markdown",
      "metadata": {
        "id": "c6_kljyhoaTB"
      },
      "source": [
        "# Deteccion de Fraude"
      ]
    },
    {
      "cell_type": "markdown",
      "metadata": {
        "id": "dJ3kn03tohI7"
      },
      "source": [
        "El objetivo de este proyecto es comparar varios modelos de clasificacion en la deteccion de fraude en transacciones."
      ]
    },
    {
      "cell_type": "markdown",
      "metadata": {
        "id": "HJCNic_6pQwu"
      },
      "source": [
        "# Definicion del Problema"
      ]
    },
    {
      "cell_type": "markdown",
      "metadata": {
        "id": "WQhfRVhTpSOs"
      },
      "source": [
        "Utilizaremos los datos de Kaggle: https://www.kaggle.com/mlg-ulb/creditcardfraud"
      ]
    },
    {
      "cell_type": "markdown",
      "metadata": {
        "id": "TelgQ-aFpdZv"
      },
      "source": [
        "Para nuestro proyecto definiremos con valor 1 ($y=1$) cuando la traduccion fue fraudulenta, y 0 ($y=0$) en otro caso.  \n",
        "\n",
        "LOs datos contienen transacciones de tarjetas de credito de Septiembre 2013, todas de peronas que viven en Europa. En total tenemos acceso a 2 dias de transacciones, donde hubo un total de 284k transacciones con 492 fraudes. Los fraudes solo representan el **.172%** del total de transacciones.  \n",
        "\n",
        "El task es predecir el fraude. La variable `Class` es nuestro target ($y$). Las variables ya han sido preprocesadas con PCA para mantener anonimato, por lo que es algo dificil de interpretarlas directamnte."
      ]
    },
    {
      "cell_type": "markdown",
      "metadata": {
        "id": "4evb8BTFtMQR"
      },
      "source": [
        "# Librerias"
      ]
    },
    {
      "cell_type": "code",
      "metadata": {
        "id": "3sfFNgLztOuW"
      },
      "source": [
        "# Load libraries\n",
        "import numpy as np\n",
        "import pandas as pd\n",
        "from matplotlib import pyplot\n",
        "from pandas import read_csv, set_option\n",
        "from pandas.plotting import scatter_matrix\n",
        "import seaborn as sns\n",
        "from sklearn.model_selection import train_test_split, KFold, cross_val_score, GridSearchCV\n",
        "from sklearn.linear_model import LogisticRegression\n",
        "from sklearn.linear_model import ElasticNet\n",
        "from sklearn.tree import DecisionTreeClassifier\n",
        "from sklearn.neighbors import KNeighborsClassifier\n",
        "from sklearn.discriminant_analysis import LinearDiscriminantAnalysis\n",
        "from sklearn.naive_bayes import GaussianNB\n",
        "from sklearn.svm import SVC\n",
        "from sklearn.neural_network import MLPClassifier\n",
        "from sklearn.pipeline import Pipeline\n",
        "from sklearn.ensemble import AdaBoostClassifier, GradientBoostingClassifier, RandomForestClassifier, ExtraTreesClassifier\n",
        "from sklearn.metrics import classification_report, confusion_matrix, accuracy_score\n",
        "\n",
        "#Libraries for Deep Learning Models\n",
        "from keras.models import Sequential\n",
        "from keras.layers import Dense\n",
        "from keras.wrappers.scikit_learn import KerasClassifier\n",
        "from keras.optimizers import SGD\n",
        "\n",
        "#Libraries for Saving the Model\n",
        "from pickle import dump\n",
        "from pickle import load"
      ],
      "execution_count": 1,
      "outputs": []
    },
    {
      "cell_type": "code",
      "metadata": {
        "id": "2fUNPhaTHGCM"
      },
      "source": [
        "import warnings\n",
        "warnings.filterwarnings('ignore')"
      ],
      "execution_count": 2,
      "outputs": []
    },
    {
      "cell_type": "markdown",
      "metadata": {
        "id": "xqcGrvWOtPKl"
      },
      "source": [
        "# ETL"
      ]
    },
    {
      "cell_type": "markdown",
      "metadata": {
        "id": "F1cirjritpsj"
      },
      "source": [
        "Carguemos la funcion de pandas\n",
        "[pd.read_csv](https://pandas.pydata.org/pandas-docs/stable/reference/api/pandas.read_csv.html)"
      ]
    },
    {
      "cell_type": "code",
      "metadata": {
        "id": "_NRoMs6HtQQy"
      },
      "source": [
        "df= read_csv('https://github.com/uumami/workshop_riskmathics/blob/main/creditcard.csv.zip?raw=true',\n",
        "              compression='zip')\n"
      ],
      "execution_count": 3,
      "outputs": []
    },
    {
      "cell_type": "markdown",
      "metadata": {
        "id": "_sFRI2uJtx6o"
      },
      "source": [
        " Veamos su dimension"
      ]
    },
    {
      "cell_type": "code",
      "metadata": {
        "colab": {
          "base_uri": "https://localhost:8080/"
        },
        "id": "3fKU5JnjtkXb",
        "outputId": "afa0a08c-3ce2-4cf7-f6b0-4c693b11b8ed"
      },
      "source": [
        "df.shape"
      ],
      "execution_count": 4,
      "outputs": [
        {
          "output_type": "execute_result",
          "data": {
            "text/plain": [
              "(284807, 31)"
            ]
          },
          "metadata": {
            "tags": []
          },
          "execution_count": 4
        }
      ]
    },
    {
      "cell_type": "markdown",
      "metadata": {
        "id": "w_0bZw2qt0Im"
      },
      "source": [
        "Veamos su informacion general"
      ]
    },
    {
      "cell_type": "code",
      "metadata": {
        "colab": {
          "base_uri": "https://localhost:8080/"
        },
        "id": "q7NIs1TIt4Zp",
        "outputId": "c10eb057-3fda-4316-9312-0d93e1c00bfd"
      },
      "source": [
        "df.info()"
      ],
      "execution_count": 5,
      "outputs": [
        {
          "output_type": "stream",
          "text": [
            "<class 'pandas.core.frame.DataFrame'>\n",
            "RangeIndex: 284807 entries, 0 to 284806\n",
            "Data columns (total 31 columns):\n",
            " #   Column  Non-Null Count   Dtype  \n",
            "---  ------  --------------   -----  \n",
            " 0   Time    284807 non-null  float64\n",
            " 1   V1      284807 non-null  float64\n",
            " 2   V2      284807 non-null  float64\n",
            " 3   V3      284807 non-null  float64\n",
            " 4   V4      284807 non-null  float64\n",
            " 5   V5      284807 non-null  float64\n",
            " 6   V6      284807 non-null  float64\n",
            " 7   V7      284807 non-null  float64\n",
            " 8   V8      284807 non-null  float64\n",
            " 9   V9      284807 non-null  float64\n",
            " 10  V10     284807 non-null  float64\n",
            " 11  V11     284807 non-null  float64\n",
            " 12  V12     284807 non-null  float64\n",
            " 13  V13     284807 non-null  float64\n",
            " 14  V14     284807 non-null  float64\n",
            " 15  V15     284807 non-null  float64\n",
            " 16  V16     284807 non-null  float64\n",
            " 17  V17     284807 non-null  float64\n",
            " 18  V18     284807 non-null  float64\n",
            " 19  V19     284807 non-null  float64\n",
            " 20  V20     284807 non-null  float64\n",
            " 21  V21     284807 non-null  float64\n",
            " 22  V22     284807 non-null  float64\n",
            " 23  V23     284807 non-null  float64\n",
            " 24  V24     284807 non-null  float64\n",
            " 25  V25     284807 non-null  float64\n",
            " 26  V26     284807 non-null  float64\n",
            " 27  V27     284807 non-null  float64\n",
            " 28  V28     284807 non-null  float64\n",
            " 29  Amount  284807 non-null  float64\n",
            " 30  Class   284807 non-null  int64  \n",
            "dtypes: float64(30), int64(1)\n",
            "memory usage: 67.4 MB\n"
          ],
          "name": "stdout"
        }
      ]
    },
    {
      "cell_type": "markdown",
      "metadata": {
        "id": "yYKl0IeluA9u"
      },
      "source": [
        "En este caso no tuvimos muchos problemas, pues la informacion ha sido pre-procesada previamente con PCA que es una tecnica de reduccion de dimensionalidad."
      ]
    },
    {
      "cell_type": "markdown",
      "metadata": {
        "id": "Y0EyF1LDuS3R"
      },
      "source": [
        "# Exploratory Data Analysis"
      ]
    },
    {
      "cell_type": "code",
      "metadata": {
        "colab": {
          "base_uri": "https://localhost:8080/",
          "height": 226
        },
        "id": "kPPCZps7vFxR",
        "outputId": "3ee84c01-3a2d-42c4-92cd-c7c532b28834"
      },
      "source": [
        "df.head()"
      ],
      "execution_count": 6,
      "outputs": [
        {
          "output_type": "execute_result",
          "data": {
            "text/html": [
              "<div>\n",
              "<style scoped>\n",
              "    .dataframe tbody tr th:only-of-type {\n",
              "        vertical-align: middle;\n",
              "    }\n",
              "\n",
              "    .dataframe tbody tr th {\n",
              "        vertical-align: top;\n",
              "    }\n",
              "\n",
              "    .dataframe thead th {\n",
              "        text-align: right;\n",
              "    }\n",
              "</style>\n",
              "<table border=\"1\" class=\"dataframe\">\n",
              "  <thead>\n",
              "    <tr style=\"text-align: right;\">\n",
              "      <th></th>\n",
              "      <th>Time</th>\n",
              "      <th>V1</th>\n",
              "      <th>V2</th>\n",
              "      <th>V3</th>\n",
              "      <th>V4</th>\n",
              "      <th>V5</th>\n",
              "      <th>V6</th>\n",
              "      <th>V7</th>\n",
              "      <th>V8</th>\n",
              "      <th>V9</th>\n",
              "      <th>V10</th>\n",
              "      <th>V11</th>\n",
              "      <th>V12</th>\n",
              "      <th>V13</th>\n",
              "      <th>V14</th>\n",
              "      <th>V15</th>\n",
              "      <th>V16</th>\n",
              "      <th>V17</th>\n",
              "      <th>V18</th>\n",
              "      <th>V19</th>\n",
              "      <th>V20</th>\n",
              "      <th>V21</th>\n",
              "      <th>V22</th>\n",
              "      <th>V23</th>\n",
              "      <th>V24</th>\n",
              "      <th>V25</th>\n",
              "      <th>V26</th>\n",
              "      <th>V27</th>\n",
              "      <th>V28</th>\n",
              "      <th>Amount</th>\n",
              "      <th>Class</th>\n",
              "    </tr>\n",
              "  </thead>\n",
              "  <tbody>\n",
              "    <tr>\n",
              "      <th>0</th>\n",
              "      <td>0.0</td>\n",
              "      <td>-1.359807</td>\n",
              "      <td>-0.072781</td>\n",
              "      <td>2.536347</td>\n",
              "      <td>1.378155</td>\n",
              "      <td>-0.338321</td>\n",
              "      <td>0.462388</td>\n",
              "      <td>0.239599</td>\n",
              "      <td>0.098698</td>\n",
              "      <td>0.363787</td>\n",
              "      <td>0.090794</td>\n",
              "      <td>-0.551600</td>\n",
              "      <td>-0.617801</td>\n",
              "      <td>-0.991390</td>\n",
              "      <td>-0.311169</td>\n",
              "      <td>1.468177</td>\n",
              "      <td>-0.470401</td>\n",
              "      <td>0.207971</td>\n",
              "      <td>0.025791</td>\n",
              "      <td>0.403993</td>\n",
              "      <td>0.251412</td>\n",
              "      <td>-0.018307</td>\n",
              "      <td>0.277838</td>\n",
              "      <td>-0.110474</td>\n",
              "      <td>0.066928</td>\n",
              "      <td>0.128539</td>\n",
              "      <td>-0.189115</td>\n",
              "      <td>0.133558</td>\n",
              "      <td>-0.021053</td>\n",
              "      <td>149.62</td>\n",
              "      <td>0</td>\n",
              "    </tr>\n",
              "    <tr>\n",
              "      <th>1</th>\n",
              "      <td>0.0</td>\n",
              "      <td>1.191857</td>\n",
              "      <td>0.266151</td>\n",
              "      <td>0.166480</td>\n",
              "      <td>0.448154</td>\n",
              "      <td>0.060018</td>\n",
              "      <td>-0.082361</td>\n",
              "      <td>-0.078803</td>\n",
              "      <td>0.085102</td>\n",
              "      <td>-0.255425</td>\n",
              "      <td>-0.166974</td>\n",
              "      <td>1.612727</td>\n",
              "      <td>1.065235</td>\n",
              "      <td>0.489095</td>\n",
              "      <td>-0.143772</td>\n",
              "      <td>0.635558</td>\n",
              "      <td>0.463917</td>\n",
              "      <td>-0.114805</td>\n",
              "      <td>-0.183361</td>\n",
              "      <td>-0.145783</td>\n",
              "      <td>-0.069083</td>\n",
              "      <td>-0.225775</td>\n",
              "      <td>-0.638672</td>\n",
              "      <td>0.101288</td>\n",
              "      <td>-0.339846</td>\n",
              "      <td>0.167170</td>\n",
              "      <td>0.125895</td>\n",
              "      <td>-0.008983</td>\n",
              "      <td>0.014724</td>\n",
              "      <td>2.69</td>\n",
              "      <td>0</td>\n",
              "    </tr>\n",
              "    <tr>\n",
              "      <th>2</th>\n",
              "      <td>1.0</td>\n",
              "      <td>-1.358354</td>\n",
              "      <td>-1.340163</td>\n",
              "      <td>1.773209</td>\n",
              "      <td>0.379780</td>\n",
              "      <td>-0.503198</td>\n",
              "      <td>1.800499</td>\n",
              "      <td>0.791461</td>\n",
              "      <td>0.247676</td>\n",
              "      <td>-1.514654</td>\n",
              "      <td>0.207643</td>\n",
              "      <td>0.624501</td>\n",
              "      <td>0.066084</td>\n",
              "      <td>0.717293</td>\n",
              "      <td>-0.165946</td>\n",
              "      <td>2.345865</td>\n",
              "      <td>-2.890083</td>\n",
              "      <td>1.109969</td>\n",
              "      <td>-0.121359</td>\n",
              "      <td>-2.261857</td>\n",
              "      <td>0.524980</td>\n",
              "      <td>0.247998</td>\n",
              "      <td>0.771679</td>\n",
              "      <td>0.909412</td>\n",
              "      <td>-0.689281</td>\n",
              "      <td>-0.327642</td>\n",
              "      <td>-0.139097</td>\n",
              "      <td>-0.055353</td>\n",
              "      <td>-0.059752</td>\n",
              "      <td>378.66</td>\n",
              "      <td>0</td>\n",
              "    </tr>\n",
              "    <tr>\n",
              "      <th>3</th>\n",
              "      <td>1.0</td>\n",
              "      <td>-0.966272</td>\n",
              "      <td>-0.185226</td>\n",
              "      <td>1.792993</td>\n",
              "      <td>-0.863291</td>\n",
              "      <td>-0.010309</td>\n",
              "      <td>1.247203</td>\n",
              "      <td>0.237609</td>\n",
              "      <td>0.377436</td>\n",
              "      <td>-1.387024</td>\n",
              "      <td>-0.054952</td>\n",
              "      <td>-0.226487</td>\n",
              "      <td>0.178228</td>\n",
              "      <td>0.507757</td>\n",
              "      <td>-0.287924</td>\n",
              "      <td>-0.631418</td>\n",
              "      <td>-1.059647</td>\n",
              "      <td>-0.684093</td>\n",
              "      <td>1.965775</td>\n",
              "      <td>-1.232622</td>\n",
              "      <td>-0.208038</td>\n",
              "      <td>-0.108300</td>\n",
              "      <td>0.005274</td>\n",
              "      <td>-0.190321</td>\n",
              "      <td>-1.175575</td>\n",
              "      <td>0.647376</td>\n",
              "      <td>-0.221929</td>\n",
              "      <td>0.062723</td>\n",
              "      <td>0.061458</td>\n",
              "      <td>123.50</td>\n",
              "      <td>0</td>\n",
              "    </tr>\n",
              "    <tr>\n",
              "      <th>4</th>\n",
              "      <td>2.0</td>\n",
              "      <td>-1.158233</td>\n",
              "      <td>0.877737</td>\n",
              "      <td>1.548718</td>\n",
              "      <td>0.403034</td>\n",
              "      <td>-0.407193</td>\n",
              "      <td>0.095921</td>\n",
              "      <td>0.592941</td>\n",
              "      <td>-0.270533</td>\n",
              "      <td>0.817739</td>\n",
              "      <td>0.753074</td>\n",
              "      <td>-0.822843</td>\n",
              "      <td>0.538196</td>\n",
              "      <td>1.345852</td>\n",
              "      <td>-1.119670</td>\n",
              "      <td>0.175121</td>\n",
              "      <td>-0.451449</td>\n",
              "      <td>-0.237033</td>\n",
              "      <td>-0.038195</td>\n",
              "      <td>0.803487</td>\n",
              "      <td>0.408542</td>\n",
              "      <td>-0.009431</td>\n",
              "      <td>0.798278</td>\n",
              "      <td>-0.137458</td>\n",
              "      <td>0.141267</td>\n",
              "      <td>-0.206010</td>\n",
              "      <td>0.502292</td>\n",
              "      <td>0.219422</td>\n",
              "      <td>0.215153</td>\n",
              "      <td>69.99</td>\n",
              "      <td>0</td>\n",
              "    </tr>\n",
              "  </tbody>\n",
              "</table>\n",
              "</div>"
            ],
            "text/plain": [
              "   Time        V1        V2        V3  ...       V27       V28  Amount  Class\n",
              "0   0.0 -1.359807 -0.072781  2.536347  ...  0.133558 -0.021053  149.62      0\n",
              "1   0.0  1.191857  0.266151  0.166480  ... -0.008983  0.014724    2.69      0\n",
              "2   1.0 -1.358354 -1.340163  1.773209  ... -0.055353 -0.059752  378.66      0\n",
              "3   1.0 -0.966272 -0.185226  1.792993  ...  0.062723  0.061458  123.50      0\n",
              "4   2.0 -1.158233  0.877737  1.548718  ...  0.219422  0.215153   69.99      0\n",
              "\n",
              "[5 rows x 31 columns]"
            ]
          },
          "metadata": {
            "tags": []
          },
          "execution_count": 6
        }
      ]
    },
    {
      "cell_type": "code",
      "metadata": {
        "colab": {
          "base_uri": "https://localhost:8080/",
          "height": 320
        },
        "id": "HvaRODHPuTo4",
        "outputId": "70547a3e-609e-4151-e7f7-9910746b0f78"
      },
      "source": [
        "df.describe()"
      ],
      "execution_count": 7,
      "outputs": [
        {
          "output_type": "execute_result",
          "data": {
            "text/html": [
              "<div>\n",
              "<style scoped>\n",
              "    .dataframe tbody tr th:only-of-type {\n",
              "        vertical-align: middle;\n",
              "    }\n",
              "\n",
              "    .dataframe tbody tr th {\n",
              "        vertical-align: top;\n",
              "    }\n",
              "\n",
              "    .dataframe thead th {\n",
              "        text-align: right;\n",
              "    }\n",
              "</style>\n",
              "<table border=\"1\" class=\"dataframe\">\n",
              "  <thead>\n",
              "    <tr style=\"text-align: right;\">\n",
              "      <th></th>\n",
              "      <th>Time</th>\n",
              "      <th>V1</th>\n",
              "      <th>V2</th>\n",
              "      <th>V3</th>\n",
              "      <th>V4</th>\n",
              "      <th>V5</th>\n",
              "      <th>V6</th>\n",
              "      <th>V7</th>\n",
              "      <th>V8</th>\n",
              "      <th>V9</th>\n",
              "      <th>V10</th>\n",
              "      <th>V11</th>\n",
              "      <th>V12</th>\n",
              "      <th>V13</th>\n",
              "      <th>V14</th>\n",
              "      <th>V15</th>\n",
              "      <th>V16</th>\n",
              "      <th>V17</th>\n",
              "      <th>V18</th>\n",
              "      <th>V19</th>\n",
              "      <th>V20</th>\n",
              "      <th>V21</th>\n",
              "      <th>V22</th>\n",
              "      <th>V23</th>\n",
              "      <th>V24</th>\n",
              "      <th>V25</th>\n",
              "      <th>V26</th>\n",
              "      <th>V27</th>\n",
              "      <th>V28</th>\n",
              "      <th>Amount</th>\n",
              "      <th>Class</th>\n",
              "    </tr>\n",
              "  </thead>\n",
              "  <tbody>\n",
              "    <tr>\n",
              "      <th>count</th>\n",
              "      <td>284807.000000</td>\n",
              "      <td>2.848070e+05</td>\n",
              "      <td>2.848070e+05</td>\n",
              "      <td>2.848070e+05</td>\n",
              "      <td>2.848070e+05</td>\n",
              "      <td>2.848070e+05</td>\n",
              "      <td>2.848070e+05</td>\n",
              "      <td>2.848070e+05</td>\n",
              "      <td>2.848070e+05</td>\n",
              "      <td>2.848070e+05</td>\n",
              "      <td>2.848070e+05</td>\n",
              "      <td>2.848070e+05</td>\n",
              "      <td>2.848070e+05</td>\n",
              "      <td>2.848070e+05</td>\n",
              "      <td>2.848070e+05</td>\n",
              "      <td>2.848070e+05</td>\n",
              "      <td>2.848070e+05</td>\n",
              "      <td>2.848070e+05</td>\n",
              "      <td>2.848070e+05</td>\n",
              "      <td>2.848070e+05</td>\n",
              "      <td>2.848070e+05</td>\n",
              "      <td>2.848070e+05</td>\n",
              "      <td>2.848070e+05</td>\n",
              "      <td>2.848070e+05</td>\n",
              "      <td>2.848070e+05</td>\n",
              "      <td>2.848070e+05</td>\n",
              "      <td>2.848070e+05</td>\n",
              "      <td>2.848070e+05</td>\n",
              "      <td>2.848070e+05</td>\n",
              "      <td>284807.000000</td>\n",
              "      <td>284807.000000</td>\n",
              "    </tr>\n",
              "    <tr>\n",
              "      <th>mean</th>\n",
              "      <td>94813.859575</td>\n",
              "      <td>3.919560e-15</td>\n",
              "      <td>5.688174e-16</td>\n",
              "      <td>-8.769071e-15</td>\n",
              "      <td>2.782312e-15</td>\n",
              "      <td>-1.552563e-15</td>\n",
              "      <td>2.010663e-15</td>\n",
              "      <td>-1.694249e-15</td>\n",
              "      <td>-1.927028e-16</td>\n",
              "      <td>-3.137024e-15</td>\n",
              "      <td>1.768627e-15</td>\n",
              "      <td>9.170318e-16</td>\n",
              "      <td>-1.810658e-15</td>\n",
              "      <td>1.693438e-15</td>\n",
              "      <td>1.479045e-15</td>\n",
              "      <td>3.482336e-15</td>\n",
              "      <td>1.392007e-15</td>\n",
              "      <td>-7.528491e-16</td>\n",
              "      <td>4.328772e-16</td>\n",
              "      <td>9.049732e-16</td>\n",
              "      <td>5.085503e-16</td>\n",
              "      <td>1.537294e-16</td>\n",
              "      <td>7.959909e-16</td>\n",
              "      <td>5.367590e-16</td>\n",
              "      <td>4.458112e-15</td>\n",
              "      <td>1.453003e-15</td>\n",
              "      <td>1.699104e-15</td>\n",
              "      <td>-3.660161e-16</td>\n",
              "      <td>-1.206049e-16</td>\n",
              "      <td>88.349619</td>\n",
              "      <td>0.001727</td>\n",
              "    </tr>\n",
              "    <tr>\n",
              "      <th>std</th>\n",
              "      <td>47488.145955</td>\n",
              "      <td>1.958696e+00</td>\n",
              "      <td>1.651309e+00</td>\n",
              "      <td>1.516255e+00</td>\n",
              "      <td>1.415869e+00</td>\n",
              "      <td>1.380247e+00</td>\n",
              "      <td>1.332271e+00</td>\n",
              "      <td>1.237094e+00</td>\n",
              "      <td>1.194353e+00</td>\n",
              "      <td>1.098632e+00</td>\n",
              "      <td>1.088850e+00</td>\n",
              "      <td>1.020713e+00</td>\n",
              "      <td>9.992014e-01</td>\n",
              "      <td>9.952742e-01</td>\n",
              "      <td>9.585956e-01</td>\n",
              "      <td>9.153160e-01</td>\n",
              "      <td>8.762529e-01</td>\n",
              "      <td>8.493371e-01</td>\n",
              "      <td>8.381762e-01</td>\n",
              "      <td>8.140405e-01</td>\n",
              "      <td>7.709250e-01</td>\n",
              "      <td>7.345240e-01</td>\n",
              "      <td>7.257016e-01</td>\n",
              "      <td>6.244603e-01</td>\n",
              "      <td>6.056471e-01</td>\n",
              "      <td>5.212781e-01</td>\n",
              "      <td>4.822270e-01</td>\n",
              "      <td>4.036325e-01</td>\n",
              "      <td>3.300833e-01</td>\n",
              "      <td>250.120109</td>\n",
              "      <td>0.041527</td>\n",
              "    </tr>\n",
              "    <tr>\n",
              "      <th>min</th>\n",
              "      <td>0.000000</td>\n",
              "      <td>-5.640751e+01</td>\n",
              "      <td>-7.271573e+01</td>\n",
              "      <td>-4.832559e+01</td>\n",
              "      <td>-5.683171e+00</td>\n",
              "      <td>-1.137433e+02</td>\n",
              "      <td>-2.616051e+01</td>\n",
              "      <td>-4.355724e+01</td>\n",
              "      <td>-7.321672e+01</td>\n",
              "      <td>-1.343407e+01</td>\n",
              "      <td>-2.458826e+01</td>\n",
              "      <td>-4.797473e+00</td>\n",
              "      <td>-1.868371e+01</td>\n",
              "      <td>-5.791881e+00</td>\n",
              "      <td>-1.921433e+01</td>\n",
              "      <td>-4.498945e+00</td>\n",
              "      <td>-1.412985e+01</td>\n",
              "      <td>-2.516280e+01</td>\n",
              "      <td>-9.498746e+00</td>\n",
              "      <td>-7.213527e+00</td>\n",
              "      <td>-5.449772e+01</td>\n",
              "      <td>-3.483038e+01</td>\n",
              "      <td>-1.093314e+01</td>\n",
              "      <td>-4.480774e+01</td>\n",
              "      <td>-2.836627e+00</td>\n",
              "      <td>-1.029540e+01</td>\n",
              "      <td>-2.604551e+00</td>\n",
              "      <td>-2.256568e+01</td>\n",
              "      <td>-1.543008e+01</td>\n",
              "      <td>0.000000</td>\n",
              "      <td>0.000000</td>\n",
              "    </tr>\n",
              "    <tr>\n",
              "      <th>25%</th>\n",
              "      <td>54201.500000</td>\n",
              "      <td>-9.203734e-01</td>\n",
              "      <td>-5.985499e-01</td>\n",
              "      <td>-8.903648e-01</td>\n",
              "      <td>-8.486401e-01</td>\n",
              "      <td>-6.915971e-01</td>\n",
              "      <td>-7.682956e-01</td>\n",
              "      <td>-5.540759e-01</td>\n",
              "      <td>-2.086297e-01</td>\n",
              "      <td>-6.430976e-01</td>\n",
              "      <td>-5.354257e-01</td>\n",
              "      <td>-7.624942e-01</td>\n",
              "      <td>-4.055715e-01</td>\n",
              "      <td>-6.485393e-01</td>\n",
              "      <td>-4.255740e-01</td>\n",
              "      <td>-5.828843e-01</td>\n",
              "      <td>-4.680368e-01</td>\n",
              "      <td>-4.837483e-01</td>\n",
              "      <td>-4.988498e-01</td>\n",
              "      <td>-4.562989e-01</td>\n",
              "      <td>-2.117214e-01</td>\n",
              "      <td>-2.283949e-01</td>\n",
              "      <td>-5.423504e-01</td>\n",
              "      <td>-1.618463e-01</td>\n",
              "      <td>-3.545861e-01</td>\n",
              "      <td>-3.171451e-01</td>\n",
              "      <td>-3.269839e-01</td>\n",
              "      <td>-7.083953e-02</td>\n",
              "      <td>-5.295979e-02</td>\n",
              "      <td>5.600000</td>\n",
              "      <td>0.000000</td>\n",
              "    </tr>\n",
              "    <tr>\n",
              "      <th>50%</th>\n",
              "      <td>84692.000000</td>\n",
              "      <td>1.810880e-02</td>\n",
              "      <td>6.548556e-02</td>\n",
              "      <td>1.798463e-01</td>\n",
              "      <td>-1.984653e-02</td>\n",
              "      <td>-5.433583e-02</td>\n",
              "      <td>-2.741871e-01</td>\n",
              "      <td>4.010308e-02</td>\n",
              "      <td>2.235804e-02</td>\n",
              "      <td>-5.142873e-02</td>\n",
              "      <td>-9.291738e-02</td>\n",
              "      <td>-3.275735e-02</td>\n",
              "      <td>1.400326e-01</td>\n",
              "      <td>-1.356806e-02</td>\n",
              "      <td>5.060132e-02</td>\n",
              "      <td>4.807155e-02</td>\n",
              "      <td>6.641332e-02</td>\n",
              "      <td>-6.567575e-02</td>\n",
              "      <td>-3.636312e-03</td>\n",
              "      <td>3.734823e-03</td>\n",
              "      <td>-6.248109e-02</td>\n",
              "      <td>-2.945017e-02</td>\n",
              "      <td>6.781943e-03</td>\n",
              "      <td>-1.119293e-02</td>\n",
              "      <td>4.097606e-02</td>\n",
              "      <td>1.659350e-02</td>\n",
              "      <td>-5.213911e-02</td>\n",
              "      <td>1.342146e-03</td>\n",
              "      <td>1.124383e-02</td>\n",
              "      <td>22.000000</td>\n",
              "      <td>0.000000</td>\n",
              "    </tr>\n",
              "    <tr>\n",
              "      <th>75%</th>\n",
              "      <td>139320.500000</td>\n",
              "      <td>1.315642e+00</td>\n",
              "      <td>8.037239e-01</td>\n",
              "      <td>1.027196e+00</td>\n",
              "      <td>7.433413e-01</td>\n",
              "      <td>6.119264e-01</td>\n",
              "      <td>3.985649e-01</td>\n",
              "      <td>5.704361e-01</td>\n",
              "      <td>3.273459e-01</td>\n",
              "      <td>5.971390e-01</td>\n",
              "      <td>4.539234e-01</td>\n",
              "      <td>7.395934e-01</td>\n",
              "      <td>6.182380e-01</td>\n",
              "      <td>6.625050e-01</td>\n",
              "      <td>4.931498e-01</td>\n",
              "      <td>6.488208e-01</td>\n",
              "      <td>5.232963e-01</td>\n",
              "      <td>3.996750e-01</td>\n",
              "      <td>5.008067e-01</td>\n",
              "      <td>4.589494e-01</td>\n",
              "      <td>1.330408e-01</td>\n",
              "      <td>1.863772e-01</td>\n",
              "      <td>5.285536e-01</td>\n",
              "      <td>1.476421e-01</td>\n",
              "      <td>4.395266e-01</td>\n",
              "      <td>3.507156e-01</td>\n",
              "      <td>2.409522e-01</td>\n",
              "      <td>9.104512e-02</td>\n",
              "      <td>7.827995e-02</td>\n",
              "      <td>77.165000</td>\n",
              "      <td>0.000000</td>\n",
              "    </tr>\n",
              "    <tr>\n",
              "      <th>max</th>\n",
              "      <td>172792.000000</td>\n",
              "      <td>2.454930e+00</td>\n",
              "      <td>2.205773e+01</td>\n",
              "      <td>9.382558e+00</td>\n",
              "      <td>1.687534e+01</td>\n",
              "      <td>3.480167e+01</td>\n",
              "      <td>7.330163e+01</td>\n",
              "      <td>1.205895e+02</td>\n",
              "      <td>2.000721e+01</td>\n",
              "      <td>1.559499e+01</td>\n",
              "      <td>2.374514e+01</td>\n",
              "      <td>1.201891e+01</td>\n",
              "      <td>7.848392e+00</td>\n",
              "      <td>7.126883e+00</td>\n",
              "      <td>1.052677e+01</td>\n",
              "      <td>8.877742e+00</td>\n",
              "      <td>1.731511e+01</td>\n",
              "      <td>9.253526e+00</td>\n",
              "      <td>5.041069e+00</td>\n",
              "      <td>5.591971e+00</td>\n",
              "      <td>3.942090e+01</td>\n",
              "      <td>2.720284e+01</td>\n",
              "      <td>1.050309e+01</td>\n",
              "      <td>2.252841e+01</td>\n",
              "      <td>4.584549e+00</td>\n",
              "      <td>7.519589e+00</td>\n",
              "      <td>3.517346e+00</td>\n",
              "      <td>3.161220e+01</td>\n",
              "      <td>3.384781e+01</td>\n",
              "      <td>25691.160000</td>\n",
              "      <td>1.000000</td>\n",
              "    </tr>\n",
              "  </tbody>\n",
              "</table>\n",
              "</div>"
            ],
            "text/plain": [
              "                Time            V1  ...         Amount          Class\n",
              "count  284807.000000  2.848070e+05  ...  284807.000000  284807.000000\n",
              "mean    94813.859575  3.919560e-15  ...      88.349619       0.001727\n",
              "std     47488.145955  1.958696e+00  ...     250.120109       0.041527\n",
              "min         0.000000 -5.640751e+01  ...       0.000000       0.000000\n",
              "25%     54201.500000 -9.203734e-01  ...       5.600000       0.000000\n",
              "50%     84692.000000  1.810880e-02  ...      22.000000       0.000000\n",
              "75%    139320.500000  1.315642e+00  ...      77.165000       0.000000\n",
              "max    172792.000000  2.454930e+00  ...   25691.160000       1.000000\n",
              "\n",
              "[8 rows x 31 columns]"
            ]
          },
          "metadata": {
            "tags": []
          },
          "execution_count": 7
        }
      ]
    },
    {
      "cell_type": "markdown",
      "metadata": {
        "id": "Y4PEjw6Euh2-"
      },
      "source": [
        "**Balanceo de Y**"
      ]
    },
    {
      "cell_type": "code",
      "metadata": {
        "colab": {
          "base_uri": "https://localhost:8080/"
        },
        "id": "IlBzUaTvunHg",
        "outputId": "1a0fb960-ed38-40e1-fa21-37e1e640e683"
      },
      "source": [
        "class_names = {0:'Not Fraud', 1:'Fraud'}\n",
        "print(df.Class.value_counts().rename(index = class_names))"
      ],
      "execution_count": 8,
      "outputs": [
        {
          "output_type": "stream",
          "text": [
            "Not Fraud    284315\n",
            "Fraud           492\n",
            "Name: Class, dtype: int64\n"
          ],
          "name": "stdout"
        }
      ]
    },
    {
      "cell_type": "markdown",
      "metadata": {
        "id": "BUSDGddRuwI6"
      },
      "source": [
        "Podemos observar como nuestras clases estan extremadamente desbalanceadas, la mayoria no son fraude."
      ]
    },
    {
      "cell_type": "markdown",
      "metadata": {
        "id": "XlcjeWPju2vV"
      },
      "source": [
        "## Descripciones Visuales y Graficas"
      ]
    },
    {
      "cell_type": "code",
      "metadata": {
        "colab": {
          "base_uri": "https://localhost:8080/",
          "height": 707
        },
        "id": "rVzrsrB7u7d3",
        "outputId": "035a1a34-9280-4b0b-bd5b-ecb036a70474"
      },
      "source": [
        "# histograms\n",
        "df.hist(sharex=False, sharey=False, xlabelsize=1, ylabelsize=1, figsize=(12,12))\n",
        "pyplot.show()"
      ],
      "execution_count": 9,
      "outputs": [
        {
          "output_type": "display_data",
          "data": {
            "image/png": "[encoded data removed]",
            "text/plain": [
              "<Figure size 864x864 with 36 Axes>"
            ]
          },
          "metadata": {
            "tags": [],
            "needs_background": "light"
          }
        }
      ]
    },
    {
      "cell_type": "markdown",
      "metadata": {
        "id": "eMninTipvK5Q"
      },
      "source": [
        "Podemos observar que la distribucion de los datos esta sesgada. Pero, dado que no conocemos el significado de cada variable, es dificil tener una interpretacion."
      ]
    },
    {
      "cell_type": "code",
      "metadata": {
        "colab": {
          "base_uri": "https://localhost:8080/",
          "height": 300
        },
        "id": "uYc93CEavXom",
        "outputId": "cc4a5954-f0bc-4016-ae18-98384d9cd402"
      },
      "source": [
        "df[['Time', 'Amount']].describe()"
      ],
      "execution_count": 10,
      "outputs": [
        {
          "output_type": "execute_result",
          "data": {
            "text/html": [
              "<div>\n",
              "<style scoped>\n",
              "    .dataframe tbody tr th:only-of-type {\n",
              "        vertical-align: middle;\n",
              "    }\n",
              "\n",
              "    .dataframe tbody tr th {\n",
              "        vertical-align: top;\n",
              "    }\n",
              "\n",
              "    .dataframe thead th {\n",
              "        text-align: right;\n",
              "    }\n",
              "</style>\n",
              "<table border=\"1\" class=\"dataframe\">\n",
              "  <thead>\n",
              "    <tr style=\"text-align: right;\">\n",
              "      <th></th>\n",
              "      <th>Time</th>\n",
              "      <th>Amount</th>\n",
              "    </tr>\n",
              "  </thead>\n",
              "  <tbody>\n",
              "    <tr>\n",
              "      <th>count</th>\n",
              "      <td>284807.000000</td>\n",
              "      <td>284807.000000</td>\n",
              "    </tr>\n",
              "    <tr>\n",
              "      <th>mean</th>\n",
              "      <td>94813.859575</td>\n",
              "      <td>88.349619</td>\n",
              "    </tr>\n",
              "    <tr>\n",
              "      <th>std</th>\n",
              "      <td>47488.145955</td>\n",
              "      <td>250.120109</td>\n",
              "    </tr>\n",
              "    <tr>\n",
              "      <th>min</th>\n",
              "      <td>0.000000</td>\n",
              "      <td>0.000000</td>\n",
              "    </tr>\n",
              "    <tr>\n",
              "      <th>25%</th>\n",
              "      <td>54201.500000</td>\n",
              "      <td>5.600000</td>\n",
              "    </tr>\n",
              "    <tr>\n",
              "      <th>50%</th>\n",
              "      <td>84692.000000</td>\n",
              "      <td>22.000000</td>\n",
              "    </tr>\n",
              "    <tr>\n",
              "      <th>75%</th>\n",
              "      <td>139320.500000</td>\n",
              "      <td>77.165000</td>\n",
              "    </tr>\n",
              "    <tr>\n",
              "      <th>max</th>\n",
              "      <td>172792.000000</td>\n",
              "      <td>25691.160000</td>\n",
              "    </tr>\n",
              "  </tbody>\n",
              "</table>\n",
              "</div>"
            ],
            "text/plain": [
              "                Time         Amount\n",
              "count  284807.000000  284807.000000\n",
              "mean    94813.859575      88.349619\n",
              "std     47488.145955     250.120109\n",
              "min         0.000000       0.000000\n",
              "25%     54201.500000       5.600000\n",
              "50%     84692.000000      22.000000\n",
              "75%    139320.500000      77.165000\n",
              "max    172792.000000   25691.160000"
            ]
          },
          "metadata": {
            "tags": []
          },
          "execution_count": 10
        }
      ]
    },
    {
      "cell_type": "markdown",
      "metadata": {
        "id": "NMqxRyWawzGS"
      },
      "source": [
        "La variable de `Time` parece ser altamente variable y tomar valores muy grandes.  \n",
        "La variable `Amount` parece comportarse mejor y no variar tanto, aunque parece tener valores extremos. Observemos el percentil 75 y el max."
      ]
    },
    {
      "cell_type": "code",
      "metadata": {
        "colab": {
          "base_uri": "https://localhost:8080/",
          "height": 298
        },
        "id": "WWmdxhKkvp9G",
        "outputId": "1b6d8256-7221-4d14-e807-f11b71923f8c"
      },
      "source": [
        "sns.histplot(x=df['Time'])"
      ],
      "execution_count": 11,
      "outputs": [
        {
          "output_type": "execute_result",
          "data": {
            "text/plain": [
              "<matplotlib.axes._subplots.AxesSubplot at 0x7f43e2fc3e50>"
            ]
          },
          "metadata": {
            "tags": []
          },
          "execution_count": 11
        },
        {
          "output_type": "display_data",
          "data": {
            "image/png": "[encoded data removed]",
            "text/plain": [
              "<Figure size 432x288 with 1 Axes>"
            ]
          },
          "metadata": {
            "tags": [],
            "needs_background": "light"
          }
        }
      ]
    },
    {
      "cell_type": "code",
      "metadata": {
        "colab": {
          "base_uri": "https://localhost:8080/"
        },
        "id": "Zi39YAOhxmFr",
        "outputId": "687db8f1-b5fc-441e-e815-94ef3c8fd40d"
      },
      "source": [
        "df['Time'].unique().shape"
      ],
      "execution_count": 12,
      "outputs": [
        {
          "output_type": "execute_result",
          "data": {
            "text/plain": [
              "(124592,)"
            ]
          },
          "metadata": {
            "tags": []
          },
          "execution_count": 12
        }
      ]
    },
    {
      "cell_type": "markdown",
      "metadata": {
        "id": "8OiLMis8wOZv"
      },
      "source": [
        "La variable `Time` contiene los segundos que pasaron entre la transaccion actual, y la primera transaccion del set de datos."
      ]
    },
    {
      "cell_type": "code",
      "metadata": {
        "colab": {
          "base_uri": "https://localhost:8080/",
          "height": 386
        },
        "id": "HnlUJsCkwkQi",
        "outputId": "5d73869a-189e-4bde-8960-f97162b9c393"
      },
      "source": [
        "sns.displot(x=(np.power(df['Amount'], .25)))"
      ],
      "execution_count": 13,
      "outputs": [
        {
          "output_type": "execute_result",
          "data": {
            "text/plain": [
              "<seaborn.axisgrid.FacetGrid at 0x7f43e15900d0>"
            ]
          },
          "metadata": {
            "tags": []
          },
          "execution_count": 13
        },
        {
          "output_type": "display_data",
          "data": {
            "image/png": "[encoded data removed]",
            "text/plain": [
              "<Figure size 360x360 with 1 Axes>"
            ]
          },
          "metadata": {
            "tags": [],
            "needs_background": "light"
          }
        }
      ]
    },
    {
      "cell_type": "markdown",
      "metadata": {
        "id": "Zm4U5IxOx7bv"
      },
      "source": [
        "## Preparacion de Datos"
      ]
    },
    {
      "cell_type": "code",
      "metadata": {
        "colab": {
          "base_uri": "https://localhost:8080/"
        },
        "id": "dwzDQhucx9kf",
        "outputId": "6ce08751-67c9-4578-dc0a-1e467136e7c0"
      },
      "source": [
        "print('Null Values =',df.isnull().values.any())"
      ],
      "execution_count": 14,
      "outputs": [
        {
          "output_type": "stream",
          "text": [
            "Null Values = False\n"
          ],
          "name": "stdout"
        }
      ]
    },
    {
      "cell_type": "markdown",
      "metadata": {
        "id": "7rqHt7dGyCnu"
      },
      "source": [
        "Por suerte no hay valores nulos en los datos!"
      ]
    },
    {
      "cell_type": "markdown",
      "metadata": {
        "id": "A4RIducO0wxg"
      },
      "source": [
        "# Split de datos"
      ]
    },
    {
      "cell_type": "code",
      "metadata": {
        "colab": {
          "base_uri": "https://localhost:8080/"
        },
        "id": "cyRIcH2s0yNn",
        "outputId": "87d93639-70a2-4ef3-f9bf-73b32791dbb6"
      },
      "source": [
        "Y= df[\"Class\"]\n",
        "X = df.loc[:, df.columns != 'Class']\n",
        "test_size = 0.25\n",
        "seed = 7\n",
        "X_train, X_test, Y_train, Y_test = train_test_split(\n",
        "    X, Y, test_size=test_size, random_state=seed)\n",
        "\n",
        "print(f'Numero de fraudes en test: {Y_test.value_counts()}')\n",
        "print(f'Numero de fraudes en train: {Y_train.value_counts()}')"
      ],
      "execution_count": 15,
      "outputs": [
        {
          "output_type": "stream",
          "text": [
            "Numero de fraudes en test: 0    71076\n",
            "1      126\n",
            "Name: Class, dtype: int64\n",
            "Numero de fraudes en train: 0    213239\n",
            "1       366\n",
            "Name: Class, dtype: int64\n"
          ],
          "name": "stdout"
        }
      ]
    },
    {
      "cell_type": "markdown",
      "metadata": {
        "id": "LAzjrt1O1sgP"
      },
      "source": [
        "Parece que los datos de fraude $y=1$ estan balanceados entre train y test.   \n",
        "Sin embargo el total de datos esta desbalanceado. Por ahora, ignoraremos esto, y probaremos varios modelos. Despues ataqueremos este problema directamente, y compararemos resultados."
      ]
    },
    {
      "cell_type": "markdown",
      "metadata": {
        "id": "rrv0tLhwyFxY"
      },
      "source": [
        "# Seleccion de Variables"
      ]
    },
    {
      "cell_type": "markdown",
      "metadata": {
        "id": "BCZMY2Ct77u7"
      },
      "source": [
        "Notebook de seleccion de variables: https://github.com/IEXE-Tec/aprendizaje-maquina-2/blob/master/01_seleccion_de_variables.ipynb \n"
      ]
    },
    {
      "cell_type": "markdown",
      "metadata": {
        "id": "y1OewEuO7HBZ"
      },
      "source": [
        "Existen muchas tecnicas de estadistica clasica para Feature Selection ya sea tablas ANOVA, ANCOVA o diferentes tipos de correlacion para diferentes tipos de datos."
      ]
    },
    {
      "cell_type": "markdown",
      "metadata": {
        "id": "QTwHeGpsyrSM"
      },
      "source": [
        "Post de [Feature Selection](https://machinelearningmastery.com/feature-selection-with-real-and-categorical-data/)"
      ]
    },
    {
      "cell_type": "markdown",
      "metadata": {
        "id": "eFS48kCl2qD9"
      },
      "source": [
        "![image.png](data:image/png;base64,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)"
      ]
    },
    {
      "cell_type": "markdown",
      "metadata": {
        "id": "IhyBYIo5AaeQ"
      },
      "source": [
        "En nuestro caso nos saltaremos el **Feature Selection** para concentrarnos en los algoritmos y regularizacion."
      ]
    },
    {
      "cell_type": "markdown",
      "metadata": {
        "id": "aPORoYpDDNCk"
      },
      "source": [
        "El siguiente snippet contiene codigo de Kaggle para feature selection, utilizando Chi2. Aunque, esto no es del todo correcto, pues nuestras variables no son categoricas. Sin embargo, nos da una idea de la flexibilidad del ML."
      ]
    },
    {
      "cell_type": "code",
      "metadata": {
        "id": "IiTKm5h4Ah0v"
      },
      "source": [
        "# ## No ejecutar\n",
        "# from sklearn.feature_selection import SelectKBest\n",
        "# from sklearn.feature_selection import chi2\n",
        "\n",
        "# bestfeatures = SelectKBest( k=10)\n",
        "# bestfeatures\n",
        "# Y= df[\"Class\"]\n",
        "# X = df.loc[:, df.columns != 'Class']\n",
        "# fit = bestfeatures.fit(X,Y)\n",
        "# dfscores = pd.DataFrame(fit.scores_)\n",
        "# dfcolumns = pd.DataFrame(X.columns)\n",
        "# #concat two dataframes for better visualization \n",
        "# featureScores = pd.concat([dfcolumns,dfscores],axis=1)\n",
        "# featureScores.columns = ['Specs','Score']  #naming the dataframe columns\n",
        "# print(featureScores.nlargest(10,'Score'))  #print 10 best features"
      ],
      "execution_count": 18,
      "outputs": []
    },
    {
      "cell_type": "markdown",
      "metadata": {
        "id": "tuGL3SO8DjEg"
      },
      "source": [
        "#Feature engineering"
      ]
    },
    {
      "cell_type": "markdown",
      "metadata": {
        "id": "eiS1EkzFDtrP"
      },
      "source": [
        "Escalemos las variables numericas. Las otras variables no necesitan escalamiento, pues dado que fueron sometidas a PCA fueron escaladas previamente."
      ]
    },
    {
      "cell_type": "markdown",
      "metadata": {
        "id": "kwb6IpQWD4ka"
      },
      "source": [
        "**Nota**: En estricto sentido el escalamiento o normalizacion deberia hacerse en sobre el train set, y despues aplicarse al test set. Sin embargo, es muy comun aplicar el escalamiento a todo el data set, pensando que no producira **data leakage**."
      ]
    },
    {
      "cell_type": "markdown",
      "metadata": {
        "id": "EHoB4kSFEK7V"
      },
      "source": [
        "+ Para la variable **time** utilizaremos [MinMaxScaler](https://scikit-learn.org/stable/modules/generated/sklearn.preprocessing.MinMaxScaler.html). Ahora la variable se encuentrara entre 0 y 1. Dado que **no parece tener outliers**, y distribuirse mas o menos uniforme.\n",
        "+ Para **Amount** utilizaremos [RobustScaler](https://scikit-learn.org/stable/modules/generated/sklearn.preprocessing.RobustScaler.html). La variable es escalda con los rangos intercuantiles. Lo elegimos por el tipo de distribucion que que **tiene outliers**."
      ]
    },
    {
      "cell_type": "markdown",
      "metadata": {
        "id": "37EJdzQyEr8J"
      },
      "source": [
        "![image.png](data:image/png;base64,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)"
      ]
    },
    {
      "cell_type": "code",
      "metadata": {
        "colab": {
          "base_uri": "https://localhost:8080/"
        },
        "id": "drbpVTkXGN07",
        "outputId": "3e7c5261-7c79-44c7-c779-725355be8bb8"
      },
      "source": [
        "X_train['Time'].values.reshape(-1,1)"
      ],
      "execution_count": 19,
      "outputs": [
        {
          "output_type": "execute_result",
          "data": {
            "text/plain": [
              "array([[140363.],\n",
              "       [ 47351.],\n",
              "       [123988.],\n",
              "       ...,\n",
              "       [ 44164.],\n",
              "       [128493.],\n",
              "       [ 49912.]])"
            ]
          },
          "metadata": {
            "tags": []
          },
          "execution_count": 19
        }
      ]
    },
    {
      "cell_type": "code",
      "metadata": {
        "id": "DTI8XkKMFcZr"
      },
      "source": [
        "from sklearn.preprocessing import MinMaxScaler\n",
        "from sklearn.preprocessing import RobustScaler\n",
        "\n",
        "# ##Time\n",
        "time_scaler = MinMaxScaler().fit(X_train['Time'].values.reshape(-1,1))\n",
        "# Entrenamos con train\n",
        "X_train['time_scaled'] = time_scaler.transform(X_train['Time'].values.reshape(-1,1))\n",
        "# Escalamos el test\n",
        "X_test['time_scaled'] = time_scaler.transform(X_test['Time'].values.reshape(-1,1))\n",
        "\n",
        "# ##Amount\n",
        "amount_scaler = RobustScaler().fit(X_train['Amount'].values.reshape(-1,1))\n",
        "# Entrenamos con train\n",
        "X_train['amount_scaled'] = amount_scaler.transform(X_train['Amount'].values.reshape(-1,1))\n",
        "# Escalamos el test\n",
        "X_test['amount_scaled'] = amount_scaler.transform(X_test['Amount'].values.reshape(-1,1))"
      ],
      "execution_count": 20,
      "outputs": []
    },
    {
      "cell_type": "code",
      "metadata": {
        "colab": {
          "base_uri": "https://localhost:8080/",
          "height": 300
        },
        "id": "W6Eqac4hHJXu",
        "outputId": "00afa396-6b7b-4032-aec4-eeab1326d7a1"
      },
      "source": [
        "X_train[['time_scaled', 'amount_scaled']].describe()"
      ],
      "execution_count": 21,
      "outputs": [
        {
          "output_type": "execute_result",
          "data": {
            "text/html": [
              "<div>\n",
              "<style scoped>\n",
              "    .dataframe tbody tr th:only-of-type {\n",
              "        vertical-align: middle;\n",
              "    }\n",
              "\n",
              "    .dataframe tbody tr th {\n",
              "        vertical-align: top;\n",
              "    }\n",
              "\n",
              "    .dataframe thead th {\n",
              "        text-align: right;\n",
              "    }\n",
              "</style>\n",
              "<table border=\"1\" class=\"dataframe\">\n",
              "  <thead>\n",
              "    <tr style=\"text-align: right;\">\n",
              "      <th></th>\n",
              "      <th>time_scaled</th>\n",
              "      <th>amount_scaled</th>\n",
              "    </tr>\n",
              "  </thead>\n",
              "  <tbody>\n",
              "    <tr>\n",
              "      <th>count</th>\n",
              "      <td>213605.000000</td>\n",
              "      <td>213605.000000</td>\n",
              "    </tr>\n",
              "    <tr>\n",
              "      <th>mean</th>\n",
              "      <td>0.548390</td>\n",
              "      <td>0.923225</td>\n",
              "    </tr>\n",
              "    <tr>\n",
              "      <th>std</th>\n",
              "      <td>0.274779</td>\n",
              "      <td>3.343631</td>\n",
              "    </tr>\n",
              "    <tr>\n",
              "      <th>min</th>\n",
              "      <td>0.000000</td>\n",
              "      <td>-0.307091</td>\n",
              "    </tr>\n",
              "    <tr>\n",
              "      <th>25%</th>\n",
              "      <td>0.313001</td>\n",
              "      <td>-0.228643</td>\n",
              "    </tr>\n",
              "    <tr>\n",
              "      <th>50%</th>\n",
              "      <td>0.489490</td>\n",
              "      <td>0.000000</td>\n",
              "    </tr>\n",
              "    <tr>\n",
              "      <th>75%</th>\n",
              "      <td>0.806195</td>\n",
              "      <td>0.771357</td>\n",
              "    </tr>\n",
              "    <tr>\n",
              "      <th>max</th>\n",
              "      <td>1.000000</td>\n",
              "      <td>179.912479</td>\n",
              "    </tr>\n",
              "  </tbody>\n",
              "</table>\n",
              "</div>"
            ],
            "text/plain": [
              "         time_scaled  amount_scaled\n",
              "count  213605.000000  213605.000000\n",
              "mean        0.548390       0.923225\n",
              "std         0.274779       3.343631\n",
              "min         0.000000      -0.307091\n",
              "25%         0.313001      -0.228643\n",
              "50%         0.489490       0.000000\n",
              "75%         0.806195       0.771357\n",
              "max         1.000000     179.912479"
            ]
          },
          "metadata": {
            "tags": []
          },
          "execution_count": 21
        }
      ]
    },
    {
      "cell_type": "code",
      "metadata": {
        "colab": {
          "base_uri": "https://localhost:8080/",
          "height": 300
        },
        "id": "ASFjDcjjHQ98",
        "outputId": "cd5154d1-db85-4a64-f444-c43bca27e09c"
      },
      "source": [
        "X_test[['time_scaled', 'amount_scaled']].describe()"
      ],
      "execution_count": 22,
      "outputs": [
        {
          "output_type": "execute_result",
          "data": {
            "text/html": [
              "<div>\n",
              "<style scoped>\n",
              "    .dataframe tbody tr th:only-of-type {\n",
              "        vertical-align: middle;\n",
              "    }\n",
              "\n",
              "    .dataframe tbody tr th {\n",
              "        vertical-align: top;\n",
              "    }\n",
              "\n",
              "    .dataframe thead th {\n",
              "        text-align: right;\n",
              "    }\n",
              "</style>\n",
              "<table border=\"1\" class=\"dataframe\">\n",
              "  <thead>\n",
              "    <tr style=\"text-align: right;\">\n",
              "      <th></th>\n",
              "      <th>time_scaled</th>\n",
              "      <th>amount_scaled</th>\n",
              "    </tr>\n",
              "  </thead>\n",
              "  <tbody>\n",
              "    <tr>\n",
              "      <th>count</th>\n",
              "      <td>71202.000000</td>\n",
              "      <td>71202.000000</td>\n",
              "    </tr>\n",
              "    <tr>\n",
              "      <th>mean</th>\n",
              "      <td>0.549696</td>\n",
              "      <td>0.934937</td>\n",
              "    </tr>\n",
              "    <tr>\n",
              "      <th>std</th>\n",
              "      <td>0.274975</td>\n",
              "      <td>3.901089</td>\n",
              "    </tr>\n",
              "    <tr>\n",
              "      <th>min</th>\n",
              "      <td>0.000000</td>\n",
              "      <td>-0.307091</td>\n",
              "    </tr>\n",
              "    <tr>\n",
              "      <th>25%</th>\n",
              "      <td>0.315479</td>\n",
              "      <td>-0.230039</td>\n",
              "    </tr>\n",
              "    <tr>\n",
              "      <th>50%</th>\n",
              "      <td>0.493463</td>\n",
              "      <td>-0.000140</td>\n",
              "    </tr>\n",
              "    <tr>\n",
              "      <th>75%</th>\n",
              "      <td>0.806554</td>\n",
              "      <td>0.767867</td>\n",
              "    </tr>\n",
              "    <tr>\n",
              "      <th>max</th>\n",
              "      <td>0.999977</td>\n",
              "      <td>358.307649</td>\n",
              "    </tr>\n",
              "  </tbody>\n",
              "</table>\n",
              "</div>"
            ],
            "text/plain": [
              "        time_scaled  amount_scaled\n",
              "count  71202.000000   71202.000000\n",
              "mean       0.549696       0.934937\n",
              "std        0.274975       3.901089\n",
              "min        0.000000      -0.307091\n",
              "25%        0.315479      -0.230039\n",
              "50%        0.493463      -0.000140\n",
              "75%        0.806554       0.767867\n",
              "max        0.999977     358.307649"
            ]
          },
          "metadata": {
            "tags": []
          },
          "execution_count": 22
        }
      ]
    },
    {
      "cell_type": "code",
      "metadata": {
        "id": "0iyz3jshIkka"
      },
      "source": [
        "X_train.drop(['Time', 'Amount'], axis=1, inplace=True)\n",
        "X_test.drop(['Time', 'Amount'], axis=1, inplace=True)"
      ],
      "execution_count": 23,
      "outputs": []
    },
    {
      "cell_type": "markdown",
      "metadata": {
        "id": "p9iDzGSxHjG5"
      },
      "source": [
        "# Modelaje"
      ]
    },
    {
      "cell_type": "markdown",
      "metadata": {
        "id": "uyu4Dr9ONpGo"
      },
      "source": [
        "## Model Selection"
      ]
    },
    {
      "cell_type": "markdown",
      "metadata": {
        "id": "Noh7-PpuIOHp"
      },
      "source": [
        "Elijamos los Folds y los Modelos a utilizar"
      ]
    },
    {
      "cell_type": "code",
      "metadata": {
        "id": "EGIF9idBHj6j"
      },
      "source": [
        "# test options for classification\n",
        "num_folds = 5\n",
        "seed = 7\n",
        "# scoring ='f1'\n",
        "scoring = 'accuracy'\n",
        "\n",
        "# Modelos\n",
        "models = []\n",
        "models.append(('LR', LogisticRegression()))\n",
        "#models.append(('ELN', LogisticRegression(penalty = 'elasticnet')))\n",
        "models.append(('RF', RandomForestClassifier()))\n",
        "models.append(('LDA', LinearDiscriminantAnalysis()))\n",
        "models.append(('KNN', KNeighborsClassifier()))\n",
        "models.append(('CART', DecisionTreeClassifier()))"
      ],
      "execution_count": 26,
      "outputs": []
    },
    {
      "cell_type": "markdown",
      "metadata": {
        "id": "Fj7NRVFIN3-R"
      },
      "source": [
        "Ejecucion cercana a los 20 minutos!"
      ]
    },
    {
      "cell_type": "code",
      "metadata": {
        "colab": {
          "base_uri": "https://localhost:8080/"
        },
        "id": "arlH4ndzIRTj",
        "outputId": "115bb3ab-79d9-4b5a-fb57-0408329a0e2f"
      },
      "source": [
        "results = []\n",
        "names = []\n",
        "for name, model in models:\n",
        "    kfold = KFold(n_splits=num_folds, random_state=seed)\n",
        "    cv_results = cross_val_score(model, X_train, Y_train, cv=kfold, scoring=scoring,\n",
        "                                 n_jobs=-1)\n",
        "    results.append(cv_results)\n",
        "    names.append(name)\n",
        "    msg = \"%s: %f (%f)\" % (name, cv_results.mean(), cv_results.std())\n",
        "    print(msg)"
      ],
      "execution_count": 27,
      "outputs": [
        {
          "output_type": "stream",
          "text": [
            "LR: 0.999171 (0.000196)\n",
            "RF: 0.999541 (0.000123)\n",
            "LDA: 0.999354 (0.000113)\n",
            "KNN: 0.999448 (0.000176)\n",
            "CART: 0.999148 (0.000180)\n"
          ],
          "name": "stdout"
        }
      ]
    },
    {
      "cell_type": "markdown",
      "metadata": {
        "id": "Q-l41Et2PIs2"
      },
      "source": [
        "## Balanceo con Undersampling"
      ]
    },
    {
      "cell_type": "markdown",
      "metadata": {
        "id": "5DTeiu0xPP5u"
      },
      "source": [
        "Ahora entrenaremos modelos usando el metodo de **Random Under Sampling**. Consiste en remover datos aleatoriamente de la clase que tiene mas valores. De esta manera, nuestros modelos no van a sobreajustar a la clase dominante. Pasos:\n",
        "1. Determinar que tan imbalaceada estan nuestras clases (usar value counts)\n",
        "2. Despues balancemos las clases sampleando de manera aleatoria la que tiene mas numeros. Normalmente se busca tener algo cercano al 50/50.\n",
        "3. Entrenar y Evaluar con las clases balanceadas.  \n",
        "El principal riesgo de esta tecnica es que podemos perder muchos datos, lo cual puede afectar el desempeño de nuestros modelos. Por ejemplo, pasamos de 280,315 datos de no fraude a 492."
      ]
    },
    {
      "cell_type": "markdown",
      "metadata": {
        "id": "vMCz8-QlRdnP"
      },
      "source": [
        "Rebalanceo en el train"
      ]
    },
    {
      "cell_type": "code",
      "metadata": {
        "id": "4avh9AYyRNO1"
      },
      "source": [
        "df_train = pd.concat([X_train, Y_train], axis=1)\n",
        "fraud_df = df_train.loc[df_train['Class'] == 1]\n",
        "non_fraud_df = df_train.loc[df_train['Class'] == 0][:492]\n",
        "\n",
        "normal_distributed_df = pd.concat([fraud_df, non_fraud_df])\n",
        "\n",
        "# Shuffle de datos de nuevo\n",
        "df_new = normal_distributed_df.sample(frac=1, random_state=42)\n",
        "# split out validation dataset for the end\n",
        "Y_train_new= df_new[\"Class\"]\n",
        "X_train_new = df_new.loc[:, dataset.columns != 'Class']\n",
        "\n",
        "\n",
        "print('Distribution of the Classes in the subsample dataset')\n",
        "print(df_new['Class'].value_counts()/len(df_new))\n",
        "sns.countplot('Class', data=df_new)\n",
        "pyplot.title('Equally Distributed Classes', fontsize=14)\n",
        "pyplot.show()"
      ],
      "execution_count": null,
      "outputs": []
    }
  ]
}