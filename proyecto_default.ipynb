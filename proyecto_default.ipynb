{
  "nbformat": 4,
  "nbformat_minor": 0,
  "metadata": {
    "colab": {
      "name": "proyecto_default.ipynb",
      "provenance": [],
      "collapsed_sections": [],
      "authorship_tag": "ABX9TyP+khpSiiOJkozGTUdKgVzS",
      "include_colab_link": true
    },
    "kernelspec": {
      "display_name": "Python 3",
      "name": "python3"
    },
    "language_info": {
      "name": "python"
    }
  },
  "cells": [
    {
      "cell_type": "markdown",
      "metadata": {
        "id": "view-in-github",
        "colab_type": "text"
      },
      "source": [
        "<a href=\"https://colab.research.google.com/github/uumami/workshop_riskmathics/blob/main/proyecto_default.ipynb\" target=\"_parent\"><img src=\"https://colab.research.google.com/assets/colab-badge.svg\" alt=\"Open In Colab\"/></a>"
      ]
    },
    {
      "cell_type": "markdown",
      "metadata": {
        "id": "yUd5XUr57MPC"
      },
      "source": [
        "# Prediccion de Default en Prestamos"
      ]
    },
    {
      "cell_type": "markdown",
      "metadata": {
        "id": "qCFgjAfF7WhV"
      },
      "source": [
        "Para este proyecto utilizaremos un sample de los datos de [Lending Club](https://www.kaggle.com/wordsforthewise/lending-club). La idea es predecir si cierto usuario cometera Default basado en informacion que la plataforma recolecta. Esto nos ayudara a mejorar la metodologia/pipeline de prestamo.  \n",
        "\n"
      ]
    },
    {
      "cell_type": "code",
      "metadata": {
        "id": "yCTkq-Ze9yzF"
      },
      "source": [
        "\n",
        "\n",
        "# Load libraries\n",
        "import numpy as np\n",
        "import pandas as pd\n",
        "import matplotlib.pyplot as plt\n",
        "from pandas import read_csv, set_option\n",
        "from pandas.plotting import scatter_matrix\n",
        "import seaborn as sns\n",
        "from sklearn.preprocessing import StandardScaler\n",
        "from sklearn.model_selection import train_test_split, KFold, cross_val_score, GridSearchCV\n",
        "from sklearn.linear_model import LogisticRegression\n",
        "from sklearn.tree import DecisionTreeClassifier\n",
        "from sklearn.neighbors import KNeighborsClassifier\n",
        "from sklearn.discriminant_analysis import LinearDiscriminantAnalysis\n",
        "from sklearn.naive_bayes import GaussianNB\n",
        "from sklearn.svm import SVC\n",
        "from sklearn.neural_network import MLPClassifier\n",
        "from sklearn.pipeline import Pipeline\n",
        "from sklearn.ensemble import AdaBoostClassifier, GradientBoostingClassifier, RandomForestClassifier, ExtraTreesClassifier\n",
        "from sklearn.metrics import classification_report, confusion_matrix, accuracy_score\n",
        "\n",
        "#Libraries for Saving the Model\n",
        "from pickle import dump\n",
        "from pickle import load\n",
        "\n"
      ],
      "execution_count": 106,
      "outputs": []
    },
    {
      "cell_type": "markdown",
      "metadata": {
        "id": "r2mb_KWr9dS5"
      },
      "source": [
        "# Dataset"
      ]
    },
    {
      "cell_type": "markdown",
      "metadata": {
        "id": "9R_R5F3I9fWn"
      },
      "source": [
        "Contiene los prestamos de esta plataforma:\n",
        "+ periodo 2007-2017Q3.\n",
        "+ 887mil observaciones, sample de 100mil \n",
        "+ 150 variables\n",
        "+ Target: loan status"
      ]
    },
    {
      "cell_type": "markdown",
      "metadata": {
        "id": "AVM5VEX5-EXu"
      },
      "source": [
        "# ETL"
      ]
    },
    {
      "cell_type": "code",
      "metadata": {
        "colab": {
          "base_uri": "https://localhost:8080/"
        },
        "id": "HLBUbU0w93bG",
        "outputId": "f01df66f-0f03-4f0a-82f1-b724c5084db8"
      },
      "source": [
        "loans = pd.read_csv('https://github.com/IEXE-Tec/mcda-fintech/blob/master/default_proyecto/LoansData_sample.csv.gz?raw=true', compression='gzip', encoding='utf-8')"
      ],
      "execution_count": 107,
      "outputs": [
        {
          "output_type": "stream",
          "name": "stderr",
          "text": [
            "/usr/local/lib/python3.7/dist-packages/IPython/core/interactiveshell.py:2718: DtypeWarning: Columns (19) have mixed types.Specify dtype option on import or set low_memory=False.\n",
            "  interactivity=interactivity, compiler=compiler, result=result)\n"
          ]
        }
      ]
    },
    {
      "cell_type": "markdown",
      "metadata": {
        "id": "4N_Ok6Zv_ajj"
      },
      "source": [
        "Revisemos la columna del Warning, parece que es texto, que describe el objetivo del prestamo."
      ]
    },
    {
      "cell_type": "code",
      "metadata": {
        "colab": {
          "base_uri": "https://localhost:8080/"
        },
        "id": "gpf-DT7v-cwm",
        "outputId": "71950cae-8687-4052-9e19-f0474404a8f8"
      },
      "source": [
        "print(loans.columns[19])\n",
        "loans.loc[:,loans.columns[19]].unique()"
      ],
      "execution_count": 108,
      "outputs": [
        {
          "output_type": "stream",
          "name": "stdout",
          "text": [
            "desc\n"
          ]
        },
        {
          "output_type": "execute_result",
          "data": {
            "text/plain": [
              "array([nan, ' ',\n",
              "       'Looking to borrow to purchase a used boat we are interested in',\n",
              "       'I support myself and my mother and have taken on debt to assist with her bills and health care needs. I would like to pay down debt faster through refinancing at a lower rate.',\n",
              "       \"Trying to pay a friend back for apartment broker's fee incurred from as well as credit card stuff.\"],\n",
              "      dtype=object)"
            ]
          },
          "metadata": {},
          "execution_count": 108
        }
      ]
    },
    {
      "cell_type": "code",
      "metadata": {
        "colab": {
          "base_uri": "https://localhost:8080/"
        },
        "id": "-JNDixzk-vI4",
        "outputId": "89dbf2f7-4a6e-4c58-8843-6bf67b884550"
      },
      "source": [
        "loans.shape"
      ],
      "execution_count": 109,
      "outputs": [
        {
          "output_type": "execute_result",
          "data": {
            "text/plain": [
              "(100000, 151)"
            ]
          },
          "metadata": {},
          "execution_count": 109
        }
      ]
    },
    {
      "cell_type": "code",
      "metadata": {
        "colab": {
          "base_uri": "https://localhost:8080/"
        },
        "id": "uud1kTdo_Fsp",
        "outputId": "d9ad76ea-8764-4365-db1c-000466fcf7f1"
      },
      "source": [
        "loans.info()"
      ],
      "execution_count": 110,
      "outputs": [
        {
          "output_type": "stream",
          "name": "stdout",
          "text": [
            "<class 'pandas.core.frame.DataFrame'>\n",
            "RangeIndex: 100000 entries, 0 to 99999\n",
            "Columns: 151 entries, Unnamed: 0 to settlement_term\n",
            "dtypes: float64(115), int64(2), object(34)\n",
            "memory usage: 115.2+ MB\n"
          ]
        }
      ]
    },
    {
      "cell_type": "markdown",
      "metadata": {
        "id": "W_KAvPaH_pRT"
      },
      "source": [
        "La primera columna parece ser un indice, podemos eliminarla."
      ]
    },
    {
      "cell_type": "code",
      "metadata": {
        "colab": {
          "base_uri": "https://localhost:8080/",
          "height": 552
        },
        "id": "7C63ArOQ9_eb",
        "outputId": "c477b4ae-7c25-43be-87cf-c984871ef0de"
      },
      "source": [
        "dataset = loans\n",
        "dataset.head()"
      ],
      "execution_count": 111,
      "outputs": [
        {
          "output_type": "execute_result",
          "data": {
            "text/html": [
              "\n",
              "  <div id=\"df-548729bd-e669-4121-bb68-5d0abdc9ee70\">\n",
              "    <div class=\"colab-df-container\">\n",
              "      <div>\n",
              "<style scoped>\n",
              "    .dataframe tbody tr th:only-of-type {\n",
              "        vertical-align: middle;\n",
              "    }\n",
              "\n",
              "    .dataframe tbody tr th {\n",
              "        vertical-align: top;\n",
              "    }\n",
              "\n",
              "    .dataframe thead th {\n",
              "        text-align: right;\n",
              "    }\n",
              "</style>\n",
              "<table border=\"1\" class=\"dataframe\">\n",
              "  <thead>\n",
              "    <tr style=\"text-align: right;\">\n",
              "      <th></th>\n",
              "      <th>Unnamed: 0</th>\n",
              "      <th>id</th>\n",
              "      <th>member_id</th>\n",
              "      <th>loan_amnt</th>\n",
              "      <th>funded_amnt</th>\n",
              "      <th>funded_amnt_inv</th>\n",
              "      <th>term</th>\n",
              "      <th>int_rate</th>\n",
              "      <th>installment</th>\n",
              "      <th>grade</th>\n",
              "      <th>sub_grade</th>\n",
              "      <th>emp_title</th>\n",
              "      <th>emp_length</th>\n",
              "      <th>home_ownership</th>\n",
              "      <th>annual_inc</th>\n",
              "      <th>verification_status</th>\n",
              "      <th>issue_d</th>\n",
              "      <th>loan_status</th>\n",
              "      <th>pymnt_plan</th>\n",
              "      <th>desc</th>\n",
              "      <th>purpose</th>\n",
              "      <th>title</th>\n",
              "      <th>zip_code</th>\n",
              "      <th>addr_state</th>\n",
              "      <th>dti</th>\n",
              "      <th>delinq_2yrs</th>\n",
              "      <th>earliest_cr_line</th>\n",
              "      <th>fico_range_low</th>\n",
              "      <th>fico_range_high</th>\n",
              "      <th>inq_last_6mths</th>\n",
              "      <th>mths_since_last_delinq</th>\n",
              "      <th>mths_since_last_record</th>\n",
              "      <th>open_acc</th>\n",
              "      <th>pub_rec</th>\n",
              "      <th>revol_bal</th>\n",
              "      <th>revol_util</th>\n",
              "      <th>total_acc</th>\n",
              "      <th>initial_list_status</th>\n",
              "      <th>out_prncp</th>\n",
              "      <th>out_prncp_inv</th>\n",
              "      <th>...</th>\n",
              "      <th>tot_hi_cred_lim</th>\n",
              "      <th>total_bal_ex_mort</th>\n",
              "      <th>total_bc_limit</th>\n",
              "      <th>total_il_high_credit_limit</th>\n",
              "      <th>revol_bal_joint</th>\n",
              "      <th>sec_app_fico_range_low</th>\n",
              "      <th>sec_app_fico_range_high</th>\n",
              "      <th>sec_app_earliest_cr_line</th>\n",
              "      <th>sec_app_inq_last_6mths</th>\n",
              "      <th>sec_app_mort_acc</th>\n",
              "      <th>sec_app_open_acc</th>\n",
              "      <th>sec_app_revol_util</th>\n",
              "      <th>sec_app_open_act_il</th>\n",
              "      <th>sec_app_num_rev_accts</th>\n",
              "      <th>sec_app_chargeoff_within_12_mths</th>\n",
              "      <th>sec_app_collections_12_mths_ex_med</th>\n",
              "      <th>sec_app_mths_since_last_major_derog</th>\n",
              "      <th>hardship_flag</th>\n",
              "      <th>hardship_type</th>\n",
              "      <th>hardship_reason</th>\n",
              "      <th>hardship_status</th>\n",
              "      <th>deferral_term</th>\n",
              "      <th>hardship_amount</th>\n",
              "      <th>hardship_start_date</th>\n",
              "      <th>hardship_end_date</th>\n",
              "      <th>payment_plan_start_date</th>\n",
              "      <th>hardship_length</th>\n",
              "      <th>hardship_dpd</th>\n",
              "      <th>hardship_loan_status</th>\n",
              "      <th>orig_projected_additional_accrued_interest</th>\n",
              "      <th>hardship_payoff_balance_amount</th>\n",
              "      <th>hardship_last_payment_amount</th>\n",
              "      <th>disbursement_method</th>\n",
              "      <th>debt_settlement_flag</th>\n",
              "      <th>debt_settlement_flag_date</th>\n",
              "      <th>settlement_status</th>\n",
              "      <th>settlement_date</th>\n",
              "      <th>settlement_amount</th>\n",
              "      <th>settlement_percentage</th>\n",
              "      <th>settlement_term</th>\n",
              "    </tr>\n",
              "  </thead>\n",
              "  <tbody>\n",
              "    <tr>\n",
              "      <th>0</th>\n",
              "      <td>0</td>\n",
              "      <td>38098114</td>\n",
              "      <td>NaN</td>\n",
              "      <td>15000.0</td>\n",
              "      <td>15000.0</td>\n",
              "      <td>15000.0</td>\n",
              "      <td>60 months</td>\n",
              "      <td>12.39</td>\n",
              "      <td>336.64</td>\n",
              "      <td>C</td>\n",
              "      <td>C1</td>\n",
              "      <td>MANAGEMENT</td>\n",
              "      <td>10+ years</td>\n",
              "      <td>RENT</td>\n",
              "      <td>78000.0</td>\n",
              "      <td>Source Verified</td>\n",
              "      <td>Dec-2014</td>\n",
              "      <td>Fully Paid</td>\n",
              "      <td>n</td>\n",
              "      <td>NaN</td>\n",
              "      <td>debt_consolidation</td>\n",
              "      <td>Debt consolidation</td>\n",
              "      <td>235xx</td>\n",
              "      <td>VA</td>\n",
              "      <td>12.03</td>\n",
              "      <td>0.0</td>\n",
              "      <td>Aug-1994</td>\n",
              "      <td>750.0</td>\n",
              "      <td>754.0</td>\n",
              "      <td>0.0</td>\n",
              "      <td>NaN</td>\n",
              "      <td>NaN</td>\n",
              "      <td>6.0</td>\n",
              "      <td>0.0</td>\n",
              "      <td>138008.0</td>\n",
              "      <td>29.0</td>\n",
              "      <td>17.0</td>\n",
              "      <td>w</td>\n",
              "      <td>0.00</td>\n",
              "      <td>0.00</td>\n",
              "      <td>...</td>\n",
              "      <td>196500.0</td>\n",
              "      <td>149140.0</td>\n",
              "      <td>10000.0</td>\n",
              "      <td>12000.0</td>\n",
              "      <td>NaN</td>\n",
              "      <td>NaN</td>\n",
              "      <td>NaN</td>\n",
              "      <td>NaN</td>\n",
              "      <td>NaN</td>\n",
              "      <td>NaN</td>\n",
              "      <td>NaN</td>\n",
              "      <td>NaN</td>\n",
              "      <td>NaN</td>\n",
              "      <td>NaN</td>\n",
              "      <td>NaN</td>\n",
              "      <td>NaN</td>\n",
              "      <td>NaN</td>\n",
              "      <td>N</td>\n",
              "      <td>NaN</td>\n",
              "      <td>NaN</td>\n",
              "      <td>NaN</td>\n",
              "      <td>NaN</td>\n",
              "      <td>NaN</td>\n",
              "      <td>NaN</td>\n",
              "      <td>NaN</td>\n",
              "      <td>NaN</td>\n",
              "      <td>NaN</td>\n",
              "      <td>NaN</td>\n",
              "      <td>NaN</td>\n",
              "      <td>NaN</td>\n",
              "      <td>NaN</td>\n",
              "      <td>NaN</td>\n",
              "      <td>Cash</td>\n",
              "      <td>N</td>\n",
              "      <td>NaN</td>\n",
              "      <td>NaN</td>\n",
              "      <td>NaN</td>\n",
              "      <td>NaN</td>\n",
              "      <td>NaN</td>\n",
              "      <td>NaN</td>\n",
              "    </tr>\n",
              "    <tr>\n",
              "      <th>1</th>\n",
              "      <td>1</td>\n",
              "      <td>36805548</td>\n",
              "      <td>NaN</td>\n",
              "      <td>10400.0</td>\n",
              "      <td>10400.0</td>\n",
              "      <td>10400.0</td>\n",
              "      <td>36 months</td>\n",
              "      <td>6.99</td>\n",
              "      <td>321.08</td>\n",
              "      <td>A</td>\n",
              "      <td>A3</td>\n",
              "      <td>Truck Driver Delivery Personel</td>\n",
              "      <td>8 years</td>\n",
              "      <td>MORTGAGE</td>\n",
              "      <td>58000.0</td>\n",
              "      <td>Not Verified</td>\n",
              "      <td>Dec-2014</td>\n",
              "      <td>Charged Off</td>\n",
              "      <td>n</td>\n",
              "      <td>NaN</td>\n",
              "      <td>credit_card</td>\n",
              "      <td>Credit card refinancing</td>\n",
              "      <td>937xx</td>\n",
              "      <td>CA</td>\n",
              "      <td>14.92</td>\n",
              "      <td>0.0</td>\n",
              "      <td>Sep-1989</td>\n",
              "      <td>710.0</td>\n",
              "      <td>714.0</td>\n",
              "      <td>2.0</td>\n",
              "      <td>42.0</td>\n",
              "      <td>NaN</td>\n",
              "      <td>17.0</td>\n",
              "      <td>0.0</td>\n",
              "      <td>6133.0</td>\n",
              "      <td>31.6</td>\n",
              "      <td>36.0</td>\n",
              "      <td>w</td>\n",
              "      <td>0.00</td>\n",
              "      <td>0.00</td>\n",
              "      <td>...</td>\n",
              "      <td>179407.0</td>\n",
              "      <td>15030.0</td>\n",
              "      <td>13000.0</td>\n",
              "      <td>11325.0</td>\n",
              "      <td>NaN</td>\n",
              "      <td>NaN</td>\n",
              "      <td>NaN</td>\n",
              "      <td>NaN</td>\n",
              "      <td>NaN</td>\n",
              "      <td>NaN</td>\n",
              "      <td>NaN</td>\n",
              "      <td>NaN</td>\n",
              "      <td>NaN</td>\n",
              "      <td>NaN</td>\n",
              "      <td>NaN</td>\n",
              "      <td>NaN</td>\n",
              "      <td>NaN</td>\n",
              "      <td>N</td>\n",
              "      <td>NaN</td>\n",
              "      <td>NaN</td>\n",
              "      <td>NaN</td>\n",
              "      <td>NaN</td>\n",
              "      <td>NaN</td>\n",
              "      <td>NaN</td>\n",
              "      <td>NaN</td>\n",
              "      <td>NaN</td>\n",
              "      <td>NaN</td>\n",
              "      <td>NaN</td>\n",
              "      <td>NaN</td>\n",
              "      <td>NaN</td>\n",
              "      <td>NaN</td>\n",
              "      <td>NaN</td>\n",
              "      <td>Cash</td>\n",
              "      <td>N</td>\n",
              "      <td>NaN</td>\n",
              "      <td>NaN</td>\n",
              "      <td>NaN</td>\n",
              "      <td>NaN</td>\n",
              "      <td>NaN</td>\n",
              "      <td>NaN</td>\n",
              "    </tr>\n",
              "    <tr>\n",
              "      <th>2</th>\n",
              "      <td>2</td>\n",
              "      <td>37842129</td>\n",
              "      <td>NaN</td>\n",
              "      <td>21425.0</td>\n",
              "      <td>21425.0</td>\n",
              "      <td>21425.0</td>\n",
              "      <td>60 months</td>\n",
              "      <td>15.59</td>\n",
              "      <td>516.36</td>\n",
              "      <td>D</td>\n",
              "      <td>D1</td>\n",
              "      <td>Programming Analysis Supervisor</td>\n",
              "      <td>6 years</td>\n",
              "      <td>RENT</td>\n",
              "      <td>63800.0</td>\n",
              "      <td>Source Verified</td>\n",
              "      <td>Dec-2014</td>\n",
              "      <td>Fully Paid</td>\n",
              "      <td>n</td>\n",
              "      <td>NaN</td>\n",
              "      <td>credit_card</td>\n",
              "      <td>Credit card refinancing</td>\n",
              "      <td>658xx</td>\n",
              "      <td>MO</td>\n",
              "      <td>18.49</td>\n",
              "      <td>0.0</td>\n",
              "      <td>Aug-2003</td>\n",
              "      <td>685.0</td>\n",
              "      <td>689.0</td>\n",
              "      <td>0.0</td>\n",
              "      <td>60.0</td>\n",
              "      <td>NaN</td>\n",
              "      <td>10.0</td>\n",
              "      <td>0.0</td>\n",
              "      <td>16374.0</td>\n",
              "      <td>76.2</td>\n",
              "      <td>35.0</td>\n",
              "      <td>w</td>\n",
              "      <td>0.00</td>\n",
              "      <td>0.00</td>\n",
              "      <td>...</td>\n",
              "      <td>57073.0</td>\n",
              "      <td>42315.0</td>\n",
              "      <td>15000.0</td>\n",
              "      <td>35573.0</td>\n",
              "      <td>NaN</td>\n",
              "      <td>NaN</td>\n",
              "      <td>NaN</td>\n",
              "      <td>NaN</td>\n",
              "      <td>NaN</td>\n",
              "      <td>NaN</td>\n",
              "      <td>NaN</td>\n",
              "      <td>NaN</td>\n",
              "      <td>NaN</td>\n",
              "      <td>NaN</td>\n",
              "      <td>NaN</td>\n",
              "      <td>NaN</td>\n",
              "      <td>NaN</td>\n",
              "      <td>N</td>\n",
              "      <td>NaN</td>\n",
              "      <td>NaN</td>\n",
              "      <td>NaN</td>\n",
              "      <td>NaN</td>\n",
              "      <td>NaN</td>\n",
              "      <td>NaN</td>\n",
              "      <td>NaN</td>\n",
              "      <td>NaN</td>\n",
              "      <td>NaN</td>\n",
              "      <td>NaN</td>\n",
              "      <td>NaN</td>\n",
              "      <td>NaN</td>\n",
              "      <td>NaN</td>\n",
              "      <td>NaN</td>\n",
              "      <td>Cash</td>\n",
              "      <td>N</td>\n",
              "      <td>NaN</td>\n",
              "      <td>NaN</td>\n",
              "      <td>NaN</td>\n",
              "      <td>NaN</td>\n",
              "      <td>NaN</td>\n",
              "      <td>NaN</td>\n",
              "    </tr>\n",
              "    <tr>\n",
              "      <th>3</th>\n",
              "      <td>3</td>\n",
              "      <td>37612354</td>\n",
              "      <td>NaN</td>\n",
              "      <td>12800.0</td>\n",
              "      <td>12800.0</td>\n",
              "      <td>12800.0</td>\n",
              "      <td>60 months</td>\n",
              "      <td>17.14</td>\n",
              "      <td>319.08</td>\n",
              "      <td>D</td>\n",
              "      <td>D4</td>\n",
              "      <td>Senior Sales Professional</td>\n",
              "      <td>10+ years</td>\n",
              "      <td>MORTGAGE</td>\n",
              "      <td>125000.0</td>\n",
              "      <td>Verified</td>\n",
              "      <td>Dec-2014</td>\n",
              "      <td>Current</td>\n",
              "      <td>n</td>\n",
              "      <td>NaN</td>\n",
              "      <td>car</td>\n",
              "      <td>Car financing</td>\n",
              "      <td>953xx</td>\n",
              "      <td>CA</td>\n",
              "      <td>8.31</td>\n",
              "      <td>1.0</td>\n",
              "      <td>Oct-2000</td>\n",
              "      <td>665.0</td>\n",
              "      <td>669.0</td>\n",
              "      <td>0.0</td>\n",
              "      <td>17.0</td>\n",
              "      <td>NaN</td>\n",
              "      <td>8.0</td>\n",
              "      <td>0.0</td>\n",
              "      <td>5753.0</td>\n",
              "      <td>100.9</td>\n",
              "      <td>13.0</td>\n",
              "      <td>w</td>\n",
              "      <td>6673.54</td>\n",
              "      <td>6673.54</td>\n",
              "      <td>...</td>\n",
              "      <td>368700.0</td>\n",
              "      <td>18007.0</td>\n",
              "      <td>4400.0</td>\n",
              "      <td>18000.0</td>\n",
              "      <td>NaN</td>\n",
              "      <td>NaN</td>\n",
              "      <td>NaN</td>\n",
              "      <td>NaN</td>\n",
              "      <td>NaN</td>\n",
              "      <td>NaN</td>\n",
              "      <td>NaN</td>\n",
              "      <td>NaN</td>\n",
              "      <td>NaN</td>\n",
              "      <td>NaN</td>\n",
              "      <td>NaN</td>\n",
              "      <td>NaN</td>\n",
              "      <td>NaN</td>\n",
              "      <td>N</td>\n",
              "      <td>NaN</td>\n",
              "      <td>NaN</td>\n",
              "      <td>NaN</td>\n",
              "      <td>NaN</td>\n",
              "      <td>NaN</td>\n",
              "      <td>NaN</td>\n",
              "      <td>NaN</td>\n",
              "      <td>NaN</td>\n",
              "      <td>NaN</td>\n",
              "      <td>NaN</td>\n",
              "      <td>NaN</td>\n",
              "      <td>NaN</td>\n",
              "      <td>NaN</td>\n",
              "      <td>NaN</td>\n",
              "      <td>Cash</td>\n",
              "      <td>N</td>\n",
              "      <td>NaN</td>\n",
              "      <td>NaN</td>\n",
              "      <td>NaN</td>\n",
              "      <td>NaN</td>\n",
              "      <td>NaN</td>\n",
              "      <td>NaN</td>\n",
              "    </tr>\n",
              "    <tr>\n",
              "      <th>4</th>\n",
              "      <td>4</td>\n",
              "      <td>37662224</td>\n",
              "      <td>NaN</td>\n",
              "      <td>7650.0</td>\n",
              "      <td>7650.0</td>\n",
              "      <td>7650.0</td>\n",
              "      <td>36 months</td>\n",
              "      <td>13.66</td>\n",
              "      <td>260.20</td>\n",
              "      <td>C</td>\n",
              "      <td>C3</td>\n",
              "      <td>Technical Specialist</td>\n",
              "      <td>&lt; 1 year</td>\n",
              "      <td>RENT</td>\n",
              "      <td>50000.0</td>\n",
              "      <td>Source Verified</td>\n",
              "      <td>Dec-2014</td>\n",
              "      <td>Charged Off</td>\n",
              "      <td>n</td>\n",
              "      <td>NaN</td>\n",
              "      <td>debt_consolidation</td>\n",
              "      <td>Debt consolidation</td>\n",
              "      <td>850xx</td>\n",
              "      <td>AZ</td>\n",
              "      <td>34.81</td>\n",
              "      <td>0.0</td>\n",
              "      <td>Aug-2002</td>\n",
              "      <td>685.0</td>\n",
              "      <td>689.0</td>\n",
              "      <td>1.0</td>\n",
              "      <td>NaN</td>\n",
              "      <td>NaN</td>\n",
              "      <td>11.0</td>\n",
              "      <td>0.0</td>\n",
              "      <td>16822.0</td>\n",
              "      <td>91.9</td>\n",
              "      <td>20.0</td>\n",
              "      <td>f</td>\n",
              "      <td>0.00</td>\n",
              "      <td>0.00</td>\n",
              "      <td>...</td>\n",
              "      <td>82331.0</td>\n",
              "      <td>64426.0</td>\n",
              "      <td>4900.0</td>\n",
              "      <td>64031.0</td>\n",
              "      <td>NaN</td>\n",
              "      <td>NaN</td>\n",
              "      <td>NaN</td>\n",
              "      <td>NaN</td>\n",
              "      <td>NaN</td>\n",
              "      <td>NaN</td>\n",
              "      <td>NaN</td>\n",
              "      <td>NaN</td>\n",
              "      <td>NaN</td>\n",
              "      <td>NaN</td>\n",
              "      <td>NaN</td>\n",
              "      <td>NaN</td>\n",
              "      <td>NaN</td>\n",
              "      <td>N</td>\n",
              "      <td>NaN</td>\n",
              "      <td>NaN</td>\n",
              "      <td>NaN</td>\n",
              "      <td>NaN</td>\n",
              "      <td>NaN</td>\n",
              "      <td>NaN</td>\n",
              "      <td>NaN</td>\n",
              "      <td>NaN</td>\n",
              "      <td>NaN</td>\n",
              "      <td>NaN</td>\n",
              "      <td>NaN</td>\n",
              "      <td>NaN</td>\n",
              "      <td>NaN</td>\n",
              "      <td>NaN</td>\n",
              "      <td>Cash</td>\n",
              "      <td>N</td>\n",
              "      <td>NaN</td>\n",
              "      <td>NaN</td>\n",
              "      <td>NaN</td>\n",
              "      <td>NaN</td>\n",
              "      <td>NaN</td>\n",
              "      <td>NaN</td>\n",
              "    </tr>\n",
              "  </tbody>\n",
              "</table>\n",
              "<p>5 rows × 151 columns</p>\n",
              "</div>\n",
              "      <button class=\"colab-df-convert\" onclick=\"convertToInteractive('df-548729bd-e669-4121-bb68-5d0abdc9ee70')\"\n",
              "              title=\"Convert this dataframe to an interactive table.\"\n",
              "              style=\"display:none;\">\n",
              "        \n",
              "  <svg xmlns=\"http://www.w3.org/2000/svg\" height=\"24px\"viewBox=\"0 0 24 24\"\n",
              "       width=\"24px\">\n",
              "    <path d=\"M0 0h24v24H0V0z\" fill=\"none\"/>\n",
              "    <path d=\"M18.56 5.44l.94 2.06.94-2.06 2.06-.94-2.06-.94-.94-2.06-.94 2.06-2.06.94zm-11 1L8.5 8.5l.94-2.06 2.06-.94-2.06-.94L8.5 2.5l-.94 2.06-2.06.94zm10 10l.94 2.06.94-2.06 2.06-.94-2.06-.94-.94-2.06-.94 2.06-2.06.94z\"/><path d=\"M17.41 7.96l-1.37-1.37c-.4-.4-.92-.59-1.43-.59-.52 0-1.04.2-1.43.59L10.3 9.45l-7.72 7.72c-.78.78-.78 2.05 0 2.83L4 21.41c.39.39.9.59 1.41.59.51 0 1.02-.2 1.41-.59l7.78-7.78 2.81-2.81c.8-.78.8-2.07 0-2.86zM5.41 20L4 18.59l7.72-7.72 1.47 1.35L5.41 20z\"/>\n",
              "  </svg>\n",
              "      </button>\n",
              "      \n",
              "  <style>\n",
              "    .colab-df-container {\n",
              "      display:flex;\n",
              "      flex-wrap:wrap;\n",
              "      gap: 12px;\n",
              "    }\n",
              "\n",
              "    .colab-df-convert {\n",
              "      background-color: #E8F0FE;\n",
              "      border: none;\n",
              "      border-radius: 50%;\n",
              "      cursor: pointer;\n",
              "      display: none;\n",
              "      fill: #1967D2;\n",
              "      height: 32px;\n",
              "      padding: 0 0 0 0;\n",
              "      width: 32px;\n",
              "    }\n",
              "\n",
              "    .colab-df-convert:hover {\n",
              "      background-color: #E2EBFA;\n",
              "      box-shadow: 0px 1px 2px rgba(60, 64, 67, 0.3), 0px 1px 3px 1px rgba(60, 64, 67, 0.15);\n",
              "      fill: #174EA6;\n",
              "    }\n",
              "\n",
              "    [theme=dark] .colab-df-convert {\n",
              "      background-color: #3B4455;\n",
              "      fill: #D2E3FC;\n",
              "    }\n",
              "\n",
              "    [theme=dark] .colab-df-convert:hover {\n",
              "      background-color: #434B5C;\n",
              "      box-shadow: 0px 1px 3px 1px rgba(0, 0, 0, 0.15);\n",
              "      filter: drop-shadow(0px 1px 2px rgba(0, 0, 0, 0.3));\n",
              "      fill: #FFFFFF;\n",
              "    }\n",
              "  </style>\n",
              "\n",
              "      <script>\n",
              "        const buttonEl =\n",
              "          document.querySelector('#df-548729bd-e669-4121-bb68-5d0abdc9ee70 button.colab-df-convert');\n",
              "        buttonEl.style.display =\n",
              "          google.colab.kernel.accessAllowed ? 'block' : 'none';\n",
              "\n",
              "        async function convertToInteractive(key) {\n",
              "          const element = document.querySelector('#df-548729bd-e669-4121-bb68-5d0abdc9ee70');\n",
              "          const dataTable =\n",
              "            await google.colab.kernel.invokeFunction('convertToInteractive',\n",
              "                                                     [key], {});\n",
              "          if (!dataTable) return;\n",
              "\n",
              "          const docLinkHtml = 'Like what you see? Visit the ' +\n",
              "            '<a target=\"_blank\" href=https://colab.research.google.com/notebooks/data_table.ipynb>data table notebook</a>'\n",
              "            + ' to learn more about interactive tables.';\n",
              "          element.innerHTML = '';\n",
              "          dataTable['output_type'] = 'display_data';\n",
              "          await google.colab.output.renderOutput(dataTable, element);\n",
              "          const docLink = document.createElement('div');\n",
              "          docLink.innerHTML = docLinkHtml;\n",
              "          element.appendChild(docLink);\n",
              "        }\n",
              "      </script>\n",
              "    </div>\n",
              "  </div>\n",
              "  "
            ],
            "text/plain": [
              "   Unnamed: 0        id  ...  settlement_percentage  settlement_term\n",
              "0           0  38098114  ...                    NaN              NaN\n",
              "1           1  36805548  ...                    NaN              NaN\n",
              "2           2  37842129  ...                    NaN              NaN\n",
              "3           3  37612354  ...                    NaN              NaN\n",
              "4           4  37662224  ...                    NaN              NaN\n",
              "\n",
              "[5 rows x 151 columns]"
            ]
          },
          "metadata": {},
          "execution_count": 111
        }
      ]
    },
    {
      "cell_type": "code",
      "metadata": {
        "id": "NJlGGHKC_vrs"
      },
      "source": [
        "del dataset['Unnamed: 0']"
      ],
      "execution_count": 112,
      "outputs": []
    },
    {
      "cell_type": "markdown",
      "metadata": {
        "id": "gvXXdz-UYH9P"
      },
      "source": [
        "Diccionario con la descripcion de los datos."
      ]
    },
    {
      "cell_type": "code",
      "metadata": {
        "id": "VZtAGbPkYCR5"
      },
      "source": [
        "datos_dict = pd.read_excel('https://resources.lendingclub.com/LCDataDictionary.xlsx')\n",
        "datos_dict.columns = ['feature', 'des']"
      ],
      "execution_count": 113,
      "outputs": []
    },
    {
      "cell_type": "markdown",
      "metadata": {
        "id": "LZMHvydX__ka"
      },
      "source": [
        "# EDA"
      ]
    },
    {
      "cell_type": "markdown",
      "metadata": {
        "id": "zvT_U2PRAO0Z"
      },
      "source": [
        "## Variable Target -> Default de Prestamo"
      ]
    },
    {
      "cell_type": "code",
      "metadata": {
        "colab": {
          "base_uri": "https://localhost:8080/"
        },
        "id": "LZp_TcQEACEG",
        "outputId": "6095799b-dd95-48d5-8f3d-fcc1bc7211e4"
      },
      "source": [
        "dataset['loan_status'].value_counts(dropna=False)"
      ],
      "execution_count": 114,
      "outputs": [
        {
          "output_type": "execute_result",
          "data": {
            "text/plain": [
              "Fully Paid            69982\n",
              "Charged Off           16156\n",
              "Current               12726\n",
              "Late (31-120 days)      730\n",
              "In Grace Period         264\n",
              "Late (16-30 days)       139\n",
              "Default                   3\n",
              "Name: loan_status, dtype: int64"
            ]
          },
          "metadata": {},
          "execution_count": 114
        }
      ]
    },
    {
      "cell_type": "markdown",
      "metadata": {
        "id": "Ic9NVUESBRiu"
      },
      "source": [
        "En este caso las variables que nos interesan son los prestamos terminados, ya sea porque pagaron `Fully Paid` o porque no pagaron y el prestamo se dio por perdido `Charged Off`.  \n",
        "En este caso las demas opciones, incluyendo `Default`, implican que el prestamo sigue en curso y no ha sido concluido, asi que las ignoraremos."
      ]
    },
    {
      "cell_type": "code",
      "metadata": {
        "colab": {
          "base_uri": "https://localhost:8080/"
        },
        "id": "u3qPWAlbB3CE",
        "outputId": "7c1a1ec4-7b27-49d5-9939-a3f780eb2c62"
      },
      "source": [
        "dataset = dataset.loc[dataset['loan_status'].isin(['Fully Paid', \n",
        "                                                   'Charged Off'])]\n",
        "dataset['loan_status'].value_counts(normalize=True, dropna=False)"
      ],
      "execution_count": 115,
      "outputs": [
        {
          "output_type": "execute_result",
          "data": {
            "text/plain": [
              "Fully Paid     0.812441\n",
              "Charged Off    0.187559\n",
              "Name: loan_status, dtype: float64"
            ]
          },
          "metadata": {},
          "execution_count": 115
        }
      ]
    },
    {
      "cell_type": "markdown",
      "metadata": {
        "id": "Zr-dxP9gCD7y"
      },
      "source": [
        "Podemos observar que tenemos una distribucion de labels cercana al 80/20. 81% de los prestamos fueron liquidados exitosamente, mientras que el 19% nunca fue pagado.  "
      ]
    },
    {
      "cell_type": "markdown",
      "metadata": {
        "id": "ifIc_rx1CgMc"
      },
      "source": [
        "Creemos el label de 0 o 1 en la columna `charged_off`."
      ]
    },
    {
      "cell_type": "code",
      "metadata": {
        "colab": {
          "base_uri": "https://localhost:8080/"
        },
        "id": "ux3rIjT_CU43",
        "outputId": "f99e9696-4123-4914-caa0-d1bd3accb78b"
      },
      "source": [
        "dataset['charged_off'] = (dataset['loan_status'] == 'Charged Off').apply(np.uint8)\n",
        "dataset.drop('loan_status', axis=1, inplace=True)\n",
        "dataset['charged_off'].unique()"
      ],
      "execution_count": 116,
      "outputs": [
        {
          "output_type": "stream",
          "name": "stderr",
          "text": [
            "/usr/local/lib/python3.7/dist-packages/ipykernel_launcher.py:1: SettingWithCopyWarning: \n",
            "A value is trying to be set on a copy of a slice from a DataFrame.\n",
            "Try using .loc[row_indexer,col_indexer] = value instead\n",
            "\n",
            "See the caveats in the documentation: https://pandas.pydata.org/pandas-docs/stable/user_guide/indexing.html#returning-a-view-versus-a-copy\n",
            "  \"\"\"Entry point for launching an IPython kernel.\n",
            "/usr/local/lib/python3.7/dist-packages/pandas/core/frame.py:4174: SettingWithCopyWarning: \n",
            "A value is trying to be set on a copy of a slice from a DataFrame\n",
            "\n",
            "See the caveats in the documentation: https://pandas.pydata.org/pandas-docs/stable/user_guide/indexing.html#returning-a-view-versus-a-copy\n",
            "  errors=errors,\n"
          ]
        },
        {
          "output_type": "execute_result",
          "data": {
            "text/plain": [
              "array([0, 1])"
            ]
          },
          "metadata": {},
          "execution_count": 116
        }
      ]
    },
    {
      "cell_type": "markdown",
      "metadata": {
        "id": "9Jj-bO9sDEJp"
      },
      "source": [
        "## Feature Selection"
      ]
    },
    {
      "cell_type": "markdown",
      "metadata": {
        "id": "0JpPe3uHomRg"
      },
      "source": [
        "Dada la cantidad de variables, en esta ocasion reduciremos el numero de variables antes de continuar."
      ]
    },
    {
      "cell_type": "markdown",
      "metadata": {
        "id": "bPURqGaUEJnK"
      },
      "source": [
        "Nuestra base de datos tiene 150 variables y 100 mil observaciones. Seria conveniente reducir la dimensionalidad. Sugerimos 4 criterios de **eliminacion**:\n",
        "+ Baja correlacion con la variable objetivo\n",
        "+ Alta correlacion entre ellas\n",
        "+ Muchos Missings/NAs\n",
        "+ Conocimiento del fenomeno/negocio "
      ]
    },
    {
      "cell_type": "markdown",
      "metadata": {
        "id": "6XdR-LBfHIEd"
      },
      "source": [
        "### Baja correlacion con el objetivo"
      ]
    },
    {
      "cell_type": "markdown",
      "metadata": {
        "id": "F0eClpu1m8S5"
      },
      "source": [
        "Una baja correlacion con el objetivo implica que explica poco."
      ]
    },
    {
      "cell_type": "code",
      "metadata": {
        "id": "uWts4N5XHLBl"
      },
      "source": [
        "correlacion = dataset.corr()\n",
        "correlacion_y = abs(correlacion['charged_off'])"
      ],
      "execution_count": 117,
      "outputs": []
    },
    {
      "cell_type": "code",
      "metadata": {
        "colab": {
          "base_uri": "https://localhost:8080/"
        },
        "id": "hNp4Ll7pHbpY",
        "outputId": "f94defe6-4b3a-4ebc-d659-39f418cd5b2a"
      },
      "source": [
        "correlacion_y.sort_values(ascending=False)"
      ],
      "execution_count": 118,
      "outputs": [
        {
          "output_type": "execute_result",
          "data": {
            "text/plain": [
              "charged_off                                   1.000000\n",
              "last_fico_range_high                          0.660562\n",
              "last_fico_range_low                           0.581378\n",
              "recoveries                                    0.518975\n",
              "collection_recovery_fee                       0.498298\n",
              "                                                ...   \n",
              "hardship_length                                    NaN\n",
              "orig_projected_additional_accrued_interest         NaN\n",
              "settlement_amount                                  NaN\n",
              "settlement_percentage                              NaN\n",
              "settlement_term                                    NaN\n",
              "Name: charged_off, Length: 117, dtype: float64"
            ]
          },
          "metadata": {},
          "execution_count": 118
        }
      ]
    },
    {
      "cell_type": "markdown",
      "metadata": {
        "id": "B-LPFsJ6HmAy"
      },
      "source": [
        "Los valores con NaNs es por que no tienen observaciones, las columnas estan llenas de missings."
      ]
    },
    {
      "cell_type": "code",
      "metadata": {
        "colab": {
          "base_uri": "https://localhost:8080/"
        },
        "id": "xIEPlmWpHUPq",
        "outputId": "72109989-9741-493c-8984-7a98b2c50c8d"
      },
      "source": [
        "correlacion_y.describe()"
      ],
      "execution_count": 119,
      "outputs": [
        {
          "output_type": "execute_result",
          "data": {
            "text/plain": [
              "count    77.000000\n",
              "mean      0.109109\n",
              "std       0.174861\n",
              "min       0.000392\n",
              "25%       0.008078\n",
              "50%       0.049426\n",
              "75%       0.088610\n",
              "max       1.000000\n",
              "Name: charged_off, dtype: float64"
            ]
          },
          "metadata": {},
          "execution_count": 119
        }
      ]
    },
    {
      "cell_type": "code",
      "metadata": {
        "colab": {
          "base_uri": "https://localhost:8080/"
        },
        "id": "mdWs49nXIVYK",
        "outputId": "c2096ad9-ea7a-4929-eb8c-62a1ff6c6662"
      },
      "source": [
        "drop_corr = sorted(list(correlacion_y[correlacion_y < 0.03].index))\n",
        "print(f'Numero de columnas a quitar {len(drop_corr)} \\n',drop_corr)"
      ],
      "execution_count": 120,
      "outputs": [
        {
          "output_type": "stream",
          "name": "stdout",
          "text": [
            "Numero de columnas a quitar 29 \n",
            " ['acc_now_delinq', 'chargeoff_within_12_mths', 'collections_12_mths_ex_med', 'delinq_2yrs', 'delinq_amnt', 'id', 'mo_sin_old_il_acct', 'mths_since_last_delinq', 'mths_since_last_major_derog', 'mths_since_last_record', 'mths_since_recent_bc_dlq', 'mths_since_recent_revol_delinq', 'num_accts_ever_120_pd', 'num_bc_sats', 'num_bc_tl', 'num_il_tl', 'num_rev_accts', 'num_tl_120dpd_2m', 'num_tl_30dpd', 'num_tl_90g_dpd_24m', 'pct_tl_nvr_dlq', 'pub_rec', 'pub_rec_bankruptcies', 'revol_bal', 'tax_liens', 'tot_coll_amt', 'total_acc', 'total_bal_ex_mort', 'total_il_high_credit_limit']\n"
          ]
        }
      ]
    },
    {
      "cell_type": "code",
      "metadata": {
        "colab": {
          "base_uri": "https://localhost:8080/"
        },
        "id": "MdBcZD3pl6fx",
        "outputId": "9c91258f-b4b1-42ba-8103-ef24540b1ae0"
      },
      "source": [
        "dataset.drop(labels=drop_corr, axis=1, inplace=True)\n",
        "dataset.shape"
      ],
      "execution_count": 121,
      "outputs": [
        {
          "output_type": "stream",
          "name": "stderr",
          "text": [
            "/usr/local/lib/python3.7/dist-packages/pandas/core/frame.py:4174: SettingWithCopyWarning: \n",
            "A value is trying to be set on a copy of a slice from a DataFrame\n",
            "\n",
            "See the caveats in the documentation: https://pandas.pydata.org/pandas-docs/stable/user_guide/indexing.html#returning-a-view-versus-a-copy\n",
            "  errors=errors,\n"
          ]
        },
        {
          "output_type": "execute_result",
          "data": {
            "text/plain": [
              "(86138, 121)"
            ]
          },
          "metadata": {},
          "execution_count": 121
        }
      ]
    },
    {
      "cell_type": "markdown",
      "metadata": {
        "id": "GaKRUI8gFTJg"
      },
      "source": [
        "### Eliminacion por Missings"
      ]
    },
    {
      "cell_type": "code",
      "metadata": {
        "colab": {
          "base_uri": "https://localhost:8080/"
        },
        "id": "394iqJVBFm8O",
        "outputId": "fe7c19be-d783-4542-fc99-c0f7122a46e4"
      },
      "source": [
        "missing_per = dataset.isnull().mean().sort_values(ascending=False)\n",
        "missing_per.head(15)"
      ],
      "execution_count": 122,
      "outputs": [
        {
          "output_type": "execute_result",
          "data": {
            "text/plain": [
              "all_util                    1.0\n",
              "open_rv_24m                 1.0\n",
              "sec_app_open_acc            1.0\n",
              "sec_app_mort_acc            1.0\n",
              "sec_app_inq_last_6mths      1.0\n",
              "sec_app_earliest_cr_line    1.0\n",
              "sec_app_fico_range_high     1.0\n",
              "sec_app_fico_range_low      1.0\n",
              "revol_bal_joint             1.0\n",
              "inq_last_12m                1.0\n",
              "total_cu_tl                 1.0\n",
              "inq_fi                      1.0\n",
              "max_bal_bc                  1.0\n",
              "open_rv_12m                 1.0\n",
              "sec_app_open_act_il         1.0\n",
              "dtype: float64"
            ]
          },
          "metadata": {},
          "execution_count": 122
        }
      ]
    },
    {
      "cell_type": "markdown",
      "metadata": {
        "id": "Q1g0J5QqGUgd"
      },
      "source": [
        "La cota de .3 es totalmente arbitraria, una buena regla de dedo para este tipo de datos es entre .25 a .5, pero puede variar mucho."
      ]
    },
    {
      "cell_type": "code",
      "metadata": {
        "colab": {
          "base_uri": "https://localhost:8080/"
        },
        "id": "8zNgmZZWF99k",
        "outputId": "17ae00bb-7cd2-4999-f3ec-be068143eab6"
      },
      "source": [
        "drop_miss = sorted(list(missing_per[missing_per > 0.3].index))\n",
        "print(f'Numero de columnas a quitar {len(drop_miss)} \\n',drop_miss)"
      ],
      "execution_count": 123,
      "outputs": [
        {
          "output_type": "stream",
          "name": "stdout",
          "text": [
            "Numero de columnas a quitar 53 \n",
            " ['all_util', 'annual_inc_joint', 'debt_settlement_flag_date', 'deferral_term', 'desc', 'dti_joint', 'hardship_amount', 'hardship_dpd', 'hardship_end_date', 'hardship_last_payment_amount', 'hardship_length', 'hardship_loan_status', 'hardship_payoff_balance_amount', 'hardship_reason', 'hardship_start_date', 'hardship_status', 'hardship_type', 'il_util', 'inq_fi', 'inq_last_12m', 'max_bal_bc', 'member_id', 'mths_since_rcnt_il', 'next_pymnt_d', 'open_acc_6m', 'open_act_il', 'open_il_12m', 'open_il_24m', 'open_rv_12m', 'open_rv_24m', 'orig_projected_additional_accrued_interest', 'payment_plan_start_date', 'revol_bal_joint', 'sec_app_chargeoff_within_12_mths', 'sec_app_collections_12_mths_ex_med', 'sec_app_earliest_cr_line', 'sec_app_fico_range_high', 'sec_app_fico_range_low', 'sec_app_inq_last_6mths', 'sec_app_mort_acc', 'sec_app_mths_since_last_major_derog', 'sec_app_num_rev_accts', 'sec_app_open_acc', 'sec_app_open_act_il', 'sec_app_revol_util', 'settlement_amount', 'settlement_date', 'settlement_percentage', 'settlement_status', 'settlement_term', 'total_bal_il', 'total_cu_tl', 'verification_status_joint']\n"
          ]
        }
      ]
    },
    {
      "cell_type": "code",
      "metadata": {
        "colab": {
          "base_uri": "https://localhost:8080/"
        },
        "id": "C45Uxp1ZmaLe",
        "outputId": "a2817f85-7257-4b5a-9a7d-0055b3fc1010"
      },
      "source": [
        "dataset.drop(labels=drop_miss, axis=1, inplace=True)\n",
        "dataset.shape"
      ],
      "execution_count": 124,
      "outputs": [
        {
          "output_type": "stream",
          "name": "stderr",
          "text": [
            "/usr/local/lib/python3.7/dist-packages/pandas/core/frame.py:4174: SettingWithCopyWarning: \n",
            "A value is trying to be set on a copy of a slice from a DataFrame\n",
            "\n",
            "See the caveats in the documentation: https://pandas.pydata.org/pandas-docs/stable/user_guide/indexing.html#returning-a-view-versus-a-copy\n",
            "  errors=errors,\n"
          ]
        },
        {
          "output_type": "execute_result",
          "data": {
            "text/plain": [
              "(86138, 68)"
            ]
          },
          "metadata": {},
          "execution_count": 124
        }
      ]
    },
    {
      "cell_type": "markdown",
      "metadata": {
        "id": "QGA5oVv7nnyq"
      },
      "source": [
        "### Conocimiento o Intuicion"
      ]
    },
    {
      "cell_type": "markdown",
      "metadata": {
        "id": "8eTAGCSk5ecc"
      },
      "source": [
        "Estas son algunas de las variables sugeridas por la comundiad de kaggle, sin embargo. Combiene que las revisemos nosotros manualmente.   \n",
        "Tambien devemos enfocarlos en eliminar leakages, y variables que no conoceremos *a priori*. Para ello tambien nos guiamos del siguiente documento:  [Credit Risk Analysis in Peer to Peer Lending Data set: Lending Club Club](https://digitalcommons.bard.edu/cgi/viewcontent.cgi?article=1299&context=senproj_s2019). Que es muy parecido al ejercicio que estamos realizando."
      ]
    },
    {
      "cell_type": "code",
      "metadata": {
        "colab": {
          "base_uri": "https://localhost:8080/"
        },
        "id": "RuXh11ydn2fv",
        "outputId": "790a2bbd-0cb7-445e-c0eb-1b4928fbd51e"
      },
      "source": [
        "print(sorted(dataset.columns))"
      ],
      "execution_count": 125,
      "outputs": [
        {
          "output_type": "stream",
          "name": "stdout",
          "text": [
            "['acc_open_past_24mths', 'addr_state', 'annual_inc', 'application_type', 'avg_cur_bal', 'bc_open_to_buy', 'bc_util', 'charged_off', 'collection_recovery_fee', 'debt_settlement_flag', 'disbursement_method', 'dti', 'earliest_cr_line', 'emp_length', 'emp_title', 'fico_range_high', 'fico_range_low', 'funded_amnt', 'funded_amnt_inv', 'grade', 'hardship_flag', 'home_ownership', 'initial_list_status', 'inq_last_6mths', 'installment', 'int_rate', 'issue_d', 'last_credit_pull_d', 'last_fico_range_high', 'last_fico_range_low', 'last_pymnt_amnt', 'last_pymnt_d', 'loan_amnt', 'mo_sin_old_rev_tl_op', 'mo_sin_rcnt_rev_tl_op', 'mo_sin_rcnt_tl', 'mort_acc', 'mths_since_recent_bc', 'mths_since_recent_inq', 'num_actv_bc_tl', 'num_actv_rev_tl', 'num_op_rev_tl', 'num_rev_tl_bal_gt_0', 'num_sats', 'num_tl_op_past_12m', 'open_acc', 'out_prncp', 'out_prncp_inv', 'percent_bc_gt_75', 'policy_code', 'purpose', 'pymnt_plan', 'recoveries', 'revol_util', 'sub_grade', 'term', 'title', 'tot_cur_bal', 'tot_hi_cred_lim', 'total_bc_limit', 'total_pymnt', 'total_pymnt_inv', 'total_rec_int', 'total_rec_late_fee', 'total_rec_prncp', 'total_rev_hi_lim', 'verification_status', 'zip_code']\n"
          ]
        }
      ]
    },
    {
      "cell_type": "code",
      "metadata": {
        "colab": {
          "base_uri": "https://localhost:8080/"
        },
        "id": "7vM-HF1_n-_E",
        "outputId": "780739ec-d2d6-48b7-c7fd-e6763bbf980e"
      },
      "source": [
        "elegidas = ['charged_off','funded_amnt','addr_state', 'annual_inc',\n",
        "            'application_type', 'dti', 'earliest_cr_line', 'emp_length', \n",
        "            'emp_title', 'fico_range_high', 'fico_range_low', 'grade',\n",
        "            'home_ownership', 'initial_list_status', 'installment', \n",
        "            'int_rate', 'loan_amnt', 'loan_status', 'mort_acc', \n",
        "            'open_acc', 'pub_rec', 'pub_rec_bankruptcies', 'purpose', \n",
        "            'revol_bal', 'revol_util', 'sub_grade', 'term', 'title', \n",
        "            'total_acc', 'verification_status', 'zip_code',\n",
        "            'last_pymnt_amnt','num_actv_rev_tl', 'mo_sin_rcnt_rev_tl_op',\n",
        "            'mo_sin_old_rev_tl_op',\"bc_util\",\"bc_open_to_buy\",\"avg_cur_bal\",\n",
        "            \"acc_open_past_24mths\" ]\n",
        "len(elegidas)"
      ],
      "execution_count": 126,
      "outputs": [
        {
          "output_type": "execute_result",
          "data": {
            "text/plain": [
              "39"
            ]
          },
          "metadata": {},
          "execution_count": 126
        }
      ]
    },
    {
      "cell_type": "code",
      "metadata": {
        "colab": {
          "base_uri": "https://localhost:8080/"
        },
        "id": "NON_qDMRoFze",
        "outputId": "5104f2af-d1a5-4845-f08a-3f0d653f5299"
      },
      "source": [
        "drop_no_intuitivas = [col for col in dataset.columns if col not in elegidas]\n",
        "dataset.drop(labels=drop_no_intuitivas , axis=1, inplace=True)\n",
        "dataset.shape"
      ],
      "execution_count": 127,
      "outputs": [
        {
          "output_type": "stream",
          "name": "stderr",
          "text": [
            "/usr/local/lib/python3.7/dist-packages/pandas/core/frame.py:4174: SettingWithCopyWarning: \n",
            "A value is trying to be set on a copy of a slice from a DataFrame\n",
            "\n",
            "See the caveats in the documentation: https://pandas.pydata.org/pandas-docs/stable/user_guide/indexing.html#returning-a-view-versus-a-copy\n",
            "  errors=errors,\n"
          ]
        },
        {
          "output_type": "execute_result",
          "data": {
            "text/plain": [
              "(86138, 34)"
            ]
          },
          "metadata": {},
          "execution_count": 127
        }
      ]
    },
    {
      "cell_type": "markdown",
      "metadata": {
        "id": "Ax1U6iuXoa3x"
      },
      "source": [
        "## Feature Analysis & Eng"
      ]
    },
    {
      "cell_type": "markdown",
      "metadata": {
        "id": "OA_sACYVp6R8"
      },
      "source": [
        "Analisemos las variables que seleccionamos mas a detalle."
      ]
    },
    {
      "cell_type": "markdown",
      "metadata": {
        "id": "AkAnlnl1DoG9"
      },
      "source": [
        "Funcion Auxiliar para clasificar el tipo de variables."
      ]
    },
    {
      "cell_type": "code",
      "metadata": {
        "id": "-D8NcLR6DkaA"
      },
      "source": [
        "def _check_type(value):\n",
        "    ''' \n",
        "    Infiere si la variable es categorica o numerica\n",
        "    apartir del tipo\n",
        "    '''\n",
        "    if value==object:\n",
        "        return 'categorica'\n",
        "    elif value==bool:\n",
        "        return 'categorica' \n",
        "    elif value=='int64':\n",
        "        return 'numerica'\n",
        "    elif value=='float64':\n",
        "        return 'numerica'"
      ],
      "execution_count": 128,
      "outputs": []
    },
    {
      "cell_type": "markdown",
      "metadata": {
        "id": "vlDe3ziNDsU7"
      },
      "source": [
        "Obtengamos el tipo de cada variable"
      ]
    },
    {
      "cell_type": "code",
      "metadata": {
        "colab": {
          "base_uri": "https://localhost:8080/",
          "height": 185
        },
        "id": "N5ejgXUVDrzW",
        "outputId": "5f9f9d77-ead1-42d0-a891-a3f082749671"
      },
      "source": [
        "feature_type = pd.DataFrame(dataset.dtypes)\n",
        "feature_type[0] = feature_type[0].apply(lambda x: _check_type(x))\n",
        "feature_type.reset_index(inplace=True)\n",
        "feature_type.rename(columns={'index':'feature',0:'tipo'},inplace=True)\n",
        "feature_type.head(3)"
      ],
      "execution_count": 129,
      "outputs": [
        {
          "output_type": "execute_result",
          "data": {
            "text/html": [
              "\n",
              "  <div id=\"df-ee6de684-4154-46c1-8729-ab4c3ab1ffb5\">\n",
              "    <div class=\"colab-df-container\">\n",
              "      <div>\n",
              "<style scoped>\n",
              "    .dataframe tbody tr th:only-of-type {\n",
              "        vertical-align: middle;\n",
              "    }\n",
              "\n",
              "    .dataframe tbody tr th {\n",
              "        vertical-align: top;\n",
              "    }\n",
              "\n",
              "    .dataframe thead th {\n",
              "        text-align: right;\n",
              "    }\n",
              "</style>\n",
              "<table border=\"1\" class=\"dataframe\">\n",
              "  <thead>\n",
              "    <tr style=\"text-align: right;\">\n",
              "      <th></th>\n",
              "      <th>feature</th>\n",
              "      <th>tipo</th>\n",
              "    </tr>\n",
              "  </thead>\n",
              "  <tbody>\n",
              "    <tr>\n",
              "      <th>0</th>\n",
              "      <td>loan_amnt</td>\n",
              "      <td>numerica</td>\n",
              "    </tr>\n",
              "    <tr>\n",
              "      <th>1</th>\n",
              "      <td>funded_amnt</td>\n",
              "      <td>numerica</td>\n",
              "    </tr>\n",
              "    <tr>\n",
              "      <th>2</th>\n",
              "      <td>term</td>\n",
              "      <td>categorica</td>\n",
              "    </tr>\n",
              "  </tbody>\n",
              "</table>\n",
              "</div>\n",
              "      <button class=\"colab-df-convert\" onclick=\"convertToInteractive('df-ee6de684-4154-46c1-8729-ab4c3ab1ffb5')\"\n",
              "              title=\"Convert this dataframe to an interactive table.\"\n",
              "              style=\"display:none;\">\n",
              "        \n",
              "  <svg xmlns=\"http://www.w3.org/2000/svg\" height=\"24px\"viewBox=\"0 0 24 24\"\n",
              "       width=\"24px\">\n",
              "    <path d=\"M0 0h24v24H0V0z\" fill=\"none\"/>\n",
              "    <path d=\"M18.56 5.44l.94 2.06.94-2.06 2.06-.94-2.06-.94-.94-2.06-.94 2.06-2.06.94zm-11 1L8.5 8.5l.94-2.06 2.06-.94-2.06-.94L8.5 2.5l-.94 2.06-2.06.94zm10 10l.94 2.06.94-2.06 2.06-.94-2.06-.94-.94-2.06-.94 2.06-2.06.94z\"/><path d=\"M17.41 7.96l-1.37-1.37c-.4-.4-.92-.59-1.43-.59-.52 0-1.04.2-1.43.59L10.3 9.45l-7.72 7.72c-.78.78-.78 2.05 0 2.83L4 21.41c.39.39.9.59 1.41.59.51 0 1.02-.2 1.41-.59l7.78-7.78 2.81-2.81c.8-.78.8-2.07 0-2.86zM5.41 20L4 18.59l7.72-7.72 1.47 1.35L5.41 20z\"/>\n",
              "  </svg>\n",
              "      </button>\n",
              "      \n",
              "  <style>\n",
              "    .colab-df-container {\n",
              "      display:flex;\n",
              "      flex-wrap:wrap;\n",
              "      gap: 12px;\n",
              "    }\n",
              "\n",
              "    .colab-df-convert {\n",
              "      background-color: #E8F0FE;\n",
              "      border: none;\n",
              "      border-radius: 50%;\n",
              "      cursor: pointer;\n",
              "      display: none;\n",
              "      fill: #1967D2;\n",
              "      height: 32px;\n",
              "      padding: 0 0 0 0;\n",
              "      width: 32px;\n",
              "    }\n",
              "\n",
              "    .colab-df-convert:hover {\n",
              "      background-color: #E2EBFA;\n",
              "      box-shadow: 0px 1px 2px rgba(60, 64, 67, 0.3), 0px 1px 3px 1px rgba(60, 64, 67, 0.15);\n",
              "      fill: #174EA6;\n",
              "    }\n",
              "\n",
              "    [theme=dark] .colab-df-convert {\n",
              "      background-color: #3B4455;\n",
              "      fill: #D2E3FC;\n",
              "    }\n",
              "\n",
              "    [theme=dark] .colab-df-convert:hover {\n",
              "      background-color: #434B5C;\n",
              "      box-shadow: 0px 1px 3px 1px rgba(0, 0, 0, 0.15);\n",
              "      filter: drop-shadow(0px 1px 2px rgba(0, 0, 0, 0.3));\n",
              "      fill: #FFFFFF;\n",
              "    }\n",
              "  </style>\n",
              "\n",
              "      <script>\n",
              "        const buttonEl =\n",
              "          document.querySelector('#df-ee6de684-4154-46c1-8729-ab4c3ab1ffb5 button.colab-df-convert');\n",
              "        buttonEl.style.display =\n",
              "          google.colab.kernel.accessAllowed ? 'block' : 'none';\n",
              "\n",
              "        async function convertToInteractive(key) {\n",
              "          const element = document.querySelector('#df-ee6de684-4154-46c1-8729-ab4c3ab1ffb5');\n",
              "          const dataTable =\n",
              "            await google.colab.kernel.invokeFunction('convertToInteractive',\n",
              "                                                     [key], {});\n",
              "          if (!dataTable) return;\n",
              "\n",
              "          const docLinkHtml = 'Like what you see? Visit the ' +\n",
              "            '<a target=\"_blank\" href=https://colab.research.google.com/notebooks/data_table.ipynb>data table notebook</a>'\n",
              "            + ' to learn more about interactive tables.';\n",
              "          element.innerHTML = '';\n",
              "          dataTable['output_type'] = 'display_data';\n",
              "          await google.colab.output.renderOutput(dataTable, element);\n",
              "          const docLink = document.createElement('div');\n",
              "          docLink.innerHTML = docLinkHtml;\n",
              "          element.appendChild(docLink);\n",
              "        }\n",
              "      </script>\n",
              "    </div>\n",
              "  </div>\n",
              "  "
            ],
            "text/plain": [
              "       feature        tipo\n",
              "0    loan_amnt    numerica\n",
              "1  funded_amnt    numerica\n",
              "2         term  categorica"
            ]
          },
          "metadata": {},
          "execution_count": 129
        }
      ]
    },
    {
      "cell_type": "markdown",
      "metadata": {
        "id": "MmRGZmV8oxuF"
      },
      "source": [
        "### Variables Categoricas"
      ]
    },
    {
      "cell_type": "code",
      "metadata": {
        "colab": {
          "base_uri": "https://localhost:8080/"
        },
        "id": "Kbn1WAGIC6NH",
        "outputId": "bb6a7f7a-22a8-48a7-f482-bd830ecfefde"
      },
      "source": [
        "features_cat = feature_type[feature_type['tipo']=='categorica']['feature']\n",
        "features_cat = list(features_cat)\n",
        "features_cat"
      ],
      "execution_count": 130,
      "outputs": [
        {
          "output_type": "execute_result",
          "data": {
            "text/plain": [
              "['term',\n",
              " 'grade',\n",
              " 'sub_grade',\n",
              " 'emp_title',\n",
              " 'emp_length',\n",
              " 'home_ownership',\n",
              " 'verification_status',\n",
              " 'purpose',\n",
              " 'title',\n",
              " 'zip_code',\n",
              " 'addr_state',\n",
              " 'earliest_cr_line',\n",
              " 'initial_list_status',\n",
              " 'application_type']"
            ]
          },
          "metadata": {},
          "execution_count": 130
        }
      ]
    },
    {
      "cell_type": "markdown",
      "metadata": {
        "id": "OehJ89WEUFkO"
      },
      "source": [
        "#### Seleccion de Variables Categoricas a explorar"
      ]
    },
    {
      "cell_type": "code",
      "metadata": {
        "colab": {
          "base_uri": "https://localhost:8080/",
          "height": 227
        },
        "id": "ZCqWh4elDXkW",
        "outputId": "37f1a42a-e66e-45c0-c1dd-c97f8fcd256f"
      },
      "source": [
        "# Lista de variables categoricas a eliminar\n",
        "cat_eliminar = []\n",
        "dataset[features_cat].describe()"
      ],
      "execution_count": 131,
      "outputs": [
        {
          "output_type": "execute_result",
          "data": {
            "text/html": [
              "\n",
              "  <div id=\"df-2f2e6cf5-7ea6-4abe-872a-208f60adadf2\">\n",
              "    <div class=\"colab-df-container\">\n",
              "      <div>\n",
              "<style scoped>\n",
              "    .dataframe tbody tr th:only-of-type {\n",
              "        vertical-align: middle;\n",
              "    }\n",
              "\n",
              "    .dataframe tbody tr th {\n",
              "        vertical-align: top;\n",
              "    }\n",
              "\n",
              "    .dataframe thead th {\n",
              "        text-align: right;\n",
              "    }\n",
              "</style>\n",
              "<table border=\"1\" class=\"dataframe\">\n",
              "  <thead>\n",
              "    <tr style=\"text-align: right;\">\n",
              "      <th></th>\n",
              "      <th>term</th>\n",
              "      <th>grade</th>\n",
              "      <th>sub_grade</th>\n",
              "      <th>emp_title</th>\n",
              "      <th>emp_length</th>\n",
              "      <th>home_ownership</th>\n",
              "      <th>verification_status</th>\n",
              "      <th>purpose</th>\n",
              "      <th>title</th>\n",
              "      <th>zip_code</th>\n",
              "      <th>addr_state</th>\n",
              "      <th>earliest_cr_line</th>\n",
              "      <th>initial_list_status</th>\n",
              "      <th>application_type</th>\n",
              "    </tr>\n",
              "  </thead>\n",
              "  <tbody>\n",
              "    <tr>\n",
              "      <th>count</th>\n",
              "      <td>86138</td>\n",
              "      <td>86138</td>\n",
              "      <td>86138</td>\n",
              "      <td>81416</td>\n",
              "      <td>81421</td>\n",
              "      <td>86138</td>\n",
              "      <td>86138</td>\n",
              "      <td>86138</td>\n",
              "      <td>86138</td>\n",
              "      <td>86138</td>\n",
              "      <td>86138</td>\n",
              "      <td>86138</td>\n",
              "      <td>86138</td>\n",
              "      <td>86138</td>\n",
              "    </tr>\n",
              "    <tr>\n",
              "      <th>unique</th>\n",
              "      <td>2</td>\n",
              "      <td>7</td>\n",
              "      <td>35</td>\n",
              "      <td>32987</td>\n",
              "      <td>11</td>\n",
              "      <td>4</td>\n",
              "      <td>3</td>\n",
              "      <td>13</td>\n",
              "      <td>20</td>\n",
              "      <td>846</td>\n",
              "      <td>46</td>\n",
              "      <td>598</td>\n",
              "      <td>2</td>\n",
              "      <td>1</td>\n",
              "    </tr>\n",
              "    <tr>\n",
              "      <th>top</th>\n",
              "      <td>36 months</td>\n",
              "      <td>C</td>\n",
              "      <td>C1</td>\n",
              "      <td>Teacher</td>\n",
              "      <td>10+ years</td>\n",
              "      <td>MORTGAGE</td>\n",
              "      <td>Source Verified</td>\n",
              "      <td>debt_consolidation</td>\n",
              "      <td>Debt consolidation</td>\n",
              "      <td>750xx</td>\n",
              "      <td>CA</td>\n",
              "      <td>Aug-2001</td>\n",
              "      <td>w</td>\n",
              "      <td>Individual</td>\n",
              "    </tr>\n",
              "    <tr>\n",
              "      <th>freq</th>\n",
              "      <td>67507</td>\n",
              "      <td>23242</td>\n",
              "      <td>5217</td>\n",
              "      <td>1576</td>\n",
              "      <td>28177</td>\n",
              "      <td>41785</td>\n",
              "      <td>34041</td>\n",
              "      <td>52968</td>\n",
              "      <td>52990</td>\n",
              "      <td>954</td>\n",
              "      <td>12571</td>\n",
              "      <td>744</td>\n",
              "      <td>43882</td>\n",
              "      <td>86138</td>\n",
              "    </tr>\n",
              "  </tbody>\n",
              "</table>\n",
              "</div>\n",
              "      <button class=\"colab-df-convert\" onclick=\"convertToInteractive('df-2f2e6cf5-7ea6-4abe-872a-208f60adadf2')\"\n",
              "              title=\"Convert this dataframe to an interactive table.\"\n",
              "              style=\"display:none;\">\n",
              "        \n",
              "  <svg xmlns=\"http://www.w3.org/2000/svg\" height=\"24px\"viewBox=\"0 0 24 24\"\n",
              "       width=\"24px\">\n",
              "    <path d=\"M0 0h24v24H0V0z\" fill=\"none\"/>\n",
              "    <path d=\"M18.56 5.44l.94 2.06.94-2.06 2.06-.94-2.06-.94-.94-2.06-.94 2.06-2.06.94zm-11 1L8.5 8.5l.94-2.06 2.06-.94-2.06-.94L8.5 2.5l-.94 2.06-2.06.94zm10 10l.94 2.06.94-2.06 2.06-.94-2.06-.94-.94-2.06-.94 2.06-2.06.94z\"/><path d=\"M17.41 7.96l-1.37-1.37c-.4-.4-.92-.59-1.43-.59-.52 0-1.04.2-1.43.59L10.3 9.45l-7.72 7.72c-.78.78-.78 2.05 0 2.83L4 21.41c.39.39.9.59 1.41.59.51 0 1.02-.2 1.41-.59l7.78-7.78 2.81-2.81c.8-.78.8-2.07 0-2.86zM5.41 20L4 18.59l7.72-7.72 1.47 1.35L5.41 20z\"/>\n",
              "  </svg>\n",
              "      </button>\n",
              "      \n",
              "  <style>\n",
              "    .colab-df-container {\n",
              "      display:flex;\n",
              "      flex-wrap:wrap;\n",
              "      gap: 12px;\n",
              "    }\n",
              "\n",
              "    .colab-df-convert {\n",
              "      background-color: #E8F0FE;\n",
              "      border: none;\n",
              "      border-radius: 50%;\n",
              "      cursor: pointer;\n",
              "      display: none;\n",
              "      fill: #1967D2;\n",
              "      height: 32px;\n",
              "      padding: 0 0 0 0;\n",
              "      width: 32px;\n",
              "    }\n",
              "\n",
              "    .colab-df-convert:hover {\n",
              "      background-color: #E2EBFA;\n",
              "      box-shadow: 0px 1px 2px rgba(60, 64, 67, 0.3), 0px 1px 3px 1px rgba(60, 64, 67, 0.15);\n",
              "      fill: #174EA6;\n",
              "    }\n",
              "\n",
              "    [theme=dark] .colab-df-convert {\n",
              "      background-color: #3B4455;\n",
              "      fill: #D2E3FC;\n",
              "    }\n",
              "\n",
              "    [theme=dark] .colab-df-convert:hover {\n",
              "      background-color: #434B5C;\n",
              "      box-shadow: 0px 1px 3px 1px rgba(0, 0, 0, 0.15);\n",
              "      filter: drop-shadow(0px 1px 2px rgba(0, 0, 0, 0.3));\n",
              "      fill: #FFFFFF;\n",
              "    }\n",
              "  </style>\n",
              "\n",
              "      <script>\n",
              "        const buttonEl =\n",
              "          document.querySelector('#df-2f2e6cf5-7ea6-4abe-872a-208f60adadf2 button.colab-df-convert');\n",
              "        buttonEl.style.display =\n",
              "          google.colab.kernel.accessAllowed ? 'block' : 'none';\n",
              "\n",
              "        async function convertToInteractive(key) {\n",
              "          const element = document.querySelector('#df-2f2e6cf5-7ea6-4abe-872a-208f60adadf2');\n",
              "          const dataTable =\n",
              "            await google.colab.kernel.invokeFunction('convertToInteractive',\n",
              "                                                     [key], {});\n",
              "          if (!dataTable) return;\n",
              "\n",
              "          const docLinkHtml = 'Like what you see? Visit the ' +\n",
              "            '<a target=\"_blank\" href=https://colab.research.google.com/notebooks/data_table.ipynb>data table notebook</a>'\n",
              "            + ' to learn more about interactive tables.';\n",
              "          element.innerHTML = '';\n",
              "          dataTable['output_type'] = 'display_data';\n",
              "          await google.colab.output.renderOutput(dataTable, element);\n",
              "          const docLink = document.createElement('div');\n",
              "          docLink.innerHTML = docLinkHtml;\n",
              "          element.appendChild(docLink);\n",
              "        }\n",
              "      </script>\n",
              "    </div>\n",
              "  </div>\n",
              "  "
            ],
            "text/plain": [
              "              term  grade  ... initial_list_status application_type\n",
              "count        86138  86138  ...               86138            86138\n",
              "unique           2      7  ...                   2                1\n",
              "top      36 months      C  ...                   w       Individual\n",
              "freq         67507  23242  ...               43882            86138\n",
              "\n",
              "[4 rows x 14 columns]"
            ]
          },
          "metadata": {},
          "execution_count": 131
        }
      ]
    },
    {
      "cell_type": "markdown",
      "metadata": {
        "id": "sVaMR3swFm4z"
      },
      "source": [
        "Eliminemos `application type` pues solo tiene un valor. Es inutil para predecir."
      ]
    },
    {
      "cell_type": "markdown",
      "metadata": {
        "id": "M09NO6mMGXov"
      },
      "source": [
        "Eliminemos `emp_title`, `zip_code` pues tienen muchos valores, y hacer one-hot encoding (dummies) aumentaria sustancialmente el numero de variables. En escencia podrian ser variables muy utilies, pero requieren de un tratamiento mas cuidadoso que es mejor dejar para otra ocasion. "
      ]
    },
    {
      "cell_type": "code",
      "metadata": {
        "id": "yTcMZpakKmM3"
      },
      "source": [
        "cat_eliminar = cat_eliminar + ['emp_title', 'zip_code', 'application_type']"
      ],
      "execution_count": 132,
      "outputs": []
    },
    {
      "cell_type": "code",
      "metadata": {
        "colab": {
          "base_uri": "https://localhost:8080/",
          "height": 227
        },
        "id": "oc9rwb0gK3M-",
        "outputId": "75f338b1-1698-43e7-a0ff-9f49e4b9e1af"
      },
      "source": [
        "# Para mejorar la visualizacion de las variables categoricas que nos quedan\n",
        "# por analizar\n",
        "features_cat = [f for f in features_cat if f not in cat_eliminar]\n",
        "dataset[features_cat].describe()"
      ],
      "execution_count": 133,
      "outputs": [
        {
          "output_type": "execute_result",
          "data": {
            "text/html": [
              "\n",
              "  <div id=\"df-c380e897-9463-4294-a62b-69bfd93f941c\">\n",
              "    <div class=\"colab-df-container\">\n",
              "      <div>\n",
              "<style scoped>\n",
              "    .dataframe tbody tr th:only-of-type {\n",
              "        vertical-align: middle;\n",
              "    }\n",
              "\n",
              "    .dataframe tbody tr th {\n",
              "        vertical-align: top;\n",
              "    }\n",
              "\n",
              "    .dataframe thead th {\n",
              "        text-align: right;\n",
              "    }\n",
              "</style>\n",
              "<table border=\"1\" class=\"dataframe\">\n",
              "  <thead>\n",
              "    <tr style=\"text-align: right;\">\n",
              "      <th></th>\n",
              "      <th>term</th>\n",
              "      <th>grade</th>\n",
              "      <th>sub_grade</th>\n",
              "      <th>emp_length</th>\n",
              "      <th>home_ownership</th>\n",
              "      <th>verification_status</th>\n",
              "      <th>purpose</th>\n",
              "      <th>title</th>\n",
              "      <th>addr_state</th>\n",
              "      <th>earliest_cr_line</th>\n",
              "      <th>initial_list_status</th>\n",
              "    </tr>\n",
              "  </thead>\n",
              "  <tbody>\n",
              "    <tr>\n",
              "      <th>count</th>\n",
              "      <td>86138</td>\n",
              "      <td>86138</td>\n",
              "      <td>86138</td>\n",
              "      <td>81421</td>\n",
              "      <td>86138</td>\n",
              "      <td>86138</td>\n",
              "      <td>86138</td>\n",
              "      <td>86138</td>\n",
              "      <td>86138</td>\n",
              "      <td>86138</td>\n",
              "      <td>86138</td>\n",
              "    </tr>\n",
              "    <tr>\n",
              "      <th>unique</th>\n",
              "      <td>2</td>\n",
              "      <td>7</td>\n",
              "      <td>35</td>\n",
              "      <td>11</td>\n",
              "      <td>4</td>\n",
              "      <td>3</td>\n",
              "      <td>13</td>\n",
              "      <td>20</td>\n",
              "      <td>46</td>\n",
              "      <td>598</td>\n",
              "      <td>2</td>\n",
              "    </tr>\n",
              "    <tr>\n",
              "      <th>top</th>\n",
              "      <td>36 months</td>\n",
              "      <td>C</td>\n",
              "      <td>C1</td>\n",
              "      <td>10+ years</td>\n",
              "      <td>MORTGAGE</td>\n",
              "      <td>Source Verified</td>\n",
              "      <td>debt_consolidation</td>\n",
              "      <td>Debt consolidation</td>\n",
              "      <td>CA</td>\n",
              "      <td>Aug-2001</td>\n",
              "      <td>w</td>\n",
              "    </tr>\n",
              "    <tr>\n",
              "      <th>freq</th>\n",
              "      <td>67507</td>\n",
              "      <td>23242</td>\n",
              "      <td>5217</td>\n",
              "      <td>28177</td>\n",
              "      <td>41785</td>\n",
              "      <td>34041</td>\n",
              "      <td>52968</td>\n",
              "      <td>52990</td>\n",
              "      <td>12571</td>\n",
              "      <td>744</td>\n",
              "      <td>43882</td>\n",
              "    </tr>\n",
              "  </tbody>\n",
              "</table>\n",
              "</div>\n",
              "      <button class=\"colab-df-convert\" onclick=\"convertToInteractive('df-c380e897-9463-4294-a62b-69bfd93f941c')\"\n",
              "              title=\"Convert this dataframe to an interactive table.\"\n",
              "              style=\"display:none;\">\n",
              "        \n",
              "  <svg xmlns=\"http://www.w3.org/2000/svg\" height=\"24px\"viewBox=\"0 0 24 24\"\n",
              "       width=\"24px\">\n",
              "    <path d=\"M0 0h24v24H0V0z\" fill=\"none\"/>\n",
              "    <path d=\"M18.56 5.44l.94 2.06.94-2.06 2.06-.94-2.06-.94-.94-2.06-.94 2.06-2.06.94zm-11 1L8.5 8.5l.94-2.06 2.06-.94-2.06-.94L8.5 2.5l-.94 2.06-2.06.94zm10 10l.94 2.06.94-2.06 2.06-.94-2.06-.94-.94-2.06-.94 2.06-2.06.94z\"/><path d=\"M17.41 7.96l-1.37-1.37c-.4-.4-.92-.59-1.43-.59-.52 0-1.04.2-1.43.59L10.3 9.45l-7.72 7.72c-.78.78-.78 2.05 0 2.83L4 21.41c.39.39.9.59 1.41.59.51 0 1.02-.2 1.41-.59l7.78-7.78 2.81-2.81c.8-.78.8-2.07 0-2.86zM5.41 20L4 18.59l7.72-7.72 1.47 1.35L5.41 20z\"/>\n",
              "  </svg>\n",
              "      </button>\n",
              "      \n",
              "  <style>\n",
              "    .colab-df-container {\n",
              "      display:flex;\n",
              "      flex-wrap:wrap;\n",
              "      gap: 12px;\n",
              "    }\n",
              "\n",
              "    .colab-df-convert {\n",
              "      background-color: #E8F0FE;\n",
              "      border: none;\n",
              "      border-radius: 50%;\n",
              "      cursor: pointer;\n",
              "      display: none;\n",
              "      fill: #1967D2;\n",
              "      height: 32px;\n",
              "      padding: 0 0 0 0;\n",
              "      width: 32px;\n",
              "    }\n",
              "\n",
              "    .colab-df-convert:hover {\n",
              "      background-color: #E2EBFA;\n",
              "      box-shadow: 0px 1px 2px rgba(60, 64, 67, 0.3), 0px 1px 3px 1px rgba(60, 64, 67, 0.15);\n",
              "      fill: #174EA6;\n",
              "    }\n",
              "\n",
              "    [theme=dark] .colab-df-convert {\n",
              "      background-color: #3B4455;\n",
              "      fill: #D2E3FC;\n",
              "    }\n",
              "\n",
              "    [theme=dark] .colab-df-convert:hover {\n",
              "      background-color: #434B5C;\n",
              "      box-shadow: 0px 1px 3px 1px rgba(0, 0, 0, 0.15);\n",
              "      filter: drop-shadow(0px 1px 2px rgba(0, 0, 0, 0.3));\n",
              "      fill: #FFFFFF;\n",
              "    }\n",
              "  </style>\n",
              "\n",
              "      <script>\n",
              "        const buttonEl =\n",
              "          document.querySelector('#df-c380e897-9463-4294-a62b-69bfd93f941c button.colab-df-convert');\n",
              "        buttonEl.style.display =\n",
              "          google.colab.kernel.accessAllowed ? 'block' : 'none';\n",
              "\n",
              "        async function convertToInteractive(key) {\n",
              "          const element = document.querySelector('#df-c380e897-9463-4294-a62b-69bfd93f941c');\n",
              "          const dataTable =\n",
              "            await google.colab.kernel.invokeFunction('convertToInteractive',\n",
              "                                                     [key], {});\n",
              "          if (!dataTable) return;\n",
              "\n",
              "          const docLinkHtml = 'Like what you see? Visit the ' +\n",
              "            '<a target=\"_blank\" href=https://colab.research.google.com/notebooks/data_table.ipynb>data table notebook</a>'\n",
              "            + ' to learn more about interactive tables.';\n",
              "          element.innerHTML = '';\n",
              "          dataTable['output_type'] = 'display_data';\n",
              "          await google.colab.output.renderOutput(dataTable, element);\n",
              "          const docLink = document.createElement('div');\n",
              "          docLink.innerHTML = docLinkHtml;\n",
              "          element.appendChild(docLink);\n",
              "        }\n",
              "      </script>\n",
              "    </div>\n",
              "  </div>\n",
              "  "
            ],
            "text/plain": [
              "              term  grade  ... earliest_cr_line initial_list_status\n",
              "count        86138  86138  ...            86138               86138\n",
              "unique           2      7  ...              598                   2\n",
              "top      36 months      C  ...         Aug-2001                   w\n",
              "freq         67507  23242  ...              744               43882\n",
              "\n",
              "[4 rows x 11 columns]"
            ]
          },
          "metadata": {},
          "execution_count": 133
        }
      ]
    },
    {
      "cell_type": "markdown",
      "metadata": {
        "id": "IDOMprxydsxC"
      },
      "source": [
        "+ `term`:  \"The number of payments on the loan. Values are in months and can be either 36 or 60. The 60 Months loans are more likelely to charge off.\"   \n",
        "Es la duracion del prestamo, facilmente podemos convertirla a dummy, pues toma solo dos valores."
      ]
    },
    {
      "cell_type": "markdown",
      "metadata": {
        "id": "wE3351fxL-yd"
      },
      "source": [
        "+ `purpose` y `title` que por la descripcion parecen tener valores similares."
      ]
    },
    {
      "cell_type": "code",
      "metadata": {
        "colab": {
          "base_uri": "https://localhost:8080/",
          "height": 554
        },
        "id": "zhnpfUaKF6Rb",
        "outputId": "8d2465d5-98d7-4eb3-cac3-014eb06517c1"
      },
      "source": [
        "dataset[['title', 'purpose']].drop_duplicates()"
      ],
      "execution_count": 134,
      "outputs": [
        {
          "output_type": "execute_result",
          "data": {
            "text/html": [
              "\n",
              "  <div id=\"df-af853422-c55d-4bfa-b3db-85935c69c40d\">\n",
              "    <div class=\"colab-df-container\">\n",
              "      <div>\n",
              "<style scoped>\n",
              "    .dataframe tbody tr th:only-of-type {\n",
              "        vertical-align: middle;\n",
              "    }\n",
              "\n",
              "    .dataframe tbody tr th {\n",
              "        vertical-align: top;\n",
              "    }\n",
              "\n",
              "    .dataframe thead th {\n",
              "        text-align: right;\n",
              "    }\n",
              "</style>\n",
              "<table border=\"1\" class=\"dataframe\">\n",
              "  <thead>\n",
              "    <tr style=\"text-align: right;\">\n",
              "      <th></th>\n",
              "      <th>title</th>\n",
              "      <th>purpose</th>\n",
              "    </tr>\n",
              "  </thead>\n",
              "  <tbody>\n",
              "    <tr>\n",
              "      <th>0</th>\n",
              "      <td>Debt consolidation</td>\n",
              "      <td>debt_consolidation</td>\n",
              "    </tr>\n",
              "    <tr>\n",
              "      <th>1</th>\n",
              "      <td>Credit card refinancing</td>\n",
              "      <td>credit_card</td>\n",
              "    </tr>\n",
              "    <tr>\n",
              "      <th>6</th>\n",
              "      <td>Home improvement</td>\n",
              "      <td>home_improvement</td>\n",
              "    </tr>\n",
              "    <tr>\n",
              "      <th>11</th>\n",
              "      <td>Home buying</td>\n",
              "      <td>house</td>\n",
              "    </tr>\n",
              "    <tr>\n",
              "      <th>16</th>\n",
              "      <td>Medical expenses</td>\n",
              "      <td>medical</td>\n",
              "    </tr>\n",
              "    <tr>\n",
              "      <th>...</th>\n",
              "      <td>...</td>\n",
              "      <td>...</td>\n",
              "    </tr>\n",
              "    <tr>\n",
              "      <th>82765</th>\n",
              "      <td>Other</td>\n",
              "      <td>home_improvement</td>\n",
              "    </tr>\n",
              "    <tr>\n",
              "      <th>94706</th>\n",
              "      <td>Home buying</td>\n",
              "      <td>credit_card</td>\n",
              "    </tr>\n",
              "    <tr>\n",
              "      <th>95664</th>\n",
              "      <td>mlue</td>\n",
              "      <td>debt_consolidation</td>\n",
              "    </tr>\n",
              "    <tr>\n",
              "      <th>97405</th>\n",
              "      <td>Other</td>\n",
              "      <td>vacation</td>\n",
              "    </tr>\n",
              "    <tr>\n",
              "      <th>97719</th>\n",
              "      <td>Vacation</td>\n",
              "      <td>other</td>\n",
              "    </tr>\n",
              "  </tbody>\n",
              "</table>\n",
              "<p>68 rows × 2 columns</p>\n",
              "</div>\n",
              "      <button class=\"colab-df-convert\" onclick=\"convertToInteractive('df-af853422-c55d-4bfa-b3db-85935c69c40d')\"\n",
              "              title=\"Convert this dataframe to an interactive table.\"\n",
              "              style=\"display:none;\">\n",
              "        \n",
              "  <svg xmlns=\"http://www.w3.org/2000/svg\" height=\"24px\"viewBox=\"0 0 24 24\"\n",
              "       width=\"24px\">\n",
              "    <path d=\"M0 0h24v24H0V0z\" fill=\"none\"/>\n",
              "    <path d=\"M18.56 5.44l.94 2.06.94-2.06 2.06-.94-2.06-.94-.94-2.06-.94 2.06-2.06.94zm-11 1L8.5 8.5l.94-2.06 2.06-.94-2.06-.94L8.5 2.5l-.94 2.06-2.06.94zm10 10l.94 2.06.94-2.06 2.06-.94-2.06-.94-.94-2.06-.94 2.06-2.06.94z\"/><path d=\"M17.41 7.96l-1.37-1.37c-.4-.4-.92-.59-1.43-.59-.52 0-1.04.2-1.43.59L10.3 9.45l-7.72 7.72c-.78.78-.78 2.05 0 2.83L4 21.41c.39.39.9.59 1.41.59.51 0 1.02-.2 1.41-.59l7.78-7.78 2.81-2.81c.8-.78.8-2.07 0-2.86zM5.41 20L4 18.59l7.72-7.72 1.47 1.35L5.41 20z\"/>\n",
              "  </svg>\n",
              "      </button>\n",
              "      \n",
              "  <style>\n",
              "    .colab-df-container {\n",
              "      display:flex;\n",
              "      flex-wrap:wrap;\n",
              "      gap: 12px;\n",
              "    }\n",
              "\n",
              "    .colab-df-convert {\n",
              "      background-color: #E8F0FE;\n",
              "      border: none;\n",
              "      border-radius: 50%;\n",
              "      cursor: pointer;\n",
              "      display: none;\n",
              "      fill: #1967D2;\n",
              "      height: 32px;\n",
              "      padding: 0 0 0 0;\n",
              "      width: 32px;\n",
              "    }\n",
              "\n",
              "    .colab-df-convert:hover {\n",
              "      background-color: #E2EBFA;\n",
              "      box-shadow: 0px 1px 2px rgba(60, 64, 67, 0.3), 0px 1px 3px 1px rgba(60, 64, 67, 0.15);\n",
              "      fill: #174EA6;\n",
              "    }\n",
              "\n",
              "    [theme=dark] .colab-df-convert {\n",
              "      background-color: #3B4455;\n",
              "      fill: #D2E3FC;\n",
              "    }\n",
              "\n",
              "    [theme=dark] .colab-df-convert:hover {\n",
              "      background-color: #434B5C;\n",
              "      box-shadow: 0px 1px 3px 1px rgba(0, 0, 0, 0.15);\n",
              "      filter: drop-shadow(0px 1px 2px rgba(0, 0, 0, 0.3));\n",
              "      fill: #FFFFFF;\n",
              "    }\n",
              "  </style>\n",
              "\n",
              "      <script>\n",
              "        const buttonEl =\n",
              "          document.querySelector('#df-af853422-c55d-4bfa-b3db-85935c69c40d button.colab-df-convert');\n",
              "        buttonEl.style.display =\n",
              "          google.colab.kernel.accessAllowed ? 'block' : 'none';\n",
              "\n",
              "        async function convertToInteractive(key) {\n",
              "          const element = document.querySelector('#df-af853422-c55d-4bfa-b3db-85935c69c40d');\n",
              "          const dataTable =\n",
              "            await google.colab.kernel.invokeFunction('convertToInteractive',\n",
              "                                                     [key], {});\n",
              "          if (!dataTable) return;\n",
              "\n",
              "          const docLinkHtml = 'Like what you see? Visit the ' +\n",
              "            '<a target=\"_blank\" href=https://colab.research.google.com/notebooks/data_table.ipynb>data table notebook</a>'\n",
              "            + ' to learn more about interactive tables.';\n",
              "          element.innerHTML = '';\n",
              "          dataTable['output_type'] = 'display_data';\n",
              "          await google.colab.output.renderOutput(dataTable, element);\n",
              "          const docLink = document.createElement('div');\n",
              "          docLink.innerHTML = docLinkHtml;\n",
              "          element.appendChild(docLink);\n",
              "        }\n",
              "      </script>\n",
              "    </div>\n",
              "  </div>\n",
              "  "
            ],
            "text/plain": [
              "                         title             purpose\n",
              "0           Debt consolidation  debt_consolidation\n",
              "1      Credit card refinancing         credit_card\n",
              "6             Home improvement    home_improvement\n",
              "11                 Home buying               house\n",
              "16            Medical expenses             medical\n",
              "...                        ...                 ...\n",
              "82765                    Other    home_improvement\n",
              "94706              Home buying         credit_card\n",
              "95664                     mlue  debt_consolidation\n",
              "97405                    Other            vacation\n",
              "97719                 Vacation               other\n",
              "\n",
              "[68 rows x 2 columns]"
            ]
          },
          "metadata": {},
          "execution_count": 134
        }
      ]
    },
    {
      "cell_type": "markdown",
      "metadata": {
        "id": "PtjVT7MTMTCF"
      },
      "source": [
        "+ `title` se parece a `purpose`, pero con menos valores, ademas de parecer mas certero. Elijamos `purpose` para mantener un modelo parsimonioso."
      ]
    },
    {
      "cell_type": "code",
      "metadata": {
        "colab": {
          "base_uri": "https://localhost:8080/",
          "height": 227
        },
        "id": "Y1niJsFyMVaL",
        "outputId": "da8fc8e8-9800-4554-dc8f-9f2aae7720db"
      },
      "source": [
        "cat_eliminar = cat_eliminar + ['title']\n",
        "# Para facilitar la visualizacion\n",
        "features_cat = [f for f in features_cat if f not in cat_eliminar]\n",
        "dataset[features_cat].describe()"
      ],
      "execution_count": 135,
      "outputs": [
        {
          "output_type": "execute_result",
          "data": {
            "text/html": [
              "\n",
              "  <div id=\"df-95079ec0-c36d-4112-8e0f-71eb67b6e328\">\n",
              "    <div class=\"colab-df-container\">\n",
              "      <div>\n",
              "<style scoped>\n",
              "    .dataframe tbody tr th:only-of-type {\n",
              "        vertical-align: middle;\n",
              "    }\n",
              "\n",
              "    .dataframe tbody tr th {\n",
              "        vertical-align: top;\n",
              "    }\n",
              "\n",
              "    .dataframe thead th {\n",
              "        text-align: right;\n",
              "    }\n",
              "</style>\n",
              "<table border=\"1\" class=\"dataframe\">\n",
              "  <thead>\n",
              "    <tr style=\"text-align: right;\">\n",
              "      <th></th>\n",
              "      <th>term</th>\n",
              "      <th>grade</th>\n",
              "      <th>sub_grade</th>\n",
              "      <th>emp_length</th>\n",
              "      <th>home_ownership</th>\n",
              "      <th>verification_status</th>\n",
              "      <th>purpose</th>\n",
              "      <th>addr_state</th>\n",
              "      <th>earliest_cr_line</th>\n",
              "      <th>initial_list_status</th>\n",
              "    </tr>\n",
              "  </thead>\n",
              "  <tbody>\n",
              "    <tr>\n",
              "      <th>count</th>\n",
              "      <td>86138</td>\n",
              "      <td>86138</td>\n",
              "      <td>86138</td>\n",
              "      <td>81421</td>\n",
              "      <td>86138</td>\n",
              "      <td>86138</td>\n",
              "      <td>86138</td>\n",
              "      <td>86138</td>\n",
              "      <td>86138</td>\n",
              "      <td>86138</td>\n",
              "    </tr>\n",
              "    <tr>\n",
              "      <th>unique</th>\n",
              "      <td>2</td>\n",
              "      <td>7</td>\n",
              "      <td>35</td>\n",
              "      <td>11</td>\n",
              "      <td>4</td>\n",
              "      <td>3</td>\n",
              "      <td>13</td>\n",
              "      <td>46</td>\n",
              "      <td>598</td>\n",
              "      <td>2</td>\n",
              "    </tr>\n",
              "    <tr>\n",
              "      <th>top</th>\n",
              "      <td>36 months</td>\n",
              "      <td>C</td>\n",
              "      <td>C1</td>\n",
              "      <td>10+ years</td>\n",
              "      <td>MORTGAGE</td>\n",
              "      <td>Source Verified</td>\n",
              "      <td>debt_consolidation</td>\n",
              "      <td>CA</td>\n",
              "      <td>Aug-2001</td>\n",
              "      <td>w</td>\n",
              "    </tr>\n",
              "    <tr>\n",
              "      <th>freq</th>\n",
              "      <td>67507</td>\n",
              "      <td>23242</td>\n",
              "      <td>5217</td>\n",
              "      <td>28177</td>\n",
              "      <td>41785</td>\n",
              "      <td>34041</td>\n",
              "      <td>52968</td>\n",
              "      <td>12571</td>\n",
              "      <td>744</td>\n",
              "      <td>43882</td>\n",
              "    </tr>\n",
              "  </tbody>\n",
              "</table>\n",
              "</div>\n",
              "      <button class=\"colab-df-convert\" onclick=\"convertToInteractive('df-95079ec0-c36d-4112-8e0f-71eb67b6e328')\"\n",
              "              title=\"Convert this dataframe to an interactive table.\"\n",
              "              style=\"display:none;\">\n",
              "        \n",
              "  <svg xmlns=\"http://www.w3.org/2000/svg\" height=\"24px\"viewBox=\"0 0 24 24\"\n",
              "       width=\"24px\">\n",
              "    <path d=\"M0 0h24v24H0V0z\" fill=\"none\"/>\n",
              "    <path d=\"M18.56 5.44l.94 2.06.94-2.06 2.06-.94-2.06-.94-.94-2.06-.94 2.06-2.06.94zm-11 1L8.5 8.5l.94-2.06 2.06-.94-2.06-.94L8.5 2.5l-.94 2.06-2.06.94zm10 10l.94 2.06.94-2.06 2.06-.94-2.06-.94-.94-2.06-.94 2.06-2.06.94z\"/><path d=\"M17.41 7.96l-1.37-1.37c-.4-.4-.92-.59-1.43-.59-.52 0-1.04.2-1.43.59L10.3 9.45l-7.72 7.72c-.78.78-.78 2.05 0 2.83L4 21.41c.39.39.9.59 1.41.59.51 0 1.02-.2 1.41-.59l7.78-7.78 2.81-2.81c.8-.78.8-2.07 0-2.86zM5.41 20L4 18.59l7.72-7.72 1.47 1.35L5.41 20z\"/>\n",
              "  </svg>\n",
              "      </button>\n",
              "      \n",
              "  <style>\n",
              "    .colab-df-container {\n",
              "      display:flex;\n",
              "      flex-wrap:wrap;\n",
              "      gap: 12px;\n",
              "    }\n",
              "\n",
              "    .colab-df-convert {\n",
              "      background-color: #E8F0FE;\n",
              "      border: none;\n",
              "      border-radius: 50%;\n",
              "      cursor: pointer;\n",
              "      display: none;\n",
              "      fill: #1967D2;\n",
              "      height: 32px;\n",
              "      padding: 0 0 0 0;\n",
              "      width: 32px;\n",
              "    }\n",
              "\n",
              "    .colab-df-convert:hover {\n",
              "      background-color: #E2EBFA;\n",
              "      box-shadow: 0px 1px 2px rgba(60, 64, 67, 0.3), 0px 1px 3px 1px rgba(60, 64, 67, 0.15);\n",
              "      fill: #174EA6;\n",
              "    }\n",
              "\n",
              "    [theme=dark] .colab-df-convert {\n",
              "      background-color: #3B4455;\n",
              "      fill: #D2E3FC;\n",
              "    }\n",
              "\n",
              "    [theme=dark] .colab-df-convert:hover {\n",
              "      background-color: #434B5C;\n",
              "      box-shadow: 0px 1px 3px 1px rgba(0, 0, 0, 0.15);\n",
              "      filter: drop-shadow(0px 1px 2px rgba(0, 0, 0, 0.3));\n",
              "      fill: #FFFFFF;\n",
              "    }\n",
              "  </style>\n",
              "\n",
              "      <script>\n",
              "        const buttonEl =\n",
              "          document.querySelector('#df-95079ec0-c36d-4112-8e0f-71eb67b6e328 button.colab-df-convert');\n",
              "        buttonEl.style.display =\n",
              "          google.colab.kernel.accessAllowed ? 'block' : 'none';\n",
              "\n",
              "        async function convertToInteractive(key) {\n",
              "          const element = document.querySelector('#df-95079ec0-c36d-4112-8e0f-71eb67b6e328');\n",
              "          const dataTable =\n",
              "            await google.colab.kernel.invokeFunction('convertToInteractive',\n",
              "                                                     [key], {});\n",
              "          if (!dataTable) return;\n",
              "\n",
              "          const docLinkHtml = 'Like what you see? Visit the ' +\n",
              "            '<a target=\"_blank\" href=https://colab.research.google.com/notebooks/data_table.ipynb>data table notebook</a>'\n",
              "            + ' to learn more about interactive tables.';\n",
              "          element.innerHTML = '';\n",
              "          dataTable['output_type'] = 'display_data';\n",
              "          await google.colab.output.renderOutput(dataTable, element);\n",
              "          const docLink = document.createElement('div');\n",
              "          docLink.innerHTML = docLinkHtml;\n",
              "          element.appendChild(docLink);\n",
              "        }\n",
              "      </script>\n",
              "    </div>\n",
              "  </div>\n",
              "  "
            ],
            "text/plain": [
              "              term  grade  ... earliest_cr_line initial_list_status\n",
              "count        86138  86138  ...            86138               86138\n",
              "unique           2      7  ...              598                   2\n",
              "top      36 months      C  ...         Aug-2001                   w\n",
              "freq         67507  23242  ...              744               43882\n",
              "\n",
              "[4 rows x 10 columns]"
            ]
          },
          "metadata": {},
          "execution_count": 135
        }
      ]
    },
    {
      "cell_type": "markdown",
      "metadata": {
        "id": "_zLSXlu8Nkm1"
      },
      "source": [
        "+ `grade` y `sub_grade`son muy parecidas. Intuitivamente sabemos que subgrade contiene a grade, y que son variables muy importantes. Por lo anterior, lo conveniente seria analizar el poder explicativo de cada una y decidir. \n",
        "Ademas, dada la naturaleza de la variable incluso podrias convertirla en numerica sin perder mucho poder explicativo, siempre y cuando este bien construida de inicio."
      ]
    },
    {
      "cell_type": "code",
      "metadata": {
        "colab": {
          "base_uri": "https://localhost:8080/",
          "height": 185
        },
        "id": "KTBs4eKPTagv",
        "outputId": "b8c02b76-326b-47ae-a1ec-b250bbb6a766"
      },
      "source": [
        "dataset[['grade', 'sub_grade']].drop_duplicates().head(3)"
      ],
      "execution_count": 136,
      "outputs": [
        {
          "output_type": "execute_result",
          "data": {
            "text/html": [
              "\n",
              "  <div id=\"df-373e7039-9956-4af8-9a15-b152a7392602\">\n",
              "    <div class=\"colab-df-container\">\n",
              "      <div>\n",
              "<style scoped>\n",
              "    .dataframe tbody tr th:only-of-type {\n",
              "        vertical-align: middle;\n",
              "    }\n",
              "\n",
              "    .dataframe tbody tr th {\n",
              "        vertical-align: top;\n",
              "    }\n",
              "\n",
              "    .dataframe thead th {\n",
              "        text-align: right;\n",
              "    }\n",
              "</style>\n",
              "<table border=\"1\" class=\"dataframe\">\n",
              "  <thead>\n",
              "    <tr style=\"text-align: right;\">\n",
              "      <th></th>\n",
              "      <th>grade</th>\n",
              "      <th>sub_grade</th>\n",
              "    </tr>\n",
              "  </thead>\n",
              "  <tbody>\n",
              "    <tr>\n",
              "      <th>0</th>\n",
              "      <td>C</td>\n",
              "      <td>C1</td>\n",
              "    </tr>\n",
              "    <tr>\n",
              "      <th>1</th>\n",
              "      <td>A</td>\n",
              "      <td>A3</td>\n",
              "    </tr>\n",
              "    <tr>\n",
              "      <th>2</th>\n",
              "      <td>D</td>\n",
              "      <td>D1</td>\n",
              "    </tr>\n",
              "  </tbody>\n",
              "</table>\n",
              "</div>\n",
              "      <button class=\"colab-df-convert\" onclick=\"convertToInteractive('df-373e7039-9956-4af8-9a15-b152a7392602')\"\n",
              "              title=\"Convert this dataframe to an interactive table.\"\n",
              "              style=\"display:none;\">\n",
              "        \n",
              "  <svg xmlns=\"http://www.w3.org/2000/svg\" height=\"24px\"viewBox=\"0 0 24 24\"\n",
              "       width=\"24px\">\n",
              "    <path d=\"M0 0h24v24H0V0z\" fill=\"none\"/>\n",
              "    <path d=\"M18.56 5.44l.94 2.06.94-2.06 2.06-.94-2.06-.94-.94-2.06-.94 2.06-2.06.94zm-11 1L8.5 8.5l.94-2.06 2.06-.94-2.06-.94L8.5 2.5l-.94 2.06-2.06.94zm10 10l.94 2.06.94-2.06 2.06-.94-2.06-.94-.94-2.06-.94 2.06-2.06.94z\"/><path d=\"M17.41 7.96l-1.37-1.37c-.4-.4-.92-.59-1.43-.59-.52 0-1.04.2-1.43.59L10.3 9.45l-7.72 7.72c-.78.78-.78 2.05 0 2.83L4 21.41c.39.39.9.59 1.41.59.51 0 1.02-.2 1.41-.59l7.78-7.78 2.81-2.81c.8-.78.8-2.07 0-2.86zM5.41 20L4 18.59l7.72-7.72 1.47 1.35L5.41 20z\"/>\n",
              "  </svg>\n",
              "      </button>\n",
              "      \n",
              "  <style>\n",
              "    .colab-df-container {\n",
              "      display:flex;\n",
              "      flex-wrap:wrap;\n",
              "      gap: 12px;\n",
              "    }\n",
              "\n",
              "    .colab-df-convert {\n",
              "      background-color: #E8F0FE;\n",
              "      border: none;\n",
              "      border-radius: 50%;\n",
              "      cursor: pointer;\n",
              "      display: none;\n",
              "      fill: #1967D2;\n",
              "      height: 32px;\n",
              "      padding: 0 0 0 0;\n",
              "      width: 32px;\n",
              "    }\n",
              "\n",
              "    .colab-df-convert:hover {\n",
              "      background-color: #E2EBFA;\n",
              "      box-shadow: 0px 1px 2px rgba(60, 64, 67, 0.3), 0px 1px 3px 1px rgba(60, 64, 67, 0.15);\n",
              "      fill: #174EA6;\n",
              "    }\n",
              "\n",
              "    [theme=dark] .colab-df-convert {\n",
              "      background-color: #3B4455;\n",
              "      fill: #D2E3FC;\n",
              "    }\n",
              "\n",
              "    [theme=dark] .colab-df-convert:hover {\n",
              "      background-color: #434B5C;\n",
              "      box-shadow: 0px 1px 3px 1px rgba(0, 0, 0, 0.15);\n",
              "      filter: drop-shadow(0px 1px 2px rgba(0, 0, 0, 0.3));\n",
              "      fill: #FFFFFF;\n",
              "    }\n",
              "  </style>\n",
              "\n",
              "      <script>\n",
              "        const buttonEl =\n",
              "          document.querySelector('#df-373e7039-9956-4af8-9a15-b152a7392602 button.colab-df-convert');\n",
              "        buttonEl.style.display =\n",
              "          google.colab.kernel.accessAllowed ? 'block' : 'none';\n",
              "\n",
              "        async function convertToInteractive(key) {\n",
              "          const element = document.querySelector('#df-373e7039-9956-4af8-9a15-b152a7392602');\n",
              "          const dataTable =\n",
              "            await google.colab.kernel.invokeFunction('convertToInteractive',\n",
              "                                                     [key], {});\n",
              "          if (!dataTable) return;\n",
              "\n",
              "          const docLinkHtml = 'Like what you see? Visit the ' +\n",
              "            '<a target=\"_blank\" href=https://colab.research.google.com/notebooks/data_table.ipynb>data table notebook</a>'\n",
              "            + ' to learn more about interactive tables.';\n",
              "          element.innerHTML = '';\n",
              "          dataTable['output_type'] = 'display_data';\n",
              "          await google.colab.output.renderOutput(dataTable, element);\n",
              "          const docLink = document.createElement('div');\n",
              "          docLink.innerHTML = docLinkHtml;\n",
              "          element.appendChild(docLink);\n",
              "        }\n",
              "      </script>\n",
              "    </div>\n",
              "  </div>\n",
              "  "
            ],
            "text/plain": [
              "  grade sub_grade\n",
              "0     C        C1\n",
              "1     A        A3\n",
              "2     D        D1"
            ]
          },
          "metadata": {},
          "execution_count": 136
        }
      ]
    },
    {
      "cell_type": "markdown",
      "metadata": {
        "id": "B_Vcu64ITDGj"
      },
      "source": [
        "+ Intuitivamente `emp_length` parece una variable categorica importante, y facil de convertir a valor numerico sin perder poder explicativo. "
      ]
    },
    {
      "cell_type": "code",
      "metadata": {
        "colab": {
          "base_uri": "https://localhost:8080/"
        },
        "id": "A0-GehmwT4Ng",
        "outputId": "f4f6846d-164b-43c1-a4db-857d59dbd351"
      },
      "source": [
        "dataset['emp_length'].unique()"
      ],
      "execution_count": 137,
      "outputs": [
        {
          "output_type": "execute_result",
          "data": {
            "text/plain": [
              "array(['10+ years', '8 years', '6 years', '< 1 year', '2 years',\n",
              "       '9 years', '7 years', '3 years', '1 year', nan, '4 years',\n",
              "       '5 years'], dtype=object)"
            ]
          },
          "metadata": {},
          "execution_count": 137
        }
      ]
    },
    {
      "cell_type": "markdown",
      "metadata": {
        "id": "lLYW8W_UUoAl"
      },
      "source": [
        "+ `home_ownership` y `verification_status` parecen ser buenas variables de inicio, y no tienen tantos valores unicos. Son aptas para hacer one-hot encoding."
      ]
    },
    {
      "cell_type": "code",
      "metadata": {
        "colab": {
          "base_uri": "https://localhost:8080/"
        },
        "id": "qb1W04o_U5Ci",
        "outputId": "b067b3c5-590d-4f86-eebd-a4f3746a6c9a"
      },
      "source": [
        "dataset['home_ownership'].unique()"
      ],
      "execution_count": 138,
      "outputs": [
        {
          "output_type": "execute_result",
          "data": {
            "text/plain": [
              "array(['RENT', 'MORTGAGE', 'OWN', 'ANY'], dtype=object)"
            ]
          },
          "metadata": {},
          "execution_count": 138
        }
      ]
    },
    {
      "cell_type": "code",
      "metadata": {
        "colab": {
          "base_uri": "https://localhost:8080/"
        },
        "id": "VszC80ZYU9zF",
        "outputId": "27f1bf03-4696-45ec-95d1-db833c55879d"
      },
      "source": [
        "dataset['verification_status'].unique()"
      ],
      "execution_count": 139,
      "outputs": [
        {
          "output_type": "execute_result",
          "data": {
            "text/plain": [
              "array(['Source Verified', 'Not Verified', 'Verified'], dtype=object)"
            ]
          },
          "metadata": {},
          "execution_count": 139
        }
      ]
    },
    {
      "cell_type": "markdown",
      "metadata": {
        "id": "Vw3bXTZWZlOM"
      },
      "source": [
        "+ `initial_list_status` no esta claro que significa, sin embargo no hay evidencia para eliminarla, por ahora. Pero, debemos de estar seguros que conoceremos el valor de esta variable antes de incluirla, pues seria inservible y arruinaria nuestro modelo."
      ]
    },
    {
      "cell_type": "code",
      "metadata": {
        "colab": {
          "base_uri": "https://localhost:8080/"
        },
        "id": "91Nz6AZgYn0y",
        "outputId": "8afcc774-1828-423b-c7f6-a6d1fefab84a"
      },
      "source": [
        "datos_dict[datos_dict['feature'] == 'initial_list_status'].values"
      ],
      "execution_count": 140,
      "outputs": [
        {
          "output_type": "execute_result",
          "data": {
            "text/plain": [
              "array([['initial_list_status',\n",
              "        'The initial listing status of the loan. Possible values are – W, F']],\n",
              "      dtype=object)"
            ]
          },
          "metadata": {},
          "execution_count": 140
        }
      ]
    },
    {
      "cell_type": "code",
      "metadata": {
        "colab": {
          "base_uri": "https://localhost:8080/"
        },
        "id": "UhSpr2KzVhid",
        "outputId": "5f0b3073-3340-4de2-8726-7b6fe8b489f2"
      },
      "source": [
        "dataset['initial_list_status'].unique()"
      ],
      "execution_count": 141,
      "outputs": [
        {
          "output_type": "execute_result",
          "data": {
            "text/plain": [
              "array(['w', 'f'], dtype=object)"
            ]
          },
          "metadata": {},
          "execution_count": 141
        }
      ]
    },
    {
      "cell_type": "markdown",
      "metadata": {
        "id": "T3mCaCDwa4NW"
      },
      "source": [
        "+ `earliest_cr_line` es otra variable que podemos convertir en numerica o simplificarla sin perder mucho poder predictivo."
      ]
    },
    {
      "cell_type": "code",
      "metadata": {
        "colab": {
          "base_uri": "https://localhost:8080/"
        },
        "id": "SCG2gbxNbCn3",
        "outputId": "06c41cd0-9ae3-4107-85f2-8864e9037db4"
      },
      "source": [
        "dataset['earliest_cr_line'].unique()"
      ],
      "execution_count": 142,
      "outputs": [
        {
          "output_type": "execute_result",
          "data": {
            "text/plain": [
              "array(['Aug-1994', 'Sep-1989', 'Aug-2003', 'Aug-2002', 'Nov-1992',\n",
              "       'Oct-2001', 'Nov-2003', 'Oct-1998', 'May-2009', 'Jul-2003',\n",
              "       'Jan-1999', 'Jan-2001', 'Jul-1989', 'Sep-1996', 'Jun-1995',\n",
              "       'Dec-1993', 'Feb-2010', 'Jan-2002', 'Jun-2001', 'Nov-1998',\n",
              "       'Apr-2007', 'Mar-2003', 'Mar-2002', 'Jul-2001', 'Oct-2000',\n",
              "       'Jan-2003', 'Jul-2007', 'Sep-1981', 'Mar-1992', 'Mar-2011',\n",
              "       'Jul-2002', 'Mar-1995', 'Jan-1981', 'Mar-1999', 'Aug-2008',\n",
              "       'May-2007', 'Aug-2006', 'Jun-1996', 'Jun-2004', 'Aug-1989',\n",
              "       'Feb-1997', 'Oct-2010', 'Mar-1982', 'Oct-1993', 'Aug-2004',\n",
              "       'Aug-1996', 'Apr-1987', 'Dec-1988', 'Mar-2004', 'Feb-1994',\n",
              "       'Jul-1996', 'Apr-1993', 'Mar-2000', 'May-2004', 'Apr-2003',\n",
              "       'May-1993', 'Jul-2005', 'Sep-1987', 'Sep-2001', 'Nov-1989',\n",
              "       'Dec-2009', 'Oct-1991', 'Oct-1970', 'Nov-1988', 'Dec-2001',\n",
              "       'Dec-1999', 'Dec-2006', 'Sep-1985', 'Dec-2000', 'Aug-2010',\n",
              "       'Jun-2009', 'Oct-2005', 'Oct-1989', 'Dec-1986', 'Apr-1973',\n",
              "       'Feb-2002', 'Sep-2007', 'Apr-2006', 'Feb-2004', 'May-2008',\n",
              "       'Nov-1991', 'Mar-2001', 'Dec-1996', 'Jun-2000', 'Sep-2003',\n",
              "       'Feb-1982', 'Feb-2001', 'Dec-1997', 'Mar-2010', 'Aug-2000',\n",
              "       'Mar-2006', 'Aug-1999', 'Aug-2001', 'May-1999', 'Oct-2006',\n",
              "       'Jul-2000', 'Apr-1976', 'Mar-2008', 'Feb-1998', 'Aug-2009',\n",
              "       'Nov-1996', 'May-1983', 'May-1998', 'Apr-2001', 'Oct-2002',\n",
              "       'Apr-1994', 'Sep-1998', 'Feb-1996', 'Aug-1992', 'Jul-2006',\n",
              "       'Sep-1995', 'Jun-1986', 'Sep-2000', 'May-2003', 'Feb-1995',\n",
              "       'May-2006', 'Aug-1993', 'Feb-2005', 'Sep-1992', 'Sep-1984',\n",
              "       'Jan-1988', 'Sep-2006', 'Dec-2007', 'Dec-1998', 'Feb-1991',\n",
              "       'Nov-1994', 'Apr-1996', 'Dec-1992', 'Aug-2007', 'Jan-1998',\n",
              "       'Oct-1985', 'Jun-2010', 'Nov-1976', 'Jan-2006', 'Dec-1990',\n",
              "       'Dec-2003', 'Dec-2005', 'Jul-2008', 'Jul-1999', 'Oct-1999',\n",
              "       'Apr-1998', 'Jun-1993', 'Nov-1997', 'Dec-1989', 'May-2002',\n",
              "       'May-1992', 'Apr-2009', 'Dec-2010', 'Nov-2002', 'Aug-2005',\n",
              "       'Mar-2007', 'Jan-2000', 'Jun-1997', 'Oct-1996', 'Sep-1997',\n",
              "       'Jul-2010', 'Apr-1999', 'Jun-1994', 'Nov-1993', 'Jun-2011',\n",
              "       'Sep-1983', 'Sep-1993', 'Sep-1991', 'Jan-1997', 'Nov-2006',\n",
              "       'Oct-2003', 'Sep-2010', 'Jun-1974', 'Jan-1985', 'Jul-1988',\n",
              "       'Jul-1997', 'Oct-2004', 'May-1997', 'Aug-1991', 'Jun-1992',\n",
              "       'Sep-2002', 'Oct-1981', 'Sep-2004', 'Aug-1997', 'Feb-1977',\n",
              "       'Feb-2007', 'May-1991', 'Sep-2009', 'May-1978', 'Sep-1986',\n",
              "       'Jun-1990', 'Jan-1991', 'Dec-2004', 'Oct-1995', 'Oct-2011',\n",
              "       'Jan-1993', 'Jul-2004', 'May-2005', 'Aug-1988', 'May-2000',\n",
              "       'Sep-2005', 'Dec-1980', 'Nov-2000', 'Nov-1987', 'May-2001',\n",
              "       'Feb-2000', 'Sep-1990', 'Jun-2006', 'Jun-2005', 'May-1988',\n",
              "       'Oct-1997', 'Nov-1995', 'Apr-2002', 'Jul-1995', 'May-1996',\n",
              "       'Mar-1979', 'Jul-1994', 'Feb-2003', 'May-1977', 'Apr-1985',\n",
              "       'Nov-2001', 'Jan-1984', 'Feb-1999', 'Aug-1982', 'Jan-2007',\n",
              "       'Dec-1994', 'Jan-2005', 'Jun-1985', 'Aug-1990', 'Sep-1982',\n",
              "       'Sep-1994', 'Apr-2004', 'Nov-1985', 'Apr-2000', 'Sep-2011',\n",
              "       'Feb-1969', 'Aug-1995', 'May-1990', 'Sep-1999', 'Jul-1992',\n",
              "       'Oct-1992', 'Mar-1993', 'Mar-1998', 'Apr-1983', 'Jan-1990',\n",
              "       'Jan-1978', 'Jun-2002', 'May-1986', 'Mar-1997', 'Sep-1976',\n",
              "       'Nov-2004', 'Feb-1993', 'Apr-1997', 'Apr-1995', 'Apr-1977',\n",
              "       'Jan-1994', 'Feb-1987', 'Dec-2002', 'Apr-2010', 'Jul-1998',\n",
              "       'Aug-1998', 'Mar-1984', 'Jan-1974', 'Mar-1988', 'Feb-1979',\n",
              "       'Jan-2004', 'Jun-2003', 'Nov-1986', 'Nov-1999', 'Feb-1978',\n",
              "       'Mar-1986', 'Jul-2011', 'Mar-1996', 'Feb-2006', 'Dec-1985',\n",
              "       'Dec-1976', 'Jul-1984', 'Nov-2005', 'Jul-1982', 'Nov-2009',\n",
              "       'Jul-1981', 'Oct-1986', 'May-1979', 'Nov-2010', 'Feb-1992',\n",
              "       'Sep-2008', 'Apr-2008', 'Jan-1986', 'Jan-2008', 'Mar-1971',\n",
              "       'Mar-1989', 'Oct-2007', 'Nov-1982', 'Nov-1983', 'Nov-2007',\n",
              "       'Aug-1973', 'Jul-1979', 'Oct-1988', 'Jun-1984', 'Apr-1988',\n",
              "       'Jan-1995', 'Mar-1994', 'Nov-1980', 'Oct-1987', 'Feb-1989',\n",
              "       'Apr-1991', 'Jun-1999', 'Oct-1967', 'Aug-1984', 'Oct-1990',\n",
              "       'Jan-2010', 'Apr-1990', 'Nov-1969', 'Feb-1983', 'Feb-1980',\n",
              "       'Aug-1978', 'Jun-1988', 'Jul-1993', 'Mar-2005', 'Nov-1990',\n",
              "       'Apr-2005', 'Jul-1985', 'Feb-1990', 'Feb-1972', 'Oct-2009',\n",
              "       'Jun-1987', 'Jul-2009', 'Dec-1995', 'May-1994', 'Dec-1983',\n",
              "       'Sep-1974', 'Jan-1983', 'Jun-1998', 'Jul-1986', 'Jan-1979',\n",
              "       'Oct-1984', 'Nov-1984', 'Apr-1989', 'May-2010', 'Apr-1969',\n",
              "       'Feb-1985', 'Dec-1975', 'Jun-1979', 'Oct-1994', 'Sep-1980',\n",
              "       'Sep-1988', 'Sep-1973', 'Jul-1991', 'Jan-1992', 'May-2011',\n",
              "       'Feb-1968', 'Mar-1990', 'Aug-1986', 'May-1984', 'Aug-1985',\n",
              "       'Apr-1984', 'Mar-1978', 'Apr-1979', 'May-1995', 'Mar-1976',\n",
              "       'Mar-1977', 'Feb-2008', 'Feb-1988', 'Aug-1981', 'Mar-1991',\n",
              "       'Aug-1962', 'Oct-2008', 'Jun-2007', 'Dec-1979', 'Jan-2011',\n",
              "       'Jul-1975', 'Oct-1976', 'Jun-1991', 'Nov-1978', 'Jun-1980',\n",
              "       'May-1972', 'May-1989', 'Apr-1981', 'Dec-1982', 'Feb-2011',\n",
              "       'Jan-1982', 'Oct-1978', 'Feb-1986', 'Jan-1996', 'Nov-2008',\n",
              "       'Jan-1980', 'Oct-1980', 'Dec-1977', 'Mar-1987', 'Jul-1990',\n",
              "       'Jul-1983', 'Jan-1965', 'Feb-1984', 'Jul-1973', 'Apr-1986',\n",
              "       'Jan-1972', 'Mar-1968', 'Sep-1979', 'Mar-2009', 'Jun-1983',\n",
              "       'May-1982', 'Mar-1967', 'Mar-1983', 'Apr-1974', 'Jul-1987',\n",
              "       'Apr-2011', 'Nov-1981', 'Dec-1978', 'Jan-1987', 'Dec-2008',\n",
              "       'Apr-1982', 'Apr-1992', 'Mar-1972', 'Jan-2009', 'Dec-1991',\n",
              "       'Oct-1982', 'Jan-1966', 'Mar-1985', 'Aug-1971', 'Jan-1968',\n",
              "       'Oct-1983', 'Dec-1987', 'May-1975', 'Jul-1977', 'Jun-1989',\n",
              "       'Mar-1974', 'Aug-2011', 'Mar-1980', 'Jan-1989', 'Jun-1967',\n",
              "       'Aug-1983', 'Jun-2008', 'Dec-1984', 'Jan-1963', 'Aug-1987',\n",
              "       'Jun-1973', 'Apr-1963', 'Oct-1977', 'Jun-1977', 'Aug-1976',\n",
              "       'Jan-1977', 'Apr-1971', 'Nov-1973', 'Sep-1977', 'Mar-1969',\n",
              "       'May-1987', 'Jul-1976', 'Sep-1972', 'Oct-1973', 'Feb-1975',\n",
              "       'Aug-1972', 'Nov-1979', 'Jan-1969', 'Mar-1965', 'Oct-1972',\n",
              "       'Aug-1977', 'Oct-1963', 'Jul-1966', 'Mar-1970', 'Jul-1980',\n",
              "       'Jun-1978', 'Aug-1979', 'Dec-1970', 'Feb-2009', 'Apr-1978',\n",
              "       'Jan-1964', 'Aug-1974', 'Jun-1965', 'May-1985', 'Nov-2011',\n",
              "       'Nov-1977', 'May-1976', 'Sep-1971', 'Nov-1974', 'Jun-1981',\n",
              "       'Jan-1976', 'Apr-1964', 'May-1968', 'Dec-1981', 'Dec-1958',\n",
              "       'Sep-1964', 'Dec-1967', 'Aug-1975', 'Mar-1981', 'Jan-1975',\n",
              "       'Jan-1970', 'Jul-1974', 'Feb-1981', 'May-1966', 'Apr-1980',\n",
              "       'May-1981', 'Apr-1975', 'Sep-1978', 'Oct-1979', 'Jul-1978',\n",
              "       'Aug-1965', 'May-1967', 'May-1980', 'Sep-1970', 'Jan-1971',\n",
              "       'Dec-1974', 'Aug-1980', 'Nov-1972', 'Nov-1971', 'Feb-1974',\n",
              "       'Jun-1964', 'May-1974', 'Nov-1975', 'Jun-1968', 'May-1973',\n",
              "       'Aug-1964', 'Nov-1966', 'May-1971', 'Jun-1982', 'Jun-1971',\n",
              "       'Jun-1976', 'Feb-1967', 'Jun-1969', 'Jan-1958', 'Jun-1975',\n",
              "       'Jul-1970', 'Sep-1975', 'Oct-1964', 'Sep-1967', 'Jul-1959',\n",
              "       'Mar-1973', 'Apr-1972', 'Jun-1972', 'Apr-1970', 'Jan-1967',\n",
              "       'Sep-1965', 'Mar-1975', 'Oct-1975', 'Oct-1974', 'May-1969',\n",
              "       'Mar-1966', 'Dec-1972', 'Feb-1976', 'Feb-1973', 'Oct-1966',\n",
              "       'Feb-1965', 'Jan-1973', 'Aug-1970', 'May-1964', 'Oct-1971',\n",
              "       'Feb-1970', 'Jul-1964', 'Jun-1966', 'Jan-1955', 'Jan-1962',\n",
              "       'Jan-1960', 'May-1959', 'Dec-1968', 'Jul-1972', 'Oct-1968',\n",
              "       'Sep-1966', 'Jan-1961', 'Dec-1969', 'Nov-1970', 'Aug-1963',\n",
              "       'Sep-1959', 'May-1970', 'Apr-1961', 'Dec-1971', 'Nov-1968',\n",
              "       'Sep-1968', 'Apr-1966', 'Jun-1958', 'Aug-1967', 'Apr-1965',\n",
              "       'Aug-1966', 'Feb-1966', 'Jun-1970', 'Aug-1960', 'Jul-1958',\n",
              "       'Feb-1971', 'Jul-1969', 'Sep-1969', 'Jul-1967', 'Oct-1969',\n",
              "       'Jul-1965', 'Dec-1965', 'Dec-1973', 'Jul-1971', 'Oct-1965',\n",
              "       'Nov-1965', 'Nov-1967', 'Jun-1960', 'Apr-1967', 'May-1963',\n",
              "       'Jun-1962', 'Aug-1961', 'May-1965', 'Jul-1968', 'Jul-1963',\n",
              "       'Aug-1969', 'Nov-1964', 'Apr-1968', 'Dec-1962', 'Dec-1966',\n",
              "       'Mar-1959', 'Nov-1954', 'Aug-1958'], dtype=object)"
            ]
          },
          "metadata": {},
          "execution_count": 142
        }
      ]
    },
    {
      "cell_type": "markdown",
      "metadata": {
        "id": "gB32FP3bbM5h"
      },
      "source": [
        "+ Por ultimo queda `addr_state` que si bien podria tener algo de poder explicativo, toma muchos valores. Es dificil convertirla en numerica o reducir su dimensionalidad. Sera para otra ocasion"
      ]
    },
    {
      "cell_type": "code",
      "metadata": {
        "id": "CB22cUn3bYZp"
      },
      "source": [
        "cat_eliminar = cat_eliminar + ['addr_state']"
      ],
      "execution_count": 143,
      "outputs": []
    },
    {
      "cell_type": "markdown",
      "metadata": {
        "id": "Aoa2LwgwcSd2"
      },
      "source": [
        "Ahora que hemos elegido las variables categoricas que posiblemnte nos sirvan, hay que analizarlas a detalle despues de transformarlas."
      ]
    },
    {
      "cell_type": "code",
      "metadata": {
        "colab": {
          "base_uri": "https://localhost:8080/",
          "height": 227
        },
        "id": "d1iCEAQBcQdb",
        "outputId": "3dd54e99-4949-4512-f88e-b33a671094c5"
      },
      "source": [
        "features_cat = [f for f in features_cat if f not in cat_eliminar]\n",
        "dataset[features_cat].describe()"
      ],
      "execution_count": 144,
      "outputs": [
        {
          "output_type": "execute_result",
          "data": {
            "text/html": [
              "\n",
              "  <div id=\"df-909d853f-cda4-4a84-b29b-e2997eb35c32\">\n",
              "    <div class=\"colab-df-container\">\n",
              "      <div>\n",
              "<style scoped>\n",
              "    .dataframe tbody tr th:only-of-type {\n",
              "        vertical-align: middle;\n",
              "    }\n",
              "\n",
              "    .dataframe tbody tr th {\n",
              "        vertical-align: top;\n",
              "    }\n",
              "\n",
              "    .dataframe thead th {\n",
              "        text-align: right;\n",
              "    }\n",
              "</style>\n",
              "<table border=\"1\" class=\"dataframe\">\n",
              "  <thead>\n",
              "    <tr style=\"text-align: right;\">\n",
              "      <th></th>\n",
              "      <th>term</th>\n",
              "      <th>grade</th>\n",
              "      <th>sub_grade</th>\n",
              "      <th>emp_length</th>\n",
              "      <th>home_ownership</th>\n",
              "      <th>verification_status</th>\n",
              "      <th>purpose</th>\n",
              "      <th>earliest_cr_line</th>\n",
              "      <th>initial_list_status</th>\n",
              "    </tr>\n",
              "  </thead>\n",
              "  <tbody>\n",
              "    <tr>\n",
              "      <th>count</th>\n",
              "      <td>86138</td>\n",
              "      <td>86138</td>\n",
              "      <td>86138</td>\n",
              "      <td>81421</td>\n",
              "      <td>86138</td>\n",
              "      <td>86138</td>\n",
              "      <td>86138</td>\n",
              "      <td>86138</td>\n",
              "      <td>86138</td>\n",
              "    </tr>\n",
              "    <tr>\n",
              "      <th>unique</th>\n",
              "      <td>2</td>\n",
              "      <td>7</td>\n",
              "      <td>35</td>\n",
              "      <td>11</td>\n",
              "      <td>4</td>\n",
              "      <td>3</td>\n",
              "      <td>13</td>\n",
              "      <td>598</td>\n",
              "      <td>2</td>\n",
              "    </tr>\n",
              "    <tr>\n",
              "      <th>top</th>\n",
              "      <td>36 months</td>\n",
              "      <td>C</td>\n",
              "      <td>C1</td>\n",
              "      <td>10+ years</td>\n",
              "      <td>MORTGAGE</td>\n",
              "      <td>Source Verified</td>\n",
              "      <td>debt_consolidation</td>\n",
              "      <td>Aug-2001</td>\n",
              "      <td>w</td>\n",
              "    </tr>\n",
              "    <tr>\n",
              "      <th>freq</th>\n",
              "      <td>67507</td>\n",
              "      <td>23242</td>\n",
              "      <td>5217</td>\n",
              "      <td>28177</td>\n",
              "      <td>41785</td>\n",
              "      <td>34041</td>\n",
              "      <td>52968</td>\n",
              "      <td>744</td>\n",
              "      <td>43882</td>\n",
              "    </tr>\n",
              "  </tbody>\n",
              "</table>\n",
              "</div>\n",
              "      <button class=\"colab-df-convert\" onclick=\"convertToInteractive('df-909d853f-cda4-4a84-b29b-e2997eb35c32')\"\n",
              "              title=\"Convert this dataframe to an interactive table.\"\n",
              "              style=\"display:none;\">\n",
              "        \n",
              "  <svg xmlns=\"http://www.w3.org/2000/svg\" height=\"24px\"viewBox=\"0 0 24 24\"\n",
              "       width=\"24px\">\n",
              "    <path d=\"M0 0h24v24H0V0z\" fill=\"none\"/>\n",
              "    <path d=\"M18.56 5.44l.94 2.06.94-2.06 2.06-.94-2.06-.94-.94-2.06-.94 2.06-2.06.94zm-11 1L8.5 8.5l.94-2.06 2.06-.94-2.06-.94L8.5 2.5l-.94 2.06-2.06.94zm10 10l.94 2.06.94-2.06 2.06-.94-2.06-.94-.94-2.06-.94 2.06-2.06.94z\"/><path d=\"M17.41 7.96l-1.37-1.37c-.4-.4-.92-.59-1.43-.59-.52 0-1.04.2-1.43.59L10.3 9.45l-7.72 7.72c-.78.78-.78 2.05 0 2.83L4 21.41c.39.39.9.59 1.41.59.51 0 1.02-.2 1.41-.59l7.78-7.78 2.81-2.81c.8-.78.8-2.07 0-2.86zM5.41 20L4 18.59l7.72-7.72 1.47 1.35L5.41 20z\"/>\n",
              "  </svg>\n",
              "      </button>\n",
              "      \n",
              "  <style>\n",
              "    .colab-df-container {\n",
              "      display:flex;\n",
              "      flex-wrap:wrap;\n",
              "      gap: 12px;\n",
              "    }\n",
              "\n",
              "    .colab-df-convert {\n",
              "      background-color: #E8F0FE;\n",
              "      border: none;\n",
              "      border-radius: 50%;\n",
              "      cursor: pointer;\n",
              "      display: none;\n",
              "      fill: #1967D2;\n",
              "      height: 32px;\n",
              "      padding: 0 0 0 0;\n",
              "      width: 32px;\n",
              "    }\n",
              "\n",
              "    .colab-df-convert:hover {\n",
              "      background-color: #E2EBFA;\n",
              "      box-shadow: 0px 1px 2px rgba(60, 64, 67, 0.3), 0px 1px 3px 1px rgba(60, 64, 67, 0.15);\n",
              "      fill: #174EA6;\n",
              "    }\n",
              "\n",
              "    [theme=dark] .colab-df-convert {\n",
              "      background-color: #3B4455;\n",
              "      fill: #D2E3FC;\n",
              "    }\n",
              "\n",
              "    [theme=dark] .colab-df-convert:hover {\n",
              "      background-color: #434B5C;\n",
              "      box-shadow: 0px 1px 3px 1px rgba(0, 0, 0, 0.15);\n",
              "      filter: drop-shadow(0px 1px 2px rgba(0, 0, 0, 0.3));\n",
              "      fill: #FFFFFF;\n",
              "    }\n",
              "  </style>\n",
              "\n",
              "      <script>\n",
              "        const buttonEl =\n",
              "          document.querySelector('#df-909d853f-cda4-4a84-b29b-e2997eb35c32 button.colab-df-convert');\n",
              "        buttonEl.style.display =\n",
              "          google.colab.kernel.accessAllowed ? 'block' : 'none';\n",
              "\n",
              "        async function convertToInteractive(key) {\n",
              "          const element = document.querySelector('#df-909d853f-cda4-4a84-b29b-e2997eb35c32');\n",
              "          const dataTable =\n",
              "            await google.colab.kernel.invokeFunction('convertToInteractive',\n",
              "                                                     [key], {});\n",
              "          if (!dataTable) return;\n",
              "\n",
              "          const docLinkHtml = 'Like what you see? Visit the ' +\n",
              "            '<a target=\"_blank\" href=https://colab.research.google.com/notebooks/data_table.ipynb>data table notebook</a>'\n",
              "            + ' to learn more about interactive tables.';\n",
              "          element.innerHTML = '';\n",
              "          dataTable['output_type'] = 'display_data';\n",
              "          await google.colab.output.renderOutput(dataTable, element);\n",
              "          const docLink = document.createElement('div');\n",
              "          docLink.innerHTML = docLinkHtml;\n",
              "          element.appendChild(docLink);\n",
              "        }\n",
              "      </script>\n",
              "    </div>\n",
              "  </div>\n",
              "  "
            ],
            "text/plain": [
              "              term  grade  ... earliest_cr_line initial_list_status\n",
              "count        86138  86138  ...            86138               86138\n",
              "unique           2      7  ...              598                   2\n",
              "top      36 months      C  ...         Aug-2001                   w\n",
              "freq         67507  23242  ...              744               43882\n",
              "\n",
              "[4 rows x 9 columns]"
            ]
          },
          "metadata": {},
          "execution_count": 144
        }
      ]
    },
    {
      "cell_type": "code",
      "metadata": {
        "colab": {
          "base_uri": "https://localhost:8080/"
        },
        "id": "9-D6uIKGLwnp",
        "outputId": "d00856c7-54cb-4faa-ec05-92e64c72b696"
      },
      "source": [
        "dataset.drop(cat_eliminar, axis=1, inplace=True)"
      ],
      "execution_count": 145,
      "outputs": [
        {
          "output_type": "stream",
          "name": "stderr",
          "text": [
            "/usr/local/lib/python3.7/dist-packages/pandas/core/frame.py:4174: SettingWithCopyWarning: \n",
            "A value is trying to be set on a copy of a slice from a DataFrame\n",
            "\n",
            "See the caveats in the documentation: https://pandas.pydata.org/pandas-docs/stable/user_guide/indexing.html#returning-a-view-versus-a-copy\n",
            "  errors=errors,\n"
          ]
        }
      ]
    },
    {
      "cell_type": "markdown",
      "metadata": {
        "id": "aGPlIwKqdFQT"
      },
      "source": [
        "#### Analisis de Variables Categoricas Seleccionadas"
      ]
    },
    {
      "cell_type": "code",
      "metadata": {
        "colab": {
          "base_uri": "https://localhost:8080/"
        },
        "id": "jvWgy8RsdLJD",
        "outputId": "4eb15db2-6330-4cf1-fa8b-760575ab739d"
      },
      "source": [
        "features_cat"
      ],
      "execution_count": 146,
      "outputs": [
        {
          "output_type": "execute_result",
          "data": {
            "text/plain": [
              "['term',\n",
              " 'grade',\n",
              " 'sub_grade',\n",
              " 'emp_length',\n",
              " 'home_ownership',\n",
              " 'verification_status',\n",
              " 'purpose',\n",
              " 'earliest_cr_line',\n",
              " 'initial_list_status']"
            ]
          },
          "metadata": {},
          "execution_count": 146
        }
      ]
    },
    {
      "cell_type": "markdown",
      "metadata": {
        "id": "1eXl7-FzhMIK"
      },
      "source": [
        "###### term"
      ]
    },
    {
      "cell_type": "markdown",
      "metadata": {
        "id": "UAw-NuuldUKu"
      },
      "source": [
        "**term**: \"The number of payments on the loan. Values are in months and can be either 36 or 60. The 60 Months loans are more likelely to charge off.\"\n",
        "+ Podemos convertirla a variable numerica sin problema."
      ]
    },
    {
      "cell_type": "code",
      "metadata": {
        "colab": {
          "base_uri": "https://localhost:8080/"
        },
        "id": "pxjziYTNeDqM",
        "outputId": "c2bacb47-cbd7-45a0-b3dd-7490642ea6f9"
      },
      "source": [
        "dataset['term'].unique()"
      ],
      "execution_count": 147,
      "outputs": [
        {
          "output_type": "execute_result",
          "data": {
            "text/plain": [
              "array([' 60 months', ' 36 months'], dtype=object)"
            ]
          },
          "metadata": {},
          "execution_count": 147
        }
      ]
    },
    {
      "cell_type": "code",
      "metadata": {
        "colab": {
          "base_uri": "https://localhost:8080/"
        },
        "id": "P06aaS2kd9xV",
        "outputId": "b547c377-f03c-433a-c97e-13e73f7111cf"
      },
      "source": [
        "dataset['term'] = dataset['term'].apply(lambda s: np.int8(s.split()[0]))"
      ],
      "execution_count": 148,
      "outputs": [
        {
          "output_type": "stream",
          "name": "stderr",
          "text": [
            "/usr/local/lib/python3.7/dist-packages/ipykernel_launcher.py:1: SettingWithCopyWarning: \n",
            "A value is trying to be set on a copy of a slice from a DataFrame.\n",
            "Try using .loc[row_indexer,col_indexer] = value instead\n",
            "\n",
            "See the caveats in the documentation: https://pandas.pydata.org/pandas-docs/stable/user_guide/indexing.html#returning-a-view-versus-a-copy\n",
            "  \"\"\"Entry point for launching an IPython kernel.\n"
          ]
        }
      ]
    },
    {
      "cell_type": "code",
      "metadata": {
        "colab": {
          "base_uri": "https://localhost:8080/"
        },
        "id": "vaxRj3FqenOV",
        "outputId": "aa2e6139-5ef4-4656-9796-479670b9aaad"
      },
      "source": [
        "dataset.groupby('term')['charged_off'].value_counts(normalize=True).loc[:,1]"
      ],
      "execution_count": 149,
      "outputs": [
        {
          "output_type": "execute_result",
          "data": {
            "text/plain": [
              "term\n",
              "36    0.141526\n",
              "60    0.354356\n",
              "Name: charged_off, dtype: float64"
            ]
          },
          "metadata": {},
          "execution_count": 149
        }
      ]
    },
    {
      "cell_type": "markdown",
      "metadata": {
        "id": "mCfVw1Oag1s9"
      },
      "source": [
        "Podemos observar que el default o `charge_off` es doblemente probable cuando el periodo de prestamo son 60 meses comparado con el de 30."
      ]
    },
    {
      "cell_type": "markdown",
      "metadata": {
        "id": "o0Cz9g4RhRbO"
      },
      "source": [
        "###### emp_length"
      ]
    },
    {
      "cell_type": "markdown",
      "metadata": {
        "id": "Cj44wXNIhXb2"
      },
      "source": [
        "**emp_length**: Es el tiempo que lleva en su ultimo empleo. Podemos convertirla a numerica."
      ]
    },
    {
      "cell_type": "code",
      "metadata": {
        "colab": {
          "base_uri": "https://localhost:8080/"
        },
        "id": "GU8PkQQHhjDO",
        "outputId": "fdbe6ae2-ece3-4bf3-8474-6f3ae84be32c"
      },
      "source": [
        "dataset['emp_length'].unique()"
      ],
      "execution_count": 150,
      "outputs": [
        {
          "output_type": "execute_result",
          "data": {
            "text/plain": [
              "array(['10+ years', '8 years', '6 years', '< 1 year', '2 years',\n",
              "       '9 years', '7 years', '3 years', '1 year', nan, '4 years',\n",
              "       '5 years'], dtype=object)"
            ]
          },
          "metadata": {},
          "execution_count": 150
        }
      ]
    },
    {
      "cell_type": "code",
      "metadata": {
        "id": "LsFJQj4shgZB"
      },
      "source": [
        "def emp_length_to_int(s):\n",
        "    '''Variable auxiliar de limpieza de emp_length '''\n",
        "    if pd.isnull(s):\n",
        "        return s\n",
        "    else:\n",
        "        return np.int8(s.split()[0])"
      ],
      "execution_count": 151,
      "outputs": []
    },
    {
      "cell_type": "code",
      "metadata": {
        "colab": {
          "base_uri": "https://localhost:8080/"
        },
        "id": "9qYnM8hvhbQj",
        "outputId": "b2e6762b-5421-4390-821f-220ae3a1ef34"
      },
      "source": [
        "dataset['emp_length'].replace(to_replace='10+ years', value='10 years', inplace=True)\n",
        "dataset['emp_length'].replace('< 1 year', '0 years', inplace=True)    \n",
        "dataset['emp_length'] = dataset['emp_length'].apply(emp_length_to_int)"
      ],
      "execution_count": 152,
      "outputs": [
        {
          "output_type": "stream",
          "name": "stderr",
          "text": [
            "/usr/local/lib/python3.7/dist-packages/pandas/core/series.py:4582: SettingWithCopyWarning: \n",
            "A value is trying to be set on a copy of a slice from a DataFrame\n",
            "\n",
            "See the caveats in the documentation: https://pandas.pydata.org/pandas-docs/stable/user_guide/indexing.html#returning-a-view-versus-a-copy\n",
            "  method=method,\n",
            "/usr/local/lib/python3.7/dist-packages/ipykernel_launcher.py:3: SettingWithCopyWarning: \n",
            "A value is trying to be set on a copy of a slice from a DataFrame.\n",
            "Try using .loc[row_indexer,col_indexer] = value instead\n",
            "\n",
            "See the caveats in the documentation: https://pandas.pydata.org/pandas-docs/stable/user_guide/indexing.html#returning-a-view-versus-a-copy\n",
            "  This is separate from the ipykernel package so we can avoid doing imports until\n"
          ]
        }
      ]
    },
    {
      "cell_type": "code",
      "metadata": {
        "colab": {
          "base_uri": "https://localhost:8080/"
        },
        "id": "75rY4ggKh-1Q",
        "outputId": "b47c5650-1cec-4c94-f0ec-cf825e231d05"
      },
      "source": [
        "charge_off_rates = dataset.groupby(\n",
        "    'emp_length')['charged_off'].value_counts(normalize=True).loc[:,1]\n",
        "charge_off_rates"
      ],
      "execution_count": 153,
      "outputs": [
        {
          "output_type": "execute_result",
          "data": {
            "text/plain": [
              "emp_length\n",
              "0.0     0.200567\n",
              "1.0     0.190259\n",
              "2.0     0.179634\n",
              "3.0     0.184257\n",
              "4.0     0.175262\n",
              "5.0     0.172605\n",
              "6.0     0.188642\n",
              "7.0     0.185727\n",
              "8.0     0.191016\n",
              "9.0     0.190933\n",
              "10.0    0.181921\n",
              "Name: charged_off, dtype: float64"
            ]
          },
          "metadata": {},
          "execution_count": 153
        }
      ]
    },
    {
      "cell_type": "code",
      "metadata": {
        "colab": {
          "base_uri": "https://localhost:8080/",
          "height": 143
        },
        "id": "SCSfu0nRiLAx",
        "outputId": "eb76c389-c2bf-4ab7-835c-3fd580ddea39"
      },
      "source": [
        "dataset[['emp_length','charged_off']].corr()"
      ],
      "execution_count": 154,
      "outputs": [
        {
          "output_type": "execute_result",
          "data": {
            "text/html": [
              "\n",
              "  <div id=\"df-32c01350-08b3-4b41-b475-07d368fe130a\">\n",
              "    <div class=\"colab-df-container\">\n",
              "      <div>\n",
              "<style scoped>\n",
              "    .dataframe tbody tr th:only-of-type {\n",
              "        vertical-align: middle;\n",
              "    }\n",
              "\n",
              "    .dataframe tbody tr th {\n",
              "        vertical-align: top;\n",
              "    }\n",
              "\n",
              "    .dataframe thead th {\n",
              "        text-align: right;\n",
              "    }\n",
              "</style>\n",
              "<table border=\"1\" class=\"dataframe\">\n",
              "  <thead>\n",
              "    <tr style=\"text-align: right;\">\n",
              "      <th></th>\n",
              "      <th>emp_length</th>\n",
              "      <th>charged_off</th>\n",
              "    </tr>\n",
              "  </thead>\n",
              "  <tbody>\n",
              "    <tr>\n",
              "      <th>emp_length</th>\n",
              "      <td>1.000000</td>\n",
              "      <td>-0.005975</td>\n",
              "    </tr>\n",
              "    <tr>\n",
              "      <th>charged_off</th>\n",
              "      <td>-0.005975</td>\n",
              "      <td>1.000000</td>\n",
              "    </tr>\n",
              "  </tbody>\n",
              "</table>\n",
              "</div>\n",
              "      <button class=\"colab-df-convert\" onclick=\"convertToInteractive('df-32c01350-08b3-4b41-b475-07d368fe130a')\"\n",
              "              title=\"Convert this dataframe to an interactive table.\"\n",
              "              style=\"display:none;\">\n",
              "        \n",
              "  <svg xmlns=\"http://www.w3.org/2000/svg\" height=\"24px\"viewBox=\"0 0 24 24\"\n",
              "       width=\"24px\">\n",
              "    <path d=\"M0 0h24v24H0V0z\" fill=\"none\"/>\n",
              "    <path d=\"M18.56 5.44l.94 2.06.94-2.06 2.06-.94-2.06-.94-.94-2.06-.94 2.06-2.06.94zm-11 1L8.5 8.5l.94-2.06 2.06-.94-2.06-.94L8.5 2.5l-.94 2.06-2.06.94zm10 10l.94 2.06.94-2.06 2.06-.94-2.06-.94-.94-2.06-.94 2.06-2.06.94z\"/><path d=\"M17.41 7.96l-1.37-1.37c-.4-.4-.92-.59-1.43-.59-.52 0-1.04.2-1.43.59L10.3 9.45l-7.72 7.72c-.78.78-.78 2.05 0 2.83L4 21.41c.39.39.9.59 1.41.59.51 0 1.02-.2 1.41-.59l7.78-7.78 2.81-2.81c.8-.78.8-2.07 0-2.86zM5.41 20L4 18.59l7.72-7.72 1.47 1.35L5.41 20z\"/>\n",
              "  </svg>\n",
              "      </button>\n",
              "      \n",
              "  <style>\n",
              "    .colab-df-container {\n",
              "      display:flex;\n",
              "      flex-wrap:wrap;\n",
              "      gap: 12px;\n",
              "    }\n",
              "\n",
              "    .colab-df-convert {\n",
              "      background-color: #E8F0FE;\n",
              "      border: none;\n",
              "      border-radius: 50%;\n",
              "      cursor: pointer;\n",
              "      display: none;\n",
              "      fill: #1967D2;\n",
              "      height: 32px;\n",
              "      padding: 0 0 0 0;\n",
              "      width: 32px;\n",
              "    }\n",
              "\n",
              "    .colab-df-convert:hover {\n",
              "      background-color: #E2EBFA;\n",
              "      box-shadow: 0px 1px 2px rgba(60, 64, 67, 0.3), 0px 1px 3px 1px rgba(60, 64, 67, 0.15);\n",
              "      fill: #174EA6;\n",
              "    }\n",
              "\n",
              "    [theme=dark] .colab-df-convert {\n",
              "      background-color: #3B4455;\n",
              "      fill: #D2E3FC;\n",
              "    }\n",
              "\n",
              "    [theme=dark] .colab-df-convert:hover {\n",
              "      background-color: #434B5C;\n",
              "      box-shadow: 0px 1px 3px 1px rgba(0, 0, 0, 0.15);\n",
              "      filter: drop-shadow(0px 1px 2px rgba(0, 0, 0, 0.3));\n",
              "      fill: #FFFFFF;\n",
              "    }\n",
              "  </style>\n",
              "\n",
              "      <script>\n",
              "        const buttonEl =\n",
              "          document.querySelector('#df-32c01350-08b3-4b41-b475-07d368fe130a button.colab-df-convert');\n",
              "        buttonEl.style.display =\n",
              "          google.colab.kernel.accessAllowed ? 'block' : 'none';\n",
              "\n",
              "        async function convertToInteractive(key) {\n",
              "          const element = document.querySelector('#df-32c01350-08b3-4b41-b475-07d368fe130a');\n",
              "          const dataTable =\n",
              "            await google.colab.kernel.invokeFunction('convertToInteractive',\n",
              "                                                     [key], {});\n",
              "          if (!dataTable) return;\n",
              "\n",
              "          const docLinkHtml = 'Like what you see? Visit the ' +\n",
              "            '<a target=\"_blank\" href=https://colab.research.google.com/notebooks/data_table.ipynb>data table notebook</a>'\n",
              "            + ' to learn more about interactive tables.';\n",
              "          element.innerHTML = '';\n",
              "          dataTable['output_type'] = 'display_data';\n",
              "          await google.colab.output.renderOutput(dataTable, element);\n",
              "          const docLink = document.createElement('div');\n",
              "          docLink.innerHTML = docLinkHtml;\n",
              "          element.appendChild(docLink);\n",
              "        }\n",
              "      </script>\n",
              "    </div>\n",
              "  </div>\n",
              "  "
            ],
            "text/plain": [
              "             emp_length  charged_off\n",
              "emp_length     1.000000    -0.005975\n",
              "charged_off   -0.005975     1.000000"
            ]
          },
          "metadata": {},
          "execution_count": 154
        }
      ]
    },
    {
      "cell_type": "markdown",
      "metadata": {
        "id": "ALbW1T3kiVv7"
      },
      "source": [
        "Podemos observar que esta variable no tiene mucho poder explicativo. La proporcion es parecida para cada valor, y parece no estar correlacionada con el target. En este caso los datos no soportan nuestra intuicion, hay que eliminarla."
      ]
    },
    {
      "cell_type": "code",
      "metadata": {
        "colab": {
          "base_uri": "https://localhost:8080/"
        },
        "id": "dN56JuJ_ipj6",
        "outputId": "80f7d6b6-47f7-4911-be59-35415e5ed3a2"
      },
      "source": [
        "dataset.drop(['emp_length'], axis=1, inplace=True)"
      ],
      "execution_count": 155,
      "outputs": [
        {
          "output_type": "stream",
          "name": "stderr",
          "text": [
            "/usr/local/lib/python3.7/dist-packages/pandas/core/frame.py:4174: SettingWithCopyWarning: \n",
            "A value is trying to be set on a copy of a slice from a DataFrame\n",
            "\n",
            "See the caveats in the documentation: https://pandas.pydata.org/pandas-docs/stable/user_guide/indexing.html#returning-a-view-versus-a-copy\n",
            "  errors=errors,\n"
          ]
        }
      ]
    },
    {
      "cell_type": "markdown",
      "metadata": {
        "id": "U2yHuEbaitJP"
      },
      "source": [
        "###### sub_grade"
      ]
    },
    {
      "cell_type": "code",
      "metadata": {
        "colab": {
          "base_uri": "https://localhost:8080/",
          "height": 362
        },
        "id": "kI3vBzCriwAv",
        "outputId": "6088b62e-38c8-4fe1-adbf-f71c3446ef63"
      },
      "source": [
        "charge_off_rates = dataset.groupby('sub_grade'\n",
        "            )['charged_off'].value_counts(normalize=True).loc[:,1]\n",
        "sns.set(rc={'figure.figsize':(12,5)})\n",
        "sns.barplot(x=charge_off_rates.index, y=charge_off_rates.values)"
      ],
      "execution_count": 156,
      "outputs": [
        {
          "output_type": "execute_result",
          "data": {
            "text/plain": [
              "<matplotlib.axes._subplots.AxesSubplot at 0x7fe33049fad0>"
            ]
          },
          "metadata": {},
          "execution_count": 156
        },
        {
          "output_type": "display_data",
          "data": {
            "image/png": "[encoded data removed]",
            "text/plain": [
              "<Figure size 864x360 with 1 Axes>"
            ]
          },
          "metadata": {}
        }
      ]
    },
    {
      "cell_type": "markdown",
      "metadata": {
        "id": "WFCURYLzi3uw"
      },
      "source": [
        "Podemos observar que la probabilidad de incurrir en `charge_off` aumenta conforme el `sub_grade` decrece. En este caso los datos favorecen nuestra intuicion."
      ]
    },
    {
      "cell_type": "markdown",
      "metadata": {
        "id": "1N5iK3jXnyGT"
      },
      "source": [
        "Dado que observamos un comportamiento monotono-decreciente que sigue cierta logica (mejor score menor probabilidad de fallo) podemos convertirla en variable numerica."
      ]
    },
    {
      "cell_type": "code",
      "metadata": {
        "colab": {
          "base_uri": "https://localhost:8080/"
        },
        "id": "TcDtL4NHoEOi",
        "outputId": "b3ee9150-c858-49d1-85d8-889db6627cc2"
      },
      "source": [
        "# Este es un encoder de labels no de Xs, sin embargo lo usaremos.\n",
        "from sklearn.preprocessing import LabelEncoder\n",
        "label_f = LabelEncoder()\n",
        "dataset['sub_grade'] = label_f.fit_transform(dataset['sub_grade'])"
      ],
      "execution_count": 157,
      "outputs": [
        {
          "output_type": "stream",
          "name": "stderr",
          "text": [
            "/usr/local/lib/python3.7/dist-packages/ipykernel_launcher.py:4: SettingWithCopyWarning: \n",
            "A value is trying to be set on a copy of a slice from a DataFrame.\n",
            "Try using .loc[row_indexer,col_indexer] = value instead\n",
            "\n",
            "See the caveats in the documentation: https://pandas.pydata.org/pandas-docs/stable/user_guide/indexing.html#returning-a-view-versus-a-copy\n",
            "  after removing the cwd from sys.path.\n"
          ]
        }
      ]
    },
    {
      "cell_type": "code",
      "metadata": {
        "colab": {
          "base_uri": "https://localhost:8080/",
          "height": 362
        },
        "id": "1RUhLbwApsbr",
        "outputId": "595c187a-231c-42cd-f70e-71e47b3485ed"
      },
      "source": [
        "charge_off_rates = dataset.groupby('sub_grade'\n",
        "            )['charged_off'].value_counts(normalize=True).loc[:,1]\n",
        "sns.set(rc={'figure.figsize':(12,5)})\n",
        "sns.barplot(x=charge_off_rates.index, y=charge_off_rates.values)"
      ],
      "execution_count": 158,
      "outputs": [
        {
          "output_type": "execute_result",
          "data": {
            "text/plain": [
              "<matplotlib.axes._subplots.AxesSubplot at 0x7fe323501510>"
            ]
          },
          "metadata": {},
          "execution_count": 158
        },
        {
          "output_type": "display_data",
          "data": {
            "image/png": "[encoded data removed]",
            "text/plain": [
              "<Figure size 864x360 with 1 Axes>"
            ]
          },
          "metadata": {}
        }
      ]
    },
    {
      "cell_type": "markdown",
      "metadata": {
        "id": "D4iUlE_cp6_n"
      },
      "source": [
        "Ahora podemos eliminar `grade`, pues logramos usar una variable mas granular."
      ]
    },
    {
      "cell_type": "code",
      "metadata": {
        "colab": {
          "base_uri": "https://localhost:8080/",
          "height": 143
        },
        "id": "RhQCGsB7qIBy",
        "outputId": "79b1615e-2173-4e1d-e576-d56b4269a2d4"
      },
      "source": [
        "dataset[['sub_grade', 'charged_off']].corr()"
      ],
      "execution_count": 159,
      "outputs": [
        {
          "output_type": "execute_result",
          "data": {
            "text/html": [
              "\n",
              "  <div id=\"df-1e8c02f3-2bd2-4bd5-bad9-bc75fe470e04\">\n",
              "    <div class=\"colab-df-container\">\n",
              "      <div>\n",
              "<style scoped>\n",
              "    .dataframe tbody tr th:only-of-type {\n",
              "        vertical-align: middle;\n",
              "    }\n",
              "\n",
              "    .dataframe tbody tr th {\n",
              "        vertical-align: top;\n",
              "    }\n",
              "\n",
              "    .dataframe thead th {\n",
              "        text-align: right;\n",
              "    }\n",
              "</style>\n",
              "<table border=\"1\" class=\"dataframe\">\n",
              "  <thead>\n",
              "    <tr style=\"text-align: right;\">\n",
              "      <th></th>\n",
              "      <th>sub_grade</th>\n",
              "      <th>charged_off</th>\n",
              "    </tr>\n",
              "  </thead>\n",
              "  <tbody>\n",
              "    <tr>\n",
              "      <th>sub_grade</th>\n",
              "      <td>1.000000</td>\n",
              "      <td>0.284397</td>\n",
              "    </tr>\n",
              "    <tr>\n",
              "      <th>charged_off</th>\n",
              "      <td>0.284397</td>\n",
              "      <td>1.000000</td>\n",
              "    </tr>\n",
              "  </tbody>\n",
              "</table>\n",
              "</div>\n",
              "      <button class=\"colab-df-convert\" onclick=\"convertToInteractive('df-1e8c02f3-2bd2-4bd5-bad9-bc75fe470e04')\"\n",
              "              title=\"Convert this dataframe to an interactive table.\"\n",
              "              style=\"display:none;\">\n",
              "        \n",
              "  <svg xmlns=\"http://www.w3.org/2000/svg\" height=\"24px\"viewBox=\"0 0 24 24\"\n",
              "       width=\"24px\">\n",
              "    <path d=\"M0 0h24v24H0V0z\" fill=\"none\"/>\n",
              "    <path d=\"M18.56 5.44l.94 2.06.94-2.06 2.06-.94-2.06-.94-.94-2.06-.94 2.06-2.06.94zm-11 1L8.5 8.5l.94-2.06 2.06-.94-2.06-.94L8.5 2.5l-.94 2.06-2.06.94zm10 10l.94 2.06.94-2.06 2.06-.94-2.06-.94-.94-2.06-.94 2.06-2.06.94z\"/><path d=\"M17.41 7.96l-1.37-1.37c-.4-.4-.92-.59-1.43-.59-.52 0-1.04.2-1.43.59L10.3 9.45l-7.72 7.72c-.78.78-.78 2.05 0 2.83L4 21.41c.39.39.9.59 1.41.59.51 0 1.02-.2 1.41-.59l7.78-7.78 2.81-2.81c.8-.78.8-2.07 0-2.86zM5.41 20L4 18.59l7.72-7.72 1.47 1.35L5.41 20z\"/>\n",
              "  </svg>\n",
              "      </button>\n",
              "      \n",
              "  <style>\n",
              "    .colab-df-container {\n",
              "      display:flex;\n",
              "      flex-wrap:wrap;\n",
              "      gap: 12px;\n",
              "    }\n",
              "\n",
              "    .colab-df-convert {\n",
              "      background-color: #E8F0FE;\n",
              "      border: none;\n",
              "      border-radius: 50%;\n",
              "      cursor: pointer;\n",
              "      display: none;\n",
              "      fill: #1967D2;\n",
              "      height: 32px;\n",
              "      padding: 0 0 0 0;\n",
              "      width: 32px;\n",
              "    }\n",
              "\n",
              "    .colab-df-convert:hover {\n",
              "      background-color: #E2EBFA;\n",
              "      box-shadow: 0px 1px 2px rgba(60, 64, 67, 0.3), 0px 1px 3px 1px rgba(60, 64, 67, 0.15);\n",
              "      fill: #174EA6;\n",
              "    }\n",
              "\n",
              "    [theme=dark] .colab-df-convert {\n",
              "      background-color: #3B4455;\n",
              "      fill: #D2E3FC;\n",
              "    }\n",
              "\n",
              "    [theme=dark] .colab-df-convert:hover {\n",
              "      background-color: #434B5C;\n",
              "      box-shadow: 0px 1px 3px 1px rgba(0, 0, 0, 0.15);\n",
              "      filter: drop-shadow(0px 1px 2px rgba(0, 0, 0, 0.3));\n",
              "      fill: #FFFFFF;\n",
              "    }\n",
              "  </style>\n",
              "\n",
              "      <script>\n",
              "        const buttonEl =\n",
              "          document.querySelector('#df-1e8c02f3-2bd2-4bd5-bad9-bc75fe470e04 button.colab-df-convert');\n",
              "        buttonEl.style.display =\n",
              "          google.colab.kernel.accessAllowed ? 'block' : 'none';\n",
              "\n",
              "        async function convertToInteractive(key) {\n",
              "          const element = document.querySelector('#df-1e8c02f3-2bd2-4bd5-bad9-bc75fe470e04');\n",
              "          const dataTable =\n",
              "            await google.colab.kernel.invokeFunction('convertToInteractive',\n",
              "                                                     [key], {});\n",
              "          if (!dataTable) return;\n",
              "\n",
              "          const docLinkHtml = 'Like what you see? Visit the ' +\n",
              "            '<a target=\"_blank\" href=https://colab.research.google.com/notebooks/data_table.ipynb>data table notebook</a>'\n",
              "            + ' to learn more about interactive tables.';\n",
              "          element.innerHTML = '';\n",
              "          dataTable['output_type'] = 'display_data';\n",
              "          await google.colab.output.renderOutput(dataTable, element);\n",
              "          const docLink = document.createElement('div');\n",
              "          docLink.innerHTML = docLinkHtml;\n",
              "          element.appendChild(docLink);\n",
              "        }\n",
              "      </script>\n",
              "    </div>\n",
              "  </div>\n",
              "  "
            ],
            "text/plain": [
              "             sub_grade  charged_off\n",
              "sub_grade     1.000000     0.284397\n",
              "charged_off   0.284397     1.000000"
            ]
          },
          "metadata": {},
          "execution_count": 159
        }
      ]
    },
    {
      "cell_type": "code",
      "metadata": {
        "colab": {
          "base_uri": "https://localhost:8080/"
        },
        "id": "_vzHep_PqCGj",
        "outputId": "f8ddf33d-2ae1-471d-fcb0-56f4479338af"
      },
      "source": [
        "dataset.drop(['grade'], axis=1, inplace=True)"
      ],
      "execution_count": 160,
      "outputs": [
        {
          "output_type": "stream",
          "name": "stderr",
          "text": [
            "/usr/local/lib/python3.7/dist-packages/pandas/core/frame.py:4174: SettingWithCopyWarning: \n",
            "A value is trying to be set on a copy of a slice from a DataFrame\n",
            "\n",
            "See the caveats in the documentation: https://pandas.pydata.org/pandas-docs/stable/user_guide/indexing.html#returning-a-view-versus-a-copy\n",
            "  errors=errors,\n"
          ]
        }
      ]
    },
    {
      "cell_type": "markdown",
      "metadata": {
        "id": "JBpW1ci3qxjU"
      },
      "source": [
        "###### home_ownership"
      ]
    },
    {
      "cell_type": "code",
      "metadata": {
        "colab": {
          "base_uri": "https://localhost:8080/"
        },
        "id": "porFMWvjq37u",
        "outputId": "a98e55d0-1b98-4be1-ee7f-e708a999747e"
      },
      "source": [
        "dataset['home_ownership'].unique()"
      ],
      "execution_count": 161,
      "outputs": [
        {
          "output_type": "execute_result",
          "data": {
            "text/plain": [
              "array(['RENT', 'MORTGAGE', 'OWN', 'ANY'], dtype=object)"
            ]
          },
          "metadata": {},
          "execution_count": 161
        }
      ]
    },
    {
      "cell_type": "code",
      "metadata": {
        "colab": {
          "base_uri": "https://localhost:8080/"
        },
        "id": "XEtpYioNrEhf",
        "outputId": "93c56774-3ee2-47e3-b46c-c6085443477a"
      },
      "source": [
        "charge_off_rates = dataset.groupby(\n",
        "    'home_ownership')['charged_off'].value_counts(normalize=True).loc[:,1]\n",
        "charge_off_rates"
      ],
      "execution_count": 162,
      "outputs": [
        {
          "output_type": "execute_result",
          "data": {
            "text/plain": [
              "home_ownership\n",
              "MORTGAGE    0.166040\n",
              "OWN         0.188597\n",
              "RENT        0.212734\n",
              "Name: charged_off, dtype: float64"
            ]
          },
          "metadata": {},
          "execution_count": 162
        }
      ]
    },
    {
      "cell_type": "code",
      "metadata": {
        "colab": {
          "base_uri": "https://localhost:8080/",
          "height": 165
        },
        "id": "THgu0YedrSf6",
        "outputId": "64dbe425-f6af-4c82-fff0-31b0ffc749ca"
      },
      "source": [
        "dataset[dataset['home_ownership']=='ANY']"
      ],
      "execution_count": 163,
      "outputs": [
        {
          "output_type": "execute_result",
          "data": {
            "text/html": [
              "\n",
              "  <div id=\"df-2943fc11-ddd8-409f-b7c2-a172426a5762\">\n",
              "    <div class=\"colab-df-container\">\n",
              "      <div>\n",
              "<style scoped>\n",
              "    .dataframe tbody tr th:only-of-type {\n",
              "        vertical-align: middle;\n",
              "    }\n",
              "\n",
              "    .dataframe tbody tr th {\n",
              "        vertical-align: top;\n",
              "    }\n",
              "\n",
              "    .dataframe thead th {\n",
              "        text-align: right;\n",
              "    }\n",
              "</style>\n",
              "<table border=\"1\" class=\"dataframe\">\n",
              "  <thead>\n",
              "    <tr style=\"text-align: right;\">\n",
              "      <th></th>\n",
              "      <th>loan_amnt</th>\n",
              "      <th>funded_amnt</th>\n",
              "      <th>term</th>\n",
              "      <th>int_rate</th>\n",
              "      <th>installment</th>\n",
              "      <th>sub_grade</th>\n",
              "      <th>home_ownership</th>\n",
              "      <th>annual_inc</th>\n",
              "      <th>verification_status</th>\n",
              "      <th>purpose</th>\n",
              "      <th>dti</th>\n",
              "      <th>earliest_cr_line</th>\n",
              "      <th>fico_range_low</th>\n",
              "      <th>fico_range_high</th>\n",
              "      <th>open_acc</th>\n",
              "      <th>revol_util</th>\n",
              "      <th>initial_list_status</th>\n",
              "      <th>last_pymnt_amnt</th>\n",
              "      <th>acc_open_past_24mths</th>\n",
              "      <th>avg_cur_bal</th>\n",
              "      <th>bc_open_to_buy</th>\n",
              "      <th>bc_util</th>\n",
              "      <th>mo_sin_old_rev_tl_op</th>\n",
              "      <th>mo_sin_rcnt_rev_tl_op</th>\n",
              "      <th>mort_acc</th>\n",
              "      <th>num_actv_rev_tl</th>\n",
              "      <th>charged_off</th>\n",
              "    </tr>\n",
              "  </thead>\n",
              "  <tbody>\n",
              "    <tr>\n",
              "      <th>80625</th>\n",
              "      <td>5000.0</td>\n",
              "      <td>5000.0</td>\n",
              "      <td>36</td>\n",
              "      <td>11.67</td>\n",
              "      <td>165.29</td>\n",
              "      <td>8</td>\n",
              "      <td>ANY</td>\n",
              "      <td>35680.0</td>\n",
              "      <td>Source Verified</td>\n",
              "      <td>debt_consolidation</td>\n",
              "      <td>28.12</td>\n",
              "      <td>Dec-2003</td>\n",
              "      <td>705.0</td>\n",
              "      <td>709.0</td>\n",
              "      <td>7.0</td>\n",
              "      <td>43.1</td>\n",
              "      <td>f</td>\n",
              "      <td>5048.63</td>\n",
              "      <td>5.0</td>\n",
              "      <td>18703.0</td>\n",
              "      <td>4381.0</td>\n",
              "      <td>43.1</td>\n",
              "      <td>92.0</td>\n",
              "      <td>3.0</td>\n",
              "      <td>1.0</td>\n",
              "      <td>3.0</td>\n",
              "      <td>0</td>\n",
              "    </tr>\n",
              "  </tbody>\n",
              "</table>\n",
              "</div>\n",
              "      <button class=\"colab-df-convert\" onclick=\"convertToInteractive('df-2943fc11-ddd8-409f-b7c2-a172426a5762')\"\n",
              "              title=\"Convert this dataframe to an interactive table.\"\n",
              "              style=\"display:none;\">\n",
              "        \n",
              "  <svg xmlns=\"http://www.w3.org/2000/svg\" height=\"24px\"viewBox=\"0 0 24 24\"\n",
              "       width=\"24px\">\n",
              "    <path d=\"M0 0h24v24H0V0z\" fill=\"none\"/>\n",
              "    <path d=\"M18.56 5.44l.94 2.06.94-2.06 2.06-.94-2.06-.94-.94-2.06-.94 2.06-2.06.94zm-11 1L8.5 8.5l.94-2.06 2.06-.94-2.06-.94L8.5 2.5l-.94 2.06-2.06.94zm10 10l.94 2.06.94-2.06 2.06-.94-2.06-.94-.94-2.06-.94 2.06-2.06.94z\"/><path d=\"M17.41 7.96l-1.37-1.37c-.4-.4-.92-.59-1.43-.59-.52 0-1.04.2-1.43.59L10.3 9.45l-7.72 7.72c-.78.78-.78 2.05 0 2.83L4 21.41c.39.39.9.59 1.41.59.51 0 1.02-.2 1.41-.59l7.78-7.78 2.81-2.81c.8-.78.8-2.07 0-2.86zM5.41 20L4 18.59l7.72-7.72 1.47 1.35L5.41 20z\"/>\n",
              "  </svg>\n",
              "      </button>\n",
              "      \n",
              "  <style>\n",
              "    .colab-df-container {\n",
              "      display:flex;\n",
              "      flex-wrap:wrap;\n",
              "      gap: 12px;\n",
              "    }\n",
              "\n",
              "    .colab-df-convert {\n",
              "      background-color: #E8F0FE;\n",
              "      border: none;\n",
              "      border-radius: 50%;\n",
              "      cursor: pointer;\n",
              "      display: none;\n",
              "      fill: #1967D2;\n",
              "      height: 32px;\n",
              "      padding: 0 0 0 0;\n",
              "      width: 32px;\n",
              "    }\n",
              "\n",
              "    .colab-df-convert:hover {\n",
              "      background-color: #E2EBFA;\n",
              "      box-shadow: 0px 1px 2px rgba(60, 64, 67, 0.3), 0px 1px 3px 1px rgba(60, 64, 67, 0.15);\n",
              "      fill: #174EA6;\n",
              "    }\n",
              "\n",
              "    [theme=dark] .colab-df-convert {\n",
              "      background-color: #3B4455;\n",
              "      fill: #D2E3FC;\n",
              "    }\n",
              "\n",
              "    [theme=dark] .colab-df-convert:hover {\n",
              "      background-color: #434B5C;\n",
              "      box-shadow: 0px 1px 3px 1px rgba(0, 0, 0, 0.15);\n",
              "      filter: drop-shadow(0px 1px 2px rgba(0, 0, 0, 0.3));\n",
              "      fill: #FFFFFF;\n",
              "    }\n",
              "  </style>\n",
              "\n",
              "      <script>\n",
              "        const buttonEl =\n",
              "          document.querySelector('#df-2943fc11-ddd8-409f-b7c2-a172426a5762 button.colab-df-convert');\n",
              "        buttonEl.style.display =\n",
              "          google.colab.kernel.accessAllowed ? 'block' : 'none';\n",
              "\n",
              "        async function convertToInteractive(key) {\n",
              "          const element = document.querySelector('#df-2943fc11-ddd8-409f-b7c2-a172426a5762');\n",
              "          const dataTable =\n",
              "            await google.colab.kernel.invokeFunction('convertToInteractive',\n",
              "                                                     [key], {});\n",
              "          if (!dataTable) return;\n",
              "\n",
              "          const docLinkHtml = 'Like what you see? Visit the ' +\n",
              "            '<a target=\"_blank\" href=https://colab.research.google.com/notebooks/data_table.ipynb>data table notebook</a>'\n",
              "            + ' to learn more about interactive tables.';\n",
              "          element.innerHTML = '';\n",
              "          dataTable['output_type'] = 'display_data';\n",
              "          await google.colab.output.renderOutput(dataTable, element);\n",
              "          const docLink = document.createElement('div');\n",
              "          docLink.innerHTML = docLinkHtml;\n",
              "          element.appendChild(docLink);\n",
              "        }\n",
              "      </script>\n",
              "    </div>\n",
              "  </div>\n",
              "  "
            ],
            "text/plain": [
              "       loan_amnt  funded_amnt  term  ...  mort_acc  num_actv_rev_tl  charged_off\n",
              "80625     5000.0       5000.0    36  ...       1.0              3.0            0\n",
              "\n",
              "[1 rows x 27 columns]"
            ]
          },
          "metadata": {},
          "execution_count": 163
        }
      ]
    },
    {
      "cell_type": "markdown",
      "metadata": {
        "id": "WX2aBB2rrX-q"
      },
      "source": [
        "Observamos como el valor `ANY` solo aprece una vez, es mejor eliminarlo."
      ]
    },
    {
      "cell_type": "code",
      "metadata": {
        "id": "ywNhAtsKrgLa"
      },
      "source": [
        "dataset = dataset[dataset['home_ownership']!='ANY']"
      ],
      "execution_count": 164,
      "outputs": []
    },
    {
      "cell_type": "code",
      "metadata": {
        "colab": {
          "base_uri": "https://localhost:8080/",
          "height": 185
        },
        "id": "-wuA4u4F2xAo",
        "outputId": "0693192f-4ec9-43af-b303-e7d4028a2d84"
      },
      "source": [
        "pd.get_dummies(dataset[['home_ownership', 'charged_off']], columns=['home_ownership'], \n",
        "               drop_first=True).corr()"
      ],
      "execution_count": 165,
      "outputs": [
        {
          "output_type": "execute_result",
          "data": {
            "text/html": [
              "\n",
              "  <div id=\"df-b898ba1f-5c1d-4dd6-9775-c4876a9d1de9\">\n",
              "    <div class=\"colab-df-container\">\n",
              "      <div>\n",
              "<style scoped>\n",
              "    .dataframe tbody tr th:only-of-type {\n",
              "        vertical-align: middle;\n",
              "    }\n",
              "\n",
              "    .dataframe tbody tr th {\n",
              "        vertical-align: top;\n",
              "    }\n",
              "\n",
              "    .dataframe thead th {\n",
              "        text-align: right;\n",
              "    }\n",
              "</style>\n",
              "<table border=\"1\" class=\"dataframe\">\n",
              "  <thead>\n",
              "    <tr style=\"text-align: right;\">\n",
              "      <th></th>\n",
              "      <th>charged_off</th>\n",
              "      <th>home_ownership_OWN</th>\n",
              "      <th>home_ownership_RENT</th>\n",
              "    </tr>\n",
              "  </thead>\n",
              "  <tbody>\n",
              "    <tr>\n",
              "      <th>charged_off</th>\n",
              "      <td>1.000000</td>\n",
              "      <td>0.000906</td>\n",
              "      <td>0.053804</td>\n",
              "    </tr>\n",
              "    <tr>\n",
              "      <th>home_ownership_OWN</th>\n",
              "      <td>0.000906</td>\n",
              "      <td>1.000000</td>\n",
              "      <td>-0.284968</td>\n",
              "    </tr>\n",
              "    <tr>\n",
              "      <th>home_ownership_RENT</th>\n",
              "      <td>0.053804</td>\n",
              "      <td>-0.284968</td>\n",
              "      <td>1.000000</td>\n",
              "    </tr>\n",
              "  </tbody>\n",
              "</table>\n",
              "</div>\n",
              "      <button class=\"colab-df-convert\" onclick=\"convertToInteractive('df-b898ba1f-5c1d-4dd6-9775-c4876a9d1de9')\"\n",
              "              title=\"Convert this dataframe to an interactive table.\"\n",
              "              style=\"display:none;\">\n",
              "        \n",
              "  <svg xmlns=\"http://www.w3.org/2000/svg\" height=\"24px\"viewBox=\"0 0 24 24\"\n",
              "       width=\"24px\">\n",
              "    <path d=\"M0 0h24v24H0V0z\" fill=\"none\"/>\n",
              "    <path d=\"M18.56 5.44l.94 2.06.94-2.06 2.06-.94-2.06-.94-.94-2.06-.94 2.06-2.06.94zm-11 1L8.5 8.5l.94-2.06 2.06-.94-2.06-.94L8.5 2.5l-.94 2.06-2.06.94zm10 10l.94 2.06.94-2.06 2.06-.94-2.06-.94-.94-2.06-.94 2.06-2.06.94z\"/><path d=\"M17.41 7.96l-1.37-1.37c-.4-.4-.92-.59-1.43-.59-.52 0-1.04.2-1.43.59L10.3 9.45l-7.72 7.72c-.78.78-.78 2.05 0 2.83L4 21.41c.39.39.9.59 1.41.59.51 0 1.02-.2 1.41-.59l7.78-7.78 2.81-2.81c.8-.78.8-2.07 0-2.86zM5.41 20L4 18.59l7.72-7.72 1.47 1.35L5.41 20z\"/>\n",
              "  </svg>\n",
              "      </button>\n",
              "      \n",
              "  <style>\n",
              "    .colab-df-container {\n",
              "      display:flex;\n",
              "      flex-wrap:wrap;\n",
              "      gap: 12px;\n",
              "    }\n",
              "\n",
              "    .colab-df-convert {\n",
              "      background-color: #E8F0FE;\n",
              "      border: none;\n",
              "      border-radius: 50%;\n",
              "      cursor: pointer;\n",
              "      display: none;\n",
              "      fill: #1967D2;\n",
              "      height: 32px;\n",
              "      padding: 0 0 0 0;\n",
              "      width: 32px;\n",
              "    }\n",
              "\n",
              "    .colab-df-convert:hover {\n",
              "      background-color: #E2EBFA;\n",
              "      box-shadow: 0px 1px 2px rgba(60, 64, 67, 0.3), 0px 1px 3px 1px rgba(60, 64, 67, 0.15);\n",
              "      fill: #174EA6;\n",
              "    }\n",
              "\n",
              "    [theme=dark] .colab-df-convert {\n",
              "      background-color: #3B4455;\n",
              "      fill: #D2E3FC;\n",
              "    }\n",
              "\n",
              "    [theme=dark] .colab-df-convert:hover {\n",
              "      background-color: #434B5C;\n",
              "      box-shadow: 0px 1px 3px 1px rgba(0, 0, 0, 0.15);\n",
              "      filter: drop-shadow(0px 1px 2px rgba(0, 0, 0, 0.3));\n",
              "      fill: #FFFFFF;\n",
              "    }\n",
              "  </style>\n",
              "\n",
              "      <script>\n",
              "        const buttonEl =\n",
              "          document.querySelector('#df-b898ba1f-5c1d-4dd6-9775-c4876a9d1de9 button.colab-df-convert');\n",
              "        buttonEl.style.display =\n",
              "          google.colab.kernel.accessAllowed ? 'block' : 'none';\n",
              "\n",
              "        async function convertToInteractive(key) {\n",
              "          const element = document.querySelector('#df-b898ba1f-5c1d-4dd6-9775-c4876a9d1de9');\n",
              "          const dataTable =\n",
              "            await google.colab.kernel.invokeFunction('convertToInteractive',\n",
              "                                                     [key], {});\n",
              "          if (!dataTable) return;\n",
              "\n",
              "          const docLinkHtml = 'Like what you see? Visit the ' +\n",
              "            '<a target=\"_blank\" href=https://colab.research.google.com/notebooks/data_table.ipynb>data table notebook</a>'\n",
              "            + ' to learn more about interactive tables.';\n",
              "          element.innerHTML = '';\n",
              "          dataTable['output_type'] = 'display_data';\n",
              "          await google.colab.output.renderOutput(dataTable, element);\n",
              "          const docLink = document.createElement('div');\n",
              "          docLink.innerHTML = docLinkHtml;\n",
              "          element.appendChild(docLink);\n",
              "        }\n",
              "      </script>\n",
              "    </div>\n",
              "  </div>\n",
              "  "
            ],
            "text/plain": [
              "                     charged_off  home_ownership_OWN  home_ownership_RENT\n",
              "charged_off             1.000000            0.000906             0.053804\n",
              "home_ownership_OWN      0.000906            1.000000            -0.284968\n",
              "home_ownership_RENT     0.053804           -0.284968             1.000000"
            ]
          },
          "metadata": {},
          "execution_count": 165
        }
      ]
    },
    {
      "cell_type": "markdown",
      "metadata": {
        "id": "84CcSYPv374O"
      },
      "source": [
        "Observemos como `home_ownership_OWN` tiene una correlacion muy baja con el objetivo. Para ser parsimoniosos podemos quitarlas."
      ]
    },
    {
      "cell_type": "code",
      "metadata": {
        "id": "9zQqlpUz4LUT"
      },
      "source": [
        "dataset = pd.get_dummies(dataset, columns=['home_ownership'], \n",
        "               drop_first=True)\n",
        "dataset.drop(['home_ownership_OWN'], axis=1, inplace=True)"
      ],
      "execution_count": 166,
      "outputs": []
    },
    {
      "cell_type": "markdown",
      "metadata": {
        "id": "HI9zmWnB4896"
      },
      "source": [
        "###### verification_status"
      ]
    },
    {
      "cell_type": "code",
      "metadata": {
        "colab": {
          "base_uri": "https://localhost:8080/",
          "height": 185
        },
        "id": "-T4kNnel4_AM",
        "outputId": "7a737687-62ab-46a9-8ff3-ac29b4a3db64"
      },
      "source": [
        "pd.get_dummies(dataset[['verification_status', 'charged_off']], columns=['verification_status'], \n",
        "               drop_first=True).corr()"
      ],
      "execution_count": 167,
      "outputs": [
        {
          "output_type": "execute_result",
          "data": {
            "text/html": [
              "\n",
              "  <div id=\"df-e90f4a17-a1ca-4659-a879-5a603dca250b\">\n",
              "    <div class=\"colab-df-container\">\n",
              "      <div>\n",
              "<style scoped>\n",
              "    .dataframe tbody tr th:only-of-type {\n",
              "        vertical-align: middle;\n",
              "    }\n",
              "\n",
              "    .dataframe tbody tr th {\n",
              "        vertical-align: top;\n",
              "    }\n",
              "\n",
              "    .dataframe thead th {\n",
              "        text-align: right;\n",
              "    }\n",
              "</style>\n",
              "<table border=\"1\" class=\"dataframe\">\n",
              "  <thead>\n",
              "    <tr style=\"text-align: right;\">\n",
              "      <th></th>\n",
              "      <th>charged_off</th>\n",
              "      <th>verification_status_Source Verified</th>\n",
              "      <th>verification_status_Verified</th>\n",
              "    </tr>\n",
              "  </thead>\n",
              "  <tbody>\n",
              "    <tr>\n",
              "      <th>charged_off</th>\n",
              "      <td>1.000000</td>\n",
              "      <td>0.046500</td>\n",
              "      <td>0.061649</td>\n",
              "    </tr>\n",
              "    <tr>\n",
              "      <th>verification_status_Source Verified</th>\n",
              "      <td>0.046500</td>\n",
              "      <td>1.000000</td>\n",
              "      <td>-0.494319</td>\n",
              "    </tr>\n",
              "    <tr>\n",
              "      <th>verification_status_Verified</th>\n",
              "      <td>0.061649</td>\n",
              "      <td>-0.494319</td>\n",
              "      <td>1.000000</td>\n",
              "    </tr>\n",
              "  </tbody>\n",
              "</table>\n",
              "</div>\n",
              "      <button class=\"colab-df-convert\" onclick=\"convertToInteractive('df-e90f4a17-a1ca-4659-a879-5a603dca250b')\"\n",
              "              title=\"Convert this dataframe to an interactive table.\"\n",
              "              style=\"display:none;\">\n",
              "        \n",
              "  <svg xmlns=\"http://www.w3.org/2000/svg\" height=\"24px\"viewBox=\"0 0 24 24\"\n",
              "       width=\"24px\">\n",
              "    <path d=\"M0 0h24v24H0V0z\" fill=\"none\"/>\n",
              "    <path d=\"M18.56 5.44l.94 2.06.94-2.06 2.06-.94-2.06-.94-.94-2.06-.94 2.06-2.06.94zm-11 1L8.5 8.5l.94-2.06 2.06-.94-2.06-.94L8.5 2.5l-.94 2.06-2.06.94zm10 10l.94 2.06.94-2.06 2.06-.94-2.06-.94-.94-2.06-.94 2.06-2.06.94z\"/><path d=\"M17.41 7.96l-1.37-1.37c-.4-.4-.92-.59-1.43-.59-.52 0-1.04.2-1.43.59L10.3 9.45l-7.72 7.72c-.78.78-.78 2.05 0 2.83L4 21.41c.39.39.9.59 1.41.59.51 0 1.02-.2 1.41-.59l7.78-7.78 2.81-2.81c.8-.78.8-2.07 0-2.86zM5.41 20L4 18.59l7.72-7.72 1.47 1.35L5.41 20z\"/>\n",
              "  </svg>\n",
              "      </button>\n",
              "      \n",
              "  <style>\n",
              "    .colab-df-container {\n",
              "      display:flex;\n",
              "      flex-wrap:wrap;\n",
              "      gap: 12px;\n",
              "    }\n",
              "\n",
              "    .colab-df-convert {\n",
              "      background-color: #E8F0FE;\n",
              "      border: none;\n",
              "      border-radius: 50%;\n",
              "      cursor: pointer;\n",
              "      display: none;\n",
              "      fill: #1967D2;\n",
              "      height: 32px;\n",
              "      padding: 0 0 0 0;\n",
              "      width: 32px;\n",
              "    }\n",
              "\n",
              "    .colab-df-convert:hover {\n",
              "      background-color: #E2EBFA;\n",
              "      box-shadow: 0px 1px 2px rgba(60, 64, 67, 0.3), 0px 1px 3px 1px rgba(60, 64, 67, 0.15);\n",
              "      fill: #174EA6;\n",
              "    }\n",
              "\n",
              "    [theme=dark] .colab-df-convert {\n",
              "      background-color: #3B4455;\n",
              "      fill: #D2E3FC;\n",
              "    }\n",
              "\n",
              "    [theme=dark] .colab-df-convert:hover {\n",
              "      background-color: #434B5C;\n",
              "      box-shadow: 0px 1px 3px 1px rgba(0, 0, 0, 0.15);\n",
              "      filter: drop-shadow(0px 1px 2px rgba(0, 0, 0, 0.3));\n",
              "      fill: #FFFFFF;\n",
              "    }\n",
              "  </style>\n",
              "\n",
              "      <script>\n",
              "        const buttonEl =\n",
              "          document.querySelector('#df-e90f4a17-a1ca-4659-a879-5a603dca250b button.colab-df-convert');\n",
              "        buttonEl.style.display =\n",
              "          google.colab.kernel.accessAllowed ? 'block' : 'none';\n",
              "\n",
              "        async function convertToInteractive(key) {\n",
              "          const element = document.querySelector('#df-e90f4a17-a1ca-4659-a879-5a603dca250b');\n",
              "          const dataTable =\n",
              "            await google.colab.kernel.invokeFunction('convertToInteractive',\n",
              "                                                     [key], {});\n",
              "          if (!dataTable) return;\n",
              "\n",
              "          const docLinkHtml = 'Like what you see? Visit the ' +\n",
              "            '<a target=\"_blank\" href=https://colab.research.google.com/notebooks/data_table.ipynb>data table notebook</a>'\n",
              "            + ' to learn more about interactive tables.';\n",
              "          element.innerHTML = '';\n",
              "          dataTable['output_type'] = 'display_data';\n",
              "          await google.colab.output.renderOutput(dataTable, element);\n",
              "          const docLink = document.createElement('div');\n",
              "          docLink.innerHTML = docLinkHtml;\n",
              "          element.appendChild(docLink);\n",
              "        }\n",
              "      </script>\n",
              "    </div>\n",
              "  </div>\n",
              "  "
            ],
            "text/plain": [
              "                                     charged_off  ...  verification_status_Verified\n",
              "charged_off                             1.000000  ...                      0.061649\n",
              "verification_status_Source Verified     0.046500  ...                     -0.494319\n",
              "verification_status_Verified            0.061649  ...                      1.000000\n",
              "\n",
              "[3 rows x 3 columns]"
            ]
          },
          "metadata": {},
          "execution_count": 167
        }
      ]
    },
    {
      "cell_type": "code",
      "metadata": {
        "id": "NVUIi9l466Sd"
      },
      "source": [
        "dataset = pd.get_dummies(dataset, columns=['verification_status'], \n",
        "               drop_first=True)"
      ],
      "execution_count": 168,
      "outputs": []
    },
    {
      "cell_type": "markdown",
      "metadata": {
        "id": "PsnJKxns7WLn"
      },
      "source": [
        "###### 'purpose'"
      ]
    },
    {
      "cell_type": "code",
      "metadata": {
        "colab": {
          "base_uri": "https://localhost:8080/"
        },
        "id": "Ln6oBoWA7YJe",
        "outputId": "57e9bf8d-ad09-4dac-f5d4-78a63b6eba2f"
      },
      "source": [
        "dataset['purpose'].unique()"
      ],
      "execution_count": 169,
      "outputs": [
        {
          "output_type": "execute_result",
          "data": {
            "text/plain": [
              "array(['debt_consolidation', 'credit_card', 'home_improvement', 'house',\n",
              "       'medical', 'other', 'car', 'major_purchase', 'moving',\n",
              "       'small_business', 'vacation', 'renewable_energy', 'wedding'],\n",
              "      dtype=object)"
            ]
          },
          "metadata": {},
          "execution_count": 169
        }
      ]
    },
    {
      "cell_type": "code",
      "metadata": {
        "colab": {
          "base_uri": "https://localhost:8080/",
          "height": 666
        },
        "id": "TDmrDxno7cOM",
        "outputId": "c3d2018f-8512-4c15-b1c8-78db938bbe19"
      },
      "source": [
        "pd.get_dummies(dataset[['purpose', 'charged_off']], columns=['purpose'], \n",
        "               drop_first=True).corr()"
      ],
      "execution_count": 170,
      "outputs": [
        {
          "output_type": "execute_result",
          "data": {
            "text/html": [
              "\n",
              "  <div id=\"df-30e700a1-f9e3-4485-9425-92dbd198cc7a\">\n",
              "    <div class=\"colab-df-container\">\n",
              "      <div>\n",
              "<style scoped>\n",
              "    .dataframe tbody tr th:only-of-type {\n",
              "        vertical-align: middle;\n",
              "    }\n",
              "\n",
              "    .dataframe tbody tr th {\n",
              "        vertical-align: top;\n",
              "    }\n",
              "\n",
              "    .dataframe thead th {\n",
              "        text-align: right;\n",
              "    }\n",
              "</style>\n",
              "<table border=\"1\" class=\"dataframe\">\n",
              "  <thead>\n",
              "    <tr style=\"text-align: right;\">\n",
              "      <th></th>\n",
              "      <th>charged_off</th>\n",
              "      <th>purpose_credit_card</th>\n",
              "      <th>purpose_debt_consolidation</th>\n",
              "      <th>purpose_home_improvement</th>\n",
              "      <th>purpose_house</th>\n",
              "      <th>purpose_major_purchase</th>\n",
              "      <th>purpose_medical</th>\n",
              "      <th>purpose_moving</th>\n",
              "      <th>purpose_other</th>\n",
              "      <th>purpose_renewable_energy</th>\n",
              "      <th>purpose_small_business</th>\n",
              "      <th>purpose_vacation</th>\n",
              "      <th>purpose_wedding</th>\n",
              "    </tr>\n",
              "  </thead>\n",
              "  <tbody>\n",
              "    <tr>\n",
              "      <th>charged_off</th>\n",
              "      <td>1.000000</td>\n",
              "      <td>-0.037444</td>\n",
              "      <td>0.030523</td>\n",
              "      <td>-0.011345</td>\n",
              "      <td>0.006606</td>\n",
              "      <td>-0.000305</td>\n",
              "      <td>0.003501</td>\n",
              "      <td>0.014111</td>\n",
              "      <td>0.000302</td>\n",
              "      <td>0.006544</td>\n",
              "      <td>0.026016</td>\n",
              "      <td>-0.003054</td>\n",
              "      <td>-0.002836</td>\n",
              "    </tr>\n",
              "    <tr>\n",
              "      <th>purpose_credit_card</th>\n",
              "      <td>-0.037444</td>\n",
              "      <td>1.000000</td>\n",
              "      <td>-0.673695</td>\n",
              "      <td>-0.124168</td>\n",
              "      <td>-0.030663</td>\n",
              "      <td>-0.070974</td>\n",
              "      <td>-0.054659</td>\n",
              "      <td>-0.044651</td>\n",
              "      <td>-0.123339</td>\n",
              "      <td>-0.014537</td>\n",
              "      <td>-0.050666</td>\n",
              "      <td>-0.038635</td>\n",
              "      <td>-0.003146</td>\n",
              "    </tr>\n",
              "    <tr>\n",
              "      <th>purpose_debt_consolidation</th>\n",
              "      <td>0.030523</td>\n",
              "      <td>-0.673695</td>\n",
              "      <td>1.000000</td>\n",
              "      <td>-0.294310</td>\n",
              "      <td>-0.072679</td>\n",
              "      <td>-0.168227</td>\n",
              "      <td>-0.129557</td>\n",
              "      <td>-0.105835</td>\n",
              "      <td>-0.292345</td>\n",
              "      <td>-0.034458</td>\n",
              "      <td>-0.120092</td>\n",
              "      <td>-0.091575</td>\n",
              "      <td>-0.007458</td>\n",
              "    </tr>\n",
              "    <tr>\n",
              "      <th>purpose_home_improvement</th>\n",
              "      <td>-0.011345</td>\n",
              "      <td>-0.124168</td>\n",
              "      <td>-0.294310</td>\n",
              "      <td>1.000000</td>\n",
              "      <td>-0.013395</td>\n",
              "      <td>-0.031006</td>\n",
              "      <td>-0.023878</td>\n",
              "      <td>-0.019506</td>\n",
              "      <td>-0.053882</td>\n",
              "      <td>-0.006351</td>\n",
              "      <td>-0.022134</td>\n",
              "      <td>-0.016878</td>\n",
              "      <td>-0.001375</td>\n",
              "    </tr>\n",
              "    <tr>\n",
              "      <th>purpose_house</th>\n",
              "      <td>0.006606</td>\n",
              "      <td>-0.030663</td>\n",
              "      <td>-0.072679</td>\n",
              "      <td>-0.013395</td>\n",
              "      <td>1.000000</td>\n",
              "      <td>-0.007657</td>\n",
              "      <td>-0.005897</td>\n",
              "      <td>-0.004817</td>\n",
              "      <td>-0.013306</td>\n",
              "      <td>-0.001568</td>\n",
              "      <td>-0.005466</td>\n",
              "      <td>-0.004168</td>\n",
              "      <td>-0.000339</td>\n",
              "    </tr>\n",
              "    <tr>\n",
              "      <th>purpose_major_purchase</th>\n",
              "      <td>-0.000305</td>\n",
              "      <td>-0.070974</td>\n",
              "      <td>-0.168227</td>\n",
              "      <td>-0.031006</td>\n",
              "      <td>-0.007657</td>\n",
              "      <td>1.000000</td>\n",
              "      <td>-0.013649</td>\n",
              "      <td>-0.011150</td>\n",
              "      <td>-0.030799</td>\n",
              "      <td>-0.003630</td>\n",
              "      <td>-0.012652</td>\n",
              "      <td>-0.009647</td>\n",
              "      <td>-0.000786</td>\n",
              "    </tr>\n",
              "    <tr>\n",
              "      <th>purpose_medical</th>\n",
              "      <td>0.003501</td>\n",
              "      <td>-0.054659</td>\n",
              "      <td>-0.129557</td>\n",
              "      <td>-0.023878</td>\n",
              "      <td>-0.005897</td>\n",
              "      <td>-0.013649</td>\n",
              "      <td>1.000000</td>\n",
              "      <td>-0.008587</td>\n",
              "      <td>-0.023719</td>\n",
              "      <td>-0.002796</td>\n",
              "      <td>-0.009743</td>\n",
              "      <td>-0.007430</td>\n",
              "      <td>-0.000605</td>\n",
              "    </tr>\n",
              "    <tr>\n",
              "      <th>purpose_moving</th>\n",
              "      <td>0.014111</td>\n",
              "      <td>-0.044651</td>\n",
              "      <td>-0.105835</td>\n",
              "      <td>-0.019506</td>\n",
              "      <td>-0.004817</td>\n",
              "      <td>-0.011150</td>\n",
              "      <td>-0.008587</td>\n",
              "      <td>1.000000</td>\n",
              "      <td>-0.019376</td>\n",
              "      <td>-0.002284</td>\n",
              "      <td>-0.007959</td>\n",
              "      <td>-0.006069</td>\n",
              "      <td>-0.000494</td>\n",
              "    </tr>\n",
              "    <tr>\n",
              "      <th>purpose_other</th>\n",
              "      <td>0.000302</td>\n",
              "      <td>-0.123339</td>\n",
              "      <td>-0.292345</td>\n",
              "      <td>-0.053882</td>\n",
              "      <td>-0.013306</td>\n",
              "      <td>-0.030799</td>\n",
              "      <td>-0.023719</td>\n",
              "      <td>-0.019376</td>\n",
              "      <td>1.000000</td>\n",
              "      <td>-0.006308</td>\n",
              "      <td>-0.021986</td>\n",
              "      <td>-0.016765</td>\n",
              "      <td>-0.001365</td>\n",
              "    </tr>\n",
              "    <tr>\n",
              "      <th>purpose_renewable_energy</th>\n",
              "      <td>0.006544</td>\n",
              "      <td>-0.014537</td>\n",
              "      <td>-0.034458</td>\n",
              "      <td>-0.006351</td>\n",
              "      <td>-0.001568</td>\n",
              "      <td>-0.003630</td>\n",
              "      <td>-0.002796</td>\n",
              "      <td>-0.002284</td>\n",
              "      <td>-0.006308</td>\n",
              "      <td>1.000000</td>\n",
              "      <td>-0.002591</td>\n",
              "      <td>-0.001976</td>\n",
              "      <td>-0.000161</td>\n",
              "    </tr>\n",
              "    <tr>\n",
              "      <th>purpose_small_business</th>\n",
              "      <td>0.026016</td>\n",
              "      <td>-0.050666</td>\n",
              "      <td>-0.120092</td>\n",
              "      <td>-0.022134</td>\n",
              "      <td>-0.005466</td>\n",
              "      <td>-0.012652</td>\n",
              "      <td>-0.009743</td>\n",
              "      <td>-0.007959</td>\n",
              "      <td>-0.021986</td>\n",
              "      <td>-0.002591</td>\n",
              "      <td>1.000000</td>\n",
              "      <td>-0.006887</td>\n",
              "      <td>-0.000561</td>\n",
              "    </tr>\n",
              "    <tr>\n",
              "      <th>purpose_vacation</th>\n",
              "      <td>-0.003054</td>\n",
              "      <td>-0.038635</td>\n",
              "      <td>-0.091575</td>\n",
              "      <td>-0.016878</td>\n",
              "      <td>-0.004168</td>\n",
              "      <td>-0.009647</td>\n",
              "      <td>-0.007430</td>\n",
              "      <td>-0.006069</td>\n",
              "      <td>-0.016765</td>\n",
              "      <td>-0.001976</td>\n",
              "      <td>-0.006887</td>\n",
              "      <td>1.000000</td>\n",
              "      <td>-0.000428</td>\n",
              "    </tr>\n",
              "    <tr>\n",
              "      <th>purpose_wedding</th>\n",
              "      <td>-0.002836</td>\n",
              "      <td>-0.003146</td>\n",
              "      <td>-0.007458</td>\n",
              "      <td>-0.001375</td>\n",
              "      <td>-0.000339</td>\n",
              "      <td>-0.000786</td>\n",
              "      <td>-0.000605</td>\n",
              "      <td>-0.000494</td>\n",
              "      <td>-0.001365</td>\n",
              "      <td>-0.000161</td>\n",
              "      <td>-0.000561</td>\n",
              "      <td>-0.000428</td>\n",
              "      <td>1.000000</td>\n",
              "    </tr>\n",
              "  </tbody>\n",
              "</table>\n",
              "</div>\n",
              "      <button class=\"colab-df-convert\" onclick=\"convertToInteractive('df-30e700a1-f9e3-4485-9425-92dbd198cc7a')\"\n",
              "              title=\"Convert this dataframe to an interactive table.\"\n",
              "              style=\"display:none;\">\n",
              "        \n",
              "  <svg xmlns=\"http://www.w3.org/2000/svg\" height=\"24px\"viewBox=\"0 0 24 24\"\n",
              "       width=\"24px\">\n",
              "    <path d=\"M0 0h24v24H0V0z\" fill=\"none\"/>\n",
              "    <path d=\"M18.56 5.44l.94 2.06.94-2.06 2.06-.94-2.06-.94-.94-2.06-.94 2.06-2.06.94zm-11 1L8.5 8.5l.94-2.06 2.06-.94-2.06-.94L8.5 2.5l-.94 2.06-2.06.94zm10 10l.94 2.06.94-2.06 2.06-.94-2.06-.94-.94-2.06-.94 2.06-2.06.94z\"/><path d=\"M17.41 7.96l-1.37-1.37c-.4-.4-.92-.59-1.43-.59-.52 0-1.04.2-1.43.59L10.3 9.45l-7.72 7.72c-.78.78-.78 2.05 0 2.83L4 21.41c.39.39.9.59 1.41.59.51 0 1.02-.2 1.41-.59l7.78-7.78 2.81-2.81c.8-.78.8-2.07 0-2.86zM5.41 20L4 18.59l7.72-7.72 1.47 1.35L5.41 20z\"/>\n",
              "  </svg>\n",
              "      </button>\n",
              "      \n",
              "  <style>\n",
              "    .colab-df-container {\n",
              "      display:flex;\n",
              "      flex-wrap:wrap;\n",
              "      gap: 12px;\n",
              "    }\n",
              "\n",
              "    .colab-df-convert {\n",
              "      background-color: #E8F0FE;\n",
              "      border: none;\n",
              "      border-radius: 50%;\n",
              "      cursor: pointer;\n",
              "      display: none;\n",
              "      fill: #1967D2;\n",
              "      height: 32px;\n",
              "      padding: 0 0 0 0;\n",
              "      width: 32px;\n",
              "    }\n",
              "\n",
              "    .colab-df-convert:hover {\n",
              "      background-color: #E2EBFA;\n",
              "      box-shadow: 0px 1px 2px rgba(60, 64, 67, 0.3), 0px 1px 3px 1px rgba(60, 64, 67, 0.15);\n",
              "      fill: #174EA6;\n",
              "    }\n",
              "\n",
              "    [theme=dark] .colab-df-convert {\n",
              "      background-color: #3B4455;\n",
              "      fill: #D2E3FC;\n",
              "    }\n",
              "\n",
              "    [theme=dark] .colab-df-convert:hover {\n",
              "      background-color: #434B5C;\n",
              "      box-shadow: 0px 1px 3px 1px rgba(0, 0, 0, 0.15);\n",
              "      filter: drop-shadow(0px 1px 2px rgba(0, 0, 0, 0.3));\n",
              "      fill: #FFFFFF;\n",
              "    }\n",
              "  </style>\n",
              "\n",
              "      <script>\n",
              "        const buttonEl =\n",
              "          document.querySelector('#df-30e700a1-f9e3-4485-9425-92dbd198cc7a button.colab-df-convert');\n",
              "        buttonEl.style.display =\n",
              "          google.colab.kernel.accessAllowed ? 'block' : 'none';\n",
              "\n",
              "        async function convertToInteractive(key) {\n",
              "          const element = document.querySelector('#df-30e700a1-f9e3-4485-9425-92dbd198cc7a');\n",
              "          const dataTable =\n",
              "            await google.colab.kernel.invokeFunction('convertToInteractive',\n",
              "                                                     [key], {});\n",
              "          if (!dataTable) return;\n",
              "\n",
              "          const docLinkHtml = 'Like what you see? Visit the ' +\n",
              "            '<a target=\"_blank\" href=https://colab.research.google.com/notebooks/data_table.ipynb>data table notebook</a>'\n",
              "            + ' to learn more about interactive tables.';\n",
              "          element.innerHTML = '';\n",
              "          dataTable['output_type'] = 'display_data';\n",
              "          await google.colab.output.renderOutput(dataTable, element);\n",
              "          const docLink = document.createElement('div');\n",
              "          docLink.innerHTML = docLinkHtml;\n",
              "          element.appendChild(docLink);\n",
              "        }\n",
              "      </script>\n",
              "    </div>\n",
              "  </div>\n",
              "  "
            ],
            "text/plain": [
              "                            charged_off  ...  purpose_wedding\n",
              "charged_off                    1.000000  ...        -0.002836\n",
              "purpose_credit_card           -0.037444  ...        -0.003146\n",
              "purpose_debt_consolidation     0.030523  ...        -0.007458\n",
              "purpose_home_improvement      -0.011345  ...        -0.001375\n",
              "purpose_house                  0.006606  ...        -0.000339\n",
              "purpose_major_purchase        -0.000305  ...        -0.000786\n",
              "purpose_medical                0.003501  ...        -0.000605\n",
              "purpose_moving                 0.014111  ...        -0.000494\n",
              "purpose_other                  0.000302  ...        -0.001365\n",
              "purpose_renewable_energy       0.006544  ...        -0.000161\n",
              "purpose_small_business         0.026016  ...        -0.000561\n",
              "purpose_vacation              -0.003054  ...        -0.000428\n",
              "purpose_wedding               -0.002836  ...         1.000000\n",
              "\n",
              "[13 rows x 13 columns]"
            ]
          },
          "metadata": {},
          "execution_count": 170
        }
      ]
    },
    {
      "cell_type": "markdown",
      "metadata": {
        "id": "8ZIIJ-la7ol-"
      },
      "source": [
        "En este caso casi todas las correlaciones son muy bajas, solo `purpose_credit_card` y `purpose_debt_consolidation` parecen ser utiles.  \n",
        "Tambien se podrian colapsar variables, pero eso es recomendable para otra iteracion."
      ]
    },
    {
      "cell_type": "code",
      "metadata": {
        "id": "o-hHumkN8BmB"
      },
      "source": [
        "dummies_purpose = pd.get_dummies(dataset[['purpose', 'charged_off']], columns=['purpose'], \n",
        "               drop_first=True).corr().index\n",
        "dummies_purpose = [v for v in dummies_purpose if v not in ['charged_off', \n",
        "                                                           'purpose_credit_card',\n",
        "                                                           'purpose_debt_consolidation'\n",
        "                                                           ]]\n",
        "dataset = pd.get_dummies(dataset, columns=['purpose'], \n",
        "               drop_first=True) \n",
        "dataset.drop(dummies_purpose, axis=1, inplace=True)                                                  "
      ],
      "execution_count": 171,
      "outputs": []
    },
    {
      "cell_type": "markdown",
      "metadata": {
        "id": "Ob0G98qL9XUa"
      },
      "source": [
        "###### earliest_cr_line"
      ]
    },
    {
      "cell_type": "code",
      "metadata": {
        "colab": {
          "base_uri": "https://localhost:8080/"
        },
        "id": "_qA7DRqw-Y3d",
        "outputId": "35a226b7-06af-40ac-c319-7e3e42a05f49"
      },
      "source": [
        "dataset['earliest_cr_line'].head(3)"
      ],
      "execution_count": 172,
      "outputs": [
        {
          "output_type": "execute_result",
          "data": {
            "text/plain": [
              "0    Aug-1994\n",
              "1    Sep-1989\n",
              "2    Aug-2003\n",
              "Name: earliest_cr_line, dtype: object"
            ]
          },
          "metadata": {},
          "execution_count": 172
        }
      ]
    },
    {
      "cell_type": "code",
      "metadata": {
        "id": "jV25Zvvw9dzK"
      },
      "source": [
        "# Convirtamos sus valores a numerico\n",
        "dataset['earliest_cr_line'] = dataset['earliest_cr_line'].apply(lambda x: int(x[4:]))"
      ],
      "execution_count": 173,
      "outputs": []
    },
    {
      "cell_type": "code",
      "metadata": {
        "colab": {
          "base_uri": "https://localhost:8080/",
          "height": 143
        },
        "id": "2RNUjfpP-jBw",
        "outputId": "a1f5fcb8-2025-48cc-f8d4-521dea4ef5f7"
      },
      "source": [
        "dataset[['earliest_cr_line', 'charged_off']].corr()"
      ],
      "execution_count": 174,
      "outputs": [
        {
          "output_type": "execute_result",
          "data": {
            "text/html": [
              "\n",
              "  <div id=\"df-c49974a9-1071-487f-b546-56beeb217dde\">\n",
              "    <div class=\"colab-df-container\">\n",
              "      <div>\n",
              "<style scoped>\n",
              "    .dataframe tbody tr th:only-of-type {\n",
              "        vertical-align: middle;\n",
              "    }\n",
              "\n",
              "    .dataframe tbody tr th {\n",
              "        vertical-align: top;\n",
              "    }\n",
              "\n",
              "    .dataframe thead th {\n",
              "        text-align: right;\n",
              "    }\n",
              "</style>\n",
              "<table border=\"1\" class=\"dataframe\">\n",
              "  <thead>\n",
              "    <tr style=\"text-align: right;\">\n",
              "      <th></th>\n",
              "      <th>earliest_cr_line</th>\n",
              "      <th>charged_off</th>\n",
              "    </tr>\n",
              "  </thead>\n",
              "  <tbody>\n",
              "    <tr>\n",
              "      <th>earliest_cr_line</th>\n",
              "      <td>1.000000</td>\n",
              "      <td>0.039028</td>\n",
              "    </tr>\n",
              "    <tr>\n",
              "      <th>charged_off</th>\n",
              "      <td>0.039028</td>\n",
              "      <td>1.000000</td>\n",
              "    </tr>\n",
              "  </tbody>\n",
              "</table>\n",
              "</div>\n",
              "      <button class=\"colab-df-convert\" onclick=\"convertToInteractive('df-c49974a9-1071-487f-b546-56beeb217dde')\"\n",
              "              title=\"Convert this dataframe to an interactive table.\"\n",
              "              style=\"display:none;\">\n",
              "        \n",
              "  <svg xmlns=\"http://www.w3.org/2000/svg\" height=\"24px\"viewBox=\"0 0 24 24\"\n",
              "       width=\"24px\">\n",
              "    <path d=\"M0 0h24v24H0V0z\" fill=\"none\"/>\n",
              "    <path d=\"M18.56 5.44l.94 2.06.94-2.06 2.06-.94-2.06-.94-.94-2.06-.94 2.06-2.06.94zm-11 1L8.5 8.5l.94-2.06 2.06-.94-2.06-.94L8.5 2.5l-.94 2.06-2.06.94zm10 10l.94 2.06.94-2.06 2.06-.94-2.06-.94-.94-2.06-.94 2.06-2.06.94z\"/><path d=\"M17.41 7.96l-1.37-1.37c-.4-.4-.92-.59-1.43-.59-.52 0-1.04.2-1.43.59L10.3 9.45l-7.72 7.72c-.78.78-.78 2.05 0 2.83L4 21.41c.39.39.9.59 1.41.59.51 0 1.02-.2 1.41-.59l7.78-7.78 2.81-2.81c.8-.78.8-2.07 0-2.86zM5.41 20L4 18.59l7.72-7.72 1.47 1.35L5.41 20z\"/>\n",
              "  </svg>\n",
              "      </button>\n",
              "      \n",
              "  <style>\n",
              "    .colab-df-container {\n",
              "      display:flex;\n",
              "      flex-wrap:wrap;\n",
              "      gap: 12px;\n",
              "    }\n",
              "\n",
              "    .colab-df-convert {\n",
              "      background-color: #E8F0FE;\n",
              "      border: none;\n",
              "      border-radius: 50%;\n",
              "      cursor: pointer;\n",
              "      display: none;\n",
              "      fill: #1967D2;\n",
              "      height: 32px;\n",
              "      padding: 0 0 0 0;\n",
              "      width: 32px;\n",
              "    }\n",
              "\n",
              "    .colab-df-convert:hover {\n",
              "      background-color: #E2EBFA;\n",
              "      box-shadow: 0px 1px 2px rgba(60, 64, 67, 0.3), 0px 1px 3px 1px rgba(60, 64, 67, 0.15);\n",
              "      fill: #174EA6;\n",
              "    }\n",
              "\n",
              "    [theme=dark] .colab-df-convert {\n",
              "      background-color: #3B4455;\n",
              "      fill: #D2E3FC;\n",
              "    }\n",
              "\n",
              "    [theme=dark] .colab-df-convert:hover {\n",
              "      background-color: #434B5C;\n",
              "      box-shadow: 0px 1px 3px 1px rgba(0, 0, 0, 0.15);\n",
              "      filter: drop-shadow(0px 1px 2px rgba(0, 0, 0, 0.3));\n",
              "      fill: #FFFFFF;\n",
              "    }\n",
              "  </style>\n",
              "\n",
              "      <script>\n",
              "        const buttonEl =\n",
              "          document.querySelector('#df-c49974a9-1071-487f-b546-56beeb217dde button.colab-df-convert');\n",
              "        buttonEl.style.display =\n",
              "          google.colab.kernel.accessAllowed ? 'block' : 'none';\n",
              "\n",
              "        async function convertToInteractive(key) {\n",
              "          const element = document.querySelector('#df-c49974a9-1071-487f-b546-56beeb217dde');\n",
              "          const dataTable =\n",
              "            await google.colab.kernel.invokeFunction('convertToInteractive',\n",
              "                                                     [key], {});\n",
              "          if (!dataTable) return;\n",
              "\n",
              "          const docLinkHtml = 'Like what you see? Visit the ' +\n",
              "            '<a target=\"_blank\" href=https://colab.research.google.com/notebooks/data_table.ipynb>data table notebook</a>'\n",
              "            + ' to learn more about interactive tables.';\n",
              "          element.innerHTML = '';\n",
              "          dataTable['output_type'] = 'display_data';\n",
              "          await google.colab.output.renderOutput(dataTable, element);\n",
              "          const docLink = document.createElement('div');\n",
              "          docLink.innerHTML = docLinkHtml;\n",
              "          element.appendChild(docLink);\n",
              "        }\n",
              "      </script>\n",
              "    </div>\n",
              "  </div>\n",
              "  "
            ],
            "text/plain": [
              "                  earliest_cr_line  charged_off\n",
              "earliest_cr_line          1.000000     0.039028\n",
              "charged_off               0.039028     1.000000"
            ]
          },
          "metadata": {},
          "execution_count": 174
        }
      ]
    },
    {
      "cell_type": "markdown",
      "metadata": {
        "id": "hXyy_mPU-2Lb"
      },
      "source": [
        "La correlacion no es la mejor, pero podemos dejarla."
      ]
    },
    {
      "cell_type": "markdown",
      "metadata": {
        "id": "cZm72Kog_zGa"
      },
      "source": [
        "###### initial_list_status"
      ]
    },
    {
      "cell_type": "code",
      "metadata": {
        "colab": {
          "base_uri": "https://localhost:8080/"
        },
        "id": "eTErDIam_1GF",
        "outputId": "9ff69f7e-cc4f-48f0-b1a4-605fd15a8ddb"
      },
      "source": [
        "dataset['initial_list_status'].unique()"
      ],
      "execution_count": 175,
      "outputs": [
        {
          "output_type": "execute_result",
          "data": {
            "text/plain": [
              "array(['w', 'f'], dtype=object)"
            ]
          },
          "metadata": {},
          "execution_count": 175
        }
      ]
    },
    {
      "cell_type": "code",
      "metadata": {
        "colab": {
          "base_uri": "https://localhost:8080/",
          "height": 143
        },
        "id": "_7-KpaD1AAdW",
        "outputId": "9255fd0f-40b2-418b-c852-482e3a42c7a8"
      },
      "source": [
        "pd.get_dummies(dataset[['initial_list_status', 'charged_off']], \n",
        "               columns=['initial_list_status'], \n",
        "               drop_first=True).corr()"
      ],
      "execution_count": 176,
      "outputs": [
        {
          "output_type": "execute_result",
          "data": {
            "text/html": [
              "\n",
              "  <div id=\"df-3353015d-0797-4136-b9a3-5e018d8d6557\">\n",
              "    <div class=\"colab-df-container\">\n",
              "      <div>\n",
              "<style scoped>\n",
              "    .dataframe tbody tr th:only-of-type {\n",
              "        vertical-align: middle;\n",
              "    }\n",
              "\n",
              "    .dataframe tbody tr th {\n",
              "        vertical-align: top;\n",
              "    }\n",
              "\n",
              "    .dataframe thead th {\n",
              "        text-align: right;\n",
              "    }\n",
              "</style>\n",
              "<table border=\"1\" class=\"dataframe\">\n",
              "  <thead>\n",
              "    <tr style=\"text-align: right;\">\n",
              "      <th></th>\n",
              "      <th>charged_off</th>\n",
              "      <th>initial_list_status_w</th>\n",
              "    </tr>\n",
              "  </thead>\n",
              "  <tbody>\n",
              "    <tr>\n",
              "      <th>charged_off</th>\n",
              "      <td>1.000000</td>\n",
              "      <td>0.042561</td>\n",
              "    </tr>\n",
              "    <tr>\n",
              "      <th>initial_list_status_w</th>\n",
              "      <td>0.042561</td>\n",
              "      <td>1.000000</td>\n",
              "    </tr>\n",
              "  </tbody>\n",
              "</table>\n",
              "</div>\n",
              "      <button class=\"colab-df-convert\" onclick=\"convertToInteractive('df-3353015d-0797-4136-b9a3-5e018d8d6557')\"\n",
              "              title=\"Convert this dataframe to an interactive table.\"\n",
              "              style=\"display:none;\">\n",
              "        \n",
              "  <svg xmlns=\"http://www.w3.org/2000/svg\" height=\"24px\"viewBox=\"0 0 24 24\"\n",
              "       width=\"24px\">\n",
              "    <path d=\"M0 0h24v24H0V0z\" fill=\"none\"/>\n",
              "    <path d=\"M18.56 5.44l.94 2.06.94-2.06 2.06-.94-2.06-.94-.94-2.06-.94 2.06-2.06.94zm-11 1L8.5 8.5l.94-2.06 2.06-.94-2.06-.94L8.5 2.5l-.94 2.06-2.06.94zm10 10l.94 2.06.94-2.06 2.06-.94-2.06-.94-.94-2.06-.94 2.06-2.06.94z\"/><path d=\"M17.41 7.96l-1.37-1.37c-.4-.4-.92-.59-1.43-.59-.52 0-1.04.2-1.43.59L10.3 9.45l-7.72 7.72c-.78.78-.78 2.05 0 2.83L4 21.41c.39.39.9.59 1.41.59.51 0 1.02-.2 1.41-.59l7.78-7.78 2.81-2.81c.8-.78.8-2.07 0-2.86zM5.41 20L4 18.59l7.72-7.72 1.47 1.35L5.41 20z\"/>\n",
              "  </svg>\n",
              "      </button>\n",
              "      \n",
              "  <style>\n",
              "    .colab-df-container {\n",
              "      display:flex;\n",
              "      flex-wrap:wrap;\n",
              "      gap: 12px;\n",
              "    }\n",
              "\n",
              "    .colab-df-convert {\n",
              "      background-color: #E8F0FE;\n",
              "      border: none;\n",
              "      border-radius: 50%;\n",
              "      cursor: pointer;\n",
              "      display: none;\n",
              "      fill: #1967D2;\n",
              "      height: 32px;\n",
              "      padding: 0 0 0 0;\n",
              "      width: 32px;\n",
              "    }\n",
              "\n",
              "    .colab-df-convert:hover {\n",
              "      background-color: #E2EBFA;\n",
              "      box-shadow: 0px 1px 2px rgba(60, 64, 67, 0.3), 0px 1px 3px 1px rgba(60, 64, 67, 0.15);\n",
              "      fill: #174EA6;\n",
              "    }\n",
              "\n",
              "    [theme=dark] .colab-df-convert {\n",
              "      background-color: #3B4455;\n",
              "      fill: #D2E3FC;\n",
              "    }\n",
              "\n",
              "    [theme=dark] .colab-df-convert:hover {\n",
              "      background-color: #434B5C;\n",
              "      box-shadow: 0px 1px 3px 1px rgba(0, 0, 0, 0.15);\n",
              "      filter: drop-shadow(0px 1px 2px rgba(0, 0, 0, 0.3));\n",
              "      fill: #FFFFFF;\n",
              "    }\n",
              "  </style>\n",
              "\n",
              "      <script>\n",
              "        const buttonEl =\n",
              "          document.querySelector('#df-3353015d-0797-4136-b9a3-5e018d8d6557 button.colab-df-convert');\n",
              "        buttonEl.style.display =\n",
              "          google.colab.kernel.accessAllowed ? 'block' : 'none';\n",
              "\n",
              "        async function convertToInteractive(key) {\n",
              "          const element = document.querySelector('#df-3353015d-0797-4136-b9a3-5e018d8d6557');\n",
              "          const dataTable =\n",
              "            await google.colab.kernel.invokeFunction('convertToInteractive',\n",
              "                                                     [key], {});\n",
              "          if (!dataTable) return;\n",
              "\n",
              "          const docLinkHtml = 'Like what you see? Visit the ' +\n",
              "            '<a target=\"_blank\" href=https://colab.research.google.com/notebooks/data_table.ipynb>data table notebook</a>'\n",
              "            + ' to learn more about interactive tables.';\n",
              "          element.innerHTML = '';\n",
              "          dataTable['output_type'] = 'display_data';\n",
              "          await google.colab.output.renderOutput(dataTable, element);\n",
              "          const docLink = document.createElement('div');\n",
              "          docLink.innerHTML = docLinkHtml;\n",
              "          element.appendChild(docLink);\n",
              "        }\n",
              "      </script>\n",
              "    </div>\n",
              "  </div>\n",
              "  "
            ],
            "text/plain": [
              "                       charged_off  initial_list_status_w\n",
              "charged_off               1.000000               0.042561\n",
              "initial_list_status_w     0.042561               1.000000"
            ]
          },
          "metadata": {},
          "execution_count": 176
        }
      ]
    },
    {
      "cell_type": "markdown",
      "metadata": {
        "id": "IF-UgPxpAPEH"
      },
      "source": [
        "La correlacion no es tan buena, pero podemos dejarla."
      ]
    },
    {
      "cell_type": "code",
      "metadata": {
        "id": "Pd-Ck3GaARd8"
      },
      "source": [
        "dataset = pd.get_dummies(dataset, \n",
        "               columns=['initial_list_status'], \n",
        "               drop_first=True)"
      ],
      "execution_count": 177,
      "outputs": []
    },
    {
      "cell_type": "markdown",
      "metadata": {
        "id": "ZMjOnR0pAiks"
      },
      "source": [
        "#### Aprendizaje"
      ]
    },
    {
      "cell_type": "markdown",
      "metadata": {
        "id": "jo3wDJ81AqqZ"
      },
      "source": [
        "Ahora hemos terminado de convertir nuestras variables categoricas a numericas, de tal forma que nuestros algoritmos podran leerlas. Pasaremos a analizarlas en conjunto con nuestras variables numericas."
      ]
    },
    {
      "cell_type": "markdown",
      "metadata": {
        "id": "TaCVeziDA6KS"
      },
      "source": [
        "### Seleccion de Features Numericas"
      ]
    },
    {
      "cell_type": "markdown",
      "metadata": {
        "id": "DVjtHcZhDEpP"
      },
      "source": [
        "#### Feature with Feature Correlation"
      ]
    },
    {
      "cell_type": "markdown",
      "metadata": {
        "id": "0RmdlzYLDNNZ"
      },
      "source": [
        "Eliminemos las variables explicativas que esten muy relacioandas entre si. La idea es que es informacion redundante."
      ]
    },
    {
      "cell_type": "code",
      "metadata": {
        "colab": {
          "base_uri": "https://localhost:8080/",
          "height": 1000
        },
        "id": "M51l81N0B7I5",
        "outputId": "41584f89-33fa-4bd1-f858-0aeb3a9143bf"
      },
      "source": [
        "feature_correlation = dataset.loc[:, dataset.columns != 'charged_off'].corr()\n",
        "feature_correlation"
      ],
      "execution_count": 178,
      "outputs": [
        {
          "output_type": "execute_result",
          "data": {
            "text/html": [
              "\n",
              "  <div id=\"df-420106d6-9b8a-413e-82b3-26d724233c09\">\n",
              "    <div class=\"colab-df-container\">\n",
              "      <div>\n",
              "<style scoped>\n",
              "    .dataframe tbody tr th:only-of-type {\n",
              "        vertical-align: middle;\n",
              "    }\n",
              "\n",
              "    .dataframe tbody tr th {\n",
              "        vertical-align: top;\n",
              "    }\n",
              "\n",
              "    .dataframe thead th {\n",
              "        text-align: right;\n",
              "    }\n",
              "</style>\n",
              "<table border=\"1\" class=\"dataframe\">\n",
              "  <thead>\n",
              "    <tr style=\"text-align: right;\">\n",
              "      <th></th>\n",
              "      <th>loan_amnt</th>\n",
              "      <th>funded_amnt</th>\n",
              "      <th>term</th>\n",
              "      <th>int_rate</th>\n",
              "      <th>installment</th>\n",
              "      <th>sub_grade</th>\n",
              "      <th>annual_inc</th>\n",
              "      <th>dti</th>\n",
              "      <th>earliest_cr_line</th>\n",
              "      <th>fico_range_low</th>\n",
              "      <th>fico_range_high</th>\n",
              "      <th>open_acc</th>\n",
              "      <th>revol_util</th>\n",
              "      <th>last_pymnt_amnt</th>\n",
              "      <th>acc_open_past_24mths</th>\n",
              "      <th>avg_cur_bal</th>\n",
              "      <th>bc_open_to_buy</th>\n",
              "      <th>bc_util</th>\n",
              "      <th>mo_sin_old_rev_tl_op</th>\n",
              "      <th>mo_sin_rcnt_rev_tl_op</th>\n",
              "      <th>mort_acc</th>\n",
              "      <th>num_actv_rev_tl</th>\n",
              "      <th>home_ownership_RENT</th>\n",
              "      <th>verification_status_Source Verified</th>\n",
              "      <th>verification_status_Verified</th>\n",
              "      <th>purpose_credit_card</th>\n",
              "      <th>purpose_debt_consolidation</th>\n",
              "      <th>initial_list_status_w</th>\n",
              "    </tr>\n",
              "  </thead>\n",
              "  <tbody>\n",
              "    <tr>\n",
              "      <th>loan_amnt</th>\n",
              "      <td>1.000000</td>\n",
              "      <td>1.000000</td>\n",
              "      <td>0.367128</td>\n",
              "      <td>0.081989</td>\n",
              "      <td>0.956719</td>\n",
              "      <td>0.085489</td>\n",
              "      <td>0.375334</td>\n",
              "      <td>0.004032</td>\n",
              "      <td>-0.170876</td>\n",
              "      <td>0.145435</td>\n",
              "      <td>0.145433</td>\n",
              "      <td>0.189378</td>\n",
              "      <td>0.112908</td>\n",
              "      <td>0.483557</td>\n",
              "      <td>-0.002054</td>\n",
              "      <td>0.249615</td>\n",
              "      <td>0.227233</td>\n",
              "      <td>0.035245</td>\n",
              "      <td>0.179364</td>\n",
              "      <td>0.055015</td>\n",
              "      <td>0.241954</td>\n",
              "      <td>0.153569</td>\n",
              "      <td>-0.185336</td>\n",
              "      <td>0.124784</td>\n",
              "      <td>0.245929</td>\n",
              "      <td>0.040756</td>\n",
              "      <td>0.086807</td>\n",
              "      <td>0.108390</td>\n",
              "    </tr>\n",
              "    <tr>\n",
              "      <th>funded_amnt</th>\n",
              "      <td>1.000000</td>\n",
              "      <td>1.000000</td>\n",
              "      <td>0.367128</td>\n",
              "      <td>0.081989</td>\n",
              "      <td>0.956719</td>\n",
              "      <td>0.085489</td>\n",
              "      <td>0.375334</td>\n",
              "      <td>0.004032</td>\n",
              "      <td>-0.170876</td>\n",
              "      <td>0.145435</td>\n",
              "      <td>0.145433</td>\n",
              "      <td>0.189378</td>\n",
              "      <td>0.112908</td>\n",
              "      <td>0.483557</td>\n",
              "      <td>-0.002054</td>\n",
              "      <td>0.249615</td>\n",
              "      <td>0.227233</td>\n",
              "      <td>0.035245</td>\n",
              "      <td>0.179364</td>\n",
              "      <td>0.055015</td>\n",
              "      <td>0.241954</td>\n",
              "      <td>0.153569</td>\n",
              "      <td>-0.185336</td>\n",
              "      <td>0.124784</td>\n",
              "      <td>0.245929</td>\n",
              "      <td>0.040756</td>\n",
              "      <td>0.086807</td>\n",
              "      <td>0.108390</td>\n",
              "    </tr>\n",
              "    <tr>\n",
              "      <th>term</th>\n",
              "      <td>0.367128</td>\n",
              "      <td>0.367128</td>\n",
              "      <td>1.000000</td>\n",
              "      <td>0.412062</td>\n",
              "      <td>0.128710</td>\n",
              "      <td>0.415738</td>\n",
              "      <td>0.047923</td>\n",
              "      <td>0.071772</td>\n",
              "      <td>-0.024371</td>\n",
              "      <td>-0.000104</td>\n",
              "      <td>-0.000103</td>\n",
              "      <td>0.075819</td>\n",
              "      <td>0.063100</td>\n",
              "      <td>0.366052</td>\n",
              "      <td>0.065702</td>\n",
              "      <td>0.074185</td>\n",
              "      <td>0.008355</td>\n",
              "      <td>0.046113</td>\n",
              "      <td>0.024166</td>\n",
              "      <td>-0.009404</td>\n",
              "      <td>0.099086</td>\n",
              "      <td>0.049406</td>\n",
              "      <td>-0.092168</td>\n",
              "      <td>0.142710</td>\n",
              "      <td>0.080076</td>\n",
              "      <td>-0.037796</td>\n",
              "      <td>0.077619</td>\n",
              "      <td>0.290630</td>\n",
              "    </tr>\n",
              "    <tr>\n",
              "      <th>int_rate</th>\n",
              "      <td>0.081989</td>\n",
              "      <td>0.081989</td>\n",
              "      <td>0.412062</td>\n",
              "      <td>1.000000</td>\n",
              "      <td>0.078194</td>\n",
              "      <td>0.996177</td>\n",
              "      <td>-0.116061</td>\n",
              "      <td>0.203281</td>\n",
              "      <td>0.135407</td>\n",
              "      <td>-0.387205</td>\n",
              "      <td>-0.387203</td>\n",
              "      <td>-0.008523</td>\n",
              "      <td>0.207595</td>\n",
              "      <td>0.099689</td>\n",
              "      <td>0.225448</td>\n",
              "      <td>-0.097409</td>\n",
              "      <td>-0.295008</td>\n",
              "      <td>0.246672</td>\n",
              "      <td>-0.153263</td>\n",
              "      <td>-0.124426</td>\n",
              "      <td>-0.078239</td>\n",
              "      <td>0.082477</td>\n",
              "      <td>0.069182</td>\n",
              "      <td>0.034614</td>\n",
              "      <td>0.205737</td>\n",
              "      <td>-0.214897</td>\n",
              "      <td>0.088257</td>\n",
              "      <td>0.028108</td>\n",
              "    </tr>\n",
              "    <tr>\n",
              "      <th>installment</th>\n",
              "      <td>0.956719</td>\n",
              "      <td>0.956719</td>\n",
              "      <td>0.128710</td>\n",
              "      <td>0.078194</td>\n",
              "      <td>1.000000</td>\n",
              "      <td>0.080507</td>\n",
              "      <td>0.368545</td>\n",
              "      <td>0.005830</td>\n",
              "      <td>-0.156109</td>\n",
              "      <td>0.105185</td>\n",
              "      <td>0.105184</td>\n",
              "      <td>0.178550</td>\n",
              "      <td>0.124193</td>\n",
              "      <td>0.397910</td>\n",
              "      <td>0.007956</td>\n",
              "      <td>0.226761</td>\n",
              "      <td>0.198262</td>\n",
              "      <td>0.051590</td>\n",
              "      <td>0.163315</td>\n",
              "      <td>0.044395</td>\n",
              "      <td>0.214367</td>\n",
              "      <td>0.159329</td>\n",
              "      <td>-0.160240</td>\n",
              "      <td>0.097286</td>\n",
              "      <td>0.254309</td>\n",
              "      <td>0.029269</td>\n",
              "      <td>0.084410</td>\n",
              "      <td>0.028257</td>\n",
              "    </tr>\n",
              "    <tr>\n",
              "      <th>sub_grade</th>\n",
              "      <td>0.085489</td>\n",
              "      <td>0.085489</td>\n",
              "      <td>0.415738</td>\n",
              "      <td>0.996177</td>\n",
              "      <td>0.080507</td>\n",
              "      <td>1.000000</td>\n",
              "      <td>-0.114916</td>\n",
              "      <td>0.203937</td>\n",
              "      <td>0.135370</td>\n",
              "      <td>-0.385240</td>\n",
              "      <td>-0.385238</td>\n",
              "      <td>-0.008436</td>\n",
              "      <td>0.206731</td>\n",
              "      <td>0.100875</td>\n",
              "      <td>0.225571</td>\n",
              "      <td>-0.096000</td>\n",
              "      <td>-0.292809</td>\n",
              "      <td>0.245819</td>\n",
              "      <td>-0.152921</td>\n",
              "      <td>-0.123908</td>\n",
              "      <td>-0.077277</td>\n",
              "      <td>0.081448</td>\n",
              "      <td>0.068081</td>\n",
              "      <td>0.035448</td>\n",
              "      <td>0.207645</td>\n",
              "      <td>-0.215312</td>\n",
              "      <td>0.087888</td>\n",
              "      <td>0.029894</td>\n",
              "    </tr>\n",
              "    <tr>\n",
              "      <th>annual_inc</th>\n",
              "      <td>0.375334</td>\n",
              "      <td>0.375334</td>\n",
              "      <td>0.047923</td>\n",
              "      <td>-0.116061</td>\n",
              "      <td>0.368545</td>\n",
              "      <td>-0.114916</td>\n",
              "      <td>1.000000</td>\n",
              "      <td>-0.211709</td>\n",
              "      <td>-0.162855</td>\n",
              "      <td>0.103122</td>\n",
              "      <td>0.103122</td>\n",
              "      <td>0.143196</td>\n",
              "      <td>0.045467</td>\n",
              "      <td>0.199016</td>\n",
              "      <td>0.041772</td>\n",
              "      <td>0.372661</td>\n",
              "      <td>0.182824</td>\n",
              "      <td>-0.009175</td>\n",
              "      <td>0.159430</td>\n",
              "      <td>0.043774</td>\n",
              "      <td>0.252861</td>\n",
              "      <td>0.072760</td>\n",
              "      <td>-0.156225</td>\n",
              "      <td>0.027402</td>\n",
              "      <td>0.073827</td>\n",
              "      <td>-0.002254</td>\n",
              "      <td>-0.020281</td>\n",
              "      <td>0.017401</td>\n",
              "    </tr>\n",
              "    <tr>\n",
              "      <th>dti</th>\n",
              "      <td>0.004032</td>\n",
              "      <td>0.004032</td>\n",
              "      <td>0.071772</td>\n",
              "      <td>0.203281</td>\n",
              "      <td>0.005830</td>\n",
              "      <td>0.203937</td>\n",
              "      <td>-0.211709</td>\n",
              "      <td>1.000000</td>\n",
              "      <td>-0.027557</td>\n",
              "      <td>-0.065502</td>\n",
              "      <td>-0.065503</td>\n",
              "      <td>0.280590</td>\n",
              "      <td>0.175618</td>\n",
              "      <td>-0.048401</td>\n",
              "      <td>0.165314</td>\n",
              "      <td>-0.139364</td>\n",
              "      <td>-0.081308</td>\n",
              "      <td>0.183594</td>\n",
              "      <td>0.029656</td>\n",
              "      <td>-0.023141</td>\n",
              "      <td>-0.068518</td>\n",
              "      <td>0.255069</td>\n",
              "      <td>-0.000791</td>\n",
              "      <td>0.049590</td>\n",
              "      <td>0.045077</td>\n",
              "      <td>-0.013306</td>\n",
              "      <td>0.082383</td>\n",
              "      <td>0.005675</td>\n",
              "    </tr>\n",
              "    <tr>\n",
              "      <th>earliest_cr_line</th>\n",
              "      <td>-0.170876</td>\n",
              "      <td>-0.170876</td>\n",
              "      <td>-0.024371</td>\n",
              "      <td>0.135407</td>\n",
              "      <td>-0.156109</td>\n",
              "      <td>0.135370</td>\n",
              "      <td>-0.162855</td>\n",
              "      <td>-0.027557</td>\n",
              "      <td>1.000000</td>\n",
              "      <td>-0.100665</td>\n",
              "      <td>-0.100666</td>\n",
              "      <td>-0.127806</td>\n",
              "      <td>-0.000589</td>\n",
              "      <td>-0.065558</td>\n",
              "      <td>0.033849</td>\n",
              "      <td>-0.141351</td>\n",
              "      <td>-0.172759</td>\n",
              "      <td>0.020253</td>\n",
              "      <td>-0.923234</td>\n",
              "      <td>-0.052819</td>\n",
              "      <td>-0.298256</td>\n",
              "      <td>-0.147584</td>\n",
              "      <td>0.214746</td>\n",
              "      <td>0.006317</td>\n",
              "      <td>-0.097256</td>\n",
              "      <td>-0.003730</td>\n",
              "      <td>-0.008860</td>\n",
              "      <td>-0.022950</td>\n",
              "    </tr>\n",
              "    <tr>\n",
              "      <th>fico_range_low</th>\n",
              "      <td>0.145435</td>\n",
              "      <td>0.145435</td>\n",
              "      <td>-0.000104</td>\n",
              "      <td>-0.387205</td>\n",
              "      <td>0.105185</td>\n",
              "      <td>-0.385240</td>\n",
              "      <td>0.103122</td>\n",
              "      <td>-0.065502</td>\n",
              "      <td>-0.100665</td>\n",
              "      <td>1.000000</td>\n",
              "      <td>1.000000</td>\n",
              "      <td>0.039119</td>\n",
              "      <td>-0.418143</td>\n",
              "      <td>0.103164</td>\n",
              "      <td>-0.110641</td>\n",
              "      <td>0.148055</td>\n",
              "      <td>0.504536</td>\n",
              "      <td>-0.459830</td>\n",
              "      <td>0.116309</td>\n",
              "      <td>0.103099</td>\n",
              "      <td>0.089885</td>\n",
              "      <td>-0.156617</td>\n",
              "      <td>-0.128729</td>\n",
              "      <td>-0.030043</td>\n",
              "      <td>-0.021060</td>\n",
              "      <td>0.002703</td>\n",
              "      <td>-0.033653</td>\n",
              "      <td>0.040094</td>\n",
              "    </tr>\n",
              "    <tr>\n",
              "      <th>fico_range_high</th>\n",
              "      <td>0.145433</td>\n",
              "      <td>0.145433</td>\n",
              "      <td>-0.000103</td>\n",
              "      <td>-0.387203</td>\n",
              "      <td>0.105184</td>\n",
              "      <td>-0.385238</td>\n",
              "      <td>0.103122</td>\n",
              "      <td>-0.065503</td>\n",
              "      <td>-0.100666</td>\n",
              "      <td>1.000000</td>\n",
              "      <td>1.000000</td>\n",
              "      <td>0.039118</td>\n",
              "      <td>-0.418143</td>\n",
              "      <td>0.103165</td>\n",
              "      <td>-0.110642</td>\n",
              "      <td>0.148056</td>\n",
              "      <td>0.504534</td>\n",
              "      <td>-0.459830</td>\n",
              "      <td>0.116310</td>\n",
              "      <td>0.103100</td>\n",
              "      <td>0.089885</td>\n",
              "      <td>-0.156617</td>\n",
              "      <td>-0.128729</td>\n",
              "      <td>-0.030042</td>\n",
              "      <td>-0.021059</td>\n",
              "      <td>0.002702</td>\n",
              "      <td>-0.033653</td>\n",
              "      <td>0.040094</td>\n",
              "    </tr>\n",
              "    <tr>\n",
              "      <th>open_acc</th>\n",
              "      <td>0.189378</td>\n",
              "      <td>0.189378</td>\n",
              "      <td>0.075819</td>\n",
              "      <td>-0.008523</td>\n",
              "      <td>0.178550</td>\n",
              "      <td>-0.008436</td>\n",
              "      <td>0.143196</td>\n",
              "      <td>0.280590</td>\n",
              "      <td>-0.127806</td>\n",
              "      <td>0.039119</td>\n",
              "      <td>0.039118</td>\n",
              "      <td>1.000000</td>\n",
              "      <td>-0.147793</td>\n",
              "      <td>0.078453</td>\n",
              "      <td>0.480019</td>\n",
              "      <td>-0.105387</td>\n",
              "      <td>0.277591</td>\n",
              "      <td>-0.106116</td>\n",
              "      <td>0.130891</td>\n",
              "      <td>-0.227460</td>\n",
              "      <td>0.112283</td>\n",
              "      <td>0.664854</td>\n",
              "      <td>-0.114699</td>\n",
              "      <td>-0.019791</td>\n",
              "      <td>0.086464</td>\n",
              "      <td>0.013833</td>\n",
              "      <td>0.046817</td>\n",
              "      <td>0.020148</td>\n",
              "    </tr>\n",
              "    <tr>\n",
              "      <th>revol_util</th>\n",
              "      <td>0.112908</td>\n",
              "      <td>0.112908</td>\n",
              "      <td>0.063100</td>\n",
              "      <td>0.207595</td>\n",
              "      <td>0.124193</td>\n",
              "      <td>0.206731</td>\n",
              "      <td>0.045467</td>\n",
              "      <td>0.175618</td>\n",
              "      <td>-0.000589</td>\n",
              "      <td>-0.418143</td>\n",
              "      <td>-0.418143</td>\n",
              "      <td>-0.147793</td>\n",
              "      <td>1.000000</td>\n",
              "      <td>0.012169</td>\n",
              "      <td>-0.206648</td>\n",
              "      <td>0.129704</td>\n",
              "      <td>-0.459048</td>\n",
              "      <td>0.825018</td>\n",
              "      <td>-0.011868</td>\n",
              "      <td>0.187005</td>\n",
              "      <td>0.010233</td>\n",
              "      <td>0.077041</td>\n",
              "      <td>0.000847</td>\n",
              "      <td>0.041584</td>\n",
              "      <td>0.013746</td>\n",
              "      <td>0.065116</td>\n",
              "      <td>0.025476</td>\n",
              "      <td>-0.003740</td>\n",
              "    </tr>\n",
              "    <tr>\n",
              "      <th>last_pymnt_amnt</th>\n",
              "      <td>0.483557</td>\n",
              "      <td>0.483557</td>\n",
              "      <td>0.366052</td>\n",
              "      <td>0.099689</td>\n",
              "      <td>0.397910</td>\n",
              "      <td>0.100875</td>\n",
              "      <td>0.199016</td>\n",
              "      <td>-0.048401</td>\n",
              "      <td>-0.065558</td>\n",
              "      <td>0.103164</td>\n",
              "      <td>0.103165</td>\n",
              "      <td>0.078453</td>\n",
              "      <td>0.012169</td>\n",
              "      <td>1.000000</td>\n",
              "      <td>0.036069</td>\n",
              "      <td>0.178699</td>\n",
              "      <td>0.129931</td>\n",
              "      <td>-0.025492</td>\n",
              "      <td>0.073974</td>\n",
              "      <td>0.014097</td>\n",
              "      <td>0.180262</td>\n",
              "      <td>0.019300</td>\n",
              "      <td>-0.136714</td>\n",
              "      <td>0.060840</td>\n",
              "      <td>0.125690</td>\n",
              "      <td>-0.015681</td>\n",
              "      <td>0.070973</td>\n",
              "      <td>0.108466</td>\n",
              "    </tr>\n",
              "    <tr>\n",
              "      <th>acc_open_past_24mths</th>\n",
              "      <td>-0.002054</td>\n",
              "      <td>-0.002054</td>\n",
              "      <td>0.065702</td>\n",
              "      <td>0.225448</td>\n",
              "      <td>0.007956</td>\n",
              "      <td>0.225571</td>\n",
              "      <td>0.041772</td>\n",
              "      <td>0.165314</td>\n",
              "      <td>0.033849</td>\n",
              "      <td>-0.110641</td>\n",
              "      <td>-0.110642</td>\n",
              "      <td>0.480019</td>\n",
              "      <td>-0.206648</td>\n",
              "      <td>0.036069</td>\n",
              "      <td>1.000000</td>\n",
              "      <td>-0.100473</td>\n",
              "      <td>0.068992</td>\n",
              "      <td>-0.139493</td>\n",
              "      <td>-0.045976</td>\n",
              "      <td>-0.407743</td>\n",
              "      <td>0.063322</td>\n",
              "      <td>0.336097</td>\n",
              "      <td>-0.058044</td>\n",
              "      <td>-0.017479</td>\n",
              "      <td>0.143241</td>\n",
              "      <td>-0.055010</td>\n",
              "      <td>0.057629</td>\n",
              "      <td>-0.004634</td>\n",
              "    </tr>\n",
              "    <tr>\n",
              "      <th>avg_cur_bal</th>\n",
              "      <td>0.249615</td>\n",
              "      <td>0.249615</td>\n",
              "      <td>0.074185</td>\n",
              "      <td>-0.097409</td>\n",
              "      <td>0.226761</td>\n",
              "      <td>-0.096000</td>\n",
              "      <td>0.372661</td>\n",
              "      <td>-0.139364</td>\n",
              "      <td>-0.141351</td>\n",
              "      <td>0.148055</td>\n",
              "      <td>0.148056</td>\n",
              "      <td>-0.105387</td>\n",
              "      <td>0.129704</td>\n",
              "      <td>0.178699</td>\n",
              "      <td>-0.100473</td>\n",
              "      <td>1.000000</td>\n",
              "      <td>0.059954</td>\n",
              "      <td>0.059794</td>\n",
              "      <td>0.138993</td>\n",
              "      <td>0.168077</td>\n",
              "      <td>0.448536</td>\n",
              "      <td>-0.157392</td>\n",
              "      <td>-0.414130</td>\n",
              "      <td>-0.022042</td>\n",
              "      <td>0.038871</td>\n",
              "      <td>-0.004223</td>\n",
              "      <td>-0.022212</td>\n",
              "      <td>0.030607</td>\n",
              "    </tr>\n",
              "    <tr>\n",
              "      <th>bc_open_to_buy</th>\n",
              "      <td>0.227233</td>\n",
              "      <td>0.227233</td>\n",
              "      <td>0.008355</td>\n",
              "      <td>-0.295008</td>\n",
              "      <td>0.198262</td>\n",
              "      <td>-0.292809</td>\n",
              "      <td>0.182824</td>\n",
              "      <td>-0.081308</td>\n",
              "      <td>-0.172759</td>\n",
              "      <td>0.504536</td>\n",
              "      <td>0.504534</td>\n",
              "      <td>0.277591</td>\n",
              "      <td>-0.459048</td>\n",
              "      <td>0.129931</td>\n",
              "      <td>0.068992</td>\n",
              "      <td>0.059954</td>\n",
              "      <td>1.000000</td>\n",
              "      <td>-0.547810</td>\n",
              "      <td>0.194908</td>\n",
              "      <td>-0.050565</td>\n",
              "      <td>0.127540</td>\n",
              "      <td>0.122593</td>\n",
              "      <td>-0.107595</td>\n",
              "      <td>-0.007962</td>\n",
              "      <td>0.038979</td>\n",
              "      <td>0.034406</td>\n",
              "      <td>-0.024925</td>\n",
              "      <td>0.035949</td>\n",
              "    </tr>\n",
              "    <tr>\n",
              "      <th>bc_util</th>\n",
              "      <td>0.035245</td>\n",
              "      <td>0.035245</td>\n",
              "      <td>0.046113</td>\n",
              "      <td>0.246672</td>\n",
              "      <td>0.051590</td>\n",
              "      <td>0.245819</td>\n",
              "      <td>-0.009175</td>\n",
              "      <td>0.183594</td>\n",
              "      <td>0.020253</td>\n",
              "      <td>-0.459830</td>\n",
              "      <td>-0.459830</td>\n",
              "      <td>-0.106116</td>\n",
              "      <td>0.825018</td>\n",
              "      <td>-0.025492</td>\n",
              "      <td>-0.139493</td>\n",
              "      <td>0.059794</td>\n",
              "      <td>-0.547810</td>\n",
              "      <td>1.000000</td>\n",
              "      <td>-0.032159</td>\n",
              "      <td>0.118152</td>\n",
              "      <td>-0.015608</td>\n",
              "      <td>0.096512</td>\n",
              "      <td>0.020025</td>\n",
              "      <td>0.035199</td>\n",
              "      <td>-0.000412</td>\n",
              "      <td>0.048805</td>\n",
              "      <td>0.037113</td>\n",
              "      <td>-0.009499</td>\n",
              "    </tr>\n",
              "    <tr>\n",
              "      <th>mo_sin_old_rev_tl_op</th>\n",
              "      <td>0.179364</td>\n",
              "      <td>0.179364</td>\n",
              "      <td>0.024166</td>\n",
              "      <td>-0.153263</td>\n",
              "      <td>0.163315</td>\n",
              "      <td>-0.152921</td>\n",
              "      <td>0.159430</td>\n",
              "      <td>0.029656</td>\n",
              "      <td>-0.923234</td>\n",
              "      <td>0.116309</td>\n",
              "      <td>0.116310</td>\n",
              "      <td>0.130891</td>\n",
              "      <td>-0.011868</td>\n",
              "      <td>0.073974</td>\n",
              "      <td>-0.045976</td>\n",
              "      <td>0.138993</td>\n",
              "      <td>0.194908</td>\n",
              "      <td>-0.032159</td>\n",
              "      <td>1.000000</td>\n",
              "      <td>0.058502</td>\n",
              "      <td>0.304586</td>\n",
              "      <td>0.157565</td>\n",
              "      <td>-0.210318</td>\n",
              "      <td>-0.007985</td>\n",
              "      <td>0.097124</td>\n",
              "      <td>0.010807</td>\n",
              "      <td>0.008402</td>\n",
              "      <td>0.023844</td>\n",
              "    </tr>\n",
              "    <tr>\n",
              "      <th>mo_sin_rcnt_rev_tl_op</th>\n",
              "      <td>0.055015</td>\n",
              "      <td>0.055015</td>\n",
              "      <td>-0.009404</td>\n",
              "      <td>-0.124426</td>\n",
              "      <td>0.044395</td>\n",
              "      <td>-0.123908</td>\n",
              "      <td>0.043774</td>\n",
              "      <td>-0.023141</td>\n",
              "      <td>-0.052819</td>\n",
              "      <td>0.103099</td>\n",
              "      <td>0.103100</td>\n",
              "      <td>-0.227460</td>\n",
              "      <td>0.187005</td>\n",
              "      <td>0.014097</td>\n",
              "      <td>-0.407743</td>\n",
              "      <td>0.168077</td>\n",
              "      <td>-0.050565</td>\n",
              "      <td>0.118152</td>\n",
              "      <td>0.058502</td>\n",
              "      <td>1.000000</td>\n",
              "      <td>0.020430</td>\n",
              "      <td>-0.227545</td>\n",
              "      <td>-0.008773</td>\n",
              "      <td>-0.000969</td>\n",
              "      <td>-0.025957</td>\n",
              "      <td>0.011195</td>\n",
              "      <td>-0.023407</td>\n",
              "      <td>0.009077</td>\n",
              "    </tr>\n",
              "    <tr>\n",
              "      <th>mort_acc</th>\n",
              "      <td>0.241954</td>\n",
              "      <td>0.241954</td>\n",
              "      <td>0.099086</td>\n",
              "      <td>-0.078239</td>\n",
              "      <td>0.214367</td>\n",
              "      <td>-0.077277</td>\n",
              "      <td>0.252861</td>\n",
              "      <td>-0.068518</td>\n",
              "      <td>-0.298256</td>\n",
              "      <td>0.089885</td>\n",
              "      <td>0.089885</td>\n",
              "      <td>0.112283</td>\n",
              "      <td>0.010233</td>\n",
              "      <td>0.180262</td>\n",
              "      <td>0.063322</td>\n",
              "      <td>0.448536</td>\n",
              "      <td>0.127540</td>\n",
              "      <td>-0.015608</td>\n",
              "      <td>0.304586</td>\n",
              "      <td>0.020430</td>\n",
              "      <td>1.000000</td>\n",
              "      <td>0.050591</td>\n",
              "      <td>-0.442700</td>\n",
              "      <td>-0.016987</td>\n",
              "      <td>0.064917</td>\n",
              "      <td>-0.007204</td>\n",
              "      <td>0.009019</td>\n",
              "      <td>0.039043</td>\n",
              "    </tr>\n",
              "    <tr>\n",
              "      <th>num_actv_rev_tl</th>\n",
              "      <td>0.153569</td>\n",
              "      <td>0.153569</td>\n",
              "      <td>0.049406</td>\n",
              "      <td>0.082477</td>\n",
              "      <td>0.159329</td>\n",
              "      <td>0.081448</td>\n",
              "      <td>0.072760</td>\n",
              "      <td>0.255069</td>\n",
              "      <td>-0.147584</td>\n",
              "      <td>-0.156617</td>\n",
              "      <td>-0.156617</td>\n",
              "      <td>0.664854</td>\n",
              "      <td>0.077041</td>\n",
              "      <td>0.019300</td>\n",
              "      <td>0.336097</td>\n",
              "      <td>-0.157392</td>\n",
              "      <td>0.122593</td>\n",
              "      <td>0.096512</td>\n",
              "      <td>0.157565</td>\n",
              "      <td>-0.227545</td>\n",
              "      <td>0.050591</td>\n",
              "      <td>1.000000</td>\n",
              "      <td>-0.074416</td>\n",
              "      <td>-0.017245</td>\n",
              "      <td>0.119610</td>\n",
              "      <td>0.038114</td>\n",
              "      <td>0.049648</td>\n",
              "      <td>0.003009</td>\n",
              "    </tr>\n",
              "    <tr>\n",
              "      <th>home_ownership_RENT</th>\n",
              "      <td>-0.185336</td>\n",
              "      <td>-0.185336</td>\n",
              "      <td>-0.092168</td>\n",
              "      <td>0.069182</td>\n",
              "      <td>-0.160240</td>\n",
              "      <td>0.068081</td>\n",
              "      <td>-0.156225</td>\n",
              "      <td>-0.000791</td>\n",
              "      <td>0.214746</td>\n",
              "      <td>-0.128729</td>\n",
              "      <td>-0.128729</td>\n",
              "      <td>-0.114699</td>\n",
              "      <td>0.000847</td>\n",
              "      <td>-0.136714</td>\n",
              "      <td>-0.058044</td>\n",
              "      <td>-0.414130</td>\n",
              "      <td>-0.107595</td>\n",
              "      <td>0.020025</td>\n",
              "      <td>-0.210318</td>\n",
              "      <td>-0.008773</td>\n",
              "      <td>-0.442700</td>\n",
              "      <td>-0.074416</td>\n",
              "      <td>1.000000</td>\n",
              "      <td>0.027451</td>\n",
              "      <td>-0.047391</td>\n",
              "      <td>0.015144</td>\n",
              "      <td>0.006075</td>\n",
              "      <td>-0.040689</td>\n",
              "    </tr>\n",
              "    <tr>\n",
              "      <th>verification_status_Source Verified</th>\n",
              "      <td>0.124784</td>\n",
              "      <td>0.124784</td>\n",
              "      <td>0.142710</td>\n",
              "      <td>0.034614</td>\n",
              "      <td>0.097286</td>\n",
              "      <td>0.035448</td>\n",
              "      <td>0.027402</td>\n",
              "      <td>0.049590</td>\n",
              "      <td>0.006317</td>\n",
              "      <td>-0.030043</td>\n",
              "      <td>-0.030042</td>\n",
              "      <td>-0.019791</td>\n",
              "      <td>0.041584</td>\n",
              "      <td>0.060840</td>\n",
              "      <td>-0.017479</td>\n",
              "      <td>-0.022042</td>\n",
              "      <td>-0.007962</td>\n",
              "      <td>0.035199</td>\n",
              "      <td>-0.007985</td>\n",
              "      <td>-0.000969</td>\n",
              "      <td>-0.016987</td>\n",
              "      <td>-0.017245</td>\n",
              "      <td>0.027451</td>\n",
              "      <td>1.000000</td>\n",
              "      <td>-0.494319</td>\n",
              "      <td>-0.010685</td>\n",
              "      <td>0.038662</td>\n",
              "      <td>0.051706</td>\n",
              "    </tr>\n",
              "    <tr>\n",
              "      <th>verification_status_Verified</th>\n",
              "      <td>0.245929</td>\n",
              "      <td>0.245929</td>\n",
              "      <td>0.080076</td>\n",
              "      <td>0.205737</td>\n",
              "      <td>0.254309</td>\n",
              "      <td>0.207645</td>\n",
              "      <td>0.073827</td>\n",
              "      <td>0.045077</td>\n",
              "      <td>-0.097256</td>\n",
              "      <td>-0.021060</td>\n",
              "      <td>-0.021059</td>\n",
              "      <td>0.086464</td>\n",
              "      <td>0.013746</td>\n",
              "      <td>0.125690</td>\n",
              "      <td>0.143241</td>\n",
              "      <td>0.038871</td>\n",
              "      <td>0.038979</td>\n",
              "      <td>-0.000412</td>\n",
              "      <td>0.097124</td>\n",
              "      <td>-0.025957</td>\n",
              "      <td>0.064917</td>\n",
              "      <td>0.119610</td>\n",
              "      <td>-0.047391</td>\n",
              "      <td>-0.494319</td>\n",
              "      <td>1.000000</td>\n",
              "      <td>-0.025063</td>\n",
              "      <td>0.011433</td>\n",
              "      <td>-0.001405</td>\n",
              "    </tr>\n",
              "    <tr>\n",
              "      <th>purpose_credit_card</th>\n",
              "      <td>0.040756</td>\n",
              "      <td>0.040756</td>\n",
              "      <td>-0.037796</td>\n",
              "      <td>-0.214897</td>\n",
              "      <td>0.029269</td>\n",
              "      <td>-0.215312</td>\n",
              "      <td>-0.002254</td>\n",
              "      <td>-0.013306</td>\n",
              "      <td>-0.003730</td>\n",
              "      <td>0.002703</td>\n",
              "      <td>0.002702</td>\n",
              "      <td>0.013833</td>\n",
              "      <td>0.065116</td>\n",
              "      <td>-0.015681</td>\n",
              "      <td>-0.055010</td>\n",
              "      <td>-0.004223</td>\n",
              "      <td>0.034406</td>\n",
              "      <td>0.048805</td>\n",
              "      <td>0.010807</td>\n",
              "      <td>0.011195</td>\n",
              "      <td>-0.007204</td>\n",
              "      <td>0.038114</td>\n",
              "      <td>0.015144</td>\n",
              "      <td>-0.010685</td>\n",
              "      <td>-0.025063</td>\n",
              "      <td>1.000000</td>\n",
              "      <td>-0.673695</td>\n",
              "      <td>0.009675</td>\n",
              "    </tr>\n",
              "    <tr>\n",
              "      <th>purpose_debt_consolidation</th>\n",
              "      <td>0.086807</td>\n",
              "      <td>0.086807</td>\n",
              "      <td>0.077619</td>\n",
              "      <td>0.088257</td>\n",
              "      <td>0.084410</td>\n",
              "      <td>0.087888</td>\n",
              "      <td>-0.020281</td>\n",
              "      <td>0.082383</td>\n",
              "      <td>-0.008860</td>\n",
              "      <td>-0.033653</td>\n",
              "      <td>-0.033653</td>\n",
              "      <td>0.046817</td>\n",
              "      <td>0.025476</td>\n",
              "      <td>0.070973</td>\n",
              "      <td>0.057629</td>\n",
              "      <td>-0.022212</td>\n",
              "      <td>-0.024925</td>\n",
              "      <td>0.037113</td>\n",
              "      <td>0.008402</td>\n",
              "      <td>-0.023407</td>\n",
              "      <td>0.009019</td>\n",
              "      <td>0.049648</td>\n",
              "      <td>0.006075</td>\n",
              "      <td>0.038662</td>\n",
              "      <td>0.011433</td>\n",
              "      <td>-0.673695</td>\n",
              "      <td>1.000000</td>\n",
              "      <td>0.018100</td>\n",
              "    </tr>\n",
              "    <tr>\n",
              "      <th>initial_list_status_w</th>\n",
              "      <td>0.108390</td>\n",
              "      <td>0.108390</td>\n",
              "      <td>0.290630</td>\n",
              "      <td>0.028108</td>\n",
              "      <td>0.028257</td>\n",
              "      <td>0.029894</td>\n",
              "      <td>0.017401</td>\n",
              "      <td>0.005675</td>\n",
              "      <td>-0.022950</td>\n",
              "      <td>0.040094</td>\n",
              "      <td>0.040094</td>\n",
              "      <td>0.020148</td>\n",
              "      <td>-0.003740</td>\n",
              "      <td>0.108466</td>\n",
              "      <td>-0.004634</td>\n",
              "      <td>0.030607</td>\n",
              "      <td>0.035949</td>\n",
              "      <td>-0.009499</td>\n",
              "      <td>0.023844</td>\n",
              "      <td>0.009077</td>\n",
              "      <td>0.039043</td>\n",
              "      <td>0.003009</td>\n",
              "      <td>-0.040689</td>\n",
              "      <td>0.051706</td>\n",
              "      <td>-0.001405</td>\n",
              "      <td>0.009675</td>\n",
              "      <td>0.018100</td>\n",
              "      <td>1.000000</td>\n",
              "    </tr>\n",
              "  </tbody>\n",
              "</table>\n",
              "</div>\n",
              "      <button class=\"colab-df-convert\" onclick=\"convertToInteractive('df-420106d6-9b8a-413e-82b3-26d724233c09')\"\n",
              "              title=\"Convert this dataframe to an interactive table.\"\n",
              "              style=\"display:none;\">\n",
              "        \n",
              "  <svg xmlns=\"http://www.w3.org/2000/svg\" height=\"24px\"viewBox=\"0 0 24 24\"\n",
              "       width=\"24px\">\n",
              "    <path d=\"M0 0h24v24H0V0z\" fill=\"none\"/>\n",
              "    <path d=\"M18.56 5.44l.94 2.06.94-2.06 2.06-.94-2.06-.94-.94-2.06-.94 2.06-2.06.94zm-11 1L8.5 8.5l.94-2.06 2.06-.94-2.06-.94L8.5 2.5l-.94 2.06-2.06.94zm10 10l.94 2.06.94-2.06 2.06-.94-2.06-.94-.94-2.06-.94 2.06-2.06.94z\"/><path d=\"M17.41 7.96l-1.37-1.37c-.4-.4-.92-.59-1.43-.59-.52 0-1.04.2-1.43.59L10.3 9.45l-7.72 7.72c-.78.78-.78 2.05 0 2.83L4 21.41c.39.39.9.59 1.41.59.51 0 1.02-.2 1.41-.59l7.78-7.78 2.81-2.81c.8-.78.8-2.07 0-2.86zM5.41 20L4 18.59l7.72-7.72 1.47 1.35L5.41 20z\"/>\n",
              "  </svg>\n",
              "      </button>\n",
              "      \n",
              "  <style>\n",
              "    .colab-df-container {\n",
              "      display:flex;\n",
              "      flex-wrap:wrap;\n",
              "      gap: 12px;\n",
              "    }\n",
              "\n",
              "    .colab-df-convert {\n",
              "      background-color: #E8F0FE;\n",
              "      border: none;\n",
              "      border-radius: 50%;\n",
              "      cursor: pointer;\n",
              "      display: none;\n",
              "      fill: #1967D2;\n",
              "      height: 32px;\n",
              "      padding: 0 0 0 0;\n",
              "      width: 32px;\n",
              "    }\n",
              "\n",
              "    .colab-df-convert:hover {\n",
              "      background-color: #E2EBFA;\n",
              "      box-shadow: 0px 1px 2px rgba(60, 64, 67, 0.3), 0px 1px 3px 1px rgba(60, 64, 67, 0.15);\n",
              "      fill: #174EA6;\n",
              "    }\n",
              "\n",
              "    [theme=dark] .colab-df-convert {\n",
              "      background-color: #3B4455;\n",
              "      fill: #D2E3FC;\n",
              "    }\n",
              "\n",
              "    [theme=dark] .colab-df-convert:hover {\n",
              "      background-color: #434B5C;\n",
              "      box-shadow: 0px 1px 3px 1px rgba(0, 0, 0, 0.15);\n",
              "      filter: drop-shadow(0px 1px 2px rgba(0, 0, 0, 0.3));\n",
              "      fill: #FFFFFF;\n",
              "    }\n",
              "  </style>\n",
              "\n",
              "      <script>\n",
              "        const buttonEl =\n",
              "          document.querySelector('#df-420106d6-9b8a-413e-82b3-26d724233c09 button.colab-df-convert');\n",
              "        buttonEl.style.display =\n",
              "          google.colab.kernel.accessAllowed ? 'block' : 'none';\n",
              "\n",
              "        async function convertToInteractive(key) {\n",
              "          const element = document.querySelector('#df-420106d6-9b8a-413e-82b3-26d724233c09');\n",
              "          const dataTable =\n",
              "            await google.colab.kernel.invokeFunction('convertToInteractive',\n",
              "                                                     [key], {});\n",
              "          if (!dataTable) return;\n",
              "\n",
              "          const docLinkHtml = 'Like what you see? Visit the ' +\n",
              "            '<a target=\"_blank\" href=https://colab.research.google.com/notebooks/data_table.ipynb>data table notebook</a>'\n",
              "            + ' to learn more about interactive tables.';\n",
              "          element.innerHTML = '';\n",
              "          dataTable['output_type'] = 'display_data';\n",
              "          await google.colab.output.renderOutput(dataTable, element);\n",
              "          const docLink = document.createElement('div');\n",
              "          docLink.innerHTML = docLinkHtml;\n",
              "          element.appendChild(docLink);\n",
              "        }\n",
              "      </script>\n",
              "    </div>\n",
              "  </div>\n",
              "  "
            ],
            "text/plain": [
              "                                     loan_amnt  ...  initial_list_status_w\n",
              "loan_amnt                             1.000000  ...               0.108390\n",
              "funded_amnt                           1.000000  ...               0.108390\n",
              "term                                  0.367128  ...               0.290630\n",
              "int_rate                              0.081989  ...               0.028108\n",
              "installment                           0.956719  ...               0.028257\n",
              "sub_grade                             0.085489  ...               0.029894\n",
              "annual_inc                            0.375334  ...               0.017401\n",
              "dti                                   0.004032  ...               0.005675\n",
              "earliest_cr_line                     -0.170876  ...              -0.022950\n",
              "fico_range_low                        0.145435  ...               0.040094\n",
              "fico_range_high                       0.145433  ...               0.040094\n",
              "open_acc                              0.189378  ...               0.020148\n",
              "revol_util                            0.112908  ...              -0.003740\n",
              "last_pymnt_amnt                       0.483557  ...               0.108466\n",
              "acc_open_past_24mths                 -0.002054  ...              -0.004634\n",
              "avg_cur_bal                           0.249615  ...               0.030607\n",
              "bc_open_to_buy                        0.227233  ...               0.035949\n",
              "bc_util                               0.035245  ...              -0.009499\n",
              "mo_sin_old_rev_tl_op                  0.179364  ...               0.023844\n",
              "mo_sin_rcnt_rev_tl_op                 0.055015  ...               0.009077\n",
              "mort_acc                              0.241954  ...               0.039043\n",
              "num_actv_rev_tl                       0.153569  ...               0.003009\n",
              "home_ownership_RENT                  -0.185336  ...              -0.040689\n",
              "verification_status_Source Verified   0.124784  ...               0.051706\n",
              "verification_status_Verified          0.245929  ...              -0.001405\n",
              "purpose_credit_card                   0.040756  ...               0.009675\n",
              "purpose_debt_consolidation            0.086807  ...               0.018100\n",
              "initial_list_status_w                 0.108390  ...               1.000000\n",
              "\n",
              "[28 rows x 28 columns]"
            ]
          },
          "metadata": {},
          "execution_count": 178
        }
      ]
    },
    {
      "cell_type": "code",
      "metadata": {
        "colab": {
          "base_uri": "https://localhost:8080/",
          "height": 530
        },
        "id": "tyOPXVrhoCCZ",
        "outputId": "79ff0a5e-976c-4d55-90b6-731b547b4458"
      },
      "source": [
        "sns.heatmap(feature_correlation, \n",
        "        xticklabels=feature_correlation.columns,\n",
        "        yticklabels=feature_correlation.columns, center=0)"
      ],
      "execution_count": 179,
      "outputs": [
        {
          "output_type": "execute_result",
          "data": {
            "text/plain": [
              "<matplotlib.axes._subplots.AxesSubplot at 0x7fe3240a31d0>"
            ]
          },
          "metadata": {},
          "execution_count": 179
        },
        {
          "output_type": "display_data",
          "data": {
            "image/png": "[encoded data removed]",
            "text/plain": [
              "<Figure size 864x360 with 2 Axes>"
            ]
          },
          "metadata": {}
        }
      ]
    },
    {
      "cell_type": "code",
      "metadata": {
        "colab": {
          "base_uri": "https://localhost:8080/"
        },
        "id": "98guG9dIDVua",
        "outputId": "339fb63b-1a02-4e30-ab37-156b3cff2056"
      },
      "source": [
        "# Solo usaremos la matriz triangular\n",
        "# Recuerda que la matriz de correlacion es simetrica\n",
        "upper = feature_correlation.where(np.triu(np.ones(\n",
        "    feature_correlation.shape), k=1).astype(np.bool))\n",
        "\n",
        "# Encuentra variables con correlacion mayor a threshold\n",
        "to_drop = [column for column in upper.columns if any(upper[column] > 0.9)]\n",
        "\n",
        "to_drop"
      ],
      "execution_count": 180,
      "outputs": [
        {
          "output_type": "execute_result",
          "data": {
            "text/plain": [
              "['funded_amnt', 'installment', 'sub_grade', 'fico_range_high']"
            ]
          },
          "metadata": {},
          "execution_count": 180
        }
      ]
    },
    {
      "cell_type": "code",
      "metadata": {
        "id": "7pH-GM2kDdgb"
      },
      "source": [
        "# Eliminar columnas \n",
        "dataset.drop(to_drop, axis=1, inplace=True)"
      ],
      "execution_count": 181,
      "outputs": []
    },
    {
      "cell_type": "code",
      "metadata": {
        "colab": {
          "base_uri": "https://localhost:8080/",
          "height": 530
        },
        "id": "RoX0EfXVowP0",
        "outputId": "02910441-28f8-4576-e720-eac437123828"
      },
      "source": [
        "feature_correlation = dataset.loc[:, dataset.columns != 'charged_off'].corr()\n",
        "sns.heatmap(feature_correlation, \n",
        "        xticklabels=feature_correlation.columns,\n",
        "        yticklabels=feature_correlation.columns, center=0)"
      ],
      "execution_count": 182,
      "outputs": [
        {
          "output_type": "execute_result",
          "data": {
            "text/plain": [
              "<matplotlib.axes._subplots.AxesSubplot at 0x7fe3232b9650>"
            ]
          },
          "metadata": {},
          "execution_count": 182
        },
        {
          "output_type": "display_data",
          "data": {
            "image/png": "[encoded data removed]",
            "text/plain": [
              "<Figure size 864x360 with 2 Axes>"
            ]
          },
          "metadata": {}
        }
      ]
    },
    {
      "cell_type": "code",
      "metadata": {
        "colab": {
          "base_uri": "https://localhost:8080/"
        },
        "id": "tPHpkoNUvkKO",
        "outputId": "be300d7b-8dc7-4816-c44d-a45b50fd13cf"
      },
      "source": [
        "from scipy.stats import mode\n",
        "df = pd.DataFrame({'mode_control':['b','b','b','c','a','a','a'], \n",
        "                   'iden':list(range(0,7)), 'rand':np.random.rand(7)})\n",
        "# df = pd.DataFrame({'mode_control':[3,3,3,5,2,2,2], \n",
        "#                    'iden':list(range(0,7)), 'rand':np.random.rand(7)})\n",
        "mode(df['mode_control'])"
      ],
      "execution_count": 183,
      "outputs": [
        {
          "output_type": "execute_result",
          "data": {
            "text/plain": [
              "ModeResult(mode=array(['a'], dtype=object), count=array([3]))"
            ]
          },
          "metadata": {},
          "execution_count": 183
        }
      ]
    },
    {
      "cell_type": "code",
      "metadata": {
        "colab": {
          "base_uri": "https://localhost:8080/"
        },
        "id": "cNq9auKEUYT-",
        "outputId": "04510282-e7fb-4029-ee20-ba5f4e9209b2"
      },
      "source": [
        "df.value_counts"
      ],
      "execution_count": 184,
      "outputs": [
        {
          "output_type": "execute_result",
          "data": {
            "text/plain": [
              "<bound method DataFrame.value_counts of   mode_control  iden      rand\n",
              "0            b     0  0.895353\n",
              "1            b     1  0.079303\n",
              "2            b     2  0.020529\n",
              "3            c     3  0.501347\n",
              "4            a     4  0.532530\n",
              "5            a     5  0.616877\n",
              "6            a     6  0.352050>"
            ]
          },
          "metadata": {},
          "execution_count": 184
        }
      ]
    },
    {
      "cell_type": "code",
      "metadata": {
        "id": "NS3CAbUGWUwl"
      },
      "source": [
        "def mode1(x):\n",
        "    values, counts = np.unique(x, return_counts=True)\n",
        "    m = counts.argmax()\n",
        "    return m"
      ],
      "execution_count": 185,
      "outputs": []
    },
    {
      "cell_type": "code",
      "metadata": {
        "colab": {
          "base_uri": "https://localhost:8080/"
        },
        "id": "HUNY8OwBWV5r",
        "outputId": "de956f49-e6bf-4a5b-a855-1492bc1abcd4"
      },
      "source": [
        "from collections import Counter\n",
        "from itertools import groupby\n",
        "\n",
        "l = df['mode_control']\n",
        "# group most_common output by frequency\n",
        "freqs = groupby(Counter(l).most_common(), lambda x:x[1])\n",
        "# pick off the first group (highest frequency)\n",
        "print([val for val,count in next(freqs)[1]])"
      ],
      "execution_count": 186,
      "outputs": [
        {
          "output_type": "stream",
          "name": "stdout",
          "text": [
            "['b', 'a']\n"
          ]
        }
      ]
    },
    {
      "cell_type": "code",
      "metadata": {
        "colab": {
          "base_uri": "https://localhost:8080/",
          "height": 44
        },
        "id": "JLBYIhosZ8Cc",
        "outputId": "3bd775bd-2129-498d-e936-1a7030964d47"
      },
      "source": [
        "df.sample(axis='columns').columns[0]"
      ],
      "execution_count": 187,
      "outputs": [
        {
          "output_type": "execute_result",
          "data": {
            "application/vnd.google.colaboratory.intrinsic+json": {
              "type": "string"
            },
            "text/plain": [
              "'mode_control'"
            ]
          },
          "metadata": {},
          "execution_count": 187
        }
      ]
    },
    {
      "cell_type": "markdown",
      "metadata": {
        "id": "VZGKu2qZpXMU"
      },
      "source": [
        "# Modelaje"
      ]
    },
    {
      "cell_type": "markdown",
      "metadata": {
        "id": "ZU8C6vdipYF1"
      },
      "source": [
        "**Nota**: Para conducir los procesos anteriores no dividimos train y test, por lo que existe **leakage** en nuestro modelo. Sin embargo, dado que este es un subsample (150K) de la base completa (887K) no hay tanto problema pues tenemos muchas observaciones para hacer validacion.  \n",
        "\n",
        "Sin embargo, cualquier division que hagamos de los datos que ya analizamos tendra leakage. Por ejemplo, vamos a subestimar el error, pues usamos correlacion con la varaible objetivo para elegir variables.  \n",
        "\n",
        "Normalemente se hacen analisis de esta manera si sabemos que tendremos mucho mas datos nuevos. Aunque, en estricto sentido esta mal, pero nos ayuda a ahorrarnos tiempo y hacer el codigo mas sencillo. Pues no tenemos que manejar diferentes bases.  \n",
        "\n",
        "Lo correcto es al acabar este analisis, es optimizar/refactor el codigo que tenemos y entonces si hacer un analisis con lo aprendido y con los datos divididos desde el inicio."
      ]
    },
    {
      "cell_type": "markdown",
      "metadata": {
        "id": "mLiBJy7_s7HN"
      },
      "source": [
        "## (sub) Sampleo de Datos"
      ]
    },
    {
      "cell_type": "markdown",
      "metadata": {
        "id": "8mHTY2fBwR4F"
      },
      "source": [
        "Dado que tenemos clases desbalanceadas podemos realizar subsampling (reduccion) de la clase con mas etiquetas, o oversampling (aumento) de la clase con menos etiquetas.  Para la clase realizaremos, subsampling. De **tarea** realiza oversampling (seccion de abajo)."
      ]
    },
    {
      "cell_type": "code",
      "metadata": {
        "id": "aUy2_MvT9gN4"
      },
      "source": [
        "df = dataset.copy()"
      ],
      "execution_count": 188,
      "outputs": []
    },
    {
      "cell_type": "code",
      "metadata": {
        "id": "CdGEm1uwtjcb"
      },
      "source": [
        "df.rename(columns={'charged_off':'y'}, inplace=True)"
      ],
      "execution_count": 189,
      "outputs": []
    },
    {
      "cell_type": "code",
      "metadata": {
        "colab": {
          "base_uri": "https://localhost:8080/"
        },
        "id": "MG1PIwTOs_fj",
        "outputId": "6cea951b-c5b9-44f4-d575-8bccfdd0a119"
      },
      "source": [
        "df['y'].value_counts()"
      ],
      "execution_count": 190,
      "outputs": [
        {
          "output_type": "execute_result",
          "data": {
            "text/plain": [
              "0    69981\n",
              "1    16156\n",
              "Name: y, dtype: int64"
            ]
          },
          "metadata": {},
          "execution_count": 190
        }
      ]
    },
    {
      "cell_type": "code",
      "source": [
        "df.shape"
      ],
      "metadata": {
        "colab": {
          "base_uri": "https://localhost:8080/"
        },
        "id": "4sKj1wlYLAxS",
        "outputId": "8aa6e7be-d16c-4eca-dcaa-e7099814cc7a"
      },
      "execution_count": 191,
      "outputs": [
        {
          "output_type": "execute_result",
          "data": {
            "text/plain": [
              "(86137, 25)"
            ]
          },
          "metadata": {},
          "execution_count": 191
        }
      ]
    },
    {
      "cell_type": "code",
      "source": [
        "df.head()"
      ],
      "metadata": {
        "colab": {
          "base_uri": "https://localhost:8080/",
          "height": 355
        },
        "id": "EmB-pHE4LFej",
        "outputId": "d111d8cc-f863-48f5-91d1-eba53db11a57"
      },
      "execution_count": 192,
      "outputs": [
        {
          "output_type": "execute_result",
          "data": {
            "text/html": [
              "\n",
              "  <div id=\"df-e5d76b7e-38f1-48d1-a5dd-01fdfee7349a\">\n",
              "    <div class=\"colab-df-container\">\n",
              "      <div>\n",
              "<style scoped>\n",
              "    .dataframe tbody tr th:only-of-type {\n",
              "        vertical-align: middle;\n",
              "    }\n",
              "\n",
              "    .dataframe tbody tr th {\n",
              "        vertical-align: top;\n",
              "    }\n",
              "\n",
              "    .dataframe thead th {\n",
              "        text-align: right;\n",
              "    }\n",
              "</style>\n",
              "<table border=\"1\" class=\"dataframe\">\n",
              "  <thead>\n",
              "    <tr style=\"text-align: right;\">\n",
              "      <th></th>\n",
              "      <th>loan_amnt</th>\n",
              "      <th>term</th>\n",
              "      <th>int_rate</th>\n",
              "      <th>annual_inc</th>\n",
              "      <th>dti</th>\n",
              "      <th>earliest_cr_line</th>\n",
              "      <th>fico_range_low</th>\n",
              "      <th>open_acc</th>\n",
              "      <th>revol_util</th>\n",
              "      <th>last_pymnt_amnt</th>\n",
              "      <th>acc_open_past_24mths</th>\n",
              "      <th>avg_cur_bal</th>\n",
              "      <th>bc_open_to_buy</th>\n",
              "      <th>bc_util</th>\n",
              "      <th>mo_sin_old_rev_tl_op</th>\n",
              "      <th>mo_sin_rcnt_rev_tl_op</th>\n",
              "      <th>mort_acc</th>\n",
              "      <th>num_actv_rev_tl</th>\n",
              "      <th>y</th>\n",
              "      <th>home_ownership_RENT</th>\n",
              "      <th>verification_status_Source Verified</th>\n",
              "      <th>verification_status_Verified</th>\n",
              "      <th>purpose_credit_card</th>\n",
              "      <th>purpose_debt_consolidation</th>\n",
              "      <th>initial_list_status_w</th>\n",
              "    </tr>\n",
              "  </thead>\n",
              "  <tbody>\n",
              "    <tr>\n",
              "      <th>0</th>\n",
              "      <td>15000.0</td>\n",
              "      <td>60</td>\n",
              "      <td>12.39</td>\n",
              "      <td>78000.0</td>\n",
              "      <td>12.03</td>\n",
              "      <td>1994</td>\n",
              "      <td>750.0</td>\n",
              "      <td>6.0</td>\n",
              "      <td>29.0</td>\n",
              "      <td>12017.81</td>\n",
              "      <td>5.0</td>\n",
              "      <td>29828.0</td>\n",
              "      <td>9525.0</td>\n",
              "      <td>4.7</td>\n",
              "      <td>244.0</td>\n",
              "      <td>1.0</td>\n",
              "      <td>0.0</td>\n",
              "      <td>4.0</td>\n",
              "      <td>0</td>\n",
              "      <td>1</td>\n",
              "      <td>1</td>\n",
              "      <td>0</td>\n",
              "      <td>0</td>\n",
              "      <td>1</td>\n",
              "      <td>1</td>\n",
              "    </tr>\n",
              "    <tr>\n",
              "      <th>1</th>\n",
              "      <td>10400.0</td>\n",
              "      <td>36</td>\n",
              "      <td>6.99</td>\n",
              "      <td>58000.0</td>\n",
              "      <td>14.92</td>\n",
              "      <td>1989</td>\n",
              "      <td>710.0</td>\n",
              "      <td>17.0</td>\n",
              "      <td>31.6</td>\n",
              "      <td>321.08</td>\n",
              "      <td>7.0</td>\n",
              "      <td>9536.0</td>\n",
              "      <td>7599.0</td>\n",
              "      <td>41.5</td>\n",
              "      <td>290.0</td>\n",
              "      <td>1.0</td>\n",
              "      <td>1.0</td>\n",
              "      <td>9.0</td>\n",
              "      <td>1</td>\n",
              "      <td>0</td>\n",
              "      <td>0</td>\n",
              "      <td>0</td>\n",
              "      <td>1</td>\n",
              "      <td>0</td>\n",
              "      <td>1</td>\n",
              "    </tr>\n",
              "    <tr>\n",
              "      <th>2</th>\n",
              "      <td>21425.0</td>\n",
              "      <td>60</td>\n",
              "      <td>15.59</td>\n",
              "      <td>63800.0</td>\n",
              "      <td>18.49</td>\n",
              "      <td>2003</td>\n",
              "      <td>685.0</td>\n",
              "      <td>10.0</td>\n",
              "      <td>76.2</td>\n",
              "      <td>17813.19</td>\n",
              "      <td>4.0</td>\n",
              "      <td>4232.0</td>\n",
              "      <td>324.0</td>\n",
              "      <td>97.8</td>\n",
              "      <td>136.0</td>\n",
              "      <td>7.0</td>\n",
              "      <td>0.0</td>\n",
              "      <td>4.0</td>\n",
              "      <td>0</td>\n",
              "      <td>1</td>\n",
              "      <td>1</td>\n",
              "      <td>0</td>\n",
              "      <td>1</td>\n",
              "      <td>0</td>\n",
              "      <td>1</td>\n",
              "    </tr>\n",
              "    <tr>\n",
              "      <th>4</th>\n",
              "      <td>7650.0</td>\n",
              "      <td>36</td>\n",
              "      <td>13.66</td>\n",
              "      <td>50000.0</td>\n",
              "      <td>34.81</td>\n",
              "      <td>2002</td>\n",
              "      <td>685.0</td>\n",
              "      <td>11.0</td>\n",
              "      <td>91.9</td>\n",
              "      <td>17.70</td>\n",
              "      <td>6.0</td>\n",
              "      <td>5857.0</td>\n",
              "      <td>332.0</td>\n",
              "      <td>93.2</td>\n",
              "      <td>148.0</td>\n",
              "      <td>8.0</td>\n",
              "      <td>0.0</td>\n",
              "      <td>4.0</td>\n",
              "      <td>1</td>\n",
              "      <td>1</td>\n",
              "      <td>1</td>\n",
              "      <td>0</td>\n",
              "      <td>0</td>\n",
              "      <td>1</td>\n",
              "      <td>0</td>\n",
              "    </tr>\n",
              "    <tr>\n",
              "      <th>5</th>\n",
              "      <td>9600.0</td>\n",
              "      <td>36</td>\n",
              "      <td>13.66</td>\n",
              "      <td>69000.0</td>\n",
              "      <td>25.81</td>\n",
              "      <td>1992</td>\n",
              "      <td>680.0</td>\n",
              "      <td>12.0</td>\n",
              "      <td>59.4</td>\n",
              "      <td>9338.58</td>\n",
              "      <td>8.0</td>\n",
              "      <td>3214.0</td>\n",
              "      <td>6494.0</td>\n",
              "      <td>69.2</td>\n",
              "      <td>265.0</td>\n",
              "      <td>23.0</td>\n",
              "      <td>0.0</td>\n",
              "      <td>7.0</td>\n",
              "      <td>0</td>\n",
              "      <td>1</td>\n",
              "      <td>1</td>\n",
              "      <td>0</td>\n",
              "      <td>0</td>\n",
              "      <td>1</td>\n",
              "      <td>0</td>\n",
              "    </tr>\n",
              "  </tbody>\n",
              "</table>\n",
              "</div>\n",
              "      <button class=\"colab-df-convert\" onclick=\"convertToInteractive('df-e5d76b7e-38f1-48d1-a5dd-01fdfee7349a')\"\n",
              "              title=\"Convert this dataframe to an interactive table.\"\n",
              "              style=\"display:none;\">\n",
              "        \n",
              "  <svg xmlns=\"http://www.w3.org/2000/svg\" height=\"24px\"viewBox=\"0 0 24 24\"\n",
              "       width=\"24px\">\n",
              "    <path d=\"M0 0h24v24H0V0z\" fill=\"none\"/>\n",
              "    <path d=\"M18.56 5.44l.94 2.06.94-2.06 2.06-.94-2.06-.94-.94-2.06-.94 2.06-2.06.94zm-11 1L8.5 8.5l.94-2.06 2.06-.94-2.06-.94L8.5 2.5l-.94 2.06-2.06.94zm10 10l.94 2.06.94-2.06 2.06-.94-2.06-.94-.94-2.06-.94 2.06-2.06.94z\"/><path d=\"M17.41 7.96l-1.37-1.37c-.4-.4-.92-.59-1.43-.59-.52 0-1.04.2-1.43.59L10.3 9.45l-7.72 7.72c-.78.78-.78 2.05 0 2.83L4 21.41c.39.39.9.59 1.41.59.51 0 1.02-.2 1.41-.59l7.78-7.78 2.81-2.81c.8-.78.8-2.07 0-2.86zM5.41 20L4 18.59l7.72-7.72 1.47 1.35L5.41 20z\"/>\n",
              "  </svg>\n",
              "      </button>\n",
              "      \n",
              "  <style>\n",
              "    .colab-df-container {\n",
              "      display:flex;\n",
              "      flex-wrap:wrap;\n",
              "      gap: 12px;\n",
              "    }\n",
              "\n",
              "    .colab-df-convert {\n",
              "      background-color: #E8F0FE;\n",
              "      border: none;\n",
              "      border-radius: 50%;\n",
              "      cursor: pointer;\n",
              "      display: none;\n",
              "      fill: #1967D2;\n",
              "      height: 32px;\n",
              "      padding: 0 0 0 0;\n",
              "      width: 32px;\n",
              "    }\n",
              "\n",
              "    .colab-df-convert:hover {\n",
              "      background-color: #E2EBFA;\n",
              "      box-shadow: 0px 1px 2px rgba(60, 64, 67, 0.3), 0px 1px 3px 1px rgba(60, 64, 67, 0.15);\n",
              "      fill: #174EA6;\n",
              "    }\n",
              "\n",
              "    [theme=dark] .colab-df-convert {\n",
              "      background-color: #3B4455;\n",
              "      fill: #D2E3FC;\n",
              "    }\n",
              "\n",
              "    [theme=dark] .colab-df-convert:hover {\n",
              "      background-color: #434B5C;\n",
              "      box-shadow: 0px 1px 3px 1px rgba(0, 0, 0, 0.15);\n",
              "      filter: drop-shadow(0px 1px 2px rgba(0, 0, 0, 0.3));\n",
              "      fill: #FFFFFF;\n",
              "    }\n",
              "  </style>\n",
              "\n",
              "      <script>\n",
              "        const buttonEl =\n",
              "          document.querySelector('#df-e5d76b7e-38f1-48d1-a5dd-01fdfee7349a button.colab-df-convert');\n",
              "        buttonEl.style.display =\n",
              "          google.colab.kernel.accessAllowed ? 'block' : 'none';\n",
              "\n",
              "        async function convertToInteractive(key) {\n",
              "          const element = document.querySelector('#df-e5d76b7e-38f1-48d1-a5dd-01fdfee7349a');\n",
              "          const dataTable =\n",
              "            await google.colab.kernel.invokeFunction('convertToInteractive',\n",
              "                                                     [key], {});\n",
              "          if (!dataTable) return;\n",
              "\n",
              "          const docLinkHtml = 'Like what you see? Visit the ' +\n",
              "            '<a target=\"_blank\" href=https://colab.research.google.com/notebooks/data_table.ipynb>data table notebook</a>'\n",
              "            + ' to learn more about interactive tables.';\n",
              "          element.innerHTML = '';\n",
              "          dataTable['output_type'] = 'display_data';\n",
              "          await google.colab.output.renderOutput(dataTable, element);\n",
              "          const docLink = document.createElement('div');\n",
              "          docLink.innerHTML = docLinkHtml;\n",
              "          element.appendChild(docLink);\n",
              "        }\n",
              "      </script>\n",
              "    </div>\n",
              "  </div>\n",
              "  "
            ],
            "text/plain": [
              "   loan_amnt  term  ...  purpose_debt_consolidation  initial_list_status_w\n",
              "0    15000.0    60  ...                           1                      1\n",
              "1    10400.0    36  ...                           0                      1\n",
              "2    21425.0    60  ...                           0                      1\n",
              "4     7650.0    36  ...                           1                      0\n",
              "5     9600.0    36  ...                           1                      0\n",
              "\n",
              "[5 rows x 25 columns]"
            ]
          },
          "metadata": {},
          "execution_count": 192
        }
      ]
    },
    {
      "cell_type": "code",
      "metadata": {
        "id": "ykZxdztRtigO",
        "colab": {
          "base_uri": "https://localhost:8080/"
        },
        "outputId": "1fa35b0f-ee50-4ca6-f09a-caec5b77b90e"
      },
      "source": [
        "# default_0 = df[df['y']==0]\n",
        "# default_1 = df[df['y']==1]\n",
        "# # Subsample default_0\n",
        "# default_0 = default_0.sample(n=default_1.shape[0], random_state=152, \n",
        "#                              replace=False)\n",
        "# # Merge datasets\n",
        "# df = pd.concat([default_1, default_0],ignore_index=True)\n",
        "# df = df.sample(frac=1.0).reset_index(drop=True)\n",
        "df['y'].value_counts()"
      ],
      "execution_count": 193,
      "outputs": [
        {
          "output_type": "execute_result",
          "data": {
            "text/plain": [
              "0    69981\n",
              "1    16156\n",
              "Name: y, dtype: int64"
            ]
          },
          "metadata": {},
          "execution_count": 193
        }
      ]
    },
    {
      "cell_type": "markdown",
      "metadata": {
        "id": "oa9dMg2hwEs1"
      },
      "source": [
        "## (over) Sampleo de Datos"
      ]
    },
    {
      "cell_type": "markdown",
      "metadata": {
        "id": "GAjXoO2WwGxk"
      },
      "source": [
        "La siguiente celda contiene el codigo de oversampling.  \n",
        "+ Piensa si el oversampling de datos deberia hacerse despues o antes de train/test, o de laguna otra forma?"
      ]
    },
    {
      "cell_type": "code",
      "metadata": {
        "id": "Btqjyl6IvrSq"
      },
      "source": [
        "##TODO: Tarea\n",
        "\n",
        "# default_0 = dataset[dataset['y']==0]\n",
        "# default_1 = dataset[dataset['y']==1]\n",
        "# # Subsample default_0\n",
        "# default_1 = default_1.sample(n=default_0.shape[0], random_state=192, \n",
        "#                              replace=True)\n",
        "# # Merge datasets\n",
        "# df = pd.concat([default_1, default_0],ignore_index=True)\n",
        "# df = df.sample(frac=1.0).reset_index(drop=True)\n",
        "# df['y'].value_counts()"
      ],
      "execution_count": null,
      "outputs": []
    },
    {
      "cell_type": "markdown",
      "metadata": {
        "id": "b8XHUrazzGSO"
      },
      "source": [
        "### Imputacion de Datos"
      ]
    },
    {
      "cell_type": "code",
      "metadata": {
        "id": "Vbz8m8IQzHo3"
      },
      "source": [
        "#Filling the NAs with the mean of the column.\n",
        "df.fillna(df.mean(),inplace = True)"
      ],
      "execution_count": 194,
      "outputs": []
    },
    {
      "cell_type": "markdown",
      "metadata": {
        "id": "0E9799Eax7Uj"
      },
      "source": [
        "## Train/Test Split"
      ]
    },
    {
      "cell_type": "code",
      "metadata": {
        "id": "sPPhjiGIx9qb"
      },
      "source": [
        "Y= df[\"y\"]\n",
        "X = df.loc[:, df.columns != 'y']\n",
        "validation_size = 0.2\n",
        "X_train, X_validation, Y_train, Y_validation = train_test_split(X, Y, \n",
        "                                                test_size=validation_size,\n",
        "                                                 random_state=984)\n",
        "\n"
      ],
      "execution_count": 195,
      "outputs": []
    },
    {
      "cell_type": "markdown",
      "metadata": {
        "id": "rZE99D289p1O"
      },
      "source": [
        "## Normalizacion"
      ]
    },
    {
      "cell_type": "code",
      "metadata": {
        "id": "DD_N9udN9rLI"
      },
      "source": [
        "from sklearn import preprocessing\n",
        "mm_scaler = preprocessing.MinMaxScaler()\n",
        "X_train = mm_scaler.fit_transform(X_train)\n",
        "X_validation = mm_scaler.fit_transform(X_validation)"
      ],
      "execution_count": 196,
      "outputs": []
    },
    {
      "cell_type": "markdown",
      "metadata": {
        "id": "zFTV6xSGyTwn"
      },
      "source": [
        "## Modelos"
      ]
    },
    {
      "cell_type": "code",
      "metadata": {
        "id": "U9nd-kx5yo8A"
      },
      "source": [
        "# spot check the algorithms\n",
        "models = []\n",
        "models.append(('LR', LogisticRegression(max_iter=500)))\n",
        "models.append(('LDA', LinearDiscriminantAnalysis()))\n",
        "models.append(('KNN', KNeighborsClassifier()))\n",
        "models.append(('CART', DecisionTreeClassifier()))\n",
        "models.append(('NB', GaussianNB()))\n",
        "#Neural Network\n",
        "models.append(('NN', MLPClassifier(max_iter=500, solver='sgd', \n",
        "                                   early_stopping=True)))\n",
        "#Ensable Models \n",
        "# Boosting methods\n",
        "models.append(('AB', AdaBoostClassifier()))\n",
        "models.append(('GBM', GradientBoostingClassifier()))\n",
        "# Bagging methods\n",
        "models.append(('RF', RandomForestClassifier()))\n",
        "models.append(('ET', ExtraTreesClassifier()))\n",
        "\n",
        "# Metricas\n",
        "#scoring = 'accuracy'\n",
        "#scoring ='precision'\n",
        "#scoring ='recall'\n",
        "scoring = 'roc_auc'\n",
        "\n",
        "\n",
        "# ##Opciones\n",
        "seed = 7364\n",
        "num_folds = 5\n"
      ],
      "execution_count": 93,
      "outputs": []
    },
    {
      "cell_type": "markdown",
      "metadata": {
        "id": "F8FlUokO0eNW"
      },
      "source": [
        "### Entrenamiento"
      ]
    },
    {
      "cell_type": "code",
      "metadata": {
        "colab": {
          "base_uri": "https://localhost:8080/"
        },
        "id": "AtETzpQNyybM",
        "outputId": "2df03c2d-7af2-4352-cb99-016a10272078"
      },
      "source": [
        "results = []\n",
        "for name, model in models:\n",
        "    kfold = KFold(n_splits=num_folds, random_state=seed, shuffle=True)\n",
        "    cv_results = cross_val_score(model, X_train, Y_train, cv=kfold,\n",
        "                                 scoring=scoring, n_jobs=-1)\n",
        "    msg = \"%s: %f (%f)\" % (name, cv_results.mean(), cv_results.std())\n",
        "    print(msg)\n",
        "    cv_results = pd.DataFrame({\n",
        "        'results':cv_results\n",
        "    })\n",
        "    cv_results.loc[:,'model_name'] = name\n",
        "    results.append(cv_results)\n",
        "\n",
        "# Convertir todos los resultados un solo DataFrame\n",
        "results = pd.concat(results, ignore_index=True)"
      ],
      "execution_count": 95,
      "outputs": [
        {
          "output_type": "stream",
          "name": "stdout",
          "text": [
            "LR: 0.920322 (0.002810)\n",
            "LDA: 0.900907 (0.002824)\n"
          ]
        },
        {
          "output_type": "stream",
          "name": "stderr",
          "text": [
            "/usr/local/lib/python3.7/dist-packages/joblib/externals/loky/process_executor.py:705: UserWarning: A worker stopped while some jobs were given to the executor. This can be caused by a too short worker timeout or by a memory leak.\n",
            "  \"timeout or by a memory leak.\", UserWarning\n"
          ]
        },
        {
          "output_type": "stream",
          "name": "stdout",
          "text": [
            "KNN: 0.822316 (0.005001)\n",
            "CART: 0.803885 (0.001715)\n",
            "NB: 0.894426 (0.005284)\n",
            "NN: 0.912466 (0.004460)\n",
            "AB: 0.930763 (0.002213)\n",
            "GBM: 0.940020 (0.003150)\n",
            "RF: 0.932734 (0.002467)\n",
            "ET: 0.921934 (0.003961)\n"
          ]
        }
      ]
    },
    {
      "cell_type": "markdown",
      "metadata": {
        "id": "QpHQnY_K0g7t"
      },
      "source": [
        "### Comparacion"
      ]
    },
    {
      "cell_type": "code",
      "metadata": {
        "colab": {
          "base_uri": "https://localhost:8080/",
          "height": 362
        },
        "id": "Ai9usnAp0h4I",
        "outputId": "88ba799e-fbc4-4460-fd2b-07ba423ee504"
      },
      "source": [
        "# compare algorithms\n",
        "sns.boxplot(data=results, x='model_name', y ='results')"
      ],
      "execution_count": 96,
      "outputs": [
        {
          "output_type": "execute_result",
          "data": {
            "text/plain": [
              "<matplotlib.axes._subplots.AxesSubplot at 0x7fe32cd0da10>"
            ]
          },
          "metadata": {},
          "execution_count": 96
        },
        {
          "output_type": "display_data",
          "data": {
            "image/png": "[encoded data removed]",
            "text/plain": [
              "<Figure size 864x360 with 1 Axes>"
            ]
          },
          "metadata": {}
        }
      ]
    },
    {
      "cell_type": "markdown",
      "metadata": {
        "id": "KWUlM8p80ZjK"
      },
      "source": [
        "## GBM"
      ]
    },
    {
      "cell_type": "code",
      "metadata": {
        "colab": {
          "base_uri": "https://localhost:8080/"
        },
        "id": "6X6n1LIK_pjU",
        "outputId": "7b5ba67a-931b-400c-8d2f-42e6a7b05c08"
      },
      "source": [
        "# Grid Search: GradientBoosting \n",
        "'''\n",
        "n_estimators : int (default=100)\n",
        "    Numero de boostings que realiza. Es bastante robusto a overfitting,\n",
        "    en comparacion con otros algoritmos de boosting. Por lo que, podemos usar\n",
        "    un numero grande.\n",
        "max_depth : integer, optional (default=3)\n",
        "    El depth o profundida de los estimadores individuales. \n",
        "    The maximum depth limits the number of nodes in the tree. \n",
        "    Tune this parameter for best performance; \n",
        "    the best value depends on the interaction of the input variables.\n",
        "\n",
        "''' \n",
        "n_estimators = [50, 100, 150,180]\n",
        "max_depth= [5, 7]\n",
        "param_grid = dict(n_estimators=n_estimators, max_depth=max_depth)\n",
        "\n",
        "model = GradientBoostingClassifier()\n",
        "kfold = KFold(n_splits=5, random_state=seed, shuffle=True)\n",
        "\n",
        "grid = GridSearchCV(estimator=model, param_grid=param_grid, scoring=scoring,\n",
        "                          cv=kfold, n_jobs=-1)\n",
        "grid_result = grid.fit(X_train, Y_train)\n",
        "\n",
        "#Print Results\n",
        "print(\"Mejor: %f using %s\" % (grid_result.best_score_, grid_result.best_params_))\n",
        "means = grid_result.cv_results_['mean_test_score']\n",
        "stds = grid_result.cv_results_['std_test_score']\n",
        "params = grid_result.cv_results_['params']\n",
        "ranks = grid_result.cv_results_['rank_test_score']\n",
        "for mean, stdev, param, rank in zip(means, stds, params, ranks):\n",
        "    print(\"#%d %f (%f) with: %r\" % (rank, mean, stdev, param))"
      ],
      "execution_count": 97,
      "outputs": [
        {
          "output_type": "stream",
          "name": "stdout",
          "text": [
            "Mejor: 0.941337 using {'max_depth': 5, 'n_estimators': 100}\n",
            "#7 0.940067 (0.002936) with: {'max_depth': 5, 'n_estimators': 50}\n",
            "#1 0.941337 (0.003185) with: {'max_depth': 5, 'n_estimators': 100}\n",
            "#3 0.941090 (0.002934) with: {'max_depth': 5, 'n_estimators': 150}\n",
            "#2 0.941278 (0.002860) with: {'max_depth': 5, 'n_estimators': 180}\n",
            "#8 0.939955 (0.002810) with: {'max_depth': 7, 'n_estimators': 50}\n",
            "#4 0.940391 (0.002456) with: {'max_depth': 7, 'n_estimators': 100}\n",
            "#6 0.940105 (0.002998) with: {'max_depth': 7, 'n_estimators': 150}\n",
            "#5 0.940232 (0.002979) with: {'max_depth': 7, 'n_estimators': 180}\n"
          ]
        }
      ]
    },
    {
      "cell_type": "code",
      "source": [
        "pd.DataFrame(grid_result.cv_results_)"
      ],
      "metadata": {
        "id": "PahjzyP5cyOE",
        "outputId": "1486d72a-f641-4c1a-af68-8e0b92e7f21b",
        "colab": {
          "base_uri": "https://localhost:8080/",
          "height": 1000
        }
      },
      "execution_count": 223,
      "outputs": [
        {
          "output_type": "execute_result",
          "data": {
            "text/html": [
              "\n",
              "  <div id=\"df-cc081afc-1fe9-437b-b721-7b12b27ed664\">\n",
              "    <div class=\"colab-df-container\">\n",
              "      <div>\n",
              "<style scoped>\n",
              "    .dataframe tbody tr th:only-of-type {\n",
              "        vertical-align: middle;\n",
              "    }\n",
              "\n",
              "    .dataframe tbody tr th {\n",
              "        vertical-align: top;\n",
              "    }\n",
              "\n",
              "    .dataframe thead th {\n",
              "        text-align: right;\n",
              "    }\n",
              "</style>\n",
              "<table border=\"1\" class=\"dataframe\">\n",
              "  <thead>\n",
              "    <tr style=\"text-align: right;\">\n",
              "      <th></th>\n",
              "      <th>mean_fit_time</th>\n",
              "      <th>std_fit_time</th>\n",
              "      <th>mean_score_time</th>\n",
              "      <th>std_score_time</th>\n",
              "      <th>param_max_depth</th>\n",
              "      <th>param_n_estimators</th>\n",
              "      <th>params</th>\n",
              "      <th>split0_test_score</th>\n",
              "      <th>split1_test_score</th>\n",
              "      <th>split2_test_score</th>\n",
              "      <th>split3_test_score</th>\n",
              "      <th>split4_test_score</th>\n",
              "      <th>mean_test_score</th>\n",
              "      <th>std_test_score</th>\n",
              "      <th>rank_test_score</th>\n",
              "    </tr>\n",
              "  </thead>\n",
              "  <tbody>\n",
              "    <tr>\n",
              "      <th>0</th>\n",
              "      <td>9.477050</td>\n",
              "      <td>0.038924</td>\n",
              "      <td>0.016520</td>\n",
              "      <td>0.000856</td>\n",
              "      <td>5</td>\n",
              "      <td>50</td>\n",
              "      <td>{'max_depth': 5, 'n_estimators': 50}</td>\n",
              "      <td>0.939595</td>\n",
              "      <td>0.936649</td>\n",
              "      <td>0.939407</td>\n",
              "      <td>0.945536</td>\n",
              "      <td>0.939150</td>\n",
              "      <td>0.940067</td>\n",
              "      <td>0.002936</td>\n",
              "      <td>7</td>\n",
              "    </tr>\n",
              "    <tr>\n",
              "      <th>1</th>\n",
              "      <td>18.994687</td>\n",
              "      <td>0.117749</td>\n",
              "      <td>0.025826</td>\n",
              "      <td>0.005202</td>\n",
              "      <td>5</td>\n",
              "      <td>100</td>\n",
              "      <td>{'max_depth': 5, 'n_estimators': 100}</td>\n",
              "      <td>0.940612</td>\n",
              "      <td>0.937533</td>\n",
              "      <td>0.940367</td>\n",
              "      <td>0.947223</td>\n",
              "      <td>0.940948</td>\n",
              "      <td>0.941337</td>\n",
              "      <td>0.003185</td>\n",
              "      <td>1</td>\n",
              "    </tr>\n",
              "    <tr>\n",
              "      <th>2</th>\n",
              "      <td>28.512827</td>\n",
              "      <td>0.186870</td>\n",
              "      <td>0.030620</td>\n",
              "      <td>0.001018</td>\n",
              "      <td>5</td>\n",
              "      <td>150</td>\n",
              "      <td>{'max_depth': 5, 'n_estimators': 150}</td>\n",
              "      <td>0.940469</td>\n",
              "      <td>0.937125</td>\n",
              "      <td>0.940064</td>\n",
              "      <td>0.946147</td>\n",
              "      <td>0.941645</td>\n",
              "      <td>0.941090</td>\n",
              "      <td>0.002934</td>\n",
              "      <td>3</td>\n",
              "    </tr>\n",
              "    <tr>\n",
              "      <th>3</th>\n",
              "      <td>34.355014</td>\n",
              "      <td>0.202584</td>\n",
              "      <td>0.034227</td>\n",
              "      <td>0.000494</td>\n",
              "      <td>5</td>\n",
              "      <td>180</td>\n",
              "      <td>{'max_depth': 5, 'n_estimators': 180}</td>\n",
              "      <td>0.941679</td>\n",
              "      <td>0.936741</td>\n",
              "      <td>0.940640</td>\n",
              "      <td>0.945709</td>\n",
              "      <td>0.941622</td>\n",
              "      <td>0.941278</td>\n",
              "      <td>0.002860</td>\n",
              "      <td>2</td>\n",
              "    </tr>\n",
              "    <tr>\n",
              "      <th>4</th>\n",
              "      <td>13.248138</td>\n",
              "      <td>0.080368</td>\n",
              "      <td>0.019232</td>\n",
              "      <td>0.000873</td>\n",
              "      <td>7</td>\n",
              "      <td>50</td>\n",
              "      <td>{'max_depth': 7, 'n_estimators': 50}</td>\n",
              "      <td>0.939450</td>\n",
              "      <td>0.936273</td>\n",
              "      <td>0.939066</td>\n",
              "      <td>0.944942</td>\n",
              "      <td>0.940043</td>\n",
              "      <td>0.939955</td>\n",
              "      <td>0.002810</td>\n",
              "      <td>8</td>\n",
              "    </tr>\n",
              "    <tr>\n",
              "      <th>5</th>\n",
              "      <td>27.180981</td>\n",
              "      <td>0.223033</td>\n",
              "      <td>0.029749</td>\n",
              "      <td>0.000774</td>\n",
              "      <td>7</td>\n",
              "      <td>100</td>\n",
              "      <td>{'max_depth': 7, 'n_estimators': 100}</td>\n",
              "      <td>0.939742</td>\n",
              "      <td>0.937253</td>\n",
              "      <td>0.938993</td>\n",
              "      <td>0.944484</td>\n",
              "      <td>0.941483</td>\n",
              "      <td>0.940391</td>\n",
              "      <td>0.002456</td>\n",
              "      <td>4</td>\n",
              "    </tr>\n",
              "    <tr>\n",
              "      <th>6</th>\n",
              "      <td>39.822769</td>\n",
              "      <td>0.368731</td>\n",
              "      <td>0.039209</td>\n",
              "      <td>0.000828</td>\n",
              "      <td>7</td>\n",
              "      <td>150</td>\n",
              "      <td>{'max_depth': 7, 'n_estimators': 150}</td>\n",
              "      <td>0.939113</td>\n",
              "      <td>0.936020</td>\n",
              "      <td>0.938521</td>\n",
              "      <td>0.944569</td>\n",
              "      <td>0.942303</td>\n",
              "      <td>0.940105</td>\n",
              "      <td>0.002998</td>\n",
              "      <td>6</td>\n",
              "    </tr>\n",
              "    <tr>\n",
              "      <th>7</th>\n",
              "      <td>45.769188</td>\n",
              "      <td>3.823010</td>\n",
              "      <td>0.043183</td>\n",
              "      <td>0.005431</td>\n",
              "      <td>7</td>\n",
              "      <td>180</td>\n",
              "      <td>{'max_depth': 7, 'n_estimators': 180}</td>\n",
              "      <td>0.939186</td>\n",
              "      <td>0.937024</td>\n",
              "      <td>0.937874</td>\n",
              "      <td>0.945207</td>\n",
              "      <td>0.941869</td>\n",
              "      <td>0.940232</td>\n",
              "      <td>0.002979</td>\n",
              "      <td>5</td>\n",
              "    </tr>\n",
              "  </tbody>\n",
              "</table>\n",
              "</div>\n",
              "      <button class=\"colab-df-convert\" onclick=\"convertToInteractive('df-cc081afc-1fe9-437b-b721-7b12b27ed664')\"\n",
              "              title=\"Convert this dataframe to an interactive table.\"\n",
              "              style=\"display:none;\">\n",
              "        \n",
              "  <svg xmlns=\"http://www.w3.org/2000/svg\" height=\"24px\"viewBox=\"0 0 24 24\"\n",
              "       width=\"24px\">\n",
              "    <path d=\"M0 0h24v24H0V0z\" fill=\"none\"/>\n",
              "    <path d=\"M18.56 5.44l.94 2.06.94-2.06 2.06-.94-2.06-.94-.94-2.06-.94 2.06-2.06.94zm-11 1L8.5 8.5l.94-2.06 2.06-.94-2.06-.94L8.5 2.5l-.94 2.06-2.06.94zm10 10l.94 2.06.94-2.06 2.06-.94-2.06-.94-.94-2.06-.94 2.06-2.06.94z\"/><path d=\"M17.41 7.96l-1.37-1.37c-.4-.4-.92-.59-1.43-.59-.52 0-1.04.2-1.43.59L10.3 9.45l-7.72 7.72c-.78.78-.78 2.05 0 2.83L4 21.41c.39.39.9.59 1.41.59.51 0 1.02-.2 1.41-.59l7.78-7.78 2.81-2.81c.8-.78.8-2.07 0-2.86zM5.41 20L4 18.59l7.72-7.72 1.47 1.35L5.41 20z\"/>\n",
              "  </svg>\n",
              "      </button>\n",
              "      \n",
              "  <style>\n",
              "    .colab-df-container {\n",
              "      display:flex;\n",
              "      flex-wrap:wrap;\n",
              "      gap: 12px;\n",
              "    }\n",
              "\n",
              "    .colab-df-convert {\n",
              "      background-color: #E8F0FE;\n",
              "      border: none;\n",
              "      border-radius: 50%;\n",
              "      cursor: pointer;\n",
              "      display: none;\n",
              "      fill: #1967D2;\n",
              "      height: 32px;\n",
              "      padding: 0 0 0 0;\n",
              "      width: 32px;\n",
              "    }\n",
              "\n",
              "    .colab-df-convert:hover {\n",
              "      background-color: #E2EBFA;\n",
              "      box-shadow: 0px 1px 2px rgba(60, 64, 67, 0.3), 0px 1px 3px 1px rgba(60, 64, 67, 0.15);\n",
              "      fill: #174EA6;\n",
              "    }\n",
              "\n",
              "    [theme=dark] .colab-df-convert {\n",
              "      background-color: #3B4455;\n",
              "      fill: #D2E3FC;\n",
              "    }\n",
              "\n",
              "    [theme=dark] .colab-df-convert:hover {\n",
              "      background-color: #434B5C;\n",
              "      box-shadow: 0px 1px 3px 1px rgba(0, 0, 0, 0.15);\n",
              "      filter: drop-shadow(0px 1px 2px rgba(0, 0, 0, 0.3));\n",
              "      fill: #FFFFFF;\n",
              "    }\n",
              "  </style>\n",
              "\n",
              "      <script>\n",
              "        const buttonEl =\n",
              "          document.querySelector('#df-cc081afc-1fe9-437b-b721-7b12b27ed664 button.colab-df-convert');\n",
              "        buttonEl.style.display =\n",
              "          google.colab.kernel.accessAllowed ? 'block' : 'none';\n",
              "\n",
              "        async function convertToInteractive(key) {\n",
              "          const element = document.querySelector('#df-cc081afc-1fe9-437b-b721-7b12b27ed664');\n",
              "          const dataTable =\n",
              "            await google.colab.kernel.invokeFunction('convertToInteractive',\n",
              "                                                     [key], {});\n",
              "          if (!dataTable) return;\n",
              "\n",
              "          const docLinkHtml = 'Like what you see? Visit the ' +\n",
              "            '<a target=\"_blank\" href=https://colab.research.google.com/notebooks/data_table.ipynb>data table notebook</a>'\n",
              "            + ' to learn more about interactive tables.';\n",
              "          element.innerHTML = '';\n",
              "          dataTable['output_type'] = 'display_data';\n",
              "          await google.colab.output.renderOutput(dataTable, element);\n",
              "          const docLink = document.createElement('div');\n",
              "          docLink.innerHTML = docLinkHtml;\n",
              "          element.appendChild(docLink);\n",
              "        }\n",
              "      </script>\n",
              "    </div>\n",
              "  </div>\n",
              "  "
            ],
            "text/plain": [
              "   mean_fit_time  std_fit_time  ...  std_test_score  rank_test_score\n",
              "0       9.477050      0.038924  ...        0.002936                7\n",
              "1      18.994687      0.117749  ...        0.003185                1\n",
              "2      28.512827      0.186870  ...        0.002934                3\n",
              "3      34.355014      0.202584  ...        0.002860                2\n",
              "4      13.248138      0.080368  ...        0.002810                8\n",
              "5      27.180981      0.223033  ...        0.002456                4\n",
              "6      39.822769      0.368731  ...        0.002998                6\n",
              "7      45.769188      3.823010  ...        0.002979                5\n",
              "\n",
              "[8 rows x 15 columns]"
            ]
          },
          "metadata": {},
          "execution_count": 223
        }
      ]
    },
    {
      "cell_type": "markdown",
      "metadata": {
        "id": "wAigJxy5jZrp"
      },
      "source": [
        "## Test"
      ]
    },
    {
      "cell_type": "code",
      "metadata": {
        "colab": {
          "base_uri": "https://localhost:8080/"
        },
        "id": "rL3wSOv1jeAF",
        "outputId": "9bea6d9b-3229-410a-e858-88c4cd6ac611"
      },
      "source": [
        "model = GradientBoostingClassifier(max_depth= 5, n_estimators= 180)\n",
        "model.fit(X_train, Y_train)"
      ],
      "execution_count": 197,
      "outputs": [
        {
          "output_type": "execute_result",
          "data": {
            "text/plain": [
              "GradientBoostingClassifier(max_depth=5, n_estimators=180)"
            ]
          },
          "metadata": {},
          "execution_count": 197
        }
      ]
    },
    {
      "cell_type": "code",
      "metadata": {
        "colab": {
          "base_uri": "https://localhost:8080/"
        },
        "id": "Erl4eIbsjgtl",
        "outputId": "f37d8c8f-5243-4d84-a3c5-f58bb14359d1"
      },
      "source": [
        "predictions = model.predict(X_validation)\n",
        "print(accuracy_score(Y_validation, predictions))\n",
        "print(confusion_matrix(Y_validation, predictions))\n",
        "print(classification_report(Y_validation, predictions))"
      ],
      "execution_count": 99,
      "outputs": [
        {
          "output_type": "stream",
          "name": "stdout",
          "text": [
            "0.8298004022899582\n",
            "[[2816  430]\n",
            " [ 670 2547]]\n",
            "              precision    recall  f1-score   support\n",
            "\n",
            "           0       0.81      0.87      0.84      3246\n",
            "           1       0.86      0.79      0.82      3217\n",
            "\n",
            "    accuracy                           0.83      6463\n",
            "   macro avg       0.83      0.83      0.83      6463\n",
            "weighted avg       0.83      0.83      0.83      6463\n",
            "\n"
          ]
        }
      ]
    },
    {
      "cell_type": "code",
      "source": [
        "predictions = model.predict(X_validation)\n",
        "print(accuracy_score(Y_validation, predictions))\n",
        "print(confusion_matrix(Y_validation, predictions))\n",
        "print(classification_report(Y_validation, predictions))"
      ],
      "metadata": {
        "colab": {
          "base_uri": "https://localhost:8080/"
        },
        "id": "NjhI9njYW8lP",
        "outputId": "d12cb79b-2863-4e56-d8c7-296adf452bc2"
      },
      "execution_count": 198,
      "outputs": [
        {
          "output_type": "stream",
          "name": "stdout",
          "text": [
            "0.8765381936382632\n",
            "[[12956  1054]\n",
            " [ 1073  2145]]\n",
            "              precision    recall  f1-score   support\n",
            "\n",
            "           0       0.92      0.92      0.92     14010\n",
            "           1       0.67      0.67      0.67      3218\n",
            "\n",
            "    accuracy                           0.88     17228\n",
            "   macro avg       0.80      0.80      0.80     17228\n",
            "weighted avg       0.88      0.88      0.88     17228\n",
            "\n"
          ]
        }
      ]
    },
    {
      "cell_type": "code",
      "source": [
        "predictions_p = model.predict_proba(X_validation)\n",
        "predictions_p"
      ],
      "metadata": {
        "colab": {
          "base_uri": "https://localhost:8080/"
        },
        "id": "wz1-WzUVY6pr",
        "outputId": "cee6b394-1420-4b30-ef84-f44f37d3f83c"
      },
      "execution_count": 214,
      "outputs": [
        {
          "output_type": "execute_result",
          "data": {
            "text/plain": [
              "array([[9.98756128e-01, 1.24387205e-03],\n",
              "       [9.97395001e-01, 2.60499851e-03],\n",
              "       [9.72690267e-01, 2.73097333e-02],\n",
              "       ...,\n",
              "       [9.98629082e-01, 1.37091769e-03],\n",
              "       [9.99156225e-01, 8.43774822e-04],\n",
              "       [9.92135785e-01, 7.86421513e-03]])"
            ]
          },
          "metadata": {},
          "execution_count": 214
        }
      ]
    },
    {
      "cell_type": "code",
      "source": [
        "metrics.roc_curve(y_true=Y_validation, y_score=predictions_p[:,1])"
      ],
      "metadata": {
        "colab": {
          "base_uri": "https://localhost:8080/"
        },
        "id": "MwmFfjX5ZF2M",
        "outputId": "73603c2d-f8a5-4f82-8fb3-d871b04b8203"
      },
      "execution_count": 219,
      "outputs": [
        {
          "output_type": "execute_result",
          "data": {
            "text/plain": [
              "(array([0.00000000e+00, 7.13775874e-05, 1.57030692e-03, ...,\n",
              "        9.23625981e-01, 9.23625981e-01, 1.00000000e+00]),\n",
              " array([0.        , 0.        , 0.        , ..., 0.99968925, 1.        ,\n",
              "        1.        ]),\n",
              " array([1.99994175e+00, 9.99941750e-01, 9.95972150e-01, ...,\n",
              "        7.55734251e-04, 7.55730592e-04, 2.51399886e-04]))"
            ]
          },
          "metadata": {},
          "execution_count": 219
        }
      ]
    },
    {
      "cell_type": "code",
      "source": [
        "from sklearn import  metrics\n",
        "metrics.plot_roc_curve(model,X_validation, Y_validation) \n",
        "metrics.roc_auc_score(Y_validation, predictions_p[:,1])"
      ],
      "metadata": {
        "colab": {
          "base_uri": "https://localhost:8080/",
          "height": 428
        },
        "id": "BaQPR2phU2OZ",
        "outputId": "cc77dcb1-6122-4560-8af0-7065c109fd55"
      },
      "execution_count": 221,
      "outputs": [
        {
          "output_type": "stream",
          "name": "stderr",
          "text": [
            "/usr/local/lib/python3.7/dist-packages/sklearn/utils/deprecation.py:87: FutureWarning: Function plot_roc_curve is deprecated; Function :func:`plot_roc_curve` is deprecated in 1.0 and will be removed in 1.2. Use one of the class methods: :meth:`sklearn.metric.RocCurveDisplay.from_predictions` or :meth:`sklearn.metric.RocCurveDisplay.from_estimator`.\n",
            "  warnings.warn(msg, category=FutureWarning)\n"
          ]
        },
        {
          "output_type": "execute_result",
          "data": {
            "text/plain": [
              "0.9286091928476906"
            ]
          },
          "metadata": {},
          "execution_count": 221
        },
        {
          "output_type": "display_data",
          "data": {
            "image/png": "[encoded data removed]",
            "text/plain": [
              "<Figure size 864x360 with 1 Axes>"
            ]
          },
          "metadata": {}
        }
      ]
    },
    {
      "cell_type": "code",
      "metadata": {
        "colab": {
          "base_uri": "https://localhost:8080/",
          "height": 362
        },
        "id": "Ke3HgMngj9xH",
        "outputId": "547e18c9-c81f-479b-8e5e-cea74a2e7996"
      },
      "source": [
        "dddf_cm = pd.DataFrame(confusion_matrix(Y_validation, predictions), \n",
        "                     columns=np.unique(Y_validation), index = np.unique(Y_validation))\n",
        "df_cm.index.name = 'Verdadero'\n",
        "df_cm.columns.name = 'Predecido'\n",
        "sns.heatmap(df_cm, cmap=\"Blues\", annot=True,annot_kws={\"size\": 16})# font sizes"
      ],
      "execution_count": 104,
      "outputs": [
        {
          "output_type": "execute_result",
          "data": {
            "text/plain": [
              "<matplotlib.axes._subplots.AxesSubplot at 0x7fe324184690>"
            ]
          },
          "metadata": {},
          "execution_count": 104
        },
        {
          "output_type": "display_data",
          "data": {
            "image/png": "[encoded data removed]",
            "text/plain": [
              "<Figure size 864x360 with 2 Axes>"
            ]
          },
          "metadata": {}
        }
      ]
    },
    {
      "cell_type": "markdown",
      "metadata": {
        "id": "gqDu1ya1kSx5"
      },
      "source": [
        "### Feature Importance"
      ]
    },
    {
      "cell_type": "code",
      "metadata": {
        "colab": {
          "base_uri": "https://localhost:8080/",
          "height": 461
        },
        "id": "ijSjo627kUoz",
        "outputId": "db25673e-89bc-4f2f-a0cf-0da46a258728"
      },
      "source": [
        "print(model.feature_importances_) \n",
        "feat_importances = pd.Series(model.feature_importances_, index=X.columns)\n",
        "feat_importances.nlargest(10).plot(kind='barh')\n",
        "plt.show()"
      ],
      "execution_count": 105,
      "outputs": [
        {
          "output_type": "stream",
          "name": "stdout",
          "text": [
            "[3.60700043e-02 1.15873838e-01 6.76708909e-02 8.22391950e-03\n",
            " 9.27793058e-03 2.00296636e-03 3.79379575e-03 2.11934313e-03\n",
            " 4.94153647e-03 7.02263696e-01 1.24767813e-02 7.47009549e-03\n",
            " 6.10569597e-03 4.95311426e-03 6.09388979e-03 3.39548324e-03\n",
            " 1.32898670e-03 2.72583335e-03 1.32238405e-03 4.53492019e-04\n",
            " 2.42912947e-04 3.96098649e-04 3.51627524e-04 4.45683608e-04]\n"
          ]
        },
        {
          "output_type": "display_data",
          "data": {
            "image/png": "[encoded data removed]",
            "text/plain": [
              "<Figure size 864x360 with 1 Axes>"
            ]
          },
          "metadata": {}
        }
      ]
    },
    {
      "cell_type": "code",
      "metadata": {
        "colab": {
          "base_uri": "https://localhost:8080/"
        },
        "id": "tgrfJ8BOk20-",
        "outputId": "258fe436-934c-4807-b76d-f212ed50fcfa"
      },
      "source": [
        "feat_importances"
      ],
      "execution_count": null,
      "outputs": [
        {
          "output_type": "execute_result",
          "data": {
            "text/plain": [
              "loan_amnt                              0.034578\n",
              "term                                   0.111478\n",
              "int_rate                               0.071436\n",
              "annual_inc                             0.007327\n",
              "dti                                    0.008621\n",
              "earliest_cr_line                       0.001352\n",
              "fico_range_low                         0.003878\n",
              "open_acc                               0.002104\n",
              "revol_util                             0.004676\n",
              "last_pymnt_amnt                        0.707516\n",
              "acc_open_past_24mths                   0.012344\n",
              "avg_cur_bal                            0.008134\n",
              "bc_open_to_buy                         0.005166\n",
              "bc_util                                0.004912\n",
              "mo_sin_old_rev_tl_op                   0.006172\n",
              "mo_sin_rcnt_rev_tl_op                  0.003406\n",
              "mort_acc                               0.001547\n",
              "num_actv_rev_tl                        0.002587\n",
              "home_ownership_RENT                    0.001108\n",
              "verification_status_Source Verified    0.000694\n",
              "verification_status_Verified           0.000328\n",
              "purpose_credit_card                    0.000112\n",
              "purpose_debt_consolidation             0.000206\n",
              "initial_list_status_w                  0.000317\n",
              "dtype: float64"
            ]
          },
          "metadata": {
            "tags": []
          },
          "execution_count": 412
        }
      ]
    }
  ]
}