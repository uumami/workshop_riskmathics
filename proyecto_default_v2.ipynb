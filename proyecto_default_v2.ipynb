{
  "nbformat": 4,
  "nbformat_minor": 0,
  "metadata": {
    "colab": {
      "name": "proyecto_default.ipynb",
      "provenance": [],
      "toc_visible": true,
      "include_colab_link": true
    },
    "kernelspec": {
      "display_name": "Python 3",
      "name": "python3"
    },
    "language_info": {
      "name": "python"
    }
  },
  "cells": [
    {
      "cell_type": "markdown",
      "metadata": {
        "id": "view-in-github",
        "colab_type": "text"
      },
      "source": [
        "<a href=\"https://colab.research.google.com/github/uumami/workshop_riskmathics/blob/main/proyecto_default_v2.ipynb\" target=\"_parent\"><img src=\"https://colab.research.google.com/assets/colab-badge.svg\" alt=\"Open In Colab\"/></a>"
      ]
    },
    {
      "cell_type": "markdown",
      "source": [
        "Esta libreria toma tiempo en instalarse, y la usaremos al final."
      ],
      "metadata": {
        "id": "IldZnZJyqQ9S"
      }
    },
    {
      "cell_type": "code",
      "source": [
        "#! pip install autogluon"
      ],
      "metadata": {
        "id": "_pN_INJuqPYz"
      },
      "execution_count": 1847,
      "outputs": []
    },
    {
      "cell_type": "markdown",
      "metadata": {
        "id": "yUd5XUr57MPC"
      },
      "source": [
        "# Prediccion de Default en Prestamos"
      ]
    },
    {
      "cell_type": "markdown",
      "metadata": {
        "id": "qCFgjAfF7WhV"
      },
      "source": [
        "Para este proyecto utilizaremos un sample de los datos de [Lending Club](https://www.kaggle.com/wordsforthewise/lending-club). La idea es predecir si cierto usuario cometera Default basado en informacion que la plataforma recolecta. Esto nos ayudara a mejorar la metodologia/pipeline de prestamo.  \n",
        "\n"
      ]
    },
    {
      "cell_type": "code",
      "metadata": {
        "id": "yCTkq-Ze9yzF"
      },
      "source": [
        "\n",
        "\n",
        "# Load libraries\n",
        "import numpy as np\n",
        "import pandas as pd\n",
        "import matplotlib.pyplot as plt\n",
        "from pandas import read_csv, set_option\n",
        "from pandas.plotting import scatter_matrix\n",
        "import seaborn as sns\n",
        "from sklearn.preprocessing import StandardScaler\n",
        "from sklearn.model_selection import (train_test_split, KFold, cross_val_score, \n",
        "GridSearchCV, StratifiedKFold)\n",
        "from sklearn.linear_model import LogisticRegression\n",
        "from sklearn.tree import DecisionTreeClassifier\n",
        "from sklearn.neighbors import KNeighborsClassifier\n",
        "from sklearn.discriminant_analysis import LinearDiscriminantAnalysis\n",
        "from sklearn.naive_bayes import GaussianNB\n",
        "from sklearn.svm import SVC\n",
        "from sklearn.neural_network import MLPClassifier\n",
        "from sklearn.pipeline import Pipeline\n",
        "from sklearn.ensemble import AdaBoostClassifier, GradientBoostingClassifier, RandomForestClassifier, ExtraTreesClassifier\n",
        "from sklearn.metrics import classification_report, confusion_matrix, accuracy_score\n",
        "\n",
        "#Libraries for Saving the Model\n",
        "from pickle import dump\n",
        "from pickle import load\n",
        "\n"
      ],
      "execution_count": 1848,
      "outputs": []
    },
    {
      "cell_type": "markdown",
      "metadata": {
        "id": "r2mb_KWr9dS5"
      },
      "source": [
        "# Dataset"
      ]
    },
    {
      "cell_type": "markdown",
      "metadata": {
        "id": "9R_R5F3I9fWn"
      },
      "source": [
        "Contiene los prestamos de esta plataforma:\n",
        "+ periodo 2007-2017Q3.\n",
        "+ 887mil observaciones, sample de 100mil \n",
        "+ 150 variables\n",
        "+ Target: loan status"
      ]
    },
    {
      "cell_type": "markdown",
      "source": [
        "**En estricto sentido hay un error al no separar el train y el test al inicio, pues tomamos informacion con lo que seria nuestro test. Sin embargo, dado que utilizamos 100K de los mas de 800K datos disponibles podemos verlo como si todo fuera train.  \n",
        "Cuando realicen sus proyectos, separen test y train, y vayan guardando todas las transformaciones que van realiziando al train, para luego aplicarlas al test!**"
      ],
      "metadata": {
        "id": "TbvzCh4GoigF"
      }
    },
    {
      "cell_type": "markdown",
      "metadata": {
        "id": "AVM5VEX5-EXu"
      },
      "source": [
        "# ETL"
      ]
    },
    {
      "cell_type": "code",
      "metadata": {
        "colab": {
          "base_uri": "https://localhost:8080/"
        },
        "id": "HLBUbU0w93bG",
        "outputId": "b5b0392a-e007-483b-c254-f3fcb370aebe"
      },
      "source": [
        "loans = pd.read_csv('https://github.com/IEXE-Tec/mcda-fintech/blob/master/default_proyecto/LoansData_sample.csv.gz?raw=true', \n",
        "                    compression='gzip', encoding='utf-8')"
      ],
      "execution_count": 1849,
      "outputs": [
        {
          "output_type": "stream",
          "name": "stderr",
          "text": [
            "/usr/local/lib/python3.8/dist-packages/IPython/core/interactiveshell.py:3326: DtypeWarning: Columns (19) have mixed types.Specify dtype option on import or set low_memory=False.\n",
            "  exec(code_obj, self.user_global_ns, self.user_ns)\n"
          ]
        }
      ]
    },
    {
      "cell_type": "code",
      "source": [
        "loans.shape"
      ],
      "metadata": {
        "colab": {
          "base_uri": "https://localhost:8080/"
        },
        "id": "17fJYFTmPDAP",
        "outputId": "3f630759-fe9b-4256-bdeb-e925e3583557"
      },
      "execution_count": 1850,
      "outputs": [
        {
          "output_type": "execute_result",
          "data": {
            "text/plain": [
              "(100000, 151)"
            ]
          },
          "metadata": {},
          "execution_count": 1850
        }
      ]
    },
    {
      "cell_type": "markdown",
      "metadata": {
        "id": "4N_Ok6Zv_ajj"
      },
      "source": [
        "Revisemos la columna del Warning, parece que es texto, que describe el objetivo del prestamo."
      ]
    },
    {
      "cell_type": "code",
      "metadata": {
        "colab": {
          "base_uri": "https://localhost:8080/"
        },
        "id": "gpf-DT7v-cwm",
        "outputId": "e9672ecc-d927-4739-9169-f0e77b007780"
      },
      "source": [
        "print(loans.columns[19])\n",
        "loans.loc[:,loans.columns[19]].unique()"
      ],
      "execution_count": 1851,
      "outputs": [
        {
          "output_type": "stream",
          "name": "stdout",
          "text": [
            "desc\n"
          ]
        },
        {
          "output_type": "execute_result",
          "data": {
            "text/plain": [
              "array([nan, ' ',\n",
              "       'Looking to borrow to purchase a used boat we are interested in',\n",
              "       'I support myself and my mother and have taken on debt to assist with her bills and health care needs. I would like to pay down debt faster through refinancing at a lower rate.',\n",
              "       \"Trying to pay a friend back for apartment broker's fee incurred from as well as credit card stuff.\"],\n",
              "      dtype=object)"
            ]
          },
          "metadata": {},
          "execution_count": 1851
        }
      ]
    },
    {
      "cell_type": "code",
      "metadata": {
        "colab": {
          "base_uri": "https://localhost:8080/"
        },
        "id": "-JNDixzk-vI4",
        "outputId": "31a27d91-7fc0-4cd8-fc8a-824b4a36dcf9"
      },
      "source": [
        "loans.shape"
      ],
      "execution_count": 1852,
      "outputs": [
        {
          "output_type": "execute_result",
          "data": {
            "text/plain": [
              "(100000, 151)"
            ]
          },
          "metadata": {},
          "execution_count": 1852
        }
      ]
    },
    {
      "cell_type": "code",
      "metadata": {
        "colab": {
          "base_uri": "https://localhost:8080/"
        },
        "id": "uud1kTdo_Fsp",
        "outputId": "96a983b5-c191-4d6d-8809-d5eb1d5ad1c8"
      },
      "source": [
        "loans.info()"
      ],
      "execution_count": 1853,
      "outputs": [
        {
          "output_type": "stream",
          "name": "stdout",
          "text": [
            "<class 'pandas.core.frame.DataFrame'>\n",
            "RangeIndex: 100000 entries, 0 to 99999\n",
            "Columns: 151 entries, Unnamed: 0 to settlement_term\n",
            "dtypes: float64(115), int64(2), object(34)\n",
            "memory usage: 115.2+ MB\n"
          ]
        }
      ]
    },
    {
      "cell_type": "markdown",
      "metadata": {
        "id": "W_KAvPaH_pRT"
      },
      "source": [
        "La primera columna parece ser un indice, podemos eliminarla."
      ]
    },
    {
      "cell_type": "code",
      "source": [
        "type(np.nan)"
      ],
      "metadata": {
        "colab": {
          "base_uri": "https://localhost:8080/"
        },
        "id": "hs95c43JPYgl",
        "outputId": "75b19fa4-62b9-4466-cb75-36718f370a97"
      },
      "execution_count": 1854,
      "outputs": [
        {
          "output_type": "execute_result",
          "data": {
            "text/plain": [
              "float"
            ]
          },
          "metadata": {},
          "execution_count": 1854
        }
      ]
    },
    {
      "cell_type": "code",
      "metadata": {
        "colab": {
          "base_uri": "https://localhost:8080/",
          "height": 404
        },
        "id": "7C63ArOQ9_eb",
        "outputId": "8f47dc33-4a79-4d4b-dc0d-ad824704e583"
      },
      "source": [
        "dataset = loans\n",
        "dataset.head()"
      ],
      "execution_count": 1855,
      "outputs": [
        {
          "output_type": "execute_result",
          "data": {
            "text/plain": [
              "   Unnamed: 0        id  member_id  loan_amnt  funded_amnt  funded_amnt_inv  \\\n",
              "0           0  38098114        NaN    15000.0      15000.0          15000.0   \n",
              "1           1  36805548        NaN    10400.0      10400.0          10400.0   \n",
              "2           2  37842129        NaN    21425.0      21425.0          21425.0   \n",
              "3           3  37612354        NaN    12800.0      12800.0          12800.0   \n",
              "4           4  37662224        NaN     7650.0       7650.0           7650.0   \n",
              "\n",
              "         term  int_rate  installment grade  ...  \\\n",
              "0   60 months     12.39       336.64     C  ...   \n",
              "1   36 months      6.99       321.08     A  ...   \n",
              "2   60 months     15.59       516.36     D  ...   \n",
              "3   60 months     17.14       319.08     D  ...   \n",
              "4   36 months     13.66       260.20     C  ...   \n",
              "\n",
              "  hardship_payoff_balance_amount hardship_last_payment_amount  \\\n",
              "0                            NaN                          NaN   \n",
              "1                            NaN                          NaN   \n",
              "2                            NaN                          NaN   \n",
              "3                            NaN                          NaN   \n",
              "4                            NaN                          NaN   \n",
              "\n",
              "  disbursement_method debt_settlement_flag  debt_settlement_flag_date  \\\n",
              "0                Cash                    N                        NaN   \n",
              "1                Cash                    N                        NaN   \n",
              "2                Cash                    N                        NaN   \n",
              "3                Cash                    N                        NaN   \n",
              "4                Cash                    N                        NaN   \n",
              "\n",
              "  settlement_status settlement_date settlement_amount settlement_percentage  \\\n",
              "0               NaN             NaN               NaN                   NaN   \n",
              "1               NaN             NaN               NaN                   NaN   \n",
              "2               NaN             NaN               NaN                   NaN   \n",
              "3               NaN             NaN               NaN                   NaN   \n",
              "4               NaN             NaN               NaN                   NaN   \n",
              "\n",
              "  settlement_term  \n",
              "0             NaN  \n",
              "1             NaN  \n",
              "2             NaN  \n",
              "3             NaN  \n",
              "4             NaN  \n",
              "\n",
              "[5 rows x 151 columns]"
            ],
            "text/html": [
              "\n",
              "  <div id=\"df-d8bb8447-6c3c-4d26-9cb9-4cb62412eb34\">\n",
              "    <div class=\"colab-df-container\">\n",
              "      <div>\n",
              "<style scoped>\n",
              "    .dataframe tbody tr th:only-of-type {\n",
              "        vertical-align: middle;\n",
              "    }\n",
              "\n",
              "    .dataframe tbody tr th {\n",
              "        vertical-align: top;\n",
              "    }\n",
              "\n",
              "    .dataframe thead th {\n",
              "        text-align: right;\n",
              "    }\n",
              "</style>\n",
              "<table border=\"1\" class=\"dataframe\">\n",
              "  <thead>\n",
              "    <tr style=\"text-align: right;\">\n",
              "      <th></th>\n",
              "      <th>Unnamed: 0</th>\n",
              "      <th>id</th>\n",
              "      <th>member_id</th>\n",
              "      <th>loan_amnt</th>\n",
              "      <th>funded_amnt</th>\n",
              "      <th>funded_amnt_inv</th>\n",
              "      <th>term</th>\n",
              "      <th>int_rate</th>\n",
              "      <th>installment</th>\n",
              "      <th>grade</th>\n",
              "      <th>...</th>\n",
              "      <th>hardship_payoff_balance_amount</th>\n",
              "      <th>hardship_last_payment_amount</th>\n",
              "      <th>disbursement_method</th>\n",
              "      <th>debt_settlement_flag</th>\n",
              "      <th>debt_settlement_flag_date</th>\n",
              "      <th>settlement_status</th>\n",
              "      <th>settlement_date</th>\n",
              "      <th>settlement_amount</th>\n",
              "      <th>settlement_percentage</th>\n",
              "      <th>settlement_term</th>\n",
              "    </tr>\n",
              "  </thead>\n",
              "  <tbody>\n",
              "    <tr>\n",
              "      <th>0</th>\n",
              "      <td>0</td>\n",
              "      <td>38098114</td>\n",
              "      <td>NaN</td>\n",
              "      <td>15000.0</td>\n",
              "      <td>15000.0</td>\n",
              "      <td>15000.0</td>\n",
              "      <td>60 months</td>\n",
              "      <td>12.39</td>\n",
              "      <td>336.64</td>\n",
              "      <td>C</td>\n",
              "      <td>...</td>\n",
              "      <td>NaN</td>\n",
              "      <td>NaN</td>\n",
              "      <td>Cash</td>\n",
              "      <td>N</td>\n",
              "      <td>NaN</td>\n",
              "      <td>NaN</td>\n",
              "      <td>NaN</td>\n",
              "      <td>NaN</td>\n",
              "      <td>NaN</td>\n",
              "      <td>NaN</td>\n",
              "    </tr>\n",
              "    <tr>\n",
              "      <th>1</th>\n",
              "      <td>1</td>\n",
              "      <td>36805548</td>\n",
              "      <td>NaN</td>\n",
              "      <td>10400.0</td>\n",
              "      <td>10400.0</td>\n",
              "      <td>10400.0</td>\n",
              "      <td>36 months</td>\n",
              "      <td>6.99</td>\n",
              "      <td>321.08</td>\n",
              "      <td>A</td>\n",
              "      <td>...</td>\n",
              "      <td>NaN</td>\n",
              "      <td>NaN</td>\n",
              "      <td>Cash</td>\n",
              "      <td>N</td>\n",
              "      <td>NaN</td>\n",
              "      <td>NaN</td>\n",
              "      <td>NaN</td>\n",
              "      <td>NaN</td>\n",
              "      <td>NaN</td>\n",
              "      <td>NaN</td>\n",
              "    </tr>\n",
              "    <tr>\n",
              "      <th>2</th>\n",
              "      <td>2</td>\n",
              "      <td>37842129</td>\n",
              "      <td>NaN</td>\n",
              "      <td>21425.0</td>\n",
              "      <td>21425.0</td>\n",
              "      <td>21425.0</td>\n",
              "      <td>60 months</td>\n",
              "      <td>15.59</td>\n",
              "      <td>516.36</td>\n",
              "      <td>D</td>\n",
              "      <td>...</td>\n",
              "      <td>NaN</td>\n",
              "      <td>NaN</td>\n",
              "      <td>Cash</td>\n",
              "      <td>N</td>\n",
              "      <td>NaN</td>\n",
              "      <td>NaN</td>\n",
              "      <td>NaN</td>\n",
              "      <td>NaN</td>\n",
              "      <td>NaN</td>\n",
              "      <td>NaN</td>\n",
              "    </tr>\n",
              "    <tr>\n",
              "      <th>3</th>\n",
              "      <td>3</td>\n",
              "      <td>37612354</td>\n",
              "      <td>NaN</td>\n",
              "      <td>12800.0</td>\n",
              "      <td>12800.0</td>\n",
              "      <td>12800.0</td>\n",
              "      <td>60 months</td>\n",
              "      <td>17.14</td>\n",
              "      <td>319.08</td>\n",
              "      <td>D</td>\n",
              "      <td>...</td>\n",
              "      <td>NaN</td>\n",
              "      <td>NaN</td>\n",
              "      <td>Cash</td>\n",
              "      <td>N</td>\n",
              "      <td>NaN</td>\n",
              "      <td>NaN</td>\n",
              "      <td>NaN</td>\n",
              "      <td>NaN</td>\n",
              "      <td>NaN</td>\n",
              "      <td>NaN</td>\n",
              "    </tr>\n",
              "    <tr>\n",
              "      <th>4</th>\n",
              "      <td>4</td>\n",
              "      <td>37662224</td>\n",
              "      <td>NaN</td>\n",
              "      <td>7650.0</td>\n",
              "      <td>7650.0</td>\n",
              "      <td>7650.0</td>\n",
              "      <td>36 months</td>\n",
              "      <td>13.66</td>\n",
              "      <td>260.20</td>\n",
              "      <td>C</td>\n",
              "      <td>...</td>\n",
              "      <td>NaN</td>\n",
              "      <td>NaN</td>\n",
              "      <td>Cash</td>\n",
              "      <td>N</td>\n",
              "      <td>NaN</td>\n",
              "      <td>NaN</td>\n",
              "      <td>NaN</td>\n",
              "      <td>NaN</td>\n",
              "      <td>NaN</td>\n",
              "      <td>NaN</td>\n",
              "    </tr>\n",
              "  </tbody>\n",
              "</table>\n",
              "<p>5 rows × 151 columns</p>\n",
              "</div>\n",
              "      <button class=\"colab-df-convert\" onclick=\"convertToInteractive('df-d8bb8447-6c3c-4d26-9cb9-4cb62412eb34')\"\n",
              "              title=\"Convert this dataframe to an interactive table.\"\n",
              "              style=\"display:none;\">\n",
              "        \n",
              "  <svg xmlns=\"http://www.w3.org/2000/svg\" height=\"24px\"viewBox=\"0 0 24 24\"\n",
              "       width=\"24px\">\n",
              "    <path d=\"M0 0h24v24H0V0z\" fill=\"none\"/>\n",
              "    <path d=\"M18.56 5.44l.94 2.06.94-2.06 2.06-.94-2.06-.94-.94-2.06-.94 2.06-2.06.94zm-11 1L8.5 8.5l.94-2.06 2.06-.94-2.06-.94L8.5 2.5l-.94 2.06-2.06.94zm10 10l.94 2.06.94-2.06 2.06-.94-2.06-.94-.94-2.06-.94 2.06-2.06.94z\"/><path d=\"M17.41 7.96l-1.37-1.37c-.4-.4-.92-.59-1.43-.59-.52 0-1.04.2-1.43.59L10.3 9.45l-7.72 7.72c-.78.78-.78 2.05 0 2.83L4 21.41c.39.39.9.59 1.41.59.51 0 1.02-.2 1.41-.59l7.78-7.78 2.81-2.81c.8-.78.8-2.07 0-2.86zM5.41 20L4 18.59l7.72-7.72 1.47 1.35L5.41 20z\"/>\n",
              "  </svg>\n",
              "      </button>\n",
              "      \n",
              "  <style>\n",
              "    .colab-df-container {\n",
              "      display:flex;\n",
              "      flex-wrap:wrap;\n",
              "      gap: 12px;\n",
              "    }\n",
              "\n",
              "    .colab-df-convert {\n",
              "      background-color: #E8F0FE;\n",
              "      border: none;\n",
              "      border-radius: 50%;\n",
              "      cursor: pointer;\n",
              "      display: none;\n",
              "      fill: #1967D2;\n",
              "      height: 32px;\n",
              "      padding: 0 0 0 0;\n",
              "      width: 32px;\n",
              "    }\n",
              "\n",
              "    .colab-df-convert:hover {\n",
              "      background-color: #E2EBFA;\n",
              "      box-shadow: 0px 1px 2px rgba(60, 64, 67, 0.3), 0px 1px 3px 1px rgba(60, 64, 67, 0.15);\n",
              "      fill: #174EA6;\n",
              "    }\n",
              "\n",
              "    [theme=dark] .colab-df-convert {\n",
              "      background-color: #3B4455;\n",
              "      fill: #D2E3FC;\n",
              "    }\n",
              "\n",
              "    [theme=dark] .colab-df-convert:hover {\n",
              "      background-color: #434B5C;\n",
              "      box-shadow: 0px 1px 3px 1px rgba(0, 0, 0, 0.15);\n",
              "      filter: drop-shadow(0px 1px 2px rgba(0, 0, 0, 0.3));\n",
              "      fill: #FFFFFF;\n",
              "    }\n",
              "  </style>\n",
              "\n",
              "      <script>\n",
              "        const buttonEl =\n",
              "          document.querySelector('#df-d8bb8447-6c3c-4d26-9cb9-4cb62412eb34 button.colab-df-convert');\n",
              "        buttonEl.style.display =\n",
              "          google.colab.kernel.accessAllowed ? 'block' : 'none';\n",
              "\n",
              "        async function convertToInteractive(key) {\n",
              "          const element = document.querySelector('#df-d8bb8447-6c3c-4d26-9cb9-4cb62412eb34');\n",
              "          const dataTable =\n",
              "            await google.colab.kernel.invokeFunction('convertToInteractive',\n",
              "                                                     [key], {});\n",
              "          if (!dataTable) return;\n",
              "\n",
              "          const docLinkHtml = 'Like what you see? Visit the ' +\n",
              "            '<a target=\"_blank\" href=https://colab.research.google.com/notebooks/data_table.ipynb>data table notebook</a>'\n",
              "            + ' to learn more about interactive tables.';\n",
              "          element.innerHTML = '';\n",
              "          dataTable['output_type'] = 'display_data';\n",
              "          await google.colab.output.renderOutput(dataTable, element);\n",
              "          const docLink = document.createElement('div');\n",
              "          docLink.innerHTML = docLinkHtml;\n",
              "          element.appendChild(docLink);\n",
              "        }\n",
              "      </script>\n",
              "    </div>\n",
              "  </div>\n",
              "  "
            ]
          },
          "metadata": {},
          "execution_count": 1855
        }
      ]
    },
    {
      "cell_type": "code",
      "source": [
        "dataset['Unnamed: 0'].unique().shape"
      ],
      "metadata": {
        "colab": {
          "base_uri": "https://localhost:8080/"
        },
        "id": "AEu0EhRIP8sz",
        "outputId": "a423cda8-50fd-4b42-aa74-5991283dd00f"
      },
      "execution_count": 1856,
      "outputs": [
        {
          "output_type": "execute_result",
          "data": {
            "text/plain": [
              "(100000,)"
            ]
          },
          "metadata": {},
          "execution_count": 1856
        }
      ]
    },
    {
      "cell_type": "code",
      "metadata": {
        "id": "NJlGGHKC_vrs"
      },
      "source": [
        "del dataset['Unnamed: 0']"
      ],
      "execution_count": 1857,
      "outputs": []
    },
    {
      "cell_type": "markdown",
      "metadata": {
        "id": "gvXXdz-UYH9P"
      },
      "source": [
        "Diccionario con la descripcion de los datos."
      ]
    },
    {
      "cell_type": "code",
      "metadata": {
        "id": "VZtAGbPkYCR5"
      },
      "source": [
        "datos_dict = pd.read_excel('https://resources.lendingclub.com/LCDataDictionary.xlsx')\n",
        "datos_dict.columns = ['feature', 'description']"
      ],
      "execution_count": 1858,
      "outputs": []
    },
    {
      "cell_type": "code",
      "source": [
        "datos_dict"
      ],
      "metadata": {
        "colab": {
          "base_uri": "https://localhost:8080/",
          "height": 424
        },
        "id": "SsRdKJgtQWUH",
        "outputId": "3eaf7076-9b12-4456-d291-213c5ab4fcc9"
      },
      "execution_count": 1859,
      "outputs": [
        {
          "output_type": "execute_result",
          "data": {
            "text/plain": [
              "                   feature                                        description\n",
              "0           acc_now_delinq  The number of accounts on which the borrower i...\n",
              "1     acc_open_past_24mths         Number of trades opened in past 24 months.\n",
              "2               addr_state  The state provided by the borrower in the loan...\n",
              "3                 all_util              Balance to credit limit on all trades\n",
              "4               annual_inc  The self-reported annual income provided by th...\n",
              "..                     ...                                                ...\n",
              "148      settlement_amount  The loan amount that the borrower has agreed t...\n",
              "149  settlement_percentage  The settlement amount as a percentage of the p...\n",
              "150        settlement_term  The number of months that the borrower will be...\n",
              "151                    NaN                                                NaN\n",
              "152                    NaN  * Employer Title replaces Employer Name for al...\n",
              "\n",
              "[153 rows x 2 columns]"
            ],
            "text/html": [
              "\n",
              "  <div id=\"df-24b371b4-450f-4658-8f28-bb0aeb78d3e4\">\n",
              "    <div class=\"colab-df-container\">\n",
              "      <div>\n",
              "<style scoped>\n",
              "    .dataframe tbody tr th:only-of-type {\n",
              "        vertical-align: middle;\n",
              "    }\n",
              "\n",
              "    .dataframe tbody tr th {\n",
              "        vertical-align: top;\n",
              "    }\n",
              "\n",
              "    .dataframe thead th {\n",
              "        text-align: right;\n",
              "    }\n",
              "</style>\n",
              "<table border=\"1\" class=\"dataframe\">\n",
              "  <thead>\n",
              "    <tr style=\"text-align: right;\">\n",
              "      <th></th>\n",
              "      <th>feature</th>\n",
              "      <th>description</th>\n",
              "    </tr>\n",
              "  </thead>\n",
              "  <tbody>\n",
              "    <tr>\n",
              "      <th>0</th>\n",
              "      <td>acc_now_delinq</td>\n",
              "      <td>The number of accounts on which the borrower i...</td>\n",
              "    </tr>\n",
              "    <tr>\n",
              "      <th>1</th>\n",
              "      <td>acc_open_past_24mths</td>\n",
              "      <td>Number of trades opened in past 24 months.</td>\n",
              "    </tr>\n",
              "    <tr>\n",
              "      <th>2</th>\n",
              "      <td>addr_state</td>\n",
              "      <td>The state provided by the borrower in the loan...</td>\n",
              "    </tr>\n",
              "    <tr>\n",
              "      <th>3</th>\n",
              "      <td>all_util</td>\n",
              "      <td>Balance to credit limit on all trades</td>\n",
              "    </tr>\n",
              "    <tr>\n",
              "      <th>4</th>\n",
              "      <td>annual_inc</td>\n",
              "      <td>The self-reported annual income provided by th...</td>\n",
              "    </tr>\n",
              "    <tr>\n",
              "      <th>...</th>\n",
              "      <td>...</td>\n",
              "      <td>...</td>\n",
              "    </tr>\n",
              "    <tr>\n",
              "      <th>148</th>\n",
              "      <td>settlement_amount</td>\n",
              "      <td>The loan amount that the borrower has agreed t...</td>\n",
              "    </tr>\n",
              "    <tr>\n",
              "      <th>149</th>\n",
              "      <td>settlement_percentage</td>\n",
              "      <td>The settlement amount as a percentage of the p...</td>\n",
              "    </tr>\n",
              "    <tr>\n",
              "      <th>150</th>\n",
              "      <td>settlement_term</td>\n",
              "      <td>The number of months that the borrower will be...</td>\n",
              "    </tr>\n",
              "    <tr>\n",
              "      <th>151</th>\n",
              "      <td>NaN</td>\n",
              "      <td>NaN</td>\n",
              "    </tr>\n",
              "    <tr>\n",
              "      <th>152</th>\n",
              "      <td>NaN</td>\n",
              "      <td>* Employer Title replaces Employer Name for al...</td>\n",
              "    </tr>\n",
              "  </tbody>\n",
              "</table>\n",
              "<p>153 rows × 2 columns</p>\n",
              "</div>\n",
              "      <button class=\"colab-df-convert\" onclick=\"convertToInteractive('df-24b371b4-450f-4658-8f28-bb0aeb78d3e4')\"\n",
              "              title=\"Convert this dataframe to an interactive table.\"\n",
              "              style=\"display:none;\">\n",
              "        \n",
              "  <svg xmlns=\"http://www.w3.org/2000/svg\" height=\"24px\"viewBox=\"0 0 24 24\"\n",
              "       width=\"24px\">\n",
              "    <path d=\"M0 0h24v24H0V0z\" fill=\"none\"/>\n",
              "    <path d=\"M18.56 5.44l.94 2.06.94-2.06 2.06-.94-2.06-.94-.94-2.06-.94 2.06-2.06.94zm-11 1L8.5 8.5l.94-2.06 2.06-.94-2.06-.94L8.5 2.5l-.94 2.06-2.06.94zm10 10l.94 2.06.94-2.06 2.06-.94-2.06-.94-.94-2.06-.94 2.06-2.06.94z\"/><path d=\"M17.41 7.96l-1.37-1.37c-.4-.4-.92-.59-1.43-.59-.52 0-1.04.2-1.43.59L10.3 9.45l-7.72 7.72c-.78.78-.78 2.05 0 2.83L4 21.41c.39.39.9.59 1.41.59.51 0 1.02-.2 1.41-.59l7.78-7.78 2.81-2.81c.8-.78.8-2.07 0-2.86zM5.41 20L4 18.59l7.72-7.72 1.47 1.35L5.41 20z\"/>\n",
              "  </svg>\n",
              "      </button>\n",
              "      \n",
              "  <style>\n",
              "    .colab-df-container {\n",
              "      display:flex;\n",
              "      flex-wrap:wrap;\n",
              "      gap: 12px;\n",
              "    }\n",
              "\n",
              "    .colab-df-convert {\n",
              "      background-color: #E8F0FE;\n",
              "      border: none;\n",
              "      border-radius: 50%;\n",
              "      cursor: pointer;\n",
              "      display: none;\n",
              "      fill: #1967D2;\n",
              "      height: 32px;\n",
              "      padding: 0 0 0 0;\n",
              "      width: 32px;\n",
              "    }\n",
              "\n",
              "    .colab-df-convert:hover {\n",
              "      background-color: #E2EBFA;\n",
              "      box-shadow: 0px 1px 2px rgba(60, 64, 67, 0.3), 0px 1px 3px 1px rgba(60, 64, 67, 0.15);\n",
              "      fill: #174EA6;\n",
              "    }\n",
              "\n",
              "    [theme=dark] .colab-df-convert {\n",
              "      background-color: #3B4455;\n",
              "      fill: #D2E3FC;\n",
              "    }\n",
              "\n",
              "    [theme=dark] .colab-df-convert:hover {\n",
              "      background-color: #434B5C;\n",
              "      box-shadow: 0px 1px 3px 1px rgba(0, 0, 0, 0.15);\n",
              "      filter: drop-shadow(0px 1px 2px rgba(0, 0, 0, 0.3));\n",
              "      fill: #FFFFFF;\n",
              "    }\n",
              "  </style>\n",
              "\n",
              "      <script>\n",
              "        const buttonEl =\n",
              "          document.querySelector('#df-24b371b4-450f-4658-8f28-bb0aeb78d3e4 button.colab-df-convert');\n",
              "        buttonEl.style.display =\n",
              "          google.colab.kernel.accessAllowed ? 'block' : 'none';\n",
              "\n",
              "        async function convertToInteractive(key) {\n",
              "          const element = document.querySelector('#df-24b371b4-450f-4658-8f28-bb0aeb78d3e4');\n",
              "          const dataTable =\n",
              "            await google.colab.kernel.invokeFunction('convertToInteractive',\n",
              "                                                     [key], {});\n",
              "          if (!dataTable) return;\n",
              "\n",
              "          const docLinkHtml = 'Like what you see? Visit the ' +\n",
              "            '<a target=\"_blank\" href=https://colab.research.google.com/notebooks/data_table.ipynb>data table notebook</a>'\n",
              "            + ' to learn more about interactive tables.';\n",
              "          element.innerHTML = '';\n",
              "          dataTable['output_type'] = 'display_data';\n",
              "          await google.colab.output.renderOutput(dataTable, element);\n",
              "          const docLink = document.createElement('div');\n",
              "          docLink.innerHTML = docLinkHtml;\n",
              "          element.appendChild(docLink);\n",
              "        }\n",
              "      </script>\n",
              "    </div>\n",
              "  </div>\n",
              "  "
            ]
          },
          "metadata": {},
          "execution_count": 1859
        }
      ]
    },
    {
      "cell_type": "markdown",
      "metadata": {
        "id": "LZMHvydX__ka"
      },
      "source": [
        "# EDA"
      ]
    },
    {
      "cell_type": "markdown",
      "metadata": {
        "id": "zvT_U2PRAO0Z"
      },
      "source": [
        "## Variable Target -> Default de Prestamo"
      ]
    },
    {
      "cell_type": "code",
      "metadata": {
        "colab": {
          "base_uri": "https://localhost:8080/"
        },
        "id": "LZp_TcQEACEG",
        "outputId": "6665d597-2d16-48ee-eaf7-f95d2f90f3dd"
      },
      "source": [
        "dataset['loan_status'].value_counts(dropna=False)"
      ],
      "execution_count": 1860,
      "outputs": [
        {
          "output_type": "execute_result",
          "data": {
            "text/plain": [
              "Fully Paid            69982\n",
              "Charged Off           16156\n",
              "Current               12726\n",
              "Late (31-120 days)      730\n",
              "In Grace Period         264\n",
              "Late (16-30 days)       139\n",
              "Default                   3\n",
              "Name: loan_status, dtype: int64"
            ]
          },
          "metadata": {},
          "execution_count": 1860
        }
      ]
    },
    {
      "cell_type": "markdown",
      "metadata": {
        "id": "Ic9NVUESBRiu"
      },
      "source": [
        "En este caso las variables que nos interesan son los prestamos terminados, ya sea porque pagaron `Fully Paid` o porque no pagaron y el prestamo se dio por perdido `Charged Off`.  \n",
        "En este caso las demas opciones, incluyendo `Default`, implican que el prestamo sigue en curso y no ha sido concluido, asi que las ignoraremos."
      ]
    },
    {
      "cell_type": "code",
      "metadata": {
        "colab": {
          "base_uri": "https://localhost:8080/"
        },
        "id": "u3qPWAlbB3CE",
        "outputId": "b5b539a3-4a1d-4a55-d5de-eb748bc01eba"
      },
      "source": [
        "dataset = dataset.loc[dataset['loan_status'].isin(['Fully Paid', \n",
        "                                                   'Charged Off'])]\n",
        "dataset['loan_status'].value_counts(normalize=True, dropna=False)"
      ],
      "execution_count": 1861,
      "outputs": [
        {
          "output_type": "execute_result",
          "data": {
            "text/plain": [
              "Fully Paid     0.812441\n",
              "Charged Off    0.187559\n",
              "Name: loan_status, dtype: float64"
            ]
          },
          "metadata": {},
          "execution_count": 1861
        }
      ]
    },
    {
      "cell_type": "markdown",
      "metadata": {
        "id": "Zr-dxP9gCD7y"
      },
      "source": [
        "Podemos observar que tenemos una distribucion de labels cercana al 80/20. 81% de los prestamos fueron liquidados exitosamente, mientras que el 19% nunca fue pagado.  "
      ]
    },
    {
      "cell_type": "markdown",
      "metadata": {
        "id": "ifIc_rx1CgMc"
      },
      "source": [
        "Creemos el label de 0 o 1 en la columna `charged_off`."
      ]
    },
    {
      "cell_type": "code",
      "metadata": {
        "colab": {
          "base_uri": "https://localhost:8080/"
        },
        "id": "ux3rIjT_CU43",
        "outputId": "2514e0e6-7712-41a2-8660-946b580ec431"
      },
      "source": [
        "dataset['charged_off'] = (dataset['loan_status'] == 'Charged Off').apply(np.uint8)\n",
        "dataset.drop('loan_status', axis=1, inplace=True)\n",
        "dataset['charged_off'].unique()"
      ],
      "execution_count": 1862,
      "outputs": [
        {
          "output_type": "stream",
          "name": "stderr",
          "text": [
            "<ipython-input-1862-e4f55b937d15>:1: SettingWithCopyWarning: \n",
            "A value is trying to be set on a copy of a slice from a DataFrame.\n",
            "Try using .loc[row_indexer,col_indexer] = value instead\n",
            "\n",
            "See the caveats in the documentation: https://pandas.pydata.org/pandas-docs/stable/user_guide/indexing.html#returning-a-view-versus-a-copy\n",
            "  dataset['charged_off'] = (dataset['loan_status'] == 'Charged Off').apply(np.uint8)\n",
            "/usr/local/lib/python3.8/dist-packages/pandas/core/frame.py:4906: SettingWithCopyWarning: \n",
            "A value is trying to be set on a copy of a slice from a DataFrame\n",
            "\n",
            "See the caveats in the documentation: https://pandas.pydata.org/pandas-docs/stable/user_guide/indexing.html#returning-a-view-versus-a-copy\n",
            "  \n"
          ]
        },
        {
          "output_type": "execute_result",
          "data": {
            "text/plain": [
              "array([0, 1], dtype=int8)"
            ]
          },
          "metadata": {},
          "execution_count": 1862
        }
      ]
    },
    {
      "cell_type": "markdown",
      "source": [
        "## Separacion Train y Validacion \n"
      ],
      "metadata": {
        "id": "JPRODwbvqgtu"
      }
    },
    {
      "cell_type": "markdown",
      "source": [
        "En este caso como existen datos que no usamos, usaremos la validacion como test."
      ],
      "metadata": {
        "id": "N7zxODI0qlQ1"
      }
    },
    {
      "cell_type": "code",
      "source": [
        "# Estratificamos de manera que esten balanceados los datos de acuerdo a \n",
        "# nuestro label 'charged_off'\n",
        "data_train, data_test = train_test_split(dataset,\n",
        "                                    stratify=dataset['charged_off'], \n",
        "                                    test_size=0.2, random_state=453890)"
      ],
      "metadata": {
        "id": "OYzXsT65qr6I"
      },
      "execution_count": 1863,
      "outputs": []
    },
    {
      "cell_type": "code",
      "source": [
        "print(data_train.shape)\n",
        "data_train['charged_off'].value_counts(normalize=True, dropna=False)"
      ],
      "metadata": {
        "colab": {
          "base_uri": "https://localhost:8080/"
        },
        "id": "henh_rgfrZUj",
        "outputId": "5d7d4e2c-fe0c-449a-92b3-d0697a91f8a3"
      },
      "execution_count": 1864,
      "outputs": [
        {
          "output_type": "stream",
          "name": "stdout",
          "text": [
            "(68910, 150)\n"
          ]
        },
        {
          "output_type": "execute_result",
          "data": {
            "text/plain": [
              "0    0.812437\n",
              "1    0.187563\n",
              "Name: charged_off, dtype: float64"
            ]
          },
          "metadata": {},
          "execution_count": 1864
        }
      ]
    },
    {
      "cell_type": "code",
      "source": [
        "print(data_test.shape)\n",
        "data_test['charged_off'].value_counts(normalize=True, dropna=False)\n"
      ],
      "metadata": {
        "colab": {
          "base_uri": "https://localhost:8080/"
        },
        "id": "0U6yiewKrpqA",
        "outputId": "7ddc9369-6dbd-4db1-d851-c6ff1a5f2f8d"
      },
      "execution_count": 1865,
      "outputs": [
        {
          "output_type": "stream",
          "name": "stdout",
          "text": [
            "(17228, 150)\n"
          ]
        },
        {
          "output_type": "execute_result",
          "data": {
            "text/plain": [
              "0    0.812456\n",
              "1    0.187544\n",
              "Name: charged_off, dtype: float64"
            ]
          },
          "metadata": {},
          "execution_count": 1865
        }
      ]
    },
    {
      "cell_type": "markdown",
      "source": [
        "**Recuerda evitar decisiones utilizando el Test** Aunque para hacer los modelos compatibles hay que aplicar exactamente las mismas transformaciones que apliques al train."
      ],
      "metadata": {
        "id": "0rl9iqgKsESA"
      }
    },
    {
      "cell_type": "markdown",
      "metadata": {
        "id": "9Jj-bO9sDEJp"
      },
      "source": [
        "## Feature Selection"
      ]
    },
    {
      "cell_type": "markdown",
      "metadata": {
        "id": "0JpPe3uHomRg"
      },
      "source": [
        "Dada la cantidad de variables, en esta ocasion reduciremos el numero de variables antes de continuar."
      ]
    },
    {
      "cell_type": "markdown",
      "metadata": {
        "id": "bPURqGaUEJnK"
      },
      "source": [
        "Nuestra base de datos tiene 150 variables y 100 mil observaciones. Seria conveniente reducir la dimensionalidad. Sugerimos 4 criterios de **eliminacion**:\n",
        "+ Baja correlacion con la variable objetivo\n",
        "+ Alta correlacion entre ellas\n",
        "+ Muchos Missings/NAs\n",
        "+ Conocimiento del fenomeno/negocio "
      ]
    },
    {
      "cell_type": "markdown",
      "metadata": {
        "id": "6XdR-LBfHIEd"
      },
      "source": [
        "### Baja correlacion con el objetivo"
      ]
    },
    {
      "cell_type": "markdown",
      "metadata": {
        "id": "F0eClpu1m8S5"
      },
      "source": [
        "Una baja correlacion con el objetivo implica que explica poco."
      ]
    },
    {
      "cell_type": "code",
      "metadata": {
        "id": "uWts4N5XHLBl"
      },
      "source": [
        "correlacion = data_train.corr()\n",
        "correlacion_y = abs(correlacion['charged_off'])"
      ],
      "execution_count": 1866,
      "outputs": []
    },
    {
      "cell_type": "code",
      "metadata": {
        "colab": {
          "base_uri": "https://localhost:8080/"
        },
        "id": "hNp4Ll7pHbpY",
        "outputId": "45e13928-5f0b-4fc1-e862-8a79b0882e2a"
      },
      "source": [
        "correlacion_y.sort_values(ascending=False)"
      ],
      "execution_count": 1867,
      "outputs": [
        {
          "output_type": "execute_result",
          "data": {
            "text/plain": [
              "charged_off                                   1.000000\n",
              "last_fico_range_high                          0.661246\n",
              "last_fico_range_low                           0.581128\n",
              "recoveries                                    0.517982\n",
              "collection_recovery_fee                       0.497914\n",
              "                                                ...   \n",
              "hardship_length                                    NaN\n",
              "orig_projected_additional_accrued_interest         NaN\n",
              "settlement_amount                                  NaN\n",
              "settlement_percentage                              NaN\n",
              "settlement_term                                    NaN\n",
              "Name: charged_off, Length: 117, dtype: float64"
            ]
          },
          "metadata": {},
          "execution_count": 1867
        }
      ]
    },
    {
      "cell_type": "markdown",
      "metadata": {
        "id": "B-LPFsJ6HmAy"
      },
      "source": [
        "Los valores con NaNs es por que no tienen observaciones, las columnas estan llenas de missings."
      ]
    },
    {
      "cell_type": "code",
      "metadata": {
        "colab": {
          "base_uri": "https://localhost:8080/"
        },
        "id": "xIEPlmWpHUPq",
        "outputId": "94b32aa4-4925-48ab-e3a9-6a9ead1bd5e0"
      },
      "source": [
        "correlacion_y.describe()"
      ],
      "execution_count": 1868,
      "outputs": [
        {
          "output_type": "execute_result",
          "data": {
            "text/plain": [
              "count    77.000000\n",
              "mean      0.105295\n",
              "std       0.172727\n",
              "min       0.000684\n",
              "25%       0.010804\n",
              "50%       0.048290\n",
              "75%       0.086554\n",
              "max       1.000000\n",
              "Name: charged_off, dtype: float64"
            ]
          },
          "metadata": {},
          "execution_count": 1868
        }
      ]
    },
    {
      "cell_type": "code",
      "metadata": {
        "colab": {
          "base_uri": "https://localhost:8080/"
        },
        "id": "mdWs49nXIVYK",
        "outputId": "71c9ae55-2534-4d6c-f41b-f953f6990579"
      },
      "source": [
        "drop_corr = sorted(list(correlacion_y[correlacion_y < 0.03].index))\n",
        "print(f'Numero de columnas a quitar {len(drop_corr)} \\n',drop_corr)"
      ],
      "execution_count": 1869,
      "outputs": [
        {
          "output_type": "stream",
          "name": "stdout",
          "text": [
            "Numero de columnas a quitar 28 \n",
            " ['acc_now_delinq', 'chargeoff_within_12_mths', 'collections_12_mths_ex_med', 'delinq_2yrs', 'delinq_amnt', 'id', 'mo_sin_old_il_acct', 'mths_since_last_delinq', 'mths_since_last_major_derog', 'mths_since_recent_bc_dlq', 'mths_since_recent_revol_delinq', 'num_accts_ever_120_pd', 'num_bc_sats', 'num_bc_tl', 'num_il_tl', 'num_rev_accts', 'num_tl_120dpd_2m', 'num_tl_30dpd', 'num_tl_90g_dpd_24m', 'pct_tl_nvr_dlq', 'pub_rec', 'pub_rec_bankruptcies', 'revol_bal', 'tax_liens', 'tot_coll_amt', 'total_acc', 'total_bal_ex_mort', 'total_il_high_credit_limit']\n"
          ]
        }
      ]
    },
    {
      "cell_type": "code",
      "metadata": {
        "colab": {
          "base_uri": "https://localhost:8080/"
        },
        "id": "MdBcZD3pl6fx",
        "outputId": "e39fe8e2-dc73-4d6b-b419-bf165f63588f"
      },
      "source": [
        "data_train.drop(labels=drop_corr, axis=1, inplace=True)\n",
        "data_train.shape"
      ],
      "execution_count": 1870,
      "outputs": [
        {
          "output_type": "execute_result",
          "data": {
            "text/plain": [
              "(68910, 122)"
            ]
          },
          "metadata": {},
          "execution_count": 1870
        }
      ]
    },
    {
      "cell_type": "code",
      "source": [
        "data_test.drop(labels=drop_corr, axis=1, inplace=True)\n",
        "data_test.shape"
      ],
      "metadata": {
        "colab": {
          "base_uri": "https://localhost:8080/"
        },
        "id": "4zNVPlJospjZ",
        "outputId": "0edfb88f-d114-4a6e-afbb-0dc521a91f03"
      },
      "execution_count": 1871,
      "outputs": [
        {
          "output_type": "execute_result",
          "data": {
            "text/plain": [
              "(17228, 122)"
            ]
          },
          "metadata": {},
          "execution_count": 1871
        }
      ]
    },
    {
      "cell_type": "markdown",
      "metadata": {
        "id": "GaKRUI8gFTJg"
      },
      "source": [
        "### Eliminacion por Missings"
      ]
    },
    {
      "cell_type": "markdown",
      "metadata": {
        "id": "Q1g0J5QqGUgd"
      },
      "source": [
        "La cota de .3 es totalmente arbitraria, una buena regla de dedo para este tipo de datos es entre .25 a .5, pero puede variar mucho."
      ]
    },
    {
      "cell_type": "code",
      "metadata": {
        "colab": {
          "base_uri": "https://localhost:8080/"
        },
        "id": "394iqJVBFm8O",
        "outputId": "ce8b17c4-b6c0-4e38-c0fa-7266a577acc6"
      },
      "source": [
        "missing_per = data_train.isnull().mean().sort_values(ascending=False)\n",
        "missing_per.describe()"
      ],
      "execution_count": 1872,
      "outputs": [
        {
          "output_type": "execute_result",
          "data": {
            "text/plain": [
              "count    122.000000\n",
              "mean       0.442512\n",
              "std        0.494833\n",
              "min        0.000000\n",
              "25%        0.000000\n",
              "50%        0.005660\n",
              "75%        1.000000\n",
              "max        1.000000\n",
              "dtype: float64"
            ]
          },
          "metadata": {},
          "execution_count": 1872
        }
      ]
    },
    {
      "cell_type": "code",
      "source": [
        "drop_miss_tr = sorted(list(missing_per[missing_per > 0.3].index))\n",
        "print(f'Numero de columnas a quitar {len(drop_miss)} \\n',drop_miss)"
      ],
      "metadata": {
        "colab": {
          "base_uri": "https://localhost:8080/"
        },
        "id": "LUYF8sdeubYC",
        "outputId": "96ae4744-cd94-4b0c-d567-050f43f03e1b"
      },
      "execution_count": 1873,
      "outputs": [
        {
          "output_type": "stream",
          "name": "stdout",
          "text": [
            "Numero de columnas a quitar 108 \n",
            " ['all_util', 'annual_inc_joint', 'debt_settlement_flag_date', 'deferral_term', 'desc', 'dti_joint', 'hardship_amount', 'hardship_dpd', 'hardship_end_date', 'hardship_last_payment_amount', 'hardship_length', 'hardship_loan_status', 'hardship_payoff_balance_amount', 'hardship_reason', 'hardship_start_date', 'hardship_status', 'hardship_type', 'il_util', 'inq_fi', 'inq_last_12m', 'max_bal_bc', 'member_id', 'mths_since_last_record', 'mths_since_rcnt_il', 'next_pymnt_d', 'open_acc_6m', 'open_act_il', 'open_il_12m', 'open_il_24m', 'open_rv_12m', 'open_rv_24m', 'orig_projected_additional_accrued_interest', 'payment_plan_start_date', 'revol_bal_joint', 'sec_app_chargeoff_within_12_mths', 'sec_app_collections_12_mths_ex_med', 'sec_app_earliest_cr_line', 'sec_app_fico_range_high', 'sec_app_fico_range_low', 'sec_app_inq_last_6mths', 'sec_app_mort_acc', 'sec_app_mths_since_last_major_derog', 'sec_app_num_rev_accts', 'sec_app_open_acc', 'sec_app_open_act_il', 'sec_app_revol_util', 'settlement_amount', 'settlement_date', 'settlement_percentage', 'settlement_status', 'settlement_term', 'total_bal_il', 'total_cu_tl', 'verification_status_joint', 'all_util', 'annual_inc_joint', 'debt_settlement_flag_date', 'deferral_term', 'desc', 'dti_joint', 'hardship_amount', 'hardship_dpd', 'hardship_end_date', 'hardship_last_payment_amount', 'hardship_length', 'hardship_loan_status', 'hardship_payoff_balance_amount', 'hardship_reason', 'hardship_start_date', 'hardship_status', 'hardship_type', 'il_util', 'inq_fi', 'inq_last_12m', 'max_bal_bc', 'member_id', 'mths_since_last_record', 'mths_since_rcnt_il', 'next_pymnt_d', 'open_acc_6m', 'open_act_il', 'open_il_12m', 'open_il_24m', 'open_rv_12m', 'open_rv_24m', 'orig_projected_additional_accrued_interest', 'payment_plan_start_date', 'revol_bal_joint', 'sec_app_chargeoff_within_12_mths', 'sec_app_collections_12_mths_ex_med', 'sec_app_earliest_cr_line', 'sec_app_fico_range_high', 'sec_app_fico_range_low', 'sec_app_inq_last_6mths', 'sec_app_mort_acc', 'sec_app_mths_since_last_major_derog', 'sec_app_num_rev_accts', 'sec_app_open_acc', 'sec_app_open_act_il', 'sec_app_revol_util', 'settlement_amount', 'settlement_date', 'settlement_percentage', 'settlement_status', 'settlement_term', 'total_bal_il', 'total_cu_tl', 'verification_status_joint']\n"
          ]
        }
      ]
    },
    {
      "cell_type": "code",
      "source": [
        "missing_per = data_test.isnull().mean().sort_values(ascending=False)\n",
        "missing_per.describe()"
      ],
      "metadata": {
        "colab": {
          "base_uri": "https://localhost:8080/"
        },
        "id": "qDkKtmZ1uSQL",
        "outputId": "8194116e-aa96-4967-f770-8d4be2e28548"
      },
      "execution_count": 1874,
      "outputs": [
        {
          "output_type": "execute_result",
          "data": {
            "text/plain": [
              "count    122.000000\n",
              "mean       0.442564\n",
              "std        0.494750\n",
              "min        0.000000\n",
              "25%        0.000000\n",
              "50%        0.006008\n",
              "75%        1.000000\n",
              "max        1.000000\n",
              "dtype: float64"
            ]
          },
          "metadata": {},
          "execution_count": 1874
        }
      ]
    },
    {
      "cell_type": "code",
      "metadata": {
        "colab": {
          "base_uri": "https://localhost:8080/"
        },
        "id": "8zNgmZZWF99k",
        "outputId": "3638c23f-41aa-48c3-a7ca-7f50ea5bc008"
      },
      "source": [
        "drop_miss_ts = sorted(list(missing_per[missing_per > 0.3].index))\n",
        "print(f'Numero de columnas a quitar {len(drop_miss)} \\n',drop_miss)"
      ],
      "execution_count": 1875,
      "outputs": [
        {
          "output_type": "stream",
          "name": "stdout",
          "text": [
            "Numero de columnas a quitar 108 \n",
            " ['all_util', 'annual_inc_joint', 'debt_settlement_flag_date', 'deferral_term', 'desc', 'dti_joint', 'hardship_amount', 'hardship_dpd', 'hardship_end_date', 'hardship_last_payment_amount', 'hardship_length', 'hardship_loan_status', 'hardship_payoff_balance_amount', 'hardship_reason', 'hardship_start_date', 'hardship_status', 'hardship_type', 'il_util', 'inq_fi', 'inq_last_12m', 'max_bal_bc', 'member_id', 'mths_since_last_record', 'mths_since_rcnt_il', 'next_pymnt_d', 'open_acc_6m', 'open_act_il', 'open_il_12m', 'open_il_24m', 'open_rv_12m', 'open_rv_24m', 'orig_projected_additional_accrued_interest', 'payment_plan_start_date', 'revol_bal_joint', 'sec_app_chargeoff_within_12_mths', 'sec_app_collections_12_mths_ex_med', 'sec_app_earliest_cr_line', 'sec_app_fico_range_high', 'sec_app_fico_range_low', 'sec_app_inq_last_6mths', 'sec_app_mort_acc', 'sec_app_mths_since_last_major_derog', 'sec_app_num_rev_accts', 'sec_app_open_acc', 'sec_app_open_act_il', 'sec_app_revol_util', 'settlement_amount', 'settlement_date', 'settlement_percentage', 'settlement_status', 'settlement_term', 'total_bal_il', 'total_cu_tl', 'verification_status_joint', 'all_util', 'annual_inc_joint', 'debt_settlement_flag_date', 'deferral_term', 'desc', 'dti_joint', 'hardship_amount', 'hardship_dpd', 'hardship_end_date', 'hardship_last_payment_amount', 'hardship_length', 'hardship_loan_status', 'hardship_payoff_balance_amount', 'hardship_reason', 'hardship_start_date', 'hardship_status', 'hardship_type', 'il_util', 'inq_fi', 'inq_last_12m', 'max_bal_bc', 'member_id', 'mths_since_last_record', 'mths_since_rcnt_il', 'next_pymnt_d', 'open_acc_6m', 'open_act_il', 'open_il_12m', 'open_il_24m', 'open_rv_12m', 'open_rv_24m', 'orig_projected_additional_accrued_interest', 'payment_plan_start_date', 'revol_bal_joint', 'sec_app_chargeoff_within_12_mths', 'sec_app_collections_12_mths_ex_med', 'sec_app_earliest_cr_line', 'sec_app_fico_range_high', 'sec_app_fico_range_low', 'sec_app_inq_last_6mths', 'sec_app_mort_acc', 'sec_app_mths_since_last_major_derog', 'sec_app_num_rev_accts', 'sec_app_open_acc', 'sec_app_open_act_il', 'sec_app_revol_util', 'settlement_amount', 'settlement_date', 'settlement_percentage', 'settlement_status', 'settlement_term', 'total_bal_il', 'total_cu_tl', 'verification_status_joint']\n"
          ]
        }
      ]
    },
    {
      "cell_type": "code",
      "metadata": {
        "id": "C45Uxp1ZmaLe"
      },
      "source": [
        "drop_miss = drop_miss_ts + drop_miss_tr\n",
        "data_test.drop(labels=drop_miss, axis=1, inplace=True)\n",
        "data_train.drop(labels=drop_miss, axis=1, inplace=True)\n"
      ],
      "execution_count": 1876,
      "outputs": []
    },
    {
      "cell_type": "code",
      "source": [
        "data_test.shape"
      ],
      "metadata": {
        "colab": {
          "base_uri": "https://localhost:8080/"
        },
        "id": "gpOK-kEgu6tQ",
        "outputId": "29824b92-db5e-436b-e3f7-06fa848d323d"
      },
      "execution_count": 1877,
      "outputs": [
        {
          "output_type": "execute_result",
          "data": {
            "text/plain": [
              "(17228, 68)"
            ]
          },
          "metadata": {},
          "execution_count": 1877
        }
      ]
    },
    {
      "cell_type": "code",
      "source": [
        "data_train.shape"
      ],
      "metadata": {
        "colab": {
          "base_uri": "https://localhost:8080/"
        },
        "id": "vkx1C97Eu-FC",
        "outputId": "67c6493e-a31e-483c-ea64-52312bff9a59"
      },
      "execution_count": 1878,
      "outputs": [
        {
          "output_type": "execute_result",
          "data": {
            "text/plain": [
              "(68910, 68)"
            ]
          },
          "metadata": {},
          "execution_count": 1878
        }
      ]
    },
    {
      "cell_type": "markdown",
      "metadata": {
        "id": "QGA5oVv7nnyq"
      },
      "source": [
        "### Conocimiento o Intuicion"
      ]
    },
    {
      "cell_type": "markdown",
      "metadata": {
        "id": "8eTAGCSk5ecc"
      },
      "source": [
        "Estas son algunas de las variables sugeridas por la comundiad de kaggle, sin embargo. Combiene que las revisemos nosotros manualmente.   \n",
        "Tambien devemos enfocarlos en eliminar leakages, y variables que no conoceremos *a priori*. Para ello tambien nos guiamos del siguiente documento:  [Credit Risk Analysis in Peer to Peer Lending Data set: Lending Club Club](https://digitalcommons.bard.edu/cgi/viewcontent.cgi?article=1299&context=senproj_s2019). Que es muy parecido al ejercicio que estamos realizando."
      ]
    },
    {
      "cell_type": "code",
      "metadata": {
        "colab": {
          "base_uri": "https://localhost:8080/"
        },
        "id": "RuXh11ydn2fv",
        "outputId": "1506da9e-069c-4c6b-8d71-881855dadb84"
      },
      "source": [
        "print(sorted(data_train.columns))"
      ],
      "execution_count": 1879,
      "outputs": [
        {
          "output_type": "stream",
          "name": "stdout",
          "text": [
            "['acc_open_past_24mths', 'addr_state', 'annual_inc', 'application_type', 'avg_cur_bal', 'bc_open_to_buy', 'bc_util', 'charged_off', 'collection_recovery_fee', 'debt_settlement_flag', 'disbursement_method', 'dti', 'earliest_cr_line', 'emp_length', 'emp_title', 'fico_range_high', 'fico_range_low', 'funded_amnt', 'funded_amnt_inv', 'grade', 'hardship_flag', 'home_ownership', 'initial_list_status', 'inq_last_6mths', 'installment', 'int_rate', 'issue_d', 'last_credit_pull_d', 'last_fico_range_high', 'last_fico_range_low', 'last_pymnt_amnt', 'last_pymnt_d', 'loan_amnt', 'mo_sin_old_rev_tl_op', 'mo_sin_rcnt_rev_tl_op', 'mo_sin_rcnt_tl', 'mort_acc', 'mths_since_recent_bc', 'mths_since_recent_inq', 'num_actv_bc_tl', 'num_actv_rev_tl', 'num_op_rev_tl', 'num_rev_tl_bal_gt_0', 'num_sats', 'num_tl_op_past_12m', 'open_acc', 'out_prncp', 'out_prncp_inv', 'percent_bc_gt_75', 'policy_code', 'purpose', 'pymnt_plan', 'recoveries', 'revol_util', 'sub_grade', 'term', 'title', 'tot_cur_bal', 'tot_hi_cred_lim', 'total_bc_limit', 'total_pymnt', 'total_pymnt_inv', 'total_rec_int', 'total_rec_late_fee', 'total_rec_prncp', 'total_rev_hi_lim', 'verification_status', 'zip_code']\n"
          ]
        }
      ]
    },
    {
      "cell_type": "code",
      "metadata": {
        "colab": {
          "base_uri": "https://localhost:8080/"
        },
        "id": "7vM-HF1_n-_E",
        "outputId": "fd903ba0-dce9-4918-e984-7c31d096529a"
      },
      "source": [
        "elegidas = ['charged_off','funded_amnt','addr_state', 'annual_inc',\n",
        "            'application_type', 'dti', 'earliest_cr_line', 'emp_length', \n",
        "            'emp_title', 'fico_range_high', 'fico_range_low', 'grade',\n",
        "            'home_ownership', 'initial_list_status', 'installment', \n",
        "            'int_rate', 'loan_amnt', 'loan_status', 'mort_acc', \n",
        "            'open_acc', 'pub_rec', 'pub_rec_bankruptcies', 'purpose', \n",
        "            'revol_bal', 'revol_util', 'sub_grade', 'term', 'title', \n",
        "            'total_acc', 'verification_status', 'zip_code',\n",
        "            'last_pymnt_amnt','num_actv_rev_tl', 'mo_sin_rcnt_rev_tl_op',\n",
        "            'mo_sin_old_rev_tl_op',\"bc_util\",\"bc_open_to_buy\",\"avg_cur_bal\",\n",
        "            \"acc_open_past_24mths\" ]\n",
        "len(elegidas)"
      ],
      "execution_count": 1880,
      "outputs": [
        {
          "output_type": "execute_result",
          "data": {
            "text/plain": [
              "39"
            ]
          },
          "metadata": {},
          "execution_count": 1880
        }
      ]
    },
    {
      "cell_type": "code",
      "metadata": {
        "id": "NON_qDMRoFze"
      },
      "source": [
        "drop_no_intuitivas = [col for col in data_train.columns if col not in elegidas]\n",
        "data_train.drop(labels=drop_no_intuitivas , axis=1, inplace=True)\n",
        "data_test.drop(labels=drop_no_intuitivas , axis=1, inplace=True)"
      ],
      "execution_count": 1881,
      "outputs": []
    },
    {
      "cell_type": "code",
      "source": [
        "data_train.shape"
      ],
      "metadata": {
        "colab": {
          "base_uri": "https://localhost:8080/"
        },
        "id": "FdUHkjE-vNs2",
        "outputId": "3c19e151-277e-4a60-82c9-fdebfbbae695"
      },
      "execution_count": 1882,
      "outputs": [
        {
          "output_type": "execute_result",
          "data": {
            "text/plain": [
              "(68910, 34)"
            ]
          },
          "metadata": {},
          "execution_count": 1882
        }
      ]
    },
    {
      "cell_type": "code",
      "source": [
        "data_test.shape"
      ],
      "metadata": {
        "colab": {
          "base_uri": "https://localhost:8080/"
        },
        "id": "kmufBQyivPMr",
        "outputId": "996f8892-b669-48c1-e8fb-6fa42951da92"
      },
      "execution_count": 1883,
      "outputs": [
        {
          "output_type": "execute_result",
          "data": {
            "text/plain": [
              "(17228, 34)"
            ]
          },
          "metadata": {},
          "execution_count": 1883
        }
      ]
    },
    {
      "cell_type": "markdown",
      "metadata": {
        "id": "Ax1U6iuXoa3x"
      },
      "source": [
        "## Feature Analysis & Eng"
      ]
    },
    {
      "cell_type": "markdown",
      "metadata": {
        "id": "OA_sACYVp6R8"
      },
      "source": [
        "Analisemos las variables que seleccionamos mas a detalle."
      ]
    },
    {
      "cell_type": "markdown",
      "metadata": {
        "id": "AkAnlnl1DoG9"
      },
      "source": [
        "Funcion Auxiliar para clasificar el tipo de variables."
      ]
    },
    {
      "cell_type": "code",
      "metadata": {
        "id": "-D8NcLR6DkaA"
      },
      "source": [
        "def _check_type(value):\n",
        "    ''' \n",
        "    Infiere si la variable es categorica o numerica\n",
        "    apartir del tipo\n",
        "    '''\n",
        "    if value==object:\n",
        "        return 'categorica'\n",
        "    elif value==bool:\n",
        "        return 'categorica' \n",
        "    elif value=='int64':\n",
        "        return 'numerica'\n",
        "    elif value=='float64':\n",
        "        return 'numerica'"
      ],
      "execution_count": 1884,
      "outputs": []
    },
    {
      "cell_type": "markdown",
      "metadata": {
        "id": "vlDe3ziNDsU7"
      },
      "source": [
        "Obtengamos el tipo de cada variable"
      ]
    },
    {
      "cell_type": "code",
      "metadata": {
        "colab": {
          "base_uri": "https://localhost:8080/",
          "height": 143
        },
        "id": "N5ejgXUVDrzW",
        "outputId": "0f0fa7d6-8386-4d1f-f769-1040cbd659ae"
      },
      "source": [
        "feature_type = pd.DataFrame(data_train.dtypes)\n",
        "feature_type[0] = feature_type[0].apply(lambda x: _check_type(x))\n",
        "feature_type.reset_index(inplace=True)\n",
        "feature_type.rename(columns={'index':'feature',0:'tipo'},inplace=True)\n",
        "feature_type.head(3)"
      ],
      "execution_count": 1885,
      "outputs": [
        {
          "output_type": "execute_result",
          "data": {
            "text/plain": [
              "       feature        tipo\n",
              "0    loan_amnt    numerica\n",
              "1  funded_amnt    numerica\n",
              "2         term  categorica"
            ],
            "text/html": [
              "\n",
              "  <div id=\"df-ba8ac31a-962a-41aa-815c-4b3337435c13\">\n",
              "    <div class=\"colab-df-container\">\n",
              "      <div>\n",
              "<style scoped>\n",
              "    .dataframe tbody tr th:only-of-type {\n",
              "        vertical-align: middle;\n",
              "    }\n",
              "\n",
              "    .dataframe tbody tr th {\n",
              "        vertical-align: top;\n",
              "    }\n",
              "\n",
              "    .dataframe thead th {\n",
              "        text-align: right;\n",
              "    }\n",
              "</style>\n",
              "<table border=\"1\" class=\"dataframe\">\n",
              "  <thead>\n",
              "    <tr style=\"text-align: right;\">\n",
              "      <th></th>\n",
              "      <th>feature</th>\n",
              "      <th>tipo</th>\n",
              "    </tr>\n",
              "  </thead>\n",
              "  <tbody>\n",
              "    <tr>\n",
              "      <th>0</th>\n",
              "      <td>loan_amnt</td>\n",
              "      <td>numerica</td>\n",
              "    </tr>\n",
              "    <tr>\n",
              "      <th>1</th>\n",
              "      <td>funded_amnt</td>\n",
              "      <td>numerica</td>\n",
              "    </tr>\n",
              "    <tr>\n",
              "      <th>2</th>\n",
              "      <td>term</td>\n",
              "      <td>categorica</td>\n",
              "    </tr>\n",
              "  </tbody>\n",
              "</table>\n",
              "</div>\n",
              "      <button class=\"colab-df-convert\" onclick=\"convertToInteractive('df-ba8ac31a-962a-41aa-815c-4b3337435c13')\"\n",
              "              title=\"Convert this dataframe to an interactive table.\"\n",
              "              style=\"display:none;\">\n",
              "        \n",
              "  <svg xmlns=\"http://www.w3.org/2000/svg\" height=\"24px\"viewBox=\"0 0 24 24\"\n",
              "       width=\"24px\">\n",
              "    <path d=\"M0 0h24v24H0V0z\" fill=\"none\"/>\n",
              "    <path d=\"M18.56 5.44l.94 2.06.94-2.06 2.06-.94-2.06-.94-.94-2.06-.94 2.06-2.06.94zm-11 1L8.5 8.5l.94-2.06 2.06-.94-2.06-.94L8.5 2.5l-.94 2.06-2.06.94zm10 10l.94 2.06.94-2.06 2.06-.94-2.06-.94-.94-2.06-.94 2.06-2.06.94z\"/><path d=\"M17.41 7.96l-1.37-1.37c-.4-.4-.92-.59-1.43-.59-.52 0-1.04.2-1.43.59L10.3 9.45l-7.72 7.72c-.78.78-.78 2.05 0 2.83L4 21.41c.39.39.9.59 1.41.59.51 0 1.02-.2 1.41-.59l7.78-7.78 2.81-2.81c.8-.78.8-2.07 0-2.86zM5.41 20L4 18.59l7.72-7.72 1.47 1.35L5.41 20z\"/>\n",
              "  </svg>\n",
              "      </button>\n",
              "      \n",
              "  <style>\n",
              "    .colab-df-container {\n",
              "      display:flex;\n",
              "      flex-wrap:wrap;\n",
              "      gap: 12px;\n",
              "    }\n",
              "\n",
              "    .colab-df-convert {\n",
              "      background-color: #E8F0FE;\n",
              "      border: none;\n",
              "      border-radius: 50%;\n",
              "      cursor: pointer;\n",
              "      display: none;\n",
              "      fill: #1967D2;\n",
              "      height: 32px;\n",
              "      padding: 0 0 0 0;\n",
              "      width: 32px;\n",
              "    }\n",
              "\n",
              "    .colab-df-convert:hover {\n",
              "      background-color: #E2EBFA;\n",
              "      box-shadow: 0px 1px 2px rgba(60, 64, 67, 0.3), 0px 1px 3px 1px rgba(60, 64, 67, 0.15);\n",
              "      fill: #174EA6;\n",
              "    }\n",
              "\n",
              "    [theme=dark] .colab-df-convert {\n",
              "      background-color: #3B4455;\n",
              "      fill: #D2E3FC;\n",
              "    }\n",
              "\n",
              "    [theme=dark] .colab-df-convert:hover {\n",
              "      background-color: #434B5C;\n",
              "      box-shadow: 0px 1px 3px 1px rgba(0, 0, 0, 0.15);\n",
              "      filter: drop-shadow(0px 1px 2px rgba(0, 0, 0, 0.3));\n",
              "      fill: #FFFFFF;\n",
              "    }\n",
              "  </style>\n",
              "\n",
              "      <script>\n",
              "        const buttonEl =\n",
              "          document.querySelector('#df-ba8ac31a-962a-41aa-815c-4b3337435c13 button.colab-df-convert');\n",
              "        buttonEl.style.display =\n",
              "          google.colab.kernel.accessAllowed ? 'block' : 'none';\n",
              "\n",
              "        async function convertToInteractive(key) {\n",
              "          const element = document.querySelector('#df-ba8ac31a-962a-41aa-815c-4b3337435c13');\n",
              "          const dataTable =\n",
              "            await google.colab.kernel.invokeFunction('convertToInteractive',\n",
              "                                                     [key], {});\n",
              "          if (!dataTable) return;\n",
              "\n",
              "          const docLinkHtml = 'Like what you see? Visit the ' +\n",
              "            '<a target=\"_blank\" href=https://colab.research.google.com/notebooks/data_table.ipynb>data table notebook</a>'\n",
              "            + ' to learn more about interactive tables.';\n",
              "          element.innerHTML = '';\n",
              "          dataTable['output_type'] = 'display_data';\n",
              "          await google.colab.output.renderOutput(dataTable, element);\n",
              "          const docLink = document.createElement('div');\n",
              "          docLink.innerHTML = docLinkHtml;\n",
              "          element.appendChild(docLink);\n",
              "        }\n",
              "      </script>\n",
              "    </div>\n",
              "  </div>\n",
              "  "
            ]
          },
          "metadata": {},
          "execution_count": 1885
        }
      ]
    },
    {
      "cell_type": "code",
      "source": [
        "feature_type_ts = pd.DataFrame(data_test.dtypes)\n",
        "feature_type_ts[0] = feature_type_ts[0].apply(lambda x: _check_type(x))\n",
        "feature_type_ts.reset_index(inplace=True)\n",
        "feature_type_ts.rename(columns={'index':'feature',0:'tipo'},inplace=True)\n",
        "feature_type_ts.head(3)"
      ],
      "metadata": {
        "colab": {
          "base_uri": "https://localhost:8080/",
          "height": 143
        },
        "id": "xsx7-sGBvfi-",
        "outputId": "45bfbb4f-bb37-4bd5-8f2a-c629642afbd9"
      },
      "execution_count": 1886,
      "outputs": [
        {
          "output_type": "execute_result",
          "data": {
            "text/plain": [
              "       feature        tipo\n",
              "0    loan_amnt    numerica\n",
              "1  funded_amnt    numerica\n",
              "2         term  categorica"
            ],
            "text/html": [
              "\n",
              "  <div id=\"df-107b8036-1ecd-4041-ada6-977a104d4a6a\">\n",
              "    <div class=\"colab-df-container\">\n",
              "      <div>\n",
              "<style scoped>\n",
              "    .dataframe tbody tr th:only-of-type {\n",
              "        vertical-align: middle;\n",
              "    }\n",
              "\n",
              "    .dataframe tbody tr th {\n",
              "        vertical-align: top;\n",
              "    }\n",
              "\n",
              "    .dataframe thead th {\n",
              "        text-align: right;\n",
              "    }\n",
              "</style>\n",
              "<table border=\"1\" class=\"dataframe\">\n",
              "  <thead>\n",
              "    <tr style=\"text-align: right;\">\n",
              "      <th></th>\n",
              "      <th>feature</th>\n",
              "      <th>tipo</th>\n",
              "    </tr>\n",
              "  </thead>\n",
              "  <tbody>\n",
              "    <tr>\n",
              "      <th>0</th>\n",
              "      <td>loan_amnt</td>\n",
              "      <td>numerica</td>\n",
              "    </tr>\n",
              "    <tr>\n",
              "      <th>1</th>\n",
              "      <td>funded_amnt</td>\n",
              "      <td>numerica</td>\n",
              "    </tr>\n",
              "    <tr>\n",
              "      <th>2</th>\n",
              "      <td>term</td>\n",
              "      <td>categorica</td>\n",
              "    </tr>\n",
              "  </tbody>\n",
              "</table>\n",
              "</div>\n",
              "      <button class=\"colab-df-convert\" onclick=\"convertToInteractive('df-107b8036-1ecd-4041-ada6-977a104d4a6a')\"\n",
              "              title=\"Convert this dataframe to an interactive table.\"\n",
              "              style=\"display:none;\">\n",
              "        \n",
              "  <svg xmlns=\"http://www.w3.org/2000/svg\" height=\"24px\"viewBox=\"0 0 24 24\"\n",
              "       width=\"24px\">\n",
              "    <path d=\"M0 0h24v24H0V0z\" fill=\"none\"/>\n",
              "    <path d=\"M18.56 5.44l.94 2.06.94-2.06 2.06-.94-2.06-.94-.94-2.06-.94 2.06-2.06.94zm-11 1L8.5 8.5l.94-2.06 2.06-.94-2.06-.94L8.5 2.5l-.94 2.06-2.06.94zm10 10l.94 2.06.94-2.06 2.06-.94-2.06-.94-.94-2.06-.94 2.06-2.06.94z\"/><path d=\"M17.41 7.96l-1.37-1.37c-.4-.4-.92-.59-1.43-.59-.52 0-1.04.2-1.43.59L10.3 9.45l-7.72 7.72c-.78.78-.78 2.05 0 2.83L4 21.41c.39.39.9.59 1.41.59.51 0 1.02-.2 1.41-.59l7.78-7.78 2.81-2.81c.8-.78.8-2.07 0-2.86zM5.41 20L4 18.59l7.72-7.72 1.47 1.35L5.41 20z\"/>\n",
              "  </svg>\n",
              "      </button>\n",
              "      \n",
              "  <style>\n",
              "    .colab-df-container {\n",
              "      display:flex;\n",
              "      flex-wrap:wrap;\n",
              "      gap: 12px;\n",
              "    }\n",
              "\n",
              "    .colab-df-convert {\n",
              "      background-color: #E8F0FE;\n",
              "      border: none;\n",
              "      border-radius: 50%;\n",
              "      cursor: pointer;\n",
              "      display: none;\n",
              "      fill: #1967D2;\n",
              "      height: 32px;\n",
              "      padding: 0 0 0 0;\n",
              "      width: 32px;\n",
              "    }\n",
              "\n",
              "    .colab-df-convert:hover {\n",
              "      background-color: #E2EBFA;\n",
              "      box-shadow: 0px 1px 2px rgba(60, 64, 67, 0.3), 0px 1px 3px 1px rgba(60, 64, 67, 0.15);\n",
              "      fill: #174EA6;\n",
              "    }\n",
              "\n",
              "    [theme=dark] .colab-df-convert {\n",
              "      background-color: #3B4455;\n",
              "      fill: #D2E3FC;\n",
              "    }\n",
              "\n",
              "    [theme=dark] .colab-df-convert:hover {\n",
              "      background-color: #434B5C;\n",
              "      box-shadow: 0px 1px 3px 1px rgba(0, 0, 0, 0.15);\n",
              "      filter: drop-shadow(0px 1px 2px rgba(0, 0, 0, 0.3));\n",
              "      fill: #FFFFFF;\n",
              "    }\n",
              "  </style>\n",
              "\n",
              "      <script>\n",
              "        const buttonEl =\n",
              "          document.querySelector('#df-107b8036-1ecd-4041-ada6-977a104d4a6a button.colab-df-convert');\n",
              "        buttonEl.style.display =\n",
              "          google.colab.kernel.accessAllowed ? 'block' : 'none';\n",
              "\n",
              "        async function convertToInteractive(key) {\n",
              "          const element = document.querySelector('#df-107b8036-1ecd-4041-ada6-977a104d4a6a');\n",
              "          const dataTable =\n",
              "            await google.colab.kernel.invokeFunction('convertToInteractive',\n",
              "                                                     [key], {});\n",
              "          if (!dataTable) return;\n",
              "\n",
              "          const docLinkHtml = 'Like what you see? Visit the ' +\n",
              "            '<a target=\"_blank\" href=https://colab.research.google.com/notebooks/data_table.ipynb>data table notebook</a>'\n",
              "            + ' to learn more about interactive tables.';\n",
              "          element.innerHTML = '';\n",
              "          dataTable['output_type'] = 'display_data';\n",
              "          await google.colab.output.renderOutput(dataTable, element);\n",
              "          const docLink = document.createElement('div');\n",
              "          docLink.innerHTML = docLinkHtml;\n",
              "          element.appendChild(docLink);\n",
              "        }\n",
              "      </script>\n",
              "    </div>\n",
              "  </div>\n",
              "  "
            ]
          },
          "metadata": {},
          "execution_count": 1886
        }
      ]
    },
    {
      "cell_type": "code",
      "source": [
        "(feature_type != feature_type_ts).sum()"
      ],
      "metadata": {
        "colab": {
          "base_uri": "https://localhost:8080/"
        },
        "id": "ZuupCH-tvmk0",
        "outputId": "ce54a730-1d22-41c5-ed2b-d43af746e42a"
      },
      "execution_count": 1887,
      "outputs": [
        {
          "output_type": "execute_result",
          "data": {
            "text/plain": [
              "feature    0\n",
              "tipo       1\n",
              "dtype: int64"
            ]
          },
          "metadata": {},
          "execution_count": 1887
        }
      ]
    },
    {
      "cell_type": "markdown",
      "source": [
        "Resulta que la ultima columna no es igual\n"
      ],
      "metadata": {
        "id": "015wOemcv8ZV"
      }
    },
    {
      "cell_type": "code",
      "source": [
        "(feature_type != feature_type_ts).values[-1]"
      ],
      "metadata": {
        "colab": {
          "base_uri": "https://localhost:8080/"
        },
        "id": "GmD44T-Yv-en",
        "outputId": "03124940-6c24-485e-a3bf-877cba1b2305"
      },
      "execution_count": 1888,
      "outputs": [
        {
          "output_type": "execute_result",
          "data": {
            "text/plain": [
              "array([False,  True])"
            ]
          },
          "metadata": {},
          "execution_count": 1888
        }
      ]
    },
    {
      "cell_type": "code",
      "source": [
        "feature_type.values[-1]"
      ],
      "metadata": {
        "colab": {
          "base_uri": "https://localhost:8080/"
        },
        "id": "F2MFAhLSwEgq",
        "outputId": "3fbe8cc4-dcef-4e5b-ea00-c2b89f49271d"
      },
      "execution_count": 1889,
      "outputs": [
        {
          "output_type": "execute_result",
          "data": {
            "text/plain": [
              "array(['charged_off', None], dtype=object)"
            ]
          },
          "metadata": {},
          "execution_count": 1889
        }
      ]
    },
    {
      "cell_type": "code",
      "source": [
        "feature_type_ts.values[-1]"
      ],
      "metadata": {
        "colab": {
          "base_uri": "https://localhost:8080/"
        },
        "id": "OItVQOeQwj2K",
        "outputId": "7fd07f63-868e-4328-940f-987ed445f49a"
      },
      "execution_count": 1890,
      "outputs": [
        {
          "output_type": "execute_result",
          "data": {
            "text/plain": [
              "array(['charged_off', None], dtype=object)"
            ]
          },
          "metadata": {},
          "execution_count": 1890
        }
      ]
    },
    {
      "cell_type": "code",
      "source": [
        "feature_type_ts.values[-1][0] == feature_type.values[-1][0]"
      ],
      "metadata": {
        "colab": {
          "base_uri": "https://localhost:8080/"
        },
        "id": "LY7FKRvvxIyH",
        "outputId": "5ba347a6-fa47-46a9-9107-2c39b3ff8d55"
      },
      "execution_count": 1891,
      "outputs": [
        {
          "output_type": "execute_result",
          "data": {
            "text/plain": [
              "True"
            ]
          },
          "metadata": {},
          "execution_count": 1891
        }
      ]
    },
    {
      "cell_type": "code",
      "source": [
        "data_train.dtypes"
      ],
      "metadata": {
        "colab": {
          "base_uri": "https://localhost:8080/"
        },
        "id": "Yp6ty33iwXYY",
        "outputId": "166a7ca0-14a4-4814-9382-c8f2a331f77d"
      },
      "execution_count": 1892,
      "outputs": [
        {
          "output_type": "execute_result",
          "data": {
            "text/plain": [
              "loan_amnt                float64\n",
              "funded_amnt              float64\n",
              "term                      object\n",
              "int_rate                 float64\n",
              "installment              float64\n",
              "grade                     object\n",
              "sub_grade                 object\n",
              "emp_title                 object\n",
              "emp_length                object\n",
              "home_ownership            object\n",
              "annual_inc               float64\n",
              "verification_status       object\n",
              "purpose                   object\n",
              "title                     object\n",
              "zip_code                  object\n",
              "addr_state                object\n",
              "dti                      float64\n",
              "earliest_cr_line          object\n",
              "fico_range_low           float64\n",
              "fico_range_high          float64\n",
              "open_acc                 float64\n",
              "revol_util               float64\n",
              "initial_list_status       object\n",
              "last_pymnt_amnt          float64\n",
              "application_type          object\n",
              "acc_open_past_24mths     float64\n",
              "avg_cur_bal              float64\n",
              "bc_open_to_buy           float64\n",
              "bc_util                  float64\n",
              "mo_sin_old_rev_tl_op     float64\n",
              "mo_sin_rcnt_rev_tl_op    float64\n",
              "mort_acc                 float64\n",
              "num_actv_rev_tl          float64\n",
              "charged_off                 int8\n",
              "dtype: object"
            ]
          },
          "metadata": {},
          "execution_count": 1892
        }
      ]
    },
    {
      "cell_type": "code",
      "source": [
        "data_test.dtypes"
      ],
      "metadata": {
        "colab": {
          "base_uri": "https://localhost:8080/"
        },
        "id": "Wbrj-pdkwdio",
        "outputId": "9a22a654-ed2b-4b90-d40c-82f58221487c"
      },
      "execution_count": 1893,
      "outputs": [
        {
          "output_type": "execute_result",
          "data": {
            "text/plain": [
              "loan_amnt                float64\n",
              "funded_amnt              float64\n",
              "term                      object\n",
              "int_rate                 float64\n",
              "installment              float64\n",
              "grade                     object\n",
              "sub_grade                 object\n",
              "emp_title                 object\n",
              "emp_length                object\n",
              "home_ownership            object\n",
              "annual_inc               float64\n",
              "verification_status       object\n",
              "purpose                   object\n",
              "title                     object\n",
              "zip_code                  object\n",
              "addr_state                object\n",
              "dti                      float64\n",
              "earliest_cr_line          object\n",
              "fico_range_low           float64\n",
              "fico_range_high          float64\n",
              "open_acc                 float64\n",
              "revol_util               float64\n",
              "initial_list_status       object\n",
              "last_pymnt_amnt          float64\n",
              "application_type          object\n",
              "acc_open_past_24mths     float64\n",
              "avg_cur_bal              float64\n",
              "bc_open_to_buy           float64\n",
              "bc_util                  float64\n",
              "mo_sin_old_rev_tl_op     float64\n",
              "mo_sin_rcnt_rev_tl_op    float64\n",
              "mort_acc                 float64\n",
              "num_actv_rev_tl          float64\n",
              "charged_off                 int8\n",
              "dtype: object"
            ]
          },
          "metadata": {},
          "execution_count": 1893
        }
      ]
    },
    {
      "cell_type": "code",
      "source": [
        "data_train['charged_off'].unique()"
      ],
      "metadata": {
        "colab": {
          "base_uri": "https://localhost:8080/"
        },
        "id": "ikB6vX7vw0YA",
        "outputId": "e980186d-b0d2-4c04-a678-802ae823b6ad"
      },
      "execution_count": 1894,
      "outputs": [
        {
          "output_type": "execute_result",
          "data": {
            "text/plain": [
              "array([0, 1], dtype=int8)"
            ]
          },
          "metadata": {},
          "execution_count": 1894
        }
      ]
    },
    {
      "cell_type": "code",
      "source": [
        "data_test['charged_off'].unique()"
      ],
      "metadata": {
        "colab": {
          "base_uri": "https://localhost:8080/"
        },
        "id": "HwaE74Xyw5Mv",
        "outputId": "a2de6a7b-cc76-4454-a4dd-7dae2d68c421"
      },
      "execution_count": 1895,
      "outputs": [
        {
          "output_type": "execute_result",
          "data": {
            "text/plain": [
              "array([0, 1], dtype=int8)"
            ]
          },
          "metadata": {},
          "execution_count": 1895
        }
      ]
    },
    {
      "cell_type": "markdown",
      "source": [
        "Parece que no hay diferencia en las columnas, parece ser un bug. Continuemos"
      ],
      "metadata": {
        "id": "jXwsBiSuxa8x"
      }
    },
    {
      "cell_type": "markdown",
      "metadata": {
        "id": "MmRGZmV8oxuF"
      },
      "source": [
        "### Variables Categoricas"
      ]
    },
    {
      "cell_type": "code",
      "metadata": {
        "colab": {
          "base_uri": "https://localhost:8080/"
        },
        "id": "Kbn1WAGIC6NH",
        "outputId": "56a300e4-5be7-4d15-9d62-ad8973ed27e8"
      },
      "source": [
        "features_cat = feature_type[feature_type['tipo']=='categorica']['feature']\n",
        "features_cat = list(features_cat)\n",
        "features_cat"
      ],
      "execution_count": 1896,
      "outputs": [
        {
          "output_type": "execute_result",
          "data": {
            "text/plain": [
              "['term',\n",
              " 'grade',\n",
              " 'sub_grade',\n",
              " 'emp_title',\n",
              " 'emp_length',\n",
              " 'home_ownership',\n",
              " 'verification_status',\n",
              " 'purpose',\n",
              " 'title',\n",
              " 'zip_code',\n",
              " 'addr_state',\n",
              " 'earliest_cr_line',\n",
              " 'initial_list_status',\n",
              " 'application_type']"
            ]
          },
          "metadata": {},
          "execution_count": 1896
        }
      ]
    },
    {
      "cell_type": "markdown",
      "metadata": {
        "id": "OehJ89WEUFkO"
      },
      "source": [
        "#### Seleccion de Variables Categoricas a explorar"
      ]
    },
    {
      "cell_type": "code",
      "metadata": {
        "colab": {
          "base_uri": "https://localhost:8080/",
          "height": 256
        },
        "id": "ZCqWh4elDXkW",
        "outputId": "8819cc92-3b0b-4a13-c97e-80ab2d5f35e9"
      },
      "source": [
        "# Lista de variables categoricas a eliminar\n",
        "cat_eliminar = []\n",
        "data_train[features_cat].describe()"
      ],
      "execution_count": 1897,
      "outputs": [
        {
          "output_type": "execute_result",
          "data": {
            "text/plain": [
              "              term  grade sub_grade emp_title emp_length home_ownership  \\\n",
              "count        68910  68910     68910     65158      65165          68910   \n",
              "unique           2      7        35     27462         11              4   \n",
              "top      36 months      C        C1   Teacher  10+ years       MORTGAGE   \n",
              "freq         54033  18628      4180      1266      22577          33440   \n",
              "\n",
              "       verification_status             purpose               title zip_code  \\\n",
              "count                68910               68910               68910    68910   \n",
              "unique                   3                  13                  20      843   \n",
              "top        Source Verified  debt_consolidation  Debt consolidation    750xx   \n",
              "freq                 27201               42404               42416      760   \n",
              "\n",
              "       addr_state earliest_cr_line initial_list_status application_type  \n",
              "count       68910            68910               68910            68910  \n",
              "unique         46              593                   2                1  \n",
              "top            CA         Aug-2001                   w       Individual  \n",
              "freq        10049              591               35197            68910  "
            ],
            "text/html": [
              "\n",
              "  <div id=\"df-2b2ea99d-85c2-4949-898a-8cde3db92f52\">\n",
              "    <div class=\"colab-df-container\">\n",
              "      <div>\n",
              "<style scoped>\n",
              "    .dataframe tbody tr th:only-of-type {\n",
              "        vertical-align: middle;\n",
              "    }\n",
              "\n",
              "    .dataframe tbody tr th {\n",
              "        vertical-align: top;\n",
              "    }\n",
              "\n",
              "    .dataframe thead th {\n",
              "        text-align: right;\n",
              "    }\n",
              "</style>\n",
              "<table border=\"1\" class=\"dataframe\">\n",
              "  <thead>\n",
              "    <tr style=\"text-align: right;\">\n",
              "      <th></th>\n",
              "      <th>term</th>\n",
              "      <th>grade</th>\n",
              "      <th>sub_grade</th>\n",
              "      <th>emp_title</th>\n",
              "      <th>emp_length</th>\n",
              "      <th>home_ownership</th>\n",
              "      <th>verification_status</th>\n",
              "      <th>purpose</th>\n",
              "      <th>title</th>\n",
              "      <th>zip_code</th>\n",
              "      <th>addr_state</th>\n",
              "      <th>earliest_cr_line</th>\n",
              "      <th>initial_list_status</th>\n",
              "      <th>application_type</th>\n",
              "    </tr>\n",
              "  </thead>\n",
              "  <tbody>\n",
              "    <tr>\n",
              "      <th>count</th>\n",
              "      <td>68910</td>\n",
              "      <td>68910</td>\n",
              "      <td>68910</td>\n",
              "      <td>65158</td>\n",
              "      <td>65165</td>\n",
              "      <td>68910</td>\n",
              "      <td>68910</td>\n",
              "      <td>68910</td>\n",
              "      <td>68910</td>\n",
              "      <td>68910</td>\n",
              "      <td>68910</td>\n",
              "      <td>68910</td>\n",
              "      <td>68910</td>\n",
              "      <td>68910</td>\n",
              "    </tr>\n",
              "    <tr>\n",
              "      <th>unique</th>\n",
              "      <td>2</td>\n",
              "      <td>7</td>\n",
              "      <td>35</td>\n",
              "      <td>27462</td>\n",
              "      <td>11</td>\n",
              "      <td>4</td>\n",
              "      <td>3</td>\n",
              "      <td>13</td>\n",
              "      <td>20</td>\n",
              "      <td>843</td>\n",
              "      <td>46</td>\n",
              "      <td>593</td>\n",
              "      <td>2</td>\n",
              "      <td>1</td>\n",
              "    </tr>\n",
              "    <tr>\n",
              "      <th>top</th>\n",
              "      <td>36 months</td>\n",
              "      <td>C</td>\n",
              "      <td>C1</td>\n",
              "      <td>Teacher</td>\n",
              "      <td>10+ years</td>\n",
              "      <td>MORTGAGE</td>\n",
              "      <td>Source Verified</td>\n",
              "      <td>debt_consolidation</td>\n",
              "      <td>Debt consolidation</td>\n",
              "      <td>750xx</td>\n",
              "      <td>CA</td>\n",
              "      <td>Aug-2001</td>\n",
              "      <td>w</td>\n",
              "      <td>Individual</td>\n",
              "    </tr>\n",
              "    <tr>\n",
              "      <th>freq</th>\n",
              "      <td>54033</td>\n",
              "      <td>18628</td>\n",
              "      <td>4180</td>\n",
              "      <td>1266</td>\n",
              "      <td>22577</td>\n",
              "      <td>33440</td>\n",
              "      <td>27201</td>\n",
              "      <td>42404</td>\n",
              "      <td>42416</td>\n",
              "      <td>760</td>\n",
              "      <td>10049</td>\n",
              "      <td>591</td>\n",
              "      <td>35197</td>\n",
              "      <td>68910</td>\n",
              "    </tr>\n",
              "  </tbody>\n",
              "</table>\n",
              "</div>\n",
              "      <button class=\"colab-df-convert\" onclick=\"convertToInteractive('df-2b2ea99d-85c2-4949-898a-8cde3db92f52')\"\n",
              "              title=\"Convert this dataframe to an interactive table.\"\n",
              "              style=\"display:none;\">\n",
              "        \n",
              "  <svg xmlns=\"http://www.w3.org/2000/svg\" height=\"24px\"viewBox=\"0 0 24 24\"\n",
              "       width=\"24px\">\n",
              "    <path d=\"M0 0h24v24H0V0z\" fill=\"none\"/>\n",
              "    <path d=\"M18.56 5.44l.94 2.06.94-2.06 2.06-.94-2.06-.94-.94-2.06-.94 2.06-2.06.94zm-11 1L8.5 8.5l.94-2.06 2.06-.94-2.06-.94L8.5 2.5l-.94 2.06-2.06.94zm10 10l.94 2.06.94-2.06 2.06-.94-2.06-.94-.94-2.06-.94 2.06-2.06.94z\"/><path d=\"M17.41 7.96l-1.37-1.37c-.4-.4-.92-.59-1.43-.59-.52 0-1.04.2-1.43.59L10.3 9.45l-7.72 7.72c-.78.78-.78 2.05 0 2.83L4 21.41c.39.39.9.59 1.41.59.51 0 1.02-.2 1.41-.59l7.78-7.78 2.81-2.81c.8-.78.8-2.07 0-2.86zM5.41 20L4 18.59l7.72-7.72 1.47 1.35L5.41 20z\"/>\n",
              "  </svg>\n",
              "      </button>\n",
              "      \n",
              "  <style>\n",
              "    .colab-df-container {\n",
              "      display:flex;\n",
              "      flex-wrap:wrap;\n",
              "      gap: 12px;\n",
              "    }\n",
              "\n",
              "    .colab-df-convert {\n",
              "      background-color: #E8F0FE;\n",
              "      border: none;\n",
              "      border-radius: 50%;\n",
              "      cursor: pointer;\n",
              "      display: none;\n",
              "      fill: #1967D2;\n",
              "      height: 32px;\n",
              "      padding: 0 0 0 0;\n",
              "      width: 32px;\n",
              "    }\n",
              "\n",
              "    .colab-df-convert:hover {\n",
              "      background-color: #E2EBFA;\n",
              "      box-shadow: 0px 1px 2px rgba(60, 64, 67, 0.3), 0px 1px 3px 1px rgba(60, 64, 67, 0.15);\n",
              "      fill: #174EA6;\n",
              "    }\n",
              "\n",
              "    [theme=dark] .colab-df-convert {\n",
              "      background-color: #3B4455;\n",
              "      fill: #D2E3FC;\n",
              "    }\n",
              "\n",
              "    [theme=dark] .colab-df-convert:hover {\n",
              "      background-color: #434B5C;\n",
              "      box-shadow: 0px 1px 3px 1px rgba(0, 0, 0, 0.15);\n",
              "      filter: drop-shadow(0px 1px 2px rgba(0, 0, 0, 0.3));\n",
              "      fill: #FFFFFF;\n",
              "    }\n",
              "  </style>\n",
              "\n",
              "      <script>\n",
              "        const buttonEl =\n",
              "          document.querySelector('#df-2b2ea99d-85c2-4949-898a-8cde3db92f52 button.colab-df-convert');\n",
              "        buttonEl.style.display =\n",
              "          google.colab.kernel.accessAllowed ? 'block' : 'none';\n",
              "\n",
              "        async function convertToInteractive(key) {\n",
              "          const element = document.querySelector('#df-2b2ea99d-85c2-4949-898a-8cde3db92f52');\n",
              "          const dataTable =\n",
              "            await google.colab.kernel.invokeFunction('convertToInteractive',\n",
              "                                                     [key], {});\n",
              "          if (!dataTable) return;\n",
              "\n",
              "          const docLinkHtml = 'Like what you see? Visit the ' +\n",
              "            '<a target=\"_blank\" href=https://colab.research.google.com/notebooks/data_table.ipynb>data table notebook</a>'\n",
              "            + ' to learn more about interactive tables.';\n",
              "          element.innerHTML = '';\n",
              "          dataTable['output_type'] = 'display_data';\n",
              "          await google.colab.output.renderOutput(dataTable, element);\n",
              "          const docLink = document.createElement('div');\n",
              "          docLink.innerHTML = docLinkHtml;\n",
              "          element.appendChild(docLink);\n",
              "        }\n",
              "      </script>\n",
              "    </div>\n",
              "  </div>\n",
              "  "
            ]
          },
          "metadata": {},
          "execution_count": 1897
        }
      ]
    },
    {
      "cell_type": "markdown",
      "metadata": {
        "id": "sVaMR3swFm4z"
      },
      "source": [
        "Eliminemos `application type` pues solo tiene un valor. Es inutil para predecir."
      ]
    },
    {
      "cell_type": "markdown",
      "metadata": {
        "id": "M09NO6mMGXov"
      },
      "source": [
        "Eliminemos `emp_title`, `zip_code` pues tienen muchos valores, y hacer one-hot encoding (dummies) aumentaria sustancialmente el numero de variables. En escencia podrian ser variables muy utilies, pero requieren de un tratamiento mas cuidadoso que es mejor dejar para otra ocasion. "
      ]
    },
    {
      "cell_type": "code",
      "metadata": {
        "id": "yTcMZpakKmM3"
      },
      "source": [
        "cat_eliminar = cat_eliminar + ['emp_title', 'zip_code', 'application_type']"
      ],
      "execution_count": 1898,
      "outputs": []
    },
    {
      "cell_type": "code",
      "metadata": {
        "colab": {
          "base_uri": "https://localhost:8080/",
          "height": 256
        },
        "id": "oc9rwb0gK3M-",
        "outputId": "2b5f2dd6-9d50-46e3-b38d-e662f43f3ef9"
      },
      "source": [
        "# Para mejorar la visualizacion de las variables categoricas que nos quedan\n",
        "# por analizar\n",
        "features_cat = [f for f in features_cat if f not in cat_eliminar]\n",
        "data_train[features_cat].describe()"
      ],
      "execution_count": 1899,
      "outputs": [
        {
          "output_type": "execute_result",
          "data": {
            "text/plain": [
              "              term  grade sub_grade emp_length home_ownership  \\\n",
              "count        68910  68910     68910      65165          68910   \n",
              "unique           2      7        35         11              4   \n",
              "top      36 months      C        C1  10+ years       MORTGAGE   \n",
              "freq         54033  18628      4180      22577          33440   \n",
              "\n",
              "       verification_status             purpose               title addr_state  \\\n",
              "count                68910               68910               68910      68910   \n",
              "unique                   3                  13                  20         46   \n",
              "top        Source Verified  debt_consolidation  Debt consolidation         CA   \n",
              "freq                 27201               42404               42416      10049   \n",
              "\n",
              "       earliest_cr_line initial_list_status  \n",
              "count             68910               68910  \n",
              "unique              593                   2  \n",
              "top            Aug-2001                   w  \n",
              "freq                591               35197  "
            ],
            "text/html": [
              "\n",
              "  <div id=\"df-dd2d3ab7-ff95-400b-ae2d-b23f2e3c86d5\">\n",
              "    <div class=\"colab-df-container\">\n",
              "      <div>\n",
              "<style scoped>\n",
              "    .dataframe tbody tr th:only-of-type {\n",
              "        vertical-align: middle;\n",
              "    }\n",
              "\n",
              "    .dataframe tbody tr th {\n",
              "        vertical-align: top;\n",
              "    }\n",
              "\n",
              "    .dataframe thead th {\n",
              "        text-align: right;\n",
              "    }\n",
              "</style>\n",
              "<table border=\"1\" class=\"dataframe\">\n",
              "  <thead>\n",
              "    <tr style=\"text-align: right;\">\n",
              "      <th></th>\n",
              "      <th>term</th>\n",
              "      <th>grade</th>\n",
              "      <th>sub_grade</th>\n",
              "      <th>emp_length</th>\n",
              "      <th>home_ownership</th>\n",
              "      <th>verification_status</th>\n",
              "      <th>purpose</th>\n",
              "      <th>title</th>\n",
              "      <th>addr_state</th>\n",
              "      <th>earliest_cr_line</th>\n",
              "      <th>initial_list_status</th>\n",
              "    </tr>\n",
              "  </thead>\n",
              "  <tbody>\n",
              "    <tr>\n",
              "      <th>count</th>\n",
              "      <td>68910</td>\n",
              "      <td>68910</td>\n",
              "      <td>68910</td>\n",
              "      <td>65165</td>\n",
              "      <td>68910</td>\n",
              "      <td>68910</td>\n",
              "      <td>68910</td>\n",
              "      <td>68910</td>\n",
              "      <td>68910</td>\n",
              "      <td>68910</td>\n",
              "      <td>68910</td>\n",
              "    </tr>\n",
              "    <tr>\n",
              "      <th>unique</th>\n",
              "      <td>2</td>\n",
              "      <td>7</td>\n",
              "      <td>35</td>\n",
              "      <td>11</td>\n",
              "      <td>4</td>\n",
              "      <td>3</td>\n",
              "      <td>13</td>\n",
              "      <td>20</td>\n",
              "      <td>46</td>\n",
              "      <td>593</td>\n",
              "      <td>2</td>\n",
              "    </tr>\n",
              "    <tr>\n",
              "      <th>top</th>\n",
              "      <td>36 months</td>\n",
              "      <td>C</td>\n",
              "      <td>C1</td>\n",
              "      <td>10+ years</td>\n",
              "      <td>MORTGAGE</td>\n",
              "      <td>Source Verified</td>\n",
              "      <td>debt_consolidation</td>\n",
              "      <td>Debt consolidation</td>\n",
              "      <td>CA</td>\n",
              "      <td>Aug-2001</td>\n",
              "      <td>w</td>\n",
              "    </tr>\n",
              "    <tr>\n",
              "      <th>freq</th>\n",
              "      <td>54033</td>\n",
              "      <td>18628</td>\n",
              "      <td>4180</td>\n",
              "      <td>22577</td>\n",
              "      <td>33440</td>\n",
              "      <td>27201</td>\n",
              "      <td>42404</td>\n",
              "      <td>42416</td>\n",
              "      <td>10049</td>\n",
              "      <td>591</td>\n",
              "      <td>35197</td>\n",
              "    </tr>\n",
              "  </tbody>\n",
              "</table>\n",
              "</div>\n",
              "      <button class=\"colab-df-convert\" onclick=\"convertToInteractive('df-dd2d3ab7-ff95-400b-ae2d-b23f2e3c86d5')\"\n",
              "              title=\"Convert this dataframe to an interactive table.\"\n",
              "              style=\"display:none;\">\n",
              "        \n",
              "  <svg xmlns=\"http://www.w3.org/2000/svg\" height=\"24px\"viewBox=\"0 0 24 24\"\n",
              "       width=\"24px\">\n",
              "    <path d=\"M0 0h24v24H0V0z\" fill=\"none\"/>\n",
              "    <path d=\"M18.56 5.44l.94 2.06.94-2.06 2.06-.94-2.06-.94-.94-2.06-.94 2.06-2.06.94zm-11 1L8.5 8.5l.94-2.06 2.06-.94-2.06-.94L8.5 2.5l-.94 2.06-2.06.94zm10 10l.94 2.06.94-2.06 2.06-.94-2.06-.94-.94-2.06-.94 2.06-2.06.94z\"/><path d=\"M17.41 7.96l-1.37-1.37c-.4-.4-.92-.59-1.43-.59-.52 0-1.04.2-1.43.59L10.3 9.45l-7.72 7.72c-.78.78-.78 2.05 0 2.83L4 21.41c.39.39.9.59 1.41.59.51 0 1.02-.2 1.41-.59l7.78-7.78 2.81-2.81c.8-.78.8-2.07 0-2.86zM5.41 20L4 18.59l7.72-7.72 1.47 1.35L5.41 20z\"/>\n",
              "  </svg>\n",
              "      </button>\n",
              "      \n",
              "  <style>\n",
              "    .colab-df-container {\n",
              "      display:flex;\n",
              "      flex-wrap:wrap;\n",
              "      gap: 12px;\n",
              "    }\n",
              "\n",
              "    .colab-df-convert {\n",
              "      background-color: #E8F0FE;\n",
              "      border: none;\n",
              "      border-radius: 50%;\n",
              "      cursor: pointer;\n",
              "      display: none;\n",
              "      fill: #1967D2;\n",
              "      height: 32px;\n",
              "      padding: 0 0 0 0;\n",
              "      width: 32px;\n",
              "    }\n",
              "\n",
              "    .colab-df-convert:hover {\n",
              "      background-color: #E2EBFA;\n",
              "      box-shadow: 0px 1px 2px rgba(60, 64, 67, 0.3), 0px 1px 3px 1px rgba(60, 64, 67, 0.15);\n",
              "      fill: #174EA6;\n",
              "    }\n",
              "\n",
              "    [theme=dark] .colab-df-convert {\n",
              "      background-color: #3B4455;\n",
              "      fill: #D2E3FC;\n",
              "    }\n",
              "\n",
              "    [theme=dark] .colab-df-convert:hover {\n",
              "      background-color: #434B5C;\n",
              "      box-shadow: 0px 1px 3px 1px rgba(0, 0, 0, 0.15);\n",
              "      filter: drop-shadow(0px 1px 2px rgba(0, 0, 0, 0.3));\n",
              "      fill: #FFFFFF;\n",
              "    }\n",
              "  </style>\n",
              "\n",
              "      <script>\n",
              "        const buttonEl =\n",
              "          document.querySelector('#df-dd2d3ab7-ff95-400b-ae2d-b23f2e3c86d5 button.colab-df-convert');\n",
              "        buttonEl.style.display =\n",
              "          google.colab.kernel.accessAllowed ? 'block' : 'none';\n",
              "\n",
              "        async function convertToInteractive(key) {\n",
              "          const element = document.querySelector('#df-dd2d3ab7-ff95-400b-ae2d-b23f2e3c86d5');\n",
              "          const dataTable =\n",
              "            await google.colab.kernel.invokeFunction('convertToInteractive',\n",
              "                                                     [key], {});\n",
              "          if (!dataTable) return;\n",
              "\n",
              "          const docLinkHtml = 'Like what you see? Visit the ' +\n",
              "            '<a target=\"_blank\" href=https://colab.research.google.com/notebooks/data_table.ipynb>data table notebook</a>'\n",
              "            + ' to learn more about interactive tables.';\n",
              "          element.innerHTML = '';\n",
              "          dataTable['output_type'] = 'display_data';\n",
              "          await google.colab.output.renderOutput(dataTable, element);\n",
              "          const docLink = document.createElement('div');\n",
              "          docLink.innerHTML = docLinkHtml;\n",
              "          element.appendChild(docLink);\n",
              "        }\n",
              "      </script>\n",
              "    </div>\n",
              "  </div>\n",
              "  "
            ]
          },
          "metadata": {},
          "execution_count": 1899
        }
      ]
    },
    {
      "cell_type": "markdown",
      "metadata": {
        "id": "IDOMprxydsxC"
      },
      "source": [
        "+ `term`:  \"The number of payments on the loan. Values are in months and can be either 36 or 60. The 60 Months loans are more likelely to charge off.\"   \n",
        "Es la duracion del prestamo, facilmente podemos convertirla a dummy, pues toma solo dos valores."
      ]
    },
    {
      "cell_type": "markdown",
      "metadata": {
        "id": "wE3351fxL-yd"
      },
      "source": [
        "+ `purpose` y `title` que por la descripcion parecen tener valores similares."
      ]
    },
    {
      "cell_type": "code",
      "metadata": {
        "colab": {
          "base_uri": "https://localhost:8080/",
          "height": 424
        },
        "id": "zhnpfUaKF6Rb",
        "outputId": "95961cae-cfb3-483f-cd82-9557ed413df4"
      },
      "source": [
        "data_train[['title', 'purpose']].drop_duplicates()"
      ],
      "execution_count": 1900,
      "outputs": [
        {
          "output_type": "execute_result",
          "data": {
            "text/plain": [
              "                         title             purpose\n",
              "62394                    Other               other\n",
              "2333        Debt consolidation  debt_consolidation\n",
              "31904         Home improvement    home_improvement\n",
              "58152  Credit card refinancing         credit_card\n",
              "38785           Major purchase      major_purchase\n",
              "...                        ...                 ...\n",
              "64245         Medical expenses    home_improvement\n",
              "27646                    Other      small_business\n",
              "33047               Green loan               other\n",
              "41579         Medical expenses  debt_consolidation\n",
              "94706              Home buying         credit_card\n",
              "\n",
              "[61 rows x 2 columns]"
            ],
            "text/html": [
              "\n",
              "  <div id=\"df-88b96f26-42ba-4ad4-807f-0a0f5aa0e3f9\">\n",
              "    <div class=\"colab-df-container\">\n",
              "      <div>\n",
              "<style scoped>\n",
              "    .dataframe tbody tr th:only-of-type {\n",
              "        vertical-align: middle;\n",
              "    }\n",
              "\n",
              "    .dataframe tbody tr th {\n",
              "        vertical-align: top;\n",
              "    }\n",
              "\n",
              "    .dataframe thead th {\n",
              "        text-align: right;\n",
              "    }\n",
              "</style>\n",
              "<table border=\"1\" class=\"dataframe\">\n",
              "  <thead>\n",
              "    <tr style=\"text-align: right;\">\n",
              "      <th></th>\n",
              "      <th>title</th>\n",
              "      <th>purpose</th>\n",
              "    </tr>\n",
              "  </thead>\n",
              "  <tbody>\n",
              "    <tr>\n",
              "      <th>62394</th>\n",
              "      <td>Other</td>\n",
              "      <td>other</td>\n",
              "    </tr>\n",
              "    <tr>\n",
              "      <th>2333</th>\n",
              "      <td>Debt consolidation</td>\n",
              "      <td>debt_consolidation</td>\n",
              "    </tr>\n",
              "    <tr>\n",
              "      <th>31904</th>\n",
              "      <td>Home improvement</td>\n",
              "      <td>home_improvement</td>\n",
              "    </tr>\n",
              "    <tr>\n",
              "      <th>58152</th>\n",
              "      <td>Credit card refinancing</td>\n",
              "      <td>credit_card</td>\n",
              "    </tr>\n",
              "    <tr>\n",
              "      <th>38785</th>\n",
              "      <td>Major purchase</td>\n",
              "      <td>major_purchase</td>\n",
              "    </tr>\n",
              "    <tr>\n",
              "      <th>...</th>\n",
              "      <td>...</td>\n",
              "      <td>...</td>\n",
              "    </tr>\n",
              "    <tr>\n",
              "      <th>64245</th>\n",
              "      <td>Medical expenses</td>\n",
              "      <td>home_improvement</td>\n",
              "    </tr>\n",
              "    <tr>\n",
              "      <th>27646</th>\n",
              "      <td>Other</td>\n",
              "      <td>small_business</td>\n",
              "    </tr>\n",
              "    <tr>\n",
              "      <th>33047</th>\n",
              "      <td>Green loan</td>\n",
              "      <td>other</td>\n",
              "    </tr>\n",
              "    <tr>\n",
              "      <th>41579</th>\n",
              "      <td>Medical expenses</td>\n",
              "      <td>debt_consolidation</td>\n",
              "    </tr>\n",
              "    <tr>\n",
              "      <th>94706</th>\n",
              "      <td>Home buying</td>\n",
              "      <td>credit_card</td>\n",
              "    </tr>\n",
              "  </tbody>\n",
              "</table>\n",
              "<p>61 rows × 2 columns</p>\n",
              "</div>\n",
              "      <button class=\"colab-df-convert\" onclick=\"convertToInteractive('df-88b96f26-42ba-4ad4-807f-0a0f5aa0e3f9')\"\n",
              "              title=\"Convert this dataframe to an interactive table.\"\n",
              "              style=\"display:none;\">\n",
              "        \n",
              "  <svg xmlns=\"http://www.w3.org/2000/svg\" height=\"24px\"viewBox=\"0 0 24 24\"\n",
              "       width=\"24px\">\n",
              "    <path d=\"M0 0h24v24H0V0z\" fill=\"none\"/>\n",
              "    <path d=\"M18.56 5.44l.94 2.06.94-2.06 2.06-.94-2.06-.94-.94-2.06-.94 2.06-2.06.94zm-11 1L8.5 8.5l.94-2.06 2.06-.94-2.06-.94L8.5 2.5l-.94 2.06-2.06.94zm10 10l.94 2.06.94-2.06 2.06-.94-2.06-.94-.94-2.06-.94 2.06-2.06.94z\"/><path d=\"M17.41 7.96l-1.37-1.37c-.4-.4-.92-.59-1.43-.59-.52 0-1.04.2-1.43.59L10.3 9.45l-7.72 7.72c-.78.78-.78 2.05 0 2.83L4 21.41c.39.39.9.59 1.41.59.51 0 1.02-.2 1.41-.59l7.78-7.78 2.81-2.81c.8-.78.8-2.07 0-2.86zM5.41 20L4 18.59l7.72-7.72 1.47 1.35L5.41 20z\"/>\n",
              "  </svg>\n",
              "      </button>\n",
              "      \n",
              "  <style>\n",
              "    .colab-df-container {\n",
              "      display:flex;\n",
              "      flex-wrap:wrap;\n",
              "      gap: 12px;\n",
              "    }\n",
              "\n",
              "    .colab-df-convert {\n",
              "      background-color: #E8F0FE;\n",
              "      border: none;\n",
              "      border-radius: 50%;\n",
              "      cursor: pointer;\n",
              "      display: none;\n",
              "      fill: #1967D2;\n",
              "      height: 32px;\n",
              "      padding: 0 0 0 0;\n",
              "      width: 32px;\n",
              "    }\n",
              "\n",
              "    .colab-df-convert:hover {\n",
              "      background-color: #E2EBFA;\n",
              "      box-shadow: 0px 1px 2px rgba(60, 64, 67, 0.3), 0px 1px 3px 1px rgba(60, 64, 67, 0.15);\n",
              "      fill: #174EA6;\n",
              "    }\n",
              "\n",
              "    [theme=dark] .colab-df-convert {\n",
              "      background-color: #3B4455;\n",
              "      fill: #D2E3FC;\n",
              "    }\n",
              "\n",
              "    [theme=dark] .colab-df-convert:hover {\n",
              "      background-color: #434B5C;\n",
              "      box-shadow: 0px 1px 3px 1px rgba(0, 0, 0, 0.15);\n",
              "      filter: drop-shadow(0px 1px 2px rgba(0, 0, 0, 0.3));\n",
              "      fill: #FFFFFF;\n",
              "    }\n",
              "  </style>\n",
              "\n",
              "      <script>\n",
              "        const buttonEl =\n",
              "          document.querySelector('#df-88b96f26-42ba-4ad4-807f-0a0f5aa0e3f9 button.colab-df-convert');\n",
              "        buttonEl.style.display =\n",
              "          google.colab.kernel.accessAllowed ? 'block' : 'none';\n",
              "\n",
              "        async function convertToInteractive(key) {\n",
              "          const element = document.querySelector('#df-88b96f26-42ba-4ad4-807f-0a0f5aa0e3f9');\n",
              "          const dataTable =\n",
              "            await google.colab.kernel.invokeFunction('convertToInteractive',\n",
              "                                                     [key], {});\n",
              "          if (!dataTable) return;\n",
              "\n",
              "          const docLinkHtml = 'Like what you see? Visit the ' +\n",
              "            '<a target=\"_blank\" href=https://colab.research.google.com/notebooks/data_table.ipynb>data table notebook</a>'\n",
              "            + ' to learn more about interactive tables.';\n",
              "          element.innerHTML = '';\n",
              "          dataTable['output_type'] = 'display_data';\n",
              "          await google.colab.output.renderOutput(dataTable, element);\n",
              "          const docLink = document.createElement('div');\n",
              "          docLink.innerHTML = docLinkHtml;\n",
              "          element.appendChild(docLink);\n",
              "        }\n",
              "      </script>\n",
              "    </div>\n",
              "  </div>\n",
              "  "
            ]
          },
          "metadata": {},
          "execution_count": 1900
        }
      ]
    },
    {
      "cell_type": "markdown",
      "metadata": {
        "id": "PtjVT7MTMTCF"
      },
      "source": [
        "+ `title` se parece a `purpose`, pero con menos valores, ademas de parecer mas certero. Elijamos `purpose` para mantener un modelo parsimonioso."
      ]
    },
    {
      "cell_type": "code",
      "metadata": {
        "colab": {
          "base_uri": "https://localhost:8080/",
          "height": 175
        },
        "id": "Y1niJsFyMVaL",
        "outputId": "38b432c6-a266-4b26-f659-0e554f82ed83"
      },
      "source": [
        "cat_eliminar = cat_eliminar + ['title']\n",
        "# Para facilitar la visualizacion\n",
        "features_cat = [f for f in features_cat if f not in cat_eliminar]\n",
        "data_train[features_cat].describe()"
      ],
      "execution_count": 1901,
      "outputs": [
        {
          "output_type": "execute_result",
          "data": {
            "text/plain": [
              "              term  grade sub_grade emp_length home_ownership  \\\n",
              "count        68910  68910     68910      65165          68910   \n",
              "unique           2      7        35         11              4   \n",
              "top      36 months      C        C1  10+ years       MORTGAGE   \n",
              "freq         54033  18628      4180      22577          33440   \n",
              "\n",
              "       verification_status             purpose addr_state earliest_cr_line  \\\n",
              "count                68910               68910      68910            68910   \n",
              "unique                   3                  13         46              593   \n",
              "top        Source Verified  debt_consolidation         CA         Aug-2001   \n",
              "freq                 27201               42404      10049              591   \n",
              "\n",
              "       initial_list_status  \n",
              "count                68910  \n",
              "unique                   2  \n",
              "top                      w  \n",
              "freq                 35197  "
            ],
            "text/html": [
              "\n",
              "  <div id=\"df-6d0353d2-3b87-4f9f-ad47-0cbb90d9d964\">\n",
              "    <div class=\"colab-df-container\">\n",
              "      <div>\n",
              "<style scoped>\n",
              "    .dataframe tbody tr th:only-of-type {\n",
              "        vertical-align: middle;\n",
              "    }\n",
              "\n",
              "    .dataframe tbody tr th {\n",
              "        vertical-align: top;\n",
              "    }\n",
              "\n",
              "    .dataframe thead th {\n",
              "        text-align: right;\n",
              "    }\n",
              "</style>\n",
              "<table border=\"1\" class=\"dataframe\">\n",
              "  <thead>\n",
              "    <tr style=\"text-align: right;\">\n",
              "      <th></th>\n",
              "      <th>term</th>\n",
              "      <th>grade</th>\n",
              "      <th>sub_grade</th>\n",
              "      <th>emp_length</th>\n",
              "      <th>home_ownership</th>\n",
              "      <th>verification_status</th>\n",
              "      <th>purpose</th>\n",
              "      <th>addr_state</th>\n",
              "      <th>earliest_cr_line</th>\n",
              "      <th>initial_list_status</th>\n",
              "    </tr>\n",
              "  </thead>\n",
              "  <tbody>\n",
              "    <tr>\n",
              "      <th>count</th>\n",
              "      <td>68910</td>\n",
              "      <td>68910</td>\n",
              "      <td>68910</td>\n",
              "      <td>65165</td>\n",
              "      <td>68910</td>\n",
              "      <td>68910</td>\n",
              "      <td>68910</td>\n",
              "      <td>68910</td>\n",
              "      <td>68910</td>\n",
              "      <td>68910</td>\n",
              "    </tr>\n",
              "    <tr>\n",
              "      <th>unique</th>\n",
              "      <td>2</td>\n",
              "      <td>7</td>\n",
              "      <td>35</td>\n",
              "      <td>11</td>\n",
              "      <td>4</td>\n",
              "      <td>3</td>\n",
              "      <td>13</td>\n",
              "      <td>46</td>\n",
              "      <td>593</td>\n",
              "      <td>2</td>\n",
              "    </tr>\n",
              "    <tr>\n",
              "      <th>top</th>\n",
              "      <td>36 months</td>\n",
              "      <td>C</td>\n",
              "      <td>C1</td>\n",
              "      <td>10+ years</td>\n",
              "      <td>MORTGAGE</td>\n",
              "      <td>Source Verified</td>\n",
              "      <td>debt_consolidation</td>\n",
              "      <td>CA</td>\n",
              "      <td>Aug-2001</td>\n",
              "      <td>w</td>\n",
              "    </tr>\n",
              "    <tr>\n",
              "      <th>freq</th>\n",
              "      <td>54033</td>\n",
              "      <td>18628</td>\n",
              "      <td>4180</td>\n",
              "      <td>22577</td>\n",
              "      <td>33440</td>\n",
              "      <td>27201</td>\n",
              "      <td>42404</td>\n",
              "      <td>10049</td>\n",
              "      <td>591</td>\n",
              "      <td>35197</td>\n",
              "    </tr>\n",
              "  </tbody>\n",
              "</table>\n",
              "</div>\n",
              "      <button class=\"colab-df-convert\" onclick=\"convertToInteractive('df-6d0353d2-3b87-4f9f-ad47-0cbb90d9d964')\"\n",
              "              title=\"Convert this dataframe to an interactive table.\"\n",
              "              style=\"display:none;\">\n",
              "        \n",
              "  <svg xmlns=\"http://www.w3.org/2000/svg\" height=\"24px\"viewBox=\"0 0 24 24\"\n",
              "       width=\"24px\">\n",
              "    <path d=\"M0 0h24v24H0V0z\" fill=\"none\"/>\n",
              "    <path d=\"M18.56 5.44l.94 2.06.94-2.06 2.06-.94-2.06-.94-.94-2.06-.94 2.06-2.06.94zm-11 1L8.5 8.5l.94-2.06 2.06-.94-2.06-.94L8.5 2.5l-.94 2.06-2.06.94zm10 10l.94 2.06.94-2.06 2.06-.94-2.06-.94-.94-2.06-.94 2.06-2.06.94z\"/><path d=\"M17.41 7.96l-1.37-1.37c-.4-.4-.92-.59-1.43-.59-.52 0-1.04.2-1.43.59L10.3 9.45l-7.72 7.72c-.78.78-.78 2.05 0 2.83L4 21.41c.39.39.9.59 1.41.59.51 0 1.02-.2 1.41-.59l7.78-7.78 2.81-2.81c.8-.78.8-2.07 0-2.86zM5.41 20L4 18.59l7.72-7.72 1.47 1.35L5.41 20z\"/>\n",
              "  </svg>\n",
              "      </button>\n",
              "      \n",
              "  <style>\n",
              "    .colab-df-container {\n",
              "      display:flex;\n",
              "      flex-wrap:wrap;\n",
              "      gap: 12px;\n",
              "    }\n",
              "\n",
              "    .colab-df-convert {\n",
              "      background-color: #E8F0FE;\n",
              "      border: none;\n",
              "      border-radius: 50%;\n",
              "      cursor: pointer;\n",
              "      display: none;\n",
              "      fill: #1967D2;\n",
              "      height: 32px;\n",
              "      padding: 0 0 0 0;\n",
              "      width: 32px;\n",
              "    }\n",
              "\n",
              "    .colab-df-convert:hover {\n",
              "      background-color: #E2EBFA;\n",
              "      box-shadow: 0px 1px 2px rgba(60, 64, 67, 0.3), 0px 1px 3px 1px rgba(60, 64, 67, 0.15);\n",
              "      fill: #174EA6;\n",
              "    }\n",
              "\n",
              "    [theme=dark] .colab-df-convert {\n",
              "      background-color: #3B4455;\n",
              "      fill: #D2E3FC;\n",
              "    }\n",
              "\n",
              "    [theme=dark] .colab-df-convert:hover {\n",
              "      background-color: #434B5C;\n",
              "      box-shadow: 0px 1px 3px 1px rgba(0, 0, 0, 0.15);\n",
              "      filter: drop-shadow(0px 1px 2px rgba(0, 0, 0, 0.3));\n",
              "      fill: #FFFFFF;\n",
              "    }\n",
              "  </style>\n",
              "\n",
              "      <script>\n",
              "        const buttonEl =\n",
              "          document.querySelector('#df-6d0353d2-3b87-4f9f-ad47-0cbb90d9d964 button.colab-df-convert');\n",
              "        buttonEl.style.display =\n",
              "          google.colab.kernel.accessAllowed ? 'block' : 'none';\n",
              "\n",
              "        async function convertToInteractive(key) {\n",
              "          const element = document.querySelector('#df-6d0353d2-3b87-4f9f-ad47-0cbb90d9d964');\n",
              "          const dataTable =\n",
              "            await google.colab.kernel.invokeFunction('convertToInteractive',\n",
              "                                                     [key], {});\n",
              "          if (!dataTable) return;\n",
              "\n",
              "          const docLinkHtml = 'Like what you see? Visit the ' +\n",
              "            '<a target=\"_blank\" href=https://colab.research.google.com/notebooks/data_table.ipynb>data table notebook</a>'\n",
              "            + ' to learn more about interactive tables.';\n",
              "          element.innerHTML = '';\n",
              "          dataTable['output_type'] = 'display_data';\n",
              "          await google.colab.output.renderOutput(dataTable, element);\n",
              "          const docLink = document.createElement('div');\n",
              "          docLink.innerHTML = docLinkHtml;\n",
              "          element.appendChild(docLink);\n",
              "        }\n",
              "      </script>\n",
              "    </div>\n",
              "  </div>\n",
              "  "
            ]
          },
          "metadata": {},
          "execution_count": 1901
        }
      ]
    },
    {
      "cell_type": "markdown",
      "metadata": {
        "id": "_zLSXlu8Nkm1"
      },
      "source": [
        "+ `grade` y `sub_grade`son muy parecidas. Intuitivamente sabemos que subgrade contiene a grade, y que son variables muy importantes. Por lo anterior, lo conveniente seria analizar el poder explicativo de cada una y decidir. \n",
        "Ademas, dada la naturaleza de la variable incluso podrias convertirla en numerica sin perder mucho poder explicativo, siempre y cuando este bien construida de inicio."
      ]
    },
    {
      "cell_type": "code",
      "metadata": {
        "colab": {
          "base_uri": "https://localhost:8080/",
          "height": 1000
        },
        "id": "KTBs4eKPTagv",
        "outputId": "7ef7641b-43b6-4b59-8422-c51fe700042b"
      },
      "source": [
        "data_train[['grade', 'sub_grade']].drop_duplicates()"
      ],
      "execution_count": 1902,
      "outputs": [
        {
          "output_type": "execute_result",
          "data": {
            "text/plain": [
              "      grade sub_grade\n",
              "62394     C        C4\n",
              "2333      C        C2\n",
              "91099     B        B1\n",
              "31904     C        C1\n",
              "83758     D        D3\n",
              "71868     B        B3\n",
              "98443     D        D1\n",
              "80936     D        D4\n",
              "49867     B        B2\n",
              "31119     A        A4\n",
              "49072     C        C3\n",
              "45261     F        F1\n",
              "73760     A        A1\n",
              "707       B        B5\n",
              "1932      B        B4\n",
              "179       A        A2\n",
              "83414     A        A5\n",
              "92565     E        E2\n",
              "46824     C        C5\n",
              "39384     G        G1\n",
              "91139     E        E4\n",
              "21198     D        D2\n",
              "38654     D        D5\n",
              "16412     E        E3\n",
              "49708     E        E5\n",
              "71604     A        A3\n",
              "83446     F        F3\n",
              "31916     F        F5\n",
              "15523     E        E1\n",
              "89250     F        F4\n",
              "83352     F        F2\n",
              "85423     G        G2\n",
              "97999     G        G4\n",
              "22589     G        G5\n",
              "75222     G        G3"
            ],
            "text/html": [
              "\n",
              "  <div id=\"df-55f0d5bf-328a-45aa-a314-e3fbbda8ac9a\">\n",
              "    <div class=\"colab-df-container\">\n",
              "      <div>\n",
              "<style scoped>\n",
              "    .dataframe tbody tr th:only-of-type {\n",
              "        vertical-align: middle;\n",
              "    }\n",
              "\n",
              "    .dataframe tbody tr th {\n",
              "        vertical-align: top;\n",
              "    }\n",
              "\n",
              "    .dataframe thead th {\n",
              "        text-align: right;\n",
              "    }\n",
              "</style>\n",
              "<table border=\"1\" class=\"dataframe\">\n",
              "  <thead>\n",
              "    <tr style=\"text-align: right;\">\n",
              "      <th></th>\n",
              "      <th>grade</th>\n",
              "      <th>sub_grade</th>\n",
              "    </tr>\n",
              "  </thead>\n",
              "  <tbody>\n",
              "    <tr>\n",
              "      <th>62394</th>\n",
              "      <td>C</td>\n",
              "      <td>C4</td>\n",
              "    </tr>\n",
              "    <tr>\n",
              "      <th>2333</th>\n",
              "      <td>C</td>\n",
              "      <td>C2</td>\n",
              "    </tr>\n",
              "    <tr>\n",
              "      <th>91099</th>\n",
              "      <td>B</td>\n",
              "      <td>B1</td>\n",
              "    </tr>\n",
              "    <tr>\n",
              "      <th>31904</th>\n",
              "      <td>C</td>\n",
              "      <td>C1</td>\n",
              "    </tr>\n",
              "    <tr>\n",
              "      <th>83758</th>\n",
              "      <td>D</td>\n",
              "      <td>D3</td>\n",
              "    </tr>\n",
              "    <tr>\n",
              "      <th>71868</th>\n",
              "      <td>B</td>\n",
              "      <td>B3</td>\n",
              "    </tr>\n",
              "    <tr>\n",
              "      <th>98443</th>\n",
              "      <td>D</td>\n",
              "      <td>D1</td>\n",
              "    </tr>\n",
              "    <tr>\n",
              "      <th>80936</th>\n",
              "      <td>D</td>\n",
              "      <td>D4</td>\n",
              "    </tr>\n",
              "    <tr>\n",
              "      <th>49867</th>\n",
              "      <td>B</td>\n",
              "      <td>B2</td>\n",
              "    </tr>\n",
              "    <tr>\n",
              "      <th>31119</th>\n",
              "      <td>A</td>\n",
              "      <td>A4</td>\n",
              "    </tr>\n",
              "    <tr>\n",
              "      <th>49072</th>\n",
              "      <td>C</td>\n",
              "      <td>C3</td>\n",
              "    </tr>\n",
              "    <tr>\n",
              "      <th>45261</th>\n",
              "      <td>F</td>\n",
              "      <td>F1</td>\n",
              "    </tr>\n",
              "    <tr>\n",
              "      <th>73760</th>\n",
              "      <td>A</td>\n",
              "      <td>A1</td>\n",
              "    </tr>\n",
              "    <tr>\n",
              "      <th>707</th>\n",
              "      <td>B</td>\n",
              "      <td>B5</td>\n",
              "    </tr>\n",
              "    <tr>\n",
              "      <th>1932</th>\n",
              "      <td>B</td>\n",
              "      <td>B4</td>\n",
              "    </tr>\n",
              "    <tr>\n",
              "      <th>179</th>\n",
              "      <td>A</td>\n",
              "      <td>A2</td>\n",
              "    </tr>\n",
              "    <tr>\n",
              "      <th>83414</th>\n",
              "      <td>A</td>\n",
              "      <td>A5</td>\n",
              "    </tr>\n",
              "    <tr>\n",
              "      <th>92565</th>\n",
              "      <td>E</td>\n",
              "      <td>E2</td>\n",
              "    </tr>\n",
              "    <tr>\n",
              "      <th>46824</th>\n",
              "      <td>C</td>\n",
              "      <td>C5</td>\n",
              "    </tr>\n",
              "    <tr>\n",
              "      <th>39384</th>\n",
              "      <td>G</td>\n",
              "      <td>G1</td>\n",
              "    </tr>\n",
              "    <tr>\n",
              "      <th>91139</th>\n",
              "      <td>E</td>\n",
              "      <td>E4</td>\n",
              "    </tr>\n",
              "    <tr>\n",
              "      <th>21198</th>\n",
              "      <td>D</td>\n",
              "      <td>D2</td>\n",
              "    </tr>\n",
              "    <tr>\n",
              "      <th>38654</th>\n",
              "      <td>D</td>\n",
              "      <td>D5</td>\n",
              "    </tr>\n",
              "    <tr>\n",
              "      <th>16412</th>\n",
              "      <td>E</td>\n",
              "      <td>E3</td>\n",
              "    </tr>\n",
              "    <tr>\n",
              "      <th>49708</th>\n",
              "      <td>E</td>\n",
              "      <td>E5</td>\n",
              "    </tr>\n",
              "    <tr>\n",
              "      <th>71604</th>\n",
              "      <td>A</td>\n",
              "      <td>A3</td>\n",
              "    </tr>\n",
              "    <tr>\n",
              "      <th>83446</th>\n",
              "      <td>F</td>\n",
              "      <td>F3</td>\n",
              "    </tr>\n",
              "    <tr>\n",
              "      <th>31916</th>\n",
              "      <td>F</td>\n",
              "      <td>F5</td>\n",
              "    </tr>\n",
              "    <tr>\n",
              "      <th>15523</th>\n",
              "      <td>E</td>\n",
              "      <td>E1</td>\n",
              "    </tr>\n",
              "    <tr>\n",
              "      <th>89250</th>\n",
              "      <td>F</td>\n",
              "      <td>F4</td>\n",
              "    </tr>\n",
              "    <tr>\n",
              "      <th>83352</th>\n",
              "      <td>F</td>\n",
              "      <td>F2</td>\n",
              "    </tr>\n",
              "    <tr>\n",
              "      <th>85423</th>\n",
              "      <td>G</td>\n",
              "      <td>G2</td>\n",
              "    </tr>\n",
              "    <tr>\n",
              "      <th>97999</th>\n",
              "      <td>G</td>\n",
              "      <td>G4</td>\n",
              "    </tr>\n",
              "    <tr>\n",
              "      <th>22589</th>\n",
              "      <td>G</td>\n",
              "      <td>G5</td>\n",
              "    </tr>\n",
              "    <tr>\n",
              "      <th>75222</th>\n",
              "      <td>G</td>\n",
              "      <td>G3</td>\n",
              "    </tr>\n",
              "  </tbody>\n",
              "</table>\n",
              "</div>\n",
              "      <button class=\"colab-df-convert\" onclick=\"convertToInteractive('df-55f0d5bf-328a-45aa-a314-e3fbbda8ac9a')\"\n",
              "              title=\"Convert this dataframe to an interactive table.\"\n",
              "              style=\"display:none;\">\n",
              "        \n",
              "  <svg xmlns=\"http://www.w3.org/2000/svg\" height=\"24px\"viewBox=\"0 0 24 24\"\n",
              "       width=\"24px\">\n",
              "    <path d=\"M0 0h24v24H0V0z\" fill=\"none\"/>\n",
              "    <path d=\"M18.56 5.44l.94 2.06.94-2.06 2.06-.94-2.06-.94-.94-2.06-.94 2.06-2.06.94zm-11 1L8.5 8.5l.94-2.06 2.06-.94-2.06-.94L8.5 2.5l-.94 2.06-2.06.94zm10 10l.94 2.06.94-2.06 2.06-.94-2.06-.94-.94-2.06-.94 2.06-2.06.94z\"/><path d=\"M17.41 7.96l-1.37-1.37c-.4-.4-.92-.59-1.43-.59-.52 0-1.04.2-1.43.59L10.3 9.45l-7.72 7.72c-.78.78-.78 2.05 0 2.83L4 21.41c.39.39.9.59 1.41.59.51 0 1.02-.2 1.41-.59l7.78-7.78 2.81-2.81c.8-.78.8-2.07 0-2.86zM5.41 20L4 18.59l7.72-7.72 1.47 1.35L5.41 20z\"/>\n",
              "  </svg>\n",
              "      </button>\n",
              "      \n",
              "  <style>\n",
              "    .colab-df-container {\n",
              "      display:flex;\n",
              "      flex-wrap:wrap;\n",
              "      gap: 12px;\n",
              "    }\n",
              "\n",
              "    .colab-df-convert {\n",
              "      background-color: #E8F0FE;\n",
              "      border: none;\n",
              "      border-radius: 50%;\n",
              "      cursor: pointer;\n",
              "      display: none;\n",
              "      fill: #1967D2;\n",
              "      height: 32px;\n",
              "      padding: 0 0 0 0;\n",
              "      width: 32px;\n",
              "    }\n",
              "\n",
              "    .colab-df-convert:hover {\n",
              "      background-color: #E2EBFA;\n",
              "      box-shadow: 0px 1px 2px rgba(60, 64, 67, 0.3), 0px 1px 3px 1px rgba(60, 64, 67, 0.15);\n",
              "      fill: #174EA6;\n",
              "    }\n",
              "\n",
              "    [theme=dark] .colab-df-convert {\n",
              "      background-color: #3B4455;\n",
              "      fill: #D2E3FC;\n",
              "    }\n",
              "\n",
              "    [theme=dark] .colab-df-convert:hover {\n",
              "      background-color: #434B5C;\n",
              "      box-shadow: 0px 1px 3px 1px rgba(0, 0, 0, 0.15);\n",
              "      filter: drop-shadow(0px 1px 2px rgba(0, 0, 0, 0.3));\n",
              "      fill: #FFFFFF;\n",
              "    }\n",
              "  </style>\n",
              "\n",
              "      <script>\n",
              "        const buttonEl =\n",
              "          document.querySelector('#df-55f0d5bf-328a-45aa-a314-e3fbbda8ac9a button.colab-df-convert');\n",
              "        buttonEl.style.display =\n",
              "          google.colab.kernel.accessAllowed ? 'block' : 'none';\n",
              "\n",
              "        async function convertToInteractive(key) {\n",
              "          const element = document.querySelector('#df-55f0d5bf-328a-45aa-a314-e3fbbda8ac9a');\n",
              "          const dataTable =\n",
              "            await google.colab.kernel.invokeFunction('convertToInteractive',\n",
              "                                                     [key], {});\n",
              "          if (!dataTable) return;\n",
              "\n",
              "          const docLinkHtml = 'Like what you see? Visit the ' +\n",
              "            '<a target=\"_blank\" href=https://colab.research.google.com/notebooks/data_table.ipynb>data table notebook</a>'\n",
              "            + ' to learn more about interactive tables.';\n",
              "          element.innerHTML = '';\n",
              "          dataTable['output_type'] = 'display_data';\n",
              "          await google.colab.output.renderOutput(dataTable, element);\n",
              "          const docLink = document.createElement('div');\n",
              "          docLink.innerHTML = docLinkHtml;\n",
              "          element.appendChild(docLink);\n",
              "        }\n",
              "      </script>\n",
              "    </div>\n",
              "  </div>\n",
              "  "
            ]
          },
          "metadata": {},
          "execution_count": 1902
        }
      ]
    },
    {
      "cell_type": "markdown",
      "metadata": {
        "id": "B_Vcu64ITDGj"
      },
      "source": [
        "+ Intuitivamente `emp_length` parece una variable categorica importante, y facil de convertir a valor numerico sin perder poder explicativo. "
      ]
    },
    {
      "cell_type": "code",
      "metadata": {
        "colab": {
          "base_uri": "https://localhost:8080/"
        },
        "id": "A0-GehmwT4Ng",
        "outputId": "830678a6-4f01-4a1b-db75-05197ee2158d"
      },
      "source": [
        "data_train['emp_length'].unique()"
      ],
      "execution_count": 1903,
      "outputs": [
        {
          "output_type": "execute_result",
          "data": {
            "text/plain": [
              "array(['2 years', '4 years', nan, '8 years', '10+ years', '< 1 year',\n",
              "       '6 years', '3 years', '5 years', '9 years', '7 years', '1 year'],\n",
              "      dtype=object)"
            ]
          },
          "metadata": {},
          "execution_count": 1903
        }
      ]
    },
    {
      "cell_type": "markdown",
      "metadata": {
        "id": "lLYW8W_UUoAl"
      },
      "source": [
        "+ `home_ownership` y `verification_status` parecen ser buenas variables de inicio, y no tienen tantos valores unicos. Son aptas para hacer one-hot encoding."
      ]
    },
    {
      "cell_type": "code",
      "metadata": {
        "colab": {
          "base_uri": "https://localhost:8080/"
        },
        "id": "qb1W04o_U5Ci",
        "outputId": "296720b6-ea65-423c-fcbc-e7e736fb42f5"
      },
      "source": [
        "data_train['home_ownership'].unique()"
      ],
      "execution_count": 1904,
      "outputs": [
        {
          "output_type": "execute_result",
          "data": {
            "text/plain": [
              "array(['RENT', 'MORTGAGE', 'OWN', 'ANY'], dtype=object)"
            ]
          },
          "metadata": {},
          "execution_count": 1904
        }
      ]
    },
    {
      "cell_type": "code",
      "metadata": {
        "colab": {
          "base_uri": "https://localhost:8080/"
        },
        "id": "VszC80ZYU9zF",
        "outputId": "2fb62624-6563-4ead-b856-665eb257f4a8"
      },
      "source": [
        "data_train['verification_status'].unique()"
      ],
      "execution_count": 1905,
      "outputs": [
        {
          "output_type": "execute_result",
          "data": {
            "text/plain": [
              "array(['Not Verified', 'Source Verified', 'Verified'], dtype=object)"
            ]
          },
          "metadata": {},
          "execution_count": 1905
        }
      ]
    },
    {
      "cell_type": "markdown",
      "metadata": {
        "id": "Vw3bXTZWZlOM"
      },
      "source": [
        "+ `initial_list_status` no esta claro que significa, sin embargo no hay evidencia para eliminarla, por ahora. Pero, debemos de estar seguros que conoceremos el valor de esta variable antes de incluirla, pues seria inservible y arruinaria nuestro modelo."
      ]
    },
    {
      "cell_type": "code",
      "source": [
        "datos_dict[datos_dict['feature'] == 'initial_list_status'].values"
      ],
      "metadata": {
        "colab": {
          "base_uri": "https://localhost:8080/"
        },
        "id": "ByJDYAe7yANU",
        "outputId": "8c1ea6a8-a826-4042-df2d-d732e1fbbc9c"
      },
      "execution_count": 1906,
      "outputs": [
        {
          "output_type": "execute_result",
          "data": {
            "text/plain": [
              "array([['initial_list_status',\n",
              "        'The initial listing status of the loan. Possible values are – W, F']],\n",
              "      dtype=object)"
            ]
          },
          "metadata": {},
          "execution_count": 1906
        }
      ]
    },
    {
      "cell_type": "code",
      "metadata": {
        "colab": {
          "base_uri": "https://localhost:8080/"
        },
        "id": "91Nz6AZgYn0y",
        "outputId": "7b373138-7dff-4db2-e890-29c3b1e51fa5"
      },
      "source": [
        "data_train['initial_list_status'].values"
      ],
      "execution_count": 1907,
      "outputs": [
        {
          "output_type": "execute_result",
          "data": {
            "text/plain": [
              "array(['w', 'f', 'w', ..., 'w', 'f', 'f'], dtype=object)"
            ]
          },
          "metadata": {},
          "execution_count": 1907
        }
      ]
    },
    {
      "cell_type": "code",
      "metadata": {
        "colab": {
          "base_uri": "https://localhost:8080/"
        },
        "id": "UhSpr2KzVhid",
        "outputId": "50c54d0f-b4a9-4678-b924-6b71ac2a1d0b"
      },
      "source": [
        "data_train['initial_list_status'].unique()"
      ],
      "execution_count": 1908,
      "outputs": [
        {
          "output_type": "execute_result",
          "data": {
            "text/plain": [
              "array(['w', 'f'], dtype=object)"
            ]
          },
          "metadata": {},
          "execution_count": 1908
        }
      ]
    },
    {
      "cell_type": "markdown",
      "metadata": {
        "id": "T3mCaCDwa4NW"
      },
      "source": [
        "+ `earliest_cr_line` es otra variable que podemos convertir en numerica o simplificarla sin perder mucho poder predictivo."
      ]
    },
    {
      "cell_type": "code",
      "metadata": {
        "colab": {
          "base_uri": "https://localhost:8080/"
        },
        "id": "SCG2gbxNbCn3",
        "outputId": "185bfcb8-dc02-4a4b-bbd2-641f260c6b13"
      },
      "source": [
        "data_train['earliest_cr_line'].unique()"
      ],
      "execution_count": 1909,
      "outputs": [
        {
          "output_type": "execute_result",
          "data": {
            "text/plain": [
              "array(['May-1993', 'Oct-2000', 'Nov-1997', 'Nov-1995', 'Feb-1985',\n",
              "       'Feb-2002', 'May-2005', 'Dec-1993', 'Jun-2001', 'May-2000',\n",
              "       'Feb-2003', 'Feb-2001', 'Sep-2005', 'Jun-2006', 'Jan-1987',\n",
              "       'Aug-2009', 'Jul-1994', 'Jul-2002', 'Sep-1995', 'May-1999',\n",
              "       'Jul-1988', 'Nov-2002', 'Apr-2005', 'Nov-2007', 'Dec-1995',\n",
              "       'Aug-1994', 'Oct-2001', 'Oct-2002', 'Apr-1998', 'Oct-1985',\n",
              "       'Dec-2005', 'Aug-2005', 'Sep-2001', 'Sep-2010', 'Mar-1986',\n",
              "       'Nov-1991', 'Mar-2003', 'Jun-1994', 'Nov-1994', 'Dec-1999',\n",
              "       'Sep-2008', 'Apr-2009', 'Oct-2006', 'Aug-1989', 'Oct-2004',\n",
              "       'May-2003', 'Jun-2005', 'Sep-1994', 'Nov-1989', 'Nov-2004',\n",
              "       'Aug-2000', 'Dec-2007', 'Feb-1972', 'May-1996', 'Sep-2003',\n",
              "       'Aug-2003', 'Oct-2007', 'Oct-2003', 'Aug-2002', 'Jul-2000',\n",
              "       'Mar-1996', 'Feb-1994', 'Apr-1999', 'Apr-1997', 'Nov-2010',\n",
              "       'Mar-1992', 'Aug-2001', 'Jun-1985', 'Jan-2008', 'Oct-1988',\n",
              "       'Aug-1998', 'Apr-1996', 'Jul-2003', 'May-2006', 'Jul-2007',\n",
              "       'May-2007', 'Nov-2001', 'Mar-1998', 'Nov-1996', 'May-1990',\n",
              "       'Feb-1984', 'Mar-2000', 'Sep-1976', 'Apr-2003', 'Jun-2002',\n",
              "       'Oct-2005', 'Jul-2008', 'Oct-1989', 'Feb-1986', 'Mar-1987',\n",
              "       'Jul-2004', 'Nov-2000', 'Jan-2006', 'Apr-1994', 'Aug-2006',\n",
              "       'Dec-1982', 'Jan-2007', 'Feb-2007', 'Jul-2001', 'Feb-2005',\n",
              "       'May-1986', 'Jun-1998', 'Sep-1990', 'Apr-2001', 'Feb-2004',\n",
              "       'Apr-2002', 'Feb-1991', 'Mar-1999', 'Mar-2002', 'Aug-2004',\n",
              "       'Jun-2000', 'Jul-1993', 'Mar-1995', 'Jan-1998', 'Apr-1995',\n",
              "       'Jun-2008', 'Dec-2009', 'Apr-2004', 'Mar-2008', 'Oct-1998',\n",
              "       'Aug-1974', 'Nov-1999', 'Jun-1975', 'Jul-1992', 'Oct-1994',\n",
              "       'Oct-1984', 'Nov-1985', 'Feb-2009', 'Sep-1991', 'Oct-2010',\n",
              "       'Jan-1996', 'Sep-2009', 'Sep-2002', 'Jun-1999', 'Dec-2002',\n",
              "       'Mar-1994', 'Sep-1989', 'Oct-1981', 'Jan-1994', 'Oct-1995',\n",
              "       'Jan-2004', 'Feb-2000', 'Apr-1988', 'Aug-1999', 'Sep-2000',\n",
              "       'Oct-2008', 'Sep-2006', 'Jan-2001', 'Jul-1977', 'Jan-1977',\n",
              "       'Jul-2011', 'Nov-1993', 'Mar-1993', 'Mar-1989', 'Sep-1999',\n",
              "       'Feb-1988', 'Mar-1982', 'Feb-2008', 'Oct-1975', 'Nov-2003',\n",
              "       'May-1985', 'Dec-1997', 'Jun-1993', 'May-1994', 'Mar-2004',\n",
              "       'Mar-2001', 'Sep-1998', 'Jul-1986', 'Jan-2002', 'Jun-2003',\n",
              "       'Aug-2008', 'Jul-1996', 'Apr-2007', 'Nov-1998', 'Jun-2004',\n",
              "       'Nov-2005', 'Aug-1983', 'Mar-2005', 'Aug-1990', 'Dec-2004',\n",
              "       'Jan-1992', 'Jun-1996', 'Sep-1996', 'Sep-1992', 'Apr-2006',\n",
              "       'May-2011', 'Nov-2009', 'Feb-1999', 'Jan-1997', 'Dec-2003',\n",
              "       'Jan-1990', 'Sep-1997', 'Jan-1991', 'Dec-1987', 'Jul-1984',\n",
              "       'Jun-1992', 'Apr-2008', 'Feb-1996', 'Nov-1987', 'Oct-1993',\n",
              "       'Oct-1999', 'Mar-1984', 'Apr-1992', 'Dec-1985', 'Jul-1999',\n",
              "       'Oct-1987', 'Jun-1995', 'May-2009', 'Dec-1977', 'Aug-2007',\n",
              "       'May-2001', 'Jun-1980', 'Jul-1987', 'Mar-2006', 'Dec-1998',\n",
              "       'Mar-2007', 'Jul-1990', 'Sep-1979', 'Sep-1988', 'Sep-1981',\n",
              "       'Dec-1980', 'Feb-1987', 'Oct-1992', 'Apr-1984', 'Oct-1979',\n",
              "       'Dec-1984', 'Jan-1999', 'May-1997', 'Jan-1979', 'Dec-1991',\n",
              "       'Jan-2005', 'Apr-2000', 'Mar-1968', 'Jun-1979', 'Nov-1983',\n",
              "       'Jun-1986', 'Jan-2003', 'Jul-1985', 'Jun-1990', 'Sep-2004',\n",
              "       'Apr-1990', 'Jan-1986', 'May-1976', 'Jun-1983', 'May-1992',\n",
              "       'Jun-1982', 'Oct-1997', 'Jun-1989', 'Dec-1986', 'Jan-1981',\n",
              "       'Jan-2000', 'Feb-1998', 'May-1995', 'Jun-1988', 'Dec-1989',\n",
              "       'Aug-1987', 'Oct-1996', 'Feb-1979', 'Mar-1985', 'Feb-1992',\n",
              "       'Apr-1985', 'Apr-1986', 'Jun-1987', 'Jul-2006', 'Apr-1993',\n",
              "       'Feb-2010', 'Sep-1986', 'Jul-1997', 'Apr-1977', 'May-1989',\n",
              "       'Dec-1992', 'Apr-1991', 'Mar-1991', 'Jan-1985', 'Dec-1994',\n",
              "       'Sep-1980', 'May-2002', 'Oct-1983', 'Nov-1988', 'Feb-1977',\n",
              "       'Jun-1997', 'Mar-1990', 'Dec-2000', 'Nov-1990', 'May-1984',\n",
              "       'Oct-1991', 'Dec-1996', 'Jan-1989', 'Aug-1988', 'Mar-1997',\n",
              "       'Aug-2010', 'Aug-1997', 'Aug-1995', 'Jun-1984', 'Nov-1980',\n",
              "       'Sep-2007', 'Aug-1996', 'May-1982', 'May-1998', 'Jul-2005',\n",
              "       'Jun-2007', 'Feb-2006', 'Jul-1995', 'Jul-1991', 'May-1987',\n",
              "       'Feb-1990', 'Feb-1993', 'Mar-1979', 'May-2008', 'Apr-1987',\n",
              "       'Oct-2009', 'Dec-2010', 'Jan-2010', 'Aug-1993', 'May-1991',\n",
              "       'Jun-1977', 'Mar-1977', 'Dec-2001', 'Feb-1997', 'Jun-2010',\n",
              "       'Jan-1988', 'May-2004', 'Jul-1998', 'Feb-1989', 'Jul-1989',\n",
              "       'Feb-1983', 'Jul-2009', 'Dec-2006', 'Nov-1984', 'Aug-2011',\n",
              "       'Oct-1990', 'Aug-1985', 'Jan-1984', 'Jan-1995', 'Jan-1968',\n",
              "       'Jan-1965', 'Apr-1983', 'Aug-1991', 'Nov-1976', 'Mar-1976',\n",
              "       'Dec-1981', 'May-2010', 'Oct-1971', 'Sep-1993', 'Dec-1990',\n",
              "       'Nov-1973', 'Feb-1995', 'Oct-1970', 'Apr-1981', 'Sep-1975',\n",
              "       'Sep-2011', 'Nov-2006', 'Mar-1973', 'Feb-2011', 'Jul-2010',\n",
              "       'Jun-1967', 'May-1988', 'May-1981', 'Jun-1978', 'Jan-1993',\n",
              "       'Aug-1967', 'Nov-1992', 'Jan-2011', 'Dec-2008', 'Apr-1979',\n",
              "       'Mar-1988', 'Nov-1978', 'Jun-2011', 'Jan-1980', 'Mar-1983',\n",
              "       'Jun-1991', 'Nov-1975', 'Oct-1986', 'Jul-1982', 'Feb-1980',\n",
              "       'Jan-1958', 'Sep-1987', 'May-1972', 'Dec-1979', 'Oct-1978',\n",
              "       'Aug-1986', 'Aug-1992', 'Aug-1976', 'Nov-1977', 'Jan-1976',\n",
              "       'Aug-1980', 'Jul-1981', 'Jan-2009', 'Dec-1978', 'Aug-1981',\n",
              "       'Jul-1983', 'Oct-1982', 'Apr-1989', 'Aug-1984', 'Oct-1972',\n",
              "       'Nov-1986', 'Dec-1983', 'Apr-1978', 'May-1975', 'Mar-1978',\n",
              "       'Mar-2011', 'Jun-2009', 'Jan-1971', 'Apr-1980', 'Oct-1977',\n",
              "       'Oct-1976', 'Jul-1979', 'Sep-1985', 'Nov-2008', 'Aug-1977',\n",
              "       'Mar-2010', 'Dec-1988', 'Feb-1968', 'Sep-1983', 'Jul-1978',\n",
              "       'Feb-1982', 'Jul-1976', 'Apr-2010', 'Mar-2009', 'Jul-1972',\n",
              "       'Apr-1973', 'Aug-1978', 'May-1979', 'Aug-1973', 'Apr-2011',\n",
              "       'May-1971', 'Dec-1976', 'Oct-2011', 'Mar-1974', 'Sep-1982',\n",
              "       'Feb-1978', 'Jun-1966', 'Dec-1973', 'Jul-1980', 'Jan-1983',\n",
              "       'Mar-1980', 'Mar-1965', 'Jan-1970', 'Jun-1969', 'Jul-1974',\n",
              "       'Aug-1961', 'Nov-1982', 'Jan-1982', 'Sep-1966', 'Oct-1973',\n",
              "       'Jan-1972', 'Sep-1974', 'Aug-1979', 'Jul-1965', 'Apr-1982',\n",
              "       'Jun-1976', 'Aug-1969', 'Dec-1972', 'Dec-1974', 'Jun-1973',\n",
              "       'Mar-1981', 'Jan-1978', 'Aug-1962', 'Mar-1966', 'Jan-1974',\n",
              "       'Sep-1984', 'Feb-1967', 'Aug-1982', 'Jul-1971', 'Jun-1971',\n",
              "       'Mar-1972', 'Nov-1981', 'May-1970', 'Jul-1973', 'Jan-1975',\n",
              "       'Nov-1972', 'Jun-1970', 'May-1978', 'Mar-1975', 'Nov-1969',\n",
              "       'Apr-1966', 'Apr-1976', 'May-1980', 'May-1983', 'Dec-1967',\n",
              "       'Apr-1975', 'Feb-1969', 'Sep-1977', 'May-1977', 'Nov-1979',\n",
              "       'Jul-1970', 'May-1973', 'Jun-1968', 'Mar-1971', 'Apr-1965',\n",
              "       'Aug-1965', 'Feb-1966', 'Sep-1973', 'Sep-1967', 'Jan-1967',\n",
              "       'Sep-1978', 'Feb-1974', 'Feb-1981', 'Sep-1964', 'Aug-1958',\n",
              "       'Nov-1971', 'Jun-1981', 'Jul-1969', 'Dec-1971', 'Jul-1975',\n",
              "       'Dec-1975', 'Aug-1971', 'Nov-1974', 'Aug-1970', 'Apr-1971',\n",
              "       'Aug-1975', 'Feb-1975', 'Apr-1969', 'Dec-1968', 'May-1963',\n",
              "       'May-1968', 'Apr-1963', 'May-1974', 'Jun-1974', 'Feb-1970',\n",
              "       'Oct-1980', 'Oct-1974', 'Jan-1955', 'Mar-1969', 'Apr-1974',\n",
              "       'Jan-1973', 'Jun-1965', 'Oct-1969', 'Nov-2011', 'Sep-1959',\n",
              "       'Jan-1962', 'Feb-1976', 'Nov-1966', 'Oct-1964', 'Jul-1958',\n",
              "       'Jul-1964', 'Mar-1959', 'Aug-1963', 'Sep-1972', 'Apr-1961',\n",
              "       'Apr-1964', 'Dec-1969', 'Sep-1965', 'May-1966', 'Nov-1965',\n",
              "       'Apr-1972', 'Dec-1970', 'Jan-1969', 'Jan-1960', 'Dec-1962',\n",
              "       'Apr-1967', 'Feb-1971', 'Feb-1973', 'May-1959', 'May-1964',\n",
              "       'Jan-1964', 'Oct-1968', 'Oct-1967', 'Aug-1966', 'Sep-1969',\n",
              "       'Jun-1972', 'Sep-1971', 'Jan-1963', 'Nov-1967', 'Aug-1960',\n",
              "       'Oct-1965', 'Aug-1972', 'Oct-1966', 'Jul-1967', 'Jun-1964',\n",
              "       'May-1967', 'Mar-1967', 'Feb-1965', 'Jun-1960', 'Mar-1970',\n",
              "       'Dec-1966', 'Jan-1961', 'Nov-1970', 'Jun-1962', 'Sep-1968',\n",
              "       'Jul-1959', 'Dec-1965', 'Jan-1966', 'Jun-1958', 'Jul-1968',\n",
              "       'Sep-1970', 'Jul-1963', 'May-1969', 'Apr-1970', 'Nov-1954',\n",
              "       'Apr-1968', 'Jul-1966', 'Dec-1958'], dtype=object)"
            ]
          },
          "metadata": {},
          "execution_count": 1909
        }
      ]
    },
    {
      "cell_type": "markdown",
      "metadata": {
        "id": "gB32FP3bbM5h"
      },
      "source": [
        "+ Por ultimo queda `addr_state` que si bien podria tener algo de poder explicativo, toma muchos valores. Es dificil convertirla en numerica o reducir su dimensionalidad. Sera para otra ocasion"
      ]
    },
    {
      "cell_type": "code",
      "metadata": {
        "id": "CB22cUn3bYZp"
      },
      "source": [
        "cat_eliminar = cat_eliminar + ['addr_state']"
      ],
      "execution_count": 1910,
      "outputs": []
    },
    {
      "cell_type": "markdown",
      "metadata": {
        "id": "Aoa2LwgwcSd2"
      },
      "source": [
        "Ahora que hemos elegido las variables categoricas que posiblemnte nos sirvan, hay que analizarlas a detalle despues de transformarlas."
      ]
    },
    {
      "cell_type": "code",
      "metadata": {
        "colab": {
          "base_uri": "https://localhost:8080/",
          "height": 175
        },
        "id": "d1iCEAQBcQdb",
        "outputId": "7d55b24b-1889-4047-e890-ffe0a99865ed"
      },
      "source": [
        "features_cat = [f for f in features_cat if f not in cat_eliminar]\n",
        "data_train[features_cat].describe()"
      ],
      "execution_count": 1911,
      "outputs": [
        {
          "output_type": "execute_result",
          "data": {
            "text/plain": [
              "              term  grade sub_grade emp_length home_ownership  \\\n",
              "count        68910  68910     68910      65165          68910   \n",
              "unique           2      7        35         11              4   \n",
              "top      36 months      C        C1  10+ years       MORTGAGE   \n",
              "freq         54033  18628      4180      22577          33440   \n",
              "\n",
              "       verification_status             purpose earliest_cr_line  \\\n",
              "count                68910               68910            68910   \n",
              "unique                   3                  13              593   \n",
              "top        Source Verified  debt_consolidation         Aug-2001   \n",
              "freq                 27201               42404              591   \n",
              "\n",
              "       initial_list_status  \n",
              "count                68910  \n",
              "unique                   2  \n",
              "top                      w  \n",
              "freq                 35197  "
            ],
            "text/html": [
              "\n",
              "  <div id=\"df-b88ab923-7bb9-41aa-bb15-acba299ab900\">\n",
              "    <div class=\"colab-df-container\">\n",
              "      <div>\n",
              "<style scoped>\n",
              "    .dataframe tbody tr th:only-of-type {\n",
              "        vertical-align: middle;\n",
              "    }\n",
              "\n",
              "    .dataframe tbody tr th {\n",
              "        vertical-align: top;\n",
              "    }\n",
              "\n",
              "    .dataframe thead th {\n",
              "        text-align: right;\n",
              "    }\n",
              "</style>\n",
              "<table border=\"1\" class=\"dataframe\">\n",
              "  <thead>\n",
              "    <tr style=\"text-align: right;\">\n",
              "      <th></th>\n",
              "      <th>term</th>\n",
              "      <th>grade</th>\n",
              "      <th>sub_grade</th>\n",
              "      <th>emp_length</th>\n",
              "      <th>home_ownership</th>\n",
              "      <th>verification_status</th>\n",
              "      <th>purpose</th>\n",
              "      <th>earliest_cr_line</th>\n",
              "      <th>initial_list_status</th>\n",
              "    </tr>\n",
              "  </thead>\n",
              "  <tbody>\n",
              "    <tr>\n",
              "      <th>count</th>\n",
              "      <td>68910</td>\n",
              "      <td>68910</td>\n",
              "      <td>68910</td>\n",
              "      <td>65165</td>\n",
              "      <td>68910</td>\n",
              "      <td>68910</td>\n",
              "      <td>68910</td>\n",
              "      <td>68910</td>\n",
              "      <td>68910</td>\n",
              "    </tr>\n",
              "    <tr>\n",
              "      <th>unique</th>\n",
              "      <td>2</td>\n",
              "      <td>7</td>\n",
              "      <td>35</td>\n",
              "      <td>11</td>\n",
              "      <td>4</td>\n",
              "      <td>3</td>\n",
              "      <td>13</td>\n",
              "      <td>593</td>\n",
              "      <td>2</td>\n",
              "    </tr>\n",
              "    <tr>\n",
              "      <th>top</th>\n",
              "      <td>36 months</td>\n",
              "      <td>C</td>\n",
              "      <td>C1</td>\n",
              "      <td>10+ years</td>\n",
              "      <td>MORTGAGE</td>\n",
              "      <td>Source Verified</td>\n",
              "      <td>debt_consolidation</td>\n",
              "      <td>Aug-2001</td>\n",
              "      <td>w</td>\n",
              "    </tr>\n",
              "    <tr>\n",
              "      <th>freq</th>\n",
              "      <td>54033</td>\n",
              "      <td>18628</td>\n",
              "      <td>4180</td>\n",
              "      <td>22577</td>\n",
              "      <td>33440</td>\n",
              "      <td>27201</td>\n",
              "      <td>42404</td>\n",
              "      <td>591</td>\n",
              "      <td>35197</td>\n",
              "    </tr>\n",
              "  </tbody>\n",
              "</table>\n",
              "</div>\n",
              "      <button class=\"colab-df-convert\" onclick=\"convertToInteractive('df-b88ab923-7bb9-41aa-bb15-acba299ab900')\"\n",
              "              title=\"Convert this dataframe to an interactive table.\"\n",
              "              style=\"display:none;\">\n",
              "        \n",
              "  <svg xmlns=\"http://www.w3.org/2000/svg\" height=\"24px\"viewBox=\"0 0 24 24\"\n",
              "       width=\"24px\">\n",
              "    <path d=\"M0 0h24v24H0V0z\" fill=\"none\"/>\n",
              "    <path d=\"M18.56 5.44l.94 2.06.94-2.06 2.06-.94-2.06-.94-.94-2.06-.94 2.06-2.06.94zm-11 1L8.5 8.5l.94-2.06 2.06-.94-2.06-.94L8.5 2.5l-.94 2.06-2.06.94zm10 10l.94 2.06.94-2.06 2.06-.94-2.06-.94-.94-2.06-.94 2.06-2.06.94z\"/><path d=\"M17.41 7.96l-1.37-1.37c-.4-.4-.92-.59-1.43-.59-.52 0-1.04.2-1.43.59L10.3 9.45l-7.72 7.72c-.78.78-.78 2.05 0 2.83L4 21.41c.39.39.9.59 1.41.59.51 0 1.02-.2 1.41-.59l7.78-7.78 2.81-2.81c.8-.78.8-2.07 0-2.86zM5.41 20L4 18.59l7.72-7.72 1.47 1.35L5.41 20z\"/>\n",
              "  </svg>\n",
              "      </button>\n",
              "      \n",
              "  <style>\n",
              "    .colab-df-container {\n",
              "      display:flex;\n",
              "      flex-wrap:wrap;\n",
              "      gap: 12px;\n",
              "    }\n",
              "\n",
              "    .colab-df-convert {\n",
              "      background-color: #E8F0FE;\n",
              "      border: none;\n",
              "      border-radius: 50%;\n",
              "      cursor: pointer;\n",
              "      display: none;\n",
              "      fill: #1967D2;\n",
              "      height: 32px;\n",
              "      padding: 0 0 0 0;\n",
              "      width: 32px;\n",
              "    }\n",
              "\n",
              "    .colab-df-convert:hover {\n",
              "      background-color: #E2EBFA;\n",
              "      box-shadow: 0px 1px 2px rgba(60, 64, 67, 0.3), 0px 1px 3px 1px rgba(60, 64, 67, 0.15);\n",
              "      fill: #174EA6;\n",
              "    }\n",
              "\n",
              "    [theme=dark] .colab-df-convert {\n",
              "      background-color: #3B4455;\n",
              "      fill: #D2E3FC;\n",
              "    }\n",
              "\n",
              "    [theme=dark] .colab-df-convert:hover {\n",
              "      background-color: #434B5C;\n",
              "      box-shadow: 0px 1px 3px 1px rgba(0, 0, 0, 0.15);\n",
              "      filter: drop-shadow(0px 1px 2px rgba(0, 0, 0, 0.3));\n",
              "      fill: #FFFFFF;\n",
              "    }\n",
              "  </style>\n",
              "\n",
              "      <script>\n",
              "        const buttonEl =\n",
              "          document.querySelector('#df-b88ab923-7bb9-41aa-bb15-acba299ab900 button.colab-df-convert');\n",
              "        buttonEl.style.display =\n",
              "          google.colab.kernel.accessAllowed ? 'block' : 'none';\n",
              "\n",
              "        async function convertToInteractive(key) {\n",
              "          const element = document.querySelector('#df-b88ab923-7bb9-41aa-bb15-acba299ab900');\n",
              "          const dataTable =\n",
              "            await google.colab.kernel.invokeFunction('convertToInteractive',\n",
              "                                                     [key], {});\n",
              "          if (!dataTable) return;\n",
              "\n",
              "          const docLinkHtml = 'Like what you see? Visit the ' +\n",
              "            '<a target=\"_blank\" href=https://colab.research.google.com/notebooks/data_table.ipynb>data table notebook</a>'\n",
              "            + ' to learn more about interactive tables.';\n",
              "          element.innerHTML = '';\n",
              "          dataTable['output_type'] = 'display_data';\n",
              "          await google.colab.output.renderOutput(dataTable, element);\n",
              "          const docLink = document.createElement('div');\n",
              "          docLink.innerHTML = docLinkHtml;\n",
              "          element.appendChild(docLink);\n",
              "        }\n",
              "      </script>\n",
              "    </div>\n",
              "  </div>\n",
              "  "
            ]
          },
          "metadata": {},
          "execution_count": 1911
        }
      ]
    },
    {
      "cell_type": "code",
      "metadata": {
        "id": "9-D6uIKGLwnp"
      },
      "source": [
        "data_train.drop(cat_eliminar, axis=1, inplace=True)\n",
        "data_test.drop(cat_eliminar, axis=1, inplace=True)\n"
      ],
      "execution_count": 1912,
      "outputs": []
    },
    {
      "cell_type": "code",
      "source": [
        "data_train.shape"
      ],
      "metadata": {
        "colab": {
          "base_uri": "https://localhost:8080/"
        },
        "id": "6B41S_U5yfgN",
        "outputId": "5a18ea75-885c-4784-f120-9127bb6211f5"
      },
      "execution_count": 1913,
      "outputs": [
        {
          "output_type": "execute_result",
          "data": {
            "text/plain": [
              "(68910, 29)"
            ]
          },
          "metadata": {},
          "execution_count": 1913
        }
      ]
    },
    {
      "cell_type": "code",
      "source": [
        "data_test.shape"
      ],
      "metadata": {
        "colab": {
          "base_uri": "https://localhost:8080/"
        },
        "id": "nawRjcUOyhGR",
        "outputId": "e480c533-6e32-45c8-bbac-242c3a399815"
      },
      "execution_count": 1914,
      "outputs": [
        {
          "output_type": "execute_result",
          "data": {
            "text/plain": [
              "(17228, 29)"
            ]
          },
          "metadata": {},
          "execution_count": 1914
        }
      ]
    },
    {
      "cell_type": "markdown",
      "metadata": {
        "id": "aGPlIwKqdFQT"
      },
      "source": [
        "#### Analisis de Variables Categoricas Seleccionadas"
      ]
    },
    {
      "cell_type": "code",
      "metadata": {
        "colab": {
          "base_uri": "https://localhost:8080/"
        },
        "id": "jvWgy8RsdLJD",
        "outputId": "6a178637-29f5-447e-a683-b9bf31c68613"
      },
      "source": [
        "features_cat"
      ],
      "execution_count": 1915,
      "outputs": [
        {
          "output_type": "execute_result",
          "data": {
            "text/plain": [
              "['term',\n",
              " 'grade',\n",
              " 'sub_grade',\n",
              " 'emp_length',\n",
              " 'home_ownership',\n",
              " 'verification_status',\n",
              " 'purpose',\n",
              " 'earliest_cr_line',\n",
              " 'initial_list_status']"
            ]
          },
          "metadata": {},
          "execution_count": 1915
        }
      ]
    },
    {
      "cell_type": "code",
      "source": [
        "data_train['sub_grade'].unique()"
      ],
      "metadata": {
        "colab": {
          "base_uri": "https://localhost:8080/"
        },
        "id": "M1ylgOkzGANN",
        "outputId": "5b4e3ffc-7e1c-4d4b-b34e-63134dfe1a1c"
      },
      "execution_count": 1916,
      "outputs": [
        {
          "output_type": "execute_result",
          "data": {
            "text/plain": [
              "array(['C4', 'C2', 'B1', 'C1', 'D3', 'B3', 'D1', 'D4', 'B2', 'A4', 'C3',\n",
              "       'F1', 'A1', 'B5', 'B4', 'A2', 'A5', 'E2', 'C5', 'G1', 'E4', 'D2',\n",
              "       'D5', 'E3', 'E5', 'A3', 'F3', 'F5', 'E1', 'F4', 'F2', 'G2', 'G4',\n",
              "       'G5', 'G3'], dtype=object)"
            ]
          },
          "metadata": {},
          "execution_count": 1916
        }
      ]
    },
    {
      "cell_type": "code",
      "source": [
        "data_train[features_cat] = data_train[features_cat].fillna('nan-missing')"
      ],
      "metadata": {
        "id": "JfPQoMeoEa6-"
      },
      "execution_count": 1917,
      "outputs": []
    },
    {
      "cell_type": "code",
      "source": [
        "data_test[features_cat] = data_test[features_cat].fillna('nan-missing') "
      ],
      "metadata": {
        "id": "76Wp7fEREmtO"
      },
      "execution_count": 1918,
      "outputs": []
    },
    {
      "cell_type": "markdown",
      "metadata": {
        "id": "1eXl7-FzhMIK"
      },
      "source": [
        "###### term"
      ]
    },
    {
      "cell_type": "markdown",
      "metadata": {
        "id": "UAw-NuuldUKu"
      },
      "source": [
        "**term**: \"The number of payments on the loan. Values are in months and can be either 36 or 60. The 60 Months loans are more likelely to charge off.\"\n",
        "+ Podemos convertirla a variable numerica sin problema."
      ]
    },
    {
      "cell_type": "code",
      "metadata": {
        "colab": {
          "base_uri": "https://localhost:8080/"
        },
        "id": "pxjziYTNeDqM",
        "outputId": "67fc2c85-f8db-42cd-dcae-030e305d50ee"
      },
      "source": [
        "data_train['term'].unique()"
      ],
      "execution_count": 1919,
      "outputs": [
        {
          "output_type": "execute_result",
          "data": {
            "text/plain": [
              "array([' 36 months', ' 60 months'], dtype=object)"
            ]
          },
          "metadata": {},
          "execution_count": 1919
        }
      ]
    },
    {
      "cell_type": "code",
      "metadata": {
        "id": "P06aaS2kd9xV"
      },
      "source": [
        "data_train['term'] = data_train['term'].apply(lambda s: np.int8(s.split()[0]))\n",
        "# Aplica la misma transformacion al test, para que sea valida\n",
        "data_test['term'] = data_test['term'].apply(lambda s: np.int8(s.split()[0]))"
      ],
      "execution_count": 1920,
      "outputs": []
    },
    {
      "cell_type": "code",
      "metadata": {
        "colab": {
          "base_uri": "https://localhost:8080/"
        },
        "id": "vaxRj3FqenOV",
        "outputId": "296793d3-413f-46ec-acf8-bdc684b59de0"
      },
      "source": [
        "data_train.groupby('term')['charged_off'].value_counts(normalize=True).loc[:,1]"
      ],
      "execution_count": 1921,
      "outputs": [
        {
          "output_type": "execute_result",
          "data": {
            "text/plain": [
              "term\n",
              "36    0.141543\n",
              "60    0.354709\n",
              "Name: charged_off, dtype: float64"
            ]
          },
          "metadata": {},
          "execution_count": 1921
        }
      ]
    },
    {
      "cell_type": "markdown",
      "metadata": {
        "id": "mCfVw1Oag1s9"
      },
      "source": [
        "Podemos observar que el default o `charge_off` es doblemente probable cuando el periodo de prestamo son 60 meses comparado con el de 30."
      ]
    },
    {
      "cell_type": "markdown",
      "metadata": {
        "id": "o0Cz9g4RhRbO"
      },
      "source": [
        "###### emp_length"
      ]
    },
    {
      "cell_type": "markdown",
      "metadata": {
        "id": "Cj44wXNIhXb2"
      },
      "source": [
        "**emp_length**: Es el tiempo que lleva en su ultimo empleo. Podemos convertirla a numerica."
      ]
    },
    {
      "cell_type": "code",
      "metadata": {
        "colab": {
          "base_uri": "https://localhost:8080/"
        },
        "id": "GU8PkQQHhjDO",
        "outputId": "3c0d51d9-b610-4ade-ccb1-076fab4809ff"
      },
      "source": [
        "data_train['emp_length'].unique()"
      ],
      "execution_count": 1922,
      "outputs": [
        {
          "output_type": "execute_result",
          "data": {
            "text/plain": [
              "array(['2 years', '4 years', 'nan-missing', '8 years', '10+ years',\n",
              "       '< 1 year', '6 years', '3 years', '5 years', '9 years', '7 years',\n",
              "       '1 year'], dtype=object)"
            ]
          },
          "metadata": {},
          "execution_count": 1922
        }
      ]
    },
    {
      "cell_type": "code",
      "metadata": {
        "id": "LsFJQj4shgZB"
      },
      "source": [
        "def emp_length_to_int(s):\n",
        "    '''Variable auxiliar de limpieza de emp_length '''\n",
        "    if pd.isnull(s):\n",
        "        return -5 # Seria mejor imputar la media\n",
        "    else:\n",
        "        return np.int8(s.split()[0])\n",
        "def transform_emp(data):\n",
        "    data['emp_length'].replace(to_replace='10+ years', value='10 years', inplace=True)\n",
        "    data['emp_length'].replace('< 1 year', '0 years', inplace=True)    \n",
        "    data['emp_length'].replace('nan-missing', np.nan, inplace=True)    \n",
        "    data['emp_length'] = data['emp_length'].apply(emp_length_to_int)\n",
        "\n",
        "    return data"
      ],
      "execution_count": 1923,
      "outputs": []
    },
    {
      "cell_type": "code",
      "source": [
        "data_train = transform_emp(data_train)\n",
        "data_test = transform_emp(data_test)\n"
      ],
      "metadata": {
        "id": "PF2lRk-KzIbT"
      },
      "execution_count": 1924,
      "outputs": []
    },
    {
      "cell_type": "code",
      "metadata": {
        "colab": {
          "base_uri": "https://localhost:8080/"
        },
        "id": "75rY4ggKh-1Q",
        "outputId": "a760689f-ef39-44d8-c7a0-d8c7c46daf11"
      },
      "source": [
        "charge_off_rates = data_train.groupby(\n",
        "    'emp_length')['charged_off'].value_counts(normalize=True).loc[:,1]\n",
        "charge_off_rates"
      ],
      "execution_count": 1925,
      "outputs": [
        {
          "output_type": "execute_result",
          "data": {
            "text/plain": [
              "emp_length\n",
              "-5     0.239786\n",
              " 0     0.198976\n",
              " 1     0.191840\n",
              " 2     0.175783\n",
              " 3     0.185287\n",
              " 4     0.180038\n",
              " 5     0.173949\n",
              " 6     0.186257\n",
              " 7     0.182621\n",
              " 8     0.194957\n",
              " 9     0.190528\n",
              " 10    0.182088\n",
              "Name: charged_off, dtype: float64"
            ]
          },
          "metadata": {},
          "execution_count": 1925
        }
      ]
    },
    {
      "cell_type": "code",
      "metadata": {
        "colab": {
          "base_uri": "https://localhost:8080/",
          "height": 112
        },
        "id": "SCSfu0nRiLAx",
        "outputId": "0bdcd3c4-cd52-4af4-8198-21b18621de4e"
      },
      "source": [
        "data_train[['emp_length','charged_off']].corr()"
      ],
      "execution_count": 1926,
      "outputs": [
        {
          "output_type": "execute_result",
          "data": {
            "text/plain": [
              "             emp_length  charged_off\n",
              "emp_length     1.000000    -0.022395\n",
              "charged_off   -0.022395     1.000000"
            ],
            "text/html": [
              "\n",
              "  <div id=\"df-51cd27ea-3f27-4172-8201-e8151685db7b\">\n",
              "    <div class=\"colab-df-container\">\n",
              "      <div>\n",
              "<style scoped>\n",
              "    .dataframe tbody tr th:only-of-type {\n",
              "        vertical-align: middle;\n",
              "    }\n",
              "\n",
              "    .dataframe tbody tr th {\n",
              "        vertical-align: top;\n",
              "    }\n",
              "\n",
              "    .dataframe thead th {\n",
              "        text-align: right;\n",
              "    }\n",
              "</style>\n",
              "<table border=\"1\" class=\"dataframe\">\n",
              "  <thead>\n",
              "    <tr style=\"text-align: right;\">\n",
              "      <th></th>\n",
              "      <th>emp_length</th>\n",
              "      <th>charged_off</th>\n",
              "    </tr>\n",
              "  </thead>\n",
              "  <tbody>\n",
              "    <tr>\n",
              "      <th>emp_length</th>\n",
              "      <td>1.000000</td>\n",
              "      <td>-0.022395</td>\n",
              "    </tr>\n",
              "    <tr>\n",
              "      <th>charged_off</th>\n",
              "      <td>-0.022395</td>\n",
              "      <td>1.000000</td>\n",
              "    </tr>\n",
              "  </tbody>\n",
              "</table>\n",
              "</div>\n",
              "      <button class=\"colab-df-convert\" onclick=\"convertToInteractive('df-51cd27ea-3f27-4172-8201-e8151685db7b')\"\n",
              "              title=\"Convert this dataframe to an interactive table.\"\n",
              "              style=\"display:none;\">\n",
              "        \n",
              "  <svg xmlns=\"http://www.w3.org/2000/svg\" height=\"24px\"viewBox=\"0 0 24 24\"\n",
              "       width=\"24px\">\n",
              "    <path d=\"M0 0h24v24H0V0z\" fill=\"none\"/>\n",
              "    <path d=\"M18.56 5.44l.94 2.06.94-2.06 2.06-.94-2.06-.94-.94-2.06-.94 2.06-2.06.94zm-11 1L8.5 8.5l.94-2.06 2.06-.94-2.06-.94L8.5 2.5l-.94 2.06-2.06.94zm10 10l.94 2.06.94-2.06 2.06-.94-2.06-.94-.94-2.06-.94 2.06-2.06.94z\"/><path d=\"M17.41 7.96l-1.37-1.37c-.4-.4-.92-.59-1.43-.59-.52 0-1.04.2-1.43.59L10.3 9.45l-7.72 7.72c-.78.78-.78 2.05 0 2.83L4 21.41c.39.39.9.59 1.41.59.51 0 1.02-.2 1.41-.59l7.78-7.78 2.81-2.81c.8-.78.8-2.07 0-2.86zM5.41 20L4 18.59l7.72-7.72 1.47 1.35L5.41 20z\"/>\n",
              "  </svg>\n",
              "      </button>\n",
              "      \n",
              "  <style>\n",
              "    .colab-df-container {\n",
              "      display:flex;\n",
              "      flex-wrap:wrap;\n",
              "      gap: 12px;\n",
              "    }\n",
              "\n",
              "    .colab-df-convert {\n",
              "      background-color: #E8F0FE;\n",
              "      border: none;\n",
              "      border-radius: 50%;\n",
              "      cursor: pointer;\n",
              "      display: none;\n",
              "      fill: #1967D2;\n",
              "      height: 32px;\n",
              "      padding: 0 0 0 0;\n",
              "      width: 32px;\n",
              "    }\n",
              "\n",
              "    .colab-df-convert:hover {\n",
              "      background-color: #E2EBFA;\n",
              "      box-shadow: 0px 1px 2px rgba(60, 64, 67, 0.3), 0px 1px 3px 1px rgba(60, 64, 67, 0.15);\n",
              "      fill: #174EA6;\n",
              "    }\n",
              "\n",
              "    [theme=dark] .colab-df-convert {\n",
              "      background-color: #3B4455;\n",
              "      fill: #D2E3FC;\n",
              "    }\n",
              "\n",
              "    [theme=dark] .colab-df-convert:hover {\n",
              "      background-color: #434B5C;\n",
              "      box-shadow: 0px 1px 3px 1px rgba(0, 0, 0, 0.15);\n",
              "      filter: drop-shadow(0px 1px 2px rgba(0, 0, 0, 0.3));\n",
              "      fill: #FFFFFF;\n",
              "    }\n",
              "  </style>\n",
              "\n",
              "      <script>\n",
              "        const buttonEl =\n",
              "          document.querySelector('#df-51cd27ea-3f27-4172-8201-e8151685db7b button.colab-df-convert');\n",
              "        buttonEl.style.display =\n",
              "          google.colab.kernel.accessAllowed ? 'block' : 'none';\n",
              "\n",
              "        async function convertToInteractive(key) {\n",
              "          const element = document.querySelector('#df-51cd27ea-3f27-4172-8201-e8151685db7b');\n",
              "          const dataTable =\n",
              "            await google.colab.kernel.invokeFunction('convertToInteractive',\n",
              "                                                     [key], {});\n",
              "          if (!dataTable) return;\n",
              "\n",
              "          const docLinkHtml = 'Like what you see? Visit the ' +\n",
              "            '<a target=\"_blank\" href=https://colab.research.google.com/notebooks/data_table.ipynb>data table notebook</a>'\n",
              "            + ' to learn more about interactive tables.';\n",
              "          element.innerHTML = '';\n",
              "          dataTable['output_type'] = 'display_data';\n",
              "          await google.colab.output.renderOutput(dataTable, element);\n",
              "          const docLink = document.createElement('div');\n",
              "          docLink.innerHTML = docLinkHtml;\n",
              "          element.appendChild(docLink);\n",
              "        }\n",
              "      </script>\n",
              "    </div>\n",
              "  </div>\n",
              "  "
            ]
          },
          "metadata": {},
          "execution_count": 1926
        }
      ]
    },
    {
      "cell_type": "markdown",
      "metadata": {
        "id": "ALbW1T3kiVv7"
      },
      "source": [
        "Podemos observar que esta variable no tiene mucho poder explicativo. La proporcion es parecida para cada valor, y parece no estar correlacionada con el target. En este caso los datos no soportan nuestra intuicion, hay que eliminarla."
      ]
    },
    {
      "cell_type": "code",
      "metadata": {
        "id": "dN56JuJ_ipj6"
      },
      "source": [
        "data_train.drop(['emp_length'], axis=1, inplace=True)\n",
        "data_test.drop(['emp_length'], axis=1, inplace=True)\n"
      ],
      "execution_count": 1927,
      "outputs": []
    },
    {
      "cell_type": "code",
      "source": [
        "data_train.shape"
      ],
      "metadata": {
        "colab": {
          "base_uri": "https://localhost:8080/"
        },
        "id": "XOufFKz4zZYw",
        "outputId": "a3a15c9c-0bce-4d0f-8bc2-8f72dbf86e21"
      },
      "execution_count": 1928,
      "outputs": [
        {
          "output_type": "execute_result",
          "data": {
            "text/plain": [
              "(68910, 28)"
            ]
          },
          "metadata": {},
          "execution_count": 1928
        }
      ]
    },
    {
      "cell_type": "code",
      "source": [
        "data_test.shape"
      ],
      "metadata": {
        "colab": {
          "base_uri": "https://localhost:8080/"
        },
        "id": "KKIZMGy2zaWT",
        "outputId": "d49b7324-9079-49b9-e596-c349ec1df16f"
      },
      "execution_count": 1929,
      "outputs": [
        {
          "output_type": "execute_result",
          "data": {
            "text/plain": [
              "(17228, 28)"
            ]
          },
          "metadata": {},
          "execution_count": 1929
        }
      ]
    },
    {
      "cell_type": "markdown",
      "metadata": {
        "id": "U2yHuEbaitJP"
      },
      "source": [
        "###### sub_grade"
      ]
    },
    {
      "cell_type": "code",
      "metadata": {
        "colab": {
          "base_uri": "https://localhost:8080/",
          "height": 356
        },
        "id": "kI3vBzCriwAv",
        "outputId": "76c5974c-e224-4193-a842-0b0e534a18c5"
      },
      "source": [
        "charge_off_rates = data_train.groupby('sub_grade'\n",
        "            )['charged_off'].value_counts(normalize=True).loc[:,1]\n",
        "sns.set(rc={'figure.figsize':(12,5)})\n",
        "sns.barplot(x=charge_off_rates.index, y=charge_off_rates.values)"
      ],
      "execution_count": 1930,
      "outputs": [
        {
          "output_type": "execute_result",
          "data": {
            "text/plain": [
              "<AxesSubplot:xlabel='sub_grade'>"
            ]
          },
          "metadata": {},
          "execution_count": 1930
        },
        {
          "output_type": "display_data",
          "data": {
            "text/plain": [
              "<Figure size 864x360 with 1 Axes>"
            ],
            "image/png": "[encoded data removed]"
          },
          "metadata": {}
        }
      ]
    },
    {
      "cell_type": "markdown",
      "metadata": {
        "id": "WFCURYLzi3uw"
      },
      "source": [
        "Podemos observar que la probabilidad de incurrir en `charge_off` aumenta conforme el `sub_grade` decrece. En este caso los datos favorecen nuestra intuicion."
      ]
    },
    {
      "cell_type": "markdown",
      "metadata": {
        "id": "1N5iK3jXnyGT"
      },
      "source": [
        "Dado que observamos un comportamiento monotono-decreciente que sigue cierta logica (mejor score menor probabilidad de fallo) podemos convertirla en variable numerica."
      ]
    },
    {
      "cell_type": "code",
      "source": [
        "data_train['sub_grade']"
      ],
      "metadata": {
        "colab": {
          "base_uri": "https://localhost:8080/"
        },
        "id": "COa3j8mgFtWG",
        "outputId": "c7b271cf-012e-44c1-93fe-1fa9fe56b846"
      },
      "execution_count": 1931,
      "outputs": [
        {
          "output_type": "execute_result",
          "data": {
            "text/plain": [
              "62394    C4\n",
              "2333     C2\n",
              "91099    B1\n",
              "31904    C1\n",
              "58152    B1\n",
              "         ..\n",
              "2005     A3\n",
              "64585    C1\n",
              "86108    C1\n",
              "6733     C2\n",
              "46758    A2\n",
              "Name: sub_grade, Length: 68910, dtype: object"
            ]
          },
          "metadata": {},
          "execution_count": 1931
        }
      ]
    },
    {
      "cell_type": "code",
      "source": [
        "l = data_train['sub_grade'].apply(str).unique()\n",
        "l[-1] = 'missing-nan'\n",
        "l"
      ],
      "metadata": {
        "colab": {
          "base_uri": "https://localhost:8080/"
        },
        "id": "D1Sl9XrhIp69",
        "outputId": "f92cc26a-ed1a-4c17-cb52-6511b486d5dd"
      },
      "execution_count": 1932,
      "outputs": [
        {
          "output_type": "execute_result",
          "data": {
            "text/plain": [
              "array(['C4', 'C2', 'B1', 'C1', 'D3', 'B3', 'D1', 'D4', 'B2', 'A4', 'C3',\n",
              "       'F1', 'A1', 'B5', 'B4', 'A2', 'A5', 'E2', 'C5', 'G1', 'E4', 'D2',\n",
              "       'D5', 'E3', 'E5', 'A3', 'F3', 'F5', 'E1', 'F4', 'F2', 'G2', 'G4',\n",
              "       'G5', 'missing-nan'], dtype=object)"
            ]
          },
          "metadata": {},
          "execution_count": 1932
        }
      ]
    },
    {
      "cell_type": "code",
      "metadata": {
        "id": "TcDtL4NHoEOi"
      },
      "source": [
        "# Este es un encoder de labels no de Xs, sin embargo lo usaremos.\n",
        "from sklearn.preprocessing import LabelEncoder\n",
        "label_f = LabelEncoder()\n",
        "lf = data_train['sub_grade'].apply(str).unique()\n",
        "lf[-1] = 'missing-nan'\n",
        "label_f.fit(lf)\n",
        "data_train['sub_grade'] = label_f.fit_transform(data_train['sub_grade'])"
      ],
      "execution_count": 1933,
      "outputs": []
    },
    {
      "cell_type": "markdown",
      "source": [
        "Nota como arriba usamos fit_transform para `train` y abajo solo transform para el `test`"
      ],
      "metadata": {
        "id": "MpAVe5OEzooM"
      }
    },
    {
      "cell_type": "code",
      "source": [
        "data_test['sub_grade'] = label_f.transform(data_test['sub_grade'])"
      ],
      "metadata": {
        "id": "3qW8a7Hqzl29"
      },
      "execution_count": 1934,
      "outputs": []
    },
    {
      "cell_type": "code",
      "metadata": {
        "colab": {
          "base_uri": "https://localhost:8080/",
          "height": 356
        },
        "id": "1RUhLbwApsbr",
        "outputId": "2d743ab8-8992-491c-885b-4da3da1c773e"
      },
      "source": [
        "charge_off_rates = data_train.groupby('sub_grade'\n",
        "            )['charged_off'].value_counts(normalize=True).loc[:,1]\n",
        "sns.set(rc={'figure.figsize':(12,5)})\n",
        "sns.barplot(x=charge_off_rates.index, y=charge_off_rates.values)"
      ],
      "execution_count": 1935,
      "outputs": [
        {
          "output_type": "execute_result",
          "data": {
            "text/plain": [
              "<AxesSubplot:xlabel='sub_grade'>"
            ]
          },
          "metadata": {},
          "execution_count": 1935
        },
        {
          "output_type": "display_data",
          "data": {
            "text/plain": [
              "<Figure size 864x360 with 1 Axes>"
            ],
            "image/png": "[encoded data removed]"
          },
          "metadata": {}
        }
      ]
    },
    {
      "cell_type": "markdown",
      "metadata": {
        "id": "D4iUlE_cp6_n"
      },
      "source": [
        "Ahora podemos eliminar `grade`, pues logramos usar una variable mas granular."
      ]
    },
    {
      "cell_type": "code",
      "metadata": {
        "colab": {
          "base_uri": "https://localhost:8080/",
          "height": 112
        },
        "id": "RhQCGsB7qIBy",
        "outputId": "e5f403ea-63bf-48d0-cf3e-e214dec63620"
      },
      "source": [
        "data_train[['sub_grade', 'charged_off']].corr()"
      ],
      "execution_count": 1936,
      "outputs": [
        {
          "output_type": "execute_result",
          "data": {
            "text/plain": [
              "             sub_grade  charged_off\n",
              "sub_grade     1.000000     0.281794\n",
              "charged_off   0.281794     1.000000"
            ],
            "text/html": [
              "\n",
              "  <div id=\"df-67cd550f-46a1-4c1f-9362-0b3c9d71de29\">\n",
              "    <div class=\"colab-df-container\">\n",
              "      <div>\n",
              "<style scoped>\n",
              "    .dataframe tbody tr th:only-of-type {\n",
              "        vertical-align: middle;\n",
              "    }\n",
              "\n",
              "    .dataframe tbody tr th {\n",
              "        vertical-align: top;\n",
              "    }\n",
              "\n",
              "    .dataframe thead th {\n",
              "        text-align: right;\n",
              "    }\n",
              "</style>\n",
              "<table border=\"1\" class=\"dataframe\">\n",
              "  <thead>\n",
              "    <tr style=\"text-align: right;\">\n",
              "      <th></th>\n",
              "      <th>sub_grade</th>\n",
              "      <th>charged_off</th>\n",
              "    </tr>\n",
              "  </thead>\n",
              "  <tbody>\n",
              "    <tr>\n",
              "      <th>sub_grade</th>\n",
              "      <td>1.000000</td>\n",
              "      <td>0.281794</td>\n",
              "    </tr>\n",
              "    <tr>\n",
              "      <th>charged_off</th>\n",
              "      <td>0.281794</td>\n",
              "      <td>1.000000</td>\n",
              "    </tr>\n",
              "  </tbody>\n",
              "</table>\n",
              "</div>\n",
              "      <button class=\"colab-df-convert\" onclick=\"convertToInteractive('df-67cd550f-46a1-4c1f-9362-0b3c9d71de29')\"\n",
              "              title=\"Convert this dataframe to an interactive table.\"\n",
              "              style=\"display:none;\">\n",
              "        \n",
              "  <svg xmlns=\"http://www.w3.org/2000/svg\" height=\"24px\"viewBox=\"0 0 24 24\"\n",
              "       width=\"24px\">\n",
              "    <path d=\"M0 0h24v24H0V0z\" fill=\"none\"/>\n",
              "    <path d=\"M18.56 5.44l.94 2.06.94-2.06 2.06-.94-2.06-.94-.94-2.06-.94 2.06-2.06.94zm-11 1L8.5 8.5l.94-2.06 2.06-.94-2.06-.94L8.5 2.5l-.94 2.06-2.06.94zm10 10l.94 2.06.94-2.06 2.06-.94-2.06-.94-.94-2.06-.94 2.06-2.06.94z\"/><path d=\"M17.41 7.96l-1.37-1.37c-.4-.4-.92-.59-1.43-.59-.52 0-1.04.2-1.43.59L10.3 9.45l-7.72 7.72c-.78.78-.78 2.05 0 2.83L4 21.41c.39.39.9.59 1.41.59.51 0 1.02-.2 1.41-.59l7.78-7.78 2.81-2.81c.8-.78.8-2.07 0-2.86zM5.41 20L4 18.59l7.72-7.72 1.47 1.35L5.41 20z\"/>\n",
              "  </svg>\n",
              "      </button>\n",
              "      \n",
              "  <style>\n",
              "    .colab-df-container {\n",
              "      display:flex;\n",
              "      flex-wrap:wrap;\n",
              "      gap: 12px;\n",
              "    }\n",
              "\n",
              "    .colab-df-convert {\n",
              "      background-color: #E8F0FE;\n",
              "      border: none;\n",
              "      border-radius: 50%;\n",
              "      cursor: pointer;\n",
              "      display: none;\n",
              "      fill: #1967D2;\n",
              "      height: 32px;\n",
              "      padding: 0 0 0 0;\n",
              "      width: 32px;\n",
              "    }\n",
              "\n",
              "    .colab-df-convert:hover {\n",
              "      background-color: #E2EBFA;\n",
              "      box-shadow: 0px 1px 2px rgba(60, 64, 67, 0.3), 0px 1px 3px 1px rgba(60, 64, 67, 0.15);\n",
              "      fill: #174EA6;\n",
              "    }\n",
              "\n",
              "    [theme=dark] .colab-df-convert {\n",
              "      background-color: #3B4455;\n",
              "      fill: #D2E3FC;\n",
              "    }\n",
              "\n",
              "    [theme=dark] .colab-df-convert:hover {\n",
              "      background-color: #434B5C;\n",
              "      box-shadow: 0px 1px 3px 1px rgba(0, 0, 0, 0.15);\n",
              "      filter: drop-shadow(0px 1px 2px rgba(0, 0, 0, 0.3));\n",
              "      fill: #FFFFFF;\n",
              "    }\n",
              "  </style>\n",
              "\n",
              "      <script>\n",
              "        const buttonEl =\n",
              "          document.querySelector('#df-67cd550f-46a1-4c1f-9362-0b3c9d71de29 button.colab-df-convert');\n",
              "        buttonEl.style.display =\n",
              "          google.colab.kernel.accessAllowed ? 'block' : 'none';\n",
              "\n",
              "        async function convertToInteractive(key) {\n",
              "          const element = document.querySelector('#df-67cd550f-46a1-4c1f-9362-0b3c9d71de29');\n",
              "          const dataTable =\n",
              "            await google.colab.kernel.invokeFunction('convertToInteractive',\n",
              "                                                     [key], {});\n",
              "          if (!dataTable) return;\n",
              "\n",
              "          const docLinkHtml = 'Like what you see? Visit the ' +\n",
              "            '<a target=\"_blank\" href=https://colab.research.google.com/notebooks/data_table.ipynb>data table notebook</a>'\n",
              "            + ' to learn more about interactive tables.';\n",
              "          element.innerHTML = '';\n",
              "          dataTable['output_type'] = 'display_data';\n",
              "          await google.colab.output.renderOutput(dataTable, element);\n",
              "          const docLink = document.createElement('div');\n",
              "          docLink.innerHTML = docLinkHtml;\n",
              "          element.appendChild(docLink);\n",
              "        }\n",
              "      </script>\n",
              "    </div>\n",
              "  </div>\n",
              "  "
            ]
          },
          "metadata": {},
          "execution_count": 1936
        }
      ]
    },
    {
      "cell_type": "code",
      "metadata": {
        "id": "_vzHep_PqCGj"
      },
      "source": [
        "data_train.drop(['grade'], axis=1, inplace=True)\n",
        "data_test.drop(['grade'], axis=1, inplace=True)\n"
      ],
      "execution_count": 1937,
      "outputs": []
    },
    {
      "cell_type": "code",
      "source": [
        "data_train.shape"
      ],
      "metadata": {
        "colab": {
          "base_uri": "https://localhost:8080/"
        },
        "id": "IRxo75dUz_Ed",
        "outputId": "6364b2a2-98df-4150-8ebf-c7950db0ba0e"
      },
      "execution_count": 1938,
      "outputs": [
        {
          "output_type": "execute_result",
          "data": {
            "text/plain": [
              "(68910, 27)"
            ]
          },
          "metadata": {},
          "execution_count": 1938
        }
      ]
    },
    {
      "cell_type": "code",
      "source": [
        "data_test.shape"
      ],
      "metadata": {
        "colab": {
          "base_uri": "https://localhost:8080/"
        },
        "id": "JOLGsz1I0Aqu",
        "outputId": "e98f88a4-3987-4be0-823d-cd23c75bb53d"
      },
      "execution_count": 1939,
      "outputs": [
        {
          "output_type": "execute_result",
          "data": {
            "text/plain": [
              "(17228, 27)"
            ]
          },
          "metadata": {},
          "execution_count": 1939
        }
      ]
    },
    {
      "cell_type": "markdown",
      "metadata": {
        "id": "JBpW1ci3qxjU"
      },
      "source": [
        "###### home_ownership"
      ]
    },
    {
      "cell_type": "code",
      "metadata": {
        "colab": {
          "base_uri": "https://localhost:8080/"
        },
        "id": "porFMWvjq37u",
        "outputId": "00798a0a-68c9-4b57-b75f-11b01ca15cb3"
      },
      "source": [
        "data_train['home_ownership'].unique()"
      ],
      "execution_count": 1940,
      "outputs": [
        {
          "output_type": "execute_result",
          "data": {
            "text/plain": [
              "array(['RENT', 'MORTGAGE', 'OWN', 'ANY'], dtype=object)"
            ]
          },
          "metadata": {},
          "execution_count": 1940
        }
      ]
    },
    {
      "cell_type": "code",
      "source": [
        "data_test['home_ownership'].unique()\n"
      ],
      "metadata": {
        "colab": {
          "base_uri": "https://localhost:8080/"
        },
        "id": "y-Mj6LXi0G3e",
        "outputId": "45c1f9f9-3f99-4160-e54a-7854575607b4"
      },
      "execution_count": 1941,
      "outputs": [
        {
          "output_type": "execute_result",
          "data": {
            "text/plain": [
              "array(['OWN', 'RENT', 'MORTGAGE'], dtype=object)"
            ]
          },
          "metadata": {},
          "execution_count": 1941
        }
      ]
    },
    {
      "cell_type": "markdown",
      "source": [
        "Nota como el `test` no tiene el valor de `ANY`, y ademas solo hay una observacion con ese valor. Por simplicidad vamos a removerlo."
      ],
      "metadata": {
        "id": "m59z2a_X0JoN"
      }
    },
    {
      "cell_type": "code",
      "metadata": {
        "colab": {
          "base_uri": "https://localhost:8080/"
        },
        "id": "XEtpYioNrEhf",
        "outputId": "1a0e5a30-ed7c-4714-9d76-caab85574db6"
      },
      "source": [
        "charge_off_rates = data_train.groupby(\n",
        "    'home_ownership')['charged_off'].value_counts(normalize=True).loc[:,1]\n",
        "charge_off_rates"
      ],
      "execution_count": 1942,
      "outputs": [
        {
          "output_type": "execute_result",
          "data": {
            "text/plain": [
              "home_ownership\n",
              "MORTGAGE    0.166388\n",
              "OWN         0.189057\n",
              "RENT        0.212225\n",
              "Name: charged_off, dtype: float64"
            ]
          },
          "metadata": {},
          "execution_count": 1942
        }
      ]
    },
    {
      "cell_type": "code",
      "metadata": {
        "colab": {
          "base_uri": "https://localhost:8080/",
          "height": 174
        },
        "id": "THgu0YedrSf6",
        "outputId": "e9ff7e4a-2483-4de8-9d75-bf5009d177fc"
      },
      "source": [
        "data_train[data_train['home_ownership']=='ANY']"
      ],
      "execution_count": 1943,
      "outputs": [
        {
          "output_type": "execute_result",
          "data": {
            "text/plain": [
              "       loan_amnt  funded_amnt  term  int_rate  installment  sub_grade  \\\n",
              "80625     5000.0       5000.0    36     11.67       165.29          8   \n",
              "\n",
              "      home_ownership  annual_inc verification_status             purpose  ...  \\\n",
              "80625            ANY     35680.0     Source Verified  debt_consolidation  ...   \n",
              "\n",
              "       last_pymnt_amnt acc_open_past_24mths  avg_cur_bal  bc_open_to_buy  \\\n",
              "80625          5048.63                  5.0      18703.0          4381.0   \n",
              "\n",
              "       bc_util  mo_sin_old_rev_tl_op mo_sin_rcnt_rev_tl_op  mort_acc  \\\n",
              "80625     43.1                  92.0                   3.0       1.0   \n",
              "\n",
              "       num_actv_rev_tl  charged_off  \n",
              "80625              3.0            0  \n",
              "\n",
              "[1 rows x 27 columns]"
            ],
            "text/html": [
              "\n",
              "  <div id=\"df-653f97bf-eaae-4c7b-b894-31d6bb5c8f3d\">\n",
              "    <div class=\"colab-df-container\">\n",
              "      <div>\n",
              "<style scoped>\n",
              "    .dataframe tbody tr th:only-of-type {\n",
              "        vertical-align: middle;\n",
              "    }\n",
              "\n",
              "    .dataframe tbody tr th {\n",
              "        vertical-align: top;\n",
              "    }\n",
              "\n",
              "    .dataframe thead th {\n",
              "        text-align: right;\n",
              "    }\n",
              "</style>\n",
              "<table border=\"1\" class=\"dataframe\">\n",
              "  <thead>\n",
              "    <tr style=\"text-align: right;\">\n",
              "      <th></th>\n",
              "      <th>loan_amnt</th>\n",
              "      <th>funded_amnt</th>\n",
              "      <th>term</th>\n",
              "      <th>int_rate</th>\n",
              "      <th>installment</th>\n",
              "      <th>sub_grade</th>\n",
              "      <th>home_ownership</th>\n",
              "      <th>annual_inc</th>\n",
              "      <th>verification_status</th>\n",
              "      <th>purpose</th>\n",
              "      <th>...</th>\n",
              "      <th>last_pymnt_amnt</th>\n",
              "      <th>acc_open_past_24mths</th>\n",
              "      <th>avg_cur_bal</th>\n",
              "      <th>bc_open_to_buy</th>\n",
              "      <th>bc_util</th>\n",
              "      <th>mo_sin_old_rev_tl_op</th>\n",
              "      <th>mo_sin_rcnt_rev_tl_op</th>\n",
              "      <th>mort_acc</th>\n",
              "      <th>num_actv_rev_tl</th>\n",
              "      <th>charged_off</th>\n",
              "    </tr>\n",
              "  </thead>\n",
              "  <tbody>\n",
              "    <tr>\n",
              "      <th>80625</th>\n",
              "      <td>5000.0</td>\n",
              "      <td>5000.0</td>\n",
              "      <td>36</td>\n",
              "      <td>11.67</td>\n",
              "      <td>165.29</td>\n",
              "      <td>8</td>\n",
              "      <td>ANY</td>\n",
              "      <td>35680.0</td>\n",
              "      <td>Source Verified</td>\n",
              "      <td>debt_consolidation</td>\n",
              "      <td>...</td>\n",
              "      <td>5048.63</td>\n",
              "      <td>5.0</td>\n",
              "      <td>18703.0</td>\n",
              "      <td>4381.0</td>\n",
              "      <td>43.1</td>\n",
              "      <td>92.0</td>\n",
              "      <td>3.0</td>\n",
              "      <td>1.0</td>\n",
              "      <td>3.0</td>\n",
              "      <td>0</td>\n",
              "    </tr>\n",
              "  </tbody>\n",
              "</table>\n",
              "<p>1 rows × 27 columns</p>\n",
              "</div>\n",
              "      <button class=\"colab-df-convert\" onclick=\"convertToInteractive('df-653f97bf-eaae-4c7b-b894-31d6bb5c8f3d')\"\n",
              "              title=\"Convert this dataframe to an interactive table.\"\n",
              "              style=\"display:none;\">\n",
              "        \n",
              "  <svg xmlns=\"http://www.w3.org/2000/svg\" height=\"24px\"viewBox=\"0 0 24 24\"\n",
              "       width=\"24px\">\n",
              "    <path d=\"M0 0h24v24H0V0z\" fill=\"none\"/>\n",
              "    <path d=\"M18.56 5.44l.94 2.06.94-2.06 2.06-.94-2.06-.94-.94-2.06-.94 2.06-2.06.94zm-11 1L8.5 8.5l.94-2.06 2.06-.94-2.06-.94L8.5 2.5l-.94 2.06-2.06.94zm10 10l.94 2.06.94-2.06 2.06-.94-2.06-.94-.94-2.06-.94 2.06-2.06.94z\"/><path d=\"M17.41 7.96l-1.37-1.37c-.4-.4-.92-.59-1.43-.59-.52 0-1.04.2-1.43.59L10.3 9.45l-7.72 7.72c-.78.78-.78 2.05 0 2.83L4 21.41c.39.39.9.59 1.41.59.51 0 1.02-.2 1.41-.59l7.78-7.78 2.81-2.81c.8-.78.8-2.07 0-2.86zM5.41 20L4 18.59l7.72-7.72 1.47 1.35L5.41 20z\"/>\n",
              "  </svg>\n",
              "      </button>\n",
              "      \n",
              "  <style>\n",
              "    .colab-df-container {\n",
              "      display:flex;\n",
              "      flex-wrap:wrap;\n",
              "      gap: 12px;\n",
              "    }\n",
              "\n",
              "    .colab-df-convert {\n",
              "      background-color: #E8F0FE;\n",
              "      border: none;\n",
              "      border-radius: 50%;\n",
              "      cursor: pointer;\n",
              "      display: none;\n",
              "      fill: #1967D2;\n",
              "      height: 32px;\n",
              "      padding: 0 0 0 0;\n",
              "      width: 32px;\n",
              "    }\n",
              "\n",
              "    .colab-df-convert:hover {\n",
              "      background-color: #E2EBFA;\n",
              "      box-shadow: 0px 1px 2px rgba(60, 64, 67, 0.3), 0px 1px 3px 1px rgba(60, 64, 67, 0.15);\n",
              "      fill: #174EA6;\n",
              "    }\n",
              "\n",
              "    [theme=dark] .colab-df-convert {\n",
              "      background-color: #3B4455;\n",
              "      fill: #D2E3FC;\n",
              "    }\n",
              "\n",
              "    [theme=dark] .colab-df-convert:hover {\n",
              "      background-color: #434B5C;\n",
              "      box-shadow: 0px 1px 3px 1px rgba(0, 0, 0, 0.15);\n",
              "      filter: drop-shadow(0px 1px 2px rgba(0, 0, 0, 0.3));\n",
              "      fill: #FFFFFF;\n",
              "    }\n",
              "  </style>\n",
              "\n",
              "      <script>\n",
              "        const buttonEl =\n",
              "          document.querySelector('#df-653f97bf-eaae-4c7b-b894-31d6bb5c8f3d button.colab-df-convert');\n",
              "        buttonEl.style.display =\n",
              "          google.colab.kernel.accessAllowed ? 'block' : 'none';\n",
              "\n",
              "        async function convertToInteractive(key) {\n",
              "          const element = document.querySelector('#df-653f97bf-eaae-4c7b-b894-31d6bb5c8f3d');\n",
              "          const dataTable =\n",
              "            await google.colab.kernel.invokeFunction('convertToInteractive',\n",
              "                                                     [key], {});\n",
              "          if (!dataTable) return;\n",
              "\n",
              "          const docLinkHtml = 'Like what you see? Visit the ' +\n",
              "            '<a target=\"_blank\" href=https://colab.research.google.com/notebooks/data_table.ipynb>data table notebook</a>'\n",
              "            + ' to learn more about interactive tables.';\n",
              "          element.innerHTML = '';\n",
              "          dataTable['output_type'] = 'display_data';\n",
              "          await google.colab.output.renderOutput(dataTable, element);\n",
              "          const docLink = document.createElement('div');\n",
              "          docLink.innerHTML = docLinkHtml;\n",
              "          element.appendChild(docLink);\n",
              "        }\n",
              "      </script>\n",
              "    </div>\n",
              "  </div>\n",
              "  "
            ]
          },
          "metadata": {},
          "execution_count": 1943
        }
      ]
    },
    {
      "cell_type": "markdown",
      "metadata": {
        "id": "WX2aBB2rrX-q"
      },
      "source": [
        "Observamos como el valor `ANY` solo aprece una vez, es mejor eliminarlo."
      ]
    },
    {
      "cell_type": "code",
      "metadata": {
        "id": "ywNhAtsKrgLa"
      },
      "source": [
        "data_train = data_train[data_train['home_ownership']!='ANY']"
      ],
      "execution_count": 1944,
      "outputs": []
    },
    {
      "cell_type": "markdown",
      "source": [
        "Aqui utilizamos el metodo `get_dummies` de pandas pues vamos a eliminar algunas columnas. La verdad es que como tenemos que replicar los resultados en el test, talvez convendria utilizar la funcion `one_hot_encoder` de sklearn. De manera que podamos replicarla esta transformacion en el `test` de madera fidedigna. Recuerda que las transformaciones deben de ser entrenadas con el `train`.   \n",
        "\n",
        "Adicionalemnte, revisa si existen dummies o valores que aparezcan en el `test` pero no en el `train` de lo contrario podrian aparecer problemas pues tu codigo no sabria que hacer. Revisa el argumento `handle_unknown` en la funsion de sklearn. Este argumento te permite crear una columna de dummies para variables nunca antes vistas."
      ],
      "metadata": {
        "id": "bD3706s-0eNO"
      }
    },
    {
      "cell_type": "markdown",
      "source": [
        "![image.png](data:image/png;base64,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)"
      ],
      "metadata": {
        "id": "OHeJIGuC1T7D"
      }
    },
    {
      "cell_type": "code",
      "metadata": {
        "colab": {
          "base_uri": "https://localhost:8080/",
          "height": 143
        },
        "id": "-wuA4u4F2xAo",
        "outputId": "a6f48628-f916-4ce8-e853-401f070251d8"
      },
      "source": [
        "pd.get_dummies(data_train[['home_ownership', 'charged_off']], columns=['home_ownership'], \n",
        "               drop_first=True).corr()"
      ],
      "execution_count": 1945,
      "outputs": [
        {
          "output_type": "execute_result",
          "data": {
            "text/plain": [
              "                     charged_off  home_ownership_OWN  home_ownership_RENT\n",
              "charged_off             1.000000            0.001303             0.052711\n",
              "home_ownership_OWN      0.001303            1.000000            -0.284655\n",
              "home_ownership_RENT     0.052711           -0.284655             1.000000"
            ],
            "text/html": [
              "\n",
              "  <div id=\"df-0251221c-1862-4e4f-9c7b-229c66e5207d\">\n",
              "    <div class=\"colab-df-container\">\n",
              "      <div>\n",
              "<style scoped>\n",
              "    .dataframe tbody tr th:only-of-type {\n",
              "        vertical-align: middle;\n",
              "    }\n",
              "\n",
              "    .dataframe tbody tr th {\n",
              "        vertical-align: top;\n",
              "    }\n",
              "\n",
              "    .dataframe thead th {\n",
              "        text-align: right;\n",
              "    }\n",
              "</style>\n",
              "<table border=\"1\" class=\"dataframe\">\n",
              "  <thead>\n",
              "    <tr style=\"text-align: right;\">\n",
              "      <th></th>\n",
              "      <th>charged_off</th>\n",
              "      <th>home_ownership_OWN</th>\n",
              "      <th>home_ownership_RENT</th>\n",
              "    </tr>\n",
              "  </thead>\n",
              "  <tbody>\n",
              "    <tr>\n",
              "      <th>charged_off</th>\n",
              "      <td>1.000000</td>\n",
              "      <td>0.001303</td>\n",
              "      <td>0.052711</td>\n",
              "    </tr>\n",
              "    <tr>\n",
              "      <th>home_ownership_OWN</th>\n",
              "      <td>0.001303</td>\n",
              "      <td>1.000000</td>\n",
              "      <td>-0.284655</td>\n",
              "    </tr>\n",
              "    <tr>\n",
              "      <th>home_ownership_RENT</th>\n",
              "      <td>0.052711</td>\n",
              "      <td>-0.284655</td>\n",
              "      <td>1.000000</td>\n",
              "    </tr>\n",
              "  </tbody>\n",
              "</table>\n",
              "</div>\n",
              "      <button class=\"colab-df-convert\" onclick=\"convertToInteractive('df-0251221c-1862-4e4f-9c7b-229c66e5207d')\"\n",
              "              title=\"Convert this dataframe to an interactive table.\"\n",
              "              style=\"display:none;\">\n",
              "        \n",
              "  <svg xmlns=\"http://www.w3.org/2000/svg\" height=\"24px\"viewBox=\"0 0 24 24\"\n",
              "       width=\"24px\">\n",
              "    <path d=\"M0 0h24v24H0V0z\" fill=\"none\"/>\n",
              "    <path d=\"M18.56 5.44l.94 2.06.94-2.06 2.06-.94-2.06-.94-.94-2.06-.94 2.06-2.06.94zm-11 1L8.5 8.5l.94-2.06 2.06-.94-2.06-.94L8.5 2.5l-.94 2.06-2.06.94zm10 10l.94 2.06.94-2.06 2.06-.94-2.06-.94-.94-2.06-.94 2.06-2.06.94z\"/><path d=\"M17.41 7.96l-1.37-1.37c-.4-.4-.92-.59-1.43-.59-.52 0-1.04.2-1.43.59L10.3 9.45l-7.72 7.72c-.78.78-.78 2.05 0 2.83L4 21.41c.39.39.9.59 1.41.59.51 0 1.02-.2 1.41-.59l7.78-7.78 2.81-2.81c.8-.78.8-2.07 0-2.86zM5.41 20L4 18.59l7.72-7.72 1.47 1.35L5.41 20z\"/>\n",
              "  </svg>\n",
              "      </button>\n",
              "      \n",
              "  <style>\n",
              "    .colab-df-container {\n",
              "      display:flex;\n",
              "      flex-wrap:wrap;\n",
              "      gap: 12px;\n",
              "    }\n",
              "\n",
              "    .colab-df-convert {\n",
              "      background-color: #E8F0FE;\n",
              "      border: none;\n",
              "      border-radius: 50%;\n",
              "      cursor: pointer;\n",
              "      display: none;\n",
              "      fill: #1967D2;\n",
              "      height: 32px;\n",
              "      padding: 0 0 0 0;\n",
              "      width: 32px;\n",
              "    }\n",
              "\n",
              "    .colab-df-convert:hover {\n",
              "      background-color: #E2EBFA;\n",
              "      box-shadow: 0px 1px 2px rgba(60, 64, 67, 0.3), 0px 1px 3px 1px rgba(60, 64, 67, 0.15);\n",
              "      fill: #174EA6;\n",
              "    }\n",
              "\n",
              "    [theme=dark] .colab-df-convert {\n",
              "      background-color: #3B4455;\n",
              "      fill: #D2E3FC;\n",
              "    }\n",
              "\n",
              "    [theme=dark] .colab-df-convert:hover {\n",
              "      background-color: #434B5C;\n",
              "      box-shadow: 0px 1px 3px 1px rgba(0, 0, 0, 0.15);\n",
              "      filter: drop-shadow(0px 1px 2px rgba(0, 0, 0, 0.3));\n",
              "      fill: #FFFFFF;\n",
              "    }\n",
              "  </style>\n",
              "\n",
              "      <script>\n",
              "        const buttonEl =\n",
              "          document.querySelector('#df-0251221c-1862-4e4f-9c7b-229c66e5207d button.colab-df-convert');\n",
              "        buttonEl.style.display =\n",
              "          google.colab.kernel.accessAllowed ? 'block' : 'none';\n",
              "\n",
              "        async function convertToInteractive(key) {\n",
              "          const element = document.querySelector('#df-0251221c-1862-4e4f-9c7b-229c66e5207d');\n",
              "          const dataTable =\n",
              "            await google.colab.kernel.invokeFunction('convertToInteractive',\n",
              "                                                     [key], {});\n",
              "          if (!dataTable) return;\n",
              "\n",
              "          const docLinkHtml = 'Like what you see? Visit the ' +\n",
              "            '<a target=\"_blank\" href=https://colab.research.google.com/notebooks/data_table.ipynb>data table notebook</a>'\n",
              "            + ' to learn more about interactive tables.';\n",
              "          element.innerHTML = '';\n",
              "          dataTable['output_type'] = 'display_data';\n",
              "          await google.colab.output.renderOutput(dataTable, element);\n",
              "          const docLink = document.createElement('div');\n",
              "          docLink.innerHTML = docLinkHtml;\n",
              "          element.appendChild(docLink);\n",
              "        }\n",
              "      </script>\n",
              "    </div>\n",
              "  </div>\n",
              "  "
            ]
          },
          "metadata": {},
          "execution_count": 1945
        }
      ]
    },
    {
      "cell_type": "markdown",
      "metadata": {
        "id": "84CcSYPv374O"
      },
      "source": [
        "Observemos como `home_ownership_OWN` tiene una correlacion muy baja con el objetivo. Para ser parsimoniosos podemos quitarlas."
      ]
    },
    {
      "cell_type": "code",
      "source": [
        "from sklearn.preprocessing import OneHotEncoder\n",
        "from sklearn.impute import SimpleImputer"
      ],
      "metadata": {
        "id": "g8YKasfk2bUt"
      },
      "execution_count": 1946,
      "outputs": []
    },
    {
      "cell_type": "code",
      "source": [
        "enc = OneHotEncoder(handle_unknown='ignore', sparse=False)\n",
        "a = enc.fit_transform(X=data_train[['home_ownership']])\n",
        "a = pd.DataFrame(a)\n",
        "a.columns = enc.get_feature_names()\n",
        "a.head()"
      ],
      "metadata": {
        "colab": {
          "base_uri": "https://localhost:8080/",
          "height": 261
        },
        "id": "C8gCMnEP2sbb",
        "outputId": "96b7602f-8cfb-4965-b39b-6eb30550d653"
      },
      "execution_count": 1947,
      "outputs": [
        {
          "output_type": "stream",
          "name": "stderr",
          "text": [
            "/usr/local/lib/python3.8/dist-packages/sklearn/utils/deprecation.py:87: FutureWarning: Function get_feature_names is deprecated; get_feature_names is deprecated in 1.0 and will be removed in 1.2. Please use get_feature_names_out instead.\n",
            "  warnings.warn(msg, category=FutureWarning)\n"
          ]
        },
        {
          "output_type": "execute_result",
          "data": {
            "text/plain": [
              "   x0_MORTGAGE  x0_OWN  x0_RENT\n",
              "0          0.0     0.0      1.0\n",
              "1          1.0     0.0      0.0\n",
              "2          0.0     1.0      0.0\n",
              "3          1.0     0.0      0.0\n",
              "4          1.0     0.0      0.0"
            ],
            "text/html": [
              "\n",
              "  <div id=\"df-a9924933-712b-461f-b71d-5d183b016296\">\n",
              "    <div class=\"colab-df-container\">\n",
              "      <div>\n",
              "<style scoped>\n",
              "    .dataframe tbody tr th:only-of-type {\n",
              "        vertical-align: middle;\n",
              "    }\n",
              "\n",
              "    .dataframe tbody tr th {\n",
              "        vertical-align: top;\n",
              "    }\n",
              "\n",
              "    .dataframe thead th {\n",
              "        text-align: right;\n",
              "    }\n",
              "</style>\n",
              "<table border=\"1\" class=\"dataframe\">\n",
              "  <thead>\n",
              "    <tr style=\"text-align: right;\">\n",
              "      <th></th>\n",
              "      <th>x0_MORTGAGE</th>\n",
              "      <th>x0_OWN</th>\n",
              "      <th>x0_RENT</th>\n",
              "    </tr>\n",
              "  </thead>\n",
              "  <tbody>\n",
              "    <tr>\n",
              "      <th>0</th>\n",
              "      <td>0.0</td>\n",
              "      <td>0.0</td>\n",
              "      <td>1.0</td>\n",
              "    </tr>\n",
              "    <tr>\n",
              "      <th>1</th>\n",
              "      <td>1.0</td>\n",
              "      <td>0.0</td>\n",
              "      <td>0.0</td>\n",
              "    </tr>\n",
              "    <tr>\n",
              "      <th>2</th>\n",
              "      <td>0.0</td>\n",
              "      <td>1.0</td>\n",
              "      <td>0.0</td>\n",
              "    </tr>\n",
              "    <tr>\n",
              "      <th>3</th>\n",
              "      <td>1.0</td>\n",
              "      <td>0.0</td>\n",
              "      <td>0.0</td>\n",
              "    </tr>\n",
              "    <tr>\n",
              "      <th>4</th>\n",
              "      <td>1.0</td>\n",
              "      <td>0.0</td>\n",
              "      <td>0.0</td>\n",
              "    </tr>\n",
              "  </tbody>\n",
              "</table>\n",
              "</div>\n",
              "      <button class=\"colab-df-convert\" onclick=\"convertToInteractive('df-a9924933-712b-461f-b71d-5d183b016296')\"\n",
              "              title=\"Convert this dataframe to an interactive table.\"\n",
              "              style=\"display:none;\">\n",
              "        \n",
              "  <svg xmlns=\"http://www.w3.org/2000/svg\" height=\"24px\"viewBox=\"0 0 24 24\"\n",
              "       width=\"24px\">\n",
              "    <path d=\"M0 0h24v24H0V0z\" fill=\"none\"/>\n",
              "    <path d=\"M18.56 5.44l.94 2.06.94-2.06 2.06-.94-2.06-.94-.94-2.06-.94 2.06-2.06.94zm-11 1L8.5 8.5l.94-2.06 2.06-.94-2.06-.94L8.5 2.5l-.94 2.06-2.06.94zm10 10l.94 2.06.94-2.06 2.06-.94-2.06-.94-.94-2.06-.94 2.06-2.06.94z\"/><path d=\"M17.41 7.96l-1.37-1.37c-.4-.4-.92-.59-1.43-.59-.52 0-1.04.2-1.43.59L10.3 9.45l-7.72 7.72c-.78.78-.78 2.05 0 2.83L4 21.41c.39.39.9.59 1.41.59.51 0 1.02-.2 1.41-.59l7.78-7.78 2.81-2.81c.8-.78.8-2.07 0-2.86zM5.41 20L4 18.59l7.72-7.72 1.47 1.35L5.41 20z\"/>\n",
              "  </svg>\n",
              "      </button>\n",
              "      \n",
              "  <style>\n",
              "    .colab-df-container {\n",
              "      display:flex;\n",
              "      flex-wrap:wrap;\n",
              "      gap: 12px;\n",
              "    }\n",
              "\n",
              "    .colab-df-convert {\n",
              "      background-color: #E8F0FE;\n",
              "      border: none;\n",
              "      border-radius: 50%;\n",
              "      cursor: pointer;\n",
              "      display: none;\n",
              "      fill: #1967D2;\n",
              "      height: 32px;\n",
              "      padding: 0 0 0 0;\n",
              "      width: 32px;\n",
              "    }\n",
              "\n",
              "    .colab-df-convert:hover {\n",
              "      background-color: #E2EBFA;\n",
              "      box-shadow: 0px 1px 2px rgba(60, 64, 67, 0.3), 0px 1px 3px 1px rgba(60, 64, 67, 0.15);\n",
              "      fill: #174EA6;\n",
              "    }\n",
              "\n",
              "    [theme=dark] .colab-df-convert {\n",
              "      background-color: #3B4455;\n",
              "      fill: #D2E3FC;\n",
              "    }\n",
              "\n",
              "    [theme=dark] .colab-df-convert:hover {\n",
              "      background-color: #434B5C;\n",
              "      box-shadow: 0px 1px 3px 1px rgba(0, 0, 0, 0.15);\n",
              "      filter: drop-shadow(0px 1px 2px rgba(0, 0, 0, 0.3));\n",
              "      fill: #FFFFFF;\n",
              "    }\n",
              "  </style>\n",
              "\n",
              "      <script>\n",
              "        const buttonEl =\n",
              "          document.querySelector('#df-a9924933-712b-461f-b71d-5d183b016296 button.colab-df-convert');\n",
              "        buttonEl.style.display =\n",
              "          google.colab.kernel.accessAllowed ? 'block' : 'none';\n",
              "\n",
              "        async function convertToInteractive(key) {\n",
              "          const element = document.querySelector('#df-a9924933-712b-461f-b71d-5d183b016296');\n",
              "          const dataTable =\n",
              "            await google.colab.kernel.invokeFunction('convertToInteractive',\n",
              "                                                     [key], {});\n",
              "          if (!dataTable) return;\n",
              "\n",
              "          const docLinkHtml = 'Like what you see? Visit the ' +\n",
              "            '<a target=\"_blank\" href=https://colab.research.google.com/notebooks/data_table.ipynb>data table notebook</a>'\n",
              "            + ' to learn more about interactive tables.';\n",
              "          element.innerHTML = '';\n",
              "          dataTable['output_type'] = 'display_data';\n",
              "          await google.colab.output.renderOutput(dataTable, element);\n",
              "          const docLink = document.createElement('div');\n",
              "          docLink.innerHTML = docLinkHtml;\n",
              "          element.appendChild(docLink);\n",
              "        }\n",
              "      </script>\n",
              "    </div>\n",
              "  </div>\n",
              "  "
            ]
          },
          "metadata": {},
          "execution_count": 1947
        }
      ]
    },
    {
      "cell_type": "code",
      "source": [
        "data_train[a.columns] = a.values"
      ],
      "metadata": {
        "id": "oHNEc7d6JaCw"
      },
      "execution_count": 1948,
      "outputs": []
    },
    {
      "cell_type": "code",
      "source": [
        "data_train"
      ],
      "metadata": {
        "colab": {
          "base_uri": "https://localhost:8080/",
          "height": 488
        },
        "id": "pBogZpBuJzC3",
        "outputId": "63854b23-5e0e-48c5-b3cb-cbb78661ba11"
      },
      "execution_count": 1949,
      "outputs": [
        {
          "output_type": "execute_result",
          "data": {
            "text/plain": [
              "       loan_amnt  funded_amnt  term  int_rate  installment  sub_grade  \\\n",
              "62394     3600.0       3600.0    36     14.49       123.90         13   \n",
              "2333     20000.0      20000.0    36     12.99       673.79         11   \n",
              "91099    10000.0      10000.0    60      9.17       208.41          5   \n",
              "31904     1500.0       1500.0    36     12.39        50.11         10   \n",
              "58152    21000.0      21000.0    36      9.17       669.46          5   \n",
              "...          ...          ...   ...       ...          ...        ...   \n",
              "2005     28000.0      28000.0    36      6.99       864.44          2   \n",
              "64585    12000.0      12000.0    36     12.99       404.27         10   \n",
              "86108    14800.0      14800.0    60     12.99       336.67         10   \n",
              "6733      3600.0       3600.0    36     12.99       121.29         11   \n",
              "46758    25600.0      25600.0    36      6.49       784.50          1   \n",
              "\n",
              "      home_ownership  annual_inc verification_status             purpose  ...  \\\n",
              "62394           RENT    128000.0        Not Verified               other  ...   \n",
              "2333        MORTGAGE     50000.0     Source Verified  debt_consolidation  ...   \n",
              "91099            OWN     50000.0            Verified  debt_consolidation  ...   \n",
              "31904       MORTGAGE     62000.0        Not Verified    home_improvement  ...   \n",
              "58152       MORTGAGE    121000.0     Source Verified         credit_card  ...   \n",
              "...              ...         ...                 ...                 ...  ...   \n",
              "2005             OWN    170000.0     Source Verified         credit_card  ...   \n",
              "64585           RENT     86955.0        Not Verified         credit_card  ...   \n",
              "86108           RENT     98000.0     Source Verified  debt_consolidation  ...   \n",
              "6733        MORTGAGE     65000.0        Not Verified             medical  ...   \n",
              "46758       MORTGAGE    217000.0     Source Verified         credit_card  ...   \n",
              "\n",
              "       bc_open_to_buy bc_util  mo_sin_old_rev_tl_op  mo_sin_rcnt_rev_tl_op  \\\n",
              "62394           244.0    97.6                 256.0                    3.0   \n",
              "2333          10395.0    38.9                 170.0                    3.0   \n",
              "91099         14168.0    21.7                 201.0                    4.0   \n",
              "31904         10278.0    42.3                 227.0                    0.0   \n",
              "58152           888.0    97.1                 356.0                   27.0   \n",
              "...               ...     ...                   ...                    ...   \n",
              "2005           1730.0    65.4                 214.0                   11.0   \n",
              "64585           916.0    94.8                 156.0                    2.0   \n",
              "86108           894.0    89.7                 233.0                   61.0   \n",
              "6733            241.0    98.1                 144.0                   97.0   \n",
              "46758         90195.0    34.8                 332.0                   71.0   \n",
              "\n",
              "       mort_acc  num_actv_rev_tl charged_off  x0_MORTGAGE  x0_OWN  x0_RENT  \n",
              "62394       0.0              6.0           0          0.0     0.0      1.0  \n",
              "2333        2.0              4.0           0          1.0     0.0      0.0  \n",
              "91099       5.0              4.0           0          0.0     1.0      0.0  \n",
              "31904       3.0              4.0           0          1.0     0.0      0.0  \n",
              "58152       3.0              7.0           0          1.0     0.0      0.0  \n",
              "...         ...              ...         ...          ...     ...      ...  \n",
              "2005        3.0              4.0           1          0.0     1.0      0.0  \n",
              "64585       0.0             11.0           0          0.0     0.0      1.0  \n",
              "86108       0.0              4.0           0          0.0     0.0      1.0  \n",
              "6733        2.0              5.0           0          1.0     0.0      0.0  \n",
              "46758       4.0              6.0           0          1.0     0.0      0.0  \n",
              "\n",
              "[68909 rows x 30 columns]"
            ],
            "text/html": [
              "\n",
              "  <div id=\"df-4a3ed79f-68ab-4e7b-8bd6-f73df2ba83d3\">\n",
              "    <div class=\"colab-df-container\">\n",
              "      <div>\n",
              "<style scoped>\n",
              "    .dataframe tbody tr th:only-of-type {\n",
              "        vertical-align: middle;\n",
              "    }\n",
              "\n",
              "    .dataframe tbody tr th {\n",
              "        vertical-align: top;\n",
              "    }\n",
              "\n",
              "    .dataframe thead th {\n",
              "        text-align: right;\n",
              "    }\n",
              "</style>\n",
              "<table border=\"1\" class=\"dataframe\">\n",
              "  <thead>\n",
              "    <tr style=\"text-align: right;\">\n",
              "      <th></th>\n",
              "      <th>loan_amnt</th>\n",
              "      <th>funded_amnt</th>\n",
              "      <th>term</th>\n",
              "      <th>int_rate</th>\n",
              "      <th>installment</th>\n",
              "      <th>sub_grade</th>\n",
              "      <th>home_ownership</th>\n",
              "      <th>annual_inc</th>\n",
              "      <th>verification_status</th>\n",
              "      <th>purpose</th>\n",
              "      <th>...</th>\n",
              "      <th>bc_open_to_buy</th>\n",
              "      <th>bc_util</th>\n",
              "      <th>mo_sin_old_rev_tl_op</th>\n",
              "      <th>mo_sin_rcnt_rev_tl_op</th>\n",
              "      <th>mort_acc</th>\n",
              "      <th>num_actv_rev_tl</th>\n",
              "      <th>charged_off</th>\n",
              "      <th>x0_MORTGAGE</th>\n",
              "      <th>x0_OWN</th>\n",
              "      <th>x0_RENT</th>\n",
              "    </tr>\n",
              "  </thead>\n",
              "  <tbody>\n",
              "    <tr>\n",
              "      <th>62394</th>\n",
              "      <td>3600.0</td>\n",
              "      <td>3600.0</td>\n",
              "      <td>36</td>\n",
              "      <td>14.49</td>\n",
              "      <td>123.90</td>\n",
              "      <td>13</td>\n",
              "      <td>RENT</td>\n",
              "      <td>128000.0</td>\n",
              "      <td>Not Verified</td>\n",
              "      <td>other</td>\n",
              "      <td>...</td>\n",
              "      <td>244.0</td>\n",
              "      <td>97.6</td>\n",
              "      <td>256.0</td>\n",
              "      <td>3.0</td>\n",
              "      <td>0.0</td>\n",
              "      <td>6.0</td>\n",
              "      <td>0</td>\n",
              "      <td>0.0</td>\n",
              "      <td>0.0</td>\n",
              "      <td>1.0</td>\n",
              "    </tr>\n",
              "    <tr>\n",
              "      <th>2333</th>\n",
              "      <td>20000.0</td>\n",
              "      <td>20000.0</td>\n",
              "      <td>36</td>\n",
              "      <td>12.99</td>\n",
              "      <td>673.79</td>\n",
              "      <td>11</td>\n",
              "      <td>MORTGAGE</td>\n",
              "      <td>50000.0</td>\n",
              "      <td>Source Verified</td>\n",
              "      <td>debt_consolidation</td>\n",
              "      <td>...</td>\n",
              "      <td>10395.0</td>\n",
              "      <td>38.9</td>\n",
              "      <td>170.0</td>\n",
              "      <td>3.0</td>\n",
              "      <td>2.0</td>\n",
              "      <td>4.0</td>\n",
              "      <td>0</td>\n",
              "      <td>1.0</td>\n",
              "      <td>0.0</td>\n",
              "      <td>0.0</td>\n",
              "    </tr>\n",
              "    <tr>\n",
              "      <th>91099</th>\n",
              "      <td>10000.0</td>\n",
              "      <td>10000.0</td>\n",
              "      <td>60</td>\n",
              "      <td>9.17</td>\n",
              "      <td>208.41</td>\n",
              "      <td>5</td>\n",
              "      <td>OWN</td>\n",
              "      <td>50000.0</td>\n",
              "      <td>Verified</td>\n",
              "      <td>debt_consolidation</td>\n",
              "      <td>...</td>\n",
              "      <td>14168.0</td>\n",
              "      <td>21.7</td>\n",
              "      <td>201.0</td>\n",
              "      <td>4.0</td>\n",
              "      <td>5.0</td>\n",
              "      <td>4.0</td>\n",
              "      <td>0</td>\n",
              "      <td>0.0</td>\n",
              "      <td>1.0</td>\n",
              "      <td>0.0</td>\n",
              "    </tr>\n",
              "    <tr>\n",
              "      <th>31904</th>\n",
              "      <td>1500.0</td>\n",
              "      <td>1500.0</td>\n",
              "      <td>36</td>\n",
              "      <td>12.39</td>\n",
              "      <td>50.11</td>\n",
              "      <td>10</td>\n",
              "      <td>MORTGAGE</td>\n",
              "      <td>62000.0</td>\n",
              "      <td>Not Verified</td>\n",
              "      <td>home_improvement</td>\n",
              "      <td>...</td>\n",
              "      <td>10278.0</td>\n",
              "      <td>42.3</td>\n",
              "      <td>227.0</td>\n",
              "      <td>0.0</td>\n",
              "      <td>3.0</td>\n",
              "      <td>4.0</td>\n",
              "      <td>0</td>\n",
              "      <td>1.0</td>\n",
              "      <td>0.0</td>\n",
              "      <td>0.0</td>\n",
              "    </tr>\n",
              "    <tr>\n",
              "      <th>58152</th>\n",
              "      <td>21000.0</td>\n",
              "      <td>21000.0</td>\n",
              "      <td>36</td>\n",
              "      <td>9.17</td>\n",
              "      <td>669.46</td>\n",
              "      <td>5</td>\n",
              "      <td>MORTGAGE</td>\n",
              "      <td>121000.0</td>\n",
              "      <td>Source Verified</td>\n",
              "      <td>credit_card</td>\n",
              "      <td>...</td>\n",
              "      <td>888.0</td>\n",
              "      <td>97.1</td>\n",
              "      <td>356.0</td>\n",
              "      <td>27.0</td>\n",
              "      <td>3.0</td>\n",
              "      <td>7.0</td>\n",
              "      <td>0</td>\n",
              "      <td>1.0</td>\n",
              "      <td>0.0</td>\n",
              "      <td>0.0</td>\n",
              "    </tr>\n",
              "    <tr>\n",
              "      <th>...</th>\n",
              "      <td>...</td>\n",
              "      <td>...</td>\n",
              "      <td>...</td>\n",
              "      <td>...</td>\n",
              "      <td>...</td>\n",
              "      <td>...</td>\n",
              "      <td>...</td>\n",
              "      <td>...</td>\n",
              "      <td>...</td>\n",
              "      <td>...</td>\n",
              "      <td>...</td>\n",
              "      <td>...</td>\n",
              "      <td>...</td>\n",
              "      <td>...</td>\n",
              "      <td>...</td>\n",
              "      <td>...</td>\n",
              "      <td>...</td>\n",
              "      <td>...</td>\n",
              "      <td>...</td>\n",
              "      <td>...</td>\n",
              "      <td>...</td>\n",
              "    </tr>\n",
              "    <tr>\n",
              "      <th>2005</th>\n",
              "      <td>28000.0</td>\n",
              "      <td>28000.0</td>\n",
              "      <td>36</td>\n",
              "      <td>6.99</td>\n",
              "      <td>864.44</td>\n",
              "      <td>2</td>\n",
              "      <td>OWN</td>\n",
              "      <td>170000.0</td>\n",
              "      <td>Source Verified</td>\n",
              "      <td>credit_card</td>\n",
              "      <td>...</td>\n",
              "      <td>1730.0</td>\n",
              "      <td>65.4</td>\n",
              "      <td>214.0</td>\n",
              "      <td>11.0</td>\n",
              "      <td>3.0</td>\n",
              "      <td>4.0</td>\n",
              "      <td>1</td>\n",
              "      <td>0.0</td>\n",
              "      <td>1.0</td>\n",
              "      <td>0.0</td>\n",
              "    </tr>\n",
              "    <tr>\n",
              "      <th>64585</th>\n",
              "      <td>12000.0</td>\n",
              "      <td>12000.0</td>\n",
              "      <td>36</td>\n",
              "      <td>12.99</td>\n",
              "      <td>404.27</td>\n",
              "      <td>10</td>\n",
              "      <td>RENT</td>\n",
              "      <td>86955.0</td>\n",
              "      <td>Not Verified</td>\n",
              "      <td>credit_card</td>\n",
              "      <td>...</td>\n",
              "      <td>916.0</td>\n",
              "      <td>94.8</td>\n",
              "      <td>156.0</td>\n",
              "      <td>2.0</td>\n",
              "      <td>0.0</td>\n",
              "      <td>11.0</td>\n",
              "      <td>0</td>\n",
              "      <td>0.0</td>\n",
              "      <td>0.0</td>\n",
              "      <td>1.0</td>\n",
              "    </tr>\n",
              "    <tr>\n",
              "      <th>86108</th>\n",
              "      <td>14800.0</td>\n",
              "      <td>14800.0</td>\n",
              "      <td>60</td>\n",
              "      <td>12.99</td>\n",
              "      <td>336.67</td>\n",
              "      <td>10</td>\n",
              "      <td>RENT</td>\n",
              "      <td>98000.0</td>\n",
              "      <td>Source Verified</td>\n",
              "      <td>debt_consolidation</td>\n",
              "      <td>...</td>\n",
              "      <td>894.0</td>\n",
              "      <td>89.7</td>\n",
              "      <td>233.0</td>\n",
              "      <td>61.0</td>\n",
              "      <td>0.0</td>\n",
              "      <td>4.0</td>\n",
              "      <td>0</td>\n",
              "      <td>0.0</td>\n",
              "      <td>0.0</td>\n",
              "      <td>1.0</td>\n",
              "    </tr>\n",
              "    <tr>\n",
              "      <th>6733</th>\n",
              "      <td>3600.0</td>\n",
              "      <td>3600.0</td>\n",
              "      <td>36</td>\n",
              "      <td>12.99</td>\n",
              "      <td>121.29</td>\n",
              "      <td>11</td>\n",
              "      <td>MORTGAGE</td>\n",
              "      <td>65000.0</td>\n",
              "      <td>Not Verified</td>\n",
              "      <td>medical</td>\n",
              "      <td>...</td>\n",
              "      <td>241.0</td>\n",
              "      <td>98.1</td>\n",
              "      <td>144.0</td>\n",
              "      <td>97.0</td>\n",
              "      <td>2.0</td>\n",
              "      <td>5.0</td>\n",
              "      <td>0</td>\n",
              "      <td>1.0</td>\n",
              "      <td>0.0</td>\n",
              "      <td>0.0</td>\n",
              "    </tr>\n",
              "    <tr>\n",
              "      <th>46758</th>\n",
              "      <td>25600.0</td>\n",
              "      <td>25600.0</td>\n",
              "      <td>36</td>\n",
              "      <td>6.49</td>\n",
              "      <td>784.50</td>\n",
              "      <td>1</td>\n",
              "      <td>MORTGAGE</td>\n",
              "      <td>217000.0</td>\n",
              "      <td>Source Verified</td>\n",
              "      <td>credit_card</td>\n",
              "      <td>...</td>\n",
              "      <td>90195.0</td>\n",
              "      <td>34.8</td>\n",
              "      <td>332.0</td>\n",
              "      <td>71.0</td>\n",
              "      <td>4.0</td>\n",
              "      <td>6.0</td>\n",
              "      <td>0</td>\n",
              "      <td>1.0</td>\n",
              "      <td>0.0</td>\n",
              "      <td>0.0</td>\n",
              "    </tr>\n",
              "  </tbody>\n",
              "</table>\n",
              "<p>68909 rows × 30 columns</p>\n",
              "</div>\n",
              "      <button class=\"colab-df-convert\" onclick=\"convertToInteractive('df-4a3ed79f-68ab-4e7b-8bd6-f73df2ba83d3')\"\n",
              "              title=\"Convert this dataframe to an interactive table.\"\n",
              "              style=\"display:none;\">\n",
              "        \n",
              "  <svg xmlns=\"http://www.w3.org/2000/svg\" height=\"24px\"viewBox=\"0 0 24 24\"\n",
              "       width=\"24px\">\n",
              "    <path d=\"M0 0h24v24H0V0z\" fill=\"none\"/>\n",
              "    <path d=\"M18.56 5.44l.94 2.06.94-2.06 2.06-.94-2.06-.94-.94-2.06-.94 2.06-2.06.94zm-11 1L8.5 8.5l.94-2.06 2.06-.94-2.06-.94L8.5 2.5l-.94 2.06-2.06.94zm10 10l.94 2.06.94-2.06 2.06-.94-2.06-.94-.94-2.06-.94 2.06-2.06.94z\"/><path d=\"M17.41 7.96l-1.37-1.37c-.4-.4-.92-.59-1.43-.59-.52 0-1.04.2-1.43.59L10.3 9.45l-7.72 7.72c-.78.78-.78 2.05 0 2.83L4 21.41c.39.39.9.59 1.41.59.51 0 1.02-.2 1.41-.59l7.78-7.78 2.81-2.81c.8-.78.8-2.07 0-2.86zM5.41 20L4 18.59l7.72-7.72 1.47 1.35L5.41 20z\"/>\n",
              "  </svg>\n",
              "      </button>\n",
              "      \n",
              "  <style>\n",
              "    .colab-df-container {\n",
              "      display:flex;\n",
              "      flex-wrap:wrap;\n",
              "      gap: 12px;\n",
              "    }\n",
              "\n",
              "    .colab-df-convert {\n",
              "      background-color: #E8F0FE;\n",
              "      border: none;\n",
              "      border-radius: 50%;\n",
              "      cursor: pointer;\n",
              "      display: none;\n",
              "      fill: #1967D2;\n",
              "      height: 32px;\n",
              "      padding: 0 0 0 0;\n",
              "      width: 32px;\n",
              "    }\n",
              "\n",
              "    .colab-df-convert:hover {\n",
              "      background-color: #E2EBFA;\n",
              "      box-shadow: 0px 1px 2px rgba(60, 64, 67, 0.3), 0px 1px 3px 1px rgba(60, 64, 67, 0.15);\n",
              "      fill: #174EA6;\n",
              "    }\n",
              "\n",
              "    [theme=dark] .colab-df-convert {\n",
              "      background-color: #3B4455;\n",
              "      fill: #D2E3FC;\n",
              "    }\n",
              "\n",
              "    [theme=dark] .colab-df-convert:hover {\n",
              "      background-color: #434B5C;\n",
              "      box-shadow: 0px 1px 3px 1px rgba(0, 0, 0, 0.15);\n",
              "      filter: drop-shadow(0px 1px 2px rgba(0, 0, 0, 0.3));\n",
              "      fill: #FFFFFF;\n",
              "    }\n",
              "  </style>\n",
              "\n",
              "      <script>\n",
              "        const buttonEl =\n",
              "          document.querySelector('#df-4a3ed79f-68ab-4e7b-8bd6-f73df2ba83d3 button.colab-df-convert');\n",
              "        buttonEl.style.display =\n",
              "          google.colab.kernel.accessAllowed ? 'block' : 'none';\n",
              "\n",
              "        async function convertToInteractive(key) {\n",
              "          const element = document.querySelector('#df-4a3ed79f-68ab-4e7b-8bd6-f73df2ba83d3');\n",
              "          const dataTable =\n",
              "            await google.colab.kernel.invokeFunction('convertToInteractive',\n",
              "                                                     [key], {});\n",
              "          if (!dataTable) return;\n",
              "\n",
              "          const docLinkHtml = 'Like what you see? Visit the ' +\n",
              "            '<a target=\"_blank\" href=https://colab.research.google.com/notebooks/data_table.ipynb>data table notebook</a>'\n",
              "            + ' to learn more about interactive tables.';\n",
              "          element.innerHTML = '';\n",
              "          dataTable['output_type'] = 'display_data';\n",
              "          await google.colab.output.renderOutput(dataTable, element);\n",
              "          const docLink = document.createElement('div');\n",
              "          docLink.innerHTML = docLinkHtml;\n",
              "          element.appendChild(docLink);\n",
              "        }\n",
              "      </script>\n",
              "    </div>\n",
              "  </div>\n",
              "  "
            ]
          },
          "metadata": {},
          "execution_count": 1949
        }
      ]
    },
    {
      "cell_type": "code",
      "source": [
        "data_train.drop(columns=['x0_OWN', 'home_ownership'], inplace=True)"
      ],
      "metadata": {
        "id": "uTR-wNjW5UOk"
      },
      "execution_count": 1950,
      "outputs": []
    },
    {
      "cell_type": "code",
      "source": [
        "b = enc.transform(X=data_test[['home_ownership']])\n",
        "b = pd.DataFrame(b)\n",
        "b.columns = enc.get_feature_names()\n",
        "b.head()"
      ],
      "metadata": {
        "colab": {
          "base_uri": "https://localhost:8080/",
          "height": 261
        },
        "id": "30JOub-A51V2",
        "outputId": "f76f2189-7cce-4c78-a820-0b55fcbed196"
      },
      "execution_count": 1951,
      "outputs": [
        {
          "output_type": "stream",
          "name": "stderr",
          "text": [
            "/usr/local/lib/python3.8/dist-packages/sklearn/utils/deprecation.py:87: FutureWarning: Function get_feature_names is deprecated; get_feature_names is deprecated in 1.0 and will be removed in 1.2. Please use get_feature_names_out instead.\n",
            "  warnings.warn(msg, category=FutureWarning)\n"
          ]
        },
        {
          "output_type": "execute_result",
          "data": {
            "text/plain": [
              "   x0_MORTGAGE  x0_OWN  x0_RENT\n",
              "0          0.0     1.0      0.0\n",
              "1          0.0     0.0      1.0\n",
              "2          0.0     1.0      0.0\n",
              "3          1.0     0.0      0.0\n",
              "4          1.0     0.0      0.0"
            ],
            "text/html": [
              "\n",
              "  <div id=\"df-1c9831d4-5bc1-4acc-bb1f-e0910a8ca518\">\n",
              "    <div class=\"colab-df-container\">\n",
              "      <div>\n",
              "<style scoped>\n",
              "    .dataframe tbody tr th:only-of-type {\n",
              "        vertical-align: middle;\n",
              "    }\n",
              "\n",
              "    .dataframe tbody tr th {\n",
              "        vertical-align: top;\n",
              "    }\n",
              "\n",
              "    .dataframe thead th {\n",
              "        text-align: right;\n",
              "    }\n",
              "</style>\n",
              "<table border=\"1\" class=\"dataframe\">\n",
              "  <thead>\n",
              "    <tr style=\"text-align: right;\">\n",
              "      <th></th>\n",
              "      <th>x0_MORTGAGE</th>\n",
              "      <th>x0_OWN</th>\n",
              "      <th>x0_RENT</th>\n",
              "    </tr>\n",
              "  </thead>\n",
              "  <tbody>\n",
              "    <tr>\n",
              "      <th>0</th>\n",
              "      <td>0.0</td>\n",
              "      <td>1.0</td>\n",
              "      <td>0.0</td>\n",
              "    </tr>\n",
              "    <tr>\n",
              "      <th>1</th>\n",
              "      <td>0.0</td>\n",
              "      <td>0.0</td>\n",
              "      <td>1.0</td>\n",
              "    </tr>\n",
              "    <tr>\n",
              "      <th>2</th>\n",
              "      <td>0.0</td>\n",
              "      <td>1.0</td>\n",
              "      <td>0.0</td>\n",
              "    </tr>\n",
              "    <tr>\n",
              "      <th>3</th>\n",
              "      <td>1.0</td>\n",
              "      <td>0.0</td>\n",
              "      <td>0.0</td>\n",
              "    </tr>\n",
              "    <tr>\n",
              "      <th>4</th>\n",
              "      <td>1.0</td>\n",
              "      <td>0.0</td>\n",
              "      <td>0.0</td>\n",
              "    </tr>\n",
              "  </tbody>\n",
              "</table>\n",
              "</div>\n",
              "      <button class=\"colab-df-convert\" onclick=\"convertToInteractive('df-1c9831d4-5bc1-4acc-bb1f-e0910a8ca518')\"\n",
              "              title=\"Convert this dataframe to an interactive table.\"\n",
              "              style=\"display:none;\">\n",
              "        \n",
              "  <svg xmlns=\"http://www.w3.org/2000/svg\" height=\"24px\"viewBox=\"0 0 24 24\"\n",
              "       width=\"24px\">\n",
              "    <path d=\"M0 0h24v24H0V0z\" fill=\"none\"/>\n",
              "    <path d=\"M18.56 5.44l.94 2.06.94-2.06 2.06-.94-2.06-.94-.94-2.06-.94 2.06-2.06.94zm-11 1L8.5 8.5l.94-2.06 2.06-.94-2.06-.94L8.5 2.5l-.94 2.06-2.06.94zm10 10l.94 2.06.94-2.06 2.06-.94-2.06-.94-.94-2.06-.94 2.06-2.06.94z\"/><path d=\"M17.41 7.96l-1.37-1.37c-.4-.4-.92-.59-1.43-.59-.52 0-1.04.2-1.43.59L10.3 9.45l-7.72 7.72c-.78.78-.78 2.05 0 2.83L4 21.41c.39.39.9.59 1.41.59.51 0 1.02-.2 1.41-.59l7.78-7.78 2.81-2.81c.8-.78.8-2.07 0-2.86zM5.41 20L4 18.59l7.72-7.72 1.47 1.35L5.41 20z\"/>\n",
              "  </svg>\n",
              "      </button>\n",
              "      \n",
              "  <style>\n",
              "    .colab-df-container {\n",
              "      display:flex;\n",
              "      flex-wrap:wrap;\n",
              "      gap: 12px;\n",
              "    }\n",
              "\n",
              "    .colab-df-convert {\n",
              "      background-color: #E8F0FE;\n",
              "      border: none;\n",
              "      border-radius: 50%;\n",
              "      cursor: pointer;\n",
              "      display: none;\n",
              "      fill: #1967D2;\n",
              "      height: 32px;\n",
              "      padding: 0 0 0 0;\n",
              "      width: 32px;\n",
              "    }\n",
              "\n",
              "    .colab-df-convert:hover {\n",
              "      background-color: #E2EBFA;\n",
              "      box-shadow: 0px 1px 2px rgba(60, 64, 67, 0.3), 0px 1px 3px 1px rgba(60, 64, 67, 0.15);\n",
              "      fill: #174EA6;\n",
              "    }\n",
              "\n",
              "    [theme=dark] .colab-df-convert {\n",
              "      background-color: #3B4455;\n",
              "      fill: #D2E3FC;\n",
              "    }\n",
              "\n",
              "    [theme=dark] .colab-df-convert:hover {\n",
              "      background-color: #434B5C;\n",
              "      box-shadow: 0px 1px 3px 1px rgba(0, 0, 0, 0.15);\n",
              "      filter: drop-shadow(0px 1px 2px rgba(0, 0, 0, 0.3));\n",
              "      fill: #FFFFFF;\n",
              "    }\n",
              "  </style>\n",
              "\n",
              "      <script>\n",
              "        const buttonEl =\n",
              "          document.querySelector('#df-1c9831d4-5bc1-4acc-bb1f-e0910a8ca518 button.colab-df-convert');\n",
              "        buttonEl.style.display =\n",
              "          google.colab.kernel.accessAllowed ? 'block' : 'none';\n",
              "\n",
              "        async function convertToInteractive(key) {\n",
              "          const element = document.querySelector('#df-1c9831d4-5bc1-4acc-bb1f-e0910a8ca518');\n",
              "          const dataTable =\n",
              "            await google.colab.kernel.invokeFunction('convertToInteractive',\n",
              "                                                     [key], {});\n",
              "          if (!dataTable) return;\n",
              "\n",
              "          const docLinkHtml = 'Like what you see? Visit the ' +\n",
              "            '<a target=\"_blank\" href=https://colab.research.google.com/notebooks/data_table.ipynb>data table notebook</a>'\n",
              "            + ' to learn more about interactive tables.';\n",
              "          element.innerHTML = '';\n",
              "          dataTable['output_type'] = 'display_data';\n",
              "          await google.colab.output.renderOutput(dataTable, element);\n",
              "          const docLink = document.createElement('div');\n",
              "          docLink.innerHTML = docLinkHtml;\n",
              "          element.appendChild(docLink);\n",
              "        }\n",
              "      </script>\n",
              "    </div>\n",
              "  </div>\n",
              "  "
            ]
          },
          "metadata": {},
          "execution_count": 1951
        }
      ]
    },
    {
      "cell_type": "code",
      "source": [
        "data_test[b.columns] = b.values\n",
        "data_test.drop(columns=['x0_OWN', 'home_ownership'], inplace=True)"
      ],
      "metadata": {
        "id": "s4goYFQX5-Es"
      },
      "execution_count": 1952,
      "outputs": []
    },
    {
      "cell_type": "code",
      "source": [
        "data_test"
      ],
      "metadata": {
        "colab": {
          "base_uri": "https://localhost:8080/",
          "height": 488
        },
        "id": "deP7gdPg6Eg4",
        "outputId": "60b000cd-6e76-4624-ea5d-237bc6c58a3e"
      },
      "execution_count": 1953,
      "outputs": [
        {
          "output_type": "execute_result",
          "data": {
            "text/plain": [
              "       loan_amnt  funded_amnt  term  int_rate  installment  sub_grade  \\\n",
              "92063    10000.0      10000.0    36     11.67       330.57          8   \n",
              "88089    20000.0      20000.0    36     12.99       673.79         10   \n",
              "63335    20000.0      20000.0    60     16.29       489.45         16   \n",
              "63184     8000.0       8000.0    36     10.99       261.88          7   \n",
              "96477    28000.0      28000.0    36      6.03       852.20          0   \n",
              "...          ...          ...   ...       ...          ...        ...   \n",
              "23367     7500.0       7500.0    36     10.49       243.74          7   \n",
              "81903    15000.0      15000.0    36     14.99       519.91         14   \n",
              "7309      5000.0       5000.0    36     12.39       167.01         10   \n",
              "70056     6000.0       6000.0    36     13.98       205.01         12   \n",
              "23718     8400.0       8400.0    36     11.44       276.76          8   \n",
              "\n",
              "       annual_inc verification_status             purpose    dti  ...  \\\n",
              "92063     44000.0        Not Verified               other  17.84  ...   \n",
              "88089     85000.0     Source Verified         credit_card  28.42  ...   \n",
              "63335     80000.0     Source Verified  debt_consolidation  16.26  ...   \n",
              "63184     53000.0            Verified  debt_consolidation   6.20  ...   \n",
              "96477    102000.0     Source Verified  debt_consolidation   8.94  ...   \n",
              "...           ...                 ...                 ...    ...  ...   \n",
              "23367     75000.0        Not Verified  debt_consolidation  13.50  ...   \n",
              "81903    145000.0            Verified  debt_consolidation  16.06  ...   \n",
              "7309      26000.0            Verified               other   6.93  ...   \n",
              "70056    105000.0        Not Verified    home_improvement  14.03  ...   \n",
              "23718     65000.0            Verified  debt_consolidation  18.32  ...   \n",
              "\n",
              "      avg_cur_bal  bc_open_to_buy  bc_util  mo_sin_old_rev_tl_op  \\\n",
              "92063     12731.0          6388.0     48.9                 136.0   \n",
              "88089      5506.0         32034.0     59.0                 184.0   \n",
              "63335      4853.0          2724.0     69.7                  92.0   \n",
              "63184      1668.0          1013.0     87.0                 200.0   \n",
              "96477     11818.0         40688.0     25.3                 142.0   \n",
              "...           ...             ...      ...                   ...   \n",
              "23367     14014.0           406.0     83.8                 119.0   \n",
              "81903     18917.0         18674.0     44.1                 169.0   \n",
              "7309      15800.0             NaN      NaN                 268.0   \n",
              "70056     45995.0          1059.0     69.7                 128.0   \n",
              "23718     22519.0         19005.0     42.9                  75.0   \n",
              "\n",
              "       mo_sin_rcnt_rev_tl_op mort_acc  num_actv_rev_tl  charged_off  \\\n",
              "92063                   52.0      1.0              4.0            0   \n",
              "88089                    3.0      0.0             18.0            0   \n",
              "63335                    1.0      0.0              5.0            1   \n",
              "63184                    1.0      0.0              5.0            0   \n",
              "96477                   17.0      1.0              2.0            0   \n",
              "...                      ...      ...              ...          ...   \n",
              "23367                    2.0      4.0              8.0            0   \n",
              "81903                    1.0      3.0              6.0            1   \n",
              "7309                    87.0      1.0              0.0            0   \n",
              "70056                   76.0      5.0              2.0            0   \n",
              "23718                    5.0      1.0              7.0            0   \n",
              "\n",
              "       x0_MORTGAGE  x0_RENT  \n",
              "92063          0.0      0.0  \n",
              "88089          0.0      1.0  \n",
              "63335          0.0      0.0  \n",
              "63184          1.0      0.0  \n",
              "96477          1.0      0.0  \n",
              "...            ...      ...  \n",
              "23367          1.0      0.0  \n",
              "81903          1.0      0.0  \n",
              "7309           1.0      0.0  \n",
              "70056          1.0      0.0  \n",
              "23718          1.0      0.0  \n",
              "\n",
              "[17228 rows x 28 columns]"
            ],
            "text/html": [
              "\n",
              "  <div id=\"df-1c51e7ec-1136-4cf5-b15e-373205097540\">\n",
              "    <div class=\"colab-df-container\">\n",
              "      <div>\n",
              "<style scoped>\n",
              "    .dataframe tbody tr th:only-of-type {\n",
              "        vertical-align: middle;\n",
              "    }\n",
              "\n",
              "    .dataframe tbody tr th {\n",
              "        vertical-align: top;\n",
              "    }\n",
              "\n",
              "    .dataframe thead th {\n",
              "        text-align: right;\n",
              "    }\n",
              "</style>\n",
              "<table border=\"1\" class=\"dataframe\">\n",
              "  <thead>\n",
              "    <tr style=\"text-align: right;\">\n",
              "      <th></th>\n",
              "      <th>loan_amnt</th>\n",
              "      <th>funded_amnt</th>\n",
              "      <th>term</th>\n",
              "      <th>int_rate</th>\n",
              "      <th>installment</th>\n",
              "      <th>sub_grade</th>\n",
              "      <th>annual_inc</th>\n",
              "      <th>verification_status</th>\n",
              "      <th>purpose</th>\n",
              "      <th>dti</th>\n",
              "      <th>...</th>\n",
              "      <th>avg_cur_bal</th>\n",
              "      <th>bc_open_to_buy</th>\n",
              "      <th>bc_util</th>\n",
              "      <th>mo_sin_old_rev_tl_op</th>\n",
              "      <th>mo_sin_rcnt_rev_tl_op</th>\n",
              "      <th>mort_acc</th>\n",
              "      <th>num_actv_rev_tl</th>\n",
              "      <th>charged_off</th>\n",
              "      <th>x0_MORTGAGE</th>\n",
              "      <th>x0_RENT</th>\n",
              "    </tr>\n",
              "  </thead>\n",
              "  <tbody>\n",
              "    <tr>\n",
              "      <th>92063</th>\n",
              "      <td>10000.0</td>\n",
              "      <td>10000.0</td>\n",
              "      <td>36</td>\n",
              "      <td>11.67</td>\n",
              "      <td>330.57</td>\n",
              "      <td>8</td>\n",
              "      <td>44000.0</td>\n",
              "      <td>Not Verified</td>\n",
              "      <td>other</td>\n",
              "      <td>17.84</td>\n",
              "      <td>...</td>\n",
              "      <td>12731.0</td>\n",
              "      <td>6388.0</td>\n",
              "      <td>48.9</td>\n",
              "      <td>136.0</td>\n",
              "      <td>52.0</td>\n",
              "      <td>1.0</td>\n",
              "      <td>4.0</td>\n",
              "      <td>0</td>\n",
              "      <td>0.0</td>\n",
              "      <td>0.0</td>\n",
              "    </tr>\n",
              "    <tr>\n",
              "      <th>88089</th>\n",
              "      <td>20000.0</td>\n",
              "      <td>20000.0</td>\n",
              "      <td>36</td>\n",
              "      <td>12.99</td>\n",
              "      <td>673.79</td>\n",
              "      <td>10</td>\n",
              "      <td>85000.0</td>\n",
              "      <td>Source Verified</td>\n",
              "      <td>credit_card</td>\n",
              "      <td>28.42</td>\n",
              "      <td>...</td>\n",
              "      <td>5506.0</td>\n",
              "      <td>32034.0</td>\n",
              "      <td>59.0</td>\n",
              "      <td>184.0</td>\n",
              "      <td>3.0</td>\n",
              "      <td>0.0</td>\n",
              "      <td>18.0</td>\n",
              "      <td>0</td>\n",
              "      <td>0.0</td>\n",
              "      <td>1.0</td>\n",
              "    </tr>\n",
              "    <tr>\n",
              "      <th>63335</th>\n",
              "      <td>20000.0</td>\n",
              "      <td>20000.0</td>\n",
              "      <td>60</td>\n",
              "      <td>16.29</td>\n",
              "      <td>489.45</td>\n",
              "      <td>16</td>\n",
              "      <td>80000.0</td>\n",
              "      <td>Source Verified</td>\n",
              "      <td>debt_consolidation</td>\n",
              "      <td>16.26</td>\n",
              "      <td>...</td>\n",
              "      <td>4853.0</td>\n",
              "      <td>2724.0</td>\n",
              "      <td>69.7</td>\n",
              "      <td>92.0</td>\n",
              "      <td>1.0</td>\n",
              "      <td>0.0</td>\n",
              "      <td>5.0</td>\n",
              "      <td>1</td>\n",
              "      <td>0.0</td>\n",
              "      <td>0.0</td>\n",
              "    </tr>\n",
              "    <tr>\n",
              "      <th>63184</th>\n",
              "      <td>8000.0</td>\n",
              "      <td>8000.0</td>\n",
              "      <td>36</td>\n",
              "      <td>10.99</td>\n",
              "      <td>261.88</td>\n",
              "      <td>7</td>\n",
              "      <td>53000.0</td>\n",
              "      <td>Verified</td>\n",
              "      <td>debt_consolidation</td>\n",
              "      <td>6.20</td>\n",
              "      <td>...</td>\n",
              "      <td>1668.0</td>\n",
              "      <td>1013.0</td>\n",
              "      <td>87.0</td>\n",
              "      <td>200.0</td>\n",
              "      <td>1.0</td>\n",
              "      <td>0.0</td>\n",
              "      <td>5.0</td>\n",
              "      <td>0</td>\n",
              "      <td>1.0</td>\n",
              "      <td>0.0</td>\n",
              "    </tr>\n",
              "    <tr>\n",
              "      <th>96477</th>\n",
              "      <td>28000.0</td>\n",
              "      <td>28000.0</td>\n",
              "      <td>36</td>\n",
              "      <td>6.03</td>\n",
              "      <td>852.20</td>\n",
              "      <td>0</td>\n",
              "      <td>102000.0</td>\n",
              "      <td>Source Verified</td>\n",
              "      <td>debt_consolidation</td>\n",
              "      <td>8.94</td>\n",
              "      <td>...</td>\n",
              "      <td>11818.0</td>\n",
              "      <td>40688.0</td>\n",
              "      <td>25.3</td>\n",
              "      <td>142.0</td>\n",
              "      <td>17.0</td>\n",
              "      <td>1.0</td>\n",
              "      <td>2.0</td>\n",
              "      <td>0</td>\n",
              "      <td>1.0</td>\n",
              "      <td>0.0</td>\n",
              "    </tr>\n",
              "    <tr>\n",
              "      <th>...</th>\n",
              "      <td>...</td>\n",
              "      <td>...</td>\n",
              "      <td>...</td>\n",
              "      <td>...</td>\n",
              "      <td>...</td>\n",
              "      <td>...</td>\n",
              "      <td>...</td>\n",
              "      <td>...</td>\n",
              "      <td>...</td>\n",
              "      <td>...</td>\n",
              "      <td>...</td>\n",
              "      <td>...</td>\n",
              "      <td>...</td>\n",
              "      <td>...</td>\n",
              "      <td>...</td>\n",
              "      <td>...</td>\n",
              "      <td>...</td>\n",
              "      <td>...</td>\n",
              "      <td>...</td>\n",
              "      <td>...</td>\n",
              "      <td>...</td>\n",
              "    </tr>\n",
              "    <tr>\n",
              "      <th>23367</th>\n",
              "      <td>7500.0</td>\n",
              "      <td>7500.0</td>\n",
              "      <td>36</td>\n",
              "      <td>10.49</td>\n",
              "      <td>243.74</td>\n",
              "      <td>7</td>\n",
              "      <td>75000.0</td>\n",
              "      <td>Not Verified</td>\n",
              "      <td>debt_consolidation</td>\n",
              "      <td>13.50</td>\n",
              "      <td>...</td>\n",
              "      <td>14014.0</td>\n",
              "      <td>406.0</td>\n",
              "      <td>83.8</td>\n",
              "      <td>119.0</td>\n",
              "      <td>2.0</td>\n",
              "      <td>4.0</td>\n",
              "      <td>8.0</td>\n",
              "      <td>0</td>\n",
              "      <td>1.0</td>\n",
              "      <td>0.0</td>\n",
              "    </tr>\n",
              "    <tr>\n",
              "      <th>81903</th>\n",
              "      <td>15000.0</td>\n",
              "      <td>15000.0</td>\n",
              "      <td>36</td>\n",
              "      <td>14.99</td>\n",
              "      <td>519.91</td>\n",
              "      <td>14</td>\n",
              "      <td>145000.0</td>\n",
              "      <td>Verified</td>\n",
              "      <td>debt_consolidation</td>\n",
              "      <td>16.06</td>\n",
              "      <td>...</td>\n",
              "      <td>18917.0</td>\n",
              "      <td>18674.0</td>\n",
              "      <td>44.1</td>\n",
              "      <td>169.0</td>\n",
              "      <td>1.0</td>\n",
              "      <td>3.0</td>\n",
              "      <td>6.0</td>\n",
              "      <td>1</td>\n",
              "      <td>1.0</td>\n",
              "      <td>0.0</td>\n",
              "    </tr>\n",
              "    <tr>\n",
              "      <th>7309</th>\n",
              "      <td>5000.0</td>\n",
              "      <td>5000.0</td>\n",
              "      <td>36</td>\n",
              "      <td>12.39</td>\n",
              "      <td>167.01</td>\n",
              "      <td>10</td>\n",
              "      <td>26000.0</td>\n",
              "      <td>Verified</td>\n",
              "      <td>other</td>\n",
              "      <td>6.93</td>\n",
              "      <td>...</td>\n",
              "      <td>15800.0</td>\n",
              "      <td>NaN</td>\n",
              "      <td>NaN</td>\n",
              "      <td>268.0</td>\n",
              "      <td>87.0</td>\n",
              "      <td>1.0</td>\n",
              "      <td>0.0</td>\n",
              "      <td>0</td>\n",
              "      <td>1.0</td>\n",
              "      <td>0.0</td>\n",
              "    </tr>\n",
              "    <tr>\n",
              "      <th>70056</th>\n",
              "      <td>6000.0</td>\n",
              "      <td>6000.0</td>\n",
              "      <td>36</td>\n",
              "      <td>13.98</td>\n",
              "      <td>205.01</td>\n",
              "      <td>12</td>\n",
              "      <td>105000.0</td>\n",
              "      <td>Not Verified</td>\n",
              "      <td>home_improvement</td>\n",
              "      <td>14.03</td>\n",
              "      <td>...</td>\n",
              "      <td>45995.0</td>\n",
              "      <td>1059.0</td>\n",
              "      <td>69.7</td>\n",
              "      <td>128.0</td>\n",
              "      <td>76.0</td>\n",
              "      <td>5.0</td>\n",
              "      <td>2.0</td>\n",
              "      <td>0</td>\n",
              "      <td>1.0</td>\n",
              "      <td>0.0</td>\n",
              "    </tr>\n",
              "    <tr>\n",
              "      <th>23718</th>\n",
              "      <td>8400.0</td>\n",
              "      <td>8400.0</td>\n",
              "      <td>36</td>\n",
              "      <td>11.44</td>\n",
              "      <td>276.76</td>\n",
              "      <td>8</td>\n",
              "      <td>65000.0</td>\n",
              "      <td>Verified</td>\n",
              "      <td>debt_consolidation</td>\n",
              "      <td>18.32</td>\n",
              "      <td>...</td>\n",
              "      <td>22519.0</td>\n",
              "      <td>19005.0</td>\n",
              "      <td>42.9</td>\n",
              "      <td>75.0</td>\n",
              "      <td>5.0</td>\n",
              "      <td>1.0</td>\n",
              "      <td>7.0</td>\n",
              "      <td>0</td>\n",
              "      <td>1.0</td>\n",
              "      <td>0.0</td>\n",
              "    </tr>\n",
              "  </tbody>\n",
              "</table>\n",
              "<p>17228 rows × 28 columns</p>\n",
              "</div>\n",
              "      <button class=\"colab-df-convert\" onclick=\"convertToInteractive('df-1c51e7ec-1136-4cf5-b15e-373205097540')\"\n",
              "              title=\"Convert this dataframe to an interactive table.\"\n",
              "              style=\"display:none;\">\n",
              "        \n",
              "  <svg xmlns=\"http://www.w3.org/2000/svg\" height=\"24px\"viewBox=\"0 0 24 24\"\n",
              "       width=\"24px\">\n",
              "    <path d=\"M0 0h24v24H0V0z\" fill=\"none\"/>\n",
              "    <path d=\"M18.56 5.44l.94 2.06.94-2.06 2.06-.94-2.06-.94-.94-2.06-.94 2.06-2.06.94zm-11 1L8.5 8.5l.94-2.06 2.06-.94-2.06-.94L8.5 2.5l-.94 2.06-2.06.94zm10 10l.94 2.06.94-2.06 2.06-.94-2.06-.94-.94-2.06-.94 2.06-2.06.94z\"/><path d=\"M17.41 7.96l-1.37-1.37c-.4-.4-.92-.59-1.43-.59-.52 0-1.04.2-1.43.59L10.3 9.45l-7.72 7.72c-.78.78-.78 2.05 0 2.83L4 21.41c.39.39.9.59 1.41.59.51 0 1.02-.2 1.41-.59l7.78-7.78 2.81-2.81c.8-.78.8-2.07 0-2.86zM5.41 20L4 18.59l7.72-7.72 1.47 1.35L5.41 20z\"/>\n",
              "  </svg>\n",
              "      </button>\n",
              "      \n",
              "  <style>\n",
              "    .colab-df-container {\n",
              "      display:flex;\n",
              "      flex-wrap:wrap;\n",
              "      gap: 12px;\n",
              "    }\n",
              "\n",
              "    .colab-df-convert {\n",
              "      background-color: #E8F0FE;\n",
              "      border: none;\n",
              "      border-radius: 50%;\n",
              "      cursor: pointer;\n",
              "      display: none;\n",
              "      fill: #1967D2;\n",
              "      height: 32px;\n",
              "      padding: 0 0 0 0;\n",
              "      width: 32px;\n",
              "    }\n",
              "\n",
              "    .colab-df-convert:hover {\n",
              "      background-color: #E2EBFA;\n",
              "      box-shadow: 0px 1px 2px rgba(60, 64, 67, 0.3), 0px 1px 3px 1px rgba(60, 64, 67, 0.15);\n",
              "      fill: #174EA6;\n",
              "    }\n",
              "\n",
              "    [theme=dark] .colab-df-convert {\n",
              "      background-color: #3B4455;\n",
              "      fill: #D2E3FC;\n",
              "    }\n",
              "\n",
              "    [theme=dark] .colab-df-convert:hover {\n",
              "      background-color: #434B5C;\n",
              "      box-shadow: 0px 1px 3px 1px rgba(0, 0, 0, 0.15);\n",
              "      filter: drop-shadow(0px 1px 2px rgba(0, 0, 0, 0.3));\n",
              "      fill: #FFFFFF;\n",
              "    }\n",
              "  </style>\n",
              "\n",
              "      <script>\n",
              "        const buttonEl =\n",
              "          document.querySelector('#df-1c51e7ec-1136-4cf5-b15e-373205097540 button.colab-df-convert');\n",
              "        buttonEl.style.display =\n",
              "          google.colab.kernel.accessAllowed ? 'block' : 'none';\n",
              "\n",
              "        async function convertToInteractive(key) {\n",
              "          const element = document.querySelector('#df-1c51e7ec-1136-4cf5-b15e-373205097540');\n",
              "          const dataTable =\n",
              "            await google.colab.kernel.invokeFunction('convertToInteractive',\n",
              "                                                     [key], {});\n",
              "          if (!dataTable) return;\n",
              "\n",
              "          const docLinkHtml = 'Like what you see? Visit the ' +\n",
              "            '<a target=\"_blank\" href=https://colab.research.google.com/notebooks/data_table.ipynb>data table notebook</a>'\n",
              "            + ' to learn more about interactive tables.';\n",
              "          element.innerHTML = '';\n",
              "          dataTable['output_type'] = 'display_data';\n",
              "          await google.colab.output.renderOutput(dataTable, element);\n",
              "          const docLink = document.createElement('div');\n",
              "          docLink.innerHTML = docLinkHtml;\n",
              "          element.appendChild(docLink);\n",
              "        }\n",
              "      </script>\n",
              "    </div>\n",
              "  </div>\n",
              "  "
            ]
          },
          "metadata": {},
          "execution_count": 1953
        }
      ]
    },
    {
      "cell_type": "markdown",
      "metadata": {
        "id": "HI9zmWnB4896"
      },
      "source": [
        "###### verification_status"
      ]
    },
    {
      "cell_type": "code",
      "metadata": {
        "colab": {
          "base_uri": "https://localhost:8080/",
          "height": 143
        },
        "id": "-T4kNnel4_AM",
        "outputId": "d384edd0-fa68-4875-b862-24f9bf020276"
      },
      "source": [
        "pd.get_dummies(dataset[['verification_status', 'charged_off']], columns=['verification_status'], \n",
        "               drop_first=True).corr()"
      ],
      "execution_count": 1954,
      "outputs": [
        {
          "output_type": "execute_result",
          "data": {
            "text/plain": [
              "                                     charged_off  \\\n",
              "charged_off                             1.000000   \n",
              "verification_status_Source Verified     0.046493   \n",
              "verification_status_Verified            0.061652   \n",
              "\n",
              "                                     verification_status_Source Verified  \\\n",
              "charged_off                                                     0.046493   \n",
              "verification_status_Source Verified                             1.000000   \n",
              "verification_status_Verified                                   -0.494323   \n",
              "\n",
              "                                     verification_status_Verified  \n",
              "charged_off                                              0.061652  \n",
              "verification_status_Source Verified                     -0.494323  \n",
              "verification_status_Verified                             1.000000  "
            ],
            "text/html": [
              "\n",
              "  <div id=\"df-31e9e732-1c79-4c2e-b9c9-03db151bc818\">\n",
              "    <div class=\"colab-df-container\">\n",
              "      <div>\n",
              "<style scoped>\n",
              "    .dataframe tbody tr th:only-of-type {\n",
              "        vertical-align: middle;\n",
              "    }\n",
              "\n",
              "    .dataframe tbody tr th {\n",
              "        vertical-align: top;\n",
              "    }\n",
              "\n",
              "    .dataframe thead th {\n",
              "        text-align: right;\n",
              "    }\n",
              "</style>\n",
              "<table border=\"1\" class=\"dataframe\">\n",
              "  <thead>\n",
              "    <tr style=\"text-align: right;\">\n",
              "      <th></th>\n",
              "      <th>charged_off</th>\n",
              "      <th>verification_status_Source Verified</th>\n",
              "      <th>verification_status_Verified</th>\n",
              "    </tr>\n",
              "  </thead>\n",
              "  <tbody>\n",
              "    <tr>\n",
              "      <th>charged_off</th>\n",
              "      <td>1.000000</td>\n",
              "      <td>0.046493</td>\n",
              "      <td>0.061652</td>\n",
              "    </tr>\n",
              "    <tr>\n",
              "      <th>verification_status_Source Verified</th>\n",
              "      <td>0.046493</td>\n",
              "      <td>1.000000</td>\n",
              "      <td>-0.494323</td>\n",
              "    </tr>\n",
              "    <tr>\n",
              "      <th>verification_status_Verified</th>\n",
              "      <td>0.061652</td>\n",
              "      <td>-0.494323</td>\n",
              "      <td>1.000000</td>\n",
              "    </tr>\n",
              "  </tbody>\n",
              "</table>\n",
              "</div>\n",
              "      <button class=\"colab-df-convert\" onclick=\"convertToInteractive('df-31e9e732-1c79-4c2e-b9c9-03db151bc818')\"\n",
              "              title=\"Convert this dataframe to an interactive table.\"\n",
              "              style=\"display:none;\">\n",
              "        \n",
              "  <svg xmlns=\"http://www.w3.org/2000/svg\" height=\"24px\"viewBox=\"0 0 24 24\"\n",
              "       width=\"24px\">\n",
              "    <path d=\"M0 0h24v24H0V0z\" fill=\"none\"/>\n",
              "    <path d=\"M18.56 5.44l.94 2.06.94-2.06 2.06-.94-2.06-.94-.94-2.06-.94 2.06-2.06.94zm-11 1L8.5 8.5l.94-2.06 2.06-.94-2.06-.94L8.5 2.5l-.94 2.06-2.06.94zm10 10l.94 2.06.94-2.06 2.06-.94-2.06-.94-.94-2.06-.94 2.06-2.06.94z\"/><path d=\"M17.41 7.96l-1.37-1.37c-.4-.4-.92-.59-1.43-.59-.52 0-1.04.2-1.43.59L10.3 9.45l-7.72 7.72c-.78.78-.78 2.05 0 2.83L4 21.41c.39.39.9.59 1.41.59.51 0 1.02-.2 1.41-.59l7.78-7.78 2.81-2.81c.8-.78.8-2.07 0-2.86zM5.41 20L4 18.59l7.72-7.72 1.47 1.35L5.41 20z\"/>\n",
              "  </svg>\n",
              "      </button>\n",
              "      \n",
              "  <style>\n",
              "    .colab-df-container {\n",
              "      display:flex;\n",
              "      flex-wrap:wrap;\n",
              "      gap: 12px;\n",
              "    }\n",
              "\n",
              "    .colab-df-convert {\n",
              "      background-color: #E8F0FE;\n",
              "      border: none;\n",
              "      border-radius: 50%;\n",
              "      cursor: pointer;\n",
              "      display: none;\n",
              "      fill: #1967D2;\n",
              "      height: 32px;\n",
              "      padding: 0 0 0 0;\n",
              "      width: 32px;\n",
              "    }\n",
              "\n",
              "    .colab-df-convert:hover {\n",
              "      background-color: #E2EBFA;\n",
              "      box-shadow: 0px 1px 2px rgba(60, 64, 67, 0.3), 0px 1px 3px 1px rgba(60, 64, 67, 0.15);\n",
              "      fill: #174EA6;\n",
              "    }\n",
              "\n",
              "    [theme=dark] .colab-df-convert {\n",
              "      background-color: #3B4455;\n",
              "      fill: #D2E3FC;\n",
              "    }\n",
              "\n",
              "    [theme=dark] .colab-df-convert:hover {\n",
              "      background-color: #434B5C;\n",
              "      box-shadow: 0px 1px 3px 1px rgba(0, 0, 0, 0.15);\n",
              "      filter: drop-shadow(0px 1px 2px rgba(0, 0, 0, 0.3));\n",
              "      fill: #FFFFFF;\n",
              "    }\n",
              "  </style>\n",
              "\n",
              "      <script>\n",
              "        const buttonEl =\n",
              "          document.querySelector('#df-31e9e732-1c79-4c2e-b9c9-03db151bc818 button.colab-df-convert');\n",
              "        buttonEl.style.display =\n",
              "          google.colab.kernel.accessAllowed ? 'block' : 'none';\n",
              "\n",
              "        async function convertToInteractive(key) {\n",
              "          const element = document.querySelector('#df-31e9e732-1c79-4c2e-b9c9-03db151bc818');\n",
              "          const dataTable =\n",
              "            await google.colab.kernel.invokeFunction('convertToInteractive',\n",
              "                                                     [key], {});\n",
              "          if (!dataTable) return;\n",
              "\n",
              "          const docLinkHtml = 'Like what you see? Visit the ' +\n",
              "            '<a target=\"_blank\" href=https://colab.research.google.com/notebooks/data_table.ipynb>data table notebook</a>'\n",
              "            + ' to learn more about interactive tables.';\n",
              "          element.innerHTML = '';\n",
              "          dataTable['output_type'] = 'display_data';\n",
              "          await google.colab.output.renderOutput(dataTable, element);\n",
              "          const docLink = document.createElement('div');\n",
              "          docLink.innerHTML = docLinkHtml;\n",
              "          element.appendChild(docLink);\n",
              "        }\n",
              "      </script>\n",
              "    </div>\n",
              "  </div>\n",
              "  "
            ]
          },
          "metadata": {},
          "execution_count": 1954
        }
      ]
    },
    {
      "cell_type": "code",
      "source": [
        "enc = OneHotEncoder(handle_unknown='ignore', sparse=False)\n",
        "a = enc.fit_transform(X=data_train[['verification_status']])\n",
        "a = pd.DataFrame(a)\n",
        "a.columns = enc.get_feature_names()\n",
        "data_train[a.columns] = a.values\n",
        "\n",
        "b = enc.transform(X=data_test[['verification_status']])\n",
        "b = pd.DataFrame(b)\n",
        "b.columns = enc.get_feature_names()\n",
        "data_test[b.columns] = b.values\n"
      ],
      "metadata": {
        "colab": {
          "base_uri": "https://localhost:8080/"
        },
        "id": "_VSb-XnHL3JG",
        "outputId": "eb394c97-8a9b-435f-90f6-c16c298ae149"
      },
      "execution_count": 1955,
      "outputs": [
        {
          "output_type": "stream",
          "name": "stderr",
          "text": [
            "/usr/local/lib/python3.8/dist-packages/sklearn/utils/deprecation.py:87: FutureWarning: Function get_feature_names is deprecated; get_feature_names is deprecated in 1.0 and will be removed in 1.2. Please use get_feature_names_out instead.\n",
            "  warnings.warn(msg, category=FutureWarning)\n",
            "/usr/local/lib/python3.8/dist-packages/sklearn/utils/deprecation.py:87: FutureWarning: Function get_feature_names is deprecated; get_feature_names is deprecated in 1.0 and will be removed in 1.2. Please use get_feature_names_out instead.\n",
            "  warnings.warn(msg, category=FutureWarning)\n"
          ]
        }
      ]
    },
    {
      "cell_type": "code",
      "metadata": {
        "id": "NVUIi9l466Sd"
      },
      "source": [
        "data_test.drop(columns=['verification_status'], inplace=True)\n",
        "data_train.drop(columns=['verification_status'], inplace=True)\n"
      ],
      "execution_count": 1956,
      "outputs": []
    },
    {
      "cell_type": "markdown",
      "metadata": {
        "id": "PsnJKxns7WLn"
      },
      "source": [
        "###### 'purpose'"
      ]
    },
    {
      "cell_type": "code",
      "metadata": {
        "colab": {
          "base_uri": "https://localhost:8080/"
        },
        "id": "Ln6oBoWA7YJe",
        "outputId": "ef70c06f-c458-4b15-aa35-74df162ace69"
      },
      "source": [
        "dataset['purpose'].unique()"
      ],
      "execution_count": 1957,
      "outputs": [
        {
          "output_type": "execute_result",
          "data": {
            "text/plain": [
              "array(['debt_consolidation', 'credit_card', 'home_improvement', 'house',\n",
              "       'medical', 'other', 'car', 'major_purchase', 'moving',\n",
              "       'small_business', 'vacation', 'renewable_energy', 'wedding'],\n",
              "      dtype=object)"
            ]
          },
          "metadata": {},
          "execution_count": 1957
        }
      ]
    },
    {
      "cell_type": "code",
      "metadata": {
        "colab": {
          "base_uri": "https://localhost:8080/",
          "height": 521
        },
        "id": "TDmrDxno7cOM",
        "outputId": "4fb168ae-bfe0-451d-f47d-a066cd6b6e5c"
      },
      "source": [
        "pd.get_dummies(dataset[['purpose', 'charged_off']], columns=['purpose'], \n",
        "               drop_first=True).corr()"
      ],
      "execution_count": 1958,
      "outputs": [
        {
          "output_type": "execute_result",
          "data": {
            "text/plain": [
              "                            charged_off  purpose_credit_card  \\\n",
              "charged_off                    1.000000            -0.037441   \n",
              "purpose_credit_card           -0.037441             1.000000   \n",
              "purpose_debt_consolidation     0.030518            -0.673696   \n",
              "purpose_home_improvement      -0.011344            -0.124166   \n",
              "purpose_house                  0.006606            -0.030663   \n",
              "purpose_major_purchase        -0.000304            -0.070973   \n",
              "purpose_medical                0.003502            -0.054658   \n",
              "purpose_moving                 0.014112            -0.044650   \n",
              "purpose_other                  0.000303            -0.123337   \n",
              "purpose_renewable_energy       0.006545            -0.014537   \n",
              "purpose_small_business         0.026016            -0.050665   \n",
              "purpose_vacation              -0.003054            -0.038635   \n",
              "purpose_wedding               -0.002836            -0.003146   \n",
              "\n",
              "                            purpose_debt_consolidation  \\\n",
              "charged_off                                   0.030518   \n",
              "purpose_credit_card                          -0.673696   \n",
              "purpose_debt_consolidation                    1.000000   \n",
              "purpose_home_improvement                     -0.294311   \n",
              "purpose_house                                -0.072680   \n",
              "purpose_major_purchase                       -0.168227   \n",
              "purpose_medical                              -0.129557   \n",
              "purpose_moving                               -0.105835   \n",
              "purpose_other                                -0.292346   \n",
              "purpose_renewable_energy                     -0.034458   \n",
              "purpose_small_business                       -0.120093   \n",
              "purpose_vacation                             -0.091576   \n",
              "purpose_wedding                              -0.007458   \n",
              "\n",
              "                            purpose_home_improvement  purpose_house  \\\n",
              "charged_off                                -0.011344       0.006606   \n",
              "purpose_credit_card                        -0.124166      -0.030663   \n",
              "purpose_debt_consolidation                 -0.294311      -0.072680   \n",
              "purpose_home_improvement                    1.000000      -0.013395   \n",
              "purpose_house                              -0.013395       1.000000   \n",
              "purpose_major_purchase                     -0.031005      -0.007657   \n",
              "purpose_medical                            -0.023878      -0.005897   \n",
              "purpose_moving                             -0.019506      -0.004817   \n",
              "purpose_other                              -0.053881      -0.013306   \n",
              "purpose_renewable_energy                   -0.006351      -0.001568   \n",
              "purpose_small_business                     -0.022134      -0.005466   \n",
              "purpose_vacation                           -0.016878      -0.004168   \n",
              "purpose_wedding                            -0.001374      -0.000339   \n",
              "\n",
              "                            purpose_major_purchase  purpose_medical  \\\n",
              "charged_off                              -0.000304         0.003502   \n",
              "purpose_credit_card                      -0.070973        -0.054658   \n",
              "purpose_debt_consolidation               -0.168227        -0.129557   \n",
              "purpose_home_improvement                 -0.031005        -0.023878   \n",
              "purpose_house                            -0.007657        -0.005897   \n",
              "purpose_major_purchase                    1.000000        -0.013649   \n",
              "purpose_medical                          -0.013649         1.000000   \n",
              "purpose_moving                           -0.011150        -0.008587   \n",
              "purpose_other                            -0.030798        -0.023719   \n",
              "purpose_renewable_energy                 -0.003630        -0.002796   \n",
              "purpose_small_business                   -0.012652        -0.009743   \n",
              "purpose_vacation                         -0.009647        -0.007430   \n",
              "purpose_wedding                          -0.000786        -0.000605   \n",
              "\n",
              "                            purpose_moving  purpose_other  \\\n",
              "charged_off                       0.014112       0.000303   \n",
              "purpose_credit_card              -0.044650      -0.123337   \n",
              "purpose_debt_consolidation       -0.105835      -0.292346   \n",
              "purpose_home_improvement         -0.019506      -0.053881   \n",
              "purpose_house                    -0.004817      -0.013306   \n",
              "purpose_major_purchase           -0.011150      -0.030798   \n",
              "purpose_medical                  -0.008587      -0.023719   \n",
              "purpose_moving                    1.000000      -0.019376   \n",
              "purpose_other                    -0.019376       1.000000   \n",
              "purpose_renewable_energy         -0.002284      -0.006308   \n",
              "purpose_small_business           -0.007959      -0.021986   \n",
              "purpose_vacation                 -0.006069      -0.016765   \n",
              "purpose_wedding                  -0.000494      -0.001365   \n",
              "\n",
              "                            purpose_renewable_energy  purpose_small_business  \\\n",
              "charged_off                                 0.006545                0.026016   \n",
              "purpose_credit_card                        -0.014537               -0.050665   \n",
              "purpose_debt_consolidation                 -0.034458               -0.120093   \n",
              "purpose_home_improvement                   -0.006351               -0.022134   \n",
              "purpose_house                              -0.001568               -0.005466   \n",
              "purpose_major_purchase                     -0.003630               -0.012652   \n",
              "purpose_medical                            -0.002796               -0.009743   \n",
              "purpose_moving                             -0.002284               -0.007959   \n",
              "purpose_other                              -0.006308               -0.021986   \n",
              "purpose_renewable_energy                    1.000000               -0.002591   \n",
              "purpose_small_business                     -0.002591                1.000000   \n",
              "purpose_vacation                           -0.001976               -0.006887   \n",
              "purpose_wedding                            -0.000161               -0.000561   \n",
              "\n",
              "                            purpose_vacation  purpose_wedding  \n",
              "charged_off                        -0.003054        -0.002836  \n",
              "purpose_credit_card                -0.038635        -0.003146  \n",
              "purpose_debt_consolidation         -0.091576        -0.007458  \n",
              "purpose_home_improvement           -0.016878        -0.001374  \n",
              "purpose_house                      -0.004168        -0.000339  \n",
              "purpose_major_purchase             -0.009647        -0.000786  \n",
              "purpose_medical                    -0.007430        -0.000605  \n",
              "purpose_moving                     -0.006069        -0.000494  \n",
              "purpose_other                      -0.016765        -0.001365  \n",
              "purpose_renewable_energy           -0.001976        -0.000161  \n",
              "purpose_small_business             -0.006887        -0.000561  \n",
              "purpose_vacation                    1.000000        -0.000428  \n",
              "purpose_wedding                    -0.000428         1.000000  "
            ],
            "text/html": [
              "\n",
              "  <div id=\"df-90e66333-2b28-4c50-87f2-9b71eb09fa62\">\n",
              "    <div class=\"colab-df-container\">\n",
              "      <div>\n",
              "<style scoped>\n",
              "    .dataframe tbody tr th:only-of-type {\n",
              "        vertical-align: middle;\n",
              "    }\n",
              "\n",
              "    .dataframe tbody tr th {\n",
              "        vertical-align: top;\n",
              "    }\n",
              "\n",
              "    .dataframe thead th {\n",
              "        text-align: right;\n",
              "    }\n",
              "</style>\n",
              "<table border=\"1\" class=\"dataframe\">\n",
              "  <thead>\n",
              "    <tr style=\"text-align: right;\">\n",
              "      <th></th>\n",
              "      <th>charged_off</th>\n",
              "      <th>purpose_credit_card</th>\n",
              "      <th>purpose_debt_consolidation</th>\n",
              "      <th>purpose_home_improvement</th>\n",
              "      <th>purpose_house</th>\n",
              "      <th>purpose_major_purchase</th>\n",
              "      <th>purpose_medical</th>\n",
              "      <th>purpose_moving</th>\n",
              "      <th>purpose_other</th>\n",
              "      <th>purpose_renewable_energy</th>\n",
              "      <th>purpose_small_business</th>\n",
              "      <th>purpose_vacation</th>\n",
              "      <th>purpose_wedding</th>\n",
              "    </tr>\n",
              "  </thead>\n",
              "  <tbody>\n",
              "    <tr>\n",
              "      <th>charged_off</th>\n",
              "      <td>1.000000</td>\n",
              "      <td>-0.037441</td>\n",
              "      <td>0.030518</td>\n",
              "      <td>-0.011344</td>\n",
              "      <td>0.006606</td>\n",
              "      <td>-0.000304</td>\n",
              "      <td>0.003502</td>\n",
              "      <td>0.014112</td>\n",
              "      <td>0.000303</td>\n",
              "      <td>0.006545</td>\n",
              "      <td>0.026016</td>\n",
              "      <td>-0.003054</td>\n",
              "      <td>-0.002836</td>\n",
              "    </tr>\n",
              "    <tr>\n",
              "      <th>purpose_credit_card</th>\n",
              "      <td>-0.037441</td>\n",
              "      <td>1.000000</td>\n",
              "      <td>-0.673696</td>\n",
              "      <td>-0.124166</td>\n",
              "      <td>-0.030663</td>\n",
              "      <td>-0.070973</td>\n",
              "      <td>-0.054658</td>\n",
              "      <td>-0.044650</td>\n",
              "      <td>-0.123337</td>\n",
              "      <td>-0.014537</td>\n",
              "      <td>-0.050665</td>\n",
              "      <td>-0.038635</td>\n",
              "      <td>-0.003146</td>\n",
              "    </tr>\n",
              "    <tr>\n",
              "      <th>purpose_debt_consolidation</th>\n",
              "      <td>0.030518</td>\n",
              "      <td>-0.673696</td>\n",
              "      <td>1.000000</td>\n",
              "      <td>-0.294311</td>\n",
              "      <td>-0.072680</td>\n",
              "      <td>-0.168227</td>\n",
              "      <td>-0.129557</td>\n",
              "      <td>-0.105835</td>\n",
              "      <td>-0.292346</td>\n",
              "      <td>-0.034458</td>\n",
              "      <td>-0.120093</td>\n",
              "      <td>-0.091576</td>\n",
              "      <td>-0.007458</td>\n",
              "    </tr>\n",
              "    <tr>\n",
              "      <th>purpose_home_improvement</th>\n",
              "      <td>-0.011344</td>\n",
              "      <td>-0.124166</td>\n",
              "      <td>-0.294311</td>\n",
              "      <td>1.000000</td>\n",
              "      <td>-0.013395</td>\n",
              "      <td>-0.031005</td>\n",
              "      <td>-0.023878</td>\n",
              "      <td>-0.019506</td>\n",
              "      <td>-0.053881</td>\n",
              "      <td>-0.006351</td>\n",
              "      <td>-0.022134</td>\n",
              "      <td>-0.016878</td>\n",
              "      <td>-0.001374</td>\n",
              "    </tr>\n",
              "    <tr>\n",
              "      <th>purpose_house</th>\n",
              "      <td>0.006606</td>\n",
              "      <td>-0.030663</td>\n",
              "      <td>-0.072680</td>\n",
              "      <td>-0.013395</td>\n",
              "      <td>1.000000</td>\n",
              "      <td>-0.007657</td>\n",
              "      <td>-0.005897</td>\n",
              "      <td>-0.004817</td>\n",
              "      <td>-0.013306</td>\n",
              "      <td>-0.001568</td>\n",
              "      <td>-0.005466</td>\n",
              "      <td>-0.004168</td>\n",
              "      <td>-0.000339</td>\n",
              "    </tr>\n",
              "    <tr>\n",
              "      <th>purpose_major_purchase</th>\n",
              "      <td>-0.000304</td>\n",
              "      <td>-0.070973</td>\n",
              "      <td>-0.168227</td>\n",
              "      <td>-0.031005</td>\n",
              "      <td>-0.007657</td>\n",
              "      <td>1.000000</td>\n",
              "      <td>-0.013649</td>\n",
              "      <td>-0.011150</td>\n",
              "      <td>-0.030798</td>\n",
              "      <td>-0.003630</td>\n",
              "      <td>-0.012652</td>\n",
              "      <td>-0.009647</td>\n",
              "      <td>-0.000786</td>\n",
              "    </tr>\n",
              "    <tr>\n",
              "      <th>purpose_medical</th>\n",
              "      <td>0.003502</td>\n",
              "      <td>-0.054658</td>\n",
              "      <td>-0.129557</td>\n",
              "      <td>-0.023878</td>\n",
              "      <td>-0.005897</td>\n",
              "      <td>-0.013649</td>\n",
              "      <td>1.000000</td>\n",
              "      <td>-0.008587</td>\n",
              "      <td>-0.023719</td>\n",
              "      <td>-0.002796</td>\n",
              "      <td>-0.009743</td>\n",
              "      <td>-0.007430</td>\n",
              "      <td>-0.000605</td>\n",
              "    </tr>\n",
              "    <tr>\n",
              "      <th>purpose_moving</th>\n",
              "      <td>0.014112</td>\n",
              "      <td>-0.044650</td>\n",
              "      <td>-0.105835</td>\n",
              "      <td>-0.019506</td>\n",
              "      <td>-0.004817</td>\n",
              "      <td>-0.011150</td>\n",
              "      <td>-0.008587</td>\n",
              "      <td>1.000000</td>\n",
              "      <td>-0.019376</td>\n",
              "      <td>-0.002284</td>\n",
              "      <td>-0.007959</td>\n",
              "      <td>-0.006069</td>\n",
              "      <td>-0.000494</td>\n",
              "    </tr>\n",
              "    <tr>\n",
              "      <th>purpose_other</th>\n",
              "      <td>0.000303</td>\n",
              "      <td>-0.123337</td>\n",
              "      <td>-0.292346</td>\n",
              "      <td>-0.053881</td>\n",
              "      <td>-0.013306</td>\n",
              "      <td>-0.030798</td>\n",
              "      <td>-0.023719</td>\n",
              "      <td>-0.019376</td>\n",
              "      <td>1.000000</td>\n",
              "      <td>-0.006308</td>\n",
              "      <td>-0.021986</td>\n",
              "      <td>-0.016765</td>\n",
              "      <td>-0.001365</td>\n",
              "    </tr>\n",
              "    <tr>\n",
              "      <th>purpose_renewable_energy</th>\n",
              "      <td>0.006545</td>\n",
              "      <td>-0.014537</td>\n",
              "      <td>-0.034458</td>\n",
              "      <td>-0.006351</td>\n",
              "      <td>-0.001568</td>\n",
              "      <td>-0.003630</td>\n",
              "      <td>-0.002796</td>\n",
              "      <td>-0.002284</td>\n",
              "      <td>-0.006308</td>\n",
              "      <td>1.000000</td>\n",
              "      <td>-0.002591</td>\n",
              "      <td>-0.001976</td>\n",
              "      <td>-0.000161</td>\n",
              "    </tr>\n",
              "    <tr>\n",
              "      <th>purpose_small_business</th>\n",
              "      <td>0.026016</td>\n",
              "      <td>-0.050665</td>\n",
              "      <td>-0.120093</td>\n",
              "      <td>-0.022134</td>\n",
              "      <td>-0.005466</td>\n",
              "      <td>-0.012652</td>\n",
              "      <td>-0.009743</td>\n",
              "      <td>-0.007959</td>\n",
              "      <td>-0.021986</td>\n",
              "      <td>-0.002591</td>\n",
              "      <td>1.000000</td>\n",
              "      <td>-0.006887</td>\n",
              "      <td>-0.000561</td>\n",
              "    </tr>\n",
              "    <tr>\n",
              "      <th>purpose_vacation</th>\n",
              "      <td>-0.003054</td>\n",
              "      <td>-0.038635</td>\n",
              "      <td>-0.091576</td>\n",
              "      <td>-0.016878</td>\n",
              "      <td>-0.004168</td>\n",
              "      <td>-0.009647</td>\n",
              "      <td>-0.007430</td>\n",
              "      <td>-0.006069</td>\n",
              "      <td>-0.016765</td>\n",
              "      <td>-0.001976</td>\n",
              "      <td>-0.006887</td>\n",
              "      <td>1.000000</td>\n",
              "      <td>-0.000428</td>\n",
              "    </tr>\n",
              "    <tr>\n",
              "      <th>purpose_wedding</th>\n",
              "      <td>-0.002836</td>\n",
              "      <td>-0.003146</td>\n",
              "      <td>-0.007458</td>\n",
              "      <td>-0.001374</td>\n",
              "      <td>-0.000339</td>\n",
              "      <td>-0.000786</td>\n",
              "      <td>-0.000605</td>\n",
              "      <td>-0.000494</td>\n",
              "      <td>-0.001365</td>\n",
              "      <td>-0.000161</td>\n",
              "      <td>-0.000561</td>\n",
              "      <td>-0.000428</td>\n",
              "      <td>1.000000</td>\n",
              "    </tr>\n",
              "  </tbody>\n",
              "</table>\n",
              "</div>\n",
              "      <button class=\"colab-df-convert\" onclick=\"convertToInteractive('df-90e66333-2b28-4c50-87f2-9b71eb09fa62')\"\n",
              "              title=\"Convert this dataframe to an interactive table.\"\n",
              "              style=\"display:none;\">\n",
              "        \n",
              "  <svg xmlns=\"http://www.w3.org/2000/svg\" height=\"24px\"viewBox=\"0 0 24 24\"\n",
              "       width=\"24px\">\n",
              "    <path d=\"M0 0h24v24H0V0z\" fill=\"none\"/>\n",
              "    <path d=\"M18.56 5.44l.94 2.06.94-2.06 2.06-.94-2.06-.94-.94-2.06-.94 2.06-2.06.94zm-11 1L8.5 8.5l.94-2.06 2.06-.94-2.06-.94L8.5 2.5l-.94 2.06-2.06.94zm10 10l.94 2.06.94-2.06 2.06-.94-2.06-.94-.94-2.06-.94 2.06-2.06.94z\"/><path d=\"M17.41 7.96l-1.37-1.37c-.4-.4-.92-.59-1.43-.59-.52 0-1.04.2-1.43.59L10.3 9.45l-7.72 7.72c-.78.78-.78 2.05 0 2.83L4 21.41c.39.39.9.59 1.41.59.51 0 1.02-.2 1.41-.59l7.78-7.78 2.81-2.81c.8-.78.8-2.07 0-2.86zM5.41 20L4 18.59l7.72-7.72 1.47 1.35L5.41 20z\"/>\n",
              "  </svg>\n",
              "      </button>\n",
              "      \n",
              "  <style>\n",
              "    .colab-df-container {\n",
              "      display:flex;\n",
              "      flex-wrap:wrap;\n",
              "      gap: 12px;\n",
              "    }\n",
              "\n",
              "    .colab-df-convert {\n",
              "      background-color: #E8F0FE;\n",
              "      border: none;\n",
              "      border-radius: 50%;\n",
              "      cursor: pointer;\n",
              "      display: none;\n",
              "      fill: #1967D2;\n",
              "      height: 32px;\n",
              "      padding: 0 0 0 0;\n",
              "      width: 32px;\n",
              "    }\n",
              "\n",
              "    .colab-df-convert:hover {\n",
              "      background-color: #E2EBFA;\n",
              "      box-shadow: 0px 1px 2px rgba(60, 64, 67, 0.3), 0px 1px 3px 1px rgba(60, 64, 67, 0.15);\n",
              "      fill: #174EA6;\n",
              "    }\n",
              "\n",
              "    [theme=dark] .colab-df-convert {\n",
              "      background-color: #3B4455;\n",
              "      fill: #D2E3FC;\n",
              "    }\n",
              "\n",
              "    [theme=dark] .colab-df-convert:hover {\n",
              "      background-color: #434B5C;\n",
              "      box-shadow: 0px 1px 3px 1px rgba(0, 0, 0, 0.15);\n",
              "      filter: drop-shadow(0px 1px 2px rgba(0, 0, 0, 0.3));\n",
              "      fill: #FFFFFF;\n",
              "    }\n",
              "  </style>\n",
              "\n",
              "      <script>\n",
              "        const buttonEl =\n",
              "          document.querySelector('#df-90e66333-2b28-4c50-87f2-9b71eb09fa62 button.colab-df-convert');\n",
              "        buttonEl.style.display =\n",
              "          google.colab.kernel.accessAllowed ? 'block' : 'none';\n",
              "\n",
              "        async function convertToInteractive(key) {\n",
              "          const element = document.querySelector('#df-90e66333-2b28-4c50-87f2-9b71eb09fa62');\n",
              "          const dataTable =\n",
              "            await google.colab.kernel.invokeFunction('convertToInteractive',\n",
              "                                                     [key], {});\n",
              "          if (!dataTable) return;\n",
              "\n",
              "          const docLinkHtml = 'Like what you see? Visit the ' +\n",
              "            '<a target=\"_blank\" href=https://colab.research.google.com/notebooks/data_table.ipynb>data table notebook</a>'\n",
              "            + ' to learn more about interactive tables.';\n",
              "          element.innerHTML = '';\n",
              "          dataTable['output_type'] = 'display_data';\n",
              "          await google.colab.output.renderOutput(dataTable, element);\n",
              "          const docLink = document.createElement('div');\n",
              "          docLink.innerHTML = docLinkHtml;\n",
              "          element.appendChild(docLink);\n",
              "        }\n",
              "      </script>\n",
              "    </div>\n",
              "  </div>\n",
              "  "
            ]
          },
          "metadata": {},
          "execution_count": 1958
        }
      ]
    },
    {
      "cell_type": "markdown",
      "metadata": {
        "id": "8ZIIJ-la7ol-"
      },
      "source": [
        "En este caso casi todas las correlaciones son muy bajas, solo `purpose_credit_card` y `purpose_debt_consolidation` parecen ser utiles.  \n",
        "Tambien se podrian colapsar variables, pero eso es recomendable para otra iteracion."
      ]
    },
    {
      "cell_type": "code",
      "metadata": {
        "id": "o-hHumkN8BmB",
        "colab": {
          "base_uri": "https://localhost:8080/"
        },
        "outputId": "52cab8e3-2981-4a68-d10d-fb6543b54131"
      },
      "source": [
        "dummies_purpose = pd.get_dummies(data_train[['purpose', 'charged_off']], columns=['purpose'], \n",
        "               drop_first=True).corr().index\n",
        "dummies_purpose = [v for v in dummies_purpose if v not in ['charged_off', \n",
        "                                                           'purpose_credit_card',\n",
        "                                                           'purpose_debt_consolidation'\n",
        "                                                           ]]\n",
        "print(dummies_purpose)\n",
        "dummies_purpose = [v.replace('purpose_','') for v in dummies_purpose]                                                           \n",
        "print(dummies_purpose)\n",
        "# dataset = pd.get_dummies(dataset, columns=['purpose'], \n",
        "#                drop_first=True) \n",
        "# dataset.drop(dummies_purpose, axis=1, inplace=True)                                                  "
      ],
      "execution_count": 1959,
      "outputs": [
        {
          "output_type": "stream",
          "name": "stdout",
          "text": [
            "['purpose_home_improvement', 'purpose_house', 'purpose_major_purchase', 'purpose_medical', 'purpose_moving', 'purpose_other', 'purpose_renewable_energy', 'purpose_small_business', 'purpose_vacation', 'purpose_wedding']\n",
            "['home_improvement', 'house', 'major_purchase', 'medical', 'moving', 'other', 'renewable_energy', 'small_business', 'vacation', 'wedding']\n"
          ]
        }
      ]
    },
    {
      "cell_type": "code",
      "source": [
        "enc_p = OneHotEncoder(handle_unknown='ignore', sparse=False)\n",
        "enc_p.fit(X=data_train[['purpose']])\n",
        "a = enc_p.transform(X=data_train[['purpose']])\n",
        "a = pd.DataFrame(a)\n",
        "a.columns = enc_p.get_feature_names()\n",
        "a.head()"
      ],
      "metadata": {
        "colab": {
          "base_uri": "https://localhost:8080/",
          "height": 305
        },
        "id": "TEJQEWYR7Yzo",
        "outputId": "b24328ad-4d43-41d4-f4dc-1447a4bb1eac"
      },
      "execution_count": 1960,
      "outputs": [
        {
          "output_type": "stream",
          "name": "stderr",
          "text": [
            "/usr/local/lib/python3.8/dist-packages/sklearn/utils/deprecation.py:87: FutureWarning: Function get_feature_names is deprecated; get_feature_names is deprecated in 1.0 and will be removed in 1.2. Please use get_feature_names_out instead.\n",
            "  warnings.warn(msg, category=FutureWarning)\n"
          ]
        },
        {
          "output_type": "execute_result",
          "data": {
            "text/plain": [
              "   x0_car  x0_credit_card  x0_debt_consolidation  x0_home_improvement  \\\n",
              "0     0.0             0.0                    0.0                  0.0   \n",
              "1     0.0             0.0                    1.0                  0.0   \n",
              "2     0.0             0.0                    1.0                  0.0   \n",
              "3     0.0             0.0                    0.0                  1.0   \n",
              "4     0.0             1.0                    0.0                  0.0   \n",
              "\n",
              "   x0_house  x0_major_purchase  x0_medical  x0_moving  x0_other  \\\n",
              "0       0.0                0.0         0.0        0.0       1.0   \n",
              "1       0.0                0.0         0.0        0.0       0.0   \n",
              "2       0.0                0.0         0.0        0.0       0.0   \n",
              "3       0.0                0.0         0.0        0.0       0.0   \n",
              "4       0.0                0.0         0.0        0.0       0.0   \n",
              "\n",
              "   x0_renewable_energy  x0_small_business  x0_vacation  x0_wedding  \n",
              "0                  0.0                0.0          0.0         0.0  \n",
              "1                  0.0                0.0          0.0         0.0  \n",
              "2                  0.0                0.0          0.0         0.0  \n",
              "3                  0.0                0.0          0.0         0.0  \n",
              "4                  0.0                0.0          0.0         0.0  "
            ],
            "text/html": [
              "\n",
              "  <div id=\"df-12629b2d-2c13-43d0-8a82-bf8573211be6\">\n",
              "    <div class=\"colab-df-container\">\n",
              "      <div>\n",
              "<style scoped>\n",
              "    .dataframe tbody tr th:only-of-type {\n",
              "        vertical-align: middle;\n",
              "    }\n",
              "\n",
              "    .dataframe tbody tr th {\n",
              "        vertical-align: top;\n",
              "    }\n",
              "\n",
              "    .dataframe thead th {\n",
              "        text-align: right;\n",
              "    }\n",
              "</style>\n",
              "<table border=\"1\" class=\"dataframe\">\n",
              "  <thead>\n",
              "    <tr style=\"text-align: right;\">\n",
              "      <th></th>\n",
              "      <th>x0_car</th>\n",
              "      <th>x0_credit_card</th>\n",
              "      <th>x0_debt_consolidation</th>\n",
              "      <th>x0_home_improvement</th>\n",
              "      <th>x0_house</th>\n",
              "      <th>x0_major_purchase</th>\n",
              "      <th>x0_medical</th>\n",
              "      <th>x0_moving</th>\n",
              "      <th>x0_other</th>\n",
              "      <th>x0_renewable_energy</th>\n",
              "      <th>x0_small_business</th>\n",
              "      <th>x0_vacation</th>\n",
              "      <th>x0_wedding</th>\n",
              "    </tr>\n",
              "  </thead>\n",
              "  <tbody>\n",
              "    <tr>\n",
              "      <th>0</th>\n",
              "      <td>0.0</td>\n",
              "      <td>0.0</td>\n",
              "      <td>0.0</td>\n",
              "      <td>0.0</td>\n",
              "      <td>0.0</td>\n",
              "      <td>0.0</td>\n",
              "      <td>0.0</td>\n",
              "      <td>0.0</td>\n",
              "      <td>1.0</td>\n",
              "      <td>0.0</td>\n",
              "      <td>0.0</td>\n",
              "      <td>0.0</td>\n",
              "      <td>0.0</td>\n",
              "    </tr>\n",
              "    <tr>\n",
              "      <th>1</th>\n",
              "      <td>0.0</td>\n",
              "      <td>0.0</td>\n",
              "      <td>1.0</td>\n",
              "      <td>0.0</td>\n",
              "      <td>0.0</td>\n",
              "      <td>0.0</td>\n",
              "      <td>0.0</td>\n",
              "      <td>0.0</td>\n",
              "      <td>0.0</td>\n",
              "      <td>0.0</td>\n",
              "      <td>0.0</td>\n",
              "      <td>0.0</td>\n",
              "      <td>0.0</td>\n",
              "    </tr>\n",
              "    <tr>\n",
              "      <th>2</th>\n",
              "      <td>0.0</td>\n",
              "      <td>0.0</td>\n",
              "      <td>1.0</td>\n",
              "      <td>0.0</td>\n",
              "      <td>0.0</td>\n",
              "      <td>0.0</td>\n",
              "      <td>0.0</td>\n",
              "      <td>0.0</td>\n",
              "      <td>0.0</td>\n",
              "      <td>0.0</td>\n",
              "      <td>0.0</td>\n",
              "      <td>0.0</td>\n",
              "      <td>0.0</td>\n",
              "    </tr>\n",
              "    <tr>\n",
              "      <th>3</th>\n",
              "      <td>0.0</td>\n",
              "      <td>0.0</td>\n",
              "      <td>0.0</td>\n",
              "      <td>1.0</td>\n",
              "      <td>0.0</td>\n",
              "      <td>0.0</td>\n",
              "      <td>0.0</td>\n",
              "      <td>0.0</td>\n",
              "      <td>0.0</td>\n",
              "      <td>0.0</td>\n",
              "      <td>0.0</td>\n",
              "      <td>0.0</td>\n",
              "      <td>0.0</td>\n",
              "    </tr>\n",
              "    <tr>\n",
              "      <th>4</th>\n",
              "      <td>0.0</td>\n",
              "      <td>1.0</td>\n",
              "      <td>0.0</td>\n",
              "      <td>0.0</td>\n",
              "      <td>0.0</td>\n",
              "      <td>0.0</td>\n",
              "      <td>0.0</td>\n",
              "      <td>0.0</td>\n",
              "      <td>0.0</td>\n",
              "      <td>0.0</td>\n",
              "      <td>0.0</td>\n",
              "      <td>0.0</td>\n",
              "      <td>0.0</td>\n",
              "    </tr>\n",
              "  </tbody>\n",
              "</table>\n",
              "</div>\n",
              "      <button class=\"colab-df-convert\" onclick=\"convertToInteractive('df-12629b2d-2c13-43d0-8a82-bf8573211be6')\"\n",
              "              title=\"Convert this dataframe to an interactive table.\"\n",
              "              style=\"display:none;\">\n",
              "        \n",
              "  <svg xmlns=\"http://www.w3.org/2000/svg\" height=\"24px\"viewBox=\"0 0 24 24\"\n",
              "       width=\"24px\">\n",
              "    <path d=\"M0 0h24v24H0V0z\" fill=\"none\"/>\n",
              "    <path d=\"M18.56 5.44l.94 2.06.94-2.06 2.06-.94-2.06-.94-.94-2.06-.94 2.06-2.06.94zm-11 1L8.5 8.5l.94-2.06 2.06-.94-2.06-.94L8.5 2.5l-.94 2.06-2.06.94zm10 10l.94 2.06.94-2.06 2.06-.94-2.06-.94-.94-2.06-.94 2.06-2.06.94z\"/><path d=\"M17.41 7.96l-1.37-1.37c-.4-.4-.92-.59-1.43-.59-.52 0-1.04.2-1.43.59L10.3 9.45l-7.72 7.72c-.78.78-.78 2.05 0 2.83L4 21.41c.39.39.9.59 1.41.59.51 0 1.02-.2 1.41-.59l7.78-7.78 2.81-2.81c.8-.78.8-2.07 0-2.86zM5.41 20L4 18.59l7.72-7.72 1.47 1.35L5.41 20z\"/>\n",
              "  </svg>\n",
              "      </button>\n",
              "      \n",
              "  <style>\n",
              "    .colab-df-container {\n",
              "      display:flex;\n",
              "      flex-wrap:wrap;\n",
              "      gap: 12px;\n",
              "    }\n",
              "\n",
              "    .colab-df-convert {\n",
              "      background-color: #E8F0FE;\n",
              "      border: none;\n",
              "      border-radius: 50%;\n",
              "      cursor: pointer;\n",
              "      display: none;\n",
              "      fill: #1967D2;\n",
              "      height: 32px;\n",
              "      padding: 0 0 0 0;\n",
              "      width: 32px;\n",
              "    }\n",
              "\n",
              "    .colab-df-convert:hover {\n",
              "      background-color: #E2EBFA;\n",
              "      box-shadow: 0px 1px 2px rgba(60, 64, 67, 0.3), 0px 1px 3px 1px rgba(60, 64, 67, 0.15);\n",
              "      fill: #174EA6;\n",
              "    }\n",
              "\n",
              "    [theme=dark] .colab-df-convert {\n",
              "      background-color: #3B4455;\n",
              "      fill: #D2E3FC;\n",
              "    }\n",
              "\n",
              "    [theme=dark] .colab-df-convert:hover {\n",
              "      background-color: #434B5C;\n",
              "      box-shadow: 0px 1px 3px 1px rgba(0, 0, 0, 0.15);\n",
              "      filter: drop-shadow(0px 1px 2px rgba(0, 0, 0, 0.3));\n",
              "      fill: #FFFFFF;\n",
              "    }\n",
              "  </style>\n",
              "\n",
              "      <script>\n",
              "        const buttonEl =\n",
              "          document.querySelector('#df-12629b2d-2c13-43d0-8a82-bf8573211be6 button.colab-df-convert');\n",
              "        buttonEl.style.display =\n",
              "          google.colab.kernel.accessAllowed ? 'block' : 'none';\n",
              "\n",
              "        async function convertToInteractive(key) {\n",
              "          const element = document.querySelector('#df-12629b2d-2c13-43d0-8a82-bf8573211be6');\n",
              "          const dataTable =\n",
              "            await google.colab.kernel.invokeFunction('convertToInteractive',\n",
              "                                                     [key], {});\n",
              "          if (!dataTable) return;\n",
              "\n",
              "          const docLinkHtml = 'Like what you see? Visit the ' +\n",
              "            '<a target=\"_blank\" href=https://colab.research.google.com/notebooks/data_table.ipynb>data table notebook</a>'\n",
              "            + ' to learn more about interactive tables.';\n",
              "          element.innerHTML = '';\n",
              "          dataTable['output_type'] = 'display_data';\n",
              "          await google.colab.output.renderOutput(dataTable, element);\n",
              "          const docLink = document.createElement('div');\n",
              "          docLink.innerHTML = docLinkHtml;\n",
              "          element.appendChild(docLink);\n",
              "        }\n",
              "      </script>\n",
              "    </div>\n",
              "  </div>\n",
              "  "
            ]
          },
          "metadata": {},
          "execution_count": 1960
        }
      ]
    },
    {
      "cell_type": "code",
      "source": [
        "data_train[a.columns] = a.values\n",
        "data_train.columns"
      ],
      "metadata": {
        "colab": {
          "base_uri": "https://localhost:8080/"
        },
        "id": "sJWFr5xS9SBS",
        "outputId": "af4f7ece-30a7-4527-9f86-404e57670702"
      },
      "execution_count": 1961,
      "outputs": [
        {
          "output_type": "execute_result",
          "data": {
            "text/plain": [
              "Index(['loan_amnt', 'funded_amnt', 'term', 'int_rate', 'installment',\n",
              "       'sub_grade', 'annual_inc', 'purpose', 'dti', 'earliest_cr_line',\n",
              "       'fico_range_low', 'fico_range_high', 'open_acc', 'revol_util',\n",
              "       'initial_list_status', 'last_pymnt_amnt', 'acc_open_past_24mths',\n",
              "       'avg_cur_bal', 'bc_open_to_buy', 'bc_util', 'mo_sin_old_rev_tl_op',\n",
              "       'mo_sin_rcnt_rev_tl_op', 'mort_acc', 'num_actv_rev_tl', 'charged_off',\n",
              "       'x0_MORTGAGE', 'x0_RENT', 'x0_Not Verified', 'x0_Source Verified',\n",
              "       'x0_Verified', 'x0_car', 'x0_credit_card', 'x0_debt_consolidation',\n",
              "       'x0_home_improvement', 'x0_house', 'x0_major_purchase', 'x0_medical',\n",
              "       'x0_moving', 'x0_other', 'x0_renewable_energy', 'x0_small_business',\n",
              "       'x0_vacation', 'x0_wedding'],\n",
              "      dtype='object')"
            ]
          },
          "metadata": {},
          "execution_count": 1961
        }
      ]
    },
    {
      "cell_type": "code",
      "source": [
        "dummies_purpose = [f'x0_{v}' for v in dummies_purpose]\n",
        "dummies_purpose"
      ],
      "metadata": {
        "colab": {
          "base_uri": "https://localhost:8080/"
        },
        "id": "9cRWX_mr-Lb6",
        "outputId": "2b9b298f-9c65-4835-9a2c-b0250f7a2e6f"
      },
      "execution_count": 1962,
      "outputs": [
        {
          "output_type": "execute_result",
          "data": {
            "text/plain": [
              "['x0_home_improvement',\n",
              " 'x0_house',\n",
              " 'x0_major_purchase',\n",
              " 'x0_medical',\n",
              " 'x0_moving',\n",
              " 'x0_other',\n",
              " 'x0_renewable_energy',\n",
              " 'x0_small_business',\n",
              " 'x0_vacation',\n",
              " 'x0_wedding']"
            ]
          },
          "metadata": {},
          "execution_count": 1962
        }
      ]
    },
    {
      "cell_type": "code",
      "source": [
        "data_train.drop(columns=dummies_purpose + ['purpose'], inplace=True)\n",
        "data_train.columns"
      ],
      "metadata": {
        "colab": {
          "base_uri": "https://localhost:8080/"
        },
        "id": "0pScXozn-e_2",
        "outputId": "40ef7139-10d9-40de-b5f4-f26cadf2eda8"
      },
      "execution_count": 1963,
      "outputs": [
        {
          "output_type": "execute_result",
          "data": {
            "text/plain": [
              "Index(['loan_amnt', 'funded_amnt', 'term', 'int_rate', 'installment',\n",
              "       'sub_grade', 'annual_inc', 'dti', 'earliest_cr_line', 'fico_range_low',\n",
              "       'fico_range_high', 'open_acc', 'revol_util', 'initial_list_status',\n",
              "       'last_pymnt_amnt', 'acc_open_past_24mths', 'avg_cur_bal',\n",
              "       'bc_open_to_buy', 'bc_util', 'mo_sin_old_rev_tl_op',\n",
              "       'mo_sin_rcnt_rev_tl_op', 'mort_acc', 'num_actv_rev_tl', 'charged_off',\n",
              "       'x0_MORTGAGE', 'x0_RENT', 'x0_Not Verified', 'x0_Source Verified',\n",
              "       'x0_Verified', 'x0_car', 'x0_credit_card', 'x0_debt_consolidation'],\n",
              "      dtype='object')"
            ]
          },
          "metadata": {},
          "execution_count": 1963
        }
      ]
    },
    {
      "cell_type": "code",
      "source": [
        "b = enc_p.transform(X=data_test[['purpose']])\n",
        "b = pd.DataFrame(b)\n",
        "b.columns = enc_p.get_feature_names()\n"
      ],
      "metadata": {
        "colab": {
          "base_uri": "https://localhost:8080/"
        },
        "id": "6DYW_h1b-sb6",
        "outputId": "693d61d0-c7bd-4938-a833-8a4c3fa84ac7"
      },
      "execution_count": 1964,
      "outputs": [
        {
          "output_type": "stream",
          "name": "stderr",
          "text": [
            "/usr/local/lib/python3.8/dist-packages/sklearn/utils/deprecation.py:87: FutureWarning: Function get_feature_names is deprecated; get_feature_names is deprecated in 1.0 and will be removed in 1.2. Please use get_feature_names_out instead.\n",
            "  warnings.warn(msg, category=FutureWarning)\n"
          ]
        }
      ]
    },
    {
      "cell_type": "code",
      "source": [
        "data_test[b.columns] = b.values\n",
        "data_test.drop(columns=dummies_purpose + ['purpose'], inplace=True)\n",
        "data_test.columns"
      ],
      "metadata": {
        "colab": {
          "base_uri": "https://localhost:8080/"
        },
        "id": "ZOIg1MDi-zMs",
        "outputId": "2acc6bd5-b8c7-47bc-aecc-b5a07a4481a5"
      },
      "execution_count": 1965,
      "outputs": [
        {
          "output_type": "execute_result",
          "data": {
            "text/plain": [
              "Index(['loan_amnt', 'funded_amnt', 'term', 'int_rate', 'installment',\n",
              "       'sub_grade', 'annual_inc', 'dti', 'earliest_cr_line', 'fico_range_low',\n",
              "       'fico_range_high', 'open_acc', 'revol_util', 'initial_list_status',\n",
              "       'last_pymnt_amnt', 'acc_open_past_24mths', 'avg_cur_bal',\n",
              "       'bc_open_to_buy', 'bc_util', 'mo_sin_old_rev_tl_op',\n",
              "       'mo_sin_rcnt_rev_tl_op', 'mort_acc', 'num_actv_rev_tl', 'charged_off',\n",
              "       'x0_MORTGAGE', 'x0_RENT', 'x0_Not Verified', 'x0_Source Verified',\n",
              "       'x0_Verified', 'x0_car', 'x0_credit_card', 'x0_debt_consolidation'],\n",
              "      dtype='object')"
            ]
          },
          "metadata": {},
          "execution_count": 1965
        }
      ]
    },
    {
      "cell_type": "markdown",
      "metadata": {
        "id": "Ob0G98qL9XUa"
      },
      "source": [
        "###### earliest_cr_line"
      ]
    },
    {
      "cell_type": "code",
      "metadata": {
        "colab": {
          "base_uri": "https://localhost:8080/"
        },
        "id": "_qA7DRqw-Y3d",
        "outputId": "36ba4ad7-29c5-42d0-fc14-760fd101d146"
      },
      "source": [
        "data_train['earliest_cr_line'].head(3)"
      ],
      "execution_count": 1966,
      "outputs": [
        {
          "output_type": "execute_result",
          "data": {
            "text/plain": [
              "62394    May-1993\n",
              "2333     Oct-2000\n",
              "91099    Nov-1997\n",
              "Name: earliest_cr_line, dtype: object"
            ]
          },
          "metadata": {},
          "execution_count": 1966
        }
      ]
    },
    {
      "cell_type": "code",
      "metadata": {
        "id": "jV25Zvvw9dzK"
      },
      "source": [
        "# Convirtamos sus valores a numerico\n",
        "data_train['earliest_cr_line'] = data_train['earliest_cr_line'].apply(lambda x: int(x[4:]))"
      ],
      "execution_count": 1967,
      "outputs": []
    },
    {
      "cell_type": "code",
      "source": [
        "# Convirtamos sus valores a numerico\n",
        "data_test['earliest_cr_line'] = data_test['earliest_cr_line'].apply(lambda x: int(x[4:]))"
      ],
      "metadata": {
        "id": "jlY02RXjNR1M"
      },
      "execution_count": 1968,
      "outputs": []
    },
    {
      "cell_type": "code",
      "metadata": {
        "colab": {
          "base_uri": "https://localhost:8080/",
          "height": 81
        },
        "id": "2RNUjfpP-jBw",
        "outputId": "7608f577-1a49-49df-f914-f2822be49bba"
      },
      "source": [
        "dataset[['earliest_cr_line', 'charged_off']].corr()"
      ],
      "execution_count": 1969,
      "outputs": [
        {
          "output_type": "execute_result",
          "data": {
            "text/plain": [
              "             charged_off\n",
              "charged_off          1.0"
            ],
            "text/html": [
              "\n",
              "  <div id=\"df-39649102-8c79-402a-8890-44786b04ddb7\">\n",
              "    <div class=\"colab-df-container\">\n",
              "      <div>\n",
              "<style scoped>\n",
              "    .dataframe tbody tr th:only-of-type {\n",
              "        vertical-align: middle;\n",
              "    }\n",
              "\n",
              "    .dataframe tbody tr th {\n",
              "        vertical-align: top;\n",
              "    }\n",
              "\n",
              "    .dataframe thead th {\n",
              "        text-align: right;\n",
              "    }\n",
              "</style>\n",
              "<table border=\"1\" class=\"dataframe\">\n",
              "  <thead>\n",
              "    <tr style=\"text-align: right;\">\n",
              "      <th></th>\n",
              "      <th>charged_off</th>\n",
              "    </tr>\n",
              "  </thead>\n",
              "  <tbody>\n",
              "    <tr>\n",
              "      <th>charged_off</th>\n",
              "      <td>1.0</td>\n",
              "    </tr>\n",
              "  </tbody>\n",
              "</table>\n",
              "</div>\n",
              "      <button class=\"colab-df-convert\" onclick=\"convertToInteractive('df-39649102-8c79-402a-8890-44786b04ddb7')\"\n",
              "              title=\"Convert this dataframe to an interactive table.\"\n",
              "              style=\"display:none;\">\n",
              "        \n",
              "  <svg xmlns=\"http://www.w3.org/2000/svg\" height=\"24px\"viewBox=\"0 0 24 24\"\n",
              "       width=\"24px\">\n",
              "    <path d=\"M0 0h24v24H0V0z\" fill=\"none\"/>\n",
              "    <path d=\"M18.56 5.44l.94 2.06.94-2.06 2.06-.94-2.06-.94-.94-2.06-.94 2.06-2.06.94zm-11 1L8.5 8.5l.94-2.06 2.06-.94-2.06-.94L8.5 2.5l-.94 2.06-2.06.94zm10 10l.94 2.06.94-2.06 2.06-.94-2.06-.94-.94-2.06-.94 2.06-2.06.94z\"/><path d=\"M17.41 7.96l-1.37-1.37c-.4-.4-.92-.59-1.43-.59-.52 0-1.04.2-1.43.59L10.3 9.45l-7.72 7.72c-.78.78-.78 2.05 0 2.83L4 21.41c.39.39.9.59 1.41.59.51 0 1.02-.2 1.41-.59l7.78-7.78 2.81-2.81c.8-.78.8-2.07 0-2.86zM5.41 20L4 18.59l7.72-7.72 1.47 1.35L5.41 20z\"/>\n",
              "  </svg>\n",
              "      </button>\n",
              "      \n",
              "  <style>\n",
              "    .colab-df-container {\n",
              "      display:flex;\n",
              "      flex-wrap:wrap;\n",
              "      gap: 12px;\n",
              "    }\n",
              "\n",
              "    .colab-df-convert {\n",
              "      background-color: #E8F0FE;\n",
              "      border: none;\n",
              "      border-radius: 50%;\n",
              "      cursor: pointer;\n",
              "      display: none;\n",
              "      fill: #1967D2;\n",
              "      height: 32px;\n",
              "      padding: 0 0 0 0;\n",
              "      width: 32px;\n",
              "    }\n",
              "\n",
              "    .colab-df-convert:hover {\n",
              "      background-color: #E2EBFA;\n",
              "      box-shadow: 0px 1px 2px rgba(60, 64, 67, 0.3), 0px 1px 3px 1px rgba(60, 64, 67, 0.15);\n",
              "      fill: #174EA6;\n",
              "    }\n",
              "\n",
              "    [theme=dark] .colab-df-convert {\n",
              "      background-color: #3B4455;\n",
              "      fill: #D2E3FC;\n",
              "    }\n",
              "\n",
              "    [theme=dark] .colab-df-convert:hover {\n",
              "      background-color: #434B5C;\n",
              "      box-shadow: 0px 1px 3px 1px rgba(0, 0, 0, 0.15);\n",
              "      filter: drop-shadow(0px 1px 2px rgba(0, 0, 0, 0.3));\n",
              "      fill: #FFFFFF;\n",
              "    }\n",
              "  </style>\n",
              "\n",
              "      <script>\n",
              "        const buttonEl =\n",
              "          document.querySelector('#df-39649102-8c79-402a-8890-44786b04ddb7 button.colab-df-convert');\n",
              "        buttonEl.style.display =\n",
              "          google.colab.kernel.accessAllowed ? 'block' : 'none';\n",
              "\n",
              "        async function convertToInteractive(key) {\n",
              "          const element = document.querySelector('#df-39649102-8c79-402a-8890-44786b04ddb7');\n",
              "          const dataTable =\n",
              "            await google.colab.kernel.invokeFunction('convertToInteractive',\n",
              "                                                     [key], {});\n",
              "          if (!dataTable) return;\n",
              "\n",
              "          const docLinkHtml = 'Like what you see? Visit the ' +\n",
              "            '<a target=\"_blank\" href=https://colab.research.google.com/notebooks/data_table.ipynb>data table notebook</a>'\n",
              "            + ' to learn more about interactive tables.';\n",
              "          element.innerHTML = '';\n",
              "          dataTable['output_type'] = 'display_data';\n",
              "          await google.colab.output.renderOutput(dataTable, element);\n",
              "          const docLink = document.createElement('div');\n",
              "          docLink.innerHTML = docLinkHtml;\n",
              "          element.appendChild(docLink);\n",
              "        }\n",
              "      </script>\n",
              "    </div>\n",
              "  </div>\n",
              "  "
            ]
          },
          "metadata": {},
          "execution_count": 1969
        }
      ]
    },
    {
      "cell_type": "markdown",
      "metadata": {
        "id": "hXyy_mPU-2Lb"
      },
      "source": [
        "La correlacion no es la mejor, pero podemos dejarla."
      ]
    },
    {
      "cell_type": "markdown",
      "metadata": {
        "id": "cZm72Kog_zGa"
      },
      "source": [
        "###### initial_list_status"
      ]
    },
    {
      "cell_type": "code",
      "metadata": {
        "colab": {
          "base_uri": "https://localhost:8080/"
        },
        "id": "eTErDIam_1GF",
        "outputId": "ca7fea39-c50e-4082-c112-949b77567481"
      },
      "source": [
        "data_train['initial_list_status'].unique()"
      ],
      "execution_count": 1970,
      "outputs": [
        {
          "output_type": "execute_result",
          "data": {
            "text/plain": [
              "array(['w', 'f'], dtype=object)"
            ]
          },
          "metadata": {},
          "execution_count": 1970
        }
      ]
    },
    {
      "cell_type": "code",
      "metadata": {
        "colab": {
          "base_uri": "https://localhost:8080/",
          "height": 112
        },
        "id": "_7-KpaD1AAdW",
        "outputId": "f986eee9-ddb4-4ff2-c9a2-a7437b56cbfe"
      },
      "source": [
        "pd.get_dummies(data_train[['initial_list_status', 'charged_off']], \n",
        "               columns=['initial_list_status'], \n",
        "               drop_first=True).corr()"
      ],
      "execution_count": 1971,
      "outputs": [
        {
          "output_type": "execute_result",
          "data": {
            "text/plain": [
              "                       charged_off  initial_list_status_w\n",
              "charged_off               1.000000               0.042184\n",
              "initial_list_status_w     0.042184               1.000000"
            ],
            "text/html": [
              "\n",
              "  <div id=\"df-a9bd74f5-7055-4604-9427-8c4e0f6df853\">\n",
              "    <div class=\"colab-df-container\">\n",
              "      <div>\n",
              "<style scoped>\n",
              "    .dataframe tbody tr th:only-of-type {\n",
              "        vertical-align: middle;\n",
              "    }\n",
              "\n",
              "    .dataframe tbody tr th {\n",
              "        vertical-align: top;\n",
              "    }\n",
              "\n",
              "    .dataframe thead th {\n",
              "        text-align: right;\n",
              "    }\n",
              "</style>\n",
              "<table border=\"1\" class=\"dataframe\">\n",
              "  <thead>\n",
              "    <tr style=\"text-align: right;\">\n",
              "      <th></th>\n",
              "      <th>charged_off</th>\n",
              "      <th>initial_list_status_w</th>\n",
              "    </tr>\n",
              "  </thead>\n",
              "  <tbody>\n",
              "    <tr>\n",
              "      <th>charged_off</th>\n",
              "      <td>1.000000</td>\n",
              "      <td>0.042184</td>\n",
              "    </tr>\n",
              "    <tr>\n",
              "      <th>initial_list_status_w</th>\n",
              "      <td>0.042184</td>\n",
              "      <td>1.000000</td>\n",
              "    </tr>\n",
              "  </tbody>\n",
              "</table>\n",
              "</div>\n",
              "      <button class=\"colab-df-convert\" onclick=\"convertToInteractive('df-a9bd74f5-7055-4604-9427-8c4e0f6df853')\"\n",
              "              title=\"Convert this dataframe to an interactive table.\"\n",
              "              style=\"display:none;\">\n",
              "        \n",
              "  <svg xmlns=\"http://www.w3.org/2000/svg\" height=\"24px\"viewBox=\"0 0 24 24\"\n",
              "       width=\"24px\">\n",
              "    <path d=\"M0 0h24v24H0V0z\" fill=\"none\"/>\n",
              "    <path d=\"M18.56 5.44l.94 2.06.94-2.06 2.06-.94-2.06-.94-.94-2.06-.94 2.06-2.06.94zm-11 1L8.5 8.5l.94-2.06 2.06-.94-2.06-.94L8.5 2.5l-.94 2.06-2.06.94zm10 10l.94 2.06.94-2.06 2.06-.94-2.06-.94-.94-2.06-.94 2.06-2.06.94z\"/><path d=\"M17.41 7.96l-1.37-1.37c-.4-.4-.92-.59-1.43-.59-.52 0-1.04.2-1.43.59L10.3 9.45l-7.72 7.72c-.78.78-.78 2.05 0 2.83L4 21.41c.39.39.9.59 1.41.59.51 0 1.02-.2 1.41-.59l7.78-7.78 2.81-2.81c.8-.78.8-2.07 0-2.86zM5.41 20L4 18.59l7.72-7.72 1.47 1.35L5.41 20z\"/>\n",
              "  </svg>\n",
              "      </button>\n",
              "      \n",
              "  <style>\n",
              "    .colab-df-container {\n",
              "      display:flex;\n",
              "      flex-wrap:wrap;\n",
              "      gap: 12px;\n",
              "    }\n",
              "\n",
              "    .colab-df-convert {\n",
              "      background-color: #E8F0FE;\n",
              "      border: none;\n",
              "      border-radius: 50%;\n",
              "      cursor: pointer;\n",
              "      display: none;\n",
              "      fill: #1967D2;\n",
              "      height: 32px;\n",
              "      padding: 0 0 0 0;\n",
              "      width: 32px;\n",
              "    }\n",
              "\n",
              "    .colab-df-convert:hover {\n",
              "      background-color: #E2EBFA;\n",
              "      box-shadow: 0px 1px 2px rgba(60, 64, 67, 0.3), 0px 1px 3px 1px rgba(60, 64, 67, 0.15);\n",
              "      fill: #174EA6;\n",
              "    }\n",
              "\n",
              "    [theme=dark] .colab-df-convert {\n",
              "      background-color: #3B4455;\n",
              "      fill: #D2E3FC;\n",
              "    }\n",
              "\n",
              "    [theme=dark] .colab-df-convert:hover {\n",
              "      background-color: #434B5C;\n",
              "      box-shadow: 0px 1px 3px 1px rgba(0, 0, 0, 0.15);\n",
              "      filter: drop-shadow(0px 1px 2px rgba(0, 0, 0, 0.3));\n",
              "      fill: #FFFFFF;\n",
              "    }\n",
              "  </style>\n",
              "\n",
              "      <script>\n",
              "        const buttonEl =\n",
              "          document.querySelector('#df-a9bd74f5-7055-4604-9427-8c4e0f6df853 button.colab-df-convert');\n",
              "        buttonEl.style.display =\n",
              "          google.colab.kernel.accessAllowed ? 'block' : 'none';\n",
              "\n",
              "        async function convertToInteractive(key) {\n",
              "          const element = document.querySelector('#df-a9bd74f5-7055-4604-9427-8c4e0f6df853');\n",
              "          const dataTable =\n",
              "            await google.colab.kernel.invokeFunction('convertToInteractive',\n",
              "                                                     [key], {});\n",
              "          if (!dataTable) return;\n",
              "\n",
              "          const docLinkHtml = 'Like what you see? Visit the ' +\n",
              "            '<a target=\"_blank\" href=https://colab.research.google.com/notebooks/data_table.ipynb>data table notebook</a>'\n",
              "            + ' to learn more about interactive tables.';\n",
              "          element.innerHTML = '';\n",
              "          dataTable['output_type'] = 'display_data';\n",
              "          await google.colab.output.renderOutput(dataTable, element);\n",
              "          const docLink = document.createElement('div');\n",
              "          docLink.innerHTML = docLinkHtml;\n",
              "          element.appendChild(docLink);\n",
              "        }\n",
              "      </script>\n",
              "    </div>\n",
              "  </div>\n",
              "  "
            ]
          },
          "metadata": {},
          "execution_count": 1971
        }
      ]
    },
    {
      "cell_type": "markdown",
      "metadata": {
        "id": "IF-UgPxpAPEH"
      },
      "source": [
        "La correlacion no es tan buena, no sabemos que es. Mejor hay que quitarla."
      ]
    },
    {
      "cell_type": "code",
      "metadata": {
        "id": "Pd-Ck3GaARd8"
      },
      "source": [
        "data_train.drop(columns=['initial_list_status'], inplace=True)\n",
        "data_test.drop(columns=['initial_list_status'], inplace=True)\n"
      ],
      "execution_count": 1972,
      "outputs": []
    },
    {
      "cell_type": "markdown",
      "metadata": {
        "id": "ZMjOnR0pAiks"
      },
      "source": [
        "#### Aprendizaje"
      ]
    },
    {
      "cell_type": "markdown",
      "metadata": {
        "id": "jo3wDJ81AqqZ"
      },
      "source": [
        "Ahora hemos terminado de convertir nuestras variables categoricas a numericas, de tal forma que nuestros algoritmos podran leerlas. Pasaremos a analizarlas en conjunto con nuestras variables numericas."
      ]
    },
    {
      "cell_type": "markdown",
      "metadata": {
        "id": "TaCVeziDA6KS"
      },
      "source": [
        "### Seleccion de Features Numericas"
      ]
    },
    {
      "cell_type": "markdown",
      "metadata": {
        "id": "DVjtHcZhDEpP"
      },
      "source": [
        "#### Feature with Feature Correlation"
      ]
    },
    {
      "cell_type": "markdown",
      "metadata": {
        "id": "0RmdlzYLDNNZ"
      },
      "source": [
        "Eliminemos las variables explicativas que esten muy relacioandas entre si. La idea es que es informacion redundante."
      ]
    },
    {
      "cell_type": "code",
      "metadata": {
        "colab": {
          "base_uri": "https://localhost:8080/",
          "height": 1000
        },
        "id": "M51l81N0B7I5",
        "outputId": "80732fba-1919-4336-fb41-59f9a17df2be"
      },
      "source": [
        "feature_correlation = data_train.loc[:, data_train.columns != 'charged_off'].corr()\n",
        "feature_correlation"
      ],
      "execution_count": 1973,
      "outputs": [
        {
          "output_type": "execute_result",
          "data": {
            "text/plain": [
              "                       loan_amnt  funded_amnt      term  int_rate  \\\n",
              "loan_amnt               1.000000     1.000000  0.367330  0.080988   \n",
              "funded_amnt             1.000000     1.000000  0.367330  0.080988   \n",
              "term                    0.367330     0.367330  1.000000  0.411773   \n",
              "int_rate                0.080988     0.080988  0.411773  1.000000   \n",
              "installment             0.956671     0.956671  0.128861  0.077416   \n",
              "sub_grade               0.084632     0.084632  0.415773  0.996027   \n",
              "annual_inc              0.364180     0.364180  0.047040 -0.112137   \n",
              "dti                     0.003323     0.003323  0.069648  0.200440   \n",
              "earliest_cr_line       -0.171954    -0.171954 -0.026648  0.135515   \n",
              "fico_range_low          0.145091     0.145091 -0.001096 -0.388159   \n",
              "fico_range_high         0.145090     0.145090 -0.001094 -0.388156   \n",
              "open_acc                0.190699     0.190699  0.075728 -0.009142   \n",
              "revol_util              0.112737     0.112737  0.061883  0.207326   \n",
              "last_pymnt_amnt         0.482358     0.482358  0.367130  0.100908   \n",
              "acc_open_past_24mths   -0.003674    -0.003674  0.064919  0.224535   \n",
              "avg_cur_bal             0.250850     0.250850  0.079457 -0.095977   \n",
              "bc_open_to_buy          0.225934     0.225934  0.006230 -0.295851   \n",
              "bc_util                 0.035468     0.035468  0.045139  0.244994   \n",
              "mo_sin_old_rev_tl_op    0.180089     0.180089  0.025219 -0.153741   \n",
              "mo_sin_rcnt_rev_tl_op   0.058502     0.058502 -0.007233 -0.124561   \n",
              "mort_acc                0.243868     0.243868  0.103979 -0.079198   \n",
              "num_actv_rev_tl         0.154709     0.154709  0.046780  0.079715   \n",
              "x0_MORTGAGE             0.200340     0.200340  0.103920 -0.073345   \n",
              "x0_RENT                -0.184593    -0.184593 -0.094412  0.070496   \n",
              "x0_Not Verified        -0.362525    -0.362525 -0.225842 -0.231382   \n",
              "x0_Source Verified      0.124398     0.124398  0.144442  0.036518   \n",
              "x0_Verified             0.246756     0.246756  0.080279  0.204533   \n",
              "x0_car                 -0.056403    -0.056403 -0.020105 -0.003878   \n",
              "x0_credit_card          0.041600     0.041600 -0.039081 -0.215252   \n",
              "x0_debt_consolidation   0.087242     0.087242  0.076591  0.088021   \n",
              "\n",
              "                       installment  sub_grade  annual_inc       dti  \\\n",
              "loan_amnt                 0.956671   0.084632    0.364180  0.003323   \n",
              "funded_amnt               0.956671   0.084632    0.364180  0.003323   \n",
              "term                      0.128861   0.415773    0.047040  0.069648   \n",
              "int_rate                  0.077416   0.996027   -0.112137  0.200440   \n",
              "installment               1.000000   0.079749    0.357650  0.005255   \n",
              "sub_grade                 0.079749   1.000000   -0.111163  0.201212   \n",
              "annual_inc                0.357650  -0.111163    1.000000 -0.205742   \n",
              "dti                       0.005255   0.201212   -0.205742  1.000000   \n",
              "earliest_cr_line         -0.156677   0.135391   -0.159659 -0.028244   \n",
              "fico_range_low            0.104928  -0.386220    0.100960 -0.065152   \n",
              "fico_range_high           0.104926  -0.386218    0.100961 -0.065154   \n",
              "open_acc                  0.179726  -0.009100    0.140609  0.281953   \n",
              "revol_util                0.124114   0.206475    0.044192  0.174926   \n",
              "last_pymnt_amnt           0.396647   0.102403    0.191580 -0.050342   \n",
              "acc_open_past_24mths      0.006427   0.224738    0.041044  0.164808   \n",
              "avg_cur_bal               0.226493  -0.094718    0.360524 -0.138280   \n",
              "bc_open_to_buy            0.197758  -0.293747    0.177166 -0.081291   \n",
              "bc_util                   0.051832   0.244027   -0.009308  0.183026   \n",
              "mo_sin_old_rev_tl_op      0.163853  -0.153409    0.156832  0.029502   \n",
              "mo_sin_rcnt_rev_tl_op     0.047389  -0.123915    0.042262 -0.026150   \n",
              "mort_acc                  0.214369  -0.078305    0.246141 -0.067936   \n",
              "num_actv_rev_tl           0.160913   0.078549    0.070930  0.256998   \n",
              "x0_MORTGAGE               0.172256  -0.072333    0.170615 -0.022721   \n",
              "x0_RENT                  -0.158649   0.069408   -0.151340  0.001110   \n",
              "x0_Not Verified          -0.341596  -0.233982   -0.096553 -0.093154   \n",
              "x0_Source Verified        0.096507   0.037256    0.024963  0.049347   \n",
              "x0_Verified               0.255229   0.206472    0.074682  0.044337   \n",
              "x0_car                   -0.054538  -0.004058   -0.015785 -0.035021   \n",
              "x0_credit_card            0.030441  -0.215662   -0.002058 -0.011282   \n",
              "x0_debt_consolidation     0.085397   0.087591   -0.019312  0.080292   \n",
              "\n",
              "                       earliest_cr_line  fico_range_low  ...  mort_acc  \\\n",
              "loan_amnt                     -0.171954        0.145091  ...  0.243868   \n",
              "funded_amnt                   -0.171954        0.145091  ...  0.243868   \n",
              "term                          -0.026648       -0.001096  ...  0.103979   \n",
              "int_rate                       0.135515       -0.388159  ... -0.079198   \n",
              "installment                   -0.156677        0.104928  ...  0.214369   \n",
              "sub_grade                      0.135391       -0.386220  ... -0.078305   \n",
              "annual_inc                    -0.159659        0.100960  ...  0.246141   \n",
              "dti                           -0.028244       -0.065152  ... -0.067936   \n",
              "earliest_cr_line               1.000000       -0.101459  ... -0.300986   \n",
              "fico_range_low                -0.101459        1.000000  ...  0.092138   \n",
              "fico_range_high               -0.101460        1.000000  ...  0.092138   \n",
              "open_acc                      -0.128303        0.041856  ...  0.114370   \n",
              "revol_util                     0.000529       -0.419259  ...  0.009959   \n",
              "last_pymnt_amnt               -0.064552        0.102318  ...  0.183381   \n",
              "acc_open_past_24mths           0.034972       -0.108980  ...  0.062407   \n",
              "avg_cur_bal                   -0.141046        0.146391  ...  0.449213   \n",
              "bc_open_to_buy                -0.171343        0.507848  ...  0.130014   \n",
              "bc_util                        0.020052       -0.461169  ... -0.016080   \n",
              "mo_sin_old_rev_tl_op          -0.923897        0.117156  ...  0.307249   \n",
              "mo_sin_rcnt_rev_tl_op         -0.052243        0.101307  ...  0.020182   \n",
              "mort_acc                      -0.300986        0.092138  ...  1.000000   \n",
              "num_actv_rev_tl               -0.148398       -0.154297  ...  0.051932   \n",
              "x0_MORTGAGE                   -0.178534        0.116364  ...  0.477444   \n",
              "x0_RENT                        0.214500       -0.127949  ... -0.441860   \n",
              "x0_Not Verified                0.084002        0.051583  ... -0.042551   \n",
              "x0_Source Verified             0.005886       -0.030997  ... -0.017933   \n",
              "x0_Verified                   -0.095257       -0.020522  ...  0.064654   \n",
              "x0_car                         0.022863        0.014540  ... -0.014323   \n",
              "x0_credit_card                -0.005213        0.001953  ... -0.003768   \n",
              "x0_debt_consolidation         -0.007535       -0.032780  ...  0.006725   \n",
              "\n",
              "                       num_actv_rev_tl  x0_MORTGAGE   x0_RENT  \\\n",
              "loan_amnt                     0.154709     0.200340 -0.184593   \n",
              "funded_amnt                   0.154709     0.200340 -0.184593   \n",
              "term                          0.046780     0.103920 -0.094412   \n",
              "int_rate                      0.079715    -0.073345  0.070496   \n",
              "installment                   0.160913     0.172256 -0.158649   \n",
              "sub_grade                     0.078549    -0.072333  0.069408   \n",
              "annual_inc                    0.070930     0.170615 -0.151340   \n",
              "dti                           0.256998    -0.022721  0.001110   \n",
              "earliest_cr_line             -0.148398    -0.178534  0.214500   \n",
              "fico_range_low               -0.154297     0.116364 -0.127949   \n",
              "fico_range_high              -0.154298     0.116364 -0.127949   \n",
              "open_acc                      0.664957     0.120241 -0.116640   \n",
              "revol_util                    0.075953     0.022760  0.003556   \n",
              "last_pymnt_amnt               0.016180     0.148804 -0.136072   \n",
              "acc_open_past_24mths          0.332966     0.060178 -0.058220   \n",
              "avg_cur_bal                  -0.156567     0.448829 -0.415720   \n",
              "bc_open_to_buy                0.123870     0.086257 -0.108303   \n",
              "bc_util                       0.096221     0.001543  0.021873   \n",
              "mo_sin_old_rev_tl_op          0.158342     0.173579 -0.210128   \n",
              "mo_sin_rcnt_rev_tl_op        -0.225572     0.007295 -0.005966   \n",
              "mort_acc                      0.051932     0.477444 -0.441860   \n",
              "num_actv_rev_tl               1.000000     0.066946 -0.074081   \n",
              "x0_MORTGAGE                   0.066946     1.000000 -0.810230   \n",
              "x0_RENT                      -0.074081    -0.810230  1.000000   \n",
              "x0_Not Verified              -0.097094    -0.004686  0.014659   \n",
              "x0_Source Verified           -0.016190    -0.033062  0.027512   \n",
              "x0_Verified                   0.120399     0.041224 -0.045678   \n",
              "x0_car                       -0.036976    -0.022118  0.017964   \n",
              "x0_credit_card                0.039213    -0.016634  0.011023   \n",
              "x0_debt_consolidation         0.049387     0.014250  0.008688   \n",
              "\n",
              "                       x0_Not Verified  x0_Source Verified  x0_Verified  \\\n",
              "loan_amnt                    -0.362525            0.124398     0.246756   \n",
              "funded_amnt                  -0.362525            0.124398     0.246756   \n",
              "term                         -0.225842            0.144442     0.080279   \n",
              "int_rate                     -0.231382            0.036518     0.204533   \n",
              "installment                  -0.341596            0.096507     0.255229   \n",
              "sub_grade                    -0.233982            0.037256     0.206472   \n",
              "annual_inc                   -0.096553            0.024963     0.074682   \n",
              "dti                          -0.093154            0.049347     0.044337   \n",
              "earliest_cr_line              0.084002            0.005886    -0.095257   \n",
              "fico_range_low                0.051583           -0.030997    -0.020522   \n",
              "fico_range_high               0.051581           -0.030998    -0.020520   \n",
              "open_acc                     -0.064517           -0.019667     0.089777   \n",
              "revol_util                   -0.054917            0.041157     0.012904   \n",
              "last_pymnt_amnt              -0.182390            0.059735     0.127273   \n",
              "acc_open_past_24mths         -0.118297           -0.019253     0.146173   \n",
              "avg_cur_bal                  -0.014418           -0.023166     0.040655   \n",
              "bc_open_to_buy               -0.028616           -0.008537     0.039594   \n",
              "bc_util                      -0.035146            0.036185    -0.002560   \n",
              "mo_sin_old_rev_tl_op         -0.081745           -0.008448     0.095680   \n",
              "mo_sin_rcnt_rev_tl_op         0.026859           -0.002854    -0.025261   \n",
              "mort_acc                     -0.042551           -0.017933     0.064654   \n",
              "num_actv_rev_tl              -0.097094           -0.016190     0.120399   \n",
              "x0_MORTGAGE                  -0.004686           -0.033062     0.041224   \n",
              "x0_RENT                       0.014659            0.027512    -0.045678   \n",
              "x0_Not Verified               1.000000           -0.569540    -0.432292   \n",
              "x0_Source Verified           -0.569540            1.000000    -0.494985   \n",
              "x0_Verified                  -0.432292           -0.494985     1.000000   \n",
              "x0_car                        0.029109           -0.016152    -0.013051   \n",
              "x0_credit_card                0.033277           -0.010835    -0.023291   \n",
              "x0_debt_consolidation        -0.048974            0.038051     0.010027   \n",
              "\n",
              "                         x0_car  x0_credit_card  x0_debt_consolidation  \n",
              "loan_amnt             -0.056403        0.041600               0.087242  \n",
              "funded_amnt           -0.056403        0.041600               0.087242  \n",
              "term                  -0.020105       -0.039081               0.076591  \n",
              "int_rate              -0.003878       -0.215252               0.088021  \n",
              "installment           -0.054538        0.030441               0.085397  \n",
              "sub_grade             -0.004058       -0.215662               0.087591  \n",
              "annual_inc            -0.015785       -0.002058              -0.019312  \n",
              "dti                   -0.035021       -0.011282               0.080292  \n",
              "earliest_cr_line       0.022863       -0.005213              -0.007535  \n",
              "fico_range_low         0.014540        0.001953              -0.032780  \n",
              "fico_range_high        0.014540        0.001951              -0.032781  \n",
              "open_acc              -0.031295        0.012366               0.047743  \n",
              "revol_util            -0.039842        0.065525               0.025106  \n",
              "last_pymnt_amnt       -0.021413       -0.016932               0.070132  \n",
              "acc_open_past_24mths  -0.014667       -0.054929               0.058422  \n",
              "avg_cur_bal           -0.009488       -0.001059              -0.023911  \n",
              "bc_open_to_buy        -0.000202        0.035518              -0.026438  \n",
              "bc_util               -0.038208        0.049832               0.037288  \n",
              "mo_sin_old_rev_tl_op  -0.023763        0.011560               0.007082  \n",
              "mo_sin_rcnt_rev_tl_op  0.003346        0.014525              -0.026295  \n",
              "mort_acc              -0.014323       -0.003768               0.006725  \n",
              "num_actv_rev_tl       -0.036976        0.039213               0.049387  \n",
              "x0_MORTGAGE           -0.022118       -0.016634               0.014250  \n",
              "x0_RENT                0.017964        0.011023               0.008688  \n",
              "x0_Not Verified        0.029109        0.033277              -0.048974  \n",
              "x0_Source Verified    -0.016152       -0.010835               0.038051  \n",
              "x0_Verified           -0.013051       -0.023291               0.010027  \n",
              "x0_car                 1.000000       -0.049244              -0.117035  \n",
              "x0_credit_card        -0.049244        1.000000              -0.673115  \n",
              "x0_debt_consolidation -0.117035       -0.673115               1.000000  \n",
              "\n",
              "[30 rows x 30 columns]"
            ],
            "text/html": [
              "\n",
              "  <div id=\"df-5f9dabf8-18fa-448c-88c4-0ac579db0fc2\">\n",
              "    <div class=\"colab-df-container\">\n",
              "      <div>\n",
              "<style scoped>\n",
              "    .dataframe tbody tr th:only-of-type {\n",
              "        vertical-align: middle;\n",
              "    }\n",
              "\n",
              "    .dataframe tbody tr th {\n",
              "        vertical-align: top;\n",
              "    }\n",
              "\n",
              "    .dataframe thead th {\n",
              "        text-align: right;\n",
              "    }\n",
              "</style>\n",
              "<table border=\"1\" class=\"dataframe\">\n",
              "  <thead>\n",
              "    <tr style=\"text-align: right;\">\n",
              "      <th></th>\n",
              "      <th>loan_amnt</th>\n",
              "      <th>funded_amnt</th>\n",
              "      <th>term</th>\n",
              "      <th>int_rate</th>\n",
              "      <th>installment</th>\n",
              "      <th>sub_grade</th>\n",
              "      <th>annual_inc</th>\n",
              "      <th>dti</th>\n",
              "      <th>earliest_cr_line</th>\n",
              "      <th>fico_range_low</th>\n",
              "      <th>...</th>\n",
              "      <th>mort_acc</th>\n",
              "      <th>num_actv_rev_tl</th>\n",
              "      <th>x0_MORTGAGE</th>\n",
              "      <th>x0_RENT</th>\n",
              "      <th>x0_Not Verified</th>\n",
              "      <th>x0_Source Verified</th>\n",
              "      <th>x0_Verified</th>\n",
              "      <th>x0_car</th>\n",
              "      <th>x0_credit_card</th>\n",
              "      <th>x0_debt_consolidation</th>\n",
              "    </tr>\n",
              "  </thead>\n",
              "  <tbody>\n",
              "    <tr>\n",
              "      <th>loan_amnt</th>\n",
              "      <td>1.000000</td>\n",
              "      <td>1.000000</td>\n",
              "      <td>0.367330</td>\n",
              "      <td>0.080988</td>\n",
              "      <td>0.956671</td>\n",
              "      <td>0.084632</td>\n",
              "      <td>0.364180</td>\n",
              "      <td>0.003323</td>\n",
              "      <td>-0.171954</td>\n",
              "      <td>0.145091</td>\n",
              "      <td>...</td>\n",
              "      <td>0.243868</td>\n",
              "      <td>0.154709</td>\n",
              "      <td>0.200340</td>\n",
              "      <td>-0.184593</td>\n",
              "      <td>-0.362525</td>\n",
              "      <td>0.124398</td>\n",
              "      <td>0.246756</td>\n",
              "      <td>-0.056403</td>\n",
              "      <td>0.041600</td>\n",
              "      <td>0.087242</td>\n",
              "    </tr>\n",
              "    <tr>\n",
              "      <th>funded_amnt</th>\n",
              "      <td>1.000000</td>\n",
              "      <td>1.000000</td>\n",
              "      <td>0.367330</td>\n",
              "      <td>0.080988</td>\n",
              "      <td>0.956671</td>\n",
              "      <td>0.084632</td>\n",
              "      <td>0.364180</td>\n",
              "      <td>0.003323</td>\n",
              "      <td>-0.171954</td>\n",
              "      <td>0.145091</td>\n",
              "      <td>...</td>\n",
              "      <td>0.243868</td>\n",
              "      <td>0.154709</td>\n",
              "      <td>0.200340</td>\n",
              "      <td>-0.184593</td>\n",
              "      <td>-0.362525</td>\n",
              "      <td>0.124398</td>\n",
              "      <td>0.246756</td>\n",
              "      <td>-0.056403</td>\n",
              "      <td>0.041600</td>\n",
              "      <td>0.087242</td>\n",
              "    </tr>\n",
              "    <tr>\n",
              "      <th>term</th>\n",
              "      <td>0.367330</td>\n",
              "      <td>0.367330</td>\n",
              "      <td>1.000000</td>\n",
              "      <td>0.411773</td>\n",
              "      <td>0.128861</td>\n",
              "      <td>0.415773</td>\n",
              "      <td>0.047040</td>\n",
              "      <td>0.069648</td>\n",
              "      <td>-0.026648</td>\n",
              "      <td>-0.001096</td>\n",
              "      <td>...</td>\n",
              "      <td>0.103979</td>\n",
              "      <td>0.046780</td>\n",
              "      <td>0.103920</td>\n",
              "      <td>-0.094412</td>\n",
              "      <td>-0.225842</td>\n",
              "      <td>0.144442</td>\n",
              "      <td>0.080279</td>\n",
              "      <td>-0.020105</td>\n",
              "      <td>-0.039081</td>\n",
              "      <td>0.076591</td>\n",
              "    </tr>\n",
              "    <tr>\n",
              "      <th>int_rate</th>\n",
              "      <td>0.080988</td>\n",
              "      <td>0.080988</td>\n",
              "      <td>0.411773</td>\n",
              "      <td>1.000000</td>\n",
              "      <td>0.077416</td>\n",
              "      <td>0.996027</td>\n",
              "      <td>-0.112137</td>\n",
              "      <td>0.200440</td>\n",
              "      <td>0.135515</td>\n",
              "      <td>-0.388159</td>\n",
              "      <td>...</td>\n",
              "      <td>-0.079198</td>\n",
              "      <td>0.079715</td>\n",
              "      <td>-0.073345</td>\n",
              "      <td>0.070496</td>\n",
              "      <td>-0.231382</td>\n",
              "      <td>0.036518</td>\n",
              "      <td>0.204533</td>\n",
              "      <td>-0.003878</td>\n",
              "      <td>-0.215252</td>\n",
              "      <td>0.088021</td>\n",
              "    </tr>\n",
              "    <tr>\n",
              "      <th>installment</th>\n",
              "      <td>0.956671</td>\n",
              "      <td>0.956671</td>\n",
              "      <td>0.128861</td>\n",
              "      <td>0.077416</td>\n",
              "      <td>1.000000</td>\n",
              "      <td>0.079749</td>\n",
              "      <td>0.357650</td>\n",
              "      <td>0.005255</td>\n",
              "      <td>-0.156677</td>\n",
              "      <td>0.104928</td>\n",
              "      <td>...</td>\n",
              "      <td>0.214369</td>\n",
              "      <td>0.160913</td>\n",
              "      <td>0.172256</td>\n",
              "      <td>-0.158649</td>\n",
              "      <td>-0.341596</td>\n",
              "      <td>0.096507</td>\n",
              "      <td>0.255229</td>\n",
              "      <td>-0.054538</td>\n",
              "      <td>0.030441</td>\n",
              "      <td>0.085397</td>\n",
              "    </tr>\n",
              "    <tr>\n",
              "      <th>sub_grade</th>\n",
              "      <td>0.084632</td>\n",
              "      <td>0.084632</td>\n",
              "      <td>0.415773</td>\n",
              "      <td>0.996027</td>\n",
              "      <td>0.079749</td>\n",
              "      <td>1.000000</td>\n",
              "      <td>-0.111163</td>\n",
              "      <td>0.201212</td>\n",
              "      <td>0.135391</td>\n",
              "      <td>-0.386220</td>\n",
              "      <td>...</td>\n",
              "      <td>-0.078305</td>\n",
              "      <td>0.078549</td>\n",
              "      <td>-0.072333</td>\n",
              "      <td>0.069408</td>\n",
              "      <td>-0.233982</td>\n",
              "      <td>0.037256</td>\n",
              "      <td>0.206472</td>\n",
              "      <td>-0.004058</td>\n",
              "      <td>-0.215662</td>\n",
              "      <td>0.087591</td>\n",
              "    </tr>\n",
              "    <tr>\n",
              "      <th>annual_inc</th>\n",
              "      <td>0.364180</td>\n",
              "      <td>0.364180</td>\n",
              "      <td>0.047040</td>\n",
              "      <td>-0.112137</td>\n",
              "      <td>0.357650</td>\n",
              "      <td>-0.111163</td>\n",
              "      <td>1.000000</td>\n",
              "      <td>-0.205742</td>\n",
              "      <td>-0.159659</td>\n",
              "      <td>0.100960</td>\n",
              "      <td>...</td>\n",
              "      <td>0.246141</td>\n",
              "      <td>0.070930</td>\n",
              "      <td>0.170615</td>\n",
              "      <td>-0.151340</td>\n",
              "      <td>-0.096553</td>\n",
              "      <td>0.024963</td>\n",
              "      <td>0.074682</td>\n",
              "      <td>-0.015785</td>\n",
              "      <td>-0.002058</td>\n",
              "      <td>-0.019312</td>\n",
              "    </tr>\n",
              "    <tr>\n",
              "      <th>dti</th>\n",
              "      <td>0.003323</td>\n",
              "      <td>0.003323</td>\n",
              "      <td>0.069648</td>\n",
              "      <td>0.200440</td>\n",
              "      <td>0.005255</td>\n",
              "      <td>0.201212</td>\n",
              "      <td>-0.205742</td>\n",
              "      <td>1.000000</td>\n",
              "      <td>-0.028244</td>\n",
              "      <td>-0.065152</td>\n",
              "      <td>...</td>\n",
              "      <td>-0.067936</td>\n",
              "      <td>0.256998</td>\n",
              "      <td>-0.022721</td>\n",
              "      <td>0.001110</td>\n",
              "      <td>-0.093154</td>\n",
              "      <td>0.049347</td>\n",
              "      <td>0.044337</td>\n",
              "      <td>-0.035021</td>\n",
              "      <td>-0.011282</td>\n",
              "      <td>0.080292</td>\n",
              "    </tr>\n",
              "    <tr>\n",
              "      <th>earliest_cr_line</th>\n",
              "      <td>-0.171954</td>\n",
              "      <td>-0.171954</td>\n",
              "      <td>-0.026648</td>\n",
              "      <td>0.135515</td>\n",
              "      <td>-0.156677</td>\n",
              "      <td>0.135391</td>\n",
              "      <td>-0.159659</td>\n",
              "      <td>-0.028244</td>\n",
              "      <td>1.000000</td>\n",
              "      <td>-0.101459</td>\n",
              "      <td>...</td>\n",
              "      <td>-0.300986</td>\n",
              "      <td>-0.148398</td>\n",
              "      <td>-0.178534</td>\n",
              "      <td>0.214500</td>\n",
              "      <td>0.084002</td>\n",
              "      <td>0.005886</td>\n",
              "      <td>-0.095257</td>\n",
              "      <td>0.022863</td>\n",
              "      <td>-0.005213</td>\n",
              "      <td>-0.007535</td>\n",
              "    </tr>\n",
              "    <tr>\n",
              "      <th>fico_range_low</th>\n",
              "      <td>0.145091</td>\n",
              "      <td>0.145091</td>\n",
              "      <td>-0.001096</td>\n",
              "      <td>-0.388159</td>\n",
              "      <td>0.104928</td>\n",
              "      <td>-0.386220</td>\n",
              "      <td>0.100960</td>\n",
              "      <td>-0.065152</td>\n",
              "      <td>-0.101459</td>\n",
              "      <td>1.000000</td>\n",
              "      <td>...</td>\n",
              "      <td>0.092138</td>\n",
              "      <td>-0.154297</td>\n",
              "      <td>0.116364</td>\n",
              "      <td>-0.127949</td>\n",
              "      <td>0.051583</td>\n",
              "      <td>-0.030997</td>\n",
              "      <td>-0.020522</td>\n",
              "      <td>0.014540</td>\n",
              "      <td>0.001953</td>\n",
              "      <td>-0.032780</td>\n",
              "    </tr>\n",
              "    <tr>\n",
              "      <th>fico_range_high</th>\n",
              "      <td>0.145090</td>\n",
              "      <td>0.145090</td>\n",
              "      <td>-0.001094</td>\n",
              "      <td>-0.388156</td>\n",
              "      <td>0.104926</td>\n",
              "      <td>-0.386218</td>\n",
              "      <td>0.100961</td>\n",
              "      <td>-0.065154</td>\n",
              "      <td>-0.101460</td>\n",
              "      <td>1.000000</td>\n",
              "      <td>...</td>\n",
              "      <td>0.092138</td>\n",
              "      <td>-0.154298</td>\n",
              "      <td>0.116364</td>\n",
              "      <td>-0.127949</td>\n",
              "      <td>0.051581</td>\n",
              "      <td>-0.030998</td>\n",
              "      <td>-0.020520</td>\n",
              "      <td>0.014540</td>\n",
              "      <td>0.001951</td>\n",
              "      <td>-0.032781</td>\n",
              "    </tr>\n",
              "    <tr>\n",
              "      <th>open_acc</th>\n",
              "      <td>0.190699</td>\n",
              "      <td>0.190699</td>\n",
              "      <td>0.075728</td>\n",
              "      <td>-0.009142</td>\n",
              "      <td>0.179726</td>\n",
              "      <td>-0.009100</td>\n",
              "      <td>0.140609</td>\n",
              "      <td>0.281953</td>\n",
              "      <td>-0.128303</td>\n",
              "      <td>0.041856</td>\n",
              "      <td>...</td>\n",
              "      <td>0.114370</td>\n",
              "      <td>0.664957</td>\n",
              "      <td>0.120241</td>\n",
              "      <td>-0.116640</td>\n",
              "      <td>-0.064517</td>\n",
              "      <td>-0.019667</td>\n",
              "      <td>0.089777</td>\n",
              "      <td>-0.031295</td>\n",
              "      <td>0.012366</td>\n",
              "      <td>0.047743</td>\n",
              "    </tr>\n",
              "    <tr>\n",
              "      <th>revol_util</th>\n",
              "      <td>0.112737</td>\n",
              "      <td>0.112737</td>\n",
              "      <td>0.061883</td>\n",
              "      <td>0.207326</td>\n",
              "      <td>0.124114</td>\n",
              "      <td>0.206475</td>\n",
              "      <td>0.044192</td>\n",
              "      <td>0.174926</td>\n",
              "      <td>0.000529</td>\n",
              "      <td>-0.419259</td>\n",
              "      <td>...</td>\n",
              "      <td>0.009959</td>\n",
              "      <td>0.075953</td>\n",
              "      <td>0.022760</td>\n",
              "      <td>0.003556</td>\n",
              "      <td>-0.054917</td>\n",
              "      <td>0.041157</td>\n",
              "      <td>0.012904</td>\n",
              "      <td>-0.039842</td>\n",
              "      <td>0.065525</td>\n",
              "      <td>0.025106</td>\n",
              "    </tr>\n",
              "    <tr>\n",
              "      <th>last_pymnt_amnt</th>\n",
              "      <td>0.482358</td>\n",
              "      <td>0.482358</td>\n",
              "      <td>0.367130</td>\n",
              "      <td>0.100908</td>\n",
              "      <td>0.396647</td>\n",
              "      <td>0.102403</td>\n",
              "      <td>0.191580</td>\n",
              "      <td>-0.050342</td>\n",
              "      <td>-0.064552</td>\n",
              "      <td>0.102318</td>\n",
              "      <td>...</td>\n",
              "      <td>0.183381</td>\n",
              "      <td>0.016180</td>\n",
              "      <td>0.148804</td>\n",
              "      <td>-0.136072</td>\n",
              "      <td>-0.182390</td>\n",
              "      <td>0.059735</td>\n",
              "      <td>0.127273</td>\n",
              "      <td>-0.021413</td>\n",
              "      <td>-0.016932</td>\n",
              "      <td>0.070132</td>\n",
              "    </tr>\n",
              "    <tr>\n",
              "      <th>acc_open_past_24mths</th>\n",
              "      <td>-0.003674</td>\n",
              "      <td>-0.003674</td>\n",
              "      <td>0.064919</td>\n",
              "      <td>0.224535</td>\n",
              "      <td>0.006427</td>\n",
              "      <td>0.224738</td>\n",
              "      <td>0.041044</td>\n",
              "      <td>0.164808</td>\n",
              "      <td>0.034972</td>\n",
              "      <td>-0.108980</td>\n",
              "      <td>...</td>\n",
              "      <td>0.062407</td>\n",
              "      <td>0.332966</td>\n",
              "      <td>0.060178</td>\n",
              "      <td>-0.058220</td>\n",
              "      <td>-0.118297</td>\n",
              "      <td>-0.019253</td>\n",
              "      <td>0.146173</td>\n",
              "      <td>-0.014667</td>\n",
              "      <td>-0.054929</td>\n",
              "      <td>0.058422</td>\n",
              "    </tr>\n",
              "    <tr>\n",
              "      <th>avg_cur_bal</th>\n",
              "      <td>0.250850</td>\n",
              "      <td>0.250850</td>\n",
              "      <td>0.079457</td>\n",
              "      <td>-0.095977</td>\n",
              "      <td>0.226493</td>\n",
              "      <td>-0.094718</td>\n",
              "      <td>0.360524</td>\n",
              "      <td>-0.138280</td>\n",
              "      <td>-0.141046</td>\n",
              "      <td>0.146391</td>\n",
              "      <td>...</td>\n",
              "      <td>0.449213</td>\n",
              "      <td>-0.156567</td>\n",
              "      <td>0.448829</td>\n",
              "      <td>-0.415720</td>\n",
              "      <td>-0.014418</td>\n",
              "      <td>-0.023166</td>\n",
              "      <td>0.040655</td>\n",
              "      <td>-0.009488</td>\n",
              "      <td>-0.001059</td>\n",
              "      <td>-0.023911</td>\n",
              "    </tr>\n",
              "    <tr>\n",
              "      <th>bc_open_to_buy</th>\n",
              "      <td>0.225934</td>\n",
              "      <td>0.225934</td>\n",
              "      <td>0.006230</td>\n",
              "      <td>-0.295851</td>\n",
              "      <td>0.197758</td>\n",
              "      <td>-0.293747</td>\n",
              "      <td>0.177166</td>\n",
              "      <td>-0.081291</td>\n",
              "      <td>-0.171343</td>\n",
              "      <td>0.507848</td>\n",
              "      <td>...</td>\n",
              "      <td>0.130014</td>\n",
              "      <td>0.123870</td>\n",
              "      <td>0.086257</td>\n",
              "      <td>-0.108303</td>\n",
              "      <td>-0.028616</td>\n",
              "      <td>-0.008537</td>\n",
              "      <td>0.039594</td>\n",
              "      <td>-0.000202</td>\n",
              "      <td>0.035518</td>\n",
              "      <td>-0.026438</td>\n",
              "    </tr>\n",
              "    <tr>\n",
              "      <th>bc_util</th>\n",
              "      <td>0.035468</td>\n",
              "      <td>0.035468</td>\n",
              "      <td>0.045139</td>\n",
              "      <td>0.244994</td>\n",
              "      <td>0.051832</td>\n",
              "      <td>0.244027</td>\n",
              "      <td>-0.009308</td>\n",
              "      <td>0.183026</td>\n",
              "      <td>0.020052</td>\n",
              "      <td>-0.461169</td>\n",
              "      <td>...</td>\n",
              "      <td>-0.016080</td>\n",
              "      <td>0.096221</td>\n",
              "      <td>0.001543</td>\n",
              "      <td>0.021873</td>\n",
              "      <td>-0.035146</td>\n",
              "      <td>0.036185</td>\n",
              "      <td>-0.002560</td>\n",
              "      <td>-0.038208</td>\n",
              "      <td>0.049832</td>\n",
              "      <td>0.037288</td>\n",
              "    </tr>\n",
              "    <tr>\n",
              "      <th>mo_sin_old_rev_tl_op</th>\n",
              "      <td>0.180089</td>\n",
              "      <td>0.180089</td>\n",
              "      <td>0.025219</td>\n",
              "      <td>-0.153741</td>\n",
              "      <td>0.163853</td>\n",
              "      <td>-0.153409</td>\n",
              "      <td>0.156832</td>\n",
              "      <td>0.029502</td>\n",
              "      <td>-0.923897</td>\n",
              "      <td>0.117156</td>\n",
              "      <td>...</td>\n",
              "      <td>0.307249</td>\n",
              "      <td>0.158342</td>\n",
              "      <td>0.173579</td>\n",
              "      <td>-0.210128</td>\n",
              "      <td>-0.081745</td>\n",
              "      <td>-0.008448</td>\n",
              "      <td>0.095680</td>\n",
              "      <td>-0.023763</td>\n",
              "      <td>0.011560</td>\n",
              "      <td>0.007082</td>\n",
              "    </tr>\n",
              "    <tr>\n",
              "      <th>mo_sin_rcnt_rev_tl_op</th>\n",
              "      <td>0.058502</td>\n",
              "      <td>0.058502</td>\n",
              "      <td>-0.007233</td>\n",
              "      <td>-0.124561</td>\n",
              "      <td>0.047389</td>\n",
              "      <td>-0.123915</td>\n",
              "      <td>0.042262</td>\n",
              "      <td>-0.026150</td>\n",
              "      <td>-0.052243</td>\n",
              "      <td>0.101307</td>\n",
              "      <td>...</td>\n",
              "      <td>0.020182</td>\n",
              "      <td>-0.225572</td>\n",
              "      <td>0.007295</td>\n",
              "      <td>-0.005966</td>\n",
              "      <td>0.026859</td>\n",
              "      <td>-0.002854</td>\n",
              "      <td>-0.025261</td>\n",
              "      <td>0.003346</td>\n",
              "      <td>0.014525</td>\n",
              "      <td>-0.026295</td>\n",
              "    </tr>\n",
              "    <tr>\n",
              "      <th>mort_acc</th>\n",
              "      <td>0.243868</td>\n",
              "      <td>0.243868</td>\n",
              "      <td>0.103979</td>\n",
              "      <td>-0.079198</td>\n",
              "      <td>0.214369</td>\n",
              "      <td>-0.078305</td>\n",
              "      <td>0.246141</td>\n",
              "      <td>-0.067936</td>\n",
              "      <td>-0.300986</td>\n",
              "      <td>0.092138</td>\n",
              "      <td>...</td>\n",
              "      <td>1.000000</td>\n",
              "      <td>0.051932</td>\n",
              "      <td>0.477444</td>\n",
              "      <td>-0.441860</td>\n",
              "      <td>-0.042551</td>\n",
              "      <td>-0.017933</td>\n",
              "      <td>0.064654</td>\n",
              "      <td>-0.014323</td>\n",
              "      <td>-0.003768</td>\n",
              "      <td>0.006725</td>\n",
              "    </tr>\n",
              "    <tr>\n",
              "      <th>num_actv_rev_tl</th>\n",
              "      <td>0.154709</td>\n",
              "      <td>0.154709</td>\n",
              "      <td>0.046780</td>\n",
              "      <td>0.079715</td>\n",
              "      <td>0.160913</td>\n",
              "      <td>0.078549</td>\n",
              "      <td>0.070930</td>\n",
              "      <td>0.256998</td>\n",
              "      <td>-0.148398</td>\n",
              "      <td>-0.154297</td>\n",
              "      <td>...</td>\n",
              "      <td>0.051932</td>\n",
              "      <td>1.000000</td>\n",
              "      <td>0.066946</td>\n",
              "      <td>-0.074081</td>\n",
              "      <td>-0.097094</td>\n",
              "      <td>-0.016190</td>\n",
              "      <td>0.120399</td>\n",
              "      <td>-0.036976</td>\n",
              "      <td>0.039213</td>\n",
              "      <td>0.049387</td>\n",
              "    </tr>\n",
              "    <tr>\n",
              "      <th>x0_MORTGAGE</th>\n",
              "      <td>0.200340</td>\n",
              "      <td>0.200340</td>\n",
              "      <td>0.103920</td>\n",
              "      <td>-0.073345</td>\n",
              "      <td>0.172256</td>\n",
              "      <td>-0.072333</td>\n",
              "      <td>0.170615</td>\n",
              "      <td>-0.022721</td>\n",
              "      <td>-0.178534</td>\n",
              "      <td>0.116364</td>\n",
              "      <td>...</td>\n",
              "      <td>0.477444</td>\n",
              "      <td>0.066946</td>\n",
              "      <td>1.000000</td>\n",
              "      <td>-0.810230</td>\n",
              "      <td>-0.004686</td>\n",
              "      <td>-0.033062</td>\n",
              "      <td>0.041224</td>\n",
              "      <td>-0.022118</td>\n",
              "      <td>-0.016634</td>\n",
              "      <td>0.014250</td>\n",
              "    </tr>\n",
              "    <tr>\n",
              "      <th>x0_RENT</th>\n",
              "      <td>-0.184593</td>\n",
              "      <td>-0.184593</td>\n",
              "      <td>-0.094412</td>\n",
              "      <td>0.070496</td>\n",
              "      <td>-0.158649</td>\n",
              "      <td>0.069408</td>\n",
              "      <td>-0.151340</td>\n",
              "      <td>0.001110</td>\n",
              "      <td>0.214500</td>\n",
              "      <td>-0.127949</td>\n",
              "      <td>...</td>\n",
              "      <td>-0.441860</td>\n",
              "      <td>-0.074081</td>\n",
              "      <td>-0.810230</td>\n",
              "      <td>1.000000</td>\n",
              "      <td>0.014659</td>\n",
              "      <td>0.027512</td>\n",
              "      <td>-0.045678</td>\n",
              "      <td>0.017964</td>\n",
              "      <td>0.011023</td>\n",
              "      <td>0.008688</td>\n",
              "    </tr>\n",
              "    <tr>\n",
              "      <th>x0_Not Verified</th>\n",
              "      <td>-0.362525</td>\n",
              "      <td>-0.362525</td>\n",
              "      <td>-0.225842</td>\n",
              "      <td>-0.231382</td>\n",
              "      <td>-0.341596</td>\n",
              "      <td>-0.233982</td>\n",
              "      <td>-0.096553</td>\n",
              "      <td>-0.093154</td>\n",
              "      <td>0.084002</td>\n",
              "      <td>0.051583</td>\n",
              "      <td>...</td>\n",
              "      <td>-0.042551</td>\n",
              "      <td>-0.097094</td>\n",
              "      <td>-0.004686</td>\n",
              "      <td>0.014659</td>\n",
              "      <td>1.000000</td>\n",
              "      <td>-0.569540</td>\n",
              "      <td>-0.432292</td>\n",
              "      <td>0.029109</td>\n",
              "      <td>0.033277</td>\n",
              "      <td>-0.048974</td>\n",
              "    </tr>\n",
              "    <tr>\n",
              "      <th>x0_Source Verified</th>\n",
              "      <td>0.124398</td>\n",
              "      <td>0.124398</td>\n",
              "      <td>0.144442</td>\n",
              "      <td>0.036518</td>\n",
              "      <td>0.096507</td>\n",
              "      <td>0.037256</td>\n",
              "      <td>0.024963</td>\n",
              "      <td>0.049347</td>\n",
              "      <td>0.005886</td>\n",
              "      <td>-0.030997</td>\n",
              "      <td>...</td>\n",
              "      <td>-0.017933</td>\n",
              "      <td>-0.016190</td>\n",
              "      <td>-0.033062</td>\n",
              "      <td>0.027512</td>\n",
              "      <td>-0.569540</td>\n",
              "      <td>1.000000</td>\n",
              "      <td>-0.494985</td>\n",
              "      <td>-0.016152</td>\n",
              "      <td>-0.010835</td>\n",
              "      <td>0.038051</td>\n",
              "    </tr>\n",
              "    <tr>\n",
              "      <th>x0_Verified</th>\n",
              "      <td>0.246756</td>\n",
              "      <td>0.246756</td>\n",
              "      <td>0.080279</td>\n",
              "      <td>0.204533</td>\n",
              "      <td>0.255229</td>\n",
              "      <td>0.206472</td>\n",
              "      <td>0.074682</td>\n",
              "      <td>0.044337</td>\n",
              "      <td>-0.095257</td>\n",
              "      <td>-0.020522</td>\n",
              "      <td>...</td>\n",
              "      <td>0.064654</td>\n",
              "      <td>0.120399</td>\n",
              "      <td>0.041224</td>\n",
              "      <td>-0.045678</td>\n",
              "      <td>-0.432292</td>\n",
              "      <td>-0.494985</td>\n",
              "      <td>1.000000</td>\n",
              "      <td>-0.013051</td>\n",
              "      <td>-0.023291</td>\n",
              "      <td>0.010027</td>\n",
              "    </tr>\n",
              "    <tr>\n",
              "      <th>x0_car</th>\n",
              "      <td>-0.056403</td>\n",
              "      <td>-0.056403</td>\n",
              "      <td>-0.020105</td>\n",
              "      <td>-0.003878</td>\n",
              "      <td>-0.054538</td>\n",
              "      <td>-0.004058</td>\n",
              "      <td>-0.015785</td>\n",
              "      <td>-0.035021</td>\n",
              "      <td>0.022863</td>\n",
              "      <td>0.014540</td>\n",
              "      <td>...</td>\n",
              "      <td>-0.014323</td>\n",
              "      <td>-0.036976</td>\n",
              "      <td>-0.022118</td>\n",
              "      <td>0.017964</td>\n",
              "      <td>0.029109</td>\n",
              "      <td>-0.016152</td>\n",
              "      <td>-0.013051</td>\n",
              "      <td>1.000000</td>\n",
              "      <td>-0.049244</td>\n",
              "      <td>-0.117035</td>\n",
              "    </tr>\n",
              "    <tr>\n",
              "      <th>x0_credit_card</th>\n",
              "      <td>0.041600</td>\n",
              "      <td>0.041600</td>\n",
              "      <td>-0.039081</td>\n",
              "      <td>-0.215252</td>\n",
              "      <td>0.030441</td>\n",
              "      <td>-0.215662</td>\n",
              "      <td>-0.002058</td>\n",
              "      <td>-0.011282</td>\n",
              "      <td>-0.005213</td>\n",
              "      <td>0.001953</td>\n",
              "      <td>...</td>\n",
              "      <td>-0.003768</td>\n",
              "      <td>0.039213</td>\n",
              "      <td>-0.016634</td>\n",
              "      <td>0.011023</td>\n",
              "      <td>0.033277</td>\n",
              "      <td>-0.010835</td>\n",
              "      <td>-0.023291</td>\n",
              "      <td>-0.049244</td>\n",
              "      <td>1.000000</td>\n",
              "      <td>-0.673115</td>\n",
              "    </tr>\n",
              "    <tr>\n",
              "      <th>x0_debt_consolidation</th>\n",
              "      <td>0.087242</td>\n",
              "      <td>0.087242</td>\n",
              "      <td>0.076591</td>\n",
              "      <td>0.088021</td>\n",
              "      <td>0.085397</td>\n",
              "      <td>0.087591</td>\n",
              "      <td>-0.019312</td>\n",
              "      <td>0.080292</td>\n",
              "      <td>-0.007535</td>\n",
              "      <td>-0.032780</td>\n",
              "      <td>...</td>\n",
              "      <td>0.006725</td>\n",
              "      <td>0.049387</td>\n",
              "      <td>0.014250</td>\n",
              "      <td>0.008688</td>\n",
              "      <td>-0.048974</td>\n",
              "      <td>0.038051</td>\n",
              "      <td>0.010027</td>\n",
              "      <td>-0.117035</td>\n",
              "      <td>-0.673115</td>\n",
              "      <td>1.000000</td>\n",
              "    </tr>\n",
              "  </tbody>\n",
              "</table>\n",
              "<p>30 rows × 30 columns</p>\n",
              "</div>\n",
              "      <button class=\"colab-df-convert\" onclick=\"convertToInteractive('df-5f9dabf8-18fa-448c-88c4-0ac579db0fc2')\"\n",
              "              title=\"Convert this dataframe to an interactive table.\"\n",
              "              style=\"display:none;\">\n",
              "        \n",
              "  <svg xmlns=\"http://www.w3.org/2000/svg\" height=\"24px\"viewBox=\"0 0 24 24\"\n",
              "       width=\"24px\">\n",
              "    <path d=\"M0 0h24v24H0V0z\" fill=\"none\"/>\n",
              "    <path d=\"M18.56 5.44l.94 2.06.94-2.06 2.06-.94-2.06-.94-.94-2.06-.94 2.06-2.06.94zm-11 1L8.5 8.5l.94-2.06 2.06-.94-2.06-.94L8.5 2.5l-.94 2.06-2.06.94zm10 10l.94 2.06.94-2.06 2.06-.94-2.06-.94-.94-2.06-.94 2.06-2.06.94z\"/><path d=\"M17.41 7.96l-1.37-1.37c-.4-.4-.92-.59-1.43-.59-.52 0-1.04.2-1.43.59L10.3 9.45l-7.72 7.72c-.78.78-.78 2.05 0 2.83L4 21.41c.39.39.9.59 1.41.59.51 0 1.02-.2 1.41-.59l7.78-7.78 2.81-2.81c.8-.78.8-2.07 0-2.86zM5.41 20L4 18.59l7.72-7.72 1.47 1.35L5.41 20z\"/>\n",
              "  </svg>\n",
              "      </button>\n",
              "      \n",
              "  <style>\n",
              "    .colab-df-container {\n",
              "      display:flex;\n",
              "      flex-wrap:wrap;\n",
              "      gap: 12px;\n",
              "    }\n",
              "\n",
              "    .colab-df-convert {\n",
              "      background-color: #E8F0FE;\n",
              "      border: none;\n",
              "      border-radius: 50%;\n",
              "      cursor: pointer;\n",
              "      display: none;\n",
              "      fill: #1967D2;\n",
              "      height: 32px;\n",
              "      padding: 0 0 0 0;\n",
              "      width: 32px;\n",
              "    }\n",
              "\n",
              "    .colab-df-convert:hover {\n",
              "      background-color: #E2EBFA;\n",
              "      box-shadow: 0px 1px 2px rgba(60, 64, 67, 0.3), 0px 1px 3px 1px rgba(60, 64, 67, 0.15);\n",
              "      fill: #174EA6;\n",
              "    }\n",
              "\n",
              "    [theme=dark] .colab-df-convert {\n",
              "      background-color: #3B4455;\n",
              "      fill: #D2E3FC;\n",
              "    }\n",
              "\n",
              "    [theme=dark] .colab-df-convert:hover {\n",
              "      background-color: #434B5C;\n",
              "      box-shadow: 0px 1px 3px 1px rgba(0, 0, 0, 0.15);\n",
              "      filter: drop-shadow(0px 1px 2px rgba(0, 0, 0, 0.3));\n",
              "      fill: #FFFFFF;\n",
              "    }\n",
              "  </style>\n",
              "\n",
              "      <script>\n",
              "        const buttonEl =\n",
              "          document.querySelector('#df-5f9dabf8-18fa-448c-88c4-0ac579db0fc2 button.colab-df-convert');\n",
              "        buttonEl.style.display =\n",
              "          google.colab.kernel.accessAllowed ? 'block' : 'none';\n",
              "\n",
              "        async function convertToInteractive(key) {\n",
              "          const element = document.querySelector('#df-5f9dabf8-18fa-448c-88c4-0ac579db0fc2');\n",
              "          const dataTable =\n",
              "            await google.colab.kernel.invokeFunction('convertToInteractive',\n",
              "                                                     [key], {});\n",
              "          if (!dataTable) return;\n",
              "\n",
              "          const docLinkHtml = 'Like what you see? Visit the ' +\n",
              "            '<a target=\"_blank\" href=https://colab.research.google.com/notebooks/data_table.ipynb>data table notebook</a>'\n",
              "            + ' to learn more about interactive tables.';\n",
              "          element.innerHTML = '';\n",
              "          dataTable['output_type'] = 'display_data';\n",
              "          await google.colab.output.renderOutput(dataTable, element);\n",
              "          const docLink = document.createElement('div');\n",
              "          docLink.innerHTML = docLinkHtml;\n",
              "          element.appendChild(docLink);\n",
              "        }\n",
              "      </script>\n",
              "    </div>\n",
              "  </div>\n",
              "  "
            ]
          },
          "metadata": {},
          "execution_count": 1973
        }
      ]
    },
    {
      "cell_type": "code",
      "metadata": {
        "colab": {
          "base_uri": "https://localhost:8080/",
          "height": 462
        },
        "id": "tyOPXVrhoCCZ",
        "outputId": "8204b0c6-8ea7-4e28-9f6c-5411d39f0ae9"
      },
      "source": [
        "sns.heatmap(feature_correlation, \n",
        "        xticklabels=feature_correlation.columns,\n",
        "        yticklabels=feature_correlation.columns, center=0)"
      ],
      "execution_count": 1974,
      "outputs": [
        {
          "output_type": "execute_result",
          "data": {
            "text/plain": [
              "<AxesSubplot:>"
            ]
          },
          "metadata": {},
          "execution_count": 1974
        },
        {
          "output_type": "display_data",
          "data": {
            "text/plain": [
              "<Figure size 864x360 with 2 Axes>"
            ],
            "image/png": "[encoded data removed]"
          },
          "metadata": {}
        }
      ]
    },
    {
      "cell_type": "code",
      "metadata": {
        "colab": {
          "base_uri": "https://localhost:8080/"
        },
        "id": "98guG9dIDVua",
        "outputId": "e74fcf73-bc4b-4ec9-8997-13a5637982c9"
      },
      "source": [
        "# Solo usaremos la matriz triangular\n",
        "# Recuerda que la matriz de correlacion es simetrica\n",
        "upper = feature_correlation.where(np.triu(np.ones(\n",
        "    feature_correlation.shape), k=1).astype(np.bool))\n",
        "\n",
        "# Encuentra variables con correlacion mayor a threshold\n",
        "to_drop = [column for column in upper.columns if any(upper[column] > 0.9)]\n",
        "\n",
        "to_drop"
      ],
      "execution_count": 1975,
      "outputs": [
        {
          "output_type": "stream",
          "name": "stderr",
          "text": [
            "<ipython-input-1975-ce85a8e605ad>:4: DeprecationWarning: `np.bool` is a deprecated alias for the builtin `bool`. To silence this warning, use `bool` by itself. Doing this will not modify any behavior and is safe. If you specifically wanted the numpy scalar type, use `np.bool_` here.\n",
            "Deprecated in NumPy 1.20; for more details and guidance: https://numpy.org/devdocs/release/1.20.0-notes.html#deprecations\n",
            "  feature_correlation.shape), k=1).astype(np.bool))\n"
          ]
        },
        {
          "output_type": "execute_result",
          "data": {
            "text/plain": [
              "['funded_amnt', 'installment', 'sub_grade', 'fico_range_high']"
            ]
          },
          "metadata": {},
          "execution_count": 1975
        }
      ]
    },
    {
      "cell_type": "code",
      "metadata": {
        "id": "7pH-GM2kDdgb"
      },
      "source": [
        "# Eliminar columnas \n",
        "data_train.drop(to_drop, axis=1, inplace=True)\n",
        "data_test.drop(to_drop, axis=1, inplace=True)"
      ],
      "execution_count": 1976,
      "outputs": []
    },
    {
      "cell_type": "code",
      "metadata": {
        "colab": {
          "base_uri": "https://localhost:8080/",
          "height": 462
        },
        "id": "RoX0EfXVowP0",
        "outputId": "912b4c87-2111-4b91-d9a0-6d81d144dc3c"
      },
      "source": [
        "feature_correlation = data_train.loc[:, data_train.columns != 'charged_off'].corr()\n",
        "sns.heatmap(feature_correlation, \n",
        "        xticklabels=feature_correlation.columns,\n",
        "        yticklabels=feature_correlation.columns, center=0)"
      ],
      "execution_count": 1977,
      "outputs": [
        {
          "output_type": "execute_result",
          "data": {
            "text/plain": [
              "<AxesSubplot:>"
            ]
          },
          "metadata": {},
          "execution_count": 1977
        },
        {
          "output_type": "display_data",
          "data": {
            "text/plain": [
              "<Figure size 864x360 with 2 Axes>"
            ],
            "image/png": "[encoded data removed]"
          },
          "metadata": {}
        }
      ]
    },
    {
      "cell_type": "code",
      "metadata": {
        "colab": {
          "base_uri": "https://localhost:8080/"
        },
        "id": "tPHpkoNUvkKO",
        "outputId": "dcc038b4-d602-4e98-d051-a5f535e82fc6"
      },
      "source": [
        "from scipy.stats import mode\n",
        "df = pd.DataFrame({'mode_control':['b','b','b','c','a','a','a'], \n",
        "                   'iden':list(range(0,7)), 'rand':np.random.rand(7)})\n",
        "# df = pd.DataFrame({'mode_control':[3,3,3,5,2,2,2], \n",
        "#                    'iden':list(range(0,7)), 'rand':np.random.rand(7)})\n",
        "mode(df['mode_control'])"
      ],
      "execution_count": 1978,
      "outputs": [
        {
          "output_type": "execute_result",
          "data": {
            "text/plain": [
              "ModeResult(mode=array(['a'], dtype=object), count=array([3]))"
            ]
          },
          "metadata": {},
          "execution_count": 1978
        }
      ]
    },
    {
      "cell_type": "code",
      "metadata": {
        "colab": {
          "base_uri": "https://localhost:8080/"
        },
        "id": "cNq9auKEUYT-",
        "outputId": "aca9fcaf-42d4-4569-cc0f-5bd87be6e1aa"
      },
      "source": [
        "df.value_counts"
      ],
      "execution_count": 1979,
      "outputs": [
        {
          "output_type": "execute_result",
          "data": {
            "text/plain": [
              "<bound method DataFrame.value_counts of   mode_control  iden      rand\n",
              "0            b     0  0.270761\n",
              "1            b     1  0.170769\n",
              "2            b     2  0.877796\n",
              "3            c     3  0.130616\n",
              "4            a     4  0.974091\n",
              "5            a     5  0.204141\n",
              "6            a     6  0.087297>"
            ]
          },
          "metadata": {},
          "execution_count": 1979
        }
      ]
    },
    {
      "cell_type": "code",
      "metadata": {
        "id": "NS3CAbUGWUwl"
      },
      "source": [
        "def mode1(x):\n",
        "    values, counts = np.unique(x, return_counts=True)\n",
        "    m = counts.argmax()\n",
        "    return m"
      ],
      "execution_count": 1980,
      "outputs": []
    },
    {
      "cell_type": "code",
      "metadata": {
        "colab": {
          "base_uri": "https://localhost:8080/"
        },
        "id": "HUNY8OwBWV5r",
        "outputId": "51fb01e2-6eef-4f05-b706-0e2b0223050f"
      },
      "source": [
        "from collections import Counter\n",
        "from itertools import groupby\n",
        "\n",
        "l = df['mode_control']\n",
        "# group most_common output by frequency\n",
        "freqs = groupby(Counter(l).most_common(), lambda x:x[1])\n",
        "# pick off the first group (highest frequency)\n",
        "print([val for val,count in next(freqs)[1]])"
      ],
      "execution_count": 1981,
      "outputs": [
        {
          "output_type": "stream",
          "name": "stdout",
          "text": [
            "['b', 'a']\n"
          ]
        }
      ]
    },
    {
      "cell_type": "code",
      "metadata": {
        "colab": {
          "base_uri": "https://localhost:8080/",
          "height": 36
        },
        "id": "JLBYIhosZ8Cc",
        "outputId": "34c776c0-a150-4a94-cddd-c3d1df96de65"
      },
      "source": [
        "df.sample(axis='columns').columns[0]"
      ],
      "execution_count": 1982,
      "outputs": [
        {
          "output_type": "execute_result",
          "data": {
            "text/plain": [
              "'rand'"
            ],
            "application/vnd.google.colaboratory.intrinsic+json": {
              "type": "string"
            }
          },
          "metadata": {},
          "execution_count": 1982
        }
      ]
    },
    {
      "cell_type": "markdown",
      "metadata": {
        "id": "VZGKu2qZpXMU"
      },
      "source": [
        "# Modelaje"
      ]
    },
    {
      "cell_type": "markdown",
      "metadata": {
        "id": "ZU8C6vdipYF1"
      },
      "source": [
        "**Nota**: Para conducir los procesos anteriores no dividimos train y test, por lo que existe **leakage** en nuestro modelo. Sin embargo, dado que este es un subsample (150K) de la base completa (887K) no hay tanto problema pues tenemos muchas observaciones para hacer validacion.  \n",
        "\n",
        "Sin embargo, cualquier division que hagamos de los datos que ya analizamos tendra leakage. Por ejemplo, vamos a subestimar el error, pues usamos correlacion con la varaible objetivo para elegir variables.  \n",
        "\n",
        "Normalemente se hacen analisis de esta manera si sabemos que tendremos mucho mas datos nuevos. Aunque, en estricto sentido esta mal, pero nos ayuda a ahorrarnos tiempo y hacer el codigo mas sencillo. Pues no tenemos que manejar diferentes bases.  \n",
        "\n",
        "Lo correcto es al acabar este analisis, es optimizar/refactor el codigo que tenemos y entonces si hacer un analisis con lo aprendido y con los datos divididos desde el inicio."
      ]
    },
    {
      "cell_type": "code",
      "source": [
        "df_train = data_train.copy()\n",
        "df_test = data_test.copy()\n",
        "df_train.rename(columns={'charged_off':'y'}, inplace=True)\n",
        "df_test.rename(columns={'charged_off':'y'}, inplace=True)"
      ],
      "metadata": {
        "id": "h6GrcbR6OkoO"
      },
      "execution_count": 1991,
      "outputs": []
    },
    {
      "cell_type": "code",
      "source": [
        "from sklearn.impute import SimpleImputer\n",
        "imp_mean = SimpleImputer(missing_values=np.nan, strategy='mean')\n",
        "df_train = pd.DataFrame(imp_mean.fit_transform(df_train), columns=df_train.columns)\n",
        "\n",
        "df_test = pd.DataFrame(imp_mean.fit_transform(df_test), columns=df_test.columns)\n"
      ],
      "metadata": {
        "id": "vaBbB5g7R0VO"
      },
      "execution_count": 1992,
      "outputs": []
    },
    {
      "cell_type": "code",
      "source": [
        "print(df_test.shape)\n",
        "print(df_train.shape)"
      ],
      "metadata": {
        "colab": {
          "base_uri": "https://localhost:8080/"
        },
        "id": "yVEdaPhWT4Q1",
        "outputId": "30a63f33-93ae-4e5f-934e-e972eafa1b26"
      },
      "execution_count": 1993,
      "outputs": [
        {
          "output_type": "stream",
          "name": "stdout",
          "text": [
            "(17228, 27)\n",
            "(68909, 27)\n"
          ]
        }
      ]
    },
    {
      "cell_type": "markdown",
      "metadata": {
        "id": "mLiBJy7_s7HN"
      },
      "source": [
        "## (sub) Sampleo de Datos"
      ]
    },
    {
      "cell_type": "markdown",
      "metadata": {
        "id": "8mHTY2fBwR4F"
      },
      "source": [
        "Dado que tenemos clases desbalanceadas podemos realizar subsampling (reduccion) de la clase con mas etiquetas, o oversampling (aumento) de la clase con menos etiquetas.  Para la clase realizaremos, subsampling. De **tarea** realiza oversampling (seccion de abajo)."
      ]
    },
    {
      "cell_type": "code",
      "metadata": {
        "id": "aUy2_MvT9gN4"
      },
      "source": [
        "df_train_sub = df_train.copy()"
      ],
      "execution_count": 1994,
      "outputs": []
    },
    {
      "cell_type": "code",
      "metadata": {
        "colab": {
          "base_uri": "https://localhost:8080/"
        },
        "id": "MG1PIwTOs_fj",
        "outputId": "e3f5ab34-f456-4211-df06-57fe75333136"
      },
      "source": [
        "df_train_sub['y'].value_counts()"
      ],
      "execution_count": 1995,
      "outputs": [
        {
          "output_type": "execute_result",
          "data": {
            "text/plain": [
              "0.0    55984\n",
              "1.0    12925\n",
              "Name: y, dtype: int64"
            ]
          },
          "metadata": {},
          "execution_count": 1995
        }
      ]
    },
    {
      "cell_type": "code",
      "metadata": {
        "id": "ykZxdztRtigO",
        "colab": {
          "base_uri": "https://localhost:8080/"
        },
        "outputId": "4af573d9-d957-4ac1-9ae0-d44b80a5d08b"
      },
      "source": [
        "default_0 = df_train_sub[df_train_sub['y']==0]\n",
        "default_1 = df_train_sub[df_train_sub['y']==1]\n",
        "# Subsample default_0\n",
        "default_0 = default_0.sample(n=default_1.shape[0], random_state=152, \n",
        "                             replace=False)\n",
        "# Merge datasets\n",
        "df_train_sub = pd.concat([default_1, default_0],ignore_index=True)\n",
        "df_train_sub = df_train_sub.sample(frac=1.0).reset_index(drop=True)\n",
        "df_train_sub['y'].value_counts()"
      ],
      "execution_count": 1996,
      "outputs": [
        {
          "output_type": "execute_result",
          "data": {
            "text/plain": [
              "1.0    12925\n",
              "0.0    12925\n",
              "Name: y, dtype: int64"
            ]
          },
          "metadata": {},
          "execution_count": 1996
        }
      ]
    },
    {
      "cell_type": "markdown",
      "metadata": {
        "id": "oa9dMg2hwEs1"
      },
      "source": [
        "## (over) Sampleo de Datos"
      ]
    },
    {
      "cell_type": "markdown",
      "metadata": {
        "id": "GAjXoO2WwGxk"
      },
      "source": [
        "La siguiente celda contiene el codigo de oversampling.  \n",
        "+ Piensa si el oversampling de datos deberia hacerse despues o antes de train/test, o de laguna otra forma?"
      ]
    },
    {
      "cell_type": "code",
      "metadata": {
        "id": "Btqjyl6IvrSq",
        "colab": {
          "base_uri": "https://localhost:8080/"
        },
        "outputId": "c1eb42ba-9485-4137-eb21-e02ee17aa2ed"
      },
      "source": [
        "df_train_over = df_train.copy()\n",
        "df_train_over['y'].value_counts()"
      ],
      "execution_count": 1997,
      "outputs": [
        {
          "output_type": "execute_result",
          "data": {
            "text/plain": [
              "0.0    55984\n",
              "1.0    12925\n",
              "Name: y, dtype: int64"
            ]
          },
          "metadata": {},
          "execution_count": 1997
        }
      ]
    },
    {
      "cell_type": "code",
      "source": [
        "default_0 = df_train_over[df_train_over['y']==0]\n",
        "default_1 = df_train_over[df_train_over['y']==1]\n",
        "# Subsample default_1\n",
        "default_1 = default_1.sample(frac=default_0.shape[0]/default_1.shape[0], random_state=152, \n",
        "                             replace=True)\n",
        "default_1.shape"
      ],
      "metadata": {
        "colab": {
          "base_uri": "https://localhost:8080/"
        },
        "id": "iyk9DbQBQd4V",
        "outputId": "ca40583d-eed7-4bee-c894-a55f0eb8d99f"
      },
      "execution_count": 1998,
      "outputs": [
        {
          "output_type": "execute_result",
          "data": {
            "text/plain": [
              "(55984, 27)"
            ]
          },
          "metadata": {},
          "execution_count": 1998
        }
      ]
    },
    {
      "cell_type": "code",
      "source": [
        "# Merge datasets\n",
        "df_train_over = pd.concat([default_1, default_0],ignore_index=True)\n",
        "df_train_over['y'].value_counts()"
      ],
      "metadata": {
        "colab": {
          "base_uri": "https://localhost:8080/"
        },
        "id": "olEuuLS2PYKL",
        "outputId": "72c8ab8e-dae7-45dc-a674-03382164c10c"
      },
      "execution_count": 1999,
      "outputs": [
        {
          "output_type": "execute_result",
          "data": {
            "text/plain": [
              "1.0    55984\n",
              "0.0    55984\n",
              "Name: y, dtype: int64"
            ]
          },
          "metadata": {},
          "execution_count": 1999
        }
      ]
    },
    {
      "cell_type": "markdown",
      "metadata": {
        "id": "b8XHUrazzGSO"
      },
      "source": [
        "### Imputacion de Datos"
      ]
    },
    {
      "cell_type": "markdown",
      "metadata": {
        "id": "zFTV6xSGyTwn"
      },
      "source": [
        "## Modelos"
      ]
    },
    {
      "cell_type": "markdown",
      "source": [
        "Scoring Metrics [source](https://scikit-learn.org/stable/modules/model_evaluation.html)"
      ],
      "metadata": {
        "id": "O8XXHR7vVwav"
      }
    },
    {
      "cell_type": "code",
      "metadata": {
        "id": "U9nd-kx5yo8A"
      },
      "source": [
        "# Normalizacion\n",
        "from sklearn import preprocessing\n",
        "from sklearn.model_selection import cross_validate\n",
        "from sklearn.dummy import DummyClassifier\n",
        "def model_selection(df_train, num_folds=3, seed = 7364, scoring=[\"accuracy\",\"balanced_accuracy\",\"roc_auc\", \"f1\"]):\n",
        "    X_train = df_train.drop(columns=['y'])\n",
        "    Y_train = df_train[['y']]\n",
        "\n",
        "    mm_scaler = preprocessing.MinMaxScaler()\n",
        "    X_train = mm_scaler.fit_transform(X_train)\n",
        "\n",
        "    # spot check the algorithms\n",
        "    models = []\n",
        "    models.append(('DC', DummyClassifier(strategy=\"most_frequent\")))\n",
        "    models.append(('LR', LogisticRegression(max_iter=500)))\n",
        "    #models.append(('LDA', LinearDiscriminantAnalysis()))\n",
        "    models.append(('KNN', KNeighborsClassifier()))\n",
        "    #models.append(('CART', DecisionTreeClassifier()))\n",
        "    #models.append(('NB', GaussianNB()))\n",
        "        #Neural Network\n",
        "    models.append(('NN', MLPClassifier(max_iter=500, solver='sgd', \n",
        "                                    early_stopping=True)))\n",
        "    #Ensable Models \n",
        "    # Boosting methods\n",
        "    #models.append(('AB', AdaBoostClassifier()))\n",
        "    models.append(('GBM', GradientBoostingClassifier()))\n",
        "    # Bagging methods\n",
        "    models.append(('RF', RandomForestClassifier()))\n",
        "    #models.append(('ET', ExtraTreesClassifier()))\n",
        "\n",
        "    # ##Opciones\n",
        "\n",
        "    results = [] \n",
        "\n",
        "    for name, model in models:\n",
        "        print(f\"\\n Model: {name} \\n\")\n",
        "        kfold = KFold(n_splits=num_folds, random_state=seed, shuffle=True)\n",
        "        cv_results = cross_validate(model, X_train, Y_train, cv=kfold,\n",
        "                                    scoring=scoring, n_jobs=-1)\n",
        "        cv_results = pd.DataFrame(cv_results)\n",
        "        print(cv_results.mean())\n",
        "        # msg = \"%s: %f (%f)\" % (name, cv_results.mean(), cv_results.std())\n",
        "        # print(msg)\n",
        "        # cv_results = pd.DataFrame({\n",
        "        #     'results':cv_results\n",
        "        # })\n",
        "        cv_results.loc[:,'model_name'] = name\n",
        "        results.append(cv_results)\n",
        "\n",
        "    # Convertir todos los resultados un solo DataFrame\n",
        "    results = pd.concat(results, ignore_index=True)\n",
        "    print(results.groupby(['model_name'], as_index=False).describe())\n",
        "    results_plot = pd.melt(results, id_vars='model_name', var_name=\"metric\") \n",
        "    sns.set(rc={'figure.figsize':(12,5)})\n",
        "    g = sns.FacetGrid(results_plot, row=\"metric\")\n",
        "    g.map(sns.boxplot, 'model_name','value')\n",
        "\n",
        "    #sns.boxplot(data=results, x='model_name', y ='results')\n",
        "    \n",
        "    return results"
      ],
      "execution_count": 2047,
      "outputs": []
    },
    {
      "cell_type": "code",
      "source": [
        "df_result = model_selection(df_train, num_folds=5)"
      ],
      "metadata": {
        "colab": {
          "base_uri": "https://localhost:8080/"
        },
        "id": "dODI7dV6VTPL",
        "outputId": "856d5c6d-785b-4130-de88-fc7c26807878"
      },
      "execution_count": null,
      "outputs": [
        {
          "output_type": "stream",
          "name": "stdout",
          "text": [
            "\n",
            " Model: DC \n",
            "\n",
            "fit_time                  0.017066\n",
            "score_time                0.027179\n",
            "test_accuracy             0.812434\n",
            "test_balanced_accuracy    0.500000\n",
            "test_roc_auc              0.500000\n",
            "test_f1                   0.000000\n",
            "dtype: float64\n",
            "\n",
            " Model: LR \n",
            "\n",
            "fit_time                  1.848852\n",
            "score_time                0.060910\n",
            "test_accuracy             0.880190\n",
            "test_balanced_accuracy    0.718308\n",
            "test_roc_auc              0.920884\n",
            "test_f1                   0.589737\n",
            "dtype: float64\n"
          ]
        }
      ]
    },
    {
      "cell_type": "code",
      "source": [
        "df_result_sub = model_selection(df_train_sub, num_folds=5)"
      ],
      "metadata": {
        "id": "50SGv6Njb9pN"
      },
      "execution_count": null,
      "outputs": []
    },
    {
      "cell_type": "code",
      "source": [
        "df_result_over = model_selection(df_train_over, num_folds=5)\n"
      ],
      "metadata": {
        "id": "ObkNH9TncA1b"
      },
      "execution_count": null,
      "outputs": []
    },
    {
      "cell_type": "markdown",
      "metadata": {
        "id": "KWUlM8p80ZjK"
      },
      "source": [
        "## GBM"
      ]
    },
    {
      "cell_type": "code",
      "metadata": {
        "colab": {
          "base_uri": "https://localhost:8080/"
        },
        "id": "6X6n1LIK_pjU",
        "outputId": "64f6b967-b18b-4546-e14c-d20775d3fe15"
      },
      "source": [
        "# Grid Search: GradientBoosting \n",
        "'''\n",
        "n_estimators : int (default=100)\n",
        "    Numero de boostings que realiza. Es bastante robusto a overfitting,\n",
        "    en comparacion con otros algoritmos de boosting. Por lo que, podemos usar\n",
        "    un numero grande.\n",
        "max_depth : integer, optional (default=3)\n",
        "    El depth o profundida de los estimadores individuales. \n",
        "    The maximum depth limits the number of nodes in the tree. \n",
        "    Tune this parameter for best performance; \n",
        "    the best value depends on the interaction of the input variables.\n",
        "\n",
        "''' \n",
        "n_estimators = [50, 100, 150,180]\n",
        "max_depth= [5, 7]\n",
        "param_grid = dict(n_estimators=n_estimators, max_depth=max_depth)\n",
        "\n",
        "model = GradientBoostingClassifier()\n",
        "kfold = KFold(n_splits=5, random_state=seed, shuffle=True)\n",
        "\n",
        "grid = GridSearchCV(estimator=model, param_grid=param_grid, scoring=scoring,\n",
        "                          cv=kfold, n_jobs=-1)\n",
        "grid_result = grid.fit(X_train, Y_train)\n",
        "\n",
        "#Print Results\n",
        "print(\"Mejor: %f using %s\" % (grid_result.best_score_, grid_result.best_params_))\n",
        "means = grid_result.cv_results_['mean_test_score']\n",
        "stds = grid_result.cv_results_['std_test_score']\n",
        "params = grid_result.cv_results_['params']\n",
        "ranks = grid_result.cv_results_['rank_test_score']\n",
        "for mean, stdev, param, rank in zip(means, stds, params, ranks):\n",
        "    print(\"#%d %f (%f) with: %r\" % (rank, mean, stdev, param))"
      ],
      "execution_count": 142,
      "outputs": [
        {
          "output_type": "stream",
          "name": "stdout",
          "text": [
            "Mejor: 0.941369 using {'max_depth': 5, 'n_estimators': 100}\n",
            "#5 0.940291 (0.001823) with: {'max_depth': 5, 'n_estimators': 50}\n",
            "#1 0.941369 (0.001813) with: {'max_depth': 5, 'n_estimators': 100}\n",
            "#2 0.941230 (0.001627) with: {'max_depth': 5, 'n_estimators': 150}\n",
            "#4 0.940872 (0.001768) with: {'max_depth': 5, 'n_estimators': 180}\n",
            "#8 0.939633 (0.002381) with: {'max_depth': 7, 'n_estimators': 50}\n",
            "#3 0.940934 (0.002295) with: {'max_depth': 7, 'n_estimators': 100}\n",
            "#6 0.940125 (0.002702) with: {'max_depth': 7, 'n_estimators': 150}\n",
            "#7 0.940003 (0.002362) with: {'max_depth': 7, 'n_estimators': 180}\n"
          ]
        }
      ]
    },
    {
      "cell_type": "code",
      "source": [
        "pd.DataFrame(grid_result.cv_results_)"
      ],
      "metadata": {
        "id": "PahjzyP5cyOE",
        "outputId": "335f9581-0168-46f7-b610-488a19d0fedb",
        "colab": {
          "base_uri": "https://localhost:8080/",
          "height": 781
        }
      },
      "execution_count": 143,
      "outputs": [
        {
          "output_type": "execute_result",
          "data": {
            "text/plain": [
              "   mean_fit_time  std_fit_time  mean_score_time  std_score_time  \\\n",
              "0       7.380579      0.248916         0.011968        0.001689   \n",
              "1      16.853966      0.982311         0.015881        0.000687   \n",
              "2      21.999150      0.657907         0.024515        0.007994   \n",
              "3      28.603230      0.957992         0.026537        0.004488   \n",
              "4      10.314760      0.096783         0.012918        0.000312   \n",
              "5      23.113026      1.912640         0.023861        0.008164   \n",
              "6      34.192067      3.913135         0.027240        0.000552   \n",
              "7      38.000957      1.954920         0.031161        0.002891   \n",
              "\n",
              "  param_max_depth param_n_estimators                                 params  \\\n",
              "0               5                 50   {'max_depth': 5, 'n_estimators': 50}   \n",
              "1               5                100  {'max_depth': 5, 'n_estimators': 100}   \n",
              "2               5                150  {'max_depth': 5, 'n_estimators': 150}   \n",
              "3               5                180  {'max_depth': 5, 'n_estimators': 180}   \n",
              "4               7                 50   {'max_depth': 7, 'n_estimators': 50}   \n",
              "5               7                100  {'max_depth': 7, 'n_estimators': 100}   \n",
              "6               7                150  {'max_depth': 7, 'n_estimators': 150}   \n",
              "7               7                180  {'max_depth': 7, 'n_estimators': 180}   \n",
              "\n",
              "   split0_test_score  split1_test_score  split2_test_score  split3_test_score  \\\n",
              "0           0.941353           0.937895           0.938268           0.941912   \n",
              "1           0.941912           0.939332           0.939137           0.943051   \n",
              "2           0.941574           0.939877           0.938876           0.942705   \n",
              "3           0.941262           0.938824           0.938797           0.942651   \n",
              "4           0.940456           0.936390           0.937262           0.941887   \n",
              "5           0.941274           0.938029           0.938567           0.943445   \n",
              "6           0.941345           0.937627           0.936259           0.942160   \n",
              "7           0.940488           0.937895           0.936702           0.942160   \n",
              "\n",
              "   split4_test_score  mean_test_score  std_test_score  rank_test_score  \n",
              "0           0.942030         0.940291        0.001823                5  \n",
              "1           0.943411         0.941369        0.001813                1  \n",
              "2           0.943119         0.941230        0.001627                2  \n",
              "3           0.942824         0.940872        0.001768                4  \n",
              "4           0.942171         0.939633        0.002381                8  \n",
              "5           0.943355         0.940934        0.002295                3  \n",
              "6           0.943236         0.940125        0.002702                6  \n",
              "7           0.942771         0.940003        0.002362                7  "
            ],
            "text/html": [
              "\n",
              "  <div id=\"df-ca2f6909-834b-42a2-b229-79cb9201208c\">\n",
              "    <div class=\"colab-df-container\">\n",
              "      <div>\n",
              "<style scoped>\n",
              "    .dataframe tbody tr th:only-of-type {\n",
              "        vertical-align: middle;\n",
              "    }\n",
              "\n",
              "    .dataframe tbody tr th {\n",
              "        vertical-align: top;\n",
              "    }\n",
              "\n",
              "    .dataframe thead th {\n",
              "        text-align: right;\n",
              "    }\n",
              "</style>\n",
              "<table border=\"1\" class=\"dataframe\">\n",
              "  <thead>\n",
              "    <tr style=\"text-align: right;\">\n",
              "      <th></th>\n",
              "      <th>mean_fit_time</th>\n",
              "      <th>std_fit_time</th>\n",
              "      <th>mean_score_time</th>\n",
              "      <th>std_score_time</th>\n",
              "      <th>param_max_depth</th>\n",
              "      <th>param_n_estimators</th>\n",
              "      <th>params</th>\n",
              "      <th>split0_test_score</th>\n",
              "      <th>split1_test_score</th>\n",
              "      <th>split2_test_score</th>\n",
              "      <th>split3_test_score</th>\n",
              "      <th>split4_test_score</th>\n",
              "      <th>mean_test_score</th>\n",
              "      <th>std_test_score</th>\n",
              "      <th>rank_test_score</th>\n",
              "    </tr>\n",
              "  </thead>\n",
              "  <tbody>\n",
              "    <tr>\n",
              "      <th>0</th>\n",
              "      <td>7.380579</td>\n",
              "      <td>0.248916</td>\n",
              "      <td>0.011968</td>\n",
              "      <td>0.001689</td>\n",
              "      <td>5</td>\n",
              "      <td>50</td>\n",
              "      <td>{'max_depth': 5, 'n_estimators': 50}</td>\n",
              "      <td>0.941353</td>\n",
              "      <td>0.937895</td>\n",
              "      <td>0.938268</td>\n",
              "      <td>0.941912</td>\n",
              "      <td>0.942030</td>\n",
              "      <td>0.940291</td>\n",
              "      <td>0.001823</td>\n",
              "      <td>5</td>\n",
              "    </tr>\n",
              "    <tr>\n",
              "      <th>1</th>\n",
              "      <td>16.853966</td>\n",
              "      <td>0.982311</td>\n",
              "      <td>0.015881</td>\n",
              "      <td>0.000687</td>\n",
              "      <td>5</td>\n",
              "      <td>100</td>\n",
              "      <td>{'max_depth': 5, 'n_estimators': 100}</td>\n",
              "      <td>0.941912</td>\n",
              "      <td>0.939332</td>\n",
              "      <td>0.939137</td>\n",
              "      <td>0.943051</td>\n",
              "      <td>0.943411</td>\n",
              "      <td>0.941369</td>\n",
              "      <td>0.001813</td>\n",
              "      <td>1</td>\n",
              "    </tr>\n",
              "    <tr>\n",
              "      <th>2</th>\n",
              "      <td>21.999150</td>\n",
              "      <td>0.657907</td>\n",
              "      <td>0.024515</td>\n",
              "      <td>0.007994</td>\n",
              "      <td>5</td>\n",
              "      <td>150</td>\n",
              "      <td>{'max_depth': 5, 'n_estimators': 150}</td>\n",
              "      <td>0.941574</td>\n",
              "      <td>0.939877</td>\n",
              "      <td>0.938876</td>\n",
              "      <td>0.942705</td>\n",
              "      <td>0.943119</td>\n",
              "      <td>0.941230</td>\n",
              "      <td>0.001627</td>\n",
              "      <td>2</td>\n",
              "    </tr>\n",
              "    <tr>\n",
              "      <th>3</th>\n",
              "      <td>28.603230</td>\n",
              "      <td>0.957992</td>\n",
              "      <td>0.026537</td>\n",
              "      <td>0.004488</td>\n",
              "      <td>5</td>\n",
              "      <td>180</td>\n",
              "      <td>{'max_depth': 5, 'n_estimators': 180}</td>\n",
              "      <td>0.941262</td>\n",
              "      <td>0.938824</td>\n",
              "      <td>0.938797</td>\n",
              "      <td>0.942651</td>\n",
              "      <td>0.942824</td>\n",
              "      <td>0.940872</td>\n",
              "      <td>0.001768</td>\n",
              "      <td>4</td>\n",
              "    </tr>\n",
              "    <tr>\n",
              "      <th>4</th>\n",
              "      <td>10.314760</td>\n",
              "      <td>0.096783</td>\n",
              "      <td>0.012918</td>\n",
              "      <td>0.000312</td>\n",
              "      <td>7</td>\n",
              "      <td>50</td>\n",
              "      <td>{'max_depth': 7, 'n_estimators': 50}</td>\n",
              "      <td>0.940456</td>\n",
              "      <td>0.936390</td>\n",
              "      <td>0.937262</td>\n",
              "      <td>0.941887</td>\n",
              "      <td>0.942171</td>\n",
              "      <td>0.939633</td>\n",
              "      <td>0.002381</td>\n",
              "      <td>8</td>\n",
              "    </tr>\n",
              "    <tr>\n",
              "      <th>5</th>\n",
              "      <td>23.113026</td>\n",
              "      <td>1.912640</td>\n",
              "      <td>0.023861</td>\n",
              "      <td>0.008164</td>\n",
              "      <td>7</td>\n",
              "      <td>100</td>\n",
              "      <td>{'max_depth': 7, 'n_estimators': 100}</td>\n",
              "      <td>0.941274</td>\n",
              "      <td>0.938029</td>\n",
              "      <td>0.938567</td>\n",
              "      <td>0.943445</td>\n",
              "      <td>0.943355</td>\n",
              "      <td>0.940934</td>\n",
              "      <td>0.002295</td>\n",
              "      <td>3</td>\n",
              "    </tr>\n",
              "    <tr>\n",
              "      <th>6</th>\n",
              "      <td>34.192067</td>\n",
              "      <td>3.913135</td>\n",
              "      <td>0.027240</td>\n",
              "      <td>0.000552</td>\n",
              "      <td>7</td>\n",
              "      <td>150</td>\n",
              "      <td>{'max_depth': 7, 'n_estimators': 150}</td>\n",
              "      <td>0.941345</td>\n",
              "      <td>0.937627</td>\n",
              "      <td>0.936259</td>\n",
              "      <td>0.942160</td>\n",
              "      <td>0.943236</td>\n",
              "      <td>0.940125</td>\n",
              "      <td>0.002702</td>\n",
              "      <td>6</td>\n",
              "    </tr>\n",
              "    <tr>\n",
              "      <th>7</th>\n",
              "      <td>38.000957</td>\n",
              "      <td>1.954920</td>\n",
              "      <td>0.031161</td>\n",
              "      <td>0.002891</td>\n",
              "      <td>7</td>\n",
              "      <td>180</td>\n",
              "      <td>{'max_depth': 7, 'n_estimators': 180}</td>\n",
              "      <td>0.940488</td>\n",
              "      <td>0.937895</td>\n",
              "      <td>0.936702</td>\n",
              "      <td>0.942160</td>\n",
              "      <td>0.942771</td>\n",
              "      <td>0.940003</td>\n",
              "      <td>0.002362</td>\n",
              "      <td>7</td>\n",
              "    </tr>\n",
              "  </tbody>\n",
              "</table>\n",
              "</div>\n",
              "      <button class=\"colab-df-convert\" onclick=\"convertToInteractive('df-ca2f6909-834b-42a2-b229-79cb9201208c')\"\n",
              "              title=\"Convert this dataframe to an interactive table.\"\n",
              "              style=\"display:none;\">\n",
              "        \n",
              "  <svg xmlns=\"http://www.w3.org/2000/svg\" height=\"24px\"viewBox=\"0 0 24 24\"\n",
              "       width=\"24px\">\n",
              "    <path d=\"M0 0h24v24H0V0z\" fill=\"none\"/>\n",
              "    <path d=\"M18.56 5.44l.94 2.06.94-2.06 2.06-.94-2.06-.94-.94-2.06-.94 2.06-2.06.94zm-11 1L8.5 8.5l.94-2.06 2.06-.94-2.06-.94L8.5 2.5l-.94 2.06-2.06.94zm10 10l.94 2.06.94-2.06 2.06-.94-2.06-.94-.94-2.06-.94 2.06-2.06.94z\"/><path d=\"M17.41 7.96l-1.37-1.37c-.4-.4-.92-.59-1.43-.59-.52 0-1.04.2-1.43.59L10.3 9.45l-7.72 7.72c-.78.78-.78 2.05 0 2.83L4 21.41c.39.39.9.59 1.41.59.51 0 1.02-.2 1.41-.59l7.78-7.78 2.81-2.81c.8-.78.8-2.07 0-2.86zM5.41 20L4 18.59l7.72-7.72 1.47 1.35L5.41 20z\"/>\n",
              "  </svg>\n",
              "      </button>\n",
              "      \n",
              "  <style>\n",
              "    .colab-df-container {\n",
              "      display:flex;\n",
              "      flex-wrap:wrap;\n",
              "      gap: 12px;\n",
              "    }\n",
              "\n",
              "    .colab-df-convert {\n",
              "      background-color: #E8F0FE;\n",
              "      border: none;\n",
              "      border-radius: 50%;\n",
              "      cursor: pointer;\n",
              "      display: none;\n",
              "      fill: #1967D2;\n",
              "      height: 32px;\n",
              "      padding: 0 0 0 0;\n",
              "      width: 32px;\n",
              "    }\n",
              "\n",
              "    .colab-df-convert:hover {\n",
              "      background-color: #E2EBFA;\n",
              "      box-shadow: 0px 1px 2px rgba(60, 64, 67, 0.3), 0px 1px 3px 1px rgba(60, 64, 67, 0.15);\n",
              "      fill: #174EA6;\n",
              "    }\n",
              "\n",
              "    [theme=dark] .colab-df-convert {\n",
              "      background-color: #3B4455;\n",
              "      fill: #D2E3FC;\n",
              "    }\n",
              "\n",
              "    [theme=dark] .colab-df-convert:hover {\n",
              "      background-color: #434B5C;\n",
              "      box-shadow: 0px 1px 3px 1px rgba(0, 0, 0, 0.15);\n",
              "      filter: drop-shadow(0px 1px 2px rgba(0, 0, 0, 0.3));\n",
              "      fill: #FFFFFF;\n",
              "    }\n",
              "  </style>\n",
              "\n",
              "      <script>\n",
              "        const buttonEl =\n",
              "          document.querySelector('#df-ca2f6909-834b-42a2-b229-79cb9201208c button.colab-df-convert');\n",
              "        buttonEl.style.display =\n",
              "          google.colab.kernel.accessAllowed ? 'block' : 'none';\n",
              "\n",
              "        async function convertToInteractive(key) {\n",
              "          const element = document.querySelector('#df-ca2f6909-834b-42a2-b229-79cb9201208c');\n",
              "          const dataTable =\n",
              "            await google.colab.kernel.invokeFunction('convertToInteractive',\n",
              "                                                     [key], {});\n",
              "          if (!dataTable) return;\n",
              "\n",
              "          const docLinkHtml = 'Like what you see? Visit the ' +\n",
              "            '<a target=\"_blank\" href=https://colab.research.google.com/notebooks/data_table.ipynb>data table notebook</a>'\n",
              "            + ' to learn more about interactive tables.';\n",
              "          element.innerHTML = '';\n",
              "          dataTable['output_type'] = 'display_data';\n",
              "          await google.colab.output.renderOutput(dataTable, element);\n",
              "          const docLink = document.createElement('div');\n",
              "          docLink.innerHTML = docLinkHtml;\n",
              "          element.appendChild(docLink);\n",
              "        }\n",
              "      </script>\n",
              "    </div>\n",
              "  </div>\n",
              "  "
            ]
          },
          "metadata": {},
          "execution_count": 143
        }
      ]
    },
    {
      "cell_type": "markdown",
      "metadata": {
        "id": "wAigJxy5jZrp"
      },
      "source": [
        "## Test"
      ]
    },
    {
      "cell_type": "code",
      "metadata": {
        "colab": {
          "base_uri": "https://localhost:8080/"
        },
        "id": "rL3wSOv1jeAF",
        "outputId": "e7730647-7708-4773-c0b4-f69db37931c5"
      },
      "source": [
        "model = GradientBoostingClassifier(max_depth= 5, n_estimators= 180)\n",
        "model.fit(X_train, Y_train)"
      ],
      "execution_count": 144,
      "outputs": [
        {
          "output_type": "execute_result",
          "data": {
            "text/plain": [
              "GradientBoostingClassifier(max_depth=5, n_estimators=180)"
            ]
          },
          "metadata": {},
          "execution_count": 144
        }
      ]
    },
    {
      "cell_type": "code",
      "metadata": {
        "colab": {
          "base_uri": "https://localhost:8080/"
        },
        "id": "Erl4eIbsjgtl",
        "outputId": "610f5f7f-e0a8-40fd-dfda-4cf3512298ea"
      },
      "source": [
        "predictions = model.predict(X_validation)\n",
        "print(accuracy_score(Y_validation, predictions))\n",
        "print(confusion_matrix(Y_validation, predictions))\n",
        "print(classification_report(Y_validation, predictions))"
      ],
      "execution_count": 145,
      "outputs": [
        {
          "output_type": "stream",
          "name": "stdout",
          "text": [
            "0.8539377997833824\n",
            "[[2496  687]\n",
            " [ 257 3023]]\n",
            "              precision    recall  f1-score   support\n",
            "\n",
            "           0       0.91      0.78      0.84      3183\n",
            "           1       0.81      0.92      0.86      3280\n",
            "\n",
            "    accuracy                           0.85      6463\n",
            "   macro avg       0.86      0.85      0.85      6463\n",
            "weighted avg       0.86      0.85      0.85      6463\n",
            "\n"
          ]
        }
      ]
    },
    {
      "cell_type": "code",
      "source": [
        "predictions = model.predict(X_validation)\n",
        "print(accuracy_score(Y_validation, predictions))\n",
        "print(confusion_matrix(Y_validation, predictions))\n",
        "print(classification_report(Y_validation, predictions))"
      ],
      "metadata": {
        "colab": {
          "base_uri": "https://localhost:8080/"
        },
        "id": "NjhI9njYW8lP",
        "outputId": "5ef84429-c139-4a75-9b93-cc046a66158e"
      },
      "execution_count": 146,
      "outputs": [
        {
          "output_type": "stream",
          "name": "stdout",
          "text": [
            "0.8539377997833824\n",
            "[[2496  687]\n",
            " [ 257 3023]]\n",
            "              precision    recall  f1-score   support\n",
            "\n",
            "           0       0.91      0.78      0.84      3183\n",
            "           1       0.81      0.92      0.86      3280\n",
            "\n",
            "    accuracy                           0.85      6463\n",
            "   macro avg       0.86      0.85      0.85      6463\n",
            "weighted avg       0.86      0.85      0.85      6463\n",
            "\n"
          ]
        }
      ]
    },
    {
      "cell_type": "code",
      "source": [
        "predictions_p = model.predict_proba(X_validation)\n",
        "predictions_p"
      ],
      "metadata": {
        "colab": {
          "base_uri": "https://localhost:8080/"
        },
        "id": "wz1-WzUVY6pr",
        "outputId": "68c1927e-df66-4607-bf7d-6f3758f22e6c"
      },
      "execution_count": 147,
      "outputs": [
        {
          "output_type": "execute_result",
          "data": {
            "text/plain": [
              "array([[0.99821542, 0.00178458],\n",
              "       [0.00409681, 0.99590319],\n",
              "       [0.09496131, 0.90503869],\n",
              "       ...,\n",
              "       [0.4442869 , 0.5557131 ],\n",
              "       [0.99665933, 0.00334067],\n",
              "       [0.55288938, 0.44711062]])"
            ]
          },
          "metadata": {},
          "execution_count": 147
        }
      ]
    },
    {
      "cell_type": "code",
      "source": [
        "from sklearn import  metrics\n",
        "metrics.plot_roc_curve(model,X_validation, Y_validation) \n",
        "metrics.roc_auc_score(Y_validation, predictions_p[:,1])"
      ],
      "metadata": {
        "colab": {
          "base_uri": "https://localhost:8080/",
          "height": 411
        },
        "id": "BaQPR2phU2OZ",
        "outputId": "65c37df6-305a-45c9-d41a-8e29c30639de"
      },
      "execution_count": 149,
      "outputs": [
        {
          "output_type": "stream",
          "name": "stderr",
          "text": [
            "/usr/local/lib/python3.8/dist-packages/sklearn/utils/deprecation.py:87: FutureWarning: Function plot_roc_curve is deprecated; Function :func:`plot_roc_curve` is deprecated in 1.0 and will be removed in 1.2. Use one of the class methods: :meth:`sklearn.metric.RocCurveDisplay.from_predictions` or :meth:`sklearn.metric.RocCurveDisplay.from_estimator`.\n",
            "  warnings.warn(msg, category=FutureWarning)\n"
          ]
        },
        {
          "output_type": "execute_result",
          "data": {
            "text/plain": [
              "0.9373896577090182"
            ]
          },
          "metadata": {},
          "execution_count": 149
        },
        {
          "output_type": "display_data",
          "data": {
            "text/plain": [
              "<Figure size 864x360 with 1 Axes>"
            ],
            "image/png": "[encoded data removed]"
          },
          "metadata": {}
        }
      ]
    },
    {
      "cell_type": "code",
      "metadata": {
        "colab": {
          "base_uri": "https://localhost:8080/",
          "height": 358
        },
        "id": "Ke3HgMngj9xH",
        "outputId": "0f2e223a-a940-4412-f7e1-733c75dcdc0c"
      },
      "source": [
        "df_cm = pd.DataFrame(confusion_matrix(Y_validation, predictions), \n",
        "                     columns=np.unique(Y_validation), index = np.unique(Y_validation))\n",
        "df_cm.index.name = 'Verdadero'\n",
        "df_cm.columns.name = 'Predecido'\n",
        "sns.heatmap(df_cm, cmap=\"Blues\", annot=True,annot_kws={\"size\": 16})# font sizes"
      ],
      "execution_count": 151,
      "outputs": [
        {
          "output_type": "execute_result",
          "data": {
            "text/plain": [
              "<AxesSubplot:xlabel='Predecido', ylabel='Verdadero'>"
            ]
          },
          "metadata": {},
          "execution_count": 151
        },
        {
          "output_type": "display_data",
          "data": {
            "text/plain": [
              "<Figure size 864x360 with 2 Axes>"
            ],
            "image/png": "[encoded data removed]"
          },
          "metadata": {}
        }
      ]
    },
    {
      "cell_type": "markdown",
      "metadata": {
        "id": "gqDu1ya1kSx5"
      },
      "source": [
        "### Feature Importance"
      ]
    },
    {
      "cell_type": "code",
      "metadata": {
        "colab": {
          "base_uri": "https://localhost:8080/",
          "height": 426
        },
        "id": "ijSjo627kUoz",
        "outputId": "eac5fb11-7594-476d-e9b3-22e6e1d0ea02"
      },
      "source": [
        "print(model.feature_importances_) \n",
        "feat_importances = pd.Series(model.feature_importances_, index=X.columns)\n",
        "feat_importances.nlargest(10).plot(kind='barh')\n",
        "plt.show()"
      ],
      "execution_count": 152,
      "outputs": [
        {
          "output_type": "stream",
          "name": "stdout",
          "text": [
            "[3.55487289e-02 1.12332379e-01 7.02464838e-02 7.68481394e-03\n",
            " 9.90670701e-03 2.67044415e-03 4.17339251e-03 1.99274946e-03\n",
            " 4.11393495e-03 7.04167988e-01 1.20391847e-02 8.00612284e-03\n",
            " 5.09298766e-03 5.72453766e-03 5.56340418e-03 4.32621344e-03\n",
            " 1.26262283e-03 2.14413342e-03 1.26390811e-03 3.64202248e-04\n",
            " 5.37422633e-04 1.43190537e-04 2.07496865e-04 4.86951260e-04]\n"
          ]
        },
        {
          "output_type": "display_data",
          "data": {
            "text/plain": [
              "<Figure size 864x360 with 1 Axes>"
            ],
            "image/png": "[encoded data removed]"
          },
          "metadata": {}
        }
      ]
    },
    {
      "cell_type": "code",
      "metadata": {
        "colab": {
          "base_uri": "https://localhost:8080/"
        },
        "id": "tgrfJ8BOk20-",
        "outputId": "5b232694-2760-4553-ec58-249af991fb8c"
      },
      "source": [
        "feat_importances"
      ],
      "execution_count": 153,
      "outputs": [
        {
          "output_type": "execute_result",
          "data": {
            "text/plain": [
              "loan_amnt                              0.035549\n",
              "term                                   0.112332\n",
              "int_rate                               0.070246\n",
              "annual_inc                             0.007685\n",
              "dti                                    0.009907\n",
              "earliest_cr_line                       0.002670\n",
              "fico_range_low                         0.004173\n",
              "open_acc                               0.001993\n",
              "revol_util                             0.004114\n",
              "last_pymnt_amnt                        0.704168\n",
              "acc_open_past_24mths                   0.012039\n",
              "avg_cur_bal                            0.008006\n",
              "bc_open_to_buy                         0.005093\n",
              "bc_util                                0.005725\n",
              "mo_sin_old_rev_tl_op                   0.005563\n",
              "mo_sin_rcnt_rev_tl_op                  0.004326\n",
              "mort_acc                               0.001263\n",
              "num_actv_rev_tl                        0.002144\n",
              "home_ownership_RENT                    0.001264\n",
              "verification_status_Source Verified    0.000364\n",
              "verification_status_Verified           0.000537\n",
              "purpose_credit_card                    0.000143\n",
              "purpose_debt_consolidation             0.000207\n",
              "initial_list_status_w                  0.000487\n",
              "dtype: float64"
            ]
          },
          "metadata": {},
          "execution_count": 153
        }
      ]
    },
    {
      "cell_type": "markdown",
      "source": [
        "# Autogluon"
      ],
      "metadata": {
        "id": "bYHi92-uoymw"
      }
    },
    {
      "cell_type": "code",
      "source": [
        "! pip install autogluon"
      ],
      "metadata": {
        "id": "hbr9Se6ro0GO"
      },
      "execution_count": null,
      "outputs": []
    },
    {
      "cell_type": "code",
      "source": [
        "loans_ag = pd.read_csv('https://github.com/IEXE-Tec/mcda-fintech/blob/master/default_proyecto/LoansData_sample.csv.gz?raw=true', \n",
        "                    compression='gzip', encoding='utf-8')"
      ],
      "metadata": {
        "colab": {
          "base_uri": "https://localhost:8080/"
        },
        "id": "LLjsP7eKpIU8",
        "outputId": "61f1cb46-82ea-4be4-a986-effcfb801a58"
      },
      "execution_count": 155,
      "outputs": [
        {
          "output_type": "stream",
          "name": "stderr",
          "text": [
            "/usr/local/lib/python3.8/dist-packages/IPython/core/interactiveshell.py:3326: DtypeWarning: Columns (19) have mixed types.Specify dtype option on import or set low_memory=False.\n",
            "  exec(code_obj, self.user_global_ns, self.user_ns)\n"
          ]
        }
      ]
    },
    {
      "cell_type": "code",
      "source": [
        "loans_ag['charged_off'] = (loans_ag['loan_status'] == 'Charged Off').apply(np.uint8)\n",
        "loans_ag.drop('loan_status', axis=1, inplace=True)\n",
        "loans_ag['charged_off'].unique()"
      ],
      "metadata": {
        "colab": {
          "base_uri": "https://localhost:8080/"
        },
        "id": "EGEqMXzLparm",
        "outputId": "39482c34-6123-4f10-ed3c-4ef1aacbb5a3"
      },
      "execution_count": 156,
      "outputs": [
        {
          "output_type": "execute_result",
          "data": {
            "text/plain": [
              "array([0, 1], dtype=int8)"
            ]
          },
          "metadata": {},
          "execution_count": 156
        }
      ]
    },
    {
      "cell_type": "code",
      "source": [
        "loans_ag"
      ],
      "metadata": {
        "colab": {
          "base_uri": "https://localhost:8080/",
          "height": 679
        },
        "id": "Jc3OL1ZZphZr",
        "outputId": "f967feef-91fc-47fe-93c4-f08e6e562757"
      },
      "execution_count": 157,
      "outputs": [
        {
          "output_type": "execute_result",
          "data": {
            "text/plain": [
              "       Unnamed: 0        id  member_id  loan_amnt  funded_amnt  \\\n",
              "0               0  38098114        NaN    15000.0      15000.0   \n",
              "1               1  36805548        NaN    10400.0      10400.0   \n",
              "2               2  37842129        NaN    21425.0      21425.0   \n",
              "3               3  37612354        NaN    12800.0      12800.0   \n",
              "4               4  37662224        NaN     7650.0       7650.0   \n",
              "...           ...       ...        ...        ...          ...   \n",
              "99995       99995  22454240        NaN     8400.0       8400.0   \n",
              "99996       99996  11396920        NaN    10000.0      10000.0   \n",
              "99997       99997   8556176        NaN    30000.0      30000.0   \n",
              "99998       99998  24023408        NaN     8475.0       8475.0   \n",
              "99999       99999  24023398        NaN    25000.0      25000.0   \n",
              "\n",
              "       funded_amnt_inv        term  int_rate  installment grade  ...  \\\n",
              "0              15000.0   60 months     12.39       336.64     C  ...   \n",
              "1              10400.0   36 months      6.99       321.08     A  ...   \n",
              "2              21425.0   60 months     15.59       516.36     D  ...   \n",
              "3              12800.0   60 months     17.14       319.08     D  ...   \n",
              "4               7650.0   36 months     13.66       260.20     C  ...   \n",
              "...                ...         ...       ...          ...   ...  ...   \n",
              "99995           8400.0   36 months      9.17       267.79     B  ...   \n",
              "99996          10000.0   36 months     12.99       336.90     C  ...   \n",
              "99997          30000.0   60 months     20.99       811.44     E  ...   \n",
              "99998           8475.0   36 months     24.99       336.92     F  ...   \n",
              "99999          25000.0   36 months     10.15       808.45     B  ...   \n",
              "\n",
              "      hardship_last_payment_amount disbursement_method debt_settlement_flag  \\\n",
              "0                              NaN                Cash                    N   \n",
              "1                              NaN                Cash                    N   \n",
              "2                              NaN                Cash                    N   \n",
              "3                              NaN                Cash                    N   \n",
              "4                              NaN                Cash                    N   \n",
              "...                            ...                 ...                  ...   \n",
              "99995                          NaN                Cash                    N   \n",
              "99996                          NaN                Cash                    N   \n",
              "99997                          NaN                Cash                    N   \n",
              "99998                          NaN                Cash                    N   \n",
              "99999                          NaN                Cash                    N   \n",
              "\n",
              "      debt_settlement_flag_date  settlement_status settlement_date  \\\n",
              "0                           NaN                NaN             NaN   \n",
              "1                           NaN                NaN             NaN   \n",
              "2                           NaN                NaN             NaN   \n",
              "3                           NaN                NaN             NaN   \n",
              "4                           NaN                NaN             NaN   \n",
              "...                         ...                ...             ...   \n",
              "99995                       NaN                NaN             NaN   \n",
              "99996                       NaN                NaN             NaN   \n",
              "99997                       NaN                NaN             NaN   \n",
              "99998                       NaN                NaN             NaN   \n",
              "99999                       NaN                NaN             NaN   \n",
              "\n",
              "      settlement_amount settlement_percentage settlement_term charged_off  \n",
              "0                   NaN                   NaN             NaN           0  \n",
              "1                   NaN                   NaN             NaN           1  \n",
              "2                   NaN                   NaN             NaN           0  \n",
              "3                   NaN                   NaN             NaN           0  \n",
              "4                   NaN                   NaN             NaN           1  \n",
              "...                 ...                   ...             ...         ...  \n",
              "99995               NaN                   NaN             NaN           0  \n",
              "99996               NaN                   NaN             NaN           0  \n",
              "99997               NaN                   NaN             NaN           0  \n",
              "99998               NaN                   NaN             NaN           1  \n",
              "99999               NaN                   NaN             NaN           0  \n",
              "\n",
              "[100000 rows x 151 columns]"
            ],
            "text/html": [
              "\n",
              "  <div id=\"df-b6d6d492-24a4-4bea-ac89-35724f28f918\">\n",
              "    <div class=\"colab-df-container\">\n",
              "      <div>\n",
              "<style scoped>\n",
              "    .dataframe tbody tr th:only-of-type {\n",
              "        vertical-align: middle;\n",
              "    }\n",
              "\n",
              "    .dataframe tbody tr th {\n",
              "        vertical-align: top;\n",
              "    }\n",
              "\n",
              "    .dataframe thead th {\n",
              "        text-align: right;\n",
              "    }\n",
              "</style>\n",
              "<table border=\"1\" class=\"dataframe\">\n",
              "  <thead>\n",
              "    <tr style=\"text-align: right;\">\n",
              "      <th></th>\n",
              "      <th>Unnamed: 0</th>\n",
              "      <th>id</th>\n",
              "      <th>member_id</th>\n",
              "      <th>loan_amnt</th>\n",
              "      <th>funded_amnt</th>\n",
              "      <th>funded_amnt_inv</th>\n",
              "      <th>term</th>\n",
              "      <th>int_rate</th>\n",
              "      <th>installment</th>\n",
              "      <th>grade</th>\n",
              "      <th>...</th>\n",
              "      <th>hardship_last_payment_amount</th>\n",
              "      <th>disbursement_method</th>\n",
              "      <th>debt_settlement_flag</th>\n",
              "      <th>debt_settlement_flag_date</th>\n",
              "      <th>settlement_status</th>\n",
              "      <th>settlement_date</th>\n",
              "      <th>settlement_amount</th>\n",
              "      <th>settlement_percentage</th>\n",
              "      <th>settlement_term</th>\n",
              "      <th>charged_off</th>\n",
              "    </tr>\n",
              "  </thead>\n",
              "  <tbody>\n",
              "    <tr>\n",
              "      <th>0</th>\n",
              "      <td>0</td>\n",
              "      <td>38098114</td>\n",
              "      <td>NaN</td>\n",
              "      <td>15000.0</td>\n",
              "      <td>15000.0</td>\n",
              "      <td>15000.0</td>\n",
              "      <td>60 months</td>\n",
              "      <td>12.39</td>\n",
              "      <td>336.64</td>\n",
              "      <td>C</td>\n",
              "      <td>...</td>\n",
              "      <td>NaN</td>\n",
              "      <td>Cash</td>\n",
              "      <td>N</td>\n",
              "      <td>NaN</td>\n",
              "      <td>NaN</td>\n",
              "      <td>NaN</td>\n",
              "      <td>NaN</td>\n",
              "      <td>NaN</td>\n",
              "      <td>NaN</td>\n",
              "      <td>0</td>\n",
              "    </tr>\n",
              "    <tr>\n",
              "      <th>1</th>\n",
              "      <td>1</td>\n",
              "      <td>36805548</td>\n",
              "      <td>NaN</td>\n",
              "      <td>10400.0</td>\n",
              "      <td>10400.0</td>\n",
              "      <td>10400.0</td>\n",
              "      <td>36 months</td>\n",
              "      <td>6.99</td>\n",
              "      <td>321.08</td>\n",
              "      <td>A</td>\n",
              "      <td>...</td>\n",
              "      <td>NaN</td>\n",
              "      <td>Cash</td>\n",
              "      <td>N</td>\n",
              "      <td>NaN</td>\n",
              "      <td>NaN</td>\n",
              "      <td>NaN</td>\n",
              "      <td>NaN</td>\n",
              "      <td>NaN</td>\n",
              "      <td>NaN</td>\n",
              "      <td>1</td>\n",
              "    </tr>\n",
              "    <tr>\n",
              "      <th>2</th>\n",
              "      <td>2</td>\n",
              "      <td>37842129</td>\n",
              "      <td>NaN</td>\n",
              "      <td>21425.0</td>\n",
              "      <td>21425.0</td>\n",
              "      <td>21425.0</td>\n",
              "      <td>60 months</td>\n",
              "      <td>15.59</td>\n",
              "      <td>516.36</td>\n",
              "      <td>D</td>\n",
              "      <td>...</td>\n",
              "      <td>NaN</td>\n",
              "      <td>Cash</td>\n",
              "      <td>N</td>\n",
              "      <td>NaN</td>\n",
              "      <td>NaN</td>\n",
              "      <td>NaN</td>\n",
              "      <td>NaN</td>\n",
              "      <td>NaN</td>\n",
              "      <td>NaN</td>\n",
              "      <td>0</td>\n",
              "    </tr>\n",
              "    <tr>\n",
              "      <th>3</th>\n",
              "      <td>3</td>\n",
              "      <td>37612354</td>\n",
              "      <td>NaN</td>\n",
              "      <td>12800.0</td>\n",
              "      <td>12800.0</td>\n",
              "      <td>12800.0</td>\n",
              "      <td>60 months</td>\n",
              "      <td>17.14</td>\n",
              "      <td>319.08</td>\n",
              "      <td>D</td>\n",
              "      <td>...</td>\n",
              "      <td>NaN</td>\n",
              "      <td>Cash</td>\n",
              "      <td>N</td>\n",
              "      <td>NaN</td>\n",
              "      <td>NaN</td>\n",
              "      <td>NaN</td>\n",
              "      <td>NaN</td>\n",
              "      <td>NaN</td>\n",
              "      <td>NaN</td>\n",
              "      <td>0</td>\n",
              "    </tr>\n",
              "    <tr>\n",
              "      <th>4</th>\n",
              "      <td>4</td>\n",
              "      <td>37662224</td>\n",
              "      <td>NaN</td>\n",
              "      <td>7650.0</td>\n",
              "      <td>7650.0</td>\n",
              "      <td>7650.0</td>\n",
              "      <td>36 months</td>\n",
              "      <td>13.66</td>\n",
              "      <td>260.20</td>\n",
              "      <td>C</td>\n",
              "      <td>...</td>\n",
              "      <td>NaN</td>\n",
              "      <td>Cash</td>\n",
              "      <td>N</td>\n",
              "      <td>NaN</td>\n",
              "      <td>NaN</td>\n",
              "      <td>NaN</td>\n",
              "      <td>NaN</td>\n",
              "      <td>NaN</td>\n",
              "      <td>NaN</td>\n",
              "      <td>1</td>\n",
              "    </tr>\n",
              "    <tr>\n",
              "      <th>...</th>\n",
              "      <td>...</td>\n",
              "      <td>...</td>\n",
              "      <td>...</td>\n",
              "      <td>...</td>\n",
              "      <td>...</td>\n",
              "      <td>...</td>\n",
              "      <td>...</td>\n",
              "      <td>...</td>\n",
              "      <td>...</td>\n",
              "      <td>...</td>\n",
              "      <td>...</td>\n",
              "      <td>...</td>\n",
              "      <td>...</td>\n",
              "      <td>...</td>\n",
              "      <td>...</td>\n",
              "      <td>...</td>\n",
              "      <td>...</td>\n",
              "      <td>...</td>\n",
              "      <td>...</td>\n",
              "      <td>...</td>\n",
              "      <td>...</td>\n",
              "    </tr>\n",
              "    <tr>\n",
              "      <th>99995</th>\n",
              "      <td>99995</td>\n",
              "      <td>22454240</td>\n",
              "      <td>NaN</td>\n",
              "      <td>8400.0</td>\n",
              "      <td>8400.0</td>\n",
              "      <td>8400.0</td>\n",
              "      <td>36 months</td>\n",
              "      <td>9.17</td>\n",
              "      <td>267.79</td>\n",
              "      <td>B</td>\n",
              "      <td>...</td>\n",
              "      <td>NaN</td>\n",
              "      <td>Cash</td>\n",
              "      <td>N</td>\n",
              "      <td>NaN</td>\n",
              "      <td>NaN</td>\n",
              "      <td>NaN</td>\n",
              "      <td>NaN</td>\n",
              "      <td>NaN</td>\n",
              "      <td>NaN</td>\n",
              "      <td>0</td>\n",
              "    </tr>\n",
              "    <tr>\n",
              "      <th>99996</th>\n",
              "      <td>99996</td>\n",
              "      <td>11396920</td>\n",
              "      <td>NaN</td>\n",
              "      <td>10000.0</td>\n",
              "      <td>10000.0</td>\n",
              "      <td>10000.0</td>\n",
              "      <td>36 months</td>\n",
              "      <td>12.99</td>\n",
              "      <td>336.90</td>\n",
              "      <td>C</td>\n",
              "      <td>...</td>\n",
              "      <td>NaN</td>\n",
              "      <td>Cash</td>\n",
              "      <td>N</td>\n",
              "      <td>NaN</td>\n",
              "      <td>NaN</td>\n",
              "      <td>NaN</td>\n",
              "      <td>NaN</td>\n",
              "      <td>NaN</td>\n",
              "      <td>NaN</td>\n",
              "      <td>0</td>\n",
              "    </tr>\n",
              "    <tr>\n",
              "      <th>99997</th>\n",
              "      <td>99997</td>\n",
              "      <td>8556176</td>\n",
              "      <td>NaN</td>\n",
              "      <td>30000.0</td>\n",
              "      <td>30000.0</td>\n",
              "      <td>30000.0</td>\n",
              "      <td>60 months</td>\n",
              "      <td>20.99</td>\n",
              "      <td>811.44</td>\n",
              "      <td>E</td>\n",
              "      <td>...</td>\n",
              "      <td>NaN</td>\n",
              "      <td>Cash</td>\n",
              "      <td>N</td>\n",
              "      <td>NaN</td>\n",
              "      <td>NaN</td>\n",
              "      <td>NaN</td>\n",
              "      <td>NaN</td>\n",
              "      <td>NaN</td>\n",
              "      <td>NaN</td>\n",
              "      <td>0</td>\n",
              "    </tr>\n",
              "    <tr>\n",
              "      <th>99998</th>\n",
              "      <td>99998</td>\n",
              "      <td>24023408</td>\n",
              "      <td>NaN</td>\n",
              "      <td>8475.0</td>\n",
              "      <td>8475.0</td>\n",
              "      <td>8475.0</td>\n",
              "      <td>36 months</td>\n",
              "      <td>24.99</td>\n",
              "      <td>336.92</td>\n",
              "      <td>F</td>\n",
              "      <td>...</td>\n",
              "      <td>NaN</td>\n",
              "      <td>Cash</td>\n",
              "      <td>N</td>\n",
              "      <td>NaN</td>\n",
              "      <td>NaN</td>\n",
              "      <td>NaN</td>\n",
              "      <td>NaN</td>\n",
              "      <td>NaN</td>\n",
              "      <td>NaN</td>\n",
              "      <td>1</td>\n",
              "    </tr>\n",
              "    <tr>\n",
              "      <th>99999</th>\n",
              "      <td>99999</td>\n",
              "      <td>24023398</td>\n",
              "      <td>NaN</td>\n",
              "      <td>25000.0</td>\n",
              "      <td>25000.0</td>\n",
              "      <td>25000.0</td>\n",
              "      <td>36 months</td>\n",
              "      <td>10.15</td>\n",
              "      <td>808.45</td>\n",
              "      <td>B</td>\n",
              "      <td>...</td>\n",
              "      <td>NaN</td>\n",
              "      <td>Cash</td>\n",
              "      <td>N</td>\n",
              "      <td>NaN</td>\n",
              "      <td>NaN</td>\n",
              "      <td>NaN</td>\n",
              "      <td>NaN</td>\n",
              "      <td>NaN</td>\n",
              "      <td>NaN</td>\n",
              "      <td>0</td>\n",
              "    </tr>\n",
              "  </tbody>\n",
              "</table>\n",
              "<p>100000 rows × 151 columns</p>\n",
              "</div>\n",
              "      <button class=\"colab-df-convert\" onclick=\"convertToInteractive('df-b6d6d492-24a4-4bea-ac89-35724f28f918')\"\n",
              "              title=\"Convert this dataframe to an interactive table.\"\n",
              "              style=\"display:none;\">\n",
              "        \n",
              "  <svg xmlns=\"http://www.w3.org/2000/svg\" height=\"24px\"viewBox=\"0 0 24 24\"\n",
              "       width=\"24px\">\n",
              "    <path d=\"M0 0h24v24H0V0z\" fill=\"none\"/>\n",
              "    <path d=\"M18.56 5.44l.94 2.06.94-2.06 2.06-.94-2.06-.94-.94-2.06-.94 2.06-2.06.94zm-11 1L8.5 8.5l.94-2.06 2.06-.94-2.06-.94L8.5 2.5l-.94 2.06-2.06.94zm10 10l.94 2.06.94-2.06 2.06-.94-2.06-.94-.94-2.06-.94 2.06-2.06.94z\"/><path d=\"M17.41 7.96l-1.37-1.37c-.4-.4-.92-.59-1.43-.59-.52 0-1.04.2-1.43.59L10.3 9.45l-7.72 7.72c-.78.78-.78 2.05 0 2.83L4 21.41c.39.39.9.59 1.41.59.51 0 1.02-.2 1.41-.59l7.78-7.78 2.81-2.81c.8-.78.8-2.07 0-2.86zM5.41 20L4 18.59l7.72-7.72 1.47 1.35L5.41 20z\"/>\n",
              "  </svg>\n",
              "      </button>\n",
              "      \n",
              "  <style>\n",
              "    .colab-df-container {\n",
              "      display:flex;\n",
              "      flex-wrap:wrap;\n",
              "      gap: 12px;\n",
              "    }\n",
              "\n",
              "    .colab-df-convert {\n",
              "      background-color: #E8F0FE;\n",
              "      border: none;\n",
              "      border-radius: 50%;\n",
              "      cursor: pointer;\n",
              "      display: none;\n",
              "      fill: #1967D2;\n",
              "      height: 32px;\n",
              "      padding: 0 0 0 0;\n",
              "      width: 32px;\n",
              "    }\n",
              "\n",
              "    .colab-df-convert:hover {\n",
              "      background-color: #E2EBFA;\n",
              "      box-shadow: 0px 1px 2px rgba(60, 64, 67, 0.3), 0px 1px 3px 1px rgba(60, 64, 67, 0.15);\n",
              "      fill: #174EA6;\n",
              "    }\n",
              "\n",
              "    [theme=dark] .colab-df-convert {\n",
              "      background-color: #3B4455;\n",
              "      fill: #D2E3FC;\n",
              "    }\n",
              "\n",
              "    [theme=dark] .colab-df-convert:hover {\n",
              "      background-color: #434B5C;\n",
              "      box-shadow: 0px 1px 3px 1px rgba(0, 0, 0, 0.15);\n",
              "      filter: drop-shadow(0px 1px 2px rgba(0, 0, 0, 0.3));\n",
              "      fill: #FFFFFF;\n",
              "    }\n",
              "  </style>\n",
              "\n",
              "      <script>\n",
              "        const buttonEl =\n",
              "          document.querySelector('#df-b6d6d492-24a4-4bea-ac89-35724f28f918 button.colab-df-convert');\n",
              "        buttonEl.style.display =\n",
              "          google.colab.kernel.accessAllowed ? 'block' : 'none';\n",
              "\n",
              "        async function convertToInteractive(key) {\n",
              "          const element = document.querySelector('#df-b6d6d492-24a4-4bea-ac89-35724f28f918');\n",
              "          const dataTable =\n",
              "            await google.colab.kernel.invokeFunction('convertToInteractive',\n",
              "                                                     [key], {});\n",
              "          if (!dataTable) return;\n",
              "\n",
              "          const docLinkHtml = 'Like what you see? Visit the ' +\n",
              "            '<a target=\"_blank\" href=https://colab.research.google.com/notebooks/data_table.ipynb>data table notebook</a>'\n",
              "            + ' to learn more about interactive tables.';\n",
              "          element.innerHTML = '';\n",
              "          dataTable['output_type'] = 'display_data';\n",
              "          await google.colab.output.renderOutput(dataTable, element);\n",
              "          const docLink = document.createElement('div');\n",
              "          docLink.innerHTML = docLinkHtml;\n",
              "          element.appendChild(docLink);\n",
              "        }\n",
              "      </script>\n",
              "    </div>\n",
              "  </div>\n",
              "  "
            ]
          },
          "metadata": {},
          "execution_count": 157
        }
      ]
    }
  ]
}